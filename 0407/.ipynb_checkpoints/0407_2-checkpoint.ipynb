{
 "cells": [
  {
   "cell_type": "markdown",
   "id": "be6438e0",
   "metadata": {},
   "source": [
    "## 3. 판다스의 시리즈"
   ]
  },
  {
   "cell_type": "code",
   "execution_count": 1,
   "id": "5fb9eb20",
   "metadata": {},
   "outputs": [
    {
     "data": {
      "text/plain": [
       "0    1\n",
       "1    2\n",
       "2    3\n",
       "3    4\n",
       "4    5\n",
       "dtype: int64"
      ]
     },
     "execution_count": 1,
     "metadata": {},
     "output_type": "execute_result"
    }
   ],
   "source": [
    "import pandas as pd\n",
    "import numpy as np\n",
    "from pandas import Series,DataFrame\n",
    "data_l=[1,2,3,4,5]\n",
    "e_obj=Series(data_l)\n",
    "e_obj"
   ]
  },
  {
   "cell_type": "code",
   "execution_count": 2,
   "id": "c48c5184",
   "metadata": {},
   "outputs": [
    {
     "data": {
      "text/plain": [
       "1    1\n",
       "2    2\n",
       "3    3\n",
       "4    4\n",
       "1    5\n",
       "dtype: int64"
      ]
     },
     "execution_count": 2,
     "metadata": {},
     "output_type": "execute_result"
    }
   ],
   "source": [
    "idx_l=[1,2,3,4,1]\n",
    "e_obj=Series(data=data_l,index=idx_l)\n",
    "e_obj"
   ]
  },
  {
   "cell_type": "code",
   "execution_count": 3,
   "id": "27326977",
   "metadata": {},
   "outputs": [
    {
     "data": {
      "text/plain": [
       "a    1\n",
       "b    2\n",
       "c    3\n",
       "d    4\n",
       "e    5\n",
       "dtype: int64"
      ]
     },
     "execution_count": 3,
     "metadata": {},
     "output_type": "execute_result"
    }
   ],
   "source": [
    "idx_l=['a','b','c','d','e']\n",
    "e_obj=Series(data=data_l,index=idx_l)\n",
    "e_obj"
   ]
  },
  {
   "cell_type": "code",
   "execution_count": 4,
   "id": "7358413f",
   "metadata": {},
   "outputs": [
    {
     "data": {
      "text/plain": [
       "a    [1, 2, 3, 4, 5]\n",
       "b    [1, 2, 3, 4, 5]\n",
       "c    [1, 2, 3, 4, 5]\n",
       "d    [1, 2, 3, 4, 5]\n",
       "e    [1, 2, 3, 4, 5]\n",
       "dtype: object"
      ]
     },
     "execution_count": 4,
     "metadata": {},
     "output_type": "execute_result"
    }
   ],
   "source": [
    "e_obj=Series(data=[data_l,data_l,data_l,data_l,data_l],index=idx_l)#시리즈는 단일데이터\n",
    "e_obj"
   ]
  },
  {
   "cell_type": "code",
   "execution_count": 5,
   "id": "2ab480f9",
   "metadata": {},
   "outputs": [
    {
     "data": {
      "text/plain": [
       "Index(['a', 'b', 'c', 'd', 'e'], dtype='object')"
      ]
     },
     "execution_count": 5,
     "metadata": {},
     "output_type": "execute_result"
    }
   ],
   "source": [
    "e_obj.index"
   ]
  },
  {
   "cell_type": "code",
   "execution_count": 6,
   "id": "fb7837ec",
   "metadata": {},
   "outputs": [
    {
     "data": {
      "text/plain": [
       "array([list([1, 2, 3, 4, 5]), list([1, 2, 3, 4, 5]),\n",
       "       list([1, 2, 3, 4, 5]), list([1, 2, 3, 4, 5]),\n",
       "       list([1, 2, 3, 4, 5])], dtype=object)"
      ]
     },
     "execution_count": 6,
     "metadata": {},
     "output_type": "execute_result"
    }
   ],
   "source": [
    "e_obj.values"
   ]
  },
  {
   "cell_type": "code",
   "execution_count": 7,
   "id": "dd2db56b",
   "metadata": {},
   "outputs": [
    {
     "data": {
      "text/plain": [
       "id\n",
       "a    [1, 2, 3, 4, 5]\n",
       "b    [1, 2, 3, 4, 5]\n",
       "c    [1, 2, 3, 4, 5]\n",
       "d    [1, 2, 3, 4, 5]\n",
       "e    [1, 2, 3, 4, 5]\n",
       "Name: data_s, dtype: object"
      ]
     },
     "execution_count": 7,
     "metadata": {},
     "output_type": "execute_result"
    }
   ],
   "source": [
    "e_obj.name=\"data_s\"\n",
    "e_obj.index.name=\"id\"\n",
    "\n",
    "e_obj"
   ]
  },
  {
   "cell_type": "code",
   "execution_count": 8,
   "id": "67c50ca1",
   "metadata": {},
   "outputs": [
    {
     "data": {
      "text/plain": [
       "a    1.0\n",
       "b    2.0\n",
       "c    3.0\n",
       "d    4.0\n",
       "e    5.0\n",
       "Name: data, dtype: float32"
      ]
     },
     "execution_count": 8,
     "metadata": {},
     "output_type": "execute_result"
    }
   ],
   "source": [
    "dic={'a':1,\"b\":2,\"c\":3,\"d\":4,\"e\":5}\n",
    "e_obj=Series(dic,dtype=np.float32,name=\"data\")\n",
    "e_obj"
   ]
  },
  {
   "cell_type": "code",
   "execution_count": 9,
   "id": "c9792d00",
   "metadata": {},
   "outputs": [
    {
     "data": {
      "text/plain": [
       "a    1.0\n",
       "b    2.0\n",
       "c    3.0\n",
       "d    4.0\n",
       "e    5.0\n",
       "f    NaN\n",
       "h    NaN\n",
       "dtype: float64"
      ]
     },
     "execution_count": 9,
     "metadata": {},
     "output_type": "execute_result"
    }
   ],
   "source": [
    "idx_d=['a','b','c','d','e','f','h']\n",
    "dic={'a':1,\"b\":2,\"c\":3,\"d\":4,\"e\":5,\"g\":6}\n",
    "e_obj=Series(dic,index=idx_d)\n",
    "e_obj"
   ]
  },
  {
   "cell_type": "code",
   "execution_count": 10,
   "id": "9e23dd35",
   "metadata": {},
   "outputs": [
    {
     "data": {
      "text/plain": [
       "이름          [홍길동, 도우너, 둘리]\n",
       "계좌번호    [1234, 4321, 4567]\n",
       "금액       [10000, 100, 500]\n",
       "dtype: object"
      ]
     },
     "execution_count": 10,
     "metadata": {},
     "output_type": "execute_result"
    }
   ],
   "source": [
    "data={\n",
    "    '이름':[\"홍길동\",\"도우너\",\"둘리\"],\n",
    "    '계좌번호':[\"1234\",\"4321\",\"4567\"],\n",
    "    '금액':[10000,100,500]\n",
    "}\n",
    "e_obj=Series(data)#2차원\n",
    "e_obj"
   ]
  },
  {
   "cell_type": "code",
   "execution_count": 11,
   "id": "4e170092",
   "metadata": {},
   "outputs": [
    {
     "data": {
      "text/html": [
       "<div>\n",
       "<style scoped>\n",
       "    .dataframe tbody tr th:only-of-type {\n",
       "        vertical-align: middle;\n",
       "    }\n",
       "\n",
       "    .dataframe tbody tr th {\n",
       "        vertical-align: top;\n",
       "    }\n",
       "\n",
       "    .dataframe thead th {\n",
       "        text-align: right;\n",
       "    }\n",
       "</style>\n",
       "<table border=\"1\" class=\"dataframe\">\n",
       "  <thead>\n",
       "    <tr style=\"text-align: right;\">\n",
       "      <th></th>\n",
       "      <th>이름</th>\n",
       "      <th>계좌번호</th>\n",
       "      <th>금액</th>\n",
       "    </tr>\n",
       "  </thead>\n",
       "  <tbody>\n",
       "    <tr>\n",
       "      <th>0</th>\n",
       "      <td>홍길동</td>\n",
       "      <td>1234</td>\n",
       "      <td>10000</td>\n",
       "    </tr>\n",
       "    <tr>\n",
       "      <th>1</th>\n",
       "      <td>도우너</td>\n",
       "      <td>4321</td>\n",
       "      <td>100</td>\n",
       "    </tr>\n",
       "    <tr>\n",
       "      <th>2</th>\n",
       "      <td>둘리</td>\n",
       "      <td>4567</td>\n",
       "      <td>500</td>\n",
       "    </tr>\n",
       "  </tbody>\n",
       "</table>\n",
       "</div>"
      ],
      "text/plain": [
       "    이름  계좌번호     금액\n",
       "0  홍길동  1234  10000\n",
       "1  도우너  4321    100\n",
       "2   둘리  4567    500"
      ]
     },
     "execution_count": 11,
     "metadata": {},
     "output_type": "execute_result"
    }
   ],
   "source": [
    "data={\n",
    "    '이름':[\"홍길동\",\"도우너\",\"둘리\"],\n",
    "    '계좌번호':[\"1234\",\"4321\",\"4567\"],\n",
    "    '금액':[10000,100,500]\n",
    "}\n",
    "e_obj=DataFrame(data,index=[\"1번고객\",\"2번고객\",\"3번고객\"])#2차원\n",
    "e_obj.index.name='고객번호'\n",
    "e_obj.reset_index(drop=True, inplace=True)\n",
    "e_obj"
   ]
  },
  {
   "cell_type": "code",
   "execution_count": 12,
   "id": "541eb76e",
   "metadata": {
    "scrolled": true
   },
   "outputs": [
    {
     "data": {
      "text/html": [
       "<div>\n",
       "<style scoped>\n",
       "    .dataframe tbody tr th:only-of-type {\n",
       "        vertical-align: middle;\n",
       "    }\n",
       "\n",
       "    .dataframe tbody tr th {\n",
       "        vertical-align: top;\n",
       "    }\n",
       "\n",
       "    .dataframe thead th {\n",
       "        text-align: right;\n",
       "    }\n",
       "</style>\n",
       "<table border=\"1\" class=\"dataframe\">\n",
       "  <thead>\n",
       "    <tr style=\"text-align: right;\">\n",
       "      <th></th>\n",
       "      <th>계좌번호</th>\n",
       "      <th>금액</th>\n",
       "    </tr>\n",
       "    <tr>\n",
       "      <th>이름</th>\n",
       "      <th></th>\n",
       "      <th></th>\n",
       "    </tr>\n",
       "  </thead>\n",
       "  <tbody>\n",
       "    <tr>\n",
       "      <th>홍길동</th>\n",
       "      <td>1234</td>\n",
       "      <td>10000</td>\n",
       "    </tr>\n",
       "    <tr>\n",
       "      <th>둘리</th>\n",
       "      <td>4567</td>\n",
       "      <td>500</td>\n",
       "    </tr>\n",
       "    <tr>\n",
       "      <th>도우너</th>\n",
       "      <td>4321</td>\n",
       "      <td>100</td>\n",
       "    </tr>\n",
       "  </tbody>\n",
       "</table>\n",
       "</div>"
      ],
      "text/plain": [
       "     계좌번호     금액\n",
       "이름              \n",
       "홍길동  1234  10000\n",
       "둘리   4567    500\n",
       "도우너  4321    100"
      ]
     },
     "execution_count": 12,
     "metadata": {},
     "output_type": "execute_result"
    }
   ],
   "source": [
    "e_obj.set_index(\"이름\",inplace=True)\n",
    "e_obj.sort_index(ascending=False)"
   ]
  },
  {
   "cell_type": "code",
   "execution_count": 13,
   "id": "0f425d90",
   "metadata": {
    "scrolled": false
   },
   "outputs": [
    {
     "data": {
      "text/html": [
       "<div>\n",
       "<style scoped>\n",
       "    .dataframe tbody tr th:only-of-type {\n",
       "        vertical-align: middle;\n",
       "    }\n",
       "\n",
       "    .dataframe tbody tr th {\n",
       "        vertical-align: top;\n",
       "    }\n",
       "\n",
       "    .dataframe thead th {\n",
       "        text-align: right;\n",
       "    }\n",
       "</style>\n",
       "<table border=\"1\" class=\"dataframe\">\n",
       "  <thead>\n",
       "    <tr style=\"text-align: right;\">\n",
       "      <th></th>\n",
       "      <th>0</th>\n",
       "      <th>1</th>\n",
       "      <th>2</th>\n",
       "      <th>3</th>\n",
       "      <th>4</th>\n",
       "      <th>5</th>\n",
       "      <th>6</th>\n",
       "      <th>7</th>\n",
       "      <th>8</th>\n",
       "      <th>9</th>\n",
       "      <th>10</th>\n",
       "      <th>11</th>\n",
       "      <th>12</th>\n",
       "      <th>13</th>\n",
       "    </tr>\n",
       "  </thead>\n",
       "  <tbody>\n",
       "    <tr>\n",
       "      <th>0</th>\n",
       "      <td>0.00632</td>\n",
       "      <td>18.0</td>\n",
       "      <td>2.31</td>\n",
       "      <td>0</td>\n",
       "      <td>0.538</td>\n",
       "      <td>6.575</td>\n",
       "      <td>65.2</td>\n",
       "      <td>4.0900</td>\n",
       "      <td>1</td>\n",
       "      <td>296.0</td>\n",
       "      <td>15.3</td>\n",
       "      <td>396.90</td>\n",
       "      <td>4.98</td>\n",
       "      <td>24.0</td>\n",
       "    </tr>\n",
       "    <tr>\n",
       "      <th>1</th>\n",
       "      <td>0.02731</td>\n",
       "      <td>0.0</td>\n",
       "      <td>7.07</td>\n",
       "      <td>0</td>\n",
       "      <td>0.469</td>\n",
       "      <td>6.421</td>\n",
       "      <td>78.9</td>\n",
       "      <td>4.9671</td>\n",
       "      <td>2</td>\n",
       "      <td>242.0</td>\n",
       "      <td>17.8</td>\n",
       "      <td>396.90</td>\n",
       "      <td>9.14</td>\n",
       "      <td>21.6</td>\n",
       "    </tr>\n",
       "    <tr>\n",
       "      <th>2</th>\n",
       "      <td>0.02729</td>\n",
       "      <td>0.0</td>\n",
       "      <td>7.07</td>\n",
       "      <td>0</td>\n",
       "      <td>0.469</td>\n",
       "      <td>7.185</td>\n",
       "      <td>61.1</td>\n",
       "      <td>4.9671</td>\n",
       "      <td>2</td>\n",
       "      <td>242.0</td>\n",
       "      <td>17.8</td>\n",
       "      <td>392.83</td>\n",
       "      <td>4.03</td>\n",
       "      <td>34.7</td>\n",
       "    </tr>\n",
       "    <tr>\n",
       "      <th>3</th>\n",
       "      <td>0.03237</td>\n",
       "      <td>0.0</td>\n",
       "      <td>2.18</td>\n",
       "      <td>0</td>\n",
       "      <td>0.458</td>\n",
       "      <td>6.998</td>\n",
       "      <td>45.8</td>\n",
       "      <td>6.0622</td>\n",
       "      <td>3</td>\n",
       "      <td>222.0</td>\n",
       "      <td>18.7</td>\n",
       "      <td>394.63</td>\n",
       "      <td>2.94</td>\n",
       "      <td>33.4</td>\n",
       "    </tr>\n",
       "    <tr>\n",
       "      <th>4</th>\n",
       "      <td>0.06905</td>\n",
       "      <td>0.0</td>\n",
       "      <td>2.18</td>\n",
       "      <td>0</td>\n",
       "      <td>0.458</td>\n",
       "      <td>7.147</td>\n",
       "      <td>54.2</td>\n",
       "      <td>6.0622</td>\n",
       "      <td>3</td>\n",
       "      <td>222.0</td>\n",
       "      <td>18.7</td>\n",
       "      <td>396.90</td>\n",
       "      <td>5.33</td>\n",
       "      <td>36.2</td>\n",
       "    </tr>\n",
       "    <tr>\n",
       "      <th>...</th>\n",
       "      <td>...</td>\n",
       "      <td>...</td>\n",
       "      <td>...</td>\n",
       "      <td>...</td>\n",
       "      <td>...</td>\n",
       "      <td>...</td>\n",
       "      <td>...</td>\n",
       "      <td>...</td>\n",
       "      <td>...</td>\n",
       "      <td>...</td>\n",
       "      <td>...</td>\n",
       "      <td>...</td>\n",
       "      <td>...</td>\n",
       "      <td>...</td>\n",
       "    </tr>\n",
       "    <tr>\n",
       "      <th>501</th>\n",
       "      <td>0.06263</td>\n",
       "      <td>0.0</td>\n",
       "      <td>11.93</td>\n",
       "      <td>0</td>\n",
       "      <td>0.573</td>\n",
       "      <td>6.593</td>\n",
       "      <td>69.1</td>\n",
       "      <td>2.4786</td>\n",
       "      <td>1</td>\n",
       "      <td>273.0</td>\n",
       "      <td>21.0</td>\n",
       "      <td>391.99</td>\n",
       "      <td>9.67</td>\n",
       "      <td>22.4</td>\n",
       "    </tr>\n",
       "    <tr>\n",
       "      <th>502</th>\n",
       "      <td>0.04527</td>\n",
       "      <td>0.0</td>\n",
       "      <td>11.93</td>\n",
       "      <td>0</td>\n",
       "      <td>0.573</td>\n",
       "      <td>6.120</td>\n",
       "      <td>76.7</td>\n",
       "      <td>2.2875</td>\n",
       "      <td>1</td>\n",
       "      <td>273.0</td>\n",
       "      <td>21.0</td>\n",
       "      <td>396.90</td>\n",
       "      <td>9.08</td>\n",
       "      <td>20.6</td>\n",
       "    </tr>\n",
       "    <tr>\n",
       "      <th>503</th>\n",
       "      <td>0.06076</td>\n",
       "      <td>0.0</td>\n",
       "      <td>11.93</td>\n",
       "      <td>0</td>\n",
       "      <td>0.573</td>\n",
       "      <td>6.976</td>\n",
       "      <td>91.0</td>\n",
       "      <td>2.1675</td>\n",
       "      <td>1</td>\n",
       "      <td>273.0</td>\n",
       "      <td>21.0</td>\n",
       "      <td>396.90</td>\n",
       "      <td>5.64</td>\n",
       "      <td>23.9</td>\n",
       "    </tr>\n",
       "    <tr>\n",
       "      <th>504</th>\n",
       "      <td>0.10959</td>\n",
       "      <td>0.0</td>\n",
       "      <td>11.93</td>\n",
       "      <td>0</td>\n",
       "      <td>0.573</td>\n",
       "      <td>6.794</td>\n",
       "      <td>89.3</td>\n",
       "      <td>2.3889</td>\n",
       "      <td>1</td>\n",
       "      <td>273.0</td>\n",
       "      <td>21.0</td>\n",
       "      <td>393.45</td>\n",
       "      <td>6.48</td>\n",
       "      <td>22.0</td>\n",
       "    </tr>\n",
       "    <tr>\n",
       "      <th>505</th>\n",
       "      <td>0.04741</td>\n",
       "      <td>0.0</td>\n",
       "      <td>11.93</td>\n",
       "      <td>0</td>\n",
       "      <td>0.573</td>\n",
       "      <td>6.030</td>\n",
       "      <td>80.8</td>\n",
       "      <td>2.5050</td>\n",
       "      <td>1</td>\n",
       "      <td>273.0</td>\n",
       "      <td>21.0</td>\n",
       "      <td>396.90</td>\n",
       "      <td>7.88</td>\n",
       "      <td>11.9</td>\n",
       "    </tr>\n",
       "  </tbody>\n",
       "</table>\n",
       "<p>506 rows × 14 columns</p>\n",
       "</div>"
      ],
      "text/plain": [
       "          0     1      2   3      4      5     6       7   8      9     10  \\\n",
       "0    0.00632  18.0   2.31   0  0.538  6.575  65.2  4.0900   1  296.0  15.3   \n",
       "1    0.02731   0.0   7.07   0  0.469  6.421  78.9  4.9671   2  242.0  17.8   \n",
       "2    0.02729   0.0   7.07   0  0.469  7.185  61.1  4.9671   2  242.0  17.8   \n",
       "3    0.03237   0.0   2.18   0  0.458  6.998  45.8  6.0622   3  222.0  18.7   \n",
       "4    0.06905   0.0   2.18   0  0.458  7.147  54.2  6.0622   3  222.0  18.7   \n",
       "..       ...   ...    ...  ..    ...    ...   ...     ...  ..    ...   ...   \n",
       "501  0.06263   0.0  11.93   0  0.573  6.593  69.1  2.4786   1  273.0  21.0   \n",
       "502  0.04527   0.0  11.93   0  0.573  6.120  76.7  2.2875   1  273.0  21.0   \n",
       "503  0.06076   0.0  11.93   0  0.573  6.976  91.0  2.1675   1  273.0  21.0   \n",
       "504  0.10959   0.0  11.93   0  0.573  6.794  89.3  2.3889   1  273.0  21.0   \n",
       "505  0.04741   0.0  11.93   0  0.573  6.030  80.8  2.5050   1  273.0  21.0   \n",
       "\n",
       "         11    12    13  \n",
       "0    396.90  4.98  24.0  \n",
       "1    396.90  9.14  21.6  \n",
       "2    392.83  4.03  34.7  \n",
       "3    394.63  2.94  33.4  \n",
       "4    396.90  5.33  36.2  \n",
       "..      ...   ...   ...  \n",
       "501  391.99  9.67  22.4  \n",
       "502  396.90  9.08  20.6  \n",
       "503  396.90  5.64  23.9  \n",
       "504  393.45  6.48  22.0  \n",
       "505  396.90  7.88  11.9  \n",
       "\n",
       "[506 rows x 14 columns]"
      ]
     },
     "execution_count": 13,
     "metadata": {},
     "output_type": "execute_result"
    }
   ],
   "source": [
    "df_data=pd.read_csv('housing.data',sep='\\s+',header=None)\n",
    "df=pd.DataFrame(df_data)\n",
    "df"
   ]
  },
  {
   "cell_type": "code",
   "execution_count": 14,
   "id": "64bc2686",
   "metadata": {},
   "outputs": [
    {
     "data": {
      "text/html": [
       "<div>\n",
       "<style scoped>\n",
       "    .dataframe tbody tr th:only-of-type {\n",
       "        vertical-align: middle;\n",
       "    }\n",
       "\n",
       "    .dataframe tbody tr th {\n",
       "        vertical-align: top;\n",
       "    }\n",
       "\n",
       "    .dataframe thead th {\n",
       "        text-align: right;\n",
       "    }\n",
       "</style>\n",
       "<table border=\"1\" class=\"dataframe\">\n",
       "  <thead>\n",
       "    <tr style=\"text-align: right;\">\n",
       "      <th></th>\n",
       "      <th>이름</th>\n",
       "      <th>계좌번호</th>\n",
       "      <th>금액</th>\n",
       "      <th>은행</th>\n",
       "    </tr>\n",
       "  </thead>\n",
       "  <tbody>\n",
       "    <tr>\n",
       "      <th>1번고객</th>\n",
       "      <td>홍길동</td>\n",
       "      <td>1234</td>\n",
       "      <td>10000</td>\n",
       "      <td>국민</td>\n",
       "    </tr>\n",
       "    <tr>\n",
       "      <th>2번고객</th>\n",
       "      <td>도우너</td>\n",
       "      <td>4321</td>\n",
       "      <td>100</td>\n",
       "      <td>하나</td>\n",
       "    </tr>\n",
       "    <tr>\n",
       "      <th>3번고객</th>\n",
       "      <td>희동이</td>\n",
       "      <td>4567</td>\n",
       "      <td>500</td>\n",
       "      <td>우리</td>\n",
       "    </tr>\n",
       "    <tr>\n",
       "      <th>4번고객</th>\n",
       "      <td>고길동</td>\n",
       "      <td>7894</td>\n",
       "      <td>50000</td>\n",
       "      <td>신한</td>\n",
       "    </tr>\n",
       "  </tbody>\n",
       "</table>\n",
       "</div>"
      ],
      "text/plain": [
       "       이름  계좌번호     금액  은행\n",
       "1번고객  홍길동  1234  10000  국민\n",
       "2번고객  도우너  4321    100  하나\n",
       "3번고객  희동이  4567    500  우리\n",
       "4번고객  고길동  7894  50000  신한"
      ]
     },
     "execution_count": 14,
     "metadata": {},
     "output_type": "execute_result"
    }
   ],
   "source": [
    "data={\n",
    "    '이름':[\"홍길동\",\"도우너\",\"희동이\",\"고길동\"],\n",
    "    '계좌번호':['1234','4321','4567','7894'],\n",
    "    '금액':[10000,100,500,50000],\n",
    "    '은행':['국민','하나','우리','신한']\n",
    "}\n",
    "df=DataFrame(data,index=[\"1번고객\",\"2번고객\",\"3번고객\",\"4번고객\"])#2차원\n",
    "df"
   ]
  },
  {
   "cell_type": "markdown",
   "id": "4f5d1f3e",
   "metadata": {},
   "source": [
    "## csv파일로 저장"
   ]
  },
  {
   "cell_type": "code",
   "execution_count": 15,
   "id": "271d6b5b",
   "metadata": {},
   "outputs": [],
   "source": [
    "df.to_csv(\"data_1.csv\",encoding='utf-8-sig')#index포함하여 저장"
   ]
  },
  {
   "cell_type": "code",
   "execution_count": 16,
   "id": "86a9e76c",
   "metadata": {},
   "outputs": [],
   "source": [
    "df.to_csv(\"data_2.csv\",encoding='utf-8-sig',index=False)#index제외하여 저장"
   ]
  },
  {
   "cell_type": "markdown",
   "id": "5ff3795f",
   "metadata": {},
   "source": [
    "## 텍스트(.txt)저장"
   ]
  },
  {
   "cell_type": "code",
   "execution_count": 17,
   "id": "8e632c7c",
   "metadata": {},
   "outputs": [],
   "source": [
    "df.to_csv('data3.txt',sep='\\t')"
   ]
  },
  {
   "cell_type": "markdown",
   "id": "1aa28186",
   "metadata": {},
   "source": [
    "## 엑셀파일 저장"
   ]
  },
  {
   "cell_type": "code",
   "execution_count": 18,
   "id": "d92e3a2f",
   "metadata": {},
   "outputs": [],
   "source": [
    "df.to_excel(\"data4.xlsx\")"
   ]
  },
  {
   "cell_type": "markdown",
   "id": "94d6c329",
   "metadata": {},
   "source": [
    "## 열기"
   ]
  },
  {
   "cell_type": "code",
   "execution_count": 19,
   "id": "c3fb76de",
   "metadata": {},
   "outputs": [
    {
     "data": {
      "text/html": [
       "<div>\n",
       "<style scoped>\n",
       "    .dataframe tbody tr th:only-of-type {\n",
       "        vertical-align: middle;\n",
       "    }\n",
       "\n",
       "    .dataframe tbody tr th {\n",
       "        vertical-align: top;\n",
       "    }\n",
       "\n",
       "    .dataframe thead th {\n",
       "        text-align: right;\n",
       "    }\n",
       "</style>\n",
       "<table border=\"1\" class=\"dataframe\">\n",
       "  <thead>\n",
       "    <tr style=\"text-align: right;\">\n",
       "      <th></th>\n",
       "      <th>Unnamed: 0</th>\n",
       "      <th>이름</th>\n",
       "      <th>계좌번호</th>\n",
       "      <th>금액</th>\n",
       "      <th>은행</th>\n",
       "    </tr>\n",
       "  </thead>\n",
       "  <tbody>\n",
       "    <tr>\n",
       "      <th>0</th>\n",
       "      <td>1번고객</td>\n",
       "      <td>홍길동</td>\n",
       "      <td>1234</td>\n",
       "      <td>10000</td>\n",
       "      <td>국민</td>\n",
       "    </tr>\n",
       "    <tr>\n",
       "      <th>1</th>\n",
       "      <td>2번고객</td>\n",
       "      <td>도우너</td>\n",
       "      <td>4321</td>\n",
       "      <td>100</td>\n",
       "      <td>하나</td>\n",
       "    </tr>\n",
       "    <tr>\n",
       "      <th>2</th>\n",
       "      <td>3번고객</td>\n",
       "      <td>희동이</td>\n",
       "      <td>4567</td>\n",
       "      <td>500</td>\n",
       "      <td>우리</td>\n",
       "    </tr>\n",
       "    <tr>\n",
       "      <th>3</th>\n",
       "      <td>4번고객</td>\n",
       "      <td>고길동</td>\n",
       "      <td>7894</td>\n",
       "      <td>50000</td>\n",
       "      <td>신한</td>\n",
       "    </tr>\n",
       "  </tbody>\n",
       "</table>\n",
       "</div>"
      ],
      "text/plain": [
       "  Unnamed: 0   이름  계좌번호     금액  은행\n",
       "0       1번고객  홍길동  1234  10000  국민\n",
       "1       2번고객  도우너  4321    100  하나\n",
       "2       3번고객  희동이  4567    500  우리\n",
       "3       4번고객  고길동  7894  50000  신한"
      ]
     },
     "execution_count": 19,
     "metadata": {},
     "output_type": "execute_result"
    }
   ],
   "source": [
    "df=pd.read_csv('data_1.csv')\n",
    "df"
   ]
  },
  {
   "cell_type": "code",
   "execution_count": 20,
   "id": "09b3dc4b",
   "metadata": {},
   "outputs": [
    {
     "data": {
      "text/html": [
       "<div>\n",
       "<style scoped>\n",
       "    .dataframe tbody tr th:only-of-type {\n",
       "        vertical-align: middle;\n",
       "    }\n",
       "\n",
       "    .dataframe tbody tr th {\n",
       "        vertical-align: top;\n",
       "    }\n",
       "\n",
       "    .dataframe thead th {\n",
       "        text-align: right;\n",
       "    }\n",
       "</style>\n",
       "<table border=\"1\" class=\"dataframe\">\n",
       "  <thead>\n",
       "    <tr style=\"text-align: right;\">\n",
       "      <th></th>\n",
       "      <th>홍길동</th>\n",
       "      <th>1234</th>\n",
       "      <th>10000</th>\n",
       "      <th>국민</th>\n",
       "    </tr>\n",
       "  </thead>\n",
       "  <tbody>\n",
       "    <tr>\n",
       "      <th>0</th>\n",
       "      <td>도우너</td>\n",
       "      <td>4321</td>\n",
       "      <td>100</td>\n",
       "      <td>하나</td>\n",
       "    </tr>\n",
       "    <tr>\n",
       "      <th>1</th>\n",
       "      <td>희동이</td>\n",
       "      <td>4567</td>\n",
       "      <td>500</td>\n",
       "      <td>우리</td>\n",
       "    </tr>\n",
       "    <tr>\n",
       "      <th>2</th>\n",
       "      <td>고길동</td>\n",
       "      <td>7894</td>\n",
       "      <td>50000</td>\n",
       "      <td>신한</td>\n",
       "    </tr>\n",
       "  </tbody>\n",
       "</table>\n",
       "</div>"
      ],
      "text/plain": [
       "   홍길동  1234  10000  국민\n",
       "0  도우너  4321    100  하나\n",
       "1  희동이  4567    500  우리\n",
       "2  고길동  7894  50000  신한"
      ]
     },
     "execution_count": 20,
     "metadata": {},
     "output_type": "execute_result"
    }
   ],
   "source": [
    "df=pd.read_csv('data_2.csv',skiprows=1)#1일경우 첫번째라인 스킵\n",
    "df"
   ]
  },
  {
   "cell_type": "code",
   "execution_count": 21,
   "id": "ba8f819c",
   "metadata": {},
   "outputs": [
    {
     "data": {
      "text/html": [
       "<div>\n",
       "<style scoped>\n",
       "    .dataframe tbody tr th:only-of-type {\n",
       "        vertical-align: middle;\n",
       "    }\n",
       "\n",
       "    .dataframe tbody tr th {\n",
       "        vertical-align: top;\n",
       "    }\n",
       "\n",
       "    .dataframe thead th {\n",
       "        text-align: right;\n",
       "    }\n",
       "</style>\n",
       "<table border=\"1\" class=\"dataframe\">\n",
       "  <thead>\n",
       "    <tr style=\"text-align: right;\">\n",
       "      <th></th>\n",
       "      <th>0</th>\n",
       "      <th>1</th>\n",
       "      <th>2</th>\n",
       "      <th>3</th>\n",
       "    </tr>\n",
       "  </thead>\n",
       "  <tbody>\n",
       "    <tr>\n",
       "      <th>0</th>\n",
       "      <td>이름</td>\n",
       "      <td>계좌번호</td>\n",
       "      <td>금액</td>\n",
       "      <td>은행</td>\n",
       "    </tr>\n",
       "    <tr>\n",
       "      <th>1</th>\n",
       "      <td>도우너</td>\n",
       "      <td>4321</td>\n",
       "      <td>100</td>\n",
       "      <td>하나</td>\n",
       "    </tr>\n",
       "    <tr>\n",
       "      <th>2</th>\n",
       "      <td>희동이</td>\n",
       "      <td>4567</td>\n",
       "      <td>500</td>\n",
       "      <td>우리</td>\n",
       "    </tr>\n",
       "    <tr>\n",
       "      <th>3</th>\n",
       "      <td>고길동</td>\n",
       "      <td>7894</td>\n",
       "      <td>50000</td>\n",
       "      <td>신한</td>\n",
       "    </tr>\n",
       "  </tbody>\n",
       "</table>\n",
       "</div>"
      ],
      "text/plain": [
       "     0     1      2   3\n",
       "0   이름  계좌번호     금액  은행\n",
       "1  도우너  4321    100  하나\n",
       "2  희동이  4567    500  우리\n",
       "3  고길동  7894  50000  신한"
      ]
     },
     "execution_count": 21,
     "metadata": {},
     "output_type": "execute_result"
    }
   ],
   "source": [
    "df=pd.read_csv('data_2.csv',skiprows=[1],header=None)#1일경우 첫번째라인 스킵\n",
    "df"
   ]
  },
  {
   "cell_type": "code",
   "execution_count": 22,
   "id": "483aadcf",
   "metadata": {},
   "outputs": [
    {
     "data": {
      "text/html": [
       "<div>\n",
       "<style scoped>\n",
       "    .dataframe tbody tr th:only-of-type {\n",
       "        vertical-align: middle;\n",
       "    }\n",
       "\n",
       "    .dataframe tbody tr th {\n",
       "        vertical-align: top;\n",
       "    }\n",
       "\n",
       "    .dataframe thead th {\n",
       "        text-align: right;\n",
       "    }\n",
       "</style>\n",
       "<table border=\"1\" class=\"dataframe\">\n",
       "  <thead>\n",
       "    <tr style=\"text-align: right;\">\n",
       "      <th></th>\n",
       "      <th>이름</th>\n",
       "      <th>계좌번호</th>\n",
       "      <th>금액</th>\n",
       "      <th>은행</th>\n",
       "    </tr>\n",
       "  </thead>\n",
       "  <tbody>\n",
       "    <tr>\n",
       "      <th>0</th>\n",
       "      <td>도우너</td>\n",
       "      <td>4321</td>\n",
       "      <td>100</td>\n",
       "      <td>하나</td>\n",
       "    </tr>\n",
       "    <tr>\n",
       "      <th>1</th>\n",
       "      <td>고길동</td>\n",
       "      <td>7894</td>\n",
       "      <td>50000</td>\n",
       "      <td>신한</td>\n",
       "    </tr>\n",
       "  </tbody>\n",
       "</table>\n",
       "</div>"
      ],
      "text/plain": [
       "    이름  계좌번호     금액  은행\n",
       "0  도우너  4321    100  하나\n",
       "1  고길동  7894  50000  신한"
      ]
     },
     "execution_count": 22,
     "metadata": {},
     "output_type": "execute_result"
    }
   ],
   "source": [
    "df=pd.read_csv('data_2.csv',skiprows=[1,3],nrows=2)\n",
    "df"
   ]
  },
  {
   "cell_type": "code",
   "execution_count": 23,
   "id": "589bf7c4",
   "metadata": {},
   "outputs": [
    {
     "data": {
      "text/html": [
       "<div>\n",
       "<style scoped>\n",
       "    .dataframe tbody tr th:only-of-type {\n",
       "        vertical-align: middle;\n",
       "    }\n",
       "\n",
       "    .dataframe tbody tr th {\n",
       "        vertical-align: top;\n",
       "    }\n",
       "\n",
       "    .dataframe thead th {\n",
       "        text-align: right;\n",
       "    }\n",
       "</style>\n",
       "<table border=\"1\" class=\"dataframe\">\n",
       "  <thead>\n",
       "    <tr style=\"text-align: right;\">\n",
       "      <th></th>\n",
       "      <th>Unnamed: 0</th>\n",
       "      <th>계좌번호</th>\n",
       "      <th>금액</th>\n",
       "      <th>은행</th>\n",
       "    </tr>\n",
       "    <tr>\n",
       "      <th>이름</th>\n",
       "      <th></th>\n",
       "      <th></th>\n",
       "      <th></th>\n",
       "      <th></th>\n",
       "    </tr>\n",
       "  </thead>\n",
       "  <tbody>\n",
       "    <tr>\n",
       "      <th>홍길동</th>\n",
       "      <td>1번고객</td>\n",
       "      <td>1234</td>\n",
       "      <td>10000</td>\n",
       "      <td>국민</td>\n",
       "    </tr>\n",
       "    <tr>\n",
       "      <th>도우너</th>\n",
       "      <td>2번고객</td>\n",
       "      <td>4321</td>\n",
       "      <td>100</td>\n",
       "      <td>하나</td>\n",
       "    </tr>\n",
       "    <tr>\n",
       "      <th>희동이</th>\n",
       "      <td>3번고객</td>\n",
       "      <td>4567</td>\n",
       "      <td>500</td>\n",
       "      <td>우리</td>\n",
       "    </tr>\n",
       "    <tr>\n",
       "      <th>고길동</th>\n",
       "      <td>4번고객</td>\n",
       "      <td>7894</td>\n",
       "      <td>50000</td>\n",
       "      <td>신한</td>\n",
       "    </tr>\n",
       "  </tbody>\n",
       "</table>\n",
       "</div>"
      ],
      "text/plain": [
       "    Unnamed: 0  계좌번호     금액  은행\n",
       "이름                             \n",
       "홍길동       1번고객  1234  10000  국민\n",
       "도우너       2번고객  4321    100  하나\n",
       "희동이       3번고객  4567    500  우리\n",
       "고길동       4번고객  7894  50000  신한"
      ]
     },
     "execution_count": 23,
     "metadata": {},
     "output_type": "execute_result"
    }
   ],
   "source": [
    "df=pd.read_csv(\"data3.txt\",sep='\\t',index_col='이름')\n",
    "df"
   ]
  },
  {
   "cell_type": "code",
   "execution_count": 24,
   "id": "f121b846",
   "metadata": {},
   "outputs": [
    {
     "data": {
      "text/html": [
       "<div>\n",
       "<style scoped>\n",
       "    .dataframe tbody tr th:only-of-type {\n",
       "        vertical-align: middle;\n",
       "    }\n",
       "\n",
       "    .dataframe tbody tr th {\n",
       "        vertical-align: top;\n",
       "    }\n",
       "\n",
       "    .dataframe thead th {\n",
       "        text-align: right;\n",
       "    }\n",
       "</style>\n",
       "<table border=\"1\" class=\"dataframe\">\n",
       "  <thead>\n",
       "    <tr style=\"text-align: right;\">\n",
       "      <th></th>\n",
       "      <th>Unnamed: 0</th>\n",
       "      <th>계좌번호</th>\n",
       "      <th>금액</th>\n",
       "      <th>은행</th>\n",
       "    </tr>\n",
       "    <tr>\n",
       "      <th>이름</th>\n",
       "      <th></th>\n",
       "      <th></th>\n",
       "      <th></th>\n",
       "      <th></th>\n",
       "    </tr>\n",
       "  </thead>\n",
       "  <tbody>\n",
       "    <tr>\n",
       "      <th>홍길동</th>\n",
       "      <td>1번고객</td>\n",
       "      <td>1234</td>\n",
       "      <td>10000</td>\n",
       "      <td>국민</td>\n",
       "    </tr>\n",
       "    <tr>\n",
       "      <th>도우너</th>\n",
       "      <td>2번고객</td>\n",
       "      <td>4321</td>\n",
       "      <td>100</td>\n",
       "      <td>하나</td>\n",
       "    </tr>\n",
       "    <tr>\n",
       "      <th>희동이</th>\n",
       "      <td>3번고객</td>\n",
       "      <td>4567</td>\n",
       "      <td>500</td>\n",
       "      <td>우리</td>\n",
       "    </tr>\n",
       "    <tr>\n",
       "      <th>고길동</th>\n",
       "      <td>4번고객</td>\n",
       "      <td>7894</td>\n",
       "      <td>50000</td>\n",
       "      <td>신한</td>\n",
       "    </tr>\n",
       "  </tbody>\n",
       "</table>\n",
       "</div>"
      ],
      "text/plain": [
       "    Unnamed: 0  계좌번호     금액  은행\n",
       "이름                             \n",
       "홍길동       1번고객  1234  10000  국민\n",
       "도우너       2번고객  4321    100  하나\n",
       "희동이       3번고객  4567    500  우리\n",
       "고길동       4번고객  7894  50000  신한"
      ]
     },
     "execution_count": 24,
     "metadata": {},
     "output_type": "execute_result"
    }
   ],
   "source": [
    "df=pd.read_csv(\"data3.txt\",sep='\\t')\n",
    "df.set_index(\"이름\",inplace=True)\n",
    "df"
   ]
  },
  {
   "cell_type": "code",
   "execution_count": 25,
   "id": "e0d44867",
   "metadata": {},
   "outputs": [
    {
     "data": {
      "text/html": [
       "<div>\n",
       "<style scoped>\n",
       "    .dataframe tbody tr th:only-of-type {\n",
       "        vertical-align: middle;\n",
       "    }\n",
       "\n",
       "    .dataframe tbody tr th {\n",
       "        vertical-align: top;\n",
       "    }\n",
       "\n",
       "    .dataframe thead th {\n",
       "        text-align: right;\n",
       "    }\n",
       "</style>\n",
       "<table border=\"1\" class=\"dataframe\">\n",
       "  <thead>\n",
       "    <tr style=\"text-align: right;\">\n",
       "      <th></th>\n",
       "      <th>Unnamed: 0</th>\n",
       "      <th>이름</th>\n",
       "      <th>계좌번호</th>\n",
       "      <th>금액</th>\n",
       "      <th>은행</th>\n",
       "    </tr>\n",
       "  </thead>\n",
       "  <tbody>\n",
       "    <tr>\n",
       "      <th>0</th>\n",
       "      <td>1번고객</td>\n",
       "      <td>홍길동</td>\n",
       "      <td>1234</td>\n",
       "      <td>10000</td>\n",
       "      <td>국민</td>\n",
       "    </tr>\n",
       "    <tr>\n",
       "      <th>1</th>\n",
       "      <td>2번고객</td>\n",
       "      <td>도우너</td>\n",
       "      <td>4321</td>\n",
       "      <td>100</td>\n",
       "      <td>하나</td>\n",
       "    </tr>\n",
       "    <tr>\n",
       "      <th>2</th>\n",
       "      <td>3번고객</td>\n",
       "      <td>희동이</td>\n",
       "      <td>4567</td>\n",
       "      <td>500</td>\n",
       "      <td>우리</td>\n",
       "    </tr>\n",
       "    <tr>\n",
       "      <th>3</th>\n",
       "      <td>4번고객</td>\n",
       "      <td>고길동</td>\n",
       "      <td>7894</td>\n",
       "      <td>50000</td>\n",
       "      <td>신한</td>\n",
       "    </tr>\n",
       "  </tbody>\n",
       "</table>\n",
       "</div>"
      ],
      "text/plain": [
       "  Unnamed: 0   이름  계좌번호     금액  은행\n",
       "0       1번고객  홍길동  1234  10000  국민\n",
       "1       2번고객  도우너  4321    100  하나\n",
       "2       3번고객  희동이  4567    500  우리\n",
       "3       4번고객  고길동  7894  50000  신한"
      ]
     },
     "execution_count": 25,
     "metadata": {},
     "output_type": "execute_result"
    }
   ],
   "source": [
    "df=pd.read_excel('data4.xlsx')\n",
    "df"
   ]
  },
  {
   "cell_type": "code",
   "execution_count": 26,
   "id": "2b1ad4f9",
   "metadata": {},
   "outputs": [
    {
     "data": {
      "text/html": [
       "<div>\n",
       "<style scoped>\n",
       "    .dataframe tbody tr th:only-of-type {\n",
       "        vertical-align: middle;\n",
       "    }\n",
       "\n",
       "    .dataframe tbody tr th {\n",
       "        vertical-align: top;\n",
       "    }\n",
       "\n",
       "    .dataframe thead th {\n",
       "        text-align: right;\n",
       "    }\n",
       "</style>\n",
       "<table border=\"1\" class=\"dataframe\">\n",
       "  <thead>\n",
       "    <tr style=\"text-align: right;\">\n",
       "      <th></th>\n",
       "      <th>Unnamed: 0</th>\n",
       "      <th>계좌번호</th>\n",
       "      <th>금액</th>\n",
       "      <th>은행</th>\n",
       "    </tr>\n",
       "    <tr>\n",
       "      <th>이름</th>\n",
       "      <th></th>\n",
       "      <th></th>\n",
       "      <th></th>\n",
       "      <th></th>\n",
       "    </tr>\n",
       "  </thead>\n",
       "  <tbody>\n",
       "    <tr>\n",
       "      <th>홍길동</th>\n",
       "      <td>1번고객</td>\n",
       "      <td>1234</td>\n",
       "      <td>10000</td>\n",
       "      <td>국민</td>\n",
       "    </tr>\n",
       "    <tr>\n",
       "      <th>도우너</th>\n",
       "      <td>2번고객</td>\n",
       "      <td>4321</td>\n",
       "      <td>100</td>\n",
       "      <td>하나</td>\n",
       "    </tr>\n",
       "    <tr>\n",
       "      <th>희동이</th>\n",
       "      <td>3번고객</td>\n",
       "      <td>4567</td>\n",
       "      <td>500</td>\n",
       "      <td>우리</td>\n",
       "    </tr>\n",
       "    <tr>\n",
       "      <th>고길동</th>\n",
       "      <td>4번고객</td>\n",
       "      <td>7894</td>\n",
       "      <td>50000</td>\n",
       "      <td>신한</td>\n",
       "    </tr>\n",
       "  </tbody>\n",
       "</table>\n",
       "</div>"
      ],
      "text/plain": [
       "    Unnamed: 0  계좌번호     금액  은행\n",
       "이름                             \n",
       "홍길동       1번고객  1234  10000  국민\n",
       "도우너       2번고객  4321    100  하나\n",
       "희동이       3번고객  4567    500  우리\n",
       "고길동       4번고객  7894  50000  신한"
      ]
     },
     "execution_count": 26,
     "metadata": {},
     "output_type": "execute_result"
    }
   ],
   "source": [
    "df=pd.read_excel('data4.xlsx',index_col='이름')\n",
    "df"
   ]
  },
  {
   "cell_type": "code",
   "execution_count": 27,
   "id": "e336bb93",
   "metadata": {},
   "outputs": [
    {
     "data": {
      "text/html": [
       "<div>\n",
       "<style scoped>\n",
       "    .dataframe tbody tr th:only-of-type {\n",
       "        vertical-align: middle;\n",
       "    }\n",
       "\n",
       "    .dataframe tbody tr th {\n",
       "        vertical-align: top;\n",
       "    }\n",
       "\n",
       "    .dataframe thead th {\n",
       "        text-align: right;\n",
       "    }\n",
       "</style>\n",
       "<table border=\"1\" class=\"dataframe\">\n",
       "  <thead>\n",
       "    <tr style=\"text-align: right;\">\n",
       "      <th></th>\n",
       "      <th>0</th>\n",
       "      <th>1</th>\n",
       "      <th>2</th>\n",
       "    </tr>\n",
       "  </thead>\n",
       "  <tbody>\n",
       "    <tr>\n",
       "      <th>이름</th>\n",
       "      <td>홍길동</td>\n",
       "      <td>도우너</td>\n",
       "      <td>희동이</td>\n",
       "    </tr>\n",
       "    <tr>\n",
       "      <th>은행</th>\n",
       "      <td>국민</td>\n",
       "      <td>하나</td>\n",
       "      <td>우리</td>\n",
       "    </tr>\n",
       "    <tr>\n",
       "      <th>적금유무</th>\n",
       "      <td>NaN</td>\n",
       "      <td>NaN</td>\n",
       "      <td>NaN</td>\n",
       "    </tr>\n",
       "  </tbody>\n",
       "</table>\n",
       "</div>"
      ],
      "text/plain": [
       "        0    1    2\n",
       "이름    홍길동  도우너  희동이\n",
       "은행     국민   하나   우리\n",
       "적금유무  NaN  NaN  NaN"
      ]
     },
     "execution_count": 27,
     "metadata": {},
     "output_type": "execute_result"
    }
   ],
   "source": [
    "data={\n",
    "    '이름':[\"홍길동\",\"도우너\",\"희동이\",\"고길동\"],\n",
    "    '계좌번호':['1234','4321','4567','7894'],\n",
    "    '금액':[10000,100,500,50000],\n",
    "    '은행':['국민','하나','우리','신한']\n",
    "}\n",
    "ex_df=DataFrame(data,columns=['이름','은행','적금유무'])\n",
    "ex_df.head(3).T"
   ]
  },
  {
   "cell_type": "code",
   "execution_count": 28,
   "id": "139e766b",
   "metadata": {},
   "outputs": [
    {
     "data": {
      "text/html": [
       "<div>\n",
       "<style scoped>\n",
       "    .dataframe tbody tr th:only-of-type {\n",
       "        vertical-align: middle;\n",
       "    }\n",
       "\n",
       "    .dataframe tbody tr th {\n",
       "        vertical-align: top;\n",
       "    }\n",
       "\n",
       "    .dataframe thead th {\n",
       "        text-align: right;\n",
       "    }\n",
       "</style>\n",
       "<table border=\"1\" class=\"dataframe\">\n",
       "  <thead>\n",
       "    <tr style=\"text-align: right;\">\n",
       "      <th></th>\n",
       "      <th>이름</th>\n",
       "      <th>계좌번호</th>\n",
       "      <th>금액</th>\n",
       "      <th>은행</th>\n",
       "    </tr>\n",
       "  </thead>\n",
       "  <tbody>\n",
       "    <tr>\n",
       "      <th>0</th>\n",
       "      <td>홍길동</td>\n",
       "      <td>1234</td>\n",
       "      <td>10000</td>\n",
       "      <td>국민</td>\n",
       "    </tr>\n",
       "    <tr>\n",
       "      <th>1</th>\n",
       "      <td>도우너</td>\n",
       "      <td>4321</td>\n",
       "      <td>100</td>\n",
       "      <td>하나</td>\n",
       "    </tr>\n",
       "    <tr>\n",
       "      <th>2</th>\n",
       "      <td>희동이</td>\n",
       "      <td>4567</td>\n",
       "      <td>500</td>\n",
       "      <td>우리</td>\n",
       "    </tr>\n",
       "    <tr>\n",
       "      <th>3</th>\n",
       "      <td>고길동</td>\n",
       "      <td>7894</td>\n",
       "      <td>50000</td>\n",
       "      <td>신한</td>\n",
       "    </tr>\n",
       "  </tbody>\n",
       "</table>\n",
       "</div>"
      ],
      "text/plain": [
       "    이름  계좌번호     금액  은행\n",
       "0  홍길동  1234  10000  국민\n",
       "1  도우너  4321    100  하나\n",
       "2  희동이  4567    500  우리\n",
       "3  고길동  7894  50000  신한"
      ]
     },
     "execution_count": 28,
     "metadata": {},
     "output_type": "execute_result"
    }
   ],
   "source": [
    "data={\n",
    "    '이름':[\"홍길동\",\"도우너\",\"희동이\",\"고길동\"],\n",
    "    '계좌번호':['1234','4321','4567','7894'],\n",
    "    '금액':[10000,100,500,50000],\n",
    "    '은행':['국민','하나','우리','신한']\n",
    "}\n",
    "df_t=DataFrame(data)\n",
    "df_t[['이름','은행']][:2]\n",
    "df_t"
   ]
  },
  {
   "cell_type": "code",
   "execution_count": 29,
   "id": "8d1e6fdf",
   "metadata": {},
   "outputs": [
    {
     "data": {
      "text/html": [
       "<div>\n",
       "<style scoped>\n",
       "    .dataframe tbody tr th:only-of-type {\n",
       "        vertical-align: middle;\n",
       "    }\n",
       "\n",
       "    .dataframe tbody tr th {\n",
       "        vertical-align: top;\n",
       "    }\n",
       "\n",
       "    .dataframe thead th {\n",
       "        text-align: right;\n",
       "    }\n",
       "</style>\n",
       "<table border=\"1\" class=\"dataframe\">\n",
       "  <thead>\n",
       "    <tr style=\"text-align: right;\">\n",
       "      <th></th>\n",
       "      <th>금액</th>\n",
       "    </tr>\n",
       "    <tr>\n",
       "      <th>이름</th>\n",
       "      <th></th>\n",
       "    </tr>\n",
       "  </thead>\n",
       "  <tbody>\n",
       "    <tr>\n",
       "      <th>도우너</th>\n",
       "      <td>100</td>\n",
       "    </tr>\n",
       "    <tr>\n",
       "      <th>희동이</th>\n",
       "      <td>500</td>\n",
       "    </tr>\n",
       "    <tr>\n",
       "      <th>고길동</th>\n",
       "      <td>50000</td>\n",
       "    </tr>\n",
       "  </tbody>\n",
       "</table>\n",
       "</div>"
      ],
      "text/plain": [
       "        금액\n",
       "이름        \n",
       "도우너    100\n",
       "희동이    500\n",
       "고길동  50000"
      ]
     },
     "execution_count": 29,
     "metadata": {},
     "output_type": "execute_result"
    }
   ],
   "source": [
    "df_t.index=df_t['이름']\n",
    "del df_t['이름']\n",
    "df_t.loc['도우너':,['금액']]"
   ]
  },
  {
   "cell_type": "code",
   "execution_count": 30,
   "id": "ac0cfd17",
   "metadata": {},
   "outputs": [
    {
     "data": {
      "text/html": [
       "<div>\n",
       "<style scoped>\n",
       "    .dataframe tbody tr th:only-of-type {\n",
       "        vertical-align: middle;\n",
       "    }\n",
       "\n",
       "    .dataframe tbody tr th {\n",
       "        vertical-align: top;\n",
       "    }\n",
       "\n",
       "    .dataframe thead th {\n",
       "        text-align: right;\n",
       "    }\n",
       "</style>\n",
       "<table border=\"1\" class=\"dataframe\">\n",
       "  <thead>\n",
       "    <tr style=\"text-align: right;\">\n",
       "      <th></th>\n",
       "      <th>이름</th>\n",
       "      <th>계좌번호</th>\n",
       "    </tr>\n",
       "    <tr>\n",
       "      <th>금액</th>\n",
       "      <th></th>\n",
       "      <th></th>\n",
       "    </tr>\n",
       "  </thead>\n",
       "  <tbody>\n",
       "    <tr>\n",
       "      <th>10000</th>\n",
       "      <td>홍길동</td>\n",
       "      <td>1234</td>\n",
       "    </tr>\n",
       "    <tr>\n",
       "      <th>100</th>\n",
       "      <td>도우너</td>\n",
       "      <td>4321</td>\n",
       "    </tr>\n",
       "  </tbody>\n",
       "</table>\n",
       "</div>"
      ],
      "text/plain": [
       "        이름  계좌번호\n",
       "금액              \n",
       "10000  홍길동  1234\n",
       "100    도우너  4321"
      ]
     },
     "execution_count": 30,
     "metadata": {},
     "output_type": "execute_result"
    }
   ],
   "source": [
    "data={\n",
    "    '이름':[\"홍길동\",\"도우너\",\"희동이\",\"고길동\"],\n",
    "    '계좌번호':['1234','4321','4567','7894'],\n",
    "    '금액':[10000,100,500,50000],\n",
    "    '은행':['국민','하나','우리','신한']\n",
    "}\n",
    "df_t=DataFrame(data)\n",
    "df_t.index=df_t['금액']\n",
    "del df_t['금액']\n",
    "df_t.iloc[:2,:2]"
   ]
  },
  {
   "cell_type": "code",
   "execution_count": null,
   "id": "d4cf1dd2",
   "metadata": {},
   "outputs": [],
   "source": []
  }
 ],
 "metadata": {
  "kernelspec": {
   "display_name": "Python 3 (ipykernel)",
   "language": "python",
   "name": "python3"
  },
  "language_info": {
   "codemirror_mode": {
    "name": "ipython",
    "version": 3
   },
   "file_extension": ".py",
   "mimetype": "text/x-python",
   "name": "python",
   "nbconvert_exporter": "python",
   "pygments_lexer": "ipython3",
   "version": "3.9.7"
  }
 },
 "nbformat": 4,
 "nbformat_minor": 5
}
