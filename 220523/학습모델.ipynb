{
 "cells": [
  {
   "cell_type": "code",
   "execution_count": 1,
   "id": "c6feb3cc",
   "metadata": {},
   "outputs": [],
   "source": [
    "import re\n",
    "import numpy as np\n",
    "import pandas as pd\n",
    "from tqdm import tqdm\n",
    "from konlpy.tag import Okt\n",
    "import matplotlib.pyplot as plt\n",
    "from sklearn.preprocessing import LabelEncoder\n",
    "from tensorflow.keras.utils import to_categorical\n",
    "from tensorflow.keras.preprocessing.sequence import pad_sequences\n",
    "from tensorflow.keras.models import  Sequential,load_model\n",
    "from tensorflow.keras.layers import Dense, Dropout,Embedding, Dense, LSTM,BatchNormalization\n",
    "from tensorflow.keras.callbacks import EarlyStopping, ModelCheckpoint,TensorBoard"
   ]
  },
  {
   "cell_type": "code",
   "execution_count": 2,
   "id": "07ebaddb",
   "metadata": {},
   "outputs": [],
   "source": [
    "import pickle\n",
    "with open(\"data.pickle\",\"rb\") as fr:\n",
    "    전처리_된_데이터 = pickle.load(fr)"
   ]
  },
  {
   "cell_type": "code",
   "execution_count": 3,
   "id": "156bac39",
   "metadata": {},
   "outputs": [],
   "source": [
    "train_inputs=전처리_된_데이터['학습_데이터']\n",
    "train_outputs=전처리_된_데이터['학습_결과']\n",
    "test_inputs=전처리_된_데이터['태스트_데이터']\n",
    "test_outputs=전처리_된_데이터['태스트_결과']\n",
    "val_inputs=전처리_된_데이터['검증_데이터']\n",
    "val_outputs=전처리_된_데이터['검증_결과']\n",
    "token=전처리_된_데이터['토큰']\n",
    "w_n=전처리_된_데이터['단어수']\n",
    "w_l=전처리_된_데이터['입력길이']"
   ]
  },
  {
   "cell_type": "code",
   "execution_count": 4,
   "id": "77a70d1b",
   "metadata": {},
   "outputs": [
    {
     "data": {
      "text/plain": [
       "((5151, 188), (5151, 10))"
      ]
     },
     "execution_count": 4,
     "metadata": {},
     "output_type": "execute_result"
    }
   ],
   "source": [
    "train_inputs.shape,train_outputs.shape"
   ]
  },
  {
   "cell_type": "code",
   "execution_count": 5,
   "id": "ff46da47",
   "metadata": {},
   "outputs": [
    {
     "data": {
      "text/plain": [
       "1966"
      ]
     },
     "execution_count": 5,
     "metadata": {},
     "output_type": "execute_result"
    }
   ],
   "source": [
    "w_n"
   ]
  },
  {
   "cell_type": "code",
   "execution_count": 6,
   "id": "10e643b8",
   "metadata": {},
   "outputs": [],
   "source": [
    "es = EarlyStopping(monitor='val_loss', mode='min', verbose=1, patience=5,restore_best_weights=True)\n",
    "mc = ModelCheckpoint('best_model.h5', monitor='val_acc', mode='max', verbose=1, save_best_only=True)\n",
    "t_bd=TensorBoard(log_dir=\"logs\")"
   ]
  },
  {
   "cell_type": "code",
   "execution_count": 7,
   "id": "20b6996f",
   "metadata": {},
   "outputs": [],
   "source": [
    "model = Sequential()\n",
    "model.add(Embedding(w_n, 128))\n",
    "model.add(BatchNormalization())\n",
    "model.add(LSTM(128,dropout=0.5,return_sequences=True))\n",
    "model.add(BatchNormalization())\n",
    "model.add(LSTM(64,dropout=0.5))\n",
    "model.add(Dense(10, activation='softmax'))"
   ]
  },
  {
   "cell_type": "code",
   "execution_count": 8,
   "id": "40f57626",
   "metadata": {
    "scrolled": true
   },
   "outputs": [
    {
     "name": "stdout",
     "output_type": "stream",
     "text": [
      "Epoch 1/15\n",
      "86/86 [==============================] - 53s 569ms/step - loss: 1.2597 - acc: 0.6937 - val_loss: 1.6020 - val_acc: 0.7049\n",
      "\n",
      "Epoch 00001: val_acc improved from -inf to 0.70488, saving model to best_model.h5\n",
      "Epoch 2/15\n",
      "86/86 [==============================] - 50s 584ms/step - loss: 1.1697 - acc: 0.7069 - val_loss: 1.3673 - val_acc: 0.7049\n",
      "\n",
      "Epoch 00002: val_acc did not improve from 0.70488\n",
      "Epoch 3/15\n",
      "86/86 [==============================] - 48s 556ms/step - loss: 1.0653 - acc: 0.7055 - val_loss: 1.3564 - val_acc: 0.6840\n",
      "\n",
      "Epoch 00003: val_acc did not improve from 0.70488\n",
      "Epoch 4/15\n",
      "86/86 [==============================] - 44s 516ms/step - loss: 0.9741 - acc: 0.7067 - val_loss: 1.2904 - val_acc: 0.6050\n",
      "\n",
      "Epoch 00004: val_acc did not improve from 0.70488\n",
      "Epoch 5/15\n",
      "86/86 [==============================] - 46s 537ms/step - loss: 0.9218 - acc: 0.7111 - val_loss: 1.2647 - val_acc: 0.6050\n",
      "\n",
      "Epoch 00005: val_acc did not improve from 0.70488\n",
      "Epoch 6/15\n",
      "86/86 [==============================] - 47s 544ms/step - loss: 0.8909 - acc: 0.7214 - val_loss: 1.3282 - val_acc: 0.5709\n",
      "\n",
      "Epoch 00006: val_acc did not improve from 0.70488\n",
      "Epoch 7/15\n",
      "86/86 [==============================] - 53s 620ms/step - loss: 0.8344 - acc: 0.7282 - val_loss: 1.2946 - val_acc: 0.5538\n",
      "\n",
      "Epoch 00007: val_acc did not improve from 0.70488\n",
      "Epoch 8/15\n",
      "86/86 [==============================] - 53s 612ms/step - loss: 0.7916 - acc: 0.7377 - val_loss: 1.1773 - val_acc: 0.6398\n",
      "\n",
      "Epoch 00008: val_acc did not improve from 0.70488\n",
      "Epoch 9/15\n",
      "86/86 [==============================] - 53s 616ms/step - loss: 0.7478 - acc: 0.7482 - val_loss: 1.3164 - val_acc: 0.5957\n",
      "\n",
      "Epoch 00009: val_acc did not improve from 0.70488\n",
      "Epoch 10/15\n",
      "86/86 [==============================] - 52s 601ms/step - loss: 0.6994 - acc: 0.7661 - val_loss: 1.2902 - val_acc: 0.5957\n",
      "\n",
      "Epoch 00010: val_acc did not improve from 0.70488\n",
      "Epoch 11/15\n",
      "86/86 [==============================] - 52s 601ms/step - loss: 0.6791 - acc: 0.7694 - val_loss: 1.2408 - val_acc: 0.6723\n",
      "\n",
      "Epoch 00011: val_acc did not improve from 0.70488\n",
      "Epoch 12/15\n",
      "86/86 [==============================] - 53s 610ms/step - loss: 0.6299 - acc: 0.7845 - val_loss: 1.4075 - val_acc: 0.6933\n",
      "\n",
      "Epoch 00012: val_acc did not improve from 0.70488\n",
      "Epoch 13/15\n",
      "86/86 [==============================] - 52s 606ms/step - loss: 0.6009 - acc: 0.7964 - val_loss: 1.3135 - val_acc: 0.6437\n",
      "Restoring model weights from the end of the best epoch.\n",
      "\n",
      "Epoch 00013: val_acc did not improve from 0.70488\n",
      "Epoch 00013: early stopping\n"
     ]
    }
   ],
   "source": [
    "model.compile(optimizer='adam', loss='categorical_crossentropy', metrics=['acc'])\n",
    "history = model.fit(train_inputs, train_outputs, epochs=15, callbacks=[es, mc,t_bd], batch_size=60,validation_data=(val_inputs,val_outputs))"
   ]
  },
  {
   "cell_type": "code",
   "execution_count": 9,
   "id": "f5f35622",
   "metadata": {},
   "outputs": [
    {
     "data": {
      "image/png": "[encoded data removed]",
      "text/plain": [
       "<Figure size 432x288 with 1 Axes>"
      ]
     },
     "metadata": {
      "needs_background": "light"
     },
     "output_type": "display_data"
    }
   ],
   "source": [
    "epochs = range(1, len(history.history['acc']) + 1)\n",
    "plt.plot(epochs, history.history['loss'])\n",
    "plt.plot(epochs, history.history['val_loss'])\n",
    "plt.title('m loss')\n",
    "plt.ylabel('loss')\n",
    "plt.xlabel('epoch')\n",
    "plt.legend(['train', 'test'], loc='upper left')\n",
    "plt.show()"
   ]
  },
  {
   "cell_type": "code",
   "execution_count": 10,
   "id": "12162b63",
   "metadata": {
    "scrolled": true
   },
   "outputs": [
    {
     "name": "stdout",
     "output_type": "stream",
     "text": [
      "87/87 [==============================] - 8s 93ms/step - loss: 1.1079 - acc: 0.6470\n"
     ]
    },
    {
     "data": {
      "text/plain": [
       "0.6469735503196716"
      ]
     },
     "execution_count": 10,
     "metadata": {},
     "output_type": "execute_result"
    }
   ],
   "source": [
    "model.evaluate(test_inputs,test_outputs)[1]"
   ]
  },
  {
   "cell_type": "code",
   "execution_count": 11,
   "id": "7f335a2b",
   "metadata": {},
   "outputs": [
    {
     "data": {
      "text/html": [
       "\n",
       "      <iframe id=\"tensorboard-frame-c4d9319f0fbf36d3\" width=\"100%\" height=\"800\" frameborder=\"0\">\n",
       "      </iframe>\n",
       "      <script>\n",
       "        (function() {\n",
       "          const frame = document.getElementById(\"tensorboard-frame-c4d9319f0fbf36d3\");\n",
       "          const url = new URL(\"/\", window.location);\n",
       "          const port = 6006;\n",
       "          if (port) {\n",
       "            url.port = port;\n",
       "          }\n",
       "          frame.src = url;\n",
       "        })();\n",
       "      </script>\n",
       "    "
      ],
      "text/plain": [
       "<IPython.core.display.HTML object>"
      ]
     },
     "metadata": {},
     "output_type": "display_data"
    }
   ],
   "source": [
    "%load_ext tensorboard\n",
    "%tensorboard --logdir logs"
   ]
  }
 ],
 "metadata": {
  "kernelspec": {
   "display_name": "Python 3 (ipykernel)",
   "language": "python",
   "name": "python3"
  },
  "language_info": {
   "codemirror_mode": {
    "name": "ipython",
    "version": 3
   },
   "file_extension": ".py",
   "mimetype": "text/x-python",
   "name": "python",
   "nbconvert_exporter": "python",
   "pygments_lexer": "ipython3",
   "version": "3.9.7"
  }
 },
 "nbformat": 4,
 "nbformat_minor": 5
}
