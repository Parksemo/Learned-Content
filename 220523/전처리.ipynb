{
 "cells": [
  {
   "cell_type": "code",
   "execution_count": 1,
   "id": "5cb3dac4",
   "metadata": {
    "scrolled": true
   },
   "outputs": [],
   "source": [
    "from konlpy.tag import Okt\n",
    "from tensorflow.keras.preprocessing.text import Tokenizer\n",
    "from tensorflow.keras.preprocessing.sequence import pad_sequences\n",
    "from sklearn.preprocessing import LabelEncoder\n",
    "from sklearn.model_selection import train_test_split\n",
    "from tensorflow.keras.utils import to_categorical\n",
    "import numpy as np\n",
    "from nltk.corpus import stopwords\n",
    "from bs4 import BeautifulSoup\n",
    "import re\n",
    "from tqdm import tqdm\n",
    "import pandas as pd\n",
    "import numpy as np\n",
    "import matplotlib.pyplot as plt\n",
    "from tensorflow.keras.models import load_model"
   ]
  },
  {
   "cell_type": "code",
   "execution_count": 2,
   "id": "3068720f",
   "metadata": {},
   "outputs": [
    {
     "data": {
      "text/html": [
       "<div>\n",
       "<style scoped>\n",
       "    .dataframe tbody tr th:only-of-type {\n",
       "        vertical-align: middle;\n",
       "    }\n",
       "\n",
       "    .dataframe tbody tr th {\n",
       "        vertical-align: top;\n",
       "    }\n",
       "\n",
       "    .dataframe thead th {\n",
       "        text-align: right;\n",
       "    }\n",
       "</style>\n",
       "<table border=\"1\" class=\"dataframe\">\n",
       "  <thead>\n",
       "    <tr style=\"text-align: right;\">\n",
       "      <th></th>\n",
       "      <th>영화명</th>\n",
       "      <th>평점</th>\n",
       "      <th>리뷰</th>\n",
       "    </tr>\n",
       "  </thead>\n",
       "  <tbody>\n",
       "    <tr>\n",
       "      <th>0</th>\n",
       "      <td>범죄도시2</td>\n",
       "      <td>10</td>\n",
       "      <td>NaN</td>\n",
       "    </tr>\n",
       "    <tr>\n",
       "      <th>1</th>\n",
       "      <td>범죄도시2</td>\n",
       "      <td>10</td>\n",
       "      <td>내누군지아니 나 장첸이야~!!  ㅋ</td>\n",
       "    </tr>\n",
       "    <tr>\n",
       "      <th>2</th>\n",
       "      <td>범죄도시2</td>\n",
       "      <td>10</td>\n",
       "      <td>시원시원한 타격감 ㅋㅋㅋ 청량하다 마동석</td>\n",
       "    </tr>\n",
       "    <tr>\n",
       "      <th>3</th>\n",
       "      <td>범죄도시2</td>\n",
       "      <td>10</td>\n",
       "      <td>최고의 마동석표 웰메이드 액션 코믹 영화</td>\n",
       "    </tr>\n",
       "    <tr>\n",
       "      <th>4</th>\n",
       "      <td>고양이에게 밥을 주지 마세요</td>\n",
       "      <td>10</td>\n",
       "      <td>길고양이들과 공생하는건 좋은일이라고생각합니다</td>\n",
       "    </tr>\n",
       "    <tr>\n",
       "      <th>...</th>\n",
       "      <td>...</td>\n",
       "      <td>...</td>\n",
       "      <td>...</td>\n",
       "    </tr>\n",
       "    <tr>\n",
       "      <th>9995</th>\n",
       "      <td>범죄도시2</td>\n",
       "      <td>10</td>\n",
       "      <td>재미집니다. 유머코드는 더 많이졌고요</td>\n",
       "    </tr>\n",
       "    <tr>\n",
       "      <th>9996</th>\n",
       "      <td>신비한 동물들과 덤블도어의 비밀</td>\n",
       "      <td>9</td>\n",
       "      <td>호그와트 많이 나와서 해덕은 그저 눈물만.... 솔직히 스토리 진짜...ㅋㅋ 너무 ...</td>\n",
       "    </tr>\n",
       "    <tr>\n",
       "      <th>9997</th>\n",
       "      <td>범죄도시2</td>\n",
       "      <td>10</td>\n",
       "      <td>시간가는줄 모르고 봤네요~단 한 순간도 화면에서 눈을 뗄 수 없을 정도로 몰입감 최...</td>\n",
       "    </tr>\n",
       "    <tr>\n",
       "      <th>9998</th>\n",
       "      <td>매스</td>\n",
       "      <td>7</td>\n",
       "      <td>NaN</td>\n",
       "    </tr>\n",
       "    <tr>\n",
       "      <th>9999</th>\n",
       "      <td>범죄도시2</td>\n",
       "      <td>10</td>\n",
       "      <td>NaN</td>\n",
       "    </tr>\n",
       "  </tbody>\n",
       "</table>\n",
       "<p>10000 rows × 3 columns</p>\n",
       "</div>"
      ],
      "text/plain": [
       "                    영화명  평점                                                 리뷰\n",
       "0                 범죄도시2  10                                                NaN\n",
       "1                 범죄도시2  10                                내누군지아니 나 장첸이야~!!  ㅋ\n",
       "2                 범죄도시2  10                             시원시원한 타격감 ㅋㅋㅋ 청량하다 마동석\n",
       "3                 범죄도시2  10                             최고의 마동석표 웰메이드 액션 코믹 영화\n",
       "4       고양이에게 밥을 주지 마세요  10                           길고양이들과 공생하는건 좋은일이라고생각합니다\n",
       "...                 ...  ..                                                ...\n",
       "9995              범죄도시2  10                               재미집니다. 유머코드는 더 많이졌고요\n",
       "9996  신비한 동물들과 덤블도어의 비밀   9  호그와트 많이 나와서 해덕은 그저 눈물만.... 솔직히 스토리 진짜...ㅋㅋ 너무 ...\n",
       "9997              범죄도시2  10  시간가는줄 모르고 봤네요~단 한 순간도 화면에서 눈을 뗄 수 없을 정도로 몰입감 최...\n",
       "9998                 매스   7                                                NaN\n",
       "9999              범죄도시2  10                                                NaN\n",
       "\n",
       "[10000 rows x 3 columns]"
      ]
     },
     "execution_count": 2,
     "metadata": {},
     "output_type": "execute_result"
    }
   ],
   "source": [
    "df=pd.read_csv('movie_data.csv')\n",
    "df"
   ]
  },
  {
   "cell_type": "code",
   "execution_count": 3,
   "id": "591f4b25",
   "metadata": {},
   "outputs": [
    {
     "data": {
      "text/html": [
       "<div>\n",
       "<style scoped>\n",
       "    .dataframe tbody tr th:only-of-type {\n",
       "        vertical-align: middle;\n",
       "    }\n",
       "\n",
       "    .dataframe tbody tr th {\n",
       "        vertical-align: top;\n",
       "    }\n",
       "\n",
       "    .dataframe thead th {\n",
       "        text-align: right;\n",
       "    }\n",
       "</style>\n",
       "<table border=\"1\" class=\"dataframe\">\n",
       "  <thead>\n",
       "    <tr style=\"text-align: right;\">\n",
       "      <th></th>\n",
       "      <th>X</th>\n",
       "      <th>y</th>\n",
       "    </tr>\n",
       "  </thead>\n",
       "  <tbody>\n",
       "    <tr>\n",
       "      <th>0</th>\n",
       "      <td>NaN</td>\n",
       "      <td>10</td>\n",
       "    </tr>\n",
       "    <tr>\n",
       "      <th>1</th>\n",
       "      <td>내누군지아니 나 장첸이야~!!  ㅋ</td>\n",
       "      <td>10</td>\n",
       "    </tr>\n",
       "    <tr>\n",
       "      <th>2</th>\n",
       "      <td>시원시원한 타격감 ㅋㅋㅋ 청량하다 마동석</td>\n",
       "      <td>10</td>\n",
       "    </tr>\n",
       "    <tr>\n",
       "      <th>3</th>\n",
       "      <td>최고의 마동석표 웰메이드 액션 코믹 영화</td>\n",
       "      <td>10</td>\n",
       "    </tr>\n",
       "    <tr>\n",
       "      <th>4</th>\n",
       "      <td>길고양이들과 공생하는건 좋은일이라고생각합니다</td>\n",
       "      <td>10</td>\n",
       "    </tr>\n",
       "    <tr>\n",
       "      <th>...</th>\n",
       "      <td>...</td>\n",
       "      <td>...</td>\n",
       "    </tr>\n",
       "    <tr>\n",
       "      <th>9995</th>\n",
       "      <td>재미집니다. 유머코드는 더 많이졌고요</td>\n",
       "      <td>10</td>\n",
       "    </tr>\n",
       "    <tr>\n",
       "      <th>9996</th>\n",
       "      <td>호그와트 많이 나와서 해덕은 그저 눈물만.... 솔직히 스토리 진짜...ㅋㅋ 너무 ...</td>\n",
       "      <td>9</td>\n",
       "    </tr>\n",
       "    <tr>\n",
       "      <th>9997</th>\n",
       "      <td>시간가는줄 모르고 봤네요~단 한 순간도 화면에서 눈을 뗄 수 없을 정도로 몰입감 최...</td>\n",
       "      <td>10</td>\n",
       "    </tr>\n",
       "    <tr>\n",
       "      <th>9998</th>\n",
       "      <td>NaN</td>\n",
       "      <td>7</td>\n",
       "    </tr>\n",
       "    <tr>\n",
       "      <th>9999</th>\n",
       "      <td>NaN</td>\n",
       "      <td>10</td>\n",
       "    </tr>\n",
       "  </tbody>\n",
       "</table>\n",
       "<p>10000 rows × 2 columns</p>\n",
       "</div>"
      ],
      "text/plain": [
       "                                                      X   y\n",
       "0                                                   NaN  10\n",
       "1                                   내누군지아니 나 장첸이야~!!  ㅋ  10\n",
       "2                                시원시원한 타격감 ㅋㅋㅋ 청량하다 마동석  10\n",
       "3                                최고의 마동석표 웰메이드 액션 코믹 영화  10\n",
       "4                              길고양이들과 공생하는건 좋은일이라고생각합니다  10\n",
       "...                                                 ...  ..\n",
       "9995                               재미집니다. 유머코드는 더 많이졌고요  10\n",
       "9996  호그와트 많이 나와서 해덕은 그저 눈물만.... 솔직히 스토리 진짜...ㅋㅋ 너무 ...   9\n",
       "9997  시간가는줄 모르고 봤네요~단 한 순간도 화면에서 눈을 뗄 수 없을 정도로 몰입감 최...  10\n",
       "9998                                                NaN   7\n",
       "9999                                                NaN  10\n",
       "\n",
       "[10000 rows x 2 columns]"
      ]
     },
     "execution_count": 3,
     "metadata": {},
     "output_type": "execute_result"
    }
   ],
   "source": [
    "data = pd.DataFrame()\n",
    "data['X']=df['리뷰']\n",
    "data['y']=df['평점']\n",
    "data"
   ]
  },
  {
   "cell_type": "code",
   "execution_count": 4,
   "id": "e97f25ce",
   "metadata": {},
   "outputs": [],
   "source": [
    "s_w=set(['은','는','이','가','를','들','에게','의','을','도','으로','만','라서','하다'])"
   ]
  },
  {
   "cell_type": "code",
   "execution_count": 5,
   "id": "6962e507",
   "metadata": {},
   "outputs": [
    {
     "data": {
      "text/plain": [
       "True"
      ]
     },
     "execution_count": 5,
     "metadata": {},
     "output_type": "execute_result"
    }
   ],
   "source": [
    "data.isnull().values.any()"
   ]
  },
  {
   "cell_type": "code",
   "execution_count": 6,
   "id": "c0ebae8a",
   "metadata": {},
   "outputs": [
    {
     "data": {
      "text/plain": [
       "(9258, 10)"
      ]
     },
     "execution_count": 6,
     "metadata": {},
     "output_type": "execute_result"
    }
   ],
   "source": [
    "data['X'].nunique(), data['y'].nunique()"
   ]
  },
  {
   "cell_type": "code",
   "execution_count": 7,
   "id": "7c96c522",
   "metadata": {
    "scrolled": true
   },
   "outputs": [
    {
     "name": "stderr",
     "output_type": "stream",
     "text": [
      "C:\\Users\\user\\AppData\\Local\\Temp/ipykernel_24444/3476282902.py:2: FutureWarning: The default value of regex will change from True to False in a future version.\n",
      "  data['clean_X']=data.X.str.replace('[^ㄱ-ㅎㅏ-ㅣ가-힣 ]','')\n",
      "C:\\Users\\user\\AppData\\Local\\Temp/ipykernel_24444/3476282902.py:2: SettingWithCopyWarning: \n",
      "A value is trying to be set on a copy of a slice from a DataFrame.\n",
      "Try using .loc[row_indexer,col_indexer] = value instead\n",
      "\n",
      "See the caveats in the documentation: https://pandas.pydata.org/pandas-docs/stable/user_guide/indexing.html#returning-a-view-versus-a-copy\n",
      "  data['clean_X']=data.X.str.replace('[^ㄱ-ㅎㅏ-ㅣ가-힣 ]','')\n",
      "C:\\Users\\user\\AppData\\Local\\Temp/ipykernel_24444/3476282902.py:3: FutureWarning: The default value of regex will change from True to False in a future version.\n",
      "  data['clean_X']=data.clean_X.str.replace('^ +','')\n",
      "C:\\Users\\user\\AppData\\Local\\Temp/ipykernel_24444/3476282902.py:3: SettingWithCopyWarning: \n",
      "A value is trying to be set on a copy of a slice from a DataFrame.\n",
      "Try using .loc[row_indexer,col_indexer] = value instead\n",
      "\n",
      "See the caveats in the documentation: https://pandas.pydata.org/pandas-docs/stable/user_guide/indexing.html#returning-a-view-versus-a-copy\n",
      "  data['clean_X']=data.clean_X.str.replace('^ +','')\n",
      "C:\\Users\\user\\AppData\\Local\\Temp/ipykernel_24444/3476282902.py:4: SettingWithCopyWarning: \n",
      "A value is trying to be set on a copy of a slice from a DataFrame.\n",
      "Try using .loc[row_indexer,col_indexer] = value instead\n",
      "\n",
      "See the caveats in the documentation: https://pandas.pydata.org/pandas-docs/stable/user_guide/indexing.html#returning-a-view-versus-a-copy\n",
      "  data['clean_X']=data.clean_X.replace('',np.nan)\n"
     ]
    }
   ],
   "source": [
    "data=data.drop_duplicates(subset=['X'])\n",
    "data['clean_X']=data.X.str.replace('[^ㄱ-ㅎㅏ-ㅣ가-힣 ]','')\n",
    "data['clean_X']=data.clean_X.str.replace('^ +','')\n",
    "data['clean_X']=data.clean_X.replace('',np.nan)\n",
    "data=data.dropna(how='any')"
   ]
  },
  {
   "cell_type": "code",
   "execution_count": 8,
   "id": "cb0b5b36",
   "metadata": {},
   "outputs": [
    {
     "name": "stderr",
     "output_type": "stream",
     "text": [
      "100%|██████████████████████████████████████████████████████████████████████████████████| 9234/9234 [00:59<00:00, 154.64it/s]\n"
     ]
    }
   ],
   "source": [
    "okt=Okt()\n",
    "from tqdm import tqdm \n",
    "X_data=[] \n",
    "for i in tqdm(data['clean_X']): \n",
    "    tk_d=okt.morphs(i) \n",
    "    end_d=[w for w in tk_d if not w in s_w]\n",
    "    X_data.append(' '.join(end_d))"
   ]
  },
  {
   "cell_type": "code",
   "execution_count": 9,
   "id": "1141583e",
   "metadata": {},
   "outputs": [],
   "source": [
    "data['y_name']=data['y']\n",
    "data['encoder_y']=LabelEncoder().fit_transform(data['y'])\n",
    "data['categorical_y']=list(to_categorical(data['encoder_y']))"
   ]
  },
  {
   "cell_type": "code",
   "execution_count": 29,
   "id": "5dcde04f",
   "metadata": {},
   "outputs": [],
   "source": [
    "Y=to_categorical(data['encoder_y']) #다중\n",
    "#Y=np.array(data['encoder_y'])#이진"
   ]
  },
  {
   "cell_type": "code",
   "execution_count": 30,
   "id": "e85530e0",
   "metadata": {},
   "outputs": [
    {
     "data": {
      "text/plain": [
       "(9234, 10)"
      ]
     },
     "execution_count": 30,
     "metadata": {},
     "output_type": "execute_result"
    }
   ],
   "source": [
    "Y.shape"
   ]
  },
  {
   "cell_type": "code",
   "execution_count": 31,
   "id": "4547c921",
   "metadata": {},
   "outputs": [],
   "source": [
    "X=np.array(X_data)"
   ]
  },
  {
   "cell_type": "code",
   "execution_count": 32,
   "id": "67d7d0a1",
   "metadata": {},
   "outputs": [],
   "source": [
    "x_data,test_x,y_data,test_y = train_test_split(X,Y,test_size=0.3,random_state=0)"
   ]
  },
  {
   "cell_type": "code",
   "execution_count": 33,
   "id": "7f199cb9",
   "metadata": {},
   "outputs": [],
   "source": [
    "train_x,val_x,train_y,val_y = train_test_split(x_data,y_data,test_size=0.2,random_state=0)"
   ]
  },
  {
   "cell_type": "code",
   "execution_count": 34,
   "id": "e1331c34",
   "metadata": {},
   "outputs": [],
   "source": [
    "tk = Tokenizer()\n",
    "tk.fit_on_texts(train_x)"
   ]
  },
  {
   "cell_type": "code",
   "execution_count": 35,
   "id": "cd2dc57c",
   "metadata": {},
   "outputs": [],
   "source": [
    "n=len([d for d in sorted(list(tk.word_counts.items()),key=lambda x:x[1]) if d[1]>4])+1"
   ]
  },
  {
   "cell_type": "code",
   "execution_count": 36,
   "id": "b6c824a4",
   "metadata": {},
   "outputs": [
    {
     "data": {
      "text/plain": [
       "1966"
      ]
     },
     "execution_count": 36,
     "metadata": {},
     "output_type": "execute_result"
    }
   ],
   "source": [
    "n"
   ]
  },
  {
   "cell_type": "code",
   "execution_count": 37,
   "id": "691e14d0",
   "metadata": {},
   "outputs": [],
   "source": [
    "token=Tokenizer(n)\n",
    "token.fit_on_texts(train_x)"
   ]
  },
  {
   "cell_type": "code",
   "execution_count": 38,
   "id": "c68c95ee",
   "metadata": {},
   "outputs": [],
   "source": [
    "token_train_x=token.texts_to_sequences(train_x)\n",
    "token_test_x=token.texts_to_sequences(test_x)\n",
    "token_val_x=token.texts_to_sequences(val_x)"
   ]
  },
  {
   "cell_type": "code",
   "execution_count": 39,
   "id": "6d807c2d",
   "metadata": {},
   "outputs": [],
   "source": [
    "drop_train = [index for index, sentence in enumerate(token_train_x) if len(sentence) < 1]\n",
    "drop_test = [index for index, sentence in enumerate(token_test_x) if len(sentence) < 1]\n",
    "drop_val = [index for index, sentence in enumerate(token_val_x) if len(sentence) < 1]"
   ]
  },
  {
   "cell_type": "code",
   "execution_count": 40,
   "id": "8743f7a8",
   "metadata": {},
   "outputs": [],
   "source": [
    "token_train_x = np.delete(token_train_x, drop_train, axis=0)\n",
    "train_y = np.delete(train_y, drop_train, axis=0)\n",
    "token_test_x = np.delete(token_test_x, drop_test, axis=0)\n",
    "test_y = np.delete(test_y, drop_test, axis=0)\n",
    "token_val_x = np.delete(token_val_x, drop_val, axis=0)\n",
    "val_y = np.delete(val_y, drop_val, axis=0)"
   ]
  },
  {
   "cell_type": "code",
   "execution_count": 41,
   "id": "de0af20a",
   "metadata": {},
   "outputs": [],
   "source": [
    "w_l=len(pad_sequences(token_train_x)[0])"
   ]
  },
  {
   "cell_type": "code",
   "execution_count": 42,
   "id": "e3100425",
   "metadata": {},
   "outputs": [
    {
     "data": {
      "text/plain": [
       "188"
      ]
     },
     "execution_count": 42,
     "metadata": {},
     "output_type": "execute_result"
    }
   ],
   "source": [
    "w_l"
   ]
  },
  {
   "cell_type": "code",
   "execution_count": 43,
   "id": "2d16cfc3",
   "metadata": {},
   "outputs": [],
   "source": [
    "train_inputs = pad_sequences(token_train_x,maxlen=w_l)\n",
    "test_inputs = pad_sequences(token_test_x,maxlen=w_l)\n",
    "val_inputs = pad_sequences(token_val_x,maxlen=w_l)"
   ]
  },
  {
   "cell_type": "code",
   "execution_count": 44,
   "id": "bd2b7aee",
   "metadata": {},
   "outputs": [],
   "source": [
    "train_outputs=train_y\n",
    "test_outputs=test_y\n",
    "val_outputs=val_y"
   ]
  },
  {
   "cell_type": "code",
   "execution_count": 45,
   "id": "1f9a24d0",
   "metadata": {},
   "outputs": [],
   "source": [
    "전처리_된_데이터={}\n",
    "전처리_된_데이터['학습_데이터']=train_inputs\n",
    "전처리_된_데이터['학습_결과']=train_outputs\n",
    "전처리_된_데이터['태스트_데이터']=test_inputs\n",
    "전처리_된_데이터['태스트_결과']=test_outputs\n",
    "전처리_된_데이터['검증_데이터']=val_inputs\n",
    "전처리_된_데이터['검증_결과']=val_outputs\n",
    "전처리_된_데이터['토큰']=token\n",
    "전처리_된_데이터['단어수']=n\n",
    "전처리_된_데이터['불용어']=s_w\n",
    "전처리_된_데이터['입력길이']=w_l"
   ]
  },
  {
   "cell_type": "code",
   "execution_count": 46,
   "id": "b219d574",
   "metadata": {},
   "outputs": [
    {
     "data": {
      "text/plain": [
       "dict_keys(['학습_데이터', '학습_결과', '태스트_데이터', '태스트_결과', '검증_데이터', '검증_결과', '토큰', '단어수', '불용어', '입력길이'])"
      ]
     },
     "execution_count": 46,
     "metadata": {},
     "output_type": "execute_result"
    }
   ],
   "source": [
    "전처리_된_데이터.keys()"
   ]
  },
  {
   "cell_type": "code",
   "execution_count": 47,
   "id": "ab875c40",
   "metadata": {},
   "outputs": [],
   "source": [
    "import pickle\n",
    "with open(\"data.pickle\",\"wb\") as fw:\n",
    "    pickle.dump(전처리_된_데이터, fw)"
   ]
  }
 ],
 "metadata": {
  "kernelspec": {
   "display_name": "Python 3 (ipykernel)",
   "language": "python",
   "name": "python3"
  },
  "language_info": {
   "codemirror_mode": {
    "name": "ipython",
    "version": 3
   },
   "file_extension": ".py",
   "mimetype": "text/x-python",
   "name": "python",
   "nbconvert_exporter": "python",
   "pygments_lexer": "ipython3",
   "version": "3.9.7"
  }
 },
 "nbformat": 4,
 "nbformat_minor": 5
}
