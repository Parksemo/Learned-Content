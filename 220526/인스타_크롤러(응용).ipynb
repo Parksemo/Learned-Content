{
 "cells": [
  {
   "cell_type": "code",
   "execution_count": 1,
   "metadata": {},
   "outputs": [],
   "source": [
    "import pandas as pd\n",
    "import numpy as np\n",
    "\n",
    "# 라이브러리 import\n",
    "# 라이브러리 : 필요한 도구\n",
    "from selenium import webdriver  # 라이브러리(모듈) 가져오라\n",
    "from selenium.webdriver import ActionChains as AC\n",
    "import chromedriver_autoinstaller\n",
    "from tqdm import tqdm\n",
    "from tqdm import tqdm_notebook\n",
    "import re\n",
    "from time import sleep\n",
    "import time\n",
    "\n",
    "# 워닝 무시\n",
    "import warnings\n",
    "warnings.filterwarnings('ignore')"
   ]
  },
  {
   "cell_type": "code",
   "execution_count": 2,
   "metadata": {},
   "outputs": [],
   "source": [
    "# 데이터 수집할 키워드 지정\n",
    "keyword = \"아이유\"\n",
    "len_insta = 20  # 몇 개의 게시글을 수집할 것인가"
   ]
  },
  {
   "cell_type": "code",
   "execution_count": 3,
   "metadata": {},
   "outputs": [],
   "source": [
    "# url에 검색 'keyword' 입력\n",
    "url = \"https://www.instagram.com/explore/tags/{}/\".format(keyword)\n",
    "\n",
    "chrome_path = chromedriver_autoinstaller.install()\n",
    "driver = webdriver.Chrome(chrome_path)\n",
    "driver.get(url)"
   ]
  },
  {
   "cell_type": "raw",
   "metadata": {},
   "source": [
    "수동 로그인"
   ]
  },
  {
   "cell_type": "code",
   "execution_count": 8,
   "metadata": {
    "scrolled": true
   },
   "outputs": [
    {
     "data": {
      "application/vnd.jupyter.widget-view+json": {
       "model_id": "3a33a4df60a64027b26e7d27a8ddd13f",
       "version_major": 2,
       "version_minor": 0
      },
      "text/plain": [
       "  0%|          | 0/20 [00:00<?, ?it/s]"
      ]
     },
     "metadata": {},
     "output_type": "display_data"
    },
    {
     "name": "stdout",
     "output_type": "stream",
     "text": [
      "0 ['#아이유', '#이지은', '#LEEJIEUN', '#IU', '#브로커', '#Broker', '#칸영화제', '#CannesFilmFestival', '#공항패션', '#공항', '#출국', '#airport', '#departure', '#DIPE', '#디스패치', '#dispatch']\n",
      "6 ['#아이유', '#밀리언코르', '#데님', '#아이유패션', '#아이유데님', '#연예인패션', '#스타패션', '#데님팬츠', '#청바지', '#청바지추천', '#여자코디', '#부츠컷데님', '#데님스타일링', '#데이트룩', '#ootd', '#디스트리뷰트_디스패치']\n",
      "10 ['#이지은', '#아이유', '#유애나', '#칸', '#브로커']\n",
      "19 ['#유메이우동', '#단골52번지', '#바즐서핑', '#아이유', '#오늘도화창', '#제주도카페', '#제주카페', '#제주카페투어', '#카페투어', '#제주여행', '#제주도여행', '#제주맛집', '#제주동쪽맛집', '#제주동쪽카페', '#조천맛집', '#조천카페', '#조천읍맛집', '#구좌읍맛집', '#구좌맛집', '#구좌읍카페', '#제주월정리', '#월정리카페', '#월정리해변', '#월정리카페거리', '#구좌당근', '#당근케이크', '#구좌당근케이크', '#당근주스', '#구좌당근주스', '#제주올레길']\n",
      "{0: {'picture': 'https://scontent-gmp1-1.cdninstagram.com/v/t51.2885-15/283227009_384286350141315_3043691161258113726_n.jpg?stp=dst-jpg_e35&_nc_ht=scontent-gmp1-1.cdninstagram.com&_nc_cat=103&_nc_ohc=JNM_rYrOIqUAX-7FqGy&tn=MEG8BRlmL2h32nhe&edm=ALQROFkBAAAA&ccb=7-5&ig_cache_key=Mjg0NDkwMDUzNjU0Mzk5NDc2MQ%3D%3D.2-ccb7-5&oh=00_AT9ZzUegnOGs5GxoTw3jq76--cQtw2QYWS6mqA3M8O31PA&oe=62966265&_nc_sid=30a2ef', 'date': '2022년 5월 24일', 'like': '좋아요 392,489개', 'tag': ['#아이유', '#이지은', '#LEEJIEUN', '#IU', '#브로커', '#Broker', '#칸영화제', '#CannesFilmFestival', '#공항패션', '#공항', '#출국', '#airport', '#departure', '#DIPE', '#디스패치', '#dispatch']}, 6: {'picture': 'https://scontent-gmp1-1.cdninstagram.com/v/t51.2885-15/281963778_158459716674755_7127711248409389717_n.jpg?stp=dst-jpg_e15_fr_s1080x1080&_nc_ht=scontent-gmp1-1.cdninstagram.com&_nc_cat=111&_nc_ohc=TclVC86P-y0AX_OsZpx&edm=ALQROFkBAAAA&ccb=7-5&ig_cache_key=Mjg0MjczMzAyMDgyNDY3OTExOA%3D%3D.2-ccb7-5&oh=00_AT_z8Sz_X80s7KhW3ltuQj5YycuOpXsFNgPBuj8jMAB9tA&oe=6295FDA5&_nc_sid=30a2ef', 'date': '2022년 5월 21일', 'like': '좋아요 6,224개', 'tag': ['#아이유', '#밀리언코르', '#데님', '#아이유패션', '#아이유데님', '#연예인패션', '#스타패션', '#데님팬츠', '#청바지', '#청바지추천', '#여자코디', '#부츠컷데님', '#데님스타일링', '#데이트룩', '#ootd', '#디스트리뷰트_디스패치']}, 10: {'picture': 'https://scontent-gmp1-1.cdninstagram.com/v/t51.2885-15/284163252_373463098152833_4112854177268179200_n.jpg?stp=dst-jpg_e35&_nc_ht=scontent-gmp1-1.cdninstagram.com&_nc_cat=105&_nc_ohc=6ZPbKYOI5ioAX8SVeaT&edm=ALQROFkBAAAA&ccb=7-5&ig_cache_key=Mjg0NjMzMDIwOTk0MzY2MjE4NQ%3D%3D.2-ccb7-5&oh=00_AT_Ldq9CAX4iJDrcRIJmgObie3-8_M7earedZL4NeKxZlQ&oe=6294E4C7&_nc_sid=30a2ef', 'date': '2022년 5월 26일', 'like': '좋아요 155개', 'tag': ['#이지은', '#아이유', '#유애나', '#칸', '#브로커']}, 19: {'picture': 'https://scontent-gmp1-1.cdninstagram.com/v/t51.2885-15/283927145_788513608800077_2779067680401137200_n.webp?stp=dst-jpg_e35&_nc_ht=scontent-gmp1-1.cdninstagram.com&_nc_cat=105&_nc_ohc=P62Amrgw1DUAX-5dAxj&edm=ALQROFkBAAAA&ccb=7-5&ig_cache_key=Mjg0NjMyMjA3OTU2Mzc2NjMzOA%3D%3D.2-ccb7-5&oh=00_AT-bW4AQHfaRR9x3Ex5Sr6vmy2Ie_ODekjMvCg0DpOkuZw&oe=6294DBA6&_nc_sid=30a2ef', 'date': '2022년 5월 26일', 'like': '좋아요 8개', 'tag': ['#유메이우동', '#단골52번지', '#바즐서핑', '#아이유', '#오늘도화창', '#제주도카페', '#제주카페', '#제주카페투어', '#카페투어', '#제주여행', '#제주도여행', '#제주맛집', '#제주동쪽맛집', '#제주동쪽카페', '#조천맛집', '#조천카페', '#조천읍맛집', '#구좌읍맛집', '#구좌맛집', '#구좌읍카페', '#제주월정리', '#월정리카페', '#월정리해변', '#월정리카페거리', '#구좌당근', '#당근케이크', '#구좌당근케이크', '#당근주스', '#구좌당근주스', '#제주올레길']}}\n"
     ]
    }
   ],
   "source": [
    "dict = {}  # 전체 게시글을 담을 그릇\n",
    "\n",
    "# 첫번째 사진 클릭\n",
    "CSS_tran=\".eLAPa\"\n",
    "elements = driver.find_elements_by_css_selector(CSS_tran)   # 사진 클릭\n",
    "elements[0].click()\n",
    "time.sleep(2)\n",
    "\n",
    "# 크롤링 시작\n",
    "for j in tqdm_notebook(range(0, len_insta)):    \n",
    "\n",
    "    target_info = {}                                            # 사진별 데이터를 담을 딕셔너리 생성\n",
    "\n",
    "    try:    # 크롤링을 시도해라.\n",
    "        # 사진(pic) 크롤링\n",
    "        overlays1 = \".eLAPa.RzuR0 .FFVAD\"                   # 사진창 속 사진   \n",
    "        img = driver.find_element_by_css_selector(overlays1)    # 사진 선택\n",
    "        pic = img.get_attribute('src')                          # 사진 url 크롤링 완료\n",
    "        target_info['picture'] = pic\n",
    "\n",
    "        # 날짜(date) 크롤링\n",
    "        overlays2 = \"._1o9PC\"                # 날짜 지정\n",
    "        datum2 = driver.find_element_by_css_selector(overlays2)     # 날짜 선택\n",
    "        date = datum2.get_attribute('title')\n",
    "        target_info['date'] = date\n",
    "\n",
    "        # 좋아요(like) 크롤링\n",
    "        overlays3 = \"._7UhW9.xLCgt.qyrsm.KV-D4.fDxYl.T0kll\"                                        # 리뷰창 속 날짜\n",
    "        datum3 = driver.find_element_by_css_selector(overlays3)     # 리뷰 선택\n",
    "        like = datum3.text                                          # 좋아요 크롤링 완료\n",
    "        target_info['like'] = like\n",
    "\n",
    "        # 해시태그(tag) 크롤링\n",
    "        overlays4 = \".xil3i\"                                         \n",
    "        datum3 = driver.find_elements_by_css_selector(overlays4)    # 태그 선택\n",
    "        tag_list = []\n",
    "        for i in range(len(datum3)):\n",
    "            tag_list.append(datum3[i].text)\n",
    "        target_info['tag'] = tag_list\n",
    "\n",
    "        dict[j] = target_info            # 토탈 딕셔너리로 만들기\n",
    "\n",
    "        print(j, tag_list)\n",
    "\n",
    "        # 다음장 클릭\n",
    "        CSS_tran2=\"body > div.RnEpo._Yhr4 > div.Z2Inc._7c9RR > div > div.l8mY4.feth3 > button > div > span > svg\"             # 다음 버튼 정의\n",
    "        tran_button2 = driver.find_element_by_css_selector(CSS_tran2)  # 다음 버튼 find\n",
    "        AC(driver).move_to_element(tran_button2).click().perform()     # 다음 버튼 클릭\n",
    "        time.sleep(3)\n",
    "\n",
    "    except:  # 에러가 나면 다음장을 클릭해라\n",
    "        # 다음장 클릭\n",
    "        CSS_tran2=\"body > div.RnEpo._Yhr4 > div.Z2Inc._7c9RR > div > div.l8mY4.feth3 > button > div > span > svg\"             # 다음 버튼 정의\n",
    "        tran_button2 = driver.find_element_by_css_selector(CSS_tran2)  # 다음 버튼 find\n",
    "        AC(driver).move_to_element(tran_button2).click().perform()     # 다음 버튼 클릭\n",
    "\n",
    "        time.sleep(3)\n",
    "\n",
    "print(dict)"
   ]
  },
  {
   "cell_type": "code",
   "execution_count": 9,
   "metadata": {
    "scrolled": false
   },
   "outputs": [
    {
     "name": "stdout",
     "output_type": "stream",
     "text": [
      "(4, 4)\n"
     ]
    },
    {
     "data": {
      "text/html": [
       "<div>\n",
       "<style scoped>\n",
       "    .dataframe tbody tr th:only-of-type {\n",
       "        vertical-align: middle;\n",
       "    }\n",
       "\n",
       "    .dataframe tbody tr th {\n",
       "        vertical-align: top;\n",
       "    }\n",
       "\n",
       "    .dataframe thead th {\n",
       "        text-align: right;\n",
       "    }\n",
       "</style>\n",
       "<table border=\"1\" class=\"dataframe\">\n",
       "  <thead>\n",
       "    <tr style=\"text-align: right;\">\n",
       "      <th></th>\n",
       "      <th>picture</th>\n",
       "      <th>date</th>\n",
       "      <th>like</th>\n",
       "      <th>tag</th>\n",
       "    </tr>\n",
       "  </thead>\n",
       "  <tbody>\n",
       "    <tr>\n",
       "      <th>0</th>\n",
       "      <td>https://scontent-gmp1-1.cdninstagram.com/v/t51...</td>\n",
       "      <td>2022년 5월 24일</td>\n",
       "      <td>좋아요 392,489개</td>\n",
       "      <td>[#아이유, #이지은, #LEEJIEUN, #IU, #브로커, #Broker, #칸...</td>\n",
       "    </tr>\n",
       "    <tr>\n",
       "      <th>6</th>\n",
       "      <td>https://scontent-gmp1-1.cdninstagram.com/v/t51...</td>\n",
       "      <td>2022년 5월 21일</td>\n",
       "      <td>좋아요 6,224개</td>\n",
       "      <td>[#아이유, #밀리언코르, #데님, #아이유패션, #아이유데님, #연예인패션, #스...</td>\n",
       "    </tr>\n",
       "    <tr>\n",
       "      <th>10</th>\n",
       "      <td>https://scontent-gmp1-1.cdninstagram.com/v/t51...</td>\n",
       "      <td>2022년 5월 26일</td>\n",
       "      <td>좋아요 155개</td>\n",
       "      <td>[#이지은, #아이유, #유애나, #칸, #브로커]</td>\n",
       "    </tr>\n",
       "    <tr>\n",
       "      <th>19</th>\n",
       "      <td>https://scontent-gmp1-1.cdninstagram.com/v/t51...</td>\n",
       "      <td>2022년 5월 26일</td>\n",
       "      <td>좋아요 8개</td>\n",
       "      <td>[#유메이우동, #단골52번지, #바즐서핑, #아이유, #오늘도화창, #제주도카페,...</td>\n",
       "    </tr>\n",
       "  </tbody>\n",
       "</table>\n",
       "</div>"
      ],
      "text/plain": [
       "                                              picture          date  \\\n",
       "0   https://scontent-gmp1-1.cdninstagram.com/v/t51...  2022년 5월 24일   \n",
       "6   https://scontent-gmp1-1.cdninstagram.com/v/t51...  2022년 5월 21일   \n",
       "10  https://scontent-gmp1-1.cdninstagram.com/v/t51...  2022년 5월 26일   \n",
       "19  https://scontent-gmp1-1.cdninstagram.com/v/t51...  2022년 5월 26일   \n",
       "\n",
       "            like                                                tag  \n",
       "0   좋아요 392,489개  [#아이유, #이지은, #LEEJIEUN, #IU, #브로커, #Broker, #칸...  \n",
       "6     좋아요 6,224개  [#아이유, #밀리언코르, #데님, #아이유패션, #아이유데님, #연예인패션, #스...  \n",
       "10      좋아요 155개                       [#이지은, #아이유, #유애나, #칸, #브로커]  \n",
       "19        좋아요 8개  [#유메이우동, #단골52번지, #바즐서핑, #아이유, #오늘도화창, #제주도카페,...  "
      ]
     },
     "execution_count": 9,
     "metadata": {},
     "output_type": "execute_result"
    }
   ],
   "source": [
    "# 판다스 데이터프레임으로 만들기 : 엑셀(테이블) 형식으로 만들기\n",
    "import pandas as pd\n",
    "result_df = pd.DataFrame.from_dict(dict, 'index')\n",
    "\n",
    "print(result_df.shape)\n",
    "result_df"
   ]
  },
  {
   "cell_type": "code",
   "execution_count": 10,
   "metadata": {
    "scrolled": false
   },
   "outputs": [],
   "source": [
    "# csv 파일로 저장\n",
    "result_df.to_csv(\"insta({}).csv\".format(keyword), encoding='utf-8-sig')"
   ]
  },
  {
   "cell_type": "code",
   "execution_count": 11,
   "metadata": {},
   "outputs": [
    {
     "data": {
      "text/plain": [
       "4"
      ]
     },
     "execution_count": 11,
     "metadata": {},
     "output_type": "execute_result"
    }
   ],
   "source": [
    "num_pic = len(result_df['picture'])\n",
    "num_pic"
   ]
  },
  {
   "cell_type": "code",
   "execution_count": 13,
   "metadata": {},
   "outputs": [],
   "source": [
    "# 이미지들 image_insta 폴더에 다운받기\n",
    "import os\n",
    "import urllib.request\n",
    "\n",
    "# 만약 image_insta 폴더가 없으면 만들어라\n",
    "if not os.path.exists(\"image_insta({})\".format(keyword)):\n",
    "    os.makedirs(\"image_insta({})\".format(keyword))\n",
    "        \n",
    "for i in range(0, 50):\n",
    "    \n",
    "    try:\n",
    "        index = result_df['picture'][i]\n",
    "        date = result_df['date'][i]\n",
    "        urllib.request.urlretrieve(index, \"image_insta({})/{}_{}.jpg\".format(keyword,date, i))        \n",
    "    except:\n",
    "        pass"
   ]
  },
  {
   "cell_type": "markdown",
   "metadata": {},
   "source": [
    "끝"
   ]
  },
  {
   "cell_type": "code",
   "execution_count": null,
   "metadata": {},
   "outputs": [],
   "source": []
  }
 ],
 "metadata": {
  "kernelspec": {
   "display_name": "Python 3 (ipykernel)",
   "language": "python",
   "name": "python3"
  },
  "language_info": {
   "codemirror_mode": {
    "name": "ipython",
    "version": 3
   },
   "file_extension": ".py",
   "mimetype": "text/x-python",
   "name": "python",
   "nbconvert_exporter": "python",
   "pygments_lexer": "ipython3",
   "version": "3.9.7"
  },
  "toc": {
   "base_numbering": 1,
   "nav_menu": {},
   "number_sections": true,
   "sideBar": true,
   "skip_h1_title": false,
   "title_cell": "Table of Contents",
   "title_sidebar": "Contents",
   "toc_cell": false,
   "toc_position": {},
   "toc_section_display": true,
   "toc_window_display": false
  },
  "varInspector": {
   "cols": {
    "lenName": 16,
    "lenType": 16,
    "lenVar": 40
   },
   "kernels_config": {
    "python": {
     "delete_cmd_postfix": "",
     "delete_cmd_prefix": "del ",
     "library": "var_list.py",
     "varRefreshCmd": "print(var_dic_list())"
    },
    "r": {
     "delete_cmd_postfix": ") ",
     "delete_cmd_prefix": "rm(",
     "library": "var_list.r",
     "varRefreshCmd": "cat(var_dic_list()) "
    }
   },
   "types_to_exclude": [
    "module",
    "function",
    "builtin_function_or_method",
    "instance",
    "_Feature"
   ],
   "window_display": false
  }
 },
 "nbformat": 4,
 "nbformat_minor": 2
}
