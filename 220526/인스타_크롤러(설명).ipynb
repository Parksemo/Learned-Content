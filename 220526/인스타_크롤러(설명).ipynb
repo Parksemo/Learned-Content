{
 "cells": [
  {
   "cell_type": "code",
   "execution_count": 1,
   "metadata": {},
   "outputs": [],
   "source": [
    "import pandas as pd\n",
    "import numpy as np\n",
    "\n",
    "# 라이브러리 import\n",
    "# 라이브러리 : 필요한 도구\n",
    "from selenium import webdriver  # 라이브러리(모듈) 가져오라\n",
    "from selenium.webdriver import ActionChains as AC\n",
    "import chromedriver_autoinstaller\n",
    "from tqdm import tqdm\n",
    "from tqdm import tqdm_notebook\n",
    "import re\n",
    "from time import sleep\n",
    "import time\n",
    "\n",
    "# 워닝 무시\n",
    "import warnings\n",
    "warnings.filterwarnings('ignore')"
   ]
  },
  {
   "cell_type": "markdown",
   "metadata": {},
   "source": [
    "## (테스트용)크롤링 연구"
   ]
  },
  {
   "cell_type": "code",
   "execution_count": 2,
   "metadata": {},
   "outputs": [
    {
     "data": {
      "text/plain": [
       "'대연동맛집'"
      ]
     },
     "execution_count": 2,
     "metadata": {},
     "output_type": "execute_result"
    }
   ],
   "source": [
    "# 데이터 수집할 키워드 지정\n",
    "keyword = \"대연동맛집\"\n",
    "keyword"
   ]
  },
  {
   "cell_type": "code",
   "execution_count": 4,
   "metadata": {},
   "outputs": [],
   "source": [
    "# url에 검색 'keyword' 입력\n",
    "url = \"https://www.instagram.com/explore/tags/{}/\".format(keyword)\n",
    "\n",
    "chrome_path = chromedriver_autoinstaller.install()\n",
    "driver = webdriver.Chrome(chrome_path)\n",
    "driver.get(url)"
   ]
  },
  {
   "cell_type": "raw",
   "metadata": {},
   "source": [
    "수동 로그인 "
   ]
  },
  {
   "cell_type": "code",
   "execution_count": 11,
   "metadata": {},
   "outputs": [],
   "source": [
    "# 첫번째 사진 클릭\n",
    "CSS_tran=\".eLAPa\"\n",
    "elements = driver.find_elements_by_css_selector(CSS_tran)   # 사진 클릭\n",
    "elements[0].click()"
   ]
  },
  {
   "cell_type": "code",
   "execution_count": 15,
   "metadata": {},
   "outputs": [
    {
     "data": {
      "text/plain": [
       "'https://scontent-gmp1-1.cdninstagram.com/v/t51.2885-15/283853019_580825406593867_2330983498701757898_n.webp?stp=dst-jpg_e35&_nc_ht=scontent-gmp1-1.cdninstagram.com&_nc_cat=107&_nc_ohc=G1CFIo8XWb0AX-4LWj_&edm=ALQROFkBAAAA&ccb=7-5&ig_cache_key=Mjg0NjIzMzM1MzY2NDE3MzYwMQ%3D%3D.2-ccb7-5&oh=00_AT8a6Cyi9QZMNFAmAhtmlG0Ro73fAud-4h5OrWmrhPdbqQ&oe=62966B7A&_nc_sid=30a2ef'"
      ]
     },
     "execution_count": 15,
     "metadata": {},
     "output_type": "execute_result"
    }
   ],
   "source": [
    "# 사진(pic) 크롤링\n",
    "overlays1 = \".FFVAD\"                   # 사진창 속 사진   \n",
    "img = driver.find_element_by_css_selector(overlays1)    # 사진 선택\n",
    "img                          # 사진 url 크롤링 완료\n",
    "\n",
    "pic = img.get_attribute('src')                          # 사진 url 크롤링 완료\n",
    "pic"
   ]
  },
  {
   "cell_type": "code",
   "execution_count": 18,
   "metadata": {},
   "outputs": [
    {
     "data": {
      "text/plain": [
       "'2022년 5월 26일'"
      ]
     },
     "execution_count": 18,
     "metadata": {},
     "output_type": "execute_result"
    }
   ],
   "source": [
    "# 날짜(date) 크롤링\n",
    "overlays2 = \".FH9sR.RhOlS\"                  # 날짜 지정\n",
    "datum2 = driver.find_element_by_css_selector(overlays2)     # 날짜 선택\n",
    "datum2.get_attribute('title')"
   ]
  },
  {
   "cell_type": "code",
   "execution_count": 17,
   "metadata": {},
   "outputs": [
    {
     "data": {
      "text/plain": [
       "'좋아요 3개'"
      ]
     },
     "execution_count": 17,
     "metadata": {},
     "output_type": "execute_result"
    }
   ],
   "source": [
    "# 좋아요(like) 크롤링\n",
    "overlays3 = \"._7UhW9.xLCgt.qyrsm.KV-D4.fDxYl.T0kll\"                                        # 리뷰창 속 날짜\n",
    "datum3 = driver.find_element_by_css_selector(overlays3)     # 리뷰 선택\n",
    "like = datum3.text                                          # 좋아요 크롤링 완료\n",
    "like"
   ]
  },
  {
   "cell_type": "code",
   "execution_count": 19,
   "metadata": {},
   "outputs": [
    {
     "data": {
      "text/plain": [
       "'#고쿠텐이라'"
      ]
     },
     "execution_count": 19,
     "metadata": {},
     "output_type": "execute_result"
    }
   ],
   "source": [
    "# 해시태그(tag) 크롤링\n",
    "overlays4 = \".xil3i\"                                         \n",
    "datum3 = driver.find_elements_by_css_selector(overlays4)    # 태그 선택\n",
    "datum3[0].text"
   ]
  },
  {
   "cell_type": "code",
   "execution_count": 20,
   "metadata": {},
   "outputs": [
    {
     "data": {
      "text/plain": [
       "['#고쿠텐이라', '#대연동맛집', '#부경대맛집', '#경성대맛집', '#부산대연동맛집', '#텐동맛집']"
      ]
     },
     "execution_count": 20,
     "metadata": {},
     "output_type": "execute_result"
    }
   ],
   "source": [
    "tag_list = []\n",
    "for i in range(len(datum3)):\n",
    "    tag_list.append(datum3[i].text)\n",
    "tag_list"
   ]
  },
  {
   "cell_type": "code",
   "execution_count": 21,
   "metadata": {
    "scrolled": false
   },
   "outputs": [],
   "source": [
    "# 다음장 클릭\n",
    "CSS_tran2=\"body > div.RnEpo._Yhr4 > div.Z2Inc._7c9RR > div > div.l8mY4.feth3 > button > div > span > svg\"          \n",
    "driver.find_element_by_css_selector(CSS_tran2).click()  # 다음 버튼 find"
   ]
  },
  {
   "cell_type": "code",
   "execution_count": null,
   "metadata": {},
   "outputs": [],
   "source": []
  },
  {
   "cell_type": "code",
   "execution_count": null,
   "metadata": {},
   "outputs": [],
   "source": []
  },
  {
   "cell_type": "markdown",
   "metadata": {},
   "source": [
    "# for문으로 인스타그램 크롤링 시작!"
   ]
  },
  {
   "cell_type": "code",
   "execution_count": 22,
   "metadata": {},
   "outputs": [],
   "source": [
    "# 데이터 수집할 키워드 지정\n",
    "keyword = \"대연동맛집\"\n",
    "len_insta = 20  # 몇 개의 게시글을 수집할 것인가"
   ]
  },
  {
   "cell_type": "code",
   "execution_count": 23,
   "metadata": {},
   "outputs": [],
   "source": [
    "# url에 검색 'keyword' 입력\n",
    "url = \"https://www.instagram.com/explore/tags/{}/\".format(keyword)\n",
    "\n",
    "chrome_path = chromedriver_autoinstaller.install()\n",
    "driver = webdriver.Chrome(chrome_path)\n",
    "driver.get(url)"
   ]
  },
  {
   "cell_type": "raw",
   "metadata": {},
   "source": [
    "수동 로그인"
   ]
  },
  {
   "cell_type": "code",
   "execution_count": 24,
   "metadata": {
    "scrolled": true
   },
   "outputs": [
    {
     "data": {
      "application/vnd.jupyter.widget-view+json": {
       "model_id": "ee5b32e4c3b044ed8caa9fbf7f1cf0ad",
       "version_major": 2,
       "version_minor": 0
      },
      "text/plain": [
       "  0%|          | 0/20 [00:00<?, ?it/s]"
      ]
     },
     "metadata": {},
     "output_type": "display_data"
    },
    {
     "name": "stdout",
     "output_type": "stream",
     "text": [
      "1 ['#운대돈', '#대연맛집', '#대연동맛집', '#경성대맛집', '#부경대맛집', '#경성대고기집', '#대연동고기집', '#부산고기집', '#경성대핫플', '#대연동운대돈']\n",
      "12 ['#통영여행', '#통영맛집', '#통영다찌', '#통영반다찌', '#정아실비']\n",
      "14 ['#하코네라멘', '#하코네', '#대연동라멘맛집', '#대연동하코네', '#대연동맛집', '#대연동', '#경성대', '#경성대맛집', '#부산먹진남맛집', '#대연동먹진남맛집', '#라멘맛집', '#부산라멘맛집', '#먹진남', '#부산맛집', '#전국맛집', '#맛집탐방', '#맛집소개', '#맛집', '#먹방', '#건강', '#패션', '#일상', '#여행', '#팔로우', '#좋아요', '#맞팔', '#선팔', '#찐소통', '#선맞팔']\n",
      "18 ['#공원칼국수', '#칼국수', '#만두', '#수육', '#국수', '#칼국수맛집', '#부산맛집', '#대연동맛집', '#남천동맛집', '#경대맛집', '#부경대맛집', '#국수맛집', '#술집추천', '#부산술집', '#부산핫플']\n",
      "{1: {'picture': 'https://scontent-gmp1-1.cdninstagram.com/v/t51.2885-15/283331339_549310270171948_6540596658143938041_n.webp?stp=dst-jpg_e35&_nc_ht=scontent-gmp1-1.cdninstagram.com&_nc_cat=104&_nc_ohc=XnH434ADfNAAX_vFrfa&edm=ALQROFkBAAAA&ccb=7-5&ig_cache_key=Mjg0NTY2NzYwODg2NTIyNjM3Ng%3D%3D.2-ccb7-5&oh=00_AT-lk34Rigvlim9uBRflD20wkTn94N10qlhk4_mbgSqibg&oe=6295A435&_nc_sid=30a2ef', 'date': '2022년 5월 25일', 'like': '좋아요 1,124개', 'tag': ['#운대돈', '#대연맛집', '#대연동맛집', '#경성대맛집', '#부경대맛집', '#경성대고기집', '#대연동고기집', '#부산고기집', '#경성대핫플', '#대연동운대돈']}, 12: {'picture': 'https://scontent-gmp1-1.cdninstagram.com/v/t51.2885-15/283860200_1183416262453452_3945415938063686222_n.jpg?stp=dst-jpg_e35&_nc_ht=scontent-gmp1-1.cdninstagram.com&_nc_cat=100&_nc_ohc=BBL_lFLtNbsAX8XDl_v&tn=cFpATaJhv50keGNU&edm=ALQROFkBAAAA&ccb=7-5&ig_cache_key=Mjg0NjMwNDk4Mzk5NjIwNTIwNA%3D%3D.2-ccb7-5&oh=00_AT-gnzD6TDd0spWu8NWCaDc0xEm1OMhIj4MmBTpk4Rt-0w&oe=62956758&_nc_sid=30a2ef', 'date': '2022년 5월 26일', 'like': '좋아요 32개', 'tag': ['#통영여행', '#통영맛집', '#통영다찌', '#통영반다찌', '#정아실비']}, 14: {'picture': 'https://scontent-gmp1-1.cdninstagram.com/v/t51.2885-15/283509400_789462245772904_72154536382622984_n.webp?stp=dst-jpg_e35&_nc_ht=scontent-gmp1-1.cdninstagram.com&_nc_cat=104&_nc_ohc=PLzeagjnyPoAX_kRz2c&edm=ALQROFkBAAAA&ccb=7-5&ig_cache_key=Mjg0NjMwMTQ2MTk4ODg4MTgwNQ%3D%3D.2-ccb7-5&oh=00_AT-Y6V5K_XrLHMYOURAf_VjNtSI_zXM5LWgpgATr5ntNow&oe=62969103&_nc_sid=30a2ef', 'date': '2022년 5월 26일', 'like': '좋아요 9개', 'tag': ['#하코네라멘', '#하코네', '#대연동라멘맛집', '#대연동하코네', '#대연동맛집', '#대연동', '#경성대', '#경성대맛집', '#부산먹진남맛집', '#대연동먹진남맛집', '#라멘맛집', '#부산라멘맛집', '#먹진남', '#부산맛집', '#전국맛집', '#맛집탐방', '#맛집소개', '#맛집', '#먹방', '#건강', '#패션', '#일상', '#여행', '#팔로우', '#좋아요', '#맞팔', '#선팔', '#찐소통', '#선맞팔']}, 18: {'picture': 'https://scontent-gmp1-1.cdninstagram.com/v/t51.2885-15/283784909_423789702868209_2009971530397799532_n.webp?stp=dst-jpg_e35&_nc_ht=scontent-gmp1-1.cdninstagram.com&_nc_cat=109&_nc_ohc=nSjFKRU2gQ8AX-V_0zk&edm=ALQROFkBAAAA&ccb=7-5&ig_cache_key=Mjg0NjI3NDM4Mzg4NDY1MjE4OQ%3D%3D.2-ccb7-5&oh=00_AT-_Fo5YDDnyOxXtnJHHQR30fA5FW5a86hix88ccYVbO0Q&oe=6296270A&_nc_sid=30a2ef', 'date': '2022년 5월 26일', 'like': '좋아요 2개', 'tag': ['#공원칼국수', '#칼국수', '#만두', '#수육', '#국수', '#칼국수맛집', '#부산맛집', '#대연동맛집', '#남천동맛집', '#경대맛집', '#부경대맛집', '#국수맛집', '#술집추천', '#부산술집', '#부산핫플']}}\n"
     ]
    }
   ],
   "source": [
    "dict = {}  # 전체 게시글을 담을 그릇\n",
    "\n",
    "# 첫번째 사진 클릭\n",
    "CSS_tran=\".eLAPa\"\n",
    "elements = driver.find_elements_by_css_selector(CSS_tran)   # 사진 클릭\n",
    "elements[0].click()\n",
    "time.sleep(2)\n",
    "\n",
    "# 크롤링 시작\n",
    "for j in tqdm_notebook(range(0, len_insta)):    \n",
    "\n",
    "    target_info = {}                                            # 사진별 데이터를 담을 딕셔너리 생성\n",
    "\n",
    "    try:    # 크롤링을 시도해라.\n",
    "        # 사진(pic) 크롤링\n",
    "        overlays1 = \".eLAPa.RzuR0 .FFVAD\"                   # 사진창 속 사진   \n",
    "        img = driver.find_element_by_css_selector(overlays1)    # 사진 선택\n",
    "        pic = img.get_attribute('src')                          # 사진 url 크롤링 완료\n",
    "        target_info['picture'] = pic\n",
    "\n",
    "        # 날짜(date) 크롤링\n",
    "        overlays2 = \"._1o9PC\"                # 날짜 지정\n",
    "        datum2 = driver.find_element_by_css_selector(overlays2)     # 날짜 선택\n",
    "        date = datum2.get_attribute('title')\n",
    "        target_info['date'] = date\n",
    "\n",
    "        # 좋아요(like) 크롤링\n",
    "        overlays3 = \"._7UhW9.xLCgt.qyrsm.KV-D4.fDxYl.T0kll\"                                        # 리뷰창 속 날짜\n",
    "        datum3 = driver.find_element_by_css_selector(overlays3)     # 리뷰 선택\n",
    "        like = datum3.text                                          # 좋아요 크롤링 완료\n",
    "        target_info['like'] = like\n",
    "\n",
    "        # 해시태그(tag) 크롤링\n",
    "        overlays4 = \".xil3i\"                                         \n",
    "        datum3 = driver.find_elements_by_css_selector(overlays4)    # 태그 선택\n",
    "        tag_list = []\n",
    "        for i in range(len(datum3)):\n",
    "            tag_list.append(datum3[i].text)\n",
    "        target_info['tag'] = tag_list\n",
    "\n",
    "        dict[j] = target_info            # 토탈 딕셔너리로 만들기\n",
    "\n",
    "        print(j, tag_list)\n",
    "\n",
    "        # 다음장 클릭\n",
    "        CSS_tran2=\"body > div.RnEpo._Yhr4 > div.Z2Inc._7c9RR > div > div.l8mY4.feth3 > button > div > span > svg\"             # 다음 버튼 정의\n",
    "        tran_button2 = driver.find_element_by_css_selector(CSS_tran2)  # 다음 버튼 find\n",
    "        AC(driver).move_to_element(tran_button2).click().perform()     # 다음 버튼 클릭\n",
    "        time.sleep(3)\n",
    "\n",
    "    except:  # 에러가 나면 다음장을 클릭해라\n",
    "        # 다음장 클릭\n",
    "        CSS_tran2=\"body > div.RnEpo._Yhr4 > div.Z2Inc._7c9RR > div > div.l8mY4.feth3 > button > div > span > svg\"             # 다음 버튼 정의\n",
    "        tran_button2 = driver.find_element_by_css_selector(CSS_tran2)  # 다음 버튼 find\n",
    "        AC(driver).move_to_element(tran_button2).click().perform()     # 다음 버튼 클릭\n",
    "\n",
    "        time.sleep(3)\n",
    "\n",
    "print(dict)"
   ]
  },
  {
   "cell_type": "code",
   "execution_count": 34,
   "metadata": {
    "scrolled": false
   },
   "outputs": [
    {
     "name": "stdout",
     "output_type": "stream",
     "text": [
      "(4, 4)\n"
     ]
    },
    {
     "data": {
      "text/html": [
       "<div>\n",
       "<style scoped>\n",
       "    .dataframe tbody tr th:only-of-type {\n",
       "        vertical-align: middle;\n",
       "    }\n",
       "\n",
       "    .dataframe tbody tr th {\n",
       "        vertical-align: top;\n",
       "    }\n",
       "\n",
       "    .dataframe thead th {\n",
       "        text-align: right;\n",
       "    }\n",
       "</style>\n",
       "<table border=\"1\" class=\"dataframe\">\n",
       "  <thead>\n",
       "    <tr style=\"text-align: right;\">\n",
       "      <th></th>\n",
       "      <th>picture</th>\n",
       "      <th>date</th>\n",
       "      <th>like</th>\n",
       "      <th>tag</th>\n",
       "    </tr>\n",
       "  </thead>\n",
       "  <tbody>\n",
       "    <tr>\n",
       "      <th>1</th>\n",
       "      <td>https://scontent-gmp1-1.cdninstagram.com/v/t51...</td>\n",
       "      <td>2022년 5월 25일</td>\n",
       "      <td>좋아요 1,124개</td>\n",
       "      <td>[#운대돈, #대연맛집, #대연동맛집, #경성대맛집, #부경대맛집, #경성대고기집,...</td>\n",
       "    </tr>\n",
       "    <tr>\n",
       "      <th>12</th>\n",
       "      <td>https://scontent-gmp1-1.cdninstagram.com/v/t51...</td>\n",
       "      <td>2022년 5월 26일</td>\n",
       "      <td>좋아요 32개</td>\n",
       "      <td>[#통영여행, #통영맛집, #통영다찌, #통영반다찌, #정아실비]</td>\n",
       "    </tr>\n",
       "    <tr>\n",
       "      <th>14</th>\n",
       "      <td>https://scontent-gmp1-1.cdninstagram.com/v/t51...</td>\n",
       "      <td>2022년 5월 26일</td>\n",
       "      <td>좋아요 9개</td>\n",
       "      <td>[#하코네라멘, #하코네, #대연동라멘맛집, #대연동하코네, #대연동맛집, #대연동...</td>\n",
       "    </tr>\n",
       "    <tr>\n",
       "      <th>18</th>\n",
       "      <td>https://scontent-gmp1-1.cdninstagram.com/v/t51...</td>\n",
       "      <td>2022년 5월 26일</td>\n",
       "      <td>좋아요 2개</td>\n",
       "      <td>[#공원칼국수, #칼국수, #만두, #수육, #국수, #칼국수맛집, #부산맛집, #...</td>\n",
       "    </tr>\n",
       "  </tbody>\n",
       "</table>\n",
       "</div>"
      ],
      "text/plain": [
       "                                              picture          date  \\\n",
       "1   https://scontent-gmp1-1.cdninstagram.com/v/t51...  2022년 5월 25일   \n",
       "12  https://scontent-gmp1-1.cdninstagram.com/v/t51...  2022년 5월 26일   \n",
       "14  https://scontent-gmp1-1.cdninstagram.com/v/t51...  2022년 5월 26일   \n",
       "18  https://scontent-gmp1-1.cdninstagram.com/v/t51...  2022년 5월 26일   \n",
       "\n",
       "          like                                                tag  \n",
       "1   좋아요 1,124개  [#운대돈, #대연맛집, #대연동맛집, #경성대맛집, #부경대맛집, #경성대고기집,...  \n",
       "12     좋아요 32개               [#통영여행, #통영맛집, #통영다찌, #통영반다찌, #정아실비]  \n",
       "14      좋아요 9개  [#하코네라멘, #하코네, #대연동라멘맛집, #대연동하코네, #대연동맛집, #대연동...  \n",
       "18      좋아요 2개  [#공원칼국수, #칼국수, #만두, #수육, #국수, #칼국수맛집, #부산맛집, #...  "
      ]
     },
     "execution_count": 34,
     "metadata": {},
     "output_type": "execute_result"
    }
   ],
   "source": [
    "# 판다스 데이터프레임으로 만들기 : 엑셀(테이블) 형식으로 만들기\n",
    "import pandas as pd\n",
    "result_df = pd.DataFrame.from_dict(dict, 'index')\n",
    "\n",
    "print(result_df.shape)\n",
    "result_df"
   ]
  },
  {
   "cell_type": "code",
   "execution_count": 35,
   "metadata": {
    "scrolled": false
   },
   "outputs": [],
   "source": [
    "# n = result_df['picture'].count()\n",
    "\n",
    "# csv 파일로 저장\n",
    "result_df.to_csv(\"insta({}).csv\".format(keyword), encoding='utf-8-sig')"
   ]
  },
  {
   "cell_type": "code",
   "execution_count": 36,
   "metadata": {},
   "outputs": [
    {
     "data": {
      "text/plain": [
       "4"
      ]
     },
     "execution_count": 36,
     "metadata": {},
     "output_type": "execute_result"
    }
   ],
   "source": [
    "num_pic = len(result_df['picture'])\n",
    "num_pic"
   ]
  },
  {
   "cell_type": "code",
   "execution_count": 37,
   "metadata": {},
   "outputs": [
    {
     "data": {
      "text/plain": [
       "'https://scontent-gmp1-1.cdninstagram.com/v/t51.2885-15/283331339_549310270171948_6540596658143938041_n.webp?stp=dst-jpg_e35&_nc_ht=scontent-gmp1-1.cdninstagram.com&_nc_cat=104&_nc_ohc=XnH434ADfNAAX_vFrfa&edm=ALQROFkBAAAA&ccb=7-5&ig_cache_key=Mjg0NTY2NzYwODg2NTIyNjM3Ng%3D%3D.2-ccb7-5&oh=00_AT-lk34Rigvlim9uBRflD20wkTn94N10qlhk4_mbgSqibg&oe=6295A435&_nc_sid=30a2ef'"
      ]
     },
     "execution_count": 37,
     "metadata": {},
     "output_type": "execute_result"
    }
   ],
   "source": [
    "result_df['picture'][1]"
   ]
  },
  {
   "cell_type": "code",
   "execution_count": 39,
   "metadata": {},
   "outputs": [],
   "source": [
    "# 이미지들 image_insta 폴더에 다운받기\n",
    "import os\n",
    "import urllib.request\n",
    "\n",
    "# 만약 image_insta 폴더가 없으면 만들어라\n",
    "if not os.path.exists(\"image_insta({})\".format(keyword)):\n",
    "    os.makedirs(\"image_insta({})\".format(keyword))\n",
    "        \n",
    "for i in range(0, 50):\n",
    "    \n",
    "    try:\n",
    "        index = result_df['picture'][i]\n",
    "        date = result_df['date'][i]\n",
    "        urllib.request.urlretrieve(index, \"image_insta({})/{}_{}.jpg\".format(keyword,date, i))        \n",
    "    except:\n",
    "        pass"
   ]
  },
  {
   "cell_type": "markdown",
   "metadata": {},
   "source": [
    "끝"
   ]
  },
  {
   "cell_type": "code",
   "execution_count": null,
   "metadata": {},
   "outputs": [],
   "source": []
  }
 ],
 "metadata": {
  "kernelspec": {
   "display_name": "Python 3 (ipykernel)",
   "language": "python",
   "name": "python3"
  },
  "language_info": {
   "codemirror_mode": {
    "name": "ipython",
    "version": 3
   },
   "file_extension": ".py",
   "mimetype": "text/x-python",
   "name": "python",
   "nbconvert_exporter": "python",
   "pygments_lexer": "ipython3",
   "version": "3.9.7"
  },
  "toc": {
   "base_numbering": 1,
   "nav_menu": {},
   "number_sections": true,
   "sideBar": true,
   "skip_h1_title": false,
   "title_cell": "Table of Contents",
   "title_sidebar": "Contents",
   "toc_cell": false,
   "toc_position": {},
   "toc_section_display": true,
   "toc_window_display": false
  },
  "varInspector": {
   "cols": {
    "lenName": 16,
    "lenType": 16,
    "lenVar": 40
   },
   "kernels_config": {
    "python": {
     "delete_cmd_postfix": "",
     "delete_cmd_prefix": "del ",
     "library": "var_list.py",
     "varRefreshCmd": "print(var_dic_list())"
    },
    "r": {
     "delete_cmd_postfix": ") ",
     "delete_cmd_prefix": "rm(",
     "library": "var_list.r",
     "varRefreshCmd": "cat(var_dic_list()) "
    }
   },
   "types_to_exclude": [
    "module",
    "function",
    "builtin_function_or_method",
    "instance",
    "_Feature"
   ],
   "window_display": false
  }
 },
 "nbformat": 4,
 "nbformat_minor": 2
}
