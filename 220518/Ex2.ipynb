{
 "cells": [
  {
   "cell_type": "code",
   "execution_count": 1,
   "id": "b6014356",
   "metadata": {},
   "outputs": [],
   "source": [
    "from nltk.tokenize import sent_tokenize, word_tokenize\n",
    "import gensim\n",
    "from gensim.models import Word2Vec, FastText"
   ]
  },
  {
   "cell_type": "code",
   "execution_count": 2,
   "id": "bdcb836f",
   "metadata": {
    "scrolled": true
   },
   "outputs": [],
   "source": [
    "s_data = open('data1.txt','r',encoding='utf-8').read()\n",
    "s_data = s_data.replace('\\n','')"
   ]
  },
  {
   "cell_type": "code",
   "execution_count": 3,
   "id": "b305d601",
   "metadata": {},
   "outputs": [],
   "source": [
    "d_l = []\n",
    "for 문장 in sent_tokenize(s_data):\n",
    "    s_l = []\n",
    "    for 단어 in word_tokenize(문장):\n",
    "        s_l.append(단어.lower())\n",
    "    d_l.append(s_l)"
   ]
  },
  {
   "cell_type": "code",
   "execution_count": 4,
   "id": "6a2142cb",
   "metadata": {},
   "outputs": [],
   "source": [
    "# Word2Vec(입력data,min_count=단어빈도수,vector_size = 임베딩된차원,window=단어갯수,sg(0=CBOW(기본값),1=skip_gram))\n",
    "w_m1 = Word2Vec(d_l,min_count=1,vector_size = 100,window=5)"
   ]
  },
  {
   "cell_type": "code",
   "execution_count": 5,
   "id": "7f6e881a",
   "metadata": {},
   "outputs": [
    {
     "data": {
      "text/plain": [
       "-0.099614844"
      ]
     },
     "execution_count": 5,
     "metadata": {},
     "output_type": "execute_result"
    }
   ],
   "source": [
    "w_m1.wv.similarity('peter','wendy')"
   ]
  },
  {
   "cell_type": "code",
   "execution_count": 6,
   "id": "c2d1db6d",
   "metadata": {},
   "outputs": [
    {
     "data": {
      "text/plain": [
       "0.02966278"
      ]
     },
     "execution_count": 6,
     "metadata": {},
     "output_type": "execute_result"
    }
   ],
   "source": [
    "w_m1.wv.similarity('peter','hook')"
   ]
  },
  {
   "cell_type": "code",
   "execution_count": 7,
   "id": "acdfdc4e",
   "metadata": {},
   "outputs": [],
   "source": [
    "w_m2 = Word2Vec(d_l,min_count=1,vector_size = 100,window=5,sg=1)"
   ]
  },
  {
   "cell_type": "code",
   "execution_count": 8,
   "id": "fbbdd3af",
   "metadata": {},
   "outputs": [
    {
     "data": {
      "text/plain": [
       "0.27260387"
      ]
     },
     "execution_count": 8,
     "metadata": {},
     "output_type": "execute_result"
    }
   ],
   "source": [
    "w_m2.wv.similarity('peter','wendy')"
   ]
  },
  {
   "cell_type": "code",
   "execution_count": 9,
   "id": "94a45274",
   "metadata": {},
   "outputs": [
    {
     "data": {
      "text/plain": [
       "0.4720227"
      ]
     },
     "execution_count": 9,
     "metadata": {},
     "output_type": "execute_result"
    }
   ],
   "source": [
    "w_m2.wv.similarity('peter','hook')"
   ]
  },
  {
   "cell_type": "code",
   "execution_count": 10,
   "id": "07e7c813",
   "metadata": {},
   "outputs": [],
   "source": [
    "from gensim.test.utils import common_texts\n",
    "m2 = FastText('data1.txt',vector_size=4,window=3,min_count=1)"
   ]
  },
  {
   "cell_type": "code",
   "execution_count": 11,
   "id": "4e91087e",
   "metadata": {},
   "outputs": [
    {
     "data": {
      "text/plain": [
       "0.45924556"
      ]
     },
     "execution_count": 11,
     "metadata": {},
     "output_type": "execute_result"
    }
   ],
   "source": [
    "m2.wv.similarity('peter','wendy')"
   ]
  },
  {
   "cell_type": "code",
   "execution_count": 12,
   "id": "570ae713",
   "metadata": {},
   "outputs": [
    {
     "data": {
      "text/plain": [
       "0.043825187"
      ]
     },
     "execution_count": 12,
     "metadata": {},
     "output_type": "execute_result"
    }
   ],
   "source": [
    "m2.wv.similarity('peter','hook')"
   ]
  }
 ],
 "metadata": {
  "kernelspec": {
   "display_name": "Python 3 (ipykernel)",
   "language": "python",
   "name": "python3"
  },
  "language_info": {
   "codemirror_mode": {
    "name": "ipython",
    "version": 3
   },
   "file_extension": ".py",
   "mimetype": "text/x-python",
   "name": "python",
   "nbconvert_exporter": "python",
   "pygments_lexer": "ipython3",
   "version": "3.9.7"
  }
 },
 "nbformat": 4,
 "nbformat_minor": 5
}
