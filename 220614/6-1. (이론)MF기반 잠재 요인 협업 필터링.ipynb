{
 "cells": [
  {
   "cell_type": "raw",
   "metadata": {},
   "source": [
    "행렬 분해 기반의 잠재 요인 협업필터링의 핵심은 사용자-아이템 평점 매트릭스 속에 숨어있는 잠재 요인을 추출해서 영화 별 예측 평점을 계산해 영화 등 아이템 추천을 가능하게 해주는 것입니다.\n",
    "\n",
    "실제 평점 행렬(R)을 행렬 분해(Matrix Factorization) 기법으로 분해해서 잠재 요인을 추출합니다.\n",
    "\n",
    "이 행렬 분해(MF) 기법은 넷플릭스 경연 대회에서 사용되면서 유명해졌습니다.\n",
    "이 후 많은 추천시스템이 행렬 분해에 기반한 잠재 요인 협업필터링을 적용하고 있습니다."
   ]
  },
  {
   "cell_type": "markdown",
   "metadata": {},
   "source": [
    "### 경사하강법을 이용한 행렬 분해 이해"
   ]
  },
  {
   "cell_type": "code",
   "execution_count": 10,
   "metadata": {},
   "outputs": [
    {
     "name": "stdout",
     "output_type": "stream",
     "text": [
      "(4, 5)\n"
     ]
    },
    {
     "data": {
      "text/plain": [
       "array([[ 4., nan, nan,  2., nan],\n",
       "       [nan,  5., nan,  3.,  1.],\n",
       "       [nan, nan,  3.,  4.,  4.],\n",
       "       [ 5.,  2.,  1.,  2., nan]])"
      ]
     },
     "execution_count": 10,
     "metadata": {},
     "output_type": "execute_result"
    }
   ],
   "source": [
    "import numpy as np\n",
    "\n",
    "# 원본 행렬 R 생성, \n",
    "# 분해 행렬 P와 Q 초기화, 잠재요인 차원 K는 3 설정. \n",
    "R = np.array([[4, np.NaN, np.NaN, 2, np.NaN ],\n",
    "              [np.NaN, 5, np.NaN, 3, 1 ],\n",
    "              [np.NaN, np.NaN, 3, 4, 4 ],\n",
    "              [5, 2, 1, 2, np.NaN ]])\n",
    "\n",
    "print(R.shape)\n",
    "R # R은 4X5 행렬이다."
   ]
  },
  {
   "cell_type": "raw",
   "metadata": {},
   "source": [
    "Matrix Factorization\n",
    ": 행렬 R을 행렬 P, Q로 분해해보자"
   ]
  },
  {
   "cell_type": "code",
   "execution_count": 11,
   "metadata": {},
   "outputs": [
    {
     "name": "stdout",
     "output_type": "stream",
     "text": [
      "4\n",
      "5\n"
     ]
    }
   ],
   "source": [
    "num_users, num_items = R.shape\n",
    "\n",
    "K=3  # 잠재 요인은 3개\n",
    "\n",
    "print(num_users) # M\n",
    "print(num_items) # N"
   ]
  },
  {
   "cell_type": "code",
   "execution_count": 12,
   "metadata": {},
   "outputs": [
    {
     "name": "stdout",
     "output_type": "stream",
     "text": [
      "[[ 0.54144845 -0.2039188  -0.17605725]\n",
      " [-0.35765621  0.28846921 -0.76717957]\n",
      " [ 0.58160392 -0.25373563  0.10634637]\n",
      " [-0.08312346  0.48736931 -0.68671357]] \n",
      "\n",
      "[[-0.1074724  -0.12801812  0.37792315]\n",
      " [-0.36663042 -0.05747607 -0.29261947]\n",
      " [ 0.01407125  0.19427174 -0.36687306]\n",
      " [ 0.38157457  0.30053024  0.16749811]\n",
      " [ 0.30028532 -0.22790929 -0.04096341]]\n"
     ]
    }
   ],
   "source": [
    "# P, Q 찾기\n",
    "# P와 Q 매트릭스의 크기를 지정하고 정규분포를 가진 random한 값으로 입력합니다.\n",
    "np.random.seed(1)\n",
    "\n",
    "P = np.random.normal(scale=1./K, size=(num_users, K))  # 4X3 P행렬\n",
    "Q = np.random.normal(scale=1./K, size=(num_items, K))  # 5X3 Q행렬\n",
    "# (4, 3) * (5, 3)T -> (4, 5)\n",
    "\n",
    "# 행렬 P, Q 초기화 상태 \n",
    "print(P,'\\n')\n",
    "print(Q)"
   ]
  },
  {
   "cell_type": "raw",
   "metadata": {},
   "source": [
    "비용계산 함수를 생성하고,\n",
    "분해된 행렬 P와 Q.T를 내적하여 예측 행렬을 생성한다.\n",
    "\n",
    "실제 행렬에서 null이 아닌 위치 값만 에측 행렬의 값과 비교하여 RMSE(오차) 값을 계산하고 반환한다."
   ]
  },
  {
   "cell_type": "code",
   "execution_count": 13,
   "metadata": {},
   "outputs": [],
   "source": [
    "from sklearn.metrics import mean_squared_error\n",
    "\n",
    "# 실제 행렬 R과 예측 행렬 간 오차(RMSE)를 구하는 함수\n",
    "# R 행렬에서 비어있지 않은 값 : non_zeros\n",
    "def get_rmse(R, P, Q, non_zeros):\n",
    "    error = 0\n",
    "    # 두개의 분해된 행렬 P와 Q.T의 내적으로 예측 R 행렬 생성\n",
    "    full_pred_matrix = np.dot(P, Q.T)\n",
    "    \n",
    "    # 실제 R 행렬에서 널이 아닌 값의 위치 인덱스 추출하여 실제 R 행렬과 예측 행렬의 RMSE 추출\n",
    "    x_non_zero_ind = [non_zero[0] for non_zero in non_zeros]\n",
    "    y_non_zero_ind = [non_zero[1] for non_zero in non_zeros]\n",
    "    R_non_zeros = R[x_non_zero_ind, y_non_zero_ind]\n",
    "    full_pred_matrix_non_zeros = full_pred_matrix[x_non_zero_ind, y_non_zero_ind]\n",
    "      \n",
    "    mse = mean_squared_error(R_non_zeros, full_pred_matrix_non_zeros)\n",
    "    rmse = np.sqrt(mse)\n",
    "    \n",
    "    return "
   ]
  },
  {
   "cell_type": "markdown",
   "metadata": {},
   "source": [
    "#### 경사하강법에 기반하여 P와 Q 원소들을 업데이트 수행"
   ]
  },
  {
   "cell_type": "code",
   "execution_count": 14,
   "metadata": {},
   "outputs": [
    {
     "data": {
      "text/plain": [
       "[(0, 0, 4.0),\n",
       " (0, 3, 2.0),\n",
       " (1, 1, 5.0),\n",
       " (1, 3, 3.0),\n",
       " (1, 4, 1.0),\n",
       " (2, 2, 3.0),\n",
       " (2, 3, 4.0),\n",
       " (2, 4, 4.0),\n",
       " (3, 0, 5.0),\n",
       " (3, 1, 2.0),\n",
       " (3, 2, 1.0),\n",
       " (3, 3, 2.0)]"
      ]
     },
     "execution_count": 14,
     "metadata": {},
     "output_type": "execute_result"
    }
   ],
   "source": [
    "# R > 0 인 행 위치, 열 위치, 값을 non_zeros 리스트에 저장. \n",
    "non_zeros = [ (i, j, R[i,j]) for i in range(num_users) for j in range(num_items) if R[i,j] > 0 ]\n",
    "non_zeros"
   ]
  },
  {
   "cell_type": "code",
   "execution_count": 15,
   "metadata": {},
   "outputs": [
    {
     "data": {
      "text/plain": [
       "array([[ 4., nan, nan,  2., nan],\n",
       "       [nan,  5., nan,  3.,  1.],\n",
       "       [nan, nan,  3.,  4.,  4.],\n",
       "       [ 5.,  2.,  1.,  2., nan]])"
      ]
     },
     "execution_count": 15,
     "metadata": {},
     "output_type": "execute_result"
    }
   ],
   "source": [
    "R"
   ]
  },
  {
   "cell_type": "markdown",
   "metadata": {},
   "source": [
    "## 경사하강법"
   ]
  },
  {
   "cell_type": "code",
   "execution_count": 16,
   "metadata": {},
   "outputs": [
    {
     "name": "stdout",
     "output_type": "stream",
     "text": [
      "### iteration step :  0  rmse :  None\n",
      "### iteration step :  50  rmse :  None\n",
      "### iteration step :  100  rmse :  None\n",
      "### iteration step :  150  rmse :  None\n",
      "### iteration step :  200  rmse :  None\n",
      "### iteration step :  250  rmse :  None\n",
      "### iteration step :  300  rmse :  None\n",
      "### iteration step :  350  rmse :  None\n",
      "### iteration step :  400  rmse :  None\n",
      "### iteration step :  450  rmse :  None\n",
      "### iteration step :  500  rmse :  None\n",
      "### iteration step :  550  rmse :  None\n",
      "### iteration step :  600  rmse :  None\n",
      "### iteration step :  650  rmse :  None\n",
      "### iteration step :  700  rmse :  None\n",
      "### iteration step :  750  rmse :  None\n",
      "### iteration step :  800  rmse :  None\n",
      "### iteration step :  850  rmse :  None\n",
      "### iteration step :  900  rmse :  None\n",
      "### iteration step :  950  rmse :  None\n",
      "### iteration step :  1000  rmse :  None\n",
      "### iteration step :  1050  rmse :  None\n",
      "### iteration step :  1100  rmse :  None\n",
      "### iteration step :  1150  rmse :  None\n",
      "### iteration step :  1200  rmse :  None\n",
      "### iteration step :  1250  rmse :  None\n",
      "### iteration step :  1300  rmse :  None\n",
      "### iteration step :  1350  rmse :  None\n",
      "### iteration step :  1400  rmse :  None\n",
      "### iteration step :  1450  rmse :  None\n",
      "### iteration step :  1500  rmse :  None\n",
      "### iteration step :  1550  rmse :  None\n",
      "### iteration step :  1600  rmse :  None\n",
      "### iteration step :  1650  rmse :  None\n",
      "### iteration step :  1700  rmse :  None\n",
      "### iteration step :  1750  rmse :  None\n",
      "### iteration step :  1800  rmse :  None\n",
      "### iteration step :  1850  rmse :  None\n",
      "### iteration step :  1900  rmse :  None\n",
      "### iteration step :  1950  rmse :  None\n",
      "### iteration step :  2000  rmse :  None\n",
      "### iteration step :  2050  rmse :  None\n",
      "### iteration step :  2100  rmse :  None\n",
      "### iteration step :  2150  rmse :  None\n",
      "### iteration step :  2200  rmse :  None\n",
      "### iteration step :  2250  rmse :  None\n",
      "### iteration step :  2300  rmse :  None\n",
      "### iteration step :  2350  rmse :  None\n",
      "### iteration step :  2400  rmse :  None\n",
      "### iteration step :  2450  rmse :  None\n",
      "### iteration step :  2500  rmse :  None\n",
      "### iteration step :  2550  rmse :  None\n",
      "### iteration step :  2600  rmse :  None\n",
      "### iteration step :  2650  rmse :  None\n",
      "### iteration step :  2700  rmse :  None\n",
      "### iteration step :  2750  rmse :  None\n",
      "### iteration step :  2800  rmse :  None\n",
      "### iteration step :  2850  rmse :  None\n",
      "### iteration step :  2900  rmse :  None\n",
      "### iteration step :  2950  rmse :  None\n",
      "### iteration step :  3000  rmse :  None\n",
      "### iteration step :  3050  rmse :  None\n",
      "### iteration step :  3100  rmse :  None\n",
      "### iteration step :  3150  rmse :  None\n",
      "### iteration step :  3200  rmse :  None\n",
      "### iteration step :  3250  rmse :  None\n",
      "### iteration step :  3300  rmse :  None\n",
      "### iteration step :  3350  rmse :  None\n",
      "### iteration step :  3400  rmse :  None\n",
      "### iteration step :  3450  rmse :  None\n",
      "### iteration step :  3500  rmse :  None\n",
      "### iteration step :  3550  rmse :  None\n",
      "### iteration step :  3600  rmse :  None\n",
      "### iteration step :  3650  rmse :  None\n",
      "### iteration step :  3700  rmse :  None\n",
      "### iteration step :  3750  rmse :  None\n",
      "### iteration step :  3800  rmse :  None\n",
      "### iteration step :  3850  rmse :  None\n",
      "### iteration step :  3900  rmse :  None\n",
      "### iteration step :  3950  rmse :  None\n",
      "### iteration step :  4000  rmse :  None\n",
      "### iteration step :  4050  rmse :  None\n",
      "### iteration step :  4100  rmse :  None\n",
      "### iteration step :  4150  rmse :  None\n",
      "### iteration step :  4200  rmse :  None\n",
      "### iteration step :  4250  rmse :  None\n",
      "### iteration step :  4300  rmse :  None\n",
      "### iteration step :  4350  rmse :  None\n",
      "### iteration step :  4400  rmse :  None\n",
      "### iteration step :  4450  rmse :  None\n",
      "### iteration step :  4500  rmse :  None\n",
      "### iteration step :  4550  rmse :  None\n",
      "### iteration step :  4600  rmse :  None\n",
      "### iteration step :  4650  rmse :  None\n",
      "### iteration step :  4700  rmse :  None\n",
      "### iteration step :  4750  rmse :  None\n",
      "### iteration step :  4800  rmse :  None\n",
      "### iteration step :  4850  rmse :  None\n",
      "### iteration step :  4900  rmse :  None\n",
      "### iteration step :  4950  rmse :  None\n",
      "### iteration step :  5000  rmse :  None\n",
      "### iteration step :  5050  rmse :  None\n",
      "### iteration step :  5100  rmse :  None\n",
      "### iteration step :  5150  rmse :  None\n",
      "### iteration step :  5200  rmse :  None\n",
      "### iteration step :  5250  rmse :  None\n",
      "### iteration step :  5300  rmse :  None\n",
      "### iteration step :  5350  rmse :  None\n",
      "### iteration step :  5400  rmse :  None\n",
      "### iteration step :  5450  rmse :  None\n",
      "### iteration step :  5500  rmse :  None\n",
      "### iteration step :  5550  rmse :  None\n",
      "### iteration step :  5600  rmse :  None\n",
      "### iteration step :  5650  rmse :  None\n",
      "### iteration step :  5700  rmse :  None\n",
      "### iteration step :  5750  rmse :  None\n",
      "### iteration step :  5800  rmse :  None\n",
      "### iteration step :  5850  rmse :  None\n",
      "### iteration step :  5900  rmse :  None\n",
      "### iteration step :  5950  rmse :  None\n",
      "### iteration step :  6000  rmse :  None\n",
      "### iteration step :  6050  rmse :  None\n",
      "### iteration step :  6100  rmse :  None\n",
      "### iteration step :  6150  rmse :  None\n",
      "### iteration step :  6200  rmse :  None\n",
      "### iteration step :  6250  rmse :  None\n",
      "### iteration step :  6300  rmse :  None\n",
      "### iteration step :  6350  rmse :  None\n",
      "### iteration step :  6400  rmse :  None\n",
      "### iteration step :  6450  rmse :  None\n",
      "### iteration step :  6500  rmse :  None\n",
      "### iteration step :  6550  rmse :  None\n",
      "### iteration step :  6600  rmse :  None\n",
      "### iteration step :  6650  rmse :  None\n",
      "### iteration step :  6700  rmse :  None\n",
      "### iteration step :  6750  rmse :  None\n",
      "### iteration step :  6800  rmse :  None\n",
      "### iteration step :  6850  rmse :  None\n",
      "### iteration step :  6900  rmse :  None\n",
      "### iteration step :  6950  rmse :  None\n",
      "### iteration step :  7000  rmse :  None\n",
      "### iteration step :  7050  rmse :  None\n",
      "### iteration step :  7100  rmse :  None\n",
      "### iteration step :  7150  rmse :  None\n",
      "### iteration step :  7200  rmse :  None\n",
      "### iteration step :  7250  rmse :  None\n",
      "### iteration step :  7300  rmse :  None\n",
      "### iteration step :  7350  rmse :  None\n",
      "### iteration step :  7400  rmse :  None\n",
      "### iteration step :  7450  rmse :  None\n",
      "### iteration step :  7500  rmse :  None\n",
      "### iteration step :  7550  rmse :  None\n",
      "### iteration step :  7600  rmse :  None\n",
      "### iteration step :  7650  rmse :  None\n",
      "### iteration step :  7700  rmse :  None\n",
      "### iteration step :  7750  rmse :  None\n",
      "### iteration step :  7800  rmse :  None\n",
      "### iteration step :  7850  rmse :  None\n",
      "### iteration step :  7900  rmse :  None\n",
      "### iteration step :  7950  rmse :  None\n",
      "### iteration step :  8000  rmse :  None\n",
      "### iteration step :  8050  rmse :  None\n",
      "### iteration step :  8100  rmse :  None\n",
      "### iteration step :  8150  rmse :  None\n",
      "### iteration step :  8200  rmse :  None\n",
      "### iteration step :  8250  rmse :  None\n",
      "### iteration step :  8300  rmse :  None\n",
      "### iteration step :  8350  rmse :  None\n",
      "### iteration step :  8400  rmse :  None\n",
      "### iteration step :  8450  rmse :  None\n",
      "### iteration step :  8500  rmse :  None\n",
      "### iteration step :  8550  rmse :  None\n",
      "### iteration step :  8600  rmse :  None\n",
      "### iteration step :  8650  rmse :  None\n",
      "### iteration step :  8700  rmse :  None\n",
      "### iteration step :  8750  rmse :  None\n",
      "### iteration step :  8800  rmse :  None\n",
      "### iteration step :  8850  rmse :  None\n",
      "### iteration step :  8900  rmse :  None\n",
      "### iteration step :  8950  rmse :  None\n",
      "### iteration step :  9000  rmse :  None\n",
      "### iteration step :  9050  rmse :  None\n",
      "### iteration step :  9100  rmse :  None\n",
      "### iteration step :  9150  rmse :  None\n",
      "### iteration step :  9200  rmse :  None\n",
      "### iteration step :  9250  rmse :  None\n",
      "### iteration step :  9300  rmse :  None\n",
      "### iteration step :  9350  rmse :  None\n",
      "### iteration step :  9400  rmse :  None\n",
      "### iteration step :  9450  rmse :  None\n",
      "### iteration step :  9500  rmse :  None\n",
      "### iteration step :  9550  rmse :  None\n",
      "### iteration step :  9600  rmse :  None\n",
      "### iteration step :  9650  rmse :  None\n",
      "### iteration step :  9700  rmse :  None\n",
      "### iteration step :  9750  rmse :  None\n",
      "### iteration step :  9800  rmse :  None\n",
      "### iteration step :  9850  rmse :  None\n",
      "### iteration step :  9900  rmse :  None\n",
      "### iteration step :  9950  rmse :  None\n"
     ]
    }
   ],
   "source": [
    "steps=10000\n",
    "learning_rate=0.01\n",
    "r_lambda=0.01\n",
    "\n",
    "# P와 Q 매트릭스를 계속 업데이트(확률적 경사하강법)\n",
    "for step in range(steps):  # 10000회 업데이트\n",
    "    for i, j, r in non_zeros:\n",
    "        \n",
    "        # 실제 값과 예측 값의 차이인 오류 값 구함\n",
    "        eij = r - np.dot(P[i, :], Q[j, :].T)\n",
    "        \n",
    "        # Regularization을 반영한 SGD(확률적 경사하강법) 업데이트 공식 적용\n",
    "        P[i,:] = P[i,:] + learning_rate * ( eij * Q[j,:] - r_lambda*P[i,:] )\n",
    "        Q[j,:] = Q[j,:] + learning_rate * ( eij * P[i,:] - r_lambda*Q[j,:] )\n",
    "\n",
    "    rmse = get_rmse(R, P, Q, non_zeros)\n",
    "    if (step % 50) == 0 :\n",
    "        print(\"### iteration step : \", step,\" rmse : \", rmse)"
   ]
  },
  {
   "cell_type": "raw",
   "metadata": {},
   "source": [
    "실제 행렬과 예측 행렬 간 오차를 최소화하는 방향(rmse 감소)으로 경사하강법 진행\n",
    "-> P와 Q 행렬이 업데이트 된다."
   ]
  },
  {
   "cell_type": "code",
   "execution_count": 17,
   "metadata": {},
   "outputs": [
    {
     "name": "stdout",
     "output_type": "stream",
     "text": [
      "예측 행렬:\n",
      " [[3.991 1.951 1.108 1.998 1.569]\n",
      " [4.23  4.978 1.074 2.987 1.005]\n",
      " [5.028 2.487 2.988 3.98  3.985]\n",
      " [4.974 2.002 1.003 2.002 1.555]]\n"
     ]
    }
   ],
   "source": [
    "pred_matrix = np.dot(P, Q.T)\n",
    "print('예측 행렬:\\n', np.round(pred_matrix, 3))"
   ]
  },
  {
   "cell_type": "code",
   "execution_count": 20,
   "metadata": {
    "scrolled": true
   },
   "outputs": [
    {
     "data": {
      "text/plain": [
       "array([[ 4., nan, nan,  2., nan],\n",
       "       [nan,  5., nan,  3.,  1.],\n",
       "       [nan, nan,  3.,  4.,  4.],\n",
       "       [ 5.,  2.,  1.,  2., nan]])"
      ]
     },
     "execution_count": 20,
     "metadata": {},
     "output_type": "execute_result"
    }
   ],
   "source": [
    "# 원본 행렬 R\n",
    "R"
   ]
  },
  {
   "cell_type": "raw",
   "metadata": {},
   "source": [
    "원래 값은 예측 행렬과 실제 행렬 값이 최대한 비슷하게 만들어진 것을 확인할 수 있다."
   ]
  },
  {
   "cell_type": "code",
   "execution_count": null,
   "metadata": {},
   "outputs": [],
   "source": []
  }
 ],
 "metadata": {
  "kernelspec": {
   "display_name": "Python 3",
   "language": "python",
   "name": "python3"
  },
  "language_info": {
   "codemirror_mode": {
    "name": "ipython",
    "version": 3
   },
   "file_extension": ".py",
   "mimetype": "text/x-python",
   "name": "python",
   "nbconvert_exporter": "python",
   "pygments_lexer": "ipython3",
   "version": "3.8.8"
  },
  "toc": {
   "base_numbering": 1,
   "nav_menu": {},
   "number_sections": true,
   "sideBar": true,
   "skip_h1_title": false,
   "title_cell": "Table of Contents",
   "title_sidebar": "Contents",
   "toc_cell": false,
   "toc_position": {},
   "toc_section_display": true,
   "toc_window_display": false
  },
  "varInspector": {
   "cols": {
    "lenName": 16,
    "lenType": 16,
    "lenVar": 40
   },
   "kernels_config": {
    "python": {
     "delete_cmd_postfix": "",
     "delete_cmd_prefix": "del ",
     "library": "var_list.py",
     "varRefreshCmd": "print(var_dic_list())"
    },
    "r": {
     "delete_cmd_postfix": ") ",
     "delete_cmd_prefix": "rm(",
     "library": "var_list.r",
     "varRefreshCmd": "cat(var_dic_list()) "
    }
   },
   "types_to_exclude": [
    "module",
    "function",
    "builtin_function_or_method",
    "instance",
    "_Feature"
   ],
   "window_display": false
  }
 },
 "nbformat": 4,
 "nbformat_minor": 2
}
