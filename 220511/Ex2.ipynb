{
 "cells": [
  {
   "cell_type": "code",
   "execution_count": 1,
   "id": "0875adb6",
   "metadata": {},
   "outputs": [
    {
     "data": {
      "text/plain": [
       "{1, 2, 3, 4, 5, 6, 7}"
      ]
     },
     "execution_count": 1,
     "metadata": {},
     "output_type": "execute_result"
    }
   ],
   "source": [
    "A = set([1,2,3,4,5])\n",
    "B = set([4,5,6,7])\n",
    "A | B #합집합"
   ]
  },
  {
   "cell_type": "code",
   "execution_count": 2,
   "id": "d81b0561",
   "metadata": {},
   "outputs": [
    {
     "data": {
      "text/plain": [
       "{4, 5}"
      ]
     },
     "execution_count": 2,
     "metadata": {},
     "output_type": "execute_result"
    }
   ],
   "source": [
    "A & B #교집합"
   ]
  },
  {
   "cell_type": "code",
   "execution_count": 3,
   "id": "35d4cf92",
   "metadata": {},
   "outputs": [],
   "source": [
    "data1 = '안녕 나는 오늘 힘들어'.split()\n",
    "data2 = '안녕 못해 나는 지금 너무 힘들어'.split()"
   ]
  },
  {
   "cell_type": "markdown",
   "id": "eca6f02a",
   "metadata": {},
   "source": [
    "자카드 유사도"
   ]
  },
  {
   "cell_type": "code",
   "execution_count": 4,
   "id": "c44ec9e5",
   "metadata": {},
   "outputs": [
    {
     "data": {
      "text/plain": [
       "{'나는', '너무', '못해', '안녕', '오늘', '지금', '힘들어'}"
      ]
     },
     "execution_count": 4,
     "metadata": {},
     "output_type": "execute_result"
    }
   ],
   "source": [
    "un = set(data1) | set(data2)\n",
    "un"
   ]
  },
  {
   "cell_type": "code",
   "execution_count": 5,
   "id": "0e98891f",
   "metadata": {},
   "outputs": [
    {
     "data": {
      "text/plain": [
       "{'나는', '안녕', '힘들어'}"
      ]
     },
     "execution_count": 5,
     "metadata": {},
     "output_type": "execute_result"
    }
   ],
   "source": [
    "intd = set(data1) & set(data2)\n",
    "intd"
   ]
  },
  {
   "cell_type": "code",
   "execution_count": 6,
   "id": "662b73ec",
   "metadata": {},
   "outputs": [
    {
     "data": {
      "text/plain": [
       "0.42857142857142855"
      ]
     },
     "execution_count": 6,
     "metadata": {},
     "output_type": "execute_result"
    }
   ],
   "source": [
    "len(intd)/len(un) #자카드 유사도"
   ]
  },
  {
   "cell_type": "code",
   "execution_count": 7,
   "id": "12b5fe89",
   "metadata": {},
   "outputs": [],
   "source": [
    "data1 = '안녕 나는 오늘 힘들어.'\n",
    "data2 = '안녕 못해 나는 지금 너무 힘들어'"
   ]
  },
  {
   "cell_type": "code",
   "execution_count": 8,
   "id": "5080835a",
   "metadata": {
    "scrolled": true
   },
   "outputs": [
    {
     "data": {
      "text/plain": [
       "array([[0.44832087, 0.        , 0.        , 0.44832087, 0.63009934,\n",
       "        0.        , 0.44832087],\n",
       "       [0.33471228, 0.47042643, 0.47042643, 0.33471228, 0.        ,\n",
       "        0.47042643, 0.33471228]])"
      ]
     },
     "execution_count": 8,
     "metadata": {},
     "output_type": "execute_result"
    }
   ],
   "source": [
    "from sklearn.feature_extraction.text import TfidfVectorizer\n",
    "t_v = TfidfVectorizer()\n",
    "m_data = t_v.fit_transform([data1,data2])\n",
    "m_data.toarray()"
   ]
  },
  {
   "cell_type": "code",
   "execution_count": 9,
   "id": "d2c8b00e",
   "metadata": {},
   "outputs": [
    {
     "data": {
      "text/plain": [
       "{'안녕': 3, '나는': 0, '오늘': 4, '힘들어': 6, '못해': 2, '지금': 5, '너무': 1}"
      ]
     },
     "execution_count": 9,
     "metadata": {},
     "output_type": "execute_result"
    }
   ],
   "source": [
    "t_v.vocabulary_"
   ]
  },
  {
   "cell_type": "code",
   "execution_count": 10,
   "id": "ba44a6ed",
   "metadata": {},
   "outputs": [
    {
     "data": {
      "text/plain": [
       "array([1.        , 1.40546511, 1.40546511, 1.        , 1.40546511,\n",
       "       1.40546511, 1.        ])"
      ]
     },
     "execution_count": 10,
     "metadata": {},
     "output_type": "execute_result"
    }
   ],
   "source": [
    "idf=t_v.idf_\n",
    "idf"
   ]
  },
  {
   "cell_type": "code",
   "execution_count": 11,
   "id": "2cae4343",
   "metadata": {},
   "outputs": [
    {
     "data": {
      "text/plain": [
       "array([[0.44832087, 0.        , 0.        , 0.44832087, 0.63009934,\n",
       "        0.        , 0.44832087]])"
      ]
     },
     "execution_count": 11,
     "metadata": {},
     "output_type": "execute_result"
    }
   ],
   "source": [
    "m_data[0].toarray()"
   ]
  },
  {
   "cell_type": "code",
   "execution_count": 12,
   "id": "b174bb24",
   "metadata": {},
   "outputs": [
    {
     "data": {
      "text/plain": [
       "array([[0.33471228, 0.47042643, 0.47042643, 0.33471228, 0.        ,\n",
       "        0.47042643, 0.33471228]])"
      ]
     },
     "execution_count": 12,
     "metadata": {},
     "output_type": "execute_result"
    }
   ],
   "source": [
    "m_data[1].toarray()"
   ]
  },
  {
   "cell_type": "code",
   "execution_count": 13,
   "id": "1ffc5af4",
   "metadata": {},
   "outputs": [
    {
     "data": {
      "text/plain": [
       "array([0.33333333, 0.5       , 0.        ])"
      ]
     },
     "execution_count": 13,
     "metadata": {},
     "output_type": "execute_result"
    }
   ],
   "source": [
    "from sklearn.metrics import jaccard_score\n",
    "import numpy as np\n",
    "#jaccard_score(m_data[0:1],m_data[1:2])\n",
    "jaccard_score(np.array([0,1,0,0]),np.array([0,1,1,2]),average=None)"
   ]
  },
  {
   "cell_type": "markdown",
   "id": "7199809c",
   "metadata": {},
   "source": [
    "유클리디안 유사도"
   ]
  },
  {
   "cell_type": "code",
   "execution_count": 14,
   "id": "8f1fcbcb",
   "metadata": {},
   "outputs": [],
   "source": [
    "#유클리디안 유사도\n",
    "def f(A, B):\n",
    "    return np.sqrt(np.sum((A - B)**2))"
   ]
  },
  {
   "cell_type": "code",
   "execution_count": 15,
   "id": "8caec747",
   "metadata": {},
   "outputs": [
    {
     "data": {
      "text/plain": [
       "2.23606797749979"
      ]
     },
     "execution_count": 15,
     "metadata": {},
     "output_type": "execute_result"
    }
   ],
   "source": [
    "A = np.array([0,1,2,3,4])\n",
    "B = np.array([1,0,1,2,3])\n",
    "f(A,B)"
   ]
  },
  {
   "cell_type": "code",
   "execution_count": 16,
   "id": "931501ac",
   "metadata": {},
   "outputs": [
    {
     "data": {
      "text/plain": [
       "array([[1.0486415]])"
      ]
     },
     "execution_count": 16,
     "metadata": {},
     "output_type": "execute_result"
    }
   ],
   "source": [
    "from sklearn.metrics import euclidean_distances\n",
    "euclidean_distances(m_data[0],m_data[1])"
   ]
  },
  {
   "cell_type": "code",
   "execution_count": 17,
   "id": "35a3b647",
   "metadata": {},
   "outputs": [
    {
     "data": {
      "text/plain": [
       "array([[0.44832087, 0.        , 0.        , 0.44832087, 0.63009934,\n",
       "        0.        , 0.44832087],\n",
       "       [0.33471228, 0.47042643, 0.47042643, 0.33471228, 0.        ,\n",
       "        0.47042643, 0.33471228]])"
      ]
     },
     "execution_count": 17,
     "metadata": {},
     "output_type": "execute_result"
    }
   ],
   "source": [
    "m_data.toarray()"
   ]
  },
  {
   "cell_type": "code",
   "execution_count": 18,
   "id": "76f9e55f",
   "metadata": {},
   "outputs": [
    {
     "data": {
      "text/plain": [
       "4.390478082587408"
      ]
     },
     "execution_count": 18,
     "metadata": {},
     "output_type": "execute_result"
    }
   ],
   "source": [
    "np.sum(m_data)"
   ]
  },
  {
   "cell_type": "code",
   "execution_count": 19,
   "id": "04ec1376",
   "metadata": {},
   "outputs": [],
   "source": [
    "def e_f(m): #정규화\n",
    "    return m/np.sum(m)\n",
    "e_data = e_f(m_data)"
   ]
  },
  {
   "cell_type": "code",
   "execution_count": 20,
   "id": "469ea934",
   "metadata": {
    "scrolled": true
   },
   "outputs": [
    {
     "data": {
      "text/plain": [
       "array([[0.23884449]])"
      ]
     },
     "execution_count": 20,
     "metadata": {},
     "output_type": "execute_result"
    }
   ],
   "source": [
    "euclidean_distances(e_data[0],e_data[1])"
   ]
  },
  {
   "cell_type": "markdown",
   "id": "12461e2c",
   "metadata": {},
   "source": [
    "멘하탄 유사도"
   ]
  },
  {
   "cell_type": "code",
   "execution_count": 21,
   "id": "49fbbe47",
   "metadata": {},
   "outputs": [
    {
     "data": {
      "text/plain": [
       "1"
      ]
     },
     "execution_count": 21,
     "metadata": {},
     "output_type": "execute_result"
    }
   ],
   "source": [
    "np.abs(-1) #절대값 연산 함수"
   ]
  },
  {
   "cell_type": "code",
   "execution_count": 22,
   "id": "d03156ed",
   "metadata": {},
   "outputs": [],
   "source": [
    "a=np.array([-1,2,3])\n",
    "b=np.array([1,3,-4])"
   ]
  },
  {
   "cell_type": "code",
   "execution_count": 23,
   "id": "0e990cc7",
   "metadata": {},
   "outputs": [
    {
     "data": {
      "text/plain": [
       "array([-2, -1,  7])"
      ]
     },
     "execution_count": 23,
     "metadata": {},
     "output_type": "execute_result"
    }
   ],
   "source": [
    "a-b"
   ]
  },
  {
   "cell_type": "code",
   "execution_count": 24,
   "id": "60348cb3",
   "metadata": {},
   "outputs": [
    {
     "data": {
      "text/plain": [
       "array([2, 1, 7])"
      ]
     },
     "execution_count": 24,
     "metadata": {},
     "output_type": "execute_result"
    }
   ],
   "source": [
    "abs(a-b)"
   ]
  },
  {
   "cell_type": "code",
   "execution_count": 25,
   "id": "287d9940",
   "metadata": {},
   "outputs": [
    {
     "data": {
      "text/plain": [
       "10"
      ]
     },
     "execution_count": 25,
     "metadata": {},
     "output_type": "execute_result"
    }
   ],
   "source": [
    "np.sum(abs(a-b))"
   ]
  },
  {
   "cell_type": "code",
   "execution_count": 26,
   "id": "d06ccd71",
   "metadata": {},
   "outputs": [],
   "source": [
    "def f(A, B):\n",
    "    return np.sum(abs(A-B))"
   ]
  },
  {
   "cell_type": "code",
   "execution_count": 27,
   "id": "840cedfe",
   "metadata": {
    "scrolled": true
   },
   "outputs": [
    {
     "data": {
      "text/plain": [
       "5"
      ]
     },
     "execution_count": 27,
     "metadata": {},
     "output_type": "execute_result"
    }
   ],
   "source": [
    "A = np.array([0,1,2,3,4])\n",
    "B = np.array([1,0,1,2,3])\n",
    "f(A,B)"
   ]
  },
  {
   "cell_type": "markdown",
   "id": "dff7cdc0",
   "metadata": {},
   "source": [
    "유클리디안 거리 유사도 확인"
   ]
  },
  {
   "cell_type": "code",
   "execution_count": 28,
   "id": "2c8b01c2",
   "metadata": {},
   "outputs": [
    {
     "data": {
      "text/plain": [
       "array([[1.0486415]])"
      ]
     },
     "execution_count": 28,
     "metadata": {},
     "output_type": "execute_result"
    }
   ],
   "source": [
    "from sklearn.metrics import euclidean_distances\n",
    "euclidean_distances(m_data[0],m_data[1])"
   ]
  },
  {
   "cell_type": "markdown",
   "id": "12f74e60",
   "metadata": {},
   "source": [
    "멘하탄 거리 유사도 확인"
   ]
  },
  {
   "cell_type": "code",
   "execution_count": 29,
   "id": "62c43933",
   "metadata": {},
   "outputs": [
    {
     "data": {
      "text/plain": [
       "array([[2.38220441]])"
      ]
     },
     "execution_count": 29,
     "metadata": {},
     "output_type": "execute_result"
    }
   ],
   "source": [
    "from sklearn.metrics.pairwise import manhattan_distances\n",
    "manhattan_distances(m_data[0],m_data[1])"
   ]
  },
  {
   "cell_type": "markdown",
   "id": "4624b470",
   "metadata": {},
   "source": [
    "정규화된 data를 이용하여 유사도 계산"
   ]
  },
  {
   "cell_type": "code",
   "execution_count": 30,
   "id": "7f1445ec",
   "metadata": {},
   "outputs": [
    {
     "data": {
      "text/plain": [
       "array([[0.23884449]])"
      ]
     },
     "execution_count": 30,
     "metadata": {},
     "output_type": "execute_result"
    }
   ],
   "source": [
    "euclidean_distances(e_data[0],e_data[1])"
   ]
  },
  {
   "cell_type": "code",
   "execution_count": 31,
   "id": "7719e50d",
   "metadata": {},
   "outputs": [
    {
     "data": {
      "text/plain": [
       "array([[0.54258429]])"
      ]
     },
     "execution_count": 31,
     "metadata": {},
     "output_type": "execute_result"
    }
   ],
   "source": [
    "manhattan_distances(e_data[0],e_data[1])"
   ]
  },
  {
   "cell_type": "code",
   "execution_count": 32,
   "id": "d288fe79",
   "metadata": {},
   "outputs": [],
   "source": [
    "data1 = '안녕 나는 오늘 힘들어.'\n",
    "data2 = '안녕 못해 나는 지금 너무 힘들어'\n",
    "data3 = '나는 너무 즐거워'\n",
    "from sklearn.feature_extraction.text import TfidfVectorizer\n",
    "t_v = TfidfVectorizer()\n",
    "m_data = t_v.fit_transform([data1,data2,data3])"
   ]
  },
  {
   "cell_type": "code",
   "execution_count": 33,
   "id": "668dfa1b",
   "metadata": {},
   "outputs": [],
   "source": [
    "def e_f(m): #정규화\n",
    "    return m/np.sum(m)\n",
    "e_data = e_f(m_data)"
   ]
  },
  {
   "cell_type": "code",
   "execution_count": 34,
   "id": "a9b7c3e6",
   "metadata": {},
   "outputs": [
    {
     "data": {
      "text/plain": [
       "(array([[1.02891385]]), array([[1.15714912]]), array([[-0.12823528]]))"
      ]
     },
     "execution_count": 34,
     "metadata": {},
     "output_type": "execute_result"
    }
   ],
   "source": [
    "euclidean_distances(m_data[0],m_data[1]), euclidean_distances(m_data[1],m_data[2]), euclidean_distances(m_data[0],m_data[1]) - euclidean_distances(m_data[1],m_data[2])"
   ]
  },
  {
   "cell_type": "code",
   "execution_count": 35,
   "id": "0bf10a46",
   "metadata": {},
   "outputs": [],
   "source": [
    "ck1 = euclidean_distances(m_data[0],m_data[1])\n",
    "ck2 = euclidean_distances(m_data[1],m_data[2])\n",
    "ck1=ck1/ck1\n",
    "ck2=ck2/ck1"
   ]
  },
  {
   "cell_type": "markdown",
   "id": "0833a387",
   "metadata": {},
   "source": [
    "정규화 하지 않은 data를 이용한 거리 계산"
   ]
  },
  {
   "cell_type": "code",
   "execution_count": 36,
   "id": "a2d93a57",
   "metadata": {
    "scrolled": true
   },
   "outputs": [
    {
     "data": {
      "text/plain": [
       "(array([[1.]]), array([[1.15714912]]))"
      ]
     },
     "execution_count": 36,
     "metadata": {},
     "output_type": "execute_result"
    }
   ],
   "source": [
    "ck1, ck2"
   ]
  },
  {
   "cell_type": "code",
   "execution_count": 37,
   "id": "dabd7e61",
   "metadata": {},
   "outputs": [
    {
     "data": {
      "text/plain": [
       "(array([[0.16949987]]), array([[0.19062493]]), array([[-0.02112506]]))"
      ]
     },
     "execution_count": 37,
     "metadata": {},
     "output_type": "execute_result"
    }
   ],
   "source": [
    "euclidean_distances(e_data[0],e_data[1]), euclidean_distances(e_data[1],e_data[2]), euclidean_distances(e_data[0],e_data[1]) - euclidean_distances(e_data[1],e_data[2])"
   ]
  },
  {
   "cell_type": "code",
   "execution_count": 38,
   "id": "2b5d6a87",
   "metadata": {},
   "outputs": [],
   "source": [
    "e_ck1 = euclidean_distances(e_data[0],e_data[1])\n",
    "e_ck2 = euclidean_distances(e_data[1],e_data[2])\n",
    "e_ck1=e_ck1/e_ck1\n",
    "e_ck2=e_ck2/e_ck1  "
   ]
  },
  {
   "cell_type": "markdown",
   "id": "52bc20dd",
   "metadata": {},
   "source": [
    "정규화 한 data를 이용한 거리 계산"
   ]
  },
  {
   "cell_type": "code",
   "execution_count": 39,
   "id": "0db5d4b0",
   "metadata": {
    "scrolled": true
   },
   "outputs": [
    {
     "data": {
      "text/plain": [
       "(array([[1.]]), array([[0.19062493]]))"
      ]
     },
     "execution_count": 39,
     "metadata": {},
     "output_type": "execute_result"
    }
   ],
   "source": [
    "e_ck1, e_ck2"
   ]
  },
  {
   "cell_type": "code",
   "execution_count": 40,
   "id": "8ce8e193",
   "metadata": {},
   "outputs": [
    {
     "data": {
      "text/plain": [
       "array([[0.15714912]])"
      ]
     },
     "execution_count": 40,
     "metadata": {},
     "output_type": "execute_result"
    }
   ],
   "source": [
    "abs(ck1-ck2)"
   ]
  },
  {
   "cell_type": "code",
   "execution_count": 41,
   "id": "ba7969ed",
   "metadata": {},
   "outputs": [
    {
     "data": {
      "text/plain": [
       "array([[0.80937507]])"
      ]
     },
     "execution_count": 41,
     "metadata": {},
     "output_type": "execute_result"
    }
   ],
   "source": [
    "abs(e_ck1-e_ck2)"
   ]
  },
  {
   "cell_type": "code",
   "execution_count": 42,
   "id": "a633cf25",
   "metadata": {},
   "outputs": [
    {
     "data": {
      "text/plain": [
       "(array([[2.28685493]]), array([[2.76734191]]), array([[-0.48048698]]))"
      ]
     },
     "execution_count": 42,
     "metadata": {},
     "output_type": "execute_result"
    }
   ],
   "source": [
    "manhattan_distances(m_data[0],m_data[1]), manhattan_distances(m_data[1],m_data[2]),manhattan_distances(m_data[0],m_data[1]) - manhattan_distances(m_data[1],m_data[2])"
   ]
  },
  {
   "cell_type": "code",
   "execution_count": 43,
   "id": "f9216d7e",
   "metadata": {},
   "outputs": [
    {
     "data": {
      "text/plain": [
       "(array([[0.37672893]]), array([[0.45588277]]), array([[-0.07915384]]))"
      ]
     },
     "execution_count": 43,
     "metadata": {},
     "output_type": "execute_result"
    }
   ],
   "source": [
    "manhattan_distances(e_data[0],e_data[1]), manhattan_distances(e_data[1],e_data[2]), manhattan_distances(e_data[0],e_data[1]) - manhattan_distances(e_data[1],e_data[2])"
   ]
  },
  {
   "cell_type": "markdown",
   "id": "fb7182c8",
   "metadata": {},
   "source": [
    "정리"
   ]
  },
  {
   "cell_type": "code",
   "execution_count": 44,
   "id": "e1dcd9d9",
   "metadata": {},
   "outputs": [],
   "source": [
    "from sklearn.metrics import euclidean_distances\n",
    "from sklearn.metrics.pairwise import manhattan_distances"
   ]
  },
  {
   "cell_type": "code",
   "execution_count": 45,
   "id": "0a2dc343",
   "metadata": {},
   "outputs": [
    {
     "name": "stdout",
     "output_type": "stream",
     "text": [
      "유클리드 거리를 이용한 거리계산\n",
      "정규화 전 data이용 거리 계산[[0.15714912]]\n",
      "정규화 후 data이용 거리 계산[[0.80937507]]\n"
     ]
    }
   ],
   "source": [
    "ck1 = euclidean_distances(m_data[0],m_data[1])\n",
    "ck2 = euclidean_distances(m_data[1],m_data[2])\n",
    "ck1=ck1/ck1\n",
    "ck2=ck2/ck1\n",
    "e_ck1 = euclidean_distances(e_data[0],e_data[1])\n",
    "e_ck2 = euclidean_distances(e_data[1],e_data[2])\n",
    "e_ck1=e_ck1/e_ck1\n",
    "e_ck2=e_ck2/e_ck1\n",
    "print(\"유클리드 거리를 이용한 거리계산\")\n",
    "print(f'정규화 전 data이용 거리 계산{abs(ck1-ck2)}')\n",
    "print(f'정규화 후 data이용 거리 계산{abs(e_ck1-e_ck2)}')"
   ]
  },
  {
   "cell_type": "code",
   "execution_count": 46,
   "id": "46bc40ba",
   "metadata": {},
   "outputs": [
    {
     "name": "stdout",
     "output_type": "stream",
     "text": [
      "멘하탄 거리를 이용한 거리계산\n",
      "정규화 전 data이용 거리 계산[[1.76734191]]\n",
      "정규화 후 data이용 거리 계산[[0.54411723]]\n"
     ]
    }
   ],
   "source": [
    "ck1 = manhattan_distances(m_data[0],m_data[1])\n",
    "ck2 = manhattan_distances(m_data[1],m_data[2])\n",
    "ck1=ck1/ck1\n",
    "ck2=ck2/ck1\n",
    "e_ck1 = manhattan_distances(e_data[0],e_data[1])\n",
    "e_ck2 = manhattan_distances(e_data[1],e_data[2])\n",
    "e_ck1=e_ck1/e_ck1\n",
    "e_ck2=e_ck2/e_ck1\n",
    "print(\"멘하탄 거리를 이용한 거리계산\")\n",
    "print(f'정규화 전 data이용 거리 계산{abs(ck1-ck2)}')\n",
    "print(f'정규화 후 data이용 거리 계산{abs(e_ck1-e_ck2)}')"
   ]
  }
 ],
 "metadata": {
  "kernelspec": {
   "display_name": "Python 3 (ipykernel)",
   "language": "python",
   "name": "python3"
  },
  "language_info": {
   "codemirror_mode": {
    "name": "ipython",
    "version": 3
   },
   "file_extension": ".py",
   "mimetype": "text/x-python",
   "name": "python",
   "nbconvert_exporter": "python",
   "pygments_lexer": "ipython3",
   "version": "3.9.7"
  }
 },
 "nbformat": 4,
 "nbformat_minor": 5
}
