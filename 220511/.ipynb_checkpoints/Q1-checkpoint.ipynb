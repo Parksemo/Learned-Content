{
 "cells": [
  {
   "cell_type": "markdown",
   "id": "525d7d82",
   "metadata": {},
   "source": [
    "1. data 로드를 통한 데이터 프레임 완성\n",
    "2. 한글에 맞게 형태소 분석기를 이용하여 단어 토큰화 작업후 TF-IDF를 계산\n",
    "3. 코사인 유사도 기반을 통한 영화 3종 추천"
   ]
  },
  {
   "cell_type": "code",
   "execution_count": 1,
   "id": "9461f9a2",
   "metadata": {},
   "outputs": [],
   "source": [
    "import numpy as np\n",
    "import pandas as pd\n",
    "from konlpy.tag import Okt\n",
    "from sklearn.feature_extraction.text import TfidfVectorizer\n",
    "from sklearn.metrics.pairwise import cosine_similarity"
   ]
  },
  {
   "cell_type": "code",
   "execution_count": 2,
   "id": "b31cddc8",
   "metadata": {
    "scrolled": false
   },
   "outputs": [],
   "source": [
    "data = pd.read_csv('data2.csv',low_memory=False)"
   ]
  },
  {
   "cell_type": "code",
   "execution_count": 3,
   "id": "cd84a167",
   "metadata": {
    "scrolled": true
   },
   "outputs": [
    {
     "data": {
      "text/html": [
       "<div>\n",
       "<style scoped>\n",
       "    .dataframe tbody tr th:only-of-type {\n",
       "        vertical-align: middle;\n",
       "    }\n",
       "\n",
       "    .dataframe tbody tr th {\n",
       "        vertical-align: top;\n",
       "    }\n",
       "\n",
       "    .dataframe thead th {\n",
       "        text-align: right;\n",
       "    }\n",
       "</style>\n",
       "<table border=\"1\" class=\"dataframe\">\n",
       "  <thead>\n",
       "    <tr style=\"text-align: right;\">\n",
       "      <th></th>\n",
       "      <th>name</th>\n",
       "      <th>genre</th>\n",
       "      <th>content</th>\n",
       "      <th>tk_data</th>\n",
       "    </tr>\n",
       "  </thead>\n",
       "  <tbody>\n",
       "    <tr>\n",
       "      <th>0</th>\n",
       "      <td>올드보이</td>\n",
       "      <td>스릴러</td>\n",
       "      <td>술 좋아하고 떠들기 좋아하는 오.대.수. 본인의 이름풀이를 오늘만 대충 수습하며 살...</td>\n",
       "      <td>술 오 수 본인 이름 풀이 오늘 대충 수습 이 남자 아내 딸아이 샐러리맨 날 술 ...</td>\n",
       "    </tr>\n",
       "    <tr>\n",
       "      <th>1</th>\n",
       "      <td>노트북</td>\n",
       "      <td>로맨스</td>\n",
       "      <td>17살, ‘노아’는 밝고 순수한 ‘앨리’를 보고 첫눈에 반한다. 빠른 속도로 서로에...</td>\n",
       "      <td>살 노아 앨리 를 보고 눈 속도 서로 둘 이 앞 장벽 이별 살 앨리 신문 노아 의...</td>\n",
       "    </tr>\n",
       "    <tr>\n",
       "      <th>2</th>\n",
       "      <td>미션임파서블</td>\n",
       "      <td>액션</td>\n",
       "      <td>도난당한 핵무기를 되찾아 오는 위험천만한 작전 중, 에단 헌트(톰 크루즈)는 임무를...</td>\n",
       "      <td>도난 핵무기 위험천만 작전 중 에단 헌트 톰 크루즈 임무 포기 팀 목숨 구 선택 ...</td>\n",
       "    </tr>\n",
       "    <tr>\n",
       "      <th>3</th>\n",
       "      <td>니모를찾아서</td>\n",
       "      <td>애니메이션</td>\n",
       "      <td>“디즈니`픽사 최고의 애니메이션이 3D로 다시 찾아온다!” 호기심 가득한 아기 물고...</td>\n",
       "      <td>디즈니 픽사 최고 애니메이션 로 다시 호기심 아기 물고기 니모 인간 납치 아들 바...</td>\n",
       "    </tr>\n",
       "    <tr>\n",
       "      <th>4</th>\n",
       "      <td>탑건</td>\n",
       "      <td>액션</td>\n",
       "      <td>해군 최신 전투기 F-14기를 모는 젊은 조종사 매버릭 대위(톰 크루즈)는 최고의 ...</td>\n",
       "      <td>해군 최신 전투기 모 조종사 매버릭 대위 톰 크루즈 최고 실력 자부 파일럿 최 정...</td>\n",
       "    </tr>\n",
       "    <tr>\n",
       "      <th>5</th>\n",
       "      <td>친절한금자씨</td>\n",
       "      <td>스릴러</td>\n",
       "      <td>주변 사람들의 시선을 단번에 사로잡을 만큼 뛰어난 미모의 소유자인 금자(이영애)는 ...</td>\n",
       "      <td>주변 사람 시선 단번 만큼 미모 소유자 금 이영애 스무 살 죄 감옥 가게 나이 외...</td>\n",
       "    </tr>\n",
       "    <tr>\n",
       "      <th>6</th>\n",
       "      <td>반지의제왕</td>\n",
       "      <td>판타지</td>\n",
       "      <td>모든 힘을 지배할 악의 군주 ‘사우론’의 절대반지가 깨어나고 악의 세력이 세상을 지...</td>\n",
       "      <td>모든 힘 지배 악의 군주 사우론 의 절대반지 악의 세력 세상 지배 중간계 혼란 처...</td>\n",
       "    </tr>\n",
       "    <tr>\n",
       "      <th>7</th>\n",
       "      <td>신세계</td>\n",
       "      <td>범죄</td>\n",
       "      <td>경찰청 수사 기획과 강과장(최민식)은 국내 최대 범죄 조직인 '골드문'이 기업형 조...</td>\n",
       "      <td>경찰청 수사 기획 강 과장 최민식 은 국내 최대 범죄 조직 골드 문 이 기업 조직...</td>\n",
       "    </tr>\n",
       "    <tr>\n",
       "      <th>8</th>\n",
       "      <td>아저씨</td>\n",
       "      <td>NaN</td>\n",
       "      <td>불행한 사건으로 아내를 잃고 세상을 등진 채 전당포를 꾸려가며 외롭게 살아가는 전직...</td>\n",
       "      <td>사건 아내 세상 등진 채 전당포 전직 특수요원 태식 사람 전당포 물건 사람 옆집 ...</td>\n",
       "    </tr>\n",
       "    <tr>\n",
       "      <th>9</th>\n",
       "      <td>해리포터</td>\n",
       "      <td>NaN</td>\n",
       "      <td>해리 포터(다니엘 래드클리프 분)는 위압적인 버논 숙부(리챠드 그리피스 분)와 냉담...</td>\n",
       "      <td>해리 포터 다니엘 래드클리프 분 위압 버논 숙부 리 챠드 그리피스 분 이모 페투니...</td>\n",
       "    </tr>\n",
       "    <tr>\n",
       "      <th>10</th>\n",
       "      <td>장고</td>\n",
       "      <td>NaN</td>\n",
       "      <td>아내를 구해야 하는 분노의 로맨티스트 ‘장고’ 그를 돕는 정의의 바운티 헌터 ‘닥터...</td>\n",
       "      <td>아내 구해 분노 로 티스 트 장고 그 정의 바운티 헌터 닥터 킹 그 표적 욕망 마...</td>\n",
       "    </tr>\n",
       "    <tr>\n",
       "      <th>11</th>\n",
       "      <td>어바웃 타임</td>\n",
       "      <td>NaN</td>\n",
       "      <td>모태솔로 팀(돔놀 글리슨)은 성인이 된 날, 아버지(빌 나이)로부터 놀랄만한 가문의...</td>\n",
       "      <td>모태솔로 팀 돔놀 글 리슨 은 성인 날 아버지 나이 로부터 가문 비밀 바로 시간 ...</td>\n",
       "    </tr>\n",
       "    <tr>\n",
       "      <th>12</th>\n",
       "      <td>스타트렉</td>\n",
       "      <td>NaN</td>\n",
       "      <td>위험한 미션들을 무사히 수행한 후 평화롭게 우주를 항해하던 거대 함선 엔터프라이즈호...</td>\n",
       "      <td>미션 수행 후 우주 항해 거대 함선 엔터프라이즈 호 최첨단 기지 재 충전 시간 중...</td>\n",
       "    </tr>\n",
       "    <tr>\n",
       "      <th>13</th>\n",
       "      <td>트랜스포머</td>\n",
       "      <td>NaN</td>\n",
       "      <td>옵티머스 프라임은 더 이상 인간의 편이 아니다. 트랜스포머의 고향 사이버트론의 재건...</td>\n",
       "      <td>옵티머스 프라임 더 이상 인간 편이 트랜스포머 고향 사이버 트론 재건 위해 지구 ...</td>\n",
       "    </tr>\n",
       "    <tr>\n",
       "      <th>14</th>\n",
       "      <td>지금만나러갑니다</td>\n",
       "      <td>NaN</td>\n",
       "      <td>비가 오는 날 다시 돌아오겠다는 믿기 힘든 약속을 남기고 세상을 떠난 ‘수아’. 그...</td>\n",
       "      <td>비 날 다시 약속 세상 수아 그로 뒤 장마 시작 여름 날 세상 전과 모습 수아 수...</td>\n",
       "    </tr>\n",
       "    <tr>\n",
       "      <th>15</th>\n",
       "      <td>007 노타임투다이</td>\n",
       "      <td>액션</td>\n",
       "      <td>MI6를 떠난 이후 ‘매들린’(레아 세이두)과 평화로운 일상을 즐기던 ‘제임스 본드...</td>\n",
       "      <td>를 이후 매 레아 세이 과 일상 제임스 본드 다니엘 레이 날 요원 펠릭스 제프리 ...</td>\n",
       "    </tr>\n",
       "    <tr>\n",
       "      <th>16</th>\n",
       "      <td>인터스텔라</td>\n",
       "      <td>NaN</td>\n",
       "      <td>세계 각국의 정부와 경제가 완전히 붕괴된 미래가 다가온다. 지난 20세기에 범한 잘...</td>\n",
       "      <td>세계 각국 정부 경제 붕괴 미래 지난 세기 범한 잘못 전 세계 식량 부족 도 해체...</td>\n",
       "    </tr>\n",
       "    <tr>\n",
       "      <th>17</th>\n",
       "      <td>스타워즈</td>\n",
       "      <td>NaN</td>\n",
       "      <td>더욱 강력해진 포스로 돌아온 ‘레이’는 전 우주를 어둠의 힘으로 지배하려는 ‘카일로...</td>\n",
       "      <td>더욱 포스 레이 전 우주 어둠 힘 지배 카일 렌 대적 히로인 거듭 미래 운명 레이...</td>\n",
       "    </tr>\n",
       "  </tbody>\n",
       "</table>\n",
       "</div>"
      ],
      "text/plain": [
       "          name  genre                                            content  \\\n",
       "0         올드보이    스릴러  술 좋아하고 떠들기 좋아하는 오.대.수. 본인의 이름풀이를 오늘만 대충 수습하며 살...   \n",
       "1          노트북    로맨스  17살, ‘노아’는 밝고 순수한 ‘앨리’를 보고 첫눈에 반한다. 빠른 속도로 서로에...   \n",
       "2       미션임파서블     액션  도난당한 핵무기를 되찾아 오는 위험천만한 작전 중, 에단 헌트(톰 크루즈)는 임무를...   \n",
       "3       니모를찾아서  애니메이션  “디즈니`픽사 최고의 애니메이션이 3D로 다시 찾아온다!” 호기심 가득한 아기 물고...   \n",
       "4           탑건     액션  해군 최신 전투기 F-14기를 모는 젊은 조종사 매버릭 대위(톰 크루즈)는 최고의 ...   \n",
       "5       친절한금자씨    스릴러  주변 사람들의 시선을 단번에 사로잡을 만큼 뛰어난 미모의 소유자인 금자(이영애)는 ...   \n",
       "6        반지의제왕    판타지  모든 힘을 지배할 악의 군주 ‘사우론’의 절대반지가 깨어나고 악의 세력이 세상을 지...   \n",
       "7          신세계     범죄  경찰청 수사 기획과 강과장(최민식)은 국내 최대 범죄 조직인 '골드문'이 기업형 조...   \n",
       "8          아저씨    NaN  불행한 사건으로 아내를 잃고 세상을 등진 채 전당포를 꾸려가며 외롭게 살아가는 전직...   \n",
       "9         해리포터    NaN  해리 포터(다니엘 래드클리프 분)는 위압적인 버논 숙부(리챠드 그리피스 분)와 냉담...   \n",
       "10          장고    NaN  아내를 구해야 하는 분노의 로맨티스트 ‘장고’ 그를 돕는 정의의 바운티 헌터 ‘닥터...   \n",
       "11      어바웃 타임    NaN  모태솔로 팀(돔놀 글리슨)은 성인이 된 날, 아버지(빌 나이)로부터 놀랄만한 가문의...   \n",
       "12        스타트렉    NaN  위험한 미션들을 무사히 수행한 후 평화롭게 우주를 항해하던 거대 함선 엔터프라이즈호...   \n",
       "13       트랜스포머    NaN  옵티머스 프라임은 더 이상 인간의 편이 아니다. 트랜스포머의 고향 사이버트론의 재건...   \n",
       "14    지금만나러갑니다    NaN  비가 오는 날 다시 돌아오겠다는 믿기 힘든 약속을 남기고 세상을 떠난 ‘수아’. 그...   \n",
       "15  007 노타임투다이     액션  MI6를 떠난 이후 ‘매들린’(레아 세이두)과 평화로운 일상을 즐기던 ‘제임스 본드...   \n",
       "16       인터스텔라    NaN  세계 각국의 정부와 경제가 완전히 붕괴된 미래가 다가온다. 지난 20세기에 범한 잘...   \n",
       "17        스타워즈    NaN  더욱 강력해진 포스로 돌아온 ‘레이’는 전 우주를 어둠의 힘으로 지배하려는 ‘카일로...   \n",
       "\n",
       "                                              tk_data  \n",
       "0    술 오 수 본인 이름 풀이 오늘 대충 수습 이 남자 아내 딸아이 샐러리맨 날 술 ...  \n",
       "1    살 노아 앨리 를 보고 눈 속도 서로 둘 이 앞 장벽 이별 살 앨리 신문 노아 의...  \n",
       "2    도난 핵무기 위험천만 작전 중 에단 헌트 톰 크루즈 임무 포기 팀 목숨 구 선택 ...  \n",
       "3    디즈니 픽사 최고 애니메이션 로 다시 호기심 아기 물고기 니모 인간 납치 아들 바...  \n",
       "4    해군 최신 전투기 모 조종사 매버릭 대위 톰 크루즈 최고 실력 자부 파일럿 최 정...  \n",
       "5    주변 사람 시선 단번 만큼 미모 소유자 금 이영애 스무 살 죄 감옥 가게 나이 외...  \n",
       "6    모든 힘 지배 악의 군주 사우론 의 절대반지 악의 세력 세상 지배 중간계 혼란 처...  \n",
       "7    경찰청 수사 기획 강 과장 최민식 은 국내 최대 범죄 조직 골드 문 이 기업 조직...  \n",
       "8    사건 아내 세상 등진 채 전당포 전직 특수요원 태식 사람 전당포 물건 사람 옆집 ...  \n",
       "9    해리 포터 다니엘 래드클리프 분 위압 버논 숙부 리 챠드 그리피스 분 이모 페투니...  \n",
       "10   아내 구해 분노 로 티스 트 장고 그 정의 바운티 헌터 닥터 킹 그 표적 욕망 마...  \n",
       "11   모태솔로 팀 돔놀 글 리슨 은 성인 날 아버지 나이 로부터 가문 비밀 바로 시간 ...  \n",
       "12   미션 수행 후 우주 항해 거대 함선 엔터프라이즈 호 최첨단 기지 재 충전 시간 중...  \n",
       "13   옵티머스 프라임 더 이상 인간 편이 트랜스포머 고향 사이버 트론 재건 위해 지구 ...  \n",
       "14   비 날 다시 약속 세상 수아 그로 뒤 장마 시작 여름 날 세상 전과 모습 수아 수...  \n",
       "15   를 이후 매 레아 세이 과 일상 제임스 본드 다니엘 레이 날 요원 펠릭스 제프리 ...  \n",
       "16   세계 각국 정부 경제 붕괴 미래 지난 세기 범한 잘못 전 세계 식량 부족 도 해체...  \n",
       "17   더욱 포스 레이 전 우주 어둠 힘 지배 카일 렌 대적 히로인 거듭 미래 운명 레이...  "
      ]
     },
     "execution_count": 3,
     "metadata": {},
     "output_type": "execute_result"
    }
   ],
   "source": [
    "tg=Okt()\n",
    "def tk_f(a):\n",
    "    tk_all_d= []\n",
    "    sum_d = ''\n",
    "    for i in range(len(a)):\n",
    "        tk_d = [x for x in tg.nouns(a[i])]\n",
    "        for i in tk_d:\n",
    "            sum_d = sum_d + ' '+ i\n",
    "        tk_all_d.append(sum_d)\n",
    "        sum_d = ''\n",
    "    return tk_all_d\n",
    "tk_data = tk_f(data['content'])\n",
    "tk_data\n",
    "data['tk_data']=tk_data\n",
    "data"
   ]
  },
  {
   "cell_type": "code",
   "execution_count": 4,
   "id": "da915b4c",
   "metadata": {},
   "outputs": [
    {
     "name": "stdout",
     "output_type": "stream",
     "text": [
      "코사인유사도 1~3위 인덱스,수치 : [(5, 0.11062607540975497), (11, 0.09231554282001697), (14, 0.0863722422457267)]\n"
     ]
    },
    {
     "data": {
      "text/plain": [
       "5       친절한금자씨\n",
       "11      어바웃 타임\n",
       "14    지금만나러갑니다\n",
       "Name: name, dtype: object"
      ]
     },
     "execution_count": 4,
     "metadata": {},
     "output_type": "execute_result"
    }
   ],
   "source": [
    "tfidf = TfidfVectorizer(stop_words='english')\n",
    "tfidf_t = tfidf.fit_transform(data['tk_data'])\n",
    "cos = cosine_similarity(tfidf_t,tfidf_t)\n",
    "t_idx = dict(zip(data['name'],data.index))\n",
    "def ck_s_t_cos(t,sim=cos):\n",
    "    idx = t_idx[t] \n",
    "    c_sc = list(enumerate(sim[idx])) \n",
    "    c_sc = sorted(c_sc,key = lambda x:x[1],reverse=True) #cos 수치가 높아야 유사도가 높다 (내림차순)\n",
    "    m_i= c_sc[1:4]\n",
    "    print(f'코사인유사도 1~3위 인덱스,수치 : {m_i}')\n",
    "    m_idx = [i[0] for i in m_i]\n",
    "    return data['name'].iloc[m_idx]\n",
    "ck_s_t_cos('올드보이')"
   ]
  },
  {
   "cell_type": "markdown",
   "id": "ed55bb70",
   "metadata": {},
   "source": [
    "Q2. 다른 유사도 방식을 이용하여서도 같은 결과가 나오는지 검토"
   ]
  },
  {
   "cell_type": "code",
   "execution_count": 5,
   "id": "e83f4516",
   "metadata": {},
   "outputs": [],
   "source": [
    "# from sklearn.metrics import jaccard_score\n",
    "from sklearn.metrics import euclidean_distances\n",
    "from sklearn.metrics.pairwise import manhattan_distances"
   ]
  },
  {
   "cell_type": "code",
   "execution_count": 6,
   "id": "57d0ed54",
   "metadata": {},
   "outputs": [],
   "source": [
    "euc = euclidean_distances(tfidf_t,tfidf_t)\n",
    "def ck_s_t_euc(t,sim=euc):\n",
    "    idx = t_idx[t] \n",
    "    c_sc = list(enumerate(sim[idx])) \n",
    "    c_sc = sorted(c_sc,key = lambda x:x[1]) #거리가 짧을수록 유사도가 높다 (오름차순)\n",
    "    m_i= c_sc[1:4]\n",
    "    print(f'유클리드유사도 1~3위 인덱스,수치 : {m_i}')\n",
    "    m_idx = [i[0] for i in m_i]\n",
    "    return data['name'].iloc[m_idx]"
   ]
  },
  {
   "cell_type": "code",
   "execution_count": 7,
   "id": "d6780645",
   "metadata": {},
   "outputs": [],
   "source": [
    "man = manhattan_distances(tfidf_t,tfidf_t)\n",
    "def ck_s_t_man(t,sim=man):\n",
    "    idx = t_idx[t] \n",
    "    c_sc = list(enumerate(sim[idx])) \n",
    "    c_sc = sorted(c_sc,key = lambda x:x[1]) #거리가 짧을수록 유사도가 높다 (오름차순)\n",
    "    m_i= c_sc[1:4]\n",
    "    print(f'멘하탄유사도 1~3위 인덱스,수치 : {m_i}')\n",
    "    m_idx = [i[0] for i in m_i]\n",
    "    return data['name'].iloc[m_idx]"
   ]
  },
  {
   "cell_type": "code",
   "execution_count": 9,
   "id": "59239cbe",
   "metadata": {},
   "outputs": [
    {
     "name": "stdout",
     "output_type": "stream",
     "text": [
      "코사인유사도 1~3위 인덱스,수치 : [(5, 0.11062607540975497), (11, 0.09231554282001697), (14, 0.0863722422457267)]\n",
      "5       친절한금자씨\n",
      "11      어바웃 타임\n",
      "14    지금만나러갑니다\n",
      "Name: name, dtype: object\n",
      "유클리드유사도 1~3위 인덱스,수치 : [(5, 1.3336970604978071), (11, 1.3473562685347804), (14, 1.3517601545794091)]\n",
      "5       친절한금자씨\n",
      "11      어바웃 타임\n",
      "14    지금만나러갑니다\n",
      "Name: name, dtype: object\n",
      "멘하탄유사도 1~3위 인덱스,수치 : [(14, 11.109437544466976), (1, 11.42810509315834), (10, 11.796278722355686)]\n",
      "14    지금만나러갑니다\n",
      "1          노트북\n",
      "10          장고\n",
      "Name: name, dtype: object\n"
     ]
    }
   ],
   "source": [
    "print(ck_s_t_cos('올드보이'))\n",
    "print(ck_s_t_euc('올드보이'))\n",
    "print(ck_s_t_man('올드보이'))"
   ]
  }
 ],
 "metadata": {
  "kernelspec": {
   "display_name": "Python 3 (ipykernel)",
   "language": "python",
   "name": "python3"
  },
  "language_info": {
   "codemirror_mode": {
    "name": "ipython",
    "version": 3
   },
   "file_extension": ".py",
   "mimetype": "text/x-python",
   "name": "python",
   "nbconvert_exporter": "python",
   "pygments_lexer": "ipython3",
   "version": "3.9.7"
  }
 },
 "nbformat": 4,
 "nbformat_minor": 5
}
