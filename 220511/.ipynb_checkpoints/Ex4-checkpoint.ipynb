{
 "cells": [
  {
   "cell_type": "code",
   "execution_count": 1,
   "id": "1b0bd142",
   "metadata": {},
   "outputs": [
    {
     "data": {
      "text/plain": [
       "{'안': 1, '녕': 2, '오': 3, '늘': 4, '이': 5, '제': 6, '끝': 7}"
      ]
     },
     "execution_count": 1,
     "metadata": {},
     "output_type": "execute_result"
    }
   ],
   "source": [
    "import numpy as np\n",
    "from tensorflow.keras.preprocessing.text import Tokenizer\n",
    "data = '안녕 오늘 이제 끝'\n",
    "tk = Tokenizer()\n",
    "tk.fit_on_texts(data) #차원 내리기\n",
    "tk.word_index"
   ]
  },
  {
   "cell_type": "code",
   "execution_count": 2,
   "id": "85edd74c",
   "metadata": {},
   "outputs": [
    {
     "data": {
      "text/plain": [
       "{'안녕': 1, '오늘': 2, '이제': 3, '끝': 4, '빨리': 5, '마무리': 6, '할께요': 7}"
      ]
     },
     "execution_count": 2,
     "metadata": {},
     "output_type": "execute_result"
    }
   ],
   "source": [
    "data = ['안녕 오늘 이제 끝','빨리 마무리 할께요']\n",
    "tk = Tokenizer()\n",
    "tk.fit_on_texts(data) #차원 내리기\n",
    "tk.word_index"
   ]
  },
  {
   "cell_type": "code",
   "execution_count": 3,
   "id": "854904fb",
   "metadata": {},
   "outputs": [
    {
     "data": {
      "text/plain": [
       "array([[0., 1., 1., 1., 1., 0., 0., 0.],\n",
       "       [0., 0., 0., 0., 0., 1., 1., 1.]])"
      ]
     },
     "execution_count": 3,
     "metadata": {},
     "output_type": "execute_result"
    }
   ],
   "source": [
    "tk.texts_to_matrix(data,mode='count')"
   ]
  },
  {
   "cell_type": "code",
   "execution_count": 4,
   "id": "e759ae02",
   "metadata": {},
   "outputs": [
    {
     "data": {
      "text/plain": [
       "array([[0.        , 0.69314718, 0.69314718, 0.69314718, 0.69314718,\n",
       "        0.        , 0.        , 0.        ],\n",
       "       [0.        , 0.        , 0.        , 0.        , 0.        ,\n",
       "        0.69314718, 0.69314718, 0.69314718]])"
      ]
     },
     "execution_count": 4,
     "metadata": {},
     "output_type": "execute_result"
    }
   ],
   "source": [
    "tk.texts_to_matrix(data,mode='tfidf')"
   ]
  }
 ],
 "metadata": {
  "kernelspec": {
   "display_name": "Python 3 (ipykernel)",
   "language": "python",
   "name": "python3"
  },
  "language_info": {
   "codemirror_mode": {
    "name": "ipython",
    "version": 3
   },
   "file_extension": ".py",
   "mimetype": "text/x-python",
   "name": "python",
   "nbconvert_exporter": "python",
   "pygments_lexer": "ipython3",
   "version": "3.9.7"
  }
 },
 "nbformat": 4,
 "nbformat_minor": 5
}
