{
 "cells": [
  {
   "cell_type": "code",
   "execution_count": 1,
   "id": "cd4209ef",
   "metadata": {},
   "outputs": [
    {
     "data": {
      "text/plain": [
       "[(0, 1), (1, 2), (2, 3), (3, 4), (4, 5), (5, 6)]"
      ]
     },
     "execution_count": 1,
     "metadata": {},
     "output_type": "execute_result"
    }
   ],
   "source": [
    "list(enumerate([1,2,3,4,5,6]))"
   ]
  },
  {
   "cell_type": "code",
   "execution_count": 2,
   "id": "71bfbbee",
   "metadata": {},
   "outputs": [
    {
     "name": "stdout",
     "output_type": "stream",
     "text": [
      "(0, 1)\n",
      "(1, 2)\n",
      "(2, 3)\n",
      "(3, 4)\n",
      "(4, 5)\n",
      "(5, 6)\n"
     ]
    }
   ],
   "source": [
    "for i in enumerate([1,2,3,4,5,6]):\n",
    "    print(i)"
   ]
  },
  {
   "cell_type": "code",
   "execution_count": 3,
   "id": "cea616b5",
   "metadata": {},
   "outputs": [
    {
     "name": "stdout",
     "output_type": "stream",
     "text": [
      "[(1154, 0.4450737885166823), (1167, 0.21396274581713076), (1267, 0.15630497603649068), (5187, 0.14261285053281025), (309, 0.12215599252659062)]\n"
     ]
    },
    {
     "data": {
      "text/plain": [
       "1154    The Empire Strikes Back\n",
       "1167         Return of the Jedi\n",
       "1267               Mad Dog Time\n",
       "5187        The Triumph of Love\n",
       "309           The Swan Princess\n",
       "Name: title, dtype: object"
      ]
     },
     "execution_count": 3,
     "metadata": {},
     "output_type": "execute_result"
    }
   ],
   "source": [
    "import numpy as np\n",
    "import pandas as pd\n",
    "from sklearn.feature_extraction.text import TfidfVectorizer\n",
    "from sklearn.metrics.pairwise import cosine_similarity\n",
    "data = pd.read_csv('data1.csv',low_memory=False)\n",
    "#low_memory=False 각 칼럼 데이터들을 더 큰 데이터 타입으로 통합시킴\n",
    "# 데이터가 큰 파일을 다룰 때 에러 방지\n",
    "data = data.head(20000)\n",
    "data['overview']=data['overview'].fillna('')\n",
    "tfidf = TfidfVectorizer(stop_words='english')\n",
    "tfidf_t = tfidf.fit_transform(data['overview'])\n",
    "cos = cosine_similarity(tfidf_t,tfidf_t) #영화리뷰유사도\n",
    "t_idx = dict(zip(data['title'],data.index)) #영화제목:인덱스\n",
    "def ck_s_t(t,cosine_sim=cos):\n",
    "    idx = t_idx[t] #해당영화의 인덱스\n",
    "    c_sc = list(enumerate(cosine_sim[idx])) #번호부여,해당영화의 리뷰유사도 \n",
    "    c_sc = sorted(c_sc,key = lambda x:x[1],reverse=True) #유사도 높은 순으로 내림차순 정렬\n",
    "    #m_i= c_sc[:5] #자기 자신의 영화도 같이 검토되기에 이를 처리해줘야함\n",
    "    m_i= c_sc[1:6]\n",
    "    print(m_i)\n",
    "    m_idx = [i[0] for i in m_i] #인덱스만 추출\n",
    "    return data['title'].iloc[m_idx] #해당 인덱스의 제목 리턴\n",
    "\n",
    "ck_s_t('Star Wars')"
   ]
  }
 ],
 "metadata": {
  "kernelspec": {
   "display_name": "Python 3 (ipykernel)",
   "language": "python",
   "name": "python3"
  },
  "language_info": {
   "codemirror_mode": {
    "name": "ipython",
    "version": 3
   },
   "file_extension": ".py",
   "mimetype": "text/x-python",
   "name": "python",
   "nbconvert_exporter": "python",
   "pygments_lexer": "ipython3",
   "version": "3.9.7"
  }
 },
 "nbformat": 4,
 "nbformat_minor": 5
}
