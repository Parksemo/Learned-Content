{
 "cells": [
  {
   "cell_type": "code",
   "execution_count": 74,
   "id": "99cd40b0",
   "metadata": {},
   "outputs": [],
   "source": [
    "import numpy as np\n",
    "import pandas as pd\n",
    "import csv\n",
    "\n",
    "from selenium import webdriver\n",
    "import chromedriver_autoinstaller\n",
    "\n",
    "from tqdm import tqdm, tqdm_notebook\n",
    "from tqdm.notebook import tqdm\n",
    "import re\n",
    "from time import sleep\n",
    "import time\n",
    "import warnings\n",
    "warnings.filterwarnings('ignore')\n",
    "import random\n",
    "import pickle\n",
    "t=random.choice([1,2])\n",
    "tt=random.choice([7,9,11])"
   ]
  },
  {
   "cell_type": "code",
   "execution_count": 144,
   "id": "154d984a",
   "metadata": {},
   "outputs": [],
   "source": [
    "def 구글크롤링(key):\n",
    "    \n",
    "    #크롬 구글맵url불러오기\n",
    "    chrome_path=chromedriver_autoinstaller.install()\n",
    "    driver = webdriver.Chrome(chrome_path)\n",
    "    time.sleep(3)\n",
    "    driver.get(\"https://www.google.co.kr/maps/?hl=ko\")\n",
    "    driver.implicitly_wait(10)\n",
    "    \n",
    "    #검색어지정\n",
    "    find = driver.find_element_by_xpath('//*[@id=\"searchboxinput\"]')\n",
    "    find.send_keys(f\"{key}\")\n",
    "    driver.implicitly_wait(tt)\n",
    "    \n",
    "    #검색하기\n",
    "    driver.find_element_by_xpath('//*[@id=\"searchbox-searchbutton\"]').click()\n",
    "    time.sleep(t)\n",
    "    \n",
    "    #리뷰더보기\n",
    "    element = driver.find_element_by_css_selector('#QA0Szd > div > div > div.w6VYqd > div.bJzME.tTVLSc > div > div.e07Vkf.kA9KIf')\n",
    "    time.sleep(1)\n",
    "    driver.execute_script('arguments[0].scrollTop = arguments[0].scrollHeight', element)\n",
    "    time.sleep(1)\n",
    "    element = driver.find_elements_by_css_selector(\".m6QErb.Hk4XGb.QoaCgb.KoSBEe.tLjsW .M77dve\")\n",
    "    driver.execute_script(\"arguments[0].click();\", element[1])\n",
    "    time.sleep(3)\n",
    "    #스크롤100번 내리기\n",
    "    for _ in range(100):\n",
    "        scroll = driver.find_element_by_css_selector(\n",
    "                    '#QA0Szd > div > div > div.w6VYqd > div.bJzME.tTVLSc > div > div.e07Vkf.kA9KIf > div > div > div.m6QErb.DxyBCb.kA9KIf.dS8AEf')\n",
    "        time.sleep(1)\n",
    "        driver.execute_script('arguments[0].scrollTop = arguments[0].scrollHeight', scroll)\n",
    "        time.sleep(t)\n",
    "\n",
    "    \n",
    "    #평점 리스트\n",
    "    구글평점 = driver.find_elements_by_css_selector('.GHT2ce .DU9Pgb .kvMYJc')\n",
    "    \n",
    "    #리뷰 리스트\n",
    "    구글리뷰 = driver.find_elements_by_css_selector('.GHT2ce .MyEned .wiI7pd')\n",
    "    \n",
    "    #리뷰수\n",
    "    구글리뷰수 = len(구글리뷰)\n",
    "   \n",
    "    # 평점 리뷰 묶기\n",
    "    구글리뷰_평점=[]\n",
    "    for i in tqdm(range(len(구글리뷰))):\n",
    "        reivew = [구글리뷰[i].text,구글평점[i].get_attribute('aria-label').replace(\" 별표 \",\"\").replace(\"개 \",\"\")]\n",
    "        구글리뷰_평점.append(reivew)\n",
    "        \n",
    "    #트립어드바이저 피클 불러오기\n",
    "    with open(f\"{key}_.pickle\",\"rb\") as fr:\n",
    "        크롤링_리뷰수 = pickle.load(fr)\n",
    "        reviews = 크롤링_리뷰수['트립리뷰수']\n",
    "        out_re = 크롤링_리뷰수['트립리뷰']\n",
    "\n",
    "    #트립어드바이저 & 구글 데이터 병합\n",
    "    리뷰수 = reviews + 구글리뷰수\n",
    "    \n",
    "    리뷰평점크롤링 = out_re+구글리뷰_평점\n",
    "    \n",
    "    #피클로 저장하기\n",
    "    구글_트립어드바이저_리뷰크롤링={}\n",
    "    구글_트립어드바이저_리뷰크롤링['구글트립리뷰'] = 리뷰평점크롤링\n",
    "    구글_트립어드바이저_리뷰크롤링['구글트립리뷰수']  = 리뷰수\n",
    "    with open(f\"{key}_.pickle\",\"wb\") as fw:\n",
    "        pickle.dump(구글_트립어드바이저_리뷰크롤링, fw)  \n",
    "\n",
    "\n",
    "\n"
   ]
  },
  {
   "cell_type": "code",
   "execution_count": 146,
   "id": "31ea6eef",
   "metadata": {},
   "outputs": [
    {
     "data": {
      "application/vnd.jupyter.widget-view+json": {
       "model_id": "144b12aa3a934998993750b061ebf6f7",
       "version_major": 2,
       "version_minor": 0
      },
      "text/plain": [
       "  0%|          | 0/60 [00:00<?, ?it/s]"
      ]
     },
     "metadata": {},
     "output_type": "display_data"
    }
   ],
   "source": [
    "구글크롤링(\"감천 문화마을\")"
   ]
  },
  {
   "cell_type": "code",
   "execution_count": 148,
   "id": "95d5fe92",
   "metadata": {},
   "outputs": [
    {
     "name": "stdout",
     "output_type": "stream",
     "text": [
      "786\n",
      "786\n"
     ]
    }
   ],
   "source": [
    "with open(\"감천 문화마을_.pickle\",\"rb\") as fr:\n",
    "    구글_트립어드바이저_리뷰크롤링 = pickle.load(fr)\n",
    "    리뷰평점크롤링 = 구글_트립어드바이저_리뷰크롤링['구글트립리뷰']\n",
    "    리뷰수 = 구글_트립어드바이저_리뷰크롤링['구글트립리뷰수']\n",
    "print(리뷰수)\n",
    "print(len(리뷰평점크롤링))"
   ]
  },
  {
   "cell_type": "code",
   "execution_count": null,
   "id": "56b7f60f",
   "metadata": {},
   "outputs": [],
   "source": []
  }
 ],
 "metadata": {
  "kernelspec": {
   "display_name": "Python 3 (ipykernel)",
   "language": "python",
   "name": "python3"
  },
  "language_info": {
   "codemirror_mode": {
    "name": "ipython",
    "version": 3
   },
   "file_extension": ".py",
   "mimetype": "text/x-python",
   "name": "python",
   "nbconvert_exporter": "python",
   "pygments_lexer": "ipython3",
   "version": "3.9.7"
  }
 },
 "nbformat": 4,
 "nbformat_minor": 5
}
