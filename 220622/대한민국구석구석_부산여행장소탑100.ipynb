{
 "cells": [
  {
   "cell_type": "code",
   "execution_count": 1,
   "id": "03778557",
   "metadata": {},
   "outputs": [],
   "source": [
    "import pandas as pd\n",
    "from selenium import webdriver\n",
    "import chromedriver_autoinstaller\n",
    "import time\n",
    "import warnings\n",
    "import numpy as np\n",
    "import pandas as pd\n",
    "warnings.filterwarnings('ignore')"
   ]
  },
  {
   "cell_type": "code",
   "execution_count": 2,
   "id": "c4a9a7ba",
   "metadata": {},
   "outputs": [],
   "source": [
    "def 대한민국구석구석_부산여행장소탑100():\n",
    "    chrome_path = chromedriver_autoinstaller.install()\n",
    "    driver = webdriver.Chrome(chrome_path)\n",
    "    driver.get('https://korean.visitkorea.or.kr/list/ms_list.do?areacode=6')\n",
    "    time.sleep(3)\n",
    "    driver.find_element_by_xpath('//*[@id=\"contents\"]/div[2]/div[1]/div[1]/button').click()\n",
    "    time.sleep(2)\n",
    "    driver.find_element_by_xpath('//*[@id=\"Tour\"]/button').click( )\n",
    "    time.sleep(2)\n",
    "    driver.find_element_by_xpath('//*[@id=\"contents\"]/div[2]/div[2]/div[2]/div/a').click()\n",
    "    time.sleep(2)\n",
    "    driver.find_element_by_xpath('//*[@id=\"3\"]').click( )\n",
    "    time.sleep(2)\n",
    "    장소 = []\n",
    "    for i in range(1,11):\n",
    "        driver.execute_script(\"window.scrollTo(0, 1000)\")\n",
    "        if i > 1:\n",
    "            b = driver.find_elements_by_xpath(f'//*[@id=\"{i}\"]')\n",
    "            if i <= 3:\n",
    "                b[1].click()\n",
    "                time.sleep(2)\n",
    "            else:\n",
    "                b[0].click()\n",
    "                time.sleep(2)\n",
    "        a = driver.find_elements_by_css_selector('.tit')\n",
    "        for i in a[:10]:\n",
    "            장소.append(i.text)\n",
    "    data = pd.DataFrame(장소, columns=['장소'])\n",
    "    data.to_csv(\"대한민국구석구석_부산여행장소탑100.csv\", encoding='utf-8-sig')            "
   ]
  },
  {
   "cell_type": "code",
   "execution_count": 3,
   "id": "f9f7b3c4",
   "metadata": {},
   "outputs": [],
   "source": [
    "대한민국구석구석_부산여행장소탑100()"
   ]
  }
 ],
 "metadata": {
  "kernelspec": {
   "display_name": "Python 3 (ipykernel)",
   "language": "python",
   "name": "python3"
  },
  "language_info": {
   "codemirror_mode": {
    "name": "ipython",
    "version": 3
   },
   "file_extension": ".py",
   "mimetype": "text/x-python",
   "name": "python",
   "nbconvert_exporter": "python",
   "pygments_lexer": "ipython3",
   "version": "3.9.12"
  }
 },
 "nbformat": 4,
 "nbformat_minor": 5
}
