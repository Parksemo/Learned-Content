{
 "cells": [
  {
   "cell_type": "code",
   "execution_count": 3,
   "id": "796431c2",
   "metadata": {},
   "outputs": [],
   "source": [
    "import numpy as np\n",
    "import pandas as pd\n",
    "import csv\n",
    "\n",
    "from selenium import webdriver\n",
    "import chromedriver_autoinstaller\n",
    "\n",
    "from tqdm import tqdm, tqdm_notebook\n",
    "from tqdm.notebook import tqdm\n",
    "import re\n",
    "from time import sleep\n",
    "import time\n",
    "import warnings\n",
    "warnings.filterwarnings('ignore')\n",
    "import random\n",
    "import pickle\n",
    "t=random.choice([3,4,5])"
   ]
  },
  {
   "cell_type": "code",
   "execution_count": 37,
   "id": "8b746f80",
   "metadata": {},
   "outputs": [],
   "source": [
    "def 리뷰크롤링(key):\n",
    "    chrome_path=chromedriver_autoinstaller.install()\n",
    "    driver = webdriver.Chrome(chrome_path)\n",
    "    time.sleep(3)\n",
    "    try:\n",
    "        driver.get(\"https://www.tripadvisor.co.kr/\")\n",
    "        time.sleep(5)\n",
    "        find = driver.find_element_by_xpath('//*[@id=\"lithium-root\"]/main/div[3]/div/div/div/form/input[1]')\n",
    "        driver.implicitly_wait(10)\n",
    "        find.send_keys(key)\n",
    "        time.sleep(7)\n",
    "        find.submit()#엔터\n",
    "        driver.implicitly_wait(10)\n",
    "        driver.find_element_by_xpath('//*[@id=\"BODY_BLOCK_JQUERY_REFLOW\"]/div[2]/div/div[2]/div/div/div/div/div[1]/div/div[1]/div/div[3]/div/div[1]/div/div[2]/div/div/div[1]/div/div/div/div[2]/div/div[1]').click()\n",
    "        driver.implicitly_wait(10)\n",
    "        driver.switch_to.window(driver.window_handles[-1])\n",
    "        time.sleep(5)\n",
    "    except:\n",
    "        driver.get(\"https://www.tripadvisor.co.kr/\")\n",
    "        time.sleep(5)\n",
    "        find = driver.find_element_by_xpath('//*[@id=\"lithium-root\"]/main/div[3]/div/div/div/form/input[1]')\n",
    "        driver.implicitly_wait(10)\n",
    "        find.send_keys(key)\n",
    "        time.sleep(7)\n",
    "        find.submit()#엔터\n",
    "        driver.implicitly_wait(10)\n",
    "        driver.find_element_by_xpath('//*[@id=\"BODY_BLOCK_JQUERY_REFLOW\"]/div[2]/div/div[2]/div/div/div/div/div[1]/div/div[1]/div/div[3]/div/div[1]/div/div[2]/div/div/div[1]/div/div/div/div[2]/div/div[1]').click()\n",
    "        driver.implicitly_wait(10)\n",
    "        driver.switch_to.window(driver.window_handles[-1])\n",
    "        time.sleep(5)\n",
    "    file_name = driver.find_element_by_xpath('//*[@id=\"lithium-root\"]/main/div[1]/div[2]/div[1]/header/div[3]/div[1]/div/h1').text\n",
    "    out_re=[]\n",
    "    c = True\n",
    "    while c:   \n",
    "        try:\n",
    "            driver.execute_script(\"window.scrollTo(0, 5500)\")\n",
    "            driver.implicitly_wait(t)\n",
    "            for j in tqdm(range(1,11)):\n",
    "                #time.sleep(2)\n",
    "                try:\n",
    "                    review=[driver.find_element_by_xpath(f'//*[@id=\"tab-data-qa-reviews-0\"]/div/div[5]/div[{j}]/span/div/div[5]/div[1]/div/span').text\n",
    "                           ,driver.find_element_by_xpath(f'//*[@id=\"tab-data-qa-reviews-0\"]/div/div[5]/div[{j}]/span/div/div[2]/*[name()=\"svg\"]').get_attribute('aria-label')\n",
    "                           ]\n",
    "                    review[1] = review[1].replace('풍선 5개 중 ','')\n",
    "                    #time.sleep(t)\n",
    "                    out_re.append(review)                    \n",
    "                except:\n",
    "                    continue\n",
    "            driver.implicitly_wait(t)\n",
    "    #         print(out_re)\n",
    "            element = driver.find_element_by_xpath('//*[@id=\"tab-data-qa-reviews-0\"]/div/div[5]/div[10]/span/div')\n",
    "            driver.execute_script('arguments[0].scrollIntoView(true);', element)\n",
    "            driver.find_element_by_xpath('//*[@id=\"tab-data-qa-reviews-0\"]/div/div[5]/div[11]/div[1]/div/div[1]/div[2]/div/a/*[name()=\"svg\"]').click()\n",
    "            driver.implicitly_wait(t)\n",
    "        except:\n",
    "            c=False\n",
    "    리뷰크롤링_리뷰수={}\n",
    "    리뷰크롤링_리뷰수['트립리뷰'] = out_re\n",
    "    리뷰크롤링_리뷰수['트립리뷰수']  = len(out_re)\n",
    "    with open(f\"{file_name}_.pickle\",\"wb\") as fw:\n",
    "        pickle.dump(리뷰크롤링_리뷰수, fw)    \n",
    "#     title=\"리뷰\",\"평점\"  \n",
    "#     f=open(f\"{file_name}.csv\",\"w\",encoding='utf-8-sig',newline=\"\")\n",
    "#     writer=csv.writer(f)\n",
    "#     writer.writerow(title)\n",
    "#     writer.writerows(out_re)\n",
    "#     f.close()   \n",
    "#     df=pd.read_csv(f'{file_name}.csv')\n",
    "#     df_ver=pd.DataFrame(크롤링_리뷰수['리뷰']).insert(column=[\"리뷰\",\"평점\"])\n"
   ]
  },
  {
   "cell_type": "code",
   "execution_count": 38,
   "id": "3202e22b",
   "metadata": {
    "scrolled": true
   },
   "outputs": [
    {
     "data": {
      "application/vnd.jupyter.widget-view+json": {
       "model_id": "56cab78e69f544f1b77ac8e9b96e2109",
       "version_major": 2,
       "version_minor": 0
      },
      "text/plain": [
       "  0%|          | 0/10 [00:00<?, ?it/s]"
      ]
     },
     "metadata": {},
     "output_type": "display_data"
    }
   ],
   "source": [
    "리뷰크롤링(\"흰여울문화마을\")"
   ]
  },
  {
   "cell_type": "code",
   "execution_count": 42,
   "id": "e0d2e3f1",
   "metadata": {},
   "outputs": [
    {
     "data": {
      "text/plain": [
       "'40'"
      ]
     },
     "execution_count": 42,
     "metadata": {},
     "output_type": "execute_result"
    }
   ],
   "source": [
    "reviews"
   ]
  },
  {
   "cell_type": "code",
   "execution_count": 39,
   "id": "68a1a0e8",
   "metadata": {},
   "outputs": [
    {
     "data": {
      "text/html": [
       "<div>\n",
       "<style scoped>\n",
       "    .dataframe tbody tr th:only-of-type {\n",
       "        vertical-align: middle;\n",
       "    }\n",
       "\n",
       "    .dataframe tbody tr th {\n",
       "        vertical-align: top;\n",
       "    }\n",
       "\n",
       "    .dataframe thead th {\n",
       "        text-align: right;\n",
       "    }\n",
       "</style>\n",
       "<table border=\"1\" class=\"dataframe\">\n",
       "  <thead>\n",
       "    <tr style=\"text-align: right;\">\n",
       "      <th></th>\n",
       "      <th>리뷰</th>\n",
       "      <th>평점</th>\n",
       "    </tr>\n",
       "  </thead>\n",
       "  <tbody>\n",
       "    <tr>\n",
       "      <th>0</th>\n",
       "      <td>영도 해안 절경을 한눈에 볼수가있습니다.\\n영화촬영 장소이기도하고 여러가지\\n액티비...</td>\n",
       "      <td>5.0</td>\n",
       "    </tr>\n",
       "    <tr>\n",
       "      <th>1</th>\n",
       "      <td>영화 변호사 촬영지이며 골목 골목 길들이\\n아름다운 곳입니다.\\n해안산책길과 바다도...</td>\n",
       "      <td>5.0</td>\n",
       "    </tr>\n",
       "    <tr>\n",
       "      <th>2</th>\n",
       "      <td>영화 변호인에서 송강호가 임시완 어머니를 기다리던 집이 있는 골목입니다. 이름 그대...</td>\n",
       "      <td>5.0</td>\n",
       "    </tr>\n",
       "    <tr>\n",
       "      <th>3</th>\n",
       "      <td>휴일이랑 형이랑 부산 여행와서 아점 먹고 방문.\\n햇볕이 강해 너무 더움. 대신 구...</td>\n",
       "      <td>4.0</td>\n",
       "    </tr>\n",
       "    <tr>\n",
       "      <th>4</th>\n",
       "      <td>주차장이 없고 길이 좁아서 차로 이동하거나 주차하기가 불편했던거 빼고는 좋았어요.\\...</td>\n",
       "      <td>4.0</td>\n",
       "    </tr>\n",
       "  </tbody>\n",
       "</table>\n",
       "</div>"
      ],
      "text/plain": [
       "                                                  리뷰   평점\n",
       "0  영도 해안 절경을 한눈에 볼수가있습니다.\\n영화촬영 장소이기도하고 여러가지\\n액티비...  5.0\n",
       "1  영화 변호사 촬영지이며 골목 골목 길들이\\n아름다운 곳입니다.\\n해안산책길과 바다도...  5.0\n",
       "2  영화 변호인에서 송강호가 임시완 어머니를 기다리던 집이 있는 골목입니다. 이름 그대...  5.0\n",
       "3  휴일이랑 형이랑 부산 여행와서 아점 먹고 방문.\\n햇볕이 강해 너무 더움. 대신 구...  4.0\n",
       "4  주차장이 없고 길이 좁아서 차로 이동하거나 주차하기가 불편했던거 빼고는 좋았어요.\\...  4.0"
      ]
     },
     "execution_count": 39,
     "metadata": {},
     "output_type": "execute_result"
    }
   ],
   "source": [
    "with open(\"흰 여울길_.pickle\",\"rb\") as fr:\n",
    "    크롤링_리뷰수 = pickle.load(fr)\n",
    "reviews = 크롤링_리뷰수['트립리뷰수']\n",
    "out_re = 크롤링_리뷰수['트립리뷰']\n",
    "out_re = pd.DataFrame(out_re)\n",
    "out_re.columns = [\"리뷰\",\"평점\"]\n",
    "out_re"
   ]
  },
  {
   "cell_type": "code",
   "execution_count": 10,
   "id": "8d43d8f2",
   "metadata": {
    "scrolled": false
   },
   "outputs": [
    {
     "data": {
      "text/plain": [
       "('2,960', 676)"
      ]
     },
     "execution_count": 10,
     "metadata": {},
     "output_type": "execute_result"
    }
   ],
   "source": [
    "with open(\"감천 문화마을_.pickle\",\"rb\") as fr:\n",
    "    크롤링_리뷰수 = pickle.load(fr)\n",
    "reviews = 크롤링_리뷰수['리뷰수']\n",
    "out_re = 크롤링_리뷰수['리뷰']\n",
    "out_re = pd.DataFrame(out_re)\n",
    "out_re.columns = [\"리뷰\",\"평점\"]\n",
    "out_re\n",
    "reviews,len(out_re)\n",
    "\n"
   ]
  },
  {
   "cell_type": "code",
   "execution_count": 20,
   "id": "e2189e7c",
   "metadata": {},
   "outputs": [
    {
     "data": {
      "text/plain": [
       "['감천문화마을',\n",
       " '광안리해수욕장',\n",
       " '민락수변공원',\n",
       " '부산민주공원',\n",
       " '불국사',\n",
       " '비프광장',\n",
       " '태종대',\n",
       " '해동 용궁사',\n",
       " '해운대',\n",
       " '황령산',\n",
       " '흰 여울길']"
      ]
     },
     "execution_count": 20,
     "metadata": {},
     "output_type": "execute_result"
    }
   ],
   "source": [
    "# import os\n",
    "# f=os.listdir(\"D:\\programing\\semiproject\\clolinglist\")\n",
    "# f_l=[]\n",
    "# for i in f:\n",
    "#     l_i=i.replace(\".csv\",\"\")\n",
    "#     f_l.append(l_i)\n",
    "# f_l"
   ]
  },
  {
   "cell_type": "code",
   "execution_count": null,
   "id": "cc9282f0",
   "metadata": {},
   "outputs": [],
   "source": []
  }
 ],
 "metadata": {
  "kernelspec": {
   "display_name": "Python 3 (ipykernel)",
   "language": "python",
   "name": "python3"
  },
  "language_info": {
   "codemirror_mode": {
    "name": "ipython",
    "version": 3
   },
   "file_extension": ".py",
   "mimetype": "text/x-python",
   "name": "python",
   "nbconvert_exporter": "python",
   "pygments_lexer": "ipython3",
   "version": "3.9.12"
  }
 },
 "nbformat": 4,
 "nbformat_minor": 5
}
