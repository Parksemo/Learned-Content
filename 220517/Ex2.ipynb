{
 "cells": [
  {
   "cell_type": "code",
   "execution_count": 12,
   "id": "b91bb088",
   "metadata": {},
   "outputs": [
    {
     "name": "stderr",
     "output_type": "stream",
     "text": [
      "<__array_function__ internals>:5: VisibleDeprecationWarning: Creating an ndarray from ragged nested sequences (which is a list-or-tuple of lists-or-tuples-or ndarrays with different lengths or shapes) is deprecated. If you meant to do this, you must specify 'dtype=object' when creating the ndarray\n",
      "C:\\Users\\user\\anaconda3\\lib\\site-packages\\tensorflow\\python\\keras\\datasets\\imdb.py:155: VisibleDeprecationWarning: Creating an ndarray from ragged nested sequences (which is a list-or-tuple of lists-or-tuples-or ndarrays with different lengths or shapes) is deprecated. If you meant to do this, you must specify 'dtype=object' when creating the ndarray\n",
      "  x_train, y_train = np.array(xs[:idx]), np.array(labels[:idx])\n",
      "C:\\Users\\user\\anaconda3\\lib\\site-packages\\tensorflow\\python\\keras\\datasets\\imdb.py:156: VisibleDeprecationWarning: Creating an ndarray from ragged nested sequences (which is a list-or-tuple of lists-or-tuples-or ndarrays with different lengths or shapes) is deprecated. If you meant to do this, you must specify 'dtype=object' when creating the ndarray\n",
      "  x_test, y_test = np.array(xs[idx:]), np.array(labels[idx:])\n"
     ]
    }
   ],
   "source": [
    "import tensorflow as tf\n",
    "import numpy as np\n",
    "from tensorflow.keras.layers import Dense, Embedding, SimpleRNN, LSTM, Bidirectional, Dropout\n",
    "from tensorflow.keras.models import Sequential\n",
    "from tensorflow.keras.optimizers import Adam\n",
    "from tensorflow.keras.datasets.imdb import load_data\n",
    "tf.random.set_seed(22)\n",
    "np.random.seed(22)\n",
    "(t_x,t_y),(tt_x,tt_y) = load_data(num_words=10000)"
   ]
  },
  {
   "cell_type": "code",
   "execution_count": 2,
   "id": "2df04cbb",
   "metadata": {},
   "outputs": [],
   "source": [
    "t_x = tf.keras.preprocessing.sequence.pad_sequences(t_x,maxlen=80)\n",
    "tt_x = tf.keras.preprocessing.sequence.pad_sequences(tt_x,maxlen=80)"
   ]
  },
  {
   "cell_type": "code",
   "execution_count": 3,
   "id": "e0c9646a",
   "metadata": {},
   "outputs": [
    {
     "data": {
      "text/plain": [
       "((25000, 80), (25000, 80), (25000,), (25000,))"
      ]
     },
     "execution_count": 3,
     "metadata": {},
     "output_type": "execute_result"
    }
   ],
   "source": [
    "t_x.shape,tt_x.shape,t_y.shape,tt_y.shape"
   ]
  },
  {
   "cell_type": "code",
   "execution_count": 4,
   "id": "9e15b073",
   "metadata": {},
   "outputs": [],
   "source": [
    "# Embedding(단어수,피처차원)\n",
    "# m = Sequential()\n",
    "# m.add(Embedding(10000,100,input_length=80))\n",
    "# m.add(SimpleRNNCell(64,dropout=0.5,return_sequences = True))\n",
    "# m.add(SimpleRNNCell(64,dropout=0.5))\n",
    "# m.add(Dense(1))\n",
    "# tf.sigmoid()"
   ]
  },
  {
   "cell_type": "markdown",
   "id": "79532220",
   "metadata": {},
   "source": [
    "옵션 작성 (하이퍼 파라미터)"
   ]
  },
  {
   "cell_type": "code",
   "execution_count": 5,
   "id": "f5bfa3d5",
   "metadata": {},
   "outputs": [],
   "source": [
    "배치크기 = 128\n",
    "총단어수 = 10000\n",
    "최고문장길이 = 80\n",
    "임배딩길이 = 100\n",
    "뉴런수 = 64\n",
    "d_out = 0.5\n",
    "lr = 0.001\n",
    "ec = 4"
   ]
  },
  {
   "cell_type": "code",
   "execution_count": 6,
   "id": "e14be4c8",
   "metadata": {
    "scrolled": true
   },
   "outputs": [
    {
     "name": "stdout",
     "output_type": "stream",
     "text": [
      "Epoch 1/4\n",
      "782/782 [==============================] - 37s 45ms/step - loss: 0.7059 - acc: 0.5097\n",
      "Epoch 2/4\n",
      "782/782 [==============================] - 41s 52ms/step - loss: 0.6625 - acc: 0.5862 - val_loss: 0.6092 - val_acc: 0.6692\n",
      "Epoch 3/4\n",
      "782/782 [==============================] - 34s 43ms/step - loss: 0.4711 - acc: 0.7829\n",
      "Epoch 4/4\n",
      "782/782 [==============================] - 39s 50ms/step - loss: 0.3877 - acc: 0.8387 - val_loss: 0.4536 - val_acc: 0.8164\n"
     ]
    }
   ],
   "source": [
    "m = Sequential()\n",
    "m.add(Embedding(총단어수,임배딩길이,input_length=최고문장길이))\n",
    "m.add(SimpleRNN(뉴런수,dropout=d_out,return_sequences = True))\n",
    "m.add(SimpleRNN(뉴런수,dropout=d_out))\n",
    "m.add(Dense(1,activation='sigmoid'))\n",
    "m.compile(optimizer=Adam(lr),\n",
    "         loss = tf.losses.BinaryCrossentropy(),\n",
    "         metrics=['acc']\n",
    "         )\n",
    "hy = m.fit(t_x,t_y,epochs=ec,validation_data=(tt_x,tt_y),validation_freq=2)"
   ]
  },
  {
   "cell_type": "code",
   "execution_count": 8,
   "id": "f0ebd44b",
   "metadata": {
    "scrolled": true
   },
   "outputs": [
    {
     "name": "stdout",
     "output_type": "stream",
     "text": [
      "Epoch 1/4\n",
      "782/782 [==============================] - 72s 87ms/step - loss: 0.4363 - acc: 0.7904\n",
      "Epoch 2/4\n",
      "782/782 [==============================] - 74s 95ms/step - loss: 0.2936 - acc: 0.8782 - val_loss: 0.3649 - val_acc: 0.8377\n",
      "Epoch 3/4\n",
      "782/782 [==============================] - 56s 71ms/step - loss: 0.2355 - acc: 0.9070\n",
      "Epoch 4/4\n",
      "782/782 [==============================] - 72s 92ms/step - loss: 0.1888 - acc: 0.9270 - val_loss: 0.4555 - val_acc: 0.8275\n"
     ]
    }
   ],
   "source": [
    "m = Sequential()\n",
    "m.add(Embedding(총단어수,임배딩길이,input_length=최고문장길이))\n",
    "m.add(LSTM(뉴런수,dropout=d_out,return_sequences = True))\n",
    "m.add(LSTM(뉴런수,dropout=d_out))\n",
    "m.add(Dense(1,activation='sigmoid'))\n",
    "m.compile(optimizer=Adam(lr),\n",
    "         loss = tf.losses.BinaryCrossentropy(),\n",
    "         metrics=['acc']\n",
    "         )\n",
    "hy = m.fit(t_x,t_y,epochs=ec,validation_data=(tt_x,tt_y),validation_freq=2)"
   ]
  },
  {
   "cell_type": "code",
   "execution_count": 14,
   "id": "3aab8037",
   "metadata": {},
   "outputs": [],
   "source": [
    "# m = Sequential()\n",
    "# m.add(Embedding(총단어수,임배딩길이,input_length=최고문장길이))\n",
    "# m.add(Bidirectional(LSTM(뉴런수,return_sequences = True)))\n",
    "# m.add(Bidirectional(LSTM(뉴런수//2)))\n",
    "# m.add(Dropout(0.5))\n",
    "# m.add(Dense(1,activation='sigmoid'))\n",
    "# m.compile(optimizer=Adam(lr),\n",
    "#          loss = tf.losses.BinaryCrossentropy(),\n",
    "#          metrics=['acc']\n",
    "#          )\n",
    "# hy = m.fit(t_x,t_y,epochs=ec,validation_data=(tt_x,tt_y),validation_freq=2)"
   ]
  }
 ],
 "metadata": {
  "kernelspec": {
   "display_name": "Python 3 (ipykernel)",
   "language": "python",
   "name": "python3"
  },
  "language_info": {
   "codemirror_mode": {
    "name": "ipython",
    "version": 3
   },
   "file_extension": ".py",
   "mimetype": "text/x-python",
   "name": "python",
   "nbconvert_exporter": "python",
   "pygments_lexer": "ipython3",
   "version": "3.9.7"
  }
 },
 "nbformat": 4,
 "nbformat_minor": 5
}
