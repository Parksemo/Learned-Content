{
 "cells": [
  {
   "cell_type": "code",
   "execution_count": 1,
   "id": "bc03c95b",
   "metadata": {},
   "outputs": [
    {
     "data": {
      "text/plain": [
       "(42, 3)"
      ]
     },
     "execution_count": 1,
     "metadata": {},
     "output_type": "execute_result"
    }
   ],
   "source": [
    "import numpy as np\n",
    "import pandas as pd\n",
    "from sklearn.model_selection import train_test_split\n",
    "df=pd.read_csv('perch_full.csv')\n",
    "X=df.to_numpy()\n",
    "Y = np.array(\n",
    "    [5.9, 32.0, 40.0, 51.5, 70.0, 100.0, 78.0, 80.0, 85.0, 85.0, \n",
    "     110.0, 115.0, 125.0, 130.0, 120.0, 120.0, 130.0, 135.0, 110.0, \n",
    "     130.0, 150.0, 145.0, 150.0, 170.0, 225.0, 145.0, 188.0, 180.0, \n",
    "     197.0, 218.0, 300.0, 260.0, 265.0, 250.0, 250.0, 300.0, 320.0, \n",
    "     514.0, 556.0, 840.0, 685.0, 700.0, 700.0, 690.0, 900.0, 650.0, \n",
    "     820.0, 850.0, 900.0, 1015.0, 820.0, 1100.0, 1000.0, 1100.0, \n",
    "     1000.0, 1000.0]\n",
    "     )\n",
    "t_x,tt_x,t_y,tt_y= train_test_split(X,Y,random_state=42)\n",
    "t_x.shape"
   ]
  },
  {
   "cell_type": "code",
   "execution_count": 2,
   "id": "4cdba550",
   "metadata": {},
   "outputs": [
    {
     "data": {
      "text/plain": [
       "array([[1., 1., 2., 3., 1., 2., 3., 4., 6., 9.]])"
      ]
     },
     "execution_count": 2,
     "metadata": {},
     "output_type": "execute_result"
    }
   ],
   "source": [
    "#피처확장\n",
    "from sklearn.preprocessing import PolynomialFeatures # preprocessing전처리  PolynomialFeatures다항식피처\n",
    "p_m=PolynomialFeatures()\n",
    "#ex)\n",
    "p_m.fit([[1,2,3]])\n",
    "p_m.transform([[1,2,3]])"
   ]
  },
  {
   "cell_type": "code",
   "execution_count": 3,
   "id": "8f331c40",
   "metadata": {},
   "outputs": [
    {
     "data": {
      "text/plain": [
       "['1', 'x0', 'x1', 'x2', 'x0^2', 'x0 x1', 'x0 x2', 'x1^2', 'x1 x2', 'x2^2']"
      ]
     },
     "execution_count": 3,
     "metadata": {},
     "output_type": "execute_result"
    }
   ],
   "source": [
    "p_m.get_feature_names()"
   ]
  },
  {
   "cell_type": "code",
   "execution_count": 4,
   "id": "baad1f74",
   "metadata": {},
   "outputs": [
    {
     "data": {
      "text/plain": [
       "(42, 9)"
      ]
     },
     "execution_count": 4,
     "metadata": {},
     "output_type": "execute_result"
    }
   ],
   "source": [
    "p_m=PolynomialFeatures(include_bias=False)#전처리기 #include_bias=False 절편값 제거(미포함시킴)\n",
    "p_m.fit(t_x)\n",
    "p_t_x=p_m.transform(t_x)\n",
    "p_tt_x=p_m.transform(tt_x)\n",
    "p_t_x.shape"
   ]
  },
  {
   "cell_type": "code",
   "execution_count": 5,
   "id": "d3909c5b",
   "metadata": {},
   "outputs": [
    {
     "data": {
      "text/plain": [
       "['x0', 'x1', 'x2', 'x0^2', 'x0 x1', 'x0 x2', 'x1^2', 'x1 x2', 'x2^2']"
      ]
     },
     "execution_count": 5,
     "metadata": {},
     "output_type": "execute_result"
    }
   ],
   "source": [
    "p_m.get_feature_names()"
   ]
  },
  {
   "cell_type": "code",
   "execution_count": 6,
   "id": "687b40dc",
   "metadata": {},
   "outputs": [
    {
     "name": "stdout",
     "output_type": "stream",
     "text": [
      "0.8796419177546366 0.9559326821885706\n"
     ]
    }
   ],
   "source": [
    "from sklearn.linear_model import LinearRegression\n",
    "m_lr=LinearRegression()\n",
    "m_lr.fit(p_t_x,t_y)\n",
    "lr=LinearRegression().fit(t_x,t_y)\n",
    "print(lr.score(tt_x,tt_y),lr.score(t_x,t_y)) #피처확장전 트레이닝과 테스트의 갭차이가 있는편"
   ]
  },
  {
   "cell_type": "code",
   "execution_count": 7,
   "id": "3d34aa7d",
   "metadata": {},
   "outputs": [
    {
     "name": "stdout",
     "output_type": "stream",
     "text": [
      "0.9714559911594155 0.9903183436982125\n"
     ]
    }
   ],
   "source": [
    "print(m_lr.score(p_tt_x,tt_y),m_lr.score(p_t_x,t_y)) #피처 확장후 갭차이"
   ]
  },
  {
   "cell_type": "code",
   "execution_count": 8,
   "id": "947f5064",
   "metadata": {},
   "outputs": [],
   "source": [
    "p_m1=PolynomialFeatures(degree=5,include_bias=False).fit(t_x) #degree 최고차항설정\n",
    "d_t_x=p_m1.transform(t_x)\n",
    "d_tt_x=p_m1.transform(tt_x)"
   ]
  },
  {
   "cell_type": "code",
   "execution_count": 9,
   "id": "1d19dcd5",
   "metadata": {},
   "outputs": [
    {
     "data": {
      "text/plain": [
       "(42, 55)"
      ]
     },
     "execution_count": 9,
     "metadata": {},
     "output_type": "execute_result"
    }
   ],
   "source": [
    "d_t_x.shape"
   ]
  },
  {
   "cell_type": "code",
   "execution_count": 10,
   "id": "b4021c69",
   "metadata": {},
   "outputs": [
    {
     "data": {
      "text/plain": [
       "['x0',\n",
       " 'x1',\n",
       " 'x2',\n",
       " 'x0^2',\n",
       " 'x0 x1',\n",
       " 'x0 x2',\n",
       " 'x1^2',\n",
       " 'x1 x2',\n",
       " 'x2^2',\n",
       " 'x0^3',\n",
       " 'x0^2 x1',\n",
       " 'x0^2 x2',\n",
       " 'x0 x1^2',\n",
       " 'x0 x1 x2',\n",
       " 'x0 x2^2',\n",
       " 'x1^3',\n",
       " 'x1^2 x2',\n",
       " 'x1 x2^2',\n",
       " 'x2^3',\n",
       " 'x0^4',\n",
       " 'x0^3 x1',\n",
       " 'x0^3 x2',\n",
       " 'x0^2 x1^2',\n",
       " 'x0^2 x1 x2',\n",
       " 'x0^2 x2^2',\n",
       " 'x0 x1^3',\n",
       " 'x0 x1^2 x2',\n",
       " 'x0 x1 x2^2',\n",
       " 'x0 x2^3',\n",
       " 'x1^4',\n",
       " 'x1^3 x2',\n",
       " 'x1^2 x2^2',\n",
       " 'x1 x2^3',\n",
       " 'x2^4',\n",
       " 'x0^5',\n",
       " 'x0^4 x1',\n",
       " 'x0^4 x2',\n",
       " 'x0^3 x1^2',\n",
       " 'x0^3 x1 x2',\n",
       " 'x0^3 x2^2',\n",
       " 'x0^2 x1^3',\n",
       " 'x0^2 x1^2 x2',\n",
       " 'x0^2 x1 x2^2',\n",
       " 'x0^2 x2^3',\n",
       " 'x0 x1^4',\n",
       " 'x0 x1^3 x2',\n",
       " 'x0 x1^2 x2^2',\n",
       " 'x0 x1 x2^3',\n",
       " 'x0 x2^4',\n",
       " 'x1^5',\n",
       " 'x1^4 x2',\n",
       " 'x1^3 x2^2',\n",
       " 'x1^2 x2^3',\n",
       " 'x1 x2^4',\n",
       " 'x2^5']"
      ]
     },
     "execution_count": 10,
     "metadata": {},
     "output_type": "execute_result"
    }
   ],
   "source": [
    "p_m1.get_feature_names()"
   ]
  },
  {
   "cell_type": "code",
   "execution_count": 11,
   "id": "4b8200eb",
   "metadata": {},
   "outputs": [
    {
     "name": "stdout",
     "output_type": "stream",
     "text": [
      "-144.40744532797535 0.9999999999938143\n"
     ]
    }
   ],
   "source": [
    "m_lr1=LinearRegression().fit(d_t_x,t_y)\n",
    "print(m_lr1.score(d_tt_x,tt_y),m_lr1.score(d_t_x,t_y)) #오버피팅 과대적합 너무많은 피쳐를 가지면서 갭차이가 커짐"
   ]
  },
  {
   "cell_type": "code",
   "execution_count": 12,
   "id": "a7ee0a9e",
   "metadata": {},
   "outputs": [
    {
     "data": {
      "text/plain": [
       "(42, 55)"
      ]
     },
     "execution_count": 12,
     "metadata": {},
     "output_type": "execute_result"
    }
   ],
   "source": [
    "#위 문제점 보안\n",
    "from sklearn.preprocessing import StandardScaler # StandardScaler 규제클래스, 겹치는 부분을 걸러준다\n",
    "ss=StandardScaler().fit(d_t_x) #d_t_x 과도하게 바꾼 데이터\n",
    "sc_t_x=ss.transform(d_t_x)\n",
    "sc_tt_x=ss.transform(d_tt_x)\n",
    "sc_t_x.shape #shape상 변화는 없다"
   ]
  },
  {
   "cell_type": "code",
   "execution_count": 13,
   "id": "9dc71a01",
   "metadata": {},
   "outputs": [
    {
     "name": "stdout",
     "output_type": "stream",
     "text": [
      "0.9896101671037343 0.9790693977615386\n"
     ]
    }
   ],
   "source": [
    "# Ridge 릿지회귀\n",
    "from sklearn.linear_model import Ridge\n",
    "rg=Ridge().fit(sc_t_x,t_y)\n",
    "print(rg.score(sc_t_x,t_y),rg.score(sc_tt_x,tt_y)) #StandardScaler와 Ridge를 통해 갭차이 줄임"
   ]
  },
  {
   "cell_type": "code",
   "execution_count": 14,
   "id": "d63c9f10",
   "metadata": {},
   "outputs": [],
   "source": [
    "# 최적의 학습률 찾기\n",
    "import matplotlib.pyplot as plt\n",
    "t_l=[]\n",
    "tt_l=[]\n",
    "ap_l=[0.001,0.01,0.1,1,10,100] #학습률\n",
    "for i in ap_l:\n",
    "    f_rg=Ridge(alpha=i).fit(sc_t_x,t_y) #alpha : 학습률\n",
    "    t_l.append(f_rg.score(sc_t_x,t_y))\n",
    "    tt_l.append(f_rg.score(sc_tt_x,tt_y))"
   ]
  },
  {
   "cell_type": "code",
   "execution_count": 15,
   "id": "9215759d",
   "metadata": {},
   "outputs": [
    {
     "data": {
      "text/plain": [
       "[<matplotlib.lines.Line2D at 0x17b1da50370>]"
      ]
     },
     "execution_count": 15,
     "metadata": {},
     "output_type": "execute_result"
    },
    {
     "data": {
      "image/png": "[encoded data removed]",
      "text/plain": [
       "<Figure size 432x288 with 1 Axes>"
      ]
     },
     "metadata": {
      "needs_background": "light"
     },
     "output_type": "display_data"
    }
   ],
   "source": [
    "plt.plot(np.log10(ap_l),t_l,'r') #R^2\n",
    "plt.plot(np.log10(ap_l),tt_l,'g')\n",
    "#-1, 즉 학습률(alpha)이 0.1일때 갭차이가 제일 적다"
   ]
  },
  {
   "cell_type": "code",
   "execution_count": 16,
   "id": "38c91426",
   "metadata": {},
   "outputs": [
    {
     "name": "stdout",
     "output_type": "stream",
     "text": [
      "0.9903815817570368 0.9827976465386896\n"
     ]
    }
   ],
   "source": [
    "# 학습률이 0.1일 때 최적의 값이 나온다\n",
    "rlr=Ridge(alpha=0.1).fit(sc_t_x,t_y)\n",
    "print(rlr.score(sc_t_x,t_y),rlr.score(sc_tt_x,tt_y))"
   ]
  },
  {
   "cell_type": "code",
   "execution_count": 17,
   "id": "3189ef7d",
   "metadata": {},
   "outputs": [
    {
     "name": "stderr",
     "output_type": "stream",
     "text": [
      "C:\\Users\\user\\anaconda3\\lib\\site-packages\\sklearn\\linear_model\\_coordinate_descent.py:530: ConvergenceWarning: Objective did not converge. You might want to increase the number of iterations. Duality gap: 23364.075969939724, tolerance: 518.2793833333334\n",
      "  model = cd_fast.enet_coordinate_descent(\n",
      "C:\\Users\\user\\anaconda3\\lib\\site-packages\\sklearn\\linear_model\\_coordinate_descent.py:530: ConvergenceWarning: Objective did not converge. You might want to increase the number of iterations. Duality gap: 20251.975097475362, tolerance: 518.2793833333334\n",
      "  model = cd_fast.enet_coordinate_descent(\n",
      "C:\\Users\\user\\anaconda3\\lib\\site-packages\\sklearn\\linear_model\\_coordinate_descent.py:530: ConvergenceWarning: Objective did not converge. You might want to increase the number of iterations. Duality gap: 806.2370926335934, tolerance: 518.2793833333334\n",
      "  model = cd_fast.enet_coordinate_descent(\n"
     ]
    },
    {
     "data": {
      "text/plain": [
       "[<matplotlib.lines.Line2D at 0x17b1db84730>]"
      ]
     },
     "execution_count": 17,
     "metadata": {},
     "output_type": "execute_result"
    },
    {
     "data": {
      "image/png": "[encoded data removed]",
      "text/plain": [
       "<Figure size 432x288 with 1 Axes>"
      ]
     },
     "metadata": {
      "needs_background": "light"
     },
     "output_type": "display_data"
    }
   ],
   "source": [
    "# Lasso 라쏘 회귀\n",
    "# 최적의 학습률 찾기\n",
    "from sklearn.linear_model import Lasso\n",
    "t_l=[]\n",
    "tt_l=[]\n",
    "ap_l=[0.001,0.01,0.1,1,10,100]\n",
    "for i in ap_l:\n",
    "    f_rg=Lasso(alpha=i,max_iter=1000).fit(sc_t_x,t_y) #Lasso는 Ridge와 달리 max_iter를 입력해줘야함\n",
    "    t_l.append(f_rg.score(sc_t_x,t_y))\n",
    "    tt_l.append(f_rg.score(sc_tt_x,tt_y))\n",
    "plt.plot(np.log10(ap_l),t_l,'r')\n",
    "plt.plot(np.log10(ap_l),tt_l,'g')"
   ]
  },
  {
   "cell_type": "code",
   "execution_count": 18,
   "id": "3be5e5fe",
   "metadata": {},
   "outputs": [
    {
     "name": "stdout",
     "output_type": "stream",
     "text": [
      "0.9888067471131867 0.9824470598706695\n"
     ]
    }
   ],
   "source": [
    "lasso =Lasso(alpha=10)\n",
    "lasso.fit(sc_t_x,t_y)\n",
    "print(lasso.score(sc_t_x,t_y),lasso.score(sc_tt_x,tt_y))"
   ]
  }
 ],
 "metadata": {
  "kernelspec": {
   "display_name": "Python 3 (ipykernel)",
   "language": "python",
   "name": "python3"
  },
  "language_info": {
   "codemirror_mode": {
    "name": "ipython",
    "version": 3
   },
   "file_extension": ".py",
   "mimetype": "text/x-python",
   "name": "python",
   "nbconvert_exporter": "python",
   "pygments_lexer": "ipython3",
   "version": "3.9.7"
  }
 },
 "nbformat": 4,
 "nbformat_minor": 5
}
