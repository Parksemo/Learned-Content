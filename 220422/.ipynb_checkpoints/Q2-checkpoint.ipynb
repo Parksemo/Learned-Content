{
 "cells": [
  {
   "cell_type": "code",
   "execution_count": 1,
   "id": "8902eed0",
   "metadata": {},
   "outputs": [],
   "source": [
    "import numpy as np #data 계산을 위한 모듈\n",
    "import pandas as pd #data 로드를 위한 모듈\n",
    "from sklearn.model_selection import train_test_split #학습 data와 테스트 data 분할 모듈\n",
    "from sklearn.preprocessing import PolynomialFeatures #피처 증가를 위한 모듈\n",
    "from sklearn.linear_model import LinearRegression ,Lasso, Ridge  # 선형 회귀 모듈\n",
    "from sklearn.linear_model import SGDRegressor\n",
    "from sklearn.preprocessing import StandardScaler # data 전처리 (중복 정보 정리)->밸런싱 작업\n",
    "from sklearn.preprocessing import MinMaxScaler #MinMaxScaler\n",
    "import matplotlib.pyplot as plt # 시각화 모듈\n",
    "from sklearn.metrics import mean_absolute_error #MAE 평균절대잔차\n",
    "from sklearn.metrics import mean_squared_error #RMSE 평균제곱근오차\n",
    "from math import sqrt #RMSE 평균제곱근오차 활용\n",
    "from sklearn.metrics import r2_score #R-squared 결정계수"
   ]
  },
  {
   "cell_type": "markdown",
   "id": "a3ea81a7",
   "metadata": {},
   "source": [
    "1. data 가지고 오기"
   ]
  },
  {
   "cell_type": "code",
   "execution_count": 2,
   "id": "c50b81cd",
   "metadata": {},
   "outputs": [
    {
     "data": {
      "text/plain": [
       "dict_keys(['data', 'target', 'feature_names', 'DESCR', 'filename'])"
      ]
     },
     "execution_count": 2,
     "metadata": {},
     "output_type": "execute_result"
    }
   ],
   "source": [
    "from sklearn.datasets import load_boston #load_boston x변수_data(피처)13개 다변량\n",
    "b_data=load_boston()\n",
    "b_data.keys()"
   ]
  },
  {
   "cell_type": "code",
   "execution_count": 3,
   "id": "b1af3959",
   "metadata": {},
   "outputs": [
    {
     "data": {
      "text/plain": [
       "(506,)"
      ]
     },
     "execution_count": 3,
     "metadata": {},
     "output_type": "execute_result"
    }
   ],
   "source": [
    "X=b_data.data\n",
    "Y=b_data.target\n",
    "Y.shape"
   ]
  },
  {
   "cell_type": "code",
   "execution_count": 4,
   "id": "bb8af76f",
   "metadata": {},
   "outputs": [
    {
     "data": {
      "text/plain": [
       "(506, 1)"
      ]
     },
     "execution_count": 4,
     "metadata": {},
     "output_type": "execute_result"
    }
   ],
   "source": [
    "#y_data=Y.reshape(Y.size,1)\n",
    "y_data=Y.reshape(-1,1) #위코드와 동일\n",
    "y_data.shape"
   ]
  },
  {
   "cell_type": "markdown",
   "id": "de6dd68d",
   "metadata": {},
   "source": [
    "2. data 전처리"
   ]
  },
  {
   "cell_type": "code",
   "execution_count": 5,
   "id": "13dc1db5",
   "metadata": {},
   "outputs": [],
   "source": [
    "mm_m=MinMaxScaler(feature_range=(0,5)).fit(X)\n",
    "sc_x_data=mm_m.transform(X)"
   ]
  },
  {
   "cell_type": "markdown",
   "id": "c32b91ef",
   "metadata": {},
   "source": [
    "3. 학습 data와 테스트 data 분할"
   ]
  },
  {
   "cell_type": "code",
   "execution_count": 6,
   "id": "13df8eb0",
   "metadata": {},
   "outputs": [],
   "source": [
    "t_x,tt_x,t_y,tt_y= train_test_split(sc_x_data,y_data,train_size=0.7,random_state=10)"
   ]
  },
  {
   "cell_type": "markdown",
   "id": "c0fd8e7d",
   "metadata": {},
   "source": [
    "4. 모델 생성 및 학습"
   ]
  },
  {
   "cell_type": "code",
   "execution_count": 7,
   "id": "e1904849",
   "metadata": {
    "scrolled": true
   },
   "outputs": [
    {
     "name": "stdout",
     "output_type": "stream",
     "text": [
      "0.7495400632086622 0.6996255772983109\n",
      "3.707127137271813\n",
      "29.3265965261233\n",
      "0.6996255772983109\n"
     ]
    }
   ],
   "source": [
    "lr = LinearRegression(fit_intercept=True,normalize=False) #선형회귀\n",
    "lr.fit(t_x,t_y)\n",
    "t_s=lr.score(t_x,t_y)\n",
    "tt_s=lr.score(tt_x,tt_y)\n",
    "print(t_s,tt_s)\n",
    "y_ture=tt_y.copy()\n",
    "y_pred=lr.predict(tt_x)\n",
    "print(mean_absolute_error(y_ture,y_pred)) #MAE 평균절대잔차\n",
    "print(mean_squared_error(y_ture, y_pred)) #RMSE 평균제곱근오차\n",
    "#print(sqrt(mean_squared_error(y_ture, y_pred))) #RMSE 평균제곱근오차 다른코드\n",
    "print(r2_score(y_ture,y_pred)) #R-squared 결정계수"
   ]
  },
  {
   "cell_type": "code",
   "execution_count": 8,
   "id": "0f8e9d05",
   "metadata": {},
   "outputs": [
    {
     "name": "stdout",
     "output_type": "stream",
     "text": [
      "0.6988773318358767 0.643962118594876\n",
      "3.978152894075064\n",
      "34.761213028958394\n",
      "0.643962118594876\n"
     ]
    },
    {
     "name": "stderr",
     "output_type": "stream",
     "text": [
      "C:\\Users\\user\\anaconda3\\lib\\site-packages\\sklearn\\utils\\validation.py:63: DataConversionWarning: A column-vector y was passed when a 1d array was expected. Please change the shape of y to (n_samples, ), for example using ravel().\n",
      "  return f(*args, **kwargs)\n"
     ]
    }
   ],
   "source": [
    "sgd = SGDRegressor(fit_intercept=True) #SGD\n",
    "sgd.fit(t_x,t_y)\n",
    "t_s=sgd.score(t_x,t_y)\n",
    "tt_s=sgd.score(tt_x,tt_y)\n",
    "print(t_s,tt_s)\n",
    "y_ture=tt_y.copy()\n",
    "y_pred=sgd.predict(tt_x)\n",
    "print(mean_absolute_error(y_ture,y_pred)) #MAE 평균절대잔차\n",
    "print(mean_squared_error(y_ture, y_pred)) #RMSE 평균제곱근오차\n",
    "#print(sqrt(mean_squared_error(y_ture, y_pred))) #RMSE 평균제곱근오차 다른코드\n",
    "print(r2_score(y_ture,y_pred)) #R-squared 결정계수"
   ]
  },
  {
   "cell_type": "code",
   "execution_count": 9,
   "id": "986fa824",
   "metadata": {},
   "outputs": [
    {
     "name": "stdout",
     "output_type": "stream",
     "text": [
      "0.7495400613539482 0.6996302031790849\n",
      "3.70707443758873\n",
      "29.32614488534173\n",
      "0.6996302031790849\n"
     ]
    }
   ],
   "source": [
    "rg = Ridge(fit_intercept=True,normalize=False,alpha=0.01) #릿지회귀\n",
    "rg.fit(t_x,t_y)\n",
    "t_s=rg.score(t_x,t_y)\n",
    "tt_s=rg.score(tt_x,tt_y)\n",
    "print(t_s,tt_s)\n",
    "y_ture=tt_y.copy()\n",
    "y_pred=rg.predict(tt_x)\n",
    "print(mean_absolute_error(y_ture,y_pred)) #MAE 평균절대잔차\n",
    "print(mean_squared_error(y_ture, y_pred)) #RMSE 평균제곱근오차\n",
    "#print(sqrt(mean_squared_error(y_ture, y_pred))) #RMSE 평균제곱근오차 다른코드\n",
    "print(r2_score(y_ture,y_pred)) #R-squared 결정계수"
   ]
  },
  {
   "cell_type": "code",
   "execution_count": 10,
   "id": "b57c5cd1",
   "metadata": {
    "scrolled": true
   },
   "outputs": [
    {
     "name": "stdout",
     "output_type": "stream",
     "text": [
      "0.6508848803344893 0.6192939837289688\n",
      "4.213744760928959\n",
      "37.16964858002032\n",
      "0.6192939837289688\n"
     ]
    }
   ],
   "source": [
    "lso = Lasso(fit_intercept=True,normalize=False) # 라쏘회귀\n",
    "lso.fit(t_x,t_y)\n",
    "t_s=lso.score(t_x,t_y)\n",
    "tt_s=lso.score(tt_x,tt_y)\n",
    "print(t_s,tt_s)\n",
    "y_ture=tt_y.copy()\n",
    "y_pred=lso.predict(tt_x)\n",
    "print(mean_absolute_error(y_ture,y_pred)) #MAE 평균절대잔차\n",
    "print(mean_squared_error(y_ture, y_pred)) #RMSE 평균제곱근오차\n",
    "#print(sqrt(mean_squared_error(y_ture, y_pred))) #RMSE 평균제곱근오차 다른코드\n",
    "print(r2_score(y_ture,y_pred)) #R-squared 결정계수"
   ]
  },
  {
   "cell_type": "code",
   "execution_count": 11,
   "id": "869b69db",
   "metadata": {
    "scrolled": true
   },
   "outputs": [
    {
     "data": {
      "text/plain": [
       "<matplotlib.collections.PathCollection at 0x19f3affe310>"
      ]
     },
     "execution_count": 11,
     "metadata": {},
     "output_type": "execute_result"
    },
    {
     "data": {
      "image/png": "[encoded data removed]",
      "text/plain": [
       "<Figure size 432x288 with 1 Axes>"
      ]
     },
     "metadata": {
      "needs_background": "light"
     },
     "output_type": "display_data"
    }
   ],
   "source": [
    "plt.scatter(y_ture, y_pred)"
   ]
  }
 ],
 "metadata": {
  "kernelspec": {
   "display_name": "Python 3 (ipykernel)",
   "language": "python",
   "name": "python3"
  },
  "language_info": {
   "codemirror_mode": {
    "name": "ipython",
    "version": 3
   },
   "file_extension": ".py",
   "mimetype": "text/x-python",
   "name": "python",
   "nbconvert_exporter": "python",
   "pygments_lexer": "ipython3",
   "version": "3.9.7"
  }
 },
 "nbformat": 4,
 "nbformat_minor": 5
}
