{
 "cells": [
  {
   "cell_type": "code",
   "execution_count": 1,
   "id": "02916020",
   "metadata": {},
   "outputs": [
    {
     "data": {
      "text/plain": [
       "array([[1., 0., 0., 0., 0., 0., 0.]])"
      ]
     },
     "execution_count": 1,
     "metadata": {},
     "output_type": "execute_result"
    }
   ],
   "source": [
    "#1. data수집\n",
    "import pandas as pd\n",
    "import numpy as np\n",
    "data=pd.read_csv('data1_all.csv')\n",
    "data_X=data[['Weight','Length','Diagonal','Height','Width']].to_numpy()\n",
    "data_Y=data['Name'].to_numpy()\n",
    "\n",
    "#2. data전처리\n",
    "from sklearn.preprocessing import StandardScaler\n",
    "ss=StandardScaler().fit(data_X)\n",
    "data_X=ss.transform(data_X)\n",
    "\n",
    "#3. data분리\n",
    "from sklearn.model_selection import train_test_split\n",
    "t_x,tt_x,t_y,tt_y= train_test_split(data_X,data_Y,random_state=42)\n",
    "from sklearn.linear_model import LogisticRegression\n",
    "lr = LogisticRegression(C=20,max_iter=1000) #다중분류용\n",
    "lr.fit(t_x,t_y)\n",
    "lr.score(t_x,t_y),lr.score(tt_x,tt_y)\n",
    "d=lr.decision_function(t_x[:1])\n",
    "from scipy.special import softmax #다중분류는 softmax를 사용하여 확률계산\n",
    "np.around(softmax(d))"
   ]
  },
  {
   "cell_type": "code",
   "execution_count": 2,
   "id": "a1ffae62",
   "metadata": {},
   "outputs": [
    {
     "data": {
      "text/plain": [
       "LogisticRegression()"
      ]
     },
     "execution_count": 2,
     "metadata": {},
     "output_type": "execute_result"
    }
   ],
   "source": [
    "i=(t_y == 'A')|(t_y=='G') # |:and\n",
    "b_t_x=t_x[i]\n",
    "b_t_y=t_y[i]\n",
    "lr = LogisticRegression()\n",
    "lr.fit(b_t_x,b_t_y)"
   ]
  },
  {
   "cell_type": "code",
   "execution_count": 3,
   "id": "bcd7b1bd",
   "metadata": {
    "scrolled": true
   },
   "outputs": [
    {
     "data": {
      "text/plain": [
       "(array([[-0.41981254, -0.60056128, -0.68786241, -1.00159093, -0.74532495]]),\n",
       " array([-2.1898649]))"
      ]
     },
     "execution_count": 3,
     "metadata": {},
     "output_type": "execute_result"
    }
   ],
   "source": [
    "lr.coef_, lr.intercept_"
   ]
  },
  {
   "cell_type": "code",
   "execution_count": 4,
   "id": "52c58b60",
   "metadata": {},
   "outputs": [
    {
     "data": {
      "text/plain": [
       "array([-5.96982853])"
      ]
     },
     "execution_count": 4,
     "metadata": {},
     "output_type": "execute_result"
    }
   ],
   "source": [
    "d=lr.decision_function(b_t_x[:1]) #decision_function 학습된 공식을 꺼냄, 선으로 그리는 함수\n",
    "d"
   ]
  },
  {
   "cell_type": "code",
   "execution_count": 5,
   "id": "eee8b405",
   "metadata": {},
   "outputs": [
    {
     "data": {
      "text/plain": [
       "array([0.00254817])"
      ]
     },
     "execution_count": 5,
     "metadata": {},
     "output_type": "execute_result"
    }
   ],
   "source": [
    "from scipy.special import expit #역함수, 이중분류는 시드모이드 함수를 사용하여 확률계산\n",
    "expit(d) #로지스틱 함수 - 로짓함수의 역함수"
   ]
  }
 ],
 "metadata": {
  "kernelspec": {
   "display_name": "Python 3 (ipykernel)",
   "language": "python",
   "name": "python3"
  },
  "language_info": {
   "codemirror_mode": {
    "name": "ipython",
    "version": 3
   },
   "file_extension": ".py",
   "mimetype": "text/x-python",
   "name": "python",
   "nbconvert_exporter": "python",
   "pygments_lexer": "ipython3",
   "version": "3.9.7"
  }
 },
 "nbformat": 4,
 "nbformat_minor": 5
}
