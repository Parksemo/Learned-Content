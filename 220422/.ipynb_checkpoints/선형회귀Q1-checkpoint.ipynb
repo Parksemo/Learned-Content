{
 "cells": [
  {
   "cell_type": "code",
   "execution_count": 1,
   "id": "cbe2e3c5",
   "metadata": {},
   "outputs": [
    {
     "name": "stdout",
     "output_type": "stream",
     "text": [
      "[67.30998637]\n"
     ]
    }
   ],
   "source": [
    "import numpy as np\n",
    "X = np.array([174,152,138,128,186])\n",
    "Y = np.array([71,55,46,38,88])\n",
    "n_X=X.reshape(-1,1)\n",
    "from sklearn.linear_model import LinearRegression\n",
    "lr=LinearRegression().fit(n_X,Y) #단일 선형회귀 피쳐가 1개임\n",
    "print(lr.predict([[165]]))"
   ]
  },
  {
   "cell_type": "code",
   "execution_count": 2,
   "id": "8dd8e658",
   "metadata": {},
   "outputs": [
    {
     "data": {
      "image/png": "[encoded data removed]",
      "text/plain": [
       "<Figure size 432x288 with 1 Axes>"
      ]
     },
     "metadata": {
      "needs_background": "light"
     },
     "output_type": "display_data"
    }
   ],
   "source": [
    "import matplotlib.pyplot as plt\n",
    "plt.scatter(n_X,Y,c='r')\n",
    "plt.plot(n_X,lr.predict(n_X))\n",
    "plt.show()"
   ]
  },
  {
   "cell_type": "code",
   "execution_count": 3,
   "id": "d9a9a06d",
   "metadata": {},
   "outputs": [],
   "source": [
    "from sklearn import datasets\n",
    "import matplotlib.pyplot as plt\n",
    "diabetes = datasets.load_diabetes()\n",
    "X=diabetes.data\n",
    "Y=diabetes.target\n",
    "from sklearn.model_selection import train_test_split\n",
    "t_x,tt_x,t_y,tt_y= train_test_split(X,Y,test_size=0.2,random_state=42)\n",
    "from sklearn.linear_model import LinearRegression\n",
    "lr=LinearRegression().fit(t_x,t_y) #다중 선형 회귀 (피쳐가 10개임)\n",
    "\n",
    "# plt.scatter(t_x,t_y,c='r')\n",
    "# plt.plot(n_X,lr.predict(n_X))\n",
    "# plt.show()\n",
    "\n",
    "#다중선형회귀이기 때문에 위와 같은 단순표현으로 표현 불가"
   ]
  }
 ],
 "metadata": {
  "kernelspec": {
   "display_name": "Python 3 (ipykernel)",
   "language": "python",
   "name": "python3"
  },
  "language_info": {
   "codemirror_mode": {
    "name": "ipython",
    "version": 3
   },
   "file_extension": ".py",
   "mimetype": "text/x-python",
   "name": "python",
   "nbconvert_exporter": "python",
   "pygments_lexer": "ipython3",
   "version": "3.9.7"
  }
 },
 "nbformat": 4,
 "nbformat_minor": 5
}
