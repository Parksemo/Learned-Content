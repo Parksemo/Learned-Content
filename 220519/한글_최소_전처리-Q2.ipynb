{
 "cells": [
  {
   "cell_type": "code",
   "execution_count": 1,
   "id": "f00dcc3b",
   "metadata": {},
   "outputs": [],
   "source": [
    "from konlpy.tag import Okt\n",
    "from tensorflow.keras.preprocessing.text import Tokenizer\n",
    "from tensorflow.keras.preprocessing.sequence import pad_sequences\n",
    "from sklearn.preprocessing import LabelEncoder\n",
    "from sklearn.model_selection import train_test_split\n",
    "from tensorflow.keras.utils import to_categorical\n",
    "import numpy as np\n",
    "from tqdm import tqdm\n",
    "import pandas as pd"
   ]
  },
  {
   "cell_type": "code",
   "execution_count": 2,
   "id": "152fefc3",
   "metadata": {},
   "outputs": [],
   "source": [
    "train_data = pd.read_table('ratings_train.txt')[['document','label']]\n",
    "test_data = pd.read_table('ratings_test.txt')[['document','label']]\n",
    "data=pd.concat((train_data,test_data),axis=0)\n",
    "data = data.rename(columns={'label': 'y', 'document': 'X'})"
   ]
  },
  {
   "cell_type": "code",
   "execution_count": 3,
   "id": "2b4325d7",
   "metadata": {},
   "outputs": [],
   "source": [
    "class 한글_전처리기:\n",
    "\n",
    "    def __init__(self,data):\n",
    "        data['clean_X'] = data['X']\n",
    "        data['y_name'] = data['y']\n",
    "        data['encoder_y'] = LabelEncoder().fit_transform(data['y'])\n",
    "        data['categorical_y'] = list(to_categorical(data['encoder_y']))\n",
    "        s_w = set(['은', '는', '이', '가', '를', '들', '에게', '의', '을', '도', '으로', '만', '라서', '하다'])\n",
    "        self.data = data\n",
    "        self.s_w = s_w\n",
    "    def ck_m(self):\n",
    "        print(f'결측치 확인:{self.data.isnull().values.any()}')\n",
    "        print(f\"X 중복 확인:{self.data['clean_X'].nunique(),len(self.data['clean_X'])}\\n\"\n",
    "              f\"y 중복 확인:{self.data['y'].nunique(),len(self.data['y'])}\")\n",
    "    def 전처리_결과_출력(self,n=1):\n",
    "        self.data['clean_X'].replace('[^ㄱ-ㅎㅏ-ㅣ가-힣 ]', '', inplace=True)\n",
    "        self.data['clean_X'].replace('^ +', '', inplace=True)\n",
    "        self.data['clean_X'].replace('', np.nan, inplace=True)\n",
    "        self.data = self.data.dropna(how='any')\n",
    "        \n",
    "        okt = Okt()\n",
    "        X_data = []\n",
    "        for i in tqdm(self.data['clean_X']):\n",
    "            tk_d = okt.morphs(i)\n",
    "            end_d = [w for w in tk_d if not w in self.s_w]\n",
    "            X_data.append(' '.join(end_d))\n",
    "            \n",
    "        if n == 1:\n",
    "            Y = np.array(self.data['encoder_y'])\n",
    "        else:\n",
    "            Y = to_categorical(self.data['encoder_y'])\n",
    "            \n",
    "        X = np.array(X_data)\n",
    "        x_data, test_x, y_data, test_y = train_test_split(X, Y, test_size=0.3, random_state=0)\n",
    "        train_x, val_x, train_y, val_y = train_test_split(x_data, y_data, test_size=0.2, random_state=0)\n",
    "        tk = Tokenizer()\n",
    "        tk.fit_on_texts(train_x)\n",
    "        n = len([d for d in sorted(list(tk.word_counts.items()), key=lambda x: x[1]) if d[1] > 4]) + 1\n",
    "        token = Tokenizer(n)\n",
    "        token.fit_on_texts(train_x)\n",
    "        token_train_x = token.texts_to_sequences(train_x)\n",
    "        token_test_x = token.texts_to_sequences(test_x)\n",
    "        token_val_x = token.texts_to_sequences(val_x)\n",
    "        drop_train = [index for index, sentence in enumerate(token_train_x) if len(sentence) < 1]\n",
    "        drop_test = [index for index, sentence in enumerate(token_test_x) if len(sentence) < 1]\n",
    "        drop_val = [index for index, sentence in enumerate(token_val_x) if len(sentence) < 1]\n",
    "        token_train_x = np.delete(token_train_x, drop_train, axis=0)\n",
    "        train_y = np.delete(train_y, drop_train, axis=0)\n",
    "        token_test_x = np.delete(token_test_x, drop_test, axis=0)\n",
    "        test_y = np.delete(test_y, drop_test, axis=0)\n",
    "        token_val_x = np.delete(token_val_x, drop_val, axis=0)\n",
    "        val_y = np.delete(val_y, drop_val, axis=0)\n",
    "        w_l = len(pad_sequences(token_train_x)[0])\n",
    "        train_inputs = pad_sequences(token_train_x, maxlen=w_l)\n",
    "        test_inputs = pad_sequences(token_test_x, maxlen=w_l)\n",
    "        val_inputs = pad_sequences(token_val_x, maxlen=w_l)\n",
    "        train_outputs = train_y\n",
    "        test_outputs = test_y\n",
    "        val_outputs = val_y\n",
    "        return train_inputs, train_outputs, test_inputs, test_outputs, val_inputs, val_outputs"
   ]
  },
  {
   "cell_type": "code",
   "execution_count": 4,
   "id": "68d11a74",
   "metadata": {
    "scrolled": true
   },
   "outputs": [
    {
     "name": "stdout",
     "output_type": "stream",
     "text": [
      "결측치 확인:True\n",
      "X 중복 확인:(194543, 200000)\n",
      "y 중복 확인:(2, 200000)\n"
     ]
    },
    {
     "name": "stderr",
     "output_type": "stream",
     "text": [
      "100%|██████████████████████████████████████████████████████████████████████████████| 199992/199992 [19:13<00:00, 173.35it/s]\n",
      "C:\\Users\\user\\anaconda3\\lib\\site-packages\\numpy\\core\\_asarray.py:83: VisibleDeprecationWarning: Creating an ndarray from ragged nested sequences (which is a list-or-tuple of lists-or-tuples-or ndarrays with different lengths or shapes) is deprecated. If you meant to do this, you must specify 'dtype=object' when creating the ndarray\n",
      "  return array(a, dtype, copy=False, order=order)\n"
     ]
    },
    {
     "name": "stdout",
     "output_type": "stream",
     "text": [
      "(111226, 70) (111226,) (59568, 70) (59568,) (27803, 70) (27803,)\n"
     ]
    }
   ],
   "source": [
    "pr_mc=한글_전처리기(data)\n",
    "pr_mc.ck_m()\n",
    "t_x,t_y,tt_x,tt_y,v_x,v_y=pr_mc.전처리_결과_출력()\n",
    "print(t_x.shape,t_y.shape,tt_x.shape,tt_y.shape,v_x.shape,v_y.shape)"
   ]
  },
  {
   "cell_type": "code",
   "execution_count": 9,
   "id": "7d56594f",
   "metadata": {},
   "outputs": [],
   "source": [
    "from tensorflow.keras.callbacks import EarlyStopping, ModelCheckpoint\n",
    "from tensorflow.keras.layers import SimpleRNN, Embedding, Dense, LSTM, GRU,BatchNormalization,Bidirectional\n",
    "from tensorflow.keras.models import Sequential\n",
    "import matplotlib.pyplot as plt"
   ]
  },
  {
   "cell_type": "code",
   "execution_count": 20,
   "id": "cd02a2b3",
   "metadata": {},
   "outputs": [],
   "source": [
    "es = EarlyStopping(monitor='val_loss', mode='min', verbose=1, patience=4)"
   ]
  },
  {
   "cell_type": "code",
   "execution_count": 36,
   "id": "81611cb0",
   "metadata": {},
   "outputs": [
    {
     "data": {
      "text/plain": [
       "18586"
      ]
     },
     "execution_count": 36,
     "metadata": {},
     "output_type": "execute_result"
    }
   ],
   "source": [
    "n = len(np.unique([i for i in t_x]))+1\n",
    "n"
   ]
  },
  {
   "cell_type": "code",
   "execution_count": 39,
   "id": "507237a2",
   "metadata": {},
   "outputs": [
    {
     "name": "stdout",
     "output_type": "stream",
     "text": [
      "Epoch 1/15\n",
      "1738/1738 [==============================] - 168s 96ms/step - loss: 0.4937 - acc: 0.7438 - val_loss: 0.3767 - val_acc: 0.8365\n",
      "\n",
      "Epoch 00001: val_acc improved from -inf to 0.83646, saving model to best_m1.h5\n",
      "Epoch 2/15\n",
      "1738/1738 [==============================] - 163s 94ms/step - loss: 0.3451 - acc: 0.8534 - val_loss: 0.3628 - val_acc: 0.8494\n",
      "\n",
      "Epoch 00002: val_acc improved from 0.83646 to 0.84940, saving model to best_m1.h5\n",
      "Epoch 3/15\n",
      "1738/1738 [==============================] - 157s 90ms/step - loss: 0.3306 - acc: 0.8599 - val_loss: 0.3505 - val_acc: 0.8533\n",
      "\n",
      "Epoch 00003: val_acc improved from 0.84940 to 0.85333, saving model to best_m1.h5\n",
      "Epoch 4/15\n",
      "1738/1738 [==============================] - 152s 88ms/step - loss: 0.3292 - acc: 0.8627 - val_loss: 0.3626 - val_acc: 0.8435\n",
      "\n",
      "Epoch 00004: val_acc did not improve from 0.85333\n",
      "Epoch 5/15\n",
      "1738/1738 [==============================] - 164s 94ms/step - loss: 0.2956 - acc: 0.8775 - val_loss: 0.3514 - val_acc: 0.8503\n",
      "\n",
      "Epoch 00005: val_acc did not improve from 0.85333\n",
      "Epoch 6/15\n",
      "1738/1738 [==============================] - 147s 85ms/step - loss: 0.2816 - acc: 0.8848 - val_loss: 0.3619 - val_acc: 0.8501\n",
      "\n",
      "Epoch 00006: val_acc did not improve from 0.85333\n",
      "Epoch 7/15\n",
      "1738/1738 [==============================] - 149s 86ms/step - loss: 0.2808 - acc: 0.8849 - val_loss: 0.3576 - val_acc: 0.8506\n",
      "\n",
      "Epoch 00007: val_acc did not improve from 0.85333\n",
      "Epoch 00007: early stopping\n"
     ]
    }
   ],
   "source": [
    "mc1 = ModelCheckpoint('best_m1.h5', monitor='val_acc', mode='max', verbose=1, save_best_only=True)\n",
    "m1 = Sequential()\n",
    "m1.add(Embedding(n, 128)) \n",
    "m1.add(SimpleRNN(128,dropout=0.5,return_sequences=True)) \n",
    "m1.add(SimpleRNN(64,dropout=0.5))\n",
    "m1.add(Dense(1, activation='sigmoid'))\n",
    "m1.compile(optimizer='adam', loss='binary_crossentropy', metrics=['acc'])\n",
    "history1 = m1.fit(t_x, t_y,epochs=15, callbacks=[es, mc1],batch_size=64,  validation_data=(v_x,v_y) )"
   ]
  },
  {
   "cell_type": "code",
   "execution_count": 40,
   "id": "93eca122",
   "metadata": {},
   "outputs": [
    {
     "name": "stdout",
     "output_type": "stream",
     "text": [
      "1862/1862 [==============================] - 24s 13ms/step - loss: 0.3639 - acc: 0.8454\n"
     ]
    }
   ],
   "source": [
    "ck1=m1.evaluate(tt_x, tt_y)"
   ]
  },
  {
   "cell_type": "code",
   "execution_count": 42,
   "id": "d0116a32",
   "metadata": {
    "scrolled": true
   },
   "outputs": [],
   "source": [
    "# mc2 = ModelCheckpoint('best_m2.h5', monitor='val_acc', mode='max', verbose=1, save_best_only=True)\n",
    "# m2 = Sequential()\n",
    "# m2.add(Embedding(n, 128))\n",
    "# m2.add(LSTM(128,dropout=0.5,return_sequences=True)) \n",
    "# m2.add(LSTM(64,dropout=0.5)) \n",
    "# m2.add(Dense(1, activation='sigmoid'))\n",
    "# m2.compile(optimizer='adam', loss='binary_crossentropy', metrics=['acc'])\n",
    "# history2 = m2.fit(t_x, t_y,epochs=15, callbacks=[es, mc2],batch_size=64,  validation_data=(v_x,v_y) )"
   ]
  },
  {
   "cell_type": "code",
   "execution_count": 43,
   "id": "17d24839",
   "metadata": {},
   "outputs": [],
   "source": [
    "# ck2=m2.evaluate(tt_x, tt_y)"
   ]
  },
  {
   "cell_type": "code",
   "execution_count": 44,
   "id": "766f4eab",
   "metadata": {},
   "outputs": [],
   "source": [
    "# mc3 = ModelCheckpoint('best_m3.h5', monitor='val_acc', mode='max', verbose=1, save_best_only=True)\n",
    "# m3 = Sequential()\n",
    "# m3.add(Embedding(n, 128))\n",
    "# m3.add(GRU(128,dropout=0.5,return_sequences=True)) \n",
    "# m3.add(GRU(64,dropout=0.5)) \n",
    "# m3.add(Dense(1, activation='sigmoid'))\n",
    "# m3.compile(optimizer='adam', loss='binary_crossentropy', metrics=['acc'])\n",
    "# history3 = m3.fit(t_x, t_y,epochs=15, callbacks=[es, mc3],batch_size=64,  validation_data=(v_x,v_y) )"
   ]
  },
  {
   "cell_type": "code",
   "execution_count": 45,
   "id": "ec8e11d3",
   "metadata": {},
   "outputs": [],
   "source": [
    "# ck3=m3.evaluate(tt_x, tt_y)"
   ]
  },
  {
   "cell_type": "code",
   "execution_count": 46,
   "id": "f15be8e4",
   "metadata": {},
   "outputs": [],
   "source": [
    "# mc4 = ModelCheckpoint('best_m4.h5', monitor='val_acc', mode='max', verbose=1, save_best_only=True)\n",
    "# m4 = Sequential()\n",
    "# m4.add(Embedding(n, 128))\n",
    "# m4.add(Bidirectional(LSTM(128,dropout=0.5,return_sequences=True)))\n",
    "# m4.add(Bidirectional(LSTM(64,dropout=0.5))) \n",
    "# m4.add(Dense(1, activation='sigmoid'))\n",
    "# m4.compile(optimizer='adam', loss='binary_crossentropy', metrics=['acc'])\n",
    "# history4 = m4.fit(t_x, t_y,epochs=15, callbacks=[es, mc4],batch_size=64,  validation_data=(v_x,v_y) )"
   ]
  },
  {
   "cell_type": "code",
   "execution_count": 47,
   "id": "1bc1a948",
   "metadata": {},
   "outputs": [],
   "source": [
    "# ck4=m4.evaluate(tt_x, tt_y)"
   ]
  },
  {
   "cell_type": "code",
   "execution_count": 48,
   "id": "f8db8ce5",
   "metadata": {},
   "outputs": [],
   "source": [
    "# print(ck1,ck2,ck3,ck4,sep='\\n')"
   ]
  },
  {
   "cell_type": "code",
   "execution_count": 49,
   "id": "9c681370",
   "metadata": {},
   "outputs": [],
   "source": [
    "# ck_v_1=m1.evaluate(v_x, v_y)\n",
    "# ck_v_2=m2.evaluate(v_x, v_y)\n",
    "# ck_v_3=m3.evaluate(v_x, v_y)\n",
    "# ck_v_4=m4.evaluate(v_x, v_y)\n",
    "# print(ck_v_1,ck_v_2,ck_v_3,ck_v_4,sep='\\n')"
   ]
  },
  {
   "cell_type": "code",
   "execution_count": 41,
   "id": "23eb571f",
   "metadata": {},
   "outputs": [
    {
     "data": {
      "image/png": "[encoded data removed]",
      "text/plain": [
       "<Figure size 432x288 with 1 Axes>"
      ]
     },
     "metadata": {
      "needs_background": "light"
     },
     "output_type": "display_data"
    }
   ],
   "source": [
    "epochs = range(1, len(history1.history['acc']) + 1)\n",
    "plt.plot(epochs, history1.history['loss'])\n",
    "plt.plot(epochs, history1.history['val_loss'])\n",
    "plt.title('m1 loss')\n",
    "plt.ylabel('loss')\n",
    "plt.xlabel('epoch')\n",
    "plt.legend(['train', 'test'], loc='upper left')\n",
    "plt.show()"
   ]
  },
  {
   "cell_type": "code",
   "execution_count": 50,
   "id": "afe84f98",
   "metadata": {},
   "outputs": [],
   "source": [
    "# epochs = range(1, len(history2.history['acc']) + 1)\n",
    "# plt.plot(epochs, history2.history['loss'])\n",
    "# plt.plot(epochs, history2.history['val_loss'])\n",
    "# plt.title('m2 loss')\n",
    "# plt.ylabel('loss')\n",
    "# plt.xlabel('epoch')\n",
    "# plt.legend(['train', 'test'], loc='upper left')\n",
    "# plt.show()"
   ]
  },
  {
   "cell_type": "code",
   "execution_count": 51,
   "id": "fd24d331",
   "metadata": {},
   "outputs": [],
   "source": [
    "# epochs = range(1, len(history3.history['acc']) + 1)\n",
    "# plt.plot(epochs, history3.history['loss'])\n",
    "# plt.plot(epochs, history3.history['val_loss'])\n",
    "# plt.title('m3 loss')\n",
    "# plt.ylabel('loss')\n",
    "# plt.xlabel('epoch')\n",
    "# plt.legend(['train', 'test'], loc='upper left')\n",
    "# plt.show()"
   ]
  },
  {
   "cell_type": "code",
   "execution_count": 52,
   "id": "b7865383",
   "metadata": {},
   "outputs": [],
   "source": [
    "# epochs = range(1, len(history4.history['acc']) + 1)\n",
    "# plt.plot(epochs, history4.history['loss'])\n",
    "# plt.plot(epochs, history4.history['val_loss'])\n",
    "# plt.title('m4 loss')\n",
    "# plt.ylabel('loss')\n",
    "# plt.xlabel('epoch')\n",
    "# plt.legend(['train', 'test'], loc='upper left')\n",
    "# plt.show()"
   ]
  }
 ],
 "metadata": {
  "kernelspec": {
   "display_name": "Python 3 (ipykernel)",
   "language": "python",
   "name": "python3"
  },
  "language_info": {
   "codemirror_mode": {
    "name": "ipython",
    "version": 3
   },
   "file_extension": ".py",
   "mimetype": "text/x-python",
   "name": "python",
   "nbconvert_exporter": "python",
   "pygments_lexer": "ipython3",
   "version": "3.9.7"
  }
 },
 "nbformat": 4,
 "nbformat_minor": 5
}
