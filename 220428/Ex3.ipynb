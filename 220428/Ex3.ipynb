{
 "cells": [
  {
   "cell_type": "code",
   "execution_count": 2,
   "id": "7701723e",
   "metadata": {},
   "outputs": [
    {
     "data": {
      "text/plain": [
       "((4, 3), (3, 6), (4, 6), (6, 1))"
      ]
     },
     "execution_count": 2,
     "metadata": {},
     "output_type": "execute_result"
    }
   ],
   "source": [
    "import numpy as np\n",
    "X = np.array([[0,0,1],[0,1,1],[1,0,1],[1,1,1]])\n",
    "y = np.array([[0],[1],[1],[0]])\n",
    "in_n = 3\n",
    "h_n = 6\n",
    "out_n = 1\n",
    "np.random.seed(5)\n",
    "#-1~1\n",
    "w0 = 2*np.random.random((in_n,h_n)) -1\n",
    "w1 = 2*np.random.random((h_n,out_n)) -1\n",
    "X.shape, w0.shape, X.dot(w0).shape, w1.shape"
   ]
  },
  {
   "cell_type": "code",
   "execution_count": 3,
   "id": "273d773b",
   "metadata": {},
   "outputs": [
    {
     "data": {
      "text/plain": [
       "(4, 1)"
      ]
     },
     "execution_count": 3,
     "metadata": {},
     "output_type": "execute_result"
    }
   ],
   "source": [
    "end = X.dot(w0).dot(w1)\n",
    "end.shape"
   ]
  }
 ],
 "metadata": {
  "kernelspec": {
   "display_name": "Python 3 (ipykernel)",
   "language": "python",
   "name": "python3"
  },
  "language_info": {
   "codemirror_mode": {
    "name": "ipython",
    "version": 3
   },
   "file_extension": ".py",
   "mimetype": "text/x-python",
   "name": "python",
   "nbconvert_exporter": "python",
   "pygments_lexer": "ipython3",
   "version": "3.9.7"
  }
 },
 "nbformat": 4,
 "nbformat_minor": 5
}
