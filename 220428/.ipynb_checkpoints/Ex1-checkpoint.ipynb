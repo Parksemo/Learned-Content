{
 "cells": [
  {
   "cell_type": "code",
   "execution_count": 1,
   "id": "811c7161",
   "metadata": {},
   "outputs": [
    {
     "data": {
      "text/plain": [
       "array([0, 0, 0, 1])"
      ]
     },
     "execution_count": 1,
     "metadata": {},
     "output_type": "execute_result"
    }
   ],
   "source": [
    "from sklearn.linear_model import Perceptron\n",
    "X = [[0,0],[0,1],[1,0],[1,1]]\n",
    "y = [0,0,0,1]\n",
    "p = Perceptron(tol = 1e-3,random_state=10) #tol 종료값\n",
    "p.fit(X,y)\n",
    "p.predict(X)"
   ]
  },
  {
   "cell_type": "code",
   "execution_count": 2,
   "id": "f7cf9e57",
   "metadata": {},
   "outputs": [],
   "source": [
    "#y=wx-b\n",
    "#뉴런의 계단 함수\n",
    "def n_f(in_data):\n",
    "    global w\n",
    "    global b\n",
    "    at_f = b\n",
    "    for i in range(2):\n",
    "        at_f+=w[i]*in_data[i]\n",
    "    if at_f >= 0.0:\n",
    "        return 1\n",
    "    else:\n",
    "        return 0"
   ]
  },
  {
   "cell_type": "code",
   "execution_count": 3,
   "id": "c5cf40ce",
   "metadata": {},
   "outputs": [
    {
     "data": {
      "text/plain": [
       "(1, 1, 1, 1)"
      ]
     },
     "execution_count": 3,
     "metadata": {},
     "output_type": "execute_result"
    }
   ],
   "source": [
    "X = [[0,0],[0,1],[1,0],[1,1]]\n",
    "y = [0,0,0,1]\n",
    "w = [0.0,0.0] #가중치\n",
    "b = 0.0 #임계값(w0)\n",
    "n_f(X[0]),n_f(X[1]),n_f(X[2]),n_f(X[3]) #학습전에는 y값이 비정상적이다"
   ]
  },
  {
   "cell_type": "code",
   "execution_count": 4,
   "id": "1c24327f",
   "metadata": {},
   "outputs": [
    {
     "name": "stdout",
     "output_type": "stream",
     "text": [
      "[0.0, 0.0] -0.1\n",
      "[0.0, 0.0] -0.1\n",
      "[0.0, 0.0] -0.1\n",
      "[0.1, 0.1] 0.0\n",
      "에포그=0 학습률=0.1 에러=2.0\n",
      "[0.1, 0.1] -0.1\n",
      "[0.1, 0.0] -0.2\n",
      "[0.1, 0.0] -0.2\n",
      "[0.2, 0.1] -0.1\n",
      "에포그=1 학습률=0.1 에러=3.0\n",
      "[0.2, 0.1] -0.1\n",
      "[0.2, 0.0] -0.2\n",
      "[0.1, 0.0] -0.30000000000000004\n",
      "[0.2, 0.1] -0.20000000000000004\n",
      "에포그=2 학습률=0.1 에러=3.0\n",
      "[0.2, 0.1] -0.20000000000000004\n",
      "[0.2, 0.1] -0.20000000000000004\n",
      "[0.2, 0.1] -0.20000000000000004\n",
      "[0.2, 0.1] -0.20000000000000004\n",
      "에포그=3 학습률=0.1 에러=0.0\n",
      "[0.2, 0.1] -0.20000000000000004\n",
      "[0.2, 0.1] -0.20000000000000004\n",
      "[0.2, 0.1] -0.20000000000000004\n",
      "[0.2, 0.1] -0.20000000000000004\n",
      "에포그=4 학습률=0.1 에러=0.0\n"
     ]
    }
   ],
   "source": [
    "def t_f(X,y,l_r,epch):\n",
    "    global w\n",
    "    global b\n",
    "    for en in range(epch):\n",
    "        sum_e=0.0\n",
    "        for r,t in zip(X,y):\n",
    "            at=n_f(r) #예측값\n",
    "            err=t - at #오차\n",
    "            b = b+l_r*err\n",
    "            sum_e += err**2\n",
    "            for i in range(2):\n",
    "                w[i] = w[i]+l_r*err*r[i]\n",
    "            print(w,b)\n",
    "        print(f'에포그={en} 학습률={l_r} 에러={sum_e}')\n",
    "    return w\n",
    "\n",
    "#data 준비\n",
    "X = [[0,0],[0,1],[1,0],[1,1]]\n",
    "y = [0,0,0,1]\n",
    "w = [0.0,0.0] #가중치\n",
    "b = 0.0 #임계값(w0)\n",
    "l_r = 0.1 #학습률\n",
    "e = 5 #반복수\n",
    "w = t_f(X,y,l_r,e)"
   ]
  },
  {
   "cell_type": "code",
   "execution_count": 5,
   "id": "d4607f1c",
   "metadata": {},
   "outputs": [
    {
     "data": {
      "text/plain": [
       "(0, 0, 0, 1)"
      ]
     },
     "execution_count": 5,
     "metadata": {},
     "output_type": "execute_result"
    }
   ],
   "source": [
    "#y=w0x0+w1x1-b\n",
    "#y=0.2x0+0.1+0.20000000000000004\n",
    "n_f(X[0]),n_f(X[1]),n_f(X[2]),n_f(X[3]) #학습후에는 정상적인 값이나온다"
   ]
  },
  {
   "cell_type": "code",
   "execution_count": 6,
   "id": "7dbab6fe",
   "metadata": {},
   "outputs": [],
   "source": [
    "X = [[0,0],[0,1],[1,0],[1,1]]"
   ]
  },
  {
   "cell_type": "code",
   "execution_count": 7,
   "id": "01788ab3",
   "metadata": {},
   "outputs": [],
   "source": [
    "def AND(X):\n",
    "    and_w = [0.2,0.1]\n",
    "    and_b = -0.20000000000000004\n",
    "    at_f = and_b\n",
    "    for i in range(2):\n",
    "        at_f+=w[i]*X[i]\n",
    "    if at_f >= 0.0:\n",
    "        return 1\n",
    "    else:\n",
    "        return 0"
   ]
  },
  {
   "cell_type": "code",
   "execution_count": 8,
   "id": "4383bae7",
   "metadata": {},
   "outputs": [
    {
     "data": {
      "text/plain": [
       "(0, 0, 0, 1)"
      ]
     },
     "execution_count": 8,
     "metadata": {},
     "output_type": "execute_result"
    }
   ],
   "source": [
    "AND(X[0]),AND(X[1]),AND(X[2]),AND(X[3])"
   ]
  },
  {
   "cell_type": "code",
   "execution_count": 12,
   "id": "2649c105",
   "metadata": {},
   "outputs": [],
   "source": [
    "def OR(X):\n",
    "    or_w = [0.1, 0.1]\n",
    "    or_b = -0.1\n",
    "    at_f = or_b\n",
    "    for i in range(2):\n",
    "        at_f+=w[i]*X[i]\n",
    "    if at_f >= 0.0:\n",
    "        return 1\n",
    "    else:\n",
    "        return 0"
   ]
  },
  {
   "cell_type": "code",
   "execution_count": 13,
   "id": "c42310e0",
   "metadata": {},
   "outputs": [
    {
     "data": {
      "text/plain": [
       "(0, 0, 0, 1)"
      ]
     },
     "execution_count": 13,
     "metadata": {},
     "output_type": "execute_result"
    }
   ],
   "source": [
    "AND(X[0]),AND(X[1]),AND(X[2]),AND(X[3])"
   ]
  },
  {
   "cell_type": "code",
   "execution_count": 14,
   "id": "9587fce9",
   "metadata": {},
   "outputs": [
    {
     "data": {
      "text/plain": [
       "(0, 1, 1, 1)"
      ]
     },
     "execution_count": 14,
     "metadata": {},
     "output_type": "execute_result"
    }
   ],
   "source": [
    "OR(X[0]),OR(X[1]),OR(X[2]),OR(X[3])"
   ]
  },
  {
   "cell_type": "code",
   "execution_count": 16,
   "id": "f9608927",
   "metadata": {},
   "outputs": [
    {
     "data": {
      "text/plain": [
       "(0, 1, 1, 0)"
      ]
     },
     "execution_count": 16,
     "metadata": {},
     "output_type": "execute_result"
    }
   ],
   "source": [
    "def XOR(X):\n",
    "    o_1 = not AND(X)\n",
    "    o_2 = OR(X)\n",
    "    return AND([o_1,o_2])\n",
    "\n",
    "XOR(X[0]),XOR(X[1]),XOR(X[2]),XOR(X[3])"
   ]
  }
 ],
 "metadata": {
  "kernelspec": {
   "display_name": "Python 3 (ipykernel)",
   "language": "python",
   "name": "python3"
  },
  "language_info": {
   "codemirror_mode": {
    "name": "ipython",
    "version": 3
   },
   "file_extension": ".py",
   "mimetype": "text/x-python",
   "name": "python",
   "nbconvert_exporter": "python",
   "pygments_lexer": "ipython3",
   "version": "3.9.7"
  }
 },
 "nbformat": 4,
 "nbformat_minor": 5
}
