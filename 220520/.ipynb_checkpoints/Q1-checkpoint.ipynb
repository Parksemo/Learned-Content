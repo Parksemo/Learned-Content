{
 "cells": [
  {
   "cell_type": "code",
   "execution_count": 17,
   "id": "0473959a",
   "metadata": {},
   "outputs": [],
   "source": [
    "import pandas as pd\n",
    "from konlpy.tag import Okt\n",
    "from tensorflow.keras.preprocessing.text import Tokenizer\n",
    "from tensorflow.keras.preprocessing.sequence import pad_sequences\n",
    "from sklearn.preprocessing import LabelEncoder\n",
    "from sklearn.model_selection import train_test_split\n",
    "from tensorflow.keras.utils import to_categorical\n",
    "import numpy as np\n",
    "import re\n",
    "from tqdm import tqdm\n",
    "import pandas as pd\n",
    "import numpy as np\n",
    "import matplotlib.pyplot as plt\n",
    "from tensorflow.keras.models import load_model\n",
    "from tensorflow.keras.models import Sequential\n",
    "from tensorflow.keras.layers import Dense, Dropout,Embedding, Dense, LSTM,BatchNormalization\n",
    "from tensorflow.keras.models import load_model\n",
    "from tensorflow.keras.callbacks import EarlyStopping, ModelCheckpoint"
   ]
  },
  {
   "cell_type": "code",
   "execution_count": 103,
   "id": "76879246",
   "metadata": {
    "scrolled": true
   },
   "outputs": [],
   "source": [
    "data = pd.read_table('ck_data.txt',names = ['label','reviews'])"
   ]
  },
  {
   "cell_type": "markdown",
   "id": "0af48ec8",
   "metadata": {},
   "source": [
    "## 파이썬 - 프로그래밍 기초\n",
    "- data 관리프로그램\n",
    "    - data 수집 및 관리\n",
    "    - data의 분석은 인간관점의 분석을 의미"
   ]
  },
  {
   "cell_type": "markdown",
   "id": "93929c06",
   "metadata": {},
   "source": [
    "## 데이터 수집 및 시각화\n",
    "학습을 진행하기 위한 데이터 수집 방법 학습"
   ]
  },
  {
   "cell_type": "markdown",
   "id": "228f0400",
   "metadata": {},
   "source": [
    "## 머신러닝 딥러닝 기초\n",
    "전문가 시스템\n",
    "- 인간이 정한 규칙을 전달 규칙에 맞는 답을 제시\n",
    "1. 머신러닝\n",
    "    - 머신러닝의 모델은 수학적으로 정의\n",
    "    - 순차적인 프로그래밍\n",
    "    - 데이터 기반의 학습이지만 수학적 규칙이 정해져있는 모델을 차용한다.\n",
    "2. 딥러닝\n",
    "    - 데이터 기반의 학습\n",
    "    - 데이터를 통한 인간이 인지하지 못하는 부분의 데이터 특징을 컴퓨터 스스로 인식해서 학습하는 전반적인 과정\n",
    "    - 자연어 -> 트랜스포머\n",
    "    - 이미지 - 트랜스포머\n",
    "    - 추천 시스템"
   ]
  },
  {
   "cell_type": "markdown",
   "id": "7148301f",
   "metadata": {},
   "source": [
    "## 기계학습을 통한 분류기 완성\n",
    "1. 결측치 확인\n",
    "2. 중복 확인\n",
    "3. data 분포도\n",
    "4. 전처리\n",
    "5. 모델생성 (순환)\n",
    "6. 모델튜닝 (하이퍼 파라미터, 쉘종류, 모델종류, 학습반복수, 뉴런, 층수, BN, Dropout 등) (학습제어 : 얼리스스타핑, 모델 체크)\n",
    "7. 결과 기반 동작 확인기 (최종적인 분류기 완성)"
   ]
  },
  {
   "cell_type": "code",
   "execution_count": 6,
   "id": "ed685a71",
   "metadata": {},
   "outputs": [],
   "source": [
    "data=data.rename(columns = {'label':'y', 'reviews' : 'X'})"
   ]
  },
  {
   "cell_type": "code",
   "execution_count": 9,
   "id": "2981bdd9",
   "metadata": {},
   "outputs": [
    {
     "data": {
      "text/plain": [
       "False"
      ]
     },
     "execution_count": 9,
     "metadata": {},
     "output_type": "execute_result"
    }
   ],
   "source": [
    "data.isnull().values.any()"
   ]
  },
  {
   "cell_type": "code",
   "execution_count": 13,
   "id": "813a8dc3",
   "metadata": {},
   "outputs": [
    {
     "data": {
      "text/plain": [
       "y    0\n",
       "X    0\n",
       "dtype: int64"
      ]
     },
     "execution_count": 13,
     "metadata": {},
     "output_type": "execute_result"
    }
   ],
   "source": [
    "np.sum(data.isnull())"
   ]
  },
  {
   "cell_type": "code",
   "execution_count": 14,
   "id": "28c9ff56",
   "metadata": {},
   "outputs": [
    {
     "data": {
      "text/plain": [
       "(99892, 2)"
      ]
     },
     "execution_count": 14,
     "metadata": {},
     "output_type": "execute_result"
    }
   ],
   "source": [
    "data['X'].nunique(), data['y'].nunique()"
   ]
  },
  {
   "cell_type": "code",
   "execution_count": 15,
   "id": "31217e1d",
   "metadata": {},
   "outputs": [
    {
     "name": "stderr",
     "output_type": "stream",
     "text": [
      "C:\\Users\\user\\AppData\\Local\\Temp/ipykernel_12332/3476282902.py:2: FutureWarning: The default value of regex will change from True to False in a future version.\n",
      "  data['clean_X']=data.X.str.replace('[^ㄱ-ㅎㅏ-ㅣ가-힣 ]','')\n",
      "C:\\Users\\user\\AppData\\Local\\Temp/ipykernel_12332/3476282902.py:2: SettingWithCopyWarning: \n",
      "A value is trying to be set on a copy of a slice from a DataFrame.\n",
      "Try using .loc[row_indexer,col_indexer] = value instead\n",
      "\n",
      "See the caveats in the documentation: https://pandas.pydata.org/pandas-docs/stable/user_guide/indexing.html#returning-a-view-versus-a-copy\n",
      "  data['clean_X']=data.X.str.replace('[^ㄱ-ㅎㅏ-ㅣ가-힣 ]','')\n",
      "C:\\Users\\user\\AppData\\Local\\Temp/ipykernel_12332/3476282902.py:3: FutureWarning: The default value of regex will change from True to False in a future version.\n",
      "  data['clean_X']=data.clean_X.str.replace('^ +','')\n",
      "C:\\Users\\user\\AppData\\Local\\Temp/ipykernel_12332/3476282902.py:3: SettingWithCopyWarning: \n",
      "A value is trying to be set on a copy of a slice from a DataFrame.\n",
      "Try using .loc[row_indexer,col_indexer] = value instead\n",
      "\n",
      "See the caveats in the documentation: https://pandas.pydata.org/pandas-docs/stable/user_guide/indexing.html#returning-a-view-versus-a-copy\n",
      "  data['clean_X']=data.clean_X.str.replace('^ +','')\n",
      "C:\\Users\\user\\AppData\\Local\\Temp/ipykernel_12332/3476282902.py:4: SettingWithCopyWarning: \n",
      "A value is trying to be set on a copy of a slice from a DataFrame.\n",
      "Try using .loc[row_indexer,col_indexer] = value instead\n",
      "\n",
      "See the caveats in the documentation: https://pandas.pydata.org/pandas-docs/stable/user_guide/indexing.html#returning-a-view-versus-a-copy\n",
      "  data['clean_X']=data.clean_X.replace('',np.nan)\n"
     ]
    }
   ],
   "source": [
    "data=data.drop_duplicates(subset=['X'])\n",
    "data['clean_X']=data.X.str.replace('[^ㄱ-ㅎㅏ-ㅣ가-힣 ]','')\n",
    "data['clean_X']=data.clean_X.str.replace('^ +','')\n",
    "data['clean_X']=data.clean_X.replace('',np.nan)\n",
    "data=data.dropna(how='any')"
   ]
  },
  {
   "cell_type": "code",
   "execution_count": 16,
   "id": "f6e13350",
   "metadata": {
    "scrolled": true
   },
   "outputs": [
    {
     "name": "stderr",
     "output_type": "stream",
     "text": [
      "100%|████████████████████████████████████████████████████████████████████████████████| 99892/99892 [12:47<00:00, 130.10it/s]\n"
     ]
    }
   ],
   "source": [
    "s_w=set(['은','는','이','가','를','들','에게','의','을','도','으로','만','라서','하다'])\n",
    "okt=Okt()\n",
    "from tqdm import tqdm \n",
    "X_data=[] \n",
    "for i in tqdm(data['clean_X']): \n",
    "    tk_d=okt.morphs(i) \n",
    "    end_d=[w for w in tk_d if not w in s_w] \n",
    "    X_data.append(' '.join(end_d))"
   ]
  },
  {
   "cell_type": "code",
   "execution_count": 18,
   "id": "292f3bc3",
   "metadata": {},
   "outputs": [],
   "source": [
    "data['y_name']=data['y']\n",
    "data['encoder_y']=LabelEncoder().fit_transform(data['y'])\n",
    "data['categorical_y']=list(to_categorical(data['encoder_y']))"
   ]
  },
  {
   "cell_type": "code",
   "execution_count": 23,
   "id": "c7f34a36",
   "metadata": {},
   "outputs": [],
   "source": [
    "Y=np.array(data['encoder_y'])"
   ]
  },
  {
   "cell_type": "code",
   "execution_count": 24,
   "id": "676b2c4d",
   "metadata": {},
   "outputs": [],
   "source": [
    "X=np.array(X_data)"
   ]
  },
  {
   "cell_type": "code",
   "execution_count": 54,
   "id": "6d6bd367",
   "metadata": {},
   "outputs": [],
   "source": [
    "x_data2,test_x2,y_data2,test_y2 = train_test_split(X,Y,test_size=0.3,random_state=0)"
   ]
  },
  {
   "cell_type": "code",
   "execution_count": 55,
   "id": "8b95cb93",
   "metadata": {},
   "outputs": [],
   "source": [
    "train_x2,val_x2,train_y2,val_y2 = train_test_split(x_data2,y_data2,test_size=0.2,random_state=0)"
   ]
  },
  {
   "cell_type": "code",
   "execution_count": 56,
   "id": "d3e78e2e",
   "metadata": {},
   "outputs": [
    {
     "data": {
      "text/plain": [
       "(((55939,), (55939,)), ((29968,), (29968,)), ((13985,), (13985,)))"
      ]
     },
     "execution_count": 56,
     "metadata": {},
     "output_type": "execute_result"
    }
   ],
   "source": [
    "(train_x2.shape,train_y2.shape),(test_x2.shape,test_y2.shape),(val_x2.shape,val_y2.shape)"
   ]
  },
  {
   "cell_type": "code",
   "execution_count": 57,
   "id": "f02a8b09",
   "metadata": {},
   "outputs": [],
   "source": [
    "tk2 = Tokenizer()\n",
    "tk2.fit_on_texts(train_x2)"
   ]
  },
  {
   "cell_type": "code",
   "execution_count": 58,
   "id": "9c5293db",
   "metadata": {},
   "outputs": [],
   "source": [
    "n=len([d for d in sorted(list(tk2.word_counts.items()),key=lambda x:x[1]) if d[1]>4])+1"
   ]
  },
  {
   "cell_type": "code",
   "execution_count": 59,
   "id": "ae06eafa",
   "metadata": {
    "scrolled": false
   },
   "outputs": [
    {
     "data": {
      "text/plain": [
       "12528"
      ]
     },
     "execution_count": 59,
     "metadata": {},
     "output_type": "execute_result"
    }
   ],
   "source": [
    "n"
   ]
  },
  {
   "cell_type": "code",
   "execution_count": 60,
   "id": "aa15ff5d",
   "metadata": {},
   "outputs": [],
   "source": [
    "token2=Tokenizer(n)\n",
    "token2.fit_on_texts(train_x2)"
   ]
  },
  {
   "cell_type": "code",
   "execution_count": 61,
   "id": "5431bffd",
   "metadata": {},
   "outputs": [],
   "source": [
    "token_train_x2=token2.texts_to_sequences(train_x2)\n",
    "token_test_x2=token2.texts_to_sequences(test_x2)\n",
    "token_val_x2=token2.texts_to_sequences(val_x2)"
   ]
  },
  {
   "cell_type": "code",
   "execution_count": 62,
   "id": "79913273",
   "metadata": {},
   "outputs": [],
   "source": [
    "drop_train2 = [index for index, sentence in enumerate(token_train_x2) if len(sentence) < 1]\n",
    "drop_test2 = [index for index, sentence in enumerate(token_test_x2) if len(sentence) < 1]\n",
    "drop_val2 = [index for index, sentence in enumerate(token_val_x2) if len(sentence) < 1]"
   ]
  },
  {
   "cell_type": "code",
   "execution_count": 63,
   "id": "6ce868aa",
   "metadata": {
    "scrolled": true
   },
   "outputs": [],
   "source": [
    "token_train_x2 = np.delete(token_train_x2, drop_train2, axis=0)\n",
    "train_y2 = np.delete(train_y2, drop_train2, axis=0)\n",
    "token_test_x2 = np.delete(token_test_x2, drop_test2, axis=0)\n",
    "test_y2 = np.delete(test_y2, drop_test2, axis=0)\n",
    "token_val_x2 = np.delete(token_val_x2, drop_val2, axis=0)\n",
    "val_y2 = np.delete(val_y2, drop_val2, axis=0)"
   ]
  },
  {
   "cell_type": "code",
   "execution_count": 64,
   "id": "f409c2a5",
   "metadata": {},
   "outputs": [],
   "source": [
    "w_l=len(pad_sequences(token_train_x2)[0])"
   ]
  },
  {
   "cell_type": "code",
   "execution_count": 65,
   "id": "0be3af98",
   "metadata": {},
   "outputs": [
    {
     "data": {
      "text/plain": [
       "53"
      ]
     },
     "execution_count": 65,
     "metadata": {},
     "output_type": "execute_result"
    }
   ],
   "source": [
    "w_l"
   ]
  },
  {
   "cell_type": "code",
   "execution_count": 66,
   "id": "8a4b35a1",
   "metadata": {},
   "outputs": [],
   "source": [
    "train_inputs = pad_sequences(token_train_x2,maxlen=w_l)\n",
    "test_inputs = pad_sequences(token_test_x2,maxlen=w_l)\n",
    "val_inputs = pad_sequences(token_val_x2,maxlen=w_l)"
   ]
  },
  {
   "cell_type": "code",
   "execution_count": 67,
   "id": "d6e79131",
   "metadata": {},
   "outputs": [],
   "source": [
    "train_outputs=train_y2\n",
    "test_outputs=test_y2\n",
    "val_outputs=val_y2"
   ]
  },
  {
   "cell_type": "code",
   "execution_count": 68,
   "id": "853f68fc",
   "metadata": {},
   "outputs": [
    {
     "data": {
      "text/plain": [
       "(((55568, 53), (55568,)), ((29741, 53), (29741,)), ((13870, 53), (13870,)))"
      ]
     },
     "execution_count": 68,
     "metadata": {},
     "output_type": "execute_result"
    }
   ],
   "source": [
    "(train_inputs.shape,train_outputs.shape),(test_inputs.shape,test_outputs.shape),(val_inputs.shape,val_outputs.shape)"
   ]
  },
  {
   "cell_type": "code",
   "execution_count": 69,
   "id": "ebde791a",
   "metadata": {},
   "outputs": [],
   "source": [
    "es = EarlyStopping(monitor='val_loss', mode='min', verbose=1, patience=4)\n",
    "mc = ModelCheckpoint('best_model.h5', monitor='val_acc', mode='max', verbose=1, save_best_only=True)"
   ]
  },
  {
   "cell_type": "code",
   "execution_count": 70,
   "id": "6cd8f721",
   "metadata": {},
   "outputs": [],
   "source": [
    "model = Sequential()\n",
    "model.add(Embedding(n, 100))\n",
    "model.add(LSTM(128,return_sequences=True))\n",
    "model.add(BatchNormalization())\n",
    "model.add(LSTM(128))\n",
    "model.add(Dense(1, activation='sigmoid'))"
   ]
  },
  {
   "cell_type": "code",
   "execution_count": 71,
   "id": "5e17f322",
   "metadata": {
    "scrolled": true
   },
   "outputs": [
    {
     "name": "stdout",
     "output_type": "stream",
     "text": [
      "Epoch 1/15\n",
      "927/927 [==============================] - 139s 142ms/step - loss: 0.5010 - acc: 0.7550 - val_loss: 0.4703 - val_acc: 0.7768\n",
      "\n",
      "Epoch 00001: val_acc improved from -inf to 0.77678, saving model to best_model.h5\n",
      "Epoch 2/15\n",
      "927/927 [==============================] - 127s 137ms/step - loss: 0.3913 - acc: 0.8228 - val_loss: 0.4707 - val_acc: 0.7848\n",
      "\n",
      "Epoch 00002: val_acc improved from 0.77678 to 0.78479, saving model to best_model.h5\n",
      "Epoch 3/15\n",
      "927/927 [==============================] - 126s 136ms/step - loss: 0.3054 - acc: 0.8680 - val_loss: 0.5116 - val_acc: 0.7753\n",
      "\n",
      "Epoch 00003: val_acc did not improve from 0.78479\n",
      "Epoch 4/15\n",
      "927/927 [==============================] - 129s 139ms/step - loss: 0.2223 - acc: 0.9077 - val_loss: 0.6194 - val_acc: 0.7647\n",
      "\n",
      "Epoch 00004: val_acc did not improve from 0.78479\n",
      "Epoch 5/15\n",
      "927/927 [==============================] - 124s 134ms/step - loss: 0.1576 - acc: 0.9365 - val_loss: 0.8180 - val_acc: 0.7659\n",
      "\n",
      "Epoch 00005: val_acc did not improve from 0.78479\n",
      "Epoch 00005: early stopping\n"
     ]
    }
   ],
   "source": [
    "model.compile(optimizer='adam', loss='binary_crossentropy', metrics=['acc'])\n",
    "history = model.fit(train_inputs, train_outputs, epochs=15, callbacks=[es, mc], batch_size=60,validation_data=(val_inputs,val_outputs))"
   ]
  },
  {
   "cell_type": "code",
   "execution_count": 72,
   "id": "2277bd60",
   "metadata": {},
   "outputs": [
    {
     "data": {
      "image/png": "[encoded data removed]",
      "text/plain": [
       "<Figure size 432x288 with 1 Axes>"
      ]
     },
     "metadata": {
      "needs_background": "light"
     },
     "output_type": "display_data"
    }
   ],
   "source": [
    "epochs = range(1, len(history.history['acc']) + 1)\n",
    "plt.plot(epochs, history.history['loss'])\n",
    "plt.plot(epochs, history.history['val_loss'])\n",
    "plt.title('m1 loss')\n",
    "plt.ylabel('loss')\n",
    "plt.xlabel('epoch')\n",
    "plt.legend(['train', 'test'], loc='upper left')\n",
    "plt.show()"
   ]
  },
  {
   "cell_type": "code",
   "execution_count": 102,
   "id": "4cd47459",
   "metadata": {},
   "outputs": [
    {
     "name": "stdout",
     "output_type": "stream",
     "text": [
      "930/930 [==============================] - 27s 28ms/step - loss: 0.4748 - acc: 0.7814\n"
     ]
    },
    {
     "data": {
      "text/plain": [
       "0.7814128398895264"
      ]
     },
     "execution_count": 102,
     "metadata": {},
     "output_type": "execute_result"
    }
   ],
   "source": [
    "loaded_model = load_model('best_model.h5')\n",
    "a1 = loaded_model.evaluate(test_inputs,test_outputs)[1]\n",
    "a1"
   ]
  },
  {
   "cell_type": "code",
   "execution_count": 108,
   "id": "5643cd6a",
   "metadata": {
    "scrolled": true
   },
   "outputs": [
    {
     "name": "stdout",
     "output_type": "stream",
     "text": [
      "Epoch 1/15\n",
      "435/435 [==============================] - 102s 235ms/step - loss: 0.0855 - acc: 0.9676 - val_loss: 0.9998 - val_acc: 0.7519\n",
      "\n",
      "Epoch 00001: val_acc improved from -inf to 0.75191, saving model to best_model2.h5\n",
      "Epoch 2/15\n",
      "435/435 [==============================] - 97s 223ms/step - loss: 0.0544 - acc: 0.9791 - val_loss: 1.2399 - val_acc: 0.7571\n",
      "\n",
      "Epoch 00002: val_acc improved from 0.75191 to 0.75710, saving model to best_model2.h5\n",
      "Epoch 3/15\n",
      "435/435 [==============================] - 97s 223ms/step - loss: 0.0430 - acc: 0.9835 - val_loss: 1.3571 - val_acc: 0.7531\n",
      "\n",
      "Epoch 00003: val_acc did not improve from 0.75710\n",
      "Epoch 4/15\n",
      "435/435 [==============================] - 98s 225ms/step - loss: 0.0396 - acc: 0.9852 - val_loss: 1.4349 - val_acc: 0.7554\n",
      "\n",
      "Epoch 00004: val_acc did not improve from 0.75710\n",
      "Epoch 5/15\n",
      "435/435 [==============================] - 98s 225ms/step - loss: 0.0417 - acc: 0.9843 - val_loss: 1.4481 - val_acc: 0.7442\n",
      "\n",
      "Epoch 00005: val_acc did not improve from 0.75710\n",
      "Epoch 00005: early stopping\n"
     ]
    }
   ],
   "source": [
    "mc2 = ModelCheckpoint('best_model2.h5', monitor='val_acc', mode='max', verbose=1, save_best_only=True)\n",
    "model2 = Sequential()\n",
    "model2.add(Embedding(n, 256))\n",
    "model2.add(LSTM(128,dropout=0.5,return_sequences=True))\n",
    "model2.add(BatchNormalization())\n",
    "model2.add(LSTM(64,dropout=0.5))\n",
    "model2.add(Dense(1, activation='sigmoid'))\n",
    "model2.compile(optimizer='adam', loss='binary_crossentropy', metrics=['acc'])\n",
    "history2 = model.fit(train_inputs, train_outputs, epochs=15, callbacks=[es, mc2], batch_size=128,validation_data=(val_inputs,val_outputs))"
   ]
  },
  {
   "cell_type": "code",
   "execution_count": 109,
   "id": "43b5ad79",
   "metadata": {},
   "outputs": [
    {
     "data": {
      "image/png": "[encoded data removed]",
      "text/plain": [
       "<Figure size 432x288 with 1 Axes>"
      ]
     },
     "metadata": {
      "needs_background": "light"
     },
     "output_type": "display_data"
    }
   ],
   "source": [
    "epochs2 = range(1, len(history2.history['acc']) + 1)\n",
    "plt.plot(epochs2, history2.history['loss'])\n",
    "plt.plot(epochs2, history2.history['val_loss'])\n",
    "plt.title('m2 loss')\n",
    "plt.ylabel('loss')\n",
    "plt.xlabel('epoch')\n",
    "plt.legend(['train', 'test'], loc='upper left')\n",
    "plt.show()"
   ]
  },
  {
   "cell_type": "code",
   "execution_count": 110,
   "id": "1a7f53ef",
   "metadata": {},
   "outputs": [
    {
     "name": "stdout",
     "output_type": "stream",
     "text": [
      "930/930 [==============================] - 31s 32ms/step - loss: 1.2738 - acc: 0.7520\n"
     ]
    },
    {
     "data": {
      "text/plain": [
       "0.7519922256469727"
      ]
     },
     "execution_count": 110,
     "metadata": {},
     "output_type": "execute_result"
    }
   ],
   "source": [
    "loaded_model2 = load_model('best_model2.h5')\n",
    "a2 = loaded_model2.evaluate(test_inputs,test_outputs)[1]\n",
    "a2"
   ]
  },
  {
   "cell_type": "code",
   "execution_count": 112,
   "id": "d7b06388",
   "metadata": {},
   "outputs": [],
   "source": [
    "def 문장_전처리(문장,a):\n",
    "    문장 = re.sub(r'[^ㄱ-ㅎㅏ-ㅣ가-힣 ]','', 문장)\n",
    "    문장 = okt.morphs(문장, stem=True)\n",
    "    문장 = [w for w in 문장 if not w in s_w] \n",
    "    encoded = token.texts_to_sequences([문장])\n",
    "    pad_new = pad_sequences(encoded, maxlen = w_l)\n",
    "    if a == 1:\n",
    "        score = float(loaded_model.predict(pad_new))\n",
    "    if a == 2:\n",
    "        score = float(loaded_model2.predict(pad_new))     \n",
    "    if(score > 0.5):\n",
    "        print(f\"{score * 100:.2f}% 확률로 긍정 게임 리뷰입니다.\\n\")\n",
    "    else:\n",
    "        print(f\"{(1 - score) * 100:.2f}% 확률로 부정 게임 리뷰입니다.\\n\")"
   ]
  },
  {
   "cell_type": "code",
   "execution_count": 84,
   "id": "d80bfc4d",
   "metadata": {},
   "outputs": [],
   "source": [
    "확인_리뷰 = ['역시 재미있네요 전작에서 할수 없었던 자유로운 덱 빌딩도 좋네요^^',\n",
    "        '재미있었습니다.',\n",
    "        '좆망겜 하지마 무슨 처음에 키자마자 매칭이 왜 91렙하고 매칭되냐',\n",
    "        '난 되게 재밋게햇넹 ㅋㅋㅋㅋ 딱 킬링 타임용으로 적당한듯',\n",
    "        '쓰레기게임 절때사지마',\n",
    "        '아 중독성있네요 한번하면 멈추기가 힘듬',\n",
    "        '무료겜이 적당함',\n",
    "        '컴퓨터로 하지마세요, 걍 플스로 하세요 혼자 이상한데 낑겨서 말도 안되게 버벅 거림 시작한지 1시간만 지워버림니다. 내용을 보기전에 조작감이 쓰레기인 패드랑 키보드 다해봤는데 혼자 이상한데 낑김'\n",
    "        ]"
   ]
  },
  {
   "cell_type": "code",
   "execution_count": 113,
   "id": "858837ad",
   "metadata": {},
   "outputs": [
    {
     "name": "stdout",
     "output_type": "stream",
     "text": [
      "역시 재미있네요 전작에서 할수 없었던 자유로운 덱 빌딩도 좋네요^^\n",
      "89.68% 확률로 긍정 게임 리뷰입니다.\n",
      "\n",
      "재미있었습니다.\n",
      "89.45% 확률로 긍정 게임 리뷰입니다.\n",
      "\n",
      "좆망겜 하지마 무슨 처음에 키자마자 매칭이 왜 91렙하고 매칭되냐\n",
      "95.21% 확률로 부정 게임 리뷰입니다.\n",
      "\n",
      "난 되게 재밋게햇넹 ㅋㅋㅋㅋ 딱 킬링 타임용으로 적당한듯\n",
      "97.33% 확률로 긍정 게임 리뷰입니다.\n",
      "\n",
      "쓰레기게임 절때사지마\n",
      "97.78% 확률로 부정 게임 리뷰입니다.\n",
      "\n",
      "아 중독성있네요 한번하면 멈추기가 힘듬\n",
      "97.32% 확률로 긍정 게임 리뷰입니다.\n",
      "\n",
      "무료겜이 적당함\n",
      "57.11% 확률로 긍정 게임 리뷰입니다.\n",
      "\n",
      "컴퓨터로 하지마세요, 걍 플스로 하세요 혼자 이상한데 낑겨서 말도 안되게 버벅 거림 시작한지 1시간만 지워버림니다. 내용을 보기전에 조작감이 쓰레기인 패드랑 키보드 다해봤는데 혼자 이상한데 낑김\n",
      "91.35% 확률로 부정 게임 리뷰입니다.\n",
      "\n"
     ]
    }
   ],
   "source": [
    "# 첫번째 모델\n",
    "for i in 확인_리뷰:\n",
    "    print(i)\n",
    "    문장_전처리(i,1)"
   ]
  },
  {
   "cell_type": "code",
   "execution_count": 114,
   "id": "5db5e264",
   "metadata": {},
   "outputs": [
    {
     "name": "stdout",
     "output_type": "stream",
     "text": [
      "역시 재미있네요 전작에서 할수 없었던 자유로운 덱 빌딩도 좋네요^^\n",
      "99.99% 확률로 긍정 게임 리뷰입니다.\n",
      "\n",
      "재미있었습니다.\n",
      "93.94% 확률로 긍정 게임 리뷰입니다.\n",
      "\n",
      "좆망겜 하지마 무슨 처음에 키자마자 매칭이 왜 91렙하고 매칭되냐\n",
      "100.00% 확률로 부정 게임 리뷰입니다.\n",
      "\n",
      "난 되게 재밋게햇넹 ㅋㅋㅋㅋ 딱 킬링 타임용으로 적당한듯\n",
      "100.00% 확률로 긍정 게임 리뷰입니다.\n",
      "\n",
      "쓰레기게임 절때사지마\n",
      "99.32% 확률로 부정 게임 리뷰입니다.\n",
      "\n",
      "아 중독성있네요 한번하면 멈추기가 힘듬\n",
      "99.78% 확률로 긍정 게임 리뷰입니다.\n",
      "\n",
      "무료겜이 적당함\n",
      "99.72% 확률로 긍정 게임 리뷰입니다.\n",
      "\n",
      "컴퓨터로 하지마세요, 걍 플스로 하세요 혼자 이상한데 낑겨서 말도 안되게 버벅 거림 시작한지 1시간만 지워버림니다. 내용을 보기전에 조작감이 쓰레기인 패드랑 키보드 다해봤는데 혼자 이상한데 낑김\n",
      "100.00% 확률로 부정 게임 리뷰입니다.\n",
      "\n"
     ]
    }
   ],
   "source": [
    "# 두번째 모델\n",
    "for i in 확인_리뷰:\n",
    "    print(i)\n",
    "    문장_전처리(i,2)"
   ]
  },
  {
   "cell_type": "code",
   "execution_count": 126,
   "id": "aa4835ab",
   "metadata": {},
   "outputs": [
    {
     "name": "stdout",
     "output_type": "stream",
     "text": [
      "1번째 모델 정확도:78.14%\n",
      "2번째 모델 정확도:75.20%\n"
     ]
    }
   ],
   "source": [
    "A = [a1, a2]\n",
    "for i in range(len(A)):\n",
    "    print(f'{i+1}번째 모델 정확도:{A[i]*100:.2f}%')"
   ]
  }
 ],
 "metadata": {
  "kernelspec": {
   "display_name": "Python 3 (ipykernel)",
   "language": "python",
   "name": "python3"
  },
  "language_info": {
   "codemirror_mode": {
    "name": "ipython",
    "version": 3
   },
   "file_extension": ".py",
   "mimetype": "text/x-python",
   "name": "python",
   "nbconvert_exporter": "python",
   "pygments_lexer": "ipython3",
   "version": "3.9.7"
  }
 },
 "nbformat": 4,
 "nbformat_minor": 5
}
