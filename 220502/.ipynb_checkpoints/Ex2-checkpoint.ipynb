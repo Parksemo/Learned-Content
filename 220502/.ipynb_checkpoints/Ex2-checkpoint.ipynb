{
 "cells": [
  {
   "cell_type": "code",
   "execution_count": 1,
   "id": "a165db59",
   "metadata": {},
   "outputs": [
    {
     "data": {
      "text/plain": [
       "(25000,)"
      ]
     },
     "execution_count": 1,
     "metadata": {},
     "output_type": "execute_result"
    }
   ],
   "source": [
    "from tensorflow.keras.datasets.imdb import load_data\n",
    "(x_data,y_data),(tt_x,tt_y) = load_data(num_words=500)\n",
    "x_data.shape"
   ]
  },
  {
   "cell_type": "code",
   "execution_count": 2,
   "id": "69c5c92d",
   "metadata": {},
   "outputs": [
    {
     "data": {
      "text/plain": [
       "[1,\n",
       " 14,\n",
       " 22,\n",
       " 16,\n",
       " 43,\n",
       " 2,\n",
       " 2,\n",
       " 2,\n",
       " 2,\n",
       " 65,\n",
       " 458,\n",
       " 2,\n",
       " 66,\n",
       " 2,\n",
       " 4,\n",
       " 173,\n",
       " 36,\n",
       " 256,\n",
       " 5,\n",
       " 25,\n",
       " 100,\n",
       " 43,\n",
       " 2,\n",
       " 112,\n",
       " 50,\n",
       " 2,\n",
       " 2,\n",
       " 9,\n",
       " 35,\n",
       " 480,\n",
       " 284,\n",
       " 5,\n",
       " 150,\n",
       " 4,\n",
       " 172,\n",
       " 112,\n",
       " 167,\n",
       " 2,\n",
       " 336,\n",
       " 385,\n",
       " 39,\n",
       " 4,\n",
       " 172,\n",
       " 2,\n",
       " 2,\n",
       " 17,\n",
       " 2,\n",
       " 38,\n",
       " 13,\n",
       " 447,\n",
       " 4,\n",
       " 192,\n",
       " 50,\n",
       " 16,\n",
       " 6,\n",
       " 147,\n",
       " 2,\n",
       " 19,\n",
       " 14,\n",
       " 22,\n",
       " 4,\n",
       " 2,\n",
       " 2,\n",
       " 469,\n",
       " 4,\n",
       " 22,\n",
       " 71,\n",
       " 87,\n",
       " 12,\n",
       " 16,\n",
       " 43,\n",
       " 2,\n",
       " 38,\n",
       " 76,\n",
       " 15,\n",
       " 13,\n",
       " 2,\n",
       " 4,\n",
       " 22,\n",
       " 17,\n",
       " 2,\n",
       " 17,\n",
       " 12,\n",
       " 16,\n",
       " 2,\n",
       " 18,\n",
       " 2,\n",
       " 5,\n",
       " 62,\n",
       " 386,\n",
       " 12,\n",
       " 8,\n",
       " 316,\n",
       " 8,\n",
       " 106,\n",
       " 5,\n",
       " 4,\n",
       " 2,\n",
       " 2,\n",
       " 16,\n",
       " 480,\n",
       " 66,\n",
       " 2,\n",
       " 33,\n",
       " 4,\n",
       " 130,\n",
       " 12,\n",
       " 16,\n",
       " 38,\n",
       " 2,\n",
       " 5,\n",
       " 25,\n",
       " 124,\n",
       " 51,\n",
       " 36,\n",
       " 135,\n",
       " 48,\n",
       " 25,\n",
       " 2,\n",
       " 33,\n",
       " 6,\n",
       " 22,\n",
       " 12,\n",
       " 215,\n",
       " 28,\n",
       " 77,\n",
       " 52,\n",
       " 5,\n",
       " 14,\n",
       " 407,\n",
       " 16,\n",
       " 82,\n",
       " 2,\n",
       " 8,\n",
       " 4,\n",
       " 107,\n",
       " 117,\n",
       " 2,\n",
       " 15,\n",
       " 256,\n",
       " 4,\n",
       " 2,\n",
       " 7,\n",
       " 2,\n",
       " 5,\n",
       " 2,\n",
       " 36,\n",
       " 71,\n",
       " 43,\n",
       " 2,\n",
       " 476,\n",
       " 26,\n",
       " 400,\n",
       " 317,\n",
       " 46,\n",
       " 7,\n",
       " 4,\n",
       " 2,\n",
       " 2,\n",
       " 13,\n",
       " 104,\n",
       " 88,\n",
       " 4,\n",
       " 381,\n",
       " 15,\n",
       " 297,\n",
       " 98,\n",
       " 32,\n",
       " 2,\n",
       " 56,\n",
       " 26,\n",
       " 141,\n",
       " 6,\n",
       " 194,\n",
       " 2,\n",
       " 18,\n",
       " 4,\n",
       " 226,\n",
       " 22,\n",
       " 21,\n",
       " 134,\n",
       " 476,\n",
       " 26,\n",
       " 480,\n",
       " 5,\n",
       " 144,\n",
       " 30,\n",
       " 2,\n",
       " 18,\n",
       " 51,\n",
       " 36,\n",
       " 28,\n",
       " 224,\n",
       " 92,\n",
       " 25,\n",
       " 104,\n",
       " 4,\n",
       " 226,\n",
       " 65,\n",
       " 16,\n",
       " 38,\n",
       " 2,\n",
       " 88,\n",
       " 12,\n",
       " 16,\n",
       " 283,\n",
       " 5,\n",
       " 16,\n",
       " 2,\n",
       " 113,\n",
       " 103,\n",
       " 32,\n",
       " 15,\n",
       " 16,\n",
       " 2,\n",
       " 19,\n",
       " 178,\n",
       " 32]"
      ]
     },
     "execution_count": 2,
     "metadata": {},
     "output_type": "execute_result"
    }
   ],
   "source": [
    "x_data[0]"
   ]
  },
  {
   "cell_type": "code",
   "execution_count": 3,
   "id": "9592325c",
   "metadata": {},
   "outputs": [
    {
     "data": {
      "text/plain": [
       "(218, 189)"
      ]
     },
     "execution_count": 3,
     "metadata": {},
     "output_type": "execute_result"
    }
   ],
   "source": [
    "len(x_data[0]),len(x_data[1])"
   ]
  },
  {
   "cell_type": "code",
   "execution_count": 4,
   "id": "2acaf2e2",
   "metadata": {},
   "outputs": [
    {
     "data": {
      "text/plain": [
       "array([1, 0, 0, 1, 0], dtype=int64)"
      ]
     },
     "execution_count": 4,
     "metadata": {},
     "output_type": "execute_result"
    }
   ],
   "source": [
    "y_data[:5]"
   ]
  },
  {
   "cell_type": "code",
   "execution_count": 5,
   "id": "8dca019d",
   "metadata": {},
   "outputs": [],
   "source": [
    "from sklearn.model_selection import train_test_split\n",
    "t_x,v_x,t_y,v_t = train_test_split(x_data,y_data,test_size=0.2,random_state=42)"
   ]
  },
  {
   "cell_type": "code",
   "execution_count": 6,
   "id": "485b58e8",
   "metadata": {},
   "outputs": [
    {
     "data": {
      "text/plain": [
       "array([259, 520, 290, ..., 300,  70,  77])"
      ]
     },
     "execution_count": 6,
     "metadata": {},
     "output_type": "execute_result"
    }
   ],
   "source": [
    "import numpy as np\n",
    "l = np.array([len(i) for i in t_x])\n",
    "l"
   ]
  },
  {
   "cell_type": "code",
   "execution_count": 7,
   "id": "42383a44",
   "metadata": {
    "scrolled": true
   },
   "outputs": [
    {
     "data": {
      "text/plain": [
       "(array([1.1149e+04, 5.7490e+03, 1.8590e+03, 7.3200e+02, 3.0600e+02,\n",
       "        1.8800e+02, 6.0000e+00, 4.0000e+00, 4.0000e+00, 3.0000e+00]),\n",
       " array([  11. ,  195.3,  379.6,  563.9,  748.2,  932.5, 1116.8, 1301.1,\n",
       "        1485.4, 1669.7, 1854. ]),\n",
       " <BarContainer object of 10 artists>)"
      ]
     },
     "execution_count": 7,
     "metadata": {},
     "output_type": "execute_result"
    },
    {
     "data": {
      "image/png": "[encoded data removed]",
      "text/plain": [
       "<Figure size 432x288 with 1 Axes>"
      ]
     },
     "metadata": {
      "needs_background": "light"
     },
     "output_type": "display_data"
    }
   ],
   "source": [
    "import matplotlib.pyplot as plt\n",
    "plt.hist(l)"
   ]
  },
  {
   "cell_type": "code",
   "execution_count": 8,
   "id": "3976d9e7",
   "metadata": {},
   "outputs": [
    {
     "data": {
      "text/plain": [
       "178.0"
      ]
     },
     "execution_count": 8,
     "metadata": {},
     "output_type": "execute_result"
    }
   ],
   "source": [
    "np.median(l)"
   ]
  },
  {
   "cell_type": "code",
   "execution_count": 9,
   "id": "ddb7f506",
   "metadata": {},
   "outputs": [],
   "source": [
    "from tensorflow.keras.preprocessing.sequence import pad_sequences\n",
    "s_t_x=pad_sequences(t_x,maxlen=100)"
   ]
  },
  {
   "cell_type": "code",
   "execution_count": 10,
   "id": "5c3b55e5",
   "metadata": {},
   "outputs": [
    {
     "data": {
      "text/plain": [
       "(20000, 100)"
      ]
     },
     "execution_count": 10,
     "metadata": {},
     "output_type": "execute_result"
    }
   ],
   "source": [
    "s_t_x.shape"
   ]
  },
  {
   "cell_type": "code",
   "execution_count": 11,
   "id": "ab37bd6f",
   "metadata": {},
   "outputs": [],
   "source": [
    "s_v_x=pad_sequences(v_x,maxlen=100)"
   ]
  },
  {
   "cell_type": "code",
   "execution_count": 12,
   "id": "961185b4",
   "metadata": {},
   "outputs": [],
   "source": [
    "from tensorflow import keras\n",
    "m = keras.Sequential()"
   ]
  },
  {
   "cell_type": "code",
   "execution_count": 13,
   "id": "6072cb7d",
   "metadata": {},
   "outputs": [],
   "source": [
    "m.add(keras.layers.SimpleRNN(8,input_shape=(100,500)))\n",
    "m.add(keras.layers.Dense(1,activation='sigmoid'))"
   ]
  },
  {
   "cell_type": "code",
   "execution_count": 14,
   "id": "9875b570",
   "metadata": {},
   "outputs": [],
   "source": [
    "t_ho=keras.utils.to_categorical(s_t_x)"
   ]
  },
  {
   "cell_type": "code",
   "execution_count": 15,
   "id": "59e36e09",
   "metadata": {},
   "outputs": [
    {
     "data": {
      "text/plain": [
       "(20000, 100, 500)"
      ]
     },
     "execution_count": 15,
     "metadata": {},
     "output_type": "execute_result"
    }
   ],
   "source": [
    "t_ho.shape"
   ]
  },
  {
   "cell_type": "code",
   "execution_count": 16,
   "id": "d753113e",
   "metadata": {},
   "outputs": [],
   "source": [
    "v_ho=keras.utils.to_categorical(s_v_x)"
   ]
  },
  {
   "cell_type": "code",
   "execution_count": 17,
   "id": "e80fc06f",
   "metadata": {},
   "outputs": [
    {
     "data": {
      "text/plain": [
       "(5000, 100, 500)"
      ]
     },
     "execution_count": 17,
     "metadata": {},
     "output_type": "execute_result"
    }
   ],
   "source": [
    "v_ho.shape"
   ]
  },
  {
   "cell_type": "code",
   "execution_count": 18,
   "id": "99283869",
   "metadata": {
    "scrolled": true
   },
   "outputs": [
    {
     "name": "stdout",
     "output_type": "stream",
     "text": [
      "Model: \"sequential\"\n",
      "_________________________________________________________________\n",
      " Layer (type)                Output Shape              Param #   \n",
      "=================================================================\n",
      " simple_rnn (SimpleRNN)      (None, 8)                 4072      \n",
      "                                                                 \n",
      " dense (Dense)               (None, 1)                 9         \n",
      "                                                                 \n",
      "=================================================================\n",
      "Total params: 4,081\n",
      "Trainable params: 4,081\n",
      "Non-trainable params: 0\n",
      "_________________________________________________________________\n"
     ]
    }
   ],
   "source": [
    "m.summary()"
   ]
  },
  {
   "cell_type": "code",
   "execution_count": 19,
   "id": "96ebf50f",
   "metadata": {},
   "outputs": [
    {
     "name": "stdout",
     "output_type": "stream",
     "text": [
      "Epoch 1/100\n",
      "313/313 [==============================] - 16s 43ms/step - loss: 0.6970 - accuracy: 0.5066 - val_loss: 0.6926 - val_accuracy: 0.5208\n",
      "Epoch 2/100\n",
      "313/313 [==============================] - 13s 43ms/step - loss: 0.6828 - accuracy: 0.5666 - val_loss: 0.6787 - val_accuracy: 0.5820\n",
      "Epoch 3/100\n",
      "313/313 [==============================] - 13s 43ms/step - loss: 0.6695 - accuracy: 0.6121 - val_loss: 0.6668 - val_accuracy: 0.6228\n",
      "Epoch 4/100\n",
      "313/313 [==============================] - 10s 33ms/step - loss: 0.6563 - accuracy: 0.6459 - val_loss: 0.6538 - val_accuracy: 0.6550\n",
      "Epoch 5/100\n",
      "313/313 [==============================] - 11s 36ms/step - loss: 0.6428 - accuracy: 0.6718 - val_loss: 0.6416 - val_accuracy: 0.6728\n",
      "Epoch 6/100\n",
      "313/313 [==============================] - 11s 36ms/step - loss: 0.6294 - accuracy: 0.6914 - val_loss: 0.6304 - val_accuracy: 0.6858\n",
      "Epoch 7/100\n",
      "313/313 [==============================] - 11s 36ms/step - loss: 0.6158 - accuracy: 0.7066 - val_loss: 0.6159 - val_accuracy: 0.7056\n",
      "Epoch 8/100\n",
      "313/313 [==============================] - 11s 36ms/step - loss: 0.6015 - accuracy: 0.7214 - val_loss: 0.6032 - val_accuracy: 0.7164\n",
      "Epoch 9/100\n",
      "313/313 [==============================] - 12s 37ms/step - loss: 0.5880 - accuracy: 0.7345 - val_loss: 0.5909 - val_accuracy: 0.7252\n",
      "Epoch 10/100\n",
      "313/313 [==============================] - 11s 37ms/step - loss: 0.5757 - accuracy: 0.7429 - val_loss: 0.5809 - val_accuracy: 0.7246\n",
      "Epoch 11/100\n",
      "313/313 [==============================] - 12s 38ms/step - loss: 0.5639 - accuracy: 0.7495 - val_loss: 0.5697 - val_accuracy: 0.7356\n",
      "Epoch 12/100\n",
      "313/313 [==============================] - 12s 39ms/step - loss: 0.5526 - accuracy: 0.7579 - val_loss: 0.5604 - val_accuracy: 0.7418\n",
      "Epoch 13/100\n",
      "313/313 [==============================] - 12s 38ms/step - loss: 0.5416 - accuracy: 0.7651 - val_loss: 0.5512 - val_accuracy: 0.7418\n",
      "Epoch 14/100\n",
      "313/313 [==============================] - 11s 35ms/step - loss: 0.5315 - accuracy: 0.7689 - val_loss: 0.5413 - val_accuracy: 0.7556\n",
      "Epoch 15/100\n",
      "313/313 [==============================] - 13s 42ms/step - loss: 0.5216 - accuracy: 0.7729 - val_loss: 0.5335 - val_accuracy: 0.7570\n",
      "Epoch 16/100\n",
      "313/313 [==============================] - 14s 44ms/step - loss: 0.5125 - accuracy: 0.7792 - val_loss: 0.5251 - val_accuracy: 0.7610\n",
      "Epoch 17/100\n",
      "313/313 [==============================] - 12s 38ms/step - loss: 0.5036 - accuracy: 0.7823 - val_loss: 0.5196 - val_accuracy: 0.7594\n",
      "Epoch 18/100\n",
      "313/313 [==============================] - 11s 35ms/step - loss: 0.4957 - accuracy: 0.7849 - val_loss: 0.5116 - val_accuracy: 0.7704\n",
      "Epoch 19/100\n",
      "313/313 [==============================] - 12s 38ms/step - loss: 0.4880 - accuracy: 0.7876 - val_loss: 0.5058 - val_accuracy: 0.7692\n",
      "Epoch 20/100\n",
      "313/313 [==============================] - 11s 36ms/step - loss: 0.4811 - accuracy: 0.7901 - val_loss: 0.5011 - val_accuracy: 0.7706\n",
      "Epoch 21/100\n",
      "313/313 [==============================] - 11s 37ms/step - loss: 0.4741 - accuracy: 0.7935 - val_loss: 0.4952 - val_accuracy: 0.7734\n",
      "Epoch 22/100\n",
      "313/313 [==============================] - 12s 40ms/step - loss: 0.4680 - accuracy: 0.7970 - val_loss: 0.4906 - val_accuracy: 0.7744\n",
      "Epoch 23/100\n",
      "313/313 [==============================] - 11s 35ms/step - loss: 0.4621 - accuracy: 0.7994 - val_loss: 0.4867 - val_accuracy: 0.7766\n",
      "Epoch 24/100\n",
      "313/313 [==============================] - 11s 35ms/step - loss: 0.4566 - accuracy: 0.7998 - val_loss: 0.4837 - val_accuracy: 0.7766\n",
      "Epoch 25/100\n",
      "313/313 [==============================] - 11s 34ms/step - loss: 0.4516 - accuracy: 0.8018 - val_loss: 0.4800 - val_accuracy: 0.7804\n",
      "Epoch 26/100\n",
      "313/313 [==============================] - 13s 41ms/step - loss: 0.4472 - accuracy: 0.8051 - val_loss: 0.4776 - val_accuracy: 0.7818\n",
      "Epoch 27/100\n",
      "313/313 [==============================] - 11s 36ms/step - loss: 0.4428 - accuracy: 0.8044 - val_loss: 0.4746 - val_accuracy: 0.7834\n",
      "Epoch 28/100\n",
      "313/313 [==============================] - 12s 39ms/step - loss: 0.4389 - accuracy: 0.8073 - val_loss: 0.4748 - val_accuracy: 0.7794\n",
      "Epoch 29/100\n",
      "313/313 [==============================] - 12s 37ms/step - loss: 0.4351 - accuracy: 0.8082 - val_loss: 0.4718 - val_accuracy: 0.7826\n",
      "Epoch 30/100\n",
      "313/313 [==============================] - 13s 41ms/step - loss: 0.4319 - accuracy: 0.8110 - val_loss: 0.4728 - val_accuracy: 0.7816\n",
      "Epoch 31/100\n",
      "313/313 [==============================] - 13s 42ms/step - loss: 0.4289 - accuracy: 0.8123 - val_loss: 0.4673 - val_accuracy: 0.7820\n",
      "Epoch 32/100\n",
      "313/313 [==============================] - 12s 37ms/step - loss: 0.4261 - accuracy: 0.8125 - val_loss: 0.4684 - val_accuracy: 0.7832\n",
      "Epoch 33/100\n",
      "313/313 [==============================] - 12s 39ms/step - loss: 0.4233 - accuracy: 0.8141 - val_loss: 0.4660 - val_accuracy: 0.7824\n",
      "Epoch 34/100\n",
      "313/313 [==============================] - 13s 43ms/step - loss: 0.4212 - accuracy: 0.8145 - val_loss: 0.4649 - val_accuracy: 0.7832\n",
      "Epoch 35/100\n",
      "313/313 [==============================] - 12s 39ms/step - loss: 0.4185 - accuracy: 0.8163 - val_loss: 0.4641 - val_accuracy: 0.7838\n",
      "Epoch 36/100\n",
      "313/313 [==============================] - 11s 36ms/step - loss: 0.4164 - accuracy: 0.8158 - val_loss: 0.4652 - val_accuracy: 0.7832\n",
      "Epoch 37/100\n",
      "313/313 [==============================] - 11s 36ms/step - loss: 0.4147 - accuracy: 0.8168 - val_loss: 0.4630 - val_accuracy: 0.7852\n",
      "Epoch 38/100\n",
      "313/313 [==============================] - 10s 34ms/step - loss: 0.4124 - accuracy: 0.8178 - val_loss: 0.4632 - val_accuracy: 0.7810\n",
      "Epoch 39/100\n",
      "313/313 [==============================] - 12s 37ms/step - loss: 0.4108 - accuracy: 0.8185 - val_loss: 0.4616 - val_accuracy: 0.7868\n",
      "Epoch 40/100\n",
      "313/313 [==============================] - 11s 35ms/step - loss: 0.4092 - accuracy: 0.8187 - val_loss: 0.4650 - val_accuracy: 0.7852\n",
      "Epoch 41/100\n",
      "313/313 [==============================] - 12s 38ms/step - loss: 0.4073 - accuracy: 0.8216 - val_loss: 0.4650 - val_accuracy: 0.7852\n",
      "Epoch 42/100\n",
      "313/313 [==============================] - 14s 45ms/step - loss: 0.4060 - accuracy: 0.8202 - val_loss: 0.4633 - val_accuracy: 0.7844\n"
     ]
    }
   ],
   "source": [
    "ot=keras.optimizers.RMSprop(learning_rate=1e-4)\n",
    "m.compile(optimizer=ot,loss='binary_crossentropy',metrics='accuracy')\n",
    "ck_p = keras.callbacks.ModelCheckpoint('Ex2.h5',save_best_only=True)\n",
    "e_stopping = keras.callbacks.EarlyStopping(patience=3,restore_best_weights=True)\n",
    "hy = m.fit(t_ho,t_y,epochs=100,batch_size=64,validation_data=(v_ho,v_t),callbacks=[ck_p,e_stopping])"
   ]
  },
  {
   "cell_type": "code",
   "execution_count": 20,
   "id": "ccb8b301",
   "metadata": {},
   "outputs": [
    {
     "data": {
      "text/plain": [
       "[<matplotlib.lines.Line2D at 0x2224d644c40>]"
      ]
     },
     "execution_count": 20,
     "metadata": {},
     "output_type": "execute_result"
    },
    {
     "data": {
      "image/png": "[encoded data removed]",
      "text/plain": [
       "<Figure size 432x288 with 1 Axes>"
      ]
     },
     "metadata": {
      "needs_background": "light"
     },
     "output_type": "display_data"
    }
   ],
   "source": [
    "plt.plot(hy.history['loss'])\n",
    "plt.plot(hy.history['val_loss'])"
   ]
  },
  {
   "cell_type": "code",
   "execution_count": 25,
   "id": "b556a36e",
   "metadata": {},
   "outputs": [
    {
     "name": "stdout",
     "output_type": "stream",
     "text": [
      "Epoch 1/100\n",
      "313/313 [==============================] - 12s 33ms/step - loss: 0.6943 - accuracy: 0.5014 - val_loss: 0.6924 - val_accuracy: 0.5116\n",
      "Epoch 2/100\n",
      "313/313 [==============================] - 8s 25ms/step - loss: 0.6907 - accuracy: 0.5272 - val_loss: 0.6907 - val_accuracy: 0.5308\n",
      "Epoch 3/100\n",
      "313/313 [==============================] - 8s 26ms/step - loss: 0.6878 - accuracy: 0.5493 - val_loss: 0.6893 - val_accuracy: 0.5422\n",
      "Epoch 4/100\n",
      "313/313 [==============================] - 8s 25ms/step - loss: 0.6848 - accuracy: 0.5656 - val_loss: 0.6881 - val_accuracy: 0.5478\n",
      "Epoch 5/100\n",
      "313/313 [==============================] - 7s 22ms/step - loss: 0.6814 - accuracy: 0.5737 - val_loss: 0.6869 - val_accuracy: 0.5480\n",
      "Epoch 6/100\n",
      "313/313 [==============================] - 7s 21ms/step - loss: 0.6776 - accuracy: 0.5849 - val_loss: 0.6857 - val_accuracy: 0.5550\n",
      "Epoch 7/100\n",
      "313/313 [==============================] - 6s 19ms/step - loss: 0.6708 - accuracy: 0.6028 - val_loss: 0.6748 - val_accuracy: 0.5928\n",
      "Epoch 8/100\n",
      "313/313 [==============================] - 7s 23ms/step - loss: 0.6521 - accuracy: 0.6566 - val_loss: 0.6544 - val_accuracy: 0.6502\n",
      "Epoch 9/100\n",
      "313/313 [==============================] - 7s 21ms/step - loss: 0.6302 - accuracy: 0.6899 - val_loss: 0.6324 - val_accuracy: 0.6842\n",
      "Epoch 10/100\n",
      "313/313 [==============================] - 7s 21ms/step - loss: 0.6064 - accuracy: 0.7220 - val_loss: 0.6112 - val_accuracy: 0.7128\n",
      "Epoch 11/100\n",
      "313/313 [==============================] - 7s 22ms/step - loss: 0.5837 - accuracy: 0.7420 - val_loss: 0.5916 - val_accuracy: 0.7276\n",
      "Epoch 12/100\n",
      "313/313 [==============================] - 7s 22ms/step - loss: 0.5632 - accuracy: 0.7534 - val_loss: 0.5749 - val_accuracy: 0.7378\n",
      "Epoch 13/100\n",
      "313/313 [==============================] - 6s 19ms/step - loss: 0.5439 - accuracy: 0.7668 - val_loss: 0.5589 - val_accuracy: 0.7536\n",
      "Epoch 14/100\n",
      "313/313 [==============================] - 6s 20ms/step - loss: 0.5274 - accuracy: 0.7756 - val_loss: 0.5459 - val_accuracy: 0.7566\n",
      "Epoch 15/100\n",
      "313/313 [==============================] - 7s 23ms/step - loss: 0.5102 - accuracy: 0.7858 - val_loss: 0.5341 - val_accuracy: 0.7610\n",
      "Epoch 16/100\n",
      "313/313 [==============================] - 7s 21ms/step - loss: 0.4970 - accuracy: 0.7930 - val_loss: 0.5245 - val_accuracy: 0.7674\n",
      "Epoch 17/100\n",
      "313/313 [==============================] - 7s 22ms/step - loss: 0.4846 - accuracy: 0.7980 - val_loss: 0.5176 - val_accuracy: 0.7678\n",
      "Epoch 18/100\n",
      "313/313 [==============================] - 7s 22ms/step - loss: 0.4745 - accuracy: 0.8012 - val_loss: 0.5087 - val_accuracy: 0.7682\n",
      "Epoch 19/100\n",
      "313/313 [==============================] - 6s 20ms/step - loss: 0.4652 - accuracy: 0.8043 - val_loss: 0.5045 - val_accuracy: 0.7698\n",
      "Epoch 20/100\n",
      "313/313 [==============================] - 6s 20ms/step - loss: 0.4567 - accuracy: 0.8079 - val_loss: 0.5027 - val_accuracy: 0.7706\n",
      "Epoch 21/100\n",
      "313/313 [==============================] - 6s 19ms/step - loss: 0.4504 - accuracy: 0.8087 - val_loss: 0.4950 - val_accuracy: 0.7752\n",
      "Epoch 22/100\n",
      "313/313 [==============================] - 6s 19ms/step - loss: 0.4437 - accuracy: 0.8122 - val_loss: 0.4924 - val_accuracy: 0.7744\n",
      "Epoch 23/100\n",
      "313/313 [==============================] - 6s 19ms/step - loss: 0.4381 - accuracy: 0.8142 - val_loss: 0.4894 - val_accuracy: 0.7774\n",
      "Epoch 24/100\n",
      "313/313 [==============================] - 6s 19ms/step - loss: 0.4332 - accuracy: 0.8162 - val_loss: 0.4870 - val_accuracy: 0.7778\n",
      "Epoch 25/100\n",
      "313/313 [==============================] - 6s 19ms/step - loss: 0.4283 - accuracy: 0.8188 - val_loss: 0.4844 - val_accuracy: 0.7802\n",
      "Epoch 26/100\n",
      "313/313 [==============================] - 6s 19ms/step - loss: 0.4249 - accuracy: 0.8192 - val_loss: 0.4839 - val_accuracy: 0.7818\n",
      "Epoch 27/100\n",
      "313/313 [==============================] - 6s 19ms/step - loss: 0.4206 - accuracy: 0.8224 - val_loss: 0.4819 - val_accuracy: 0.7818\n",
      "Epoch 28/100\n",
      "313/313 [==============================] - 6s 19ms/step - loss: 0.4176 - accuracy: 0.8234 - val_loss: 0.4812 - val_accuracy: 0.7828\n",
      "Epoch 29/100\n",
      "313/313 [==============================] - 6s 19ms/step - loss: 0.4141 - accuracy: 0.8250 - val_loss: 0.4821 - val_accuracy: 0.7810\n",
      "Epoch 30/100\n",
      "313/313 [==============================] - 6s 20ms/step - loss: 0.4121 - accuracy: 0.8241 - val_loss: 0.4858 - val_accuracy: 0.7776\n",
      "Epoch 31/100\n",
      "313/313 [==============================] - 6s 21ms/step - loss: 0.4086 - accuracy: 0.8261 - val_loss: 0.4811 - val_accuracy: 0.7824\n",
      "Epoch 32/100\n",
      "313/313 [==============================] - 7s 22ms/step - loss: 0.4060 - accuracy: 0.8278 - val_loss: 0.4810 - val_accuracy: 0.7822\n",
      "Epoch 33/100\n",
      "313/313 [==============================] - 6s 20ms/step - loss: 0.4043 - accuracy: 0.8275 - val_loss: 0.4809 - val_accuracy: 0.7818\n",
      "Epoch 34/100\n",
      "313/313 [==============================] - 6s 19ms/step - loss: 0.4017 - accuracy: 0.8296 - val_loss: 0.4853 - val_accuracy: 0.7782\n",
      "Epoch 35/100\n",
      "313/313 [==============================] - 6s 19ms/step - loss: 0.4000 - accuracy: 0.8303 - val_loss: 0.4822 - val_accuracy: 0.7820\n",
      "Epoch 36/100\n",
      "313/313 [==============================] - 6s 19ms/step - loss: 0.3971 - accuracy: 0.8317 - val_loss: 0.4807 - val_accuracy: 0.7800\n",
      "Epoch 37/100\n",
      "313/313 [==============================] - 6s 20ms/step - loss: 0.3961 - accuracy: 0.8334 - val_loss: 0.4822 - val_accuracy: 0.7812\n",
      "Epoch 38/100\n",
      "313/313 [==============================] - 6s 19ms/step - loss: 0.3939 - accuracy: 0.8343 - val_loss: 0.4817 - val_accuracy: 0.7812\n",
      "Epoch 39/100\n",
      "313/313 [==============================] - 6s 20ms/step - loss: 0.3926 - accuracy: 0.8334 - val_loss: 0.4827 - val_accuracy: 0.7822\n"
     ]
    }
   ],
   "source": [
    "m1 = keras.Sequential()\n",
    "m1.add(keras.layers.Embedding(500,16,input_length=100))\n",
    "m1.add(keras.layers.SimpleRNN(8))\n",
    "m1.add(keras.layers.Dense(1,activation='sigmoid'))\n",
    "ot=keras.optimizers.RMSprop(learning_rate=1e-4)\n",
    "m1.compile(optimizer=ot,loss='binary_crossentropy',metrics='accuracy')\n",
    "ck_p = keras.callbacks.ModelCheckpoint('Ex2_emd.h5',save_best_only=True)\n",
    "e_stopping = keras.callbacks.EarlyStopping(patience=3,restore_best_weights=True)\n",
    "hy1 = m1.fit(s_t_x,t_y,epochs=100,batch_size=64,validation_data=(s_v_x,v_t),callbacks=[ck_p,e_stopping])"
   ]
  },
  {
   "cell_type": "code",
   "execution_count": 26,
   "id": "ca58b221",
   "metadata": {
    "scrolled": true
   },
   "outputs": [
    {
     "data": {
      "text/plain": [
       "[<matplotlib.lines.Line2D at 0x2224c9bc0d0>]"
      ]
     },
     "execution_count": 26,
     "metadata": {},
     "output_type": "execute_result"
    },
    {
     "data": {
      "image/png": "[encoded data removed]",
      "text/plain": [
       "<Figure size 432x288 with 1 Axes>"
      ]
     },
     "metadata": {
      "needs_background": "light"
     },
     "output_type": "display_data"
    }
   ],
   "source": [
    "plt.plot(hy1.history['loss'])\n",
    "plt.plot(hy1.history['val_loss'])"
   ]
  },
  {
   "cell_type": "code",
   "execution_count": 27,
   "id": "2d574d8a",
   "metadata": {},
   "outputs": [],
   "source": [
    "(x_data,y_data),(tt_x,tt_y) = load_data(num_words=500)\n",
    "t_x,v_x,t_y,v_t = train_test_split(x_data,y_data,test_size=0.2,random_state=42)"
   ]
  },
  {
   "cell_type": "code",
   "execution_count": 28,
   "id": "c91d3d0d",
   "metadata": {},
   "outputs": [],
   "source": [
    "s_t_x=pad_sequences(t_x,maxlen=100)\n",
    "s_v_x=pad_sequences(v_x,maxlen=100)"
   ]
  },
  {
   "cell_type": "code",
   "execution_count": 29,
   "id": "f91f4779",
   "metadata": {},
   "outputs": [],
   "source": [
    "m2 = keras.Sequential()\n",
    "m2.add(keras.layers.Embedding(500,16,input_length=100))\n",
    "m2.add(keras.layers.LSTM(8,dropout=0.3))\n",
    "m2.add(keras.layers.Dense(1,activation='sigmoid'))"
   ]
  },
  {
   "cell_type": "code",
   "execution_count": 30,
   "id": "3406db48",
   "metadata": {},
   "outputs": [
    {
     "name": "stdout",
     "output_type": "stream",
     "text": [
      "Epoch 1/100\n",
      "313/313 [==============================] - 16s 40ms/step - loss: 0.6930 - accuracy: 0.5145 - val_loss: 0.6924 - val_accuracy: 0.5588\n",
      "Epoch 2/100\n",
      "313/313 [==============================] - 12s 38ms/step - loss: 0.6916 - accuracy: 0.5737 - val_loss: 0.6909 - val_accuracy: 0.6008\n",
      "Epoch 3/100\n",
      "313/313 [==============================] - 12s 39ms/step - loss: 0.6895 - accuracy: 0.6111 - val_loss: 0.6882 - val_accuracy: 0.6272\n",
      "Epoch 4/100\n",
      "313/313 [==============================] - 12s 40ms/step - loss: 0.6849 - accuracy: 0.6465 - val_loss: 0.6812 - val_accuracy: 0.6708\n",
      "Epoch 5/100\n",
      "313/313 [==============================] - 12s 38ms/step - loss: 0.6665 - accuracy: 0.6988 - val_loss: 0.6427 - val_accuracy: 0.7010\n",
      "Epoch 6/100\n",
      "313/313 [==============================] - 11s 35ms/step - loss: 0.6271 - accuracy: 0.6988 - val_loss: 0.6166 - val_accuracy: 0.7080\n",
      "Epoch 7/100\n",
      "313/313 [==============================] - 12s 37ms/step - loss: 0.6086 - accuracy: 0.7136 - val_loss: 0.5980 - val_accuracy: 0.7324\n",
      "Epoch 8/100\n",
      "313/313 [==============================] - 14s 43ms/step - loss: 0.5901 - accuracy: 0.7315 - val_loss: 0.5812 - val_accuracy: 0.7352\n",
      "Epoch 9/100\n",
      "313/313 [==============================] - 12s 37ms/step - loss: 0.5748 - accuracy: 0.7396 - val_loss: 0.5657 - val_accuracy: 0.7486\n",
      "Epoch 10/100\n",
      "313/313 [==============================] - 12s 40ms/step - loss: 0.5598 - accuracy: 0.7491 - val_loss: 0.5523 - val_accuracy: 0.7512\n",
      "Epoch 11/100\n",
      "313/313 [==============================] - 12s 37ms/step - loss: 0.5456 - accuracy: 0.7598 - val_loss: 0.5378 - val_accuracy: 0.7658\n",
      "Epoch 12/100\n",
      "313/313 [==============================] - 11s 36ms/step - loss: 0.5317 - accuracy: 0.7668 - val_loss: 0.5249 - val_accuracy: 0.7680\n",
      "Epoch 13/100\n",
      "313/313 [==============================] - 12s 39ms/step - loss: 0.5189 - accuracy: 0.7717 - val_loss: 0.5135 - val_accuracy: 0.7774\n",
      "Epoch 14/100\n",
      "313/313 [==============================] - 16s 52ms/step - loss: 0.5065 - accuracy: 0.7802 - val_loss: 0.5050 - val_accuracy: 0.7822\n",
      "Epoch 15/100\n",
      "313/313 [==============================] - 14s 44ms/step - loss: 0.4948 - accuracy: 0.7835 - val_loss: 0.4938 - val_accuracy: 0.7810\n",
      "Epoch 16/100\n",
      "313/313 [==============================] - 12s 40ms/step - loss: 0.4858 - accuracy: 0.7882 - val_loss: 0.4868 - val_accuracy: 0.7824\n",
      "Epoch 17/100\n",
      "313/313 [==============================] - 11s 34ms/step - loss: 0.4773 - accuracy: 0.7934 - val_loss: 0.4768 - val_accuracy: 0.7934\n",
      "Epoch 18/100\n",
      "313/313 [==============================] - 11s 34ms/step - loss: 0.4677 - accuracy: 0.7950 - val_loss: 0.4692 - val_accuracy: 0.7936\n",
      "Epoch 19/100\n",
      "313/313 [==============================] - 11s 36ms/step - loss: 0.4625 - accuracy: 0.7964 - val_loss: 0.4633 - val_accuracy: 0.7940\n",
      "Epoch 20/100\n",
      "313/313 [==============================] - 12s 39ms/step - loss: 0.4565 - accuracy: 0.7995 - val_loss: 0.4605 - val_accuracy: 0.7966\n",
      "Epoch 21/100\n",
      "313/313 [==============================] - 11s 37ms/step - loss: 0.4496 - accuracy: 0.8020 - val_loss: 0.4583 - val_accuracy: 0.7916\n",
      "Epoch 22/100\n",
      "313/313 [==============================] - 12s 37ms/step - loss: 0.4448 - accuracy: 0.8034 - val_loss: 0.4506 - val_accuracy: 0.7994\n",
      "Epoch 23/100\n",
      "313/313 [==============================] - 11s 36ms/step - loss: 0.4406 - accuracy: 0.8041 - val_loss: 0.4470 - val_accuracy: 0.8000\n",
      "Epoch 24/100\n",
      "313/313 [==============================] - 11s 36ms/step - loss: 0.4380 - accuracy: 0.8062 - val_loss: 0.4447 - val_accuracy: 0.8012\n",
      "Epoch 25/100\n",
      "313/313 [==============================] - 11s 35ms/step - loss: 0.4342 - accuracy: 0.8081 - val_loss: 0.4433 - val_accuracy: 0.8016\n",
      "Epoch 26/100\n",
      "313/313 [==============================] - 11s 36ms/step - loss: 0.4326 - accuracy: 0.8055 - val_loss: 0.4408 - val_accuracy: 0.7986\n",
      "Epoch 27/100\n",
      "313/313 [==============================] - 12s 38ms/step - loss: 0.4310 - accuracy: 0.8066 - val_loss: 0.4405 - val_accuracy: 0.8008\n",
      "Epoch 28/100\n",
      "313/313 [==============================] - 12s 37ms/step - loss: 0.4274 - accuracy: 0.8072 - val_loss: 0.4369 - val_accuracy: 0.8016\n",
      "Epoch 29/100\n",
      "313/313 [==============================] - 12s 39ms/step - loss: 0.4264 - accuracy: 0.8089 - val_loss: 0.4359 - val_accuracy: 0.8012\n",
      "Epoch 30/100\n",
      "313/313 [==============================] - 12s 38ms/step - loss: 0.4247 - accuracy: 0.8109 - val_loss: 0.4346 - val_accuracy: 0.8006\n",
      "Epoch 31/100\n",
      "313/313 [==============================] - 11s 36ms/step - loss: 0.4244 - accuracy: 0.8071 - val_loss: 0.4336 - val_accuracy: 0.8010\n",
      "Epoch 32/100\n",
      "313/313 [==============================] - 12s 37ms/step - loss: 0.4231 - accuracy: 0.8086 - val_loss: 0.4352 - val_accuracy: 0.8008\n",
      "Epoch 33/100\n",
      "313/313 [==============================] - 12s 38ms/step - loss: 0.4201 - accuracy: 0.8101 - val_loss: 0.4321 - val_accuracy: 0.8008\n",
      "Epoch 34/100\n",
      "313/313 [==============================] - 11s 35ms/step - loss: 0.4194 - accuracy: 0.8133 - val_loss: 0.4323 - val_accuracy: 0.8030\n",
      "Epoch 35/100\n",
      "313/313 [==============================] - 11s 36ms/step - loss: 0.4193 - accuracy: 0.8083 - val_loss: 0.4312 - val_accuracy: 0.8018\n",
      "Epoch 36/100\n",
      "313/313 [==============================] - 11s 34ms/step - loss: 0.4179 - accuracy: 0.8108 - val_loss: 0.4324 - val_accuracy: 0.7998\n",
      "Epoch 37/100\n",
      "313/313 [==============================] - 11s 35ms/step - loss: 0.4178 - accuracy: 0.8122 - val_loss: 0.4299 - val_accuracy: 0.8012\n",
      "Epoch 38/100\n",
      "313/313 [==============================] - 12s 39ms/step - loss: 0.4180 - accuracy: 0.8080 - val_loss: 0.4307 - val_accuracy: 0.8022\n",
      "Epoch 39/100\n",
      "313/313 [==============================] - 12s 39ms/step - loss: 0.4173 - accuracy: 0.8095 - val_loss: 0.4305 - val_accuracy: 0.8020\n",
      "Epoch 40/100\n",
      "313/313 [==============================] - 12s 37ms/step - loss: 0.4159 - accuracy: 0.8088 - val_loss: 0.4302 - val_accuracy: 0.8026\n"
     ]
    }
   ],
   "source": [
    "ot=keras.optimizers.RMSprop(learning_rate=1e-4)\n",
    "m2.compile(optimizer=ot,loss='binary_crossentropy',metrics='accuracy')\n",
    "ck_p = keras.callbacks.ModelCheckpoint('Ex2_LSTM.h5',save_best_only=True)\n",
    "e_stopping = keras.callbacks.EarlyStopping(patience=3,restore_best_weights=True)\n",
    "hy2 = m2.fit(s_t_x,t_y,epochs=100,batch_size=64,validation_data=(s_v_x,v_t),callbacks=[ck_p,e_stopping])"
   ]
  },
  {
   "cell_type": "code",
   "execution_count": 31,
   "id": "f738841b",
   "metadata": {},
   "outputs": [
    {
     "data": {
      "text/plain": [
       "[<matplotlib.lines.Line2D at 0x2225309a9a0>]"
      ]
     },
     "execution_count": 31,
     "metadata": {},
     "output_type": "execute_result"
    },
    {
     "data": {
      "image/png": "[encoded data removed]",
      "text/plain": [
       "<Figure size 432x288 with 1 Axes>"
      ]
     },
     "metadata": {
      "needs_background": "light"
     },
     "output_type": "display_data"
    }
   ],
   "source": [
    "plt.plot(hy2.history['loss'])\n",
    "plt.plot(hy2.history['val_loss'])"
   ]
  },
  {
   "cell_type": "code",
   "execution_count": null,
   "id": "482998ce",
   "metadata": {},
   "outputs": [],
   "source": [
    "m3 = keras.Sequential()\n",
    "m3.add(keras.layers.Embedding(500,16,input_length=100))\n",
    "m3.add(keras.layers.LSTM(8,dropout=0.3,return_sequences=Ture))\n",
    "m3.add(keras.layers.LSTM(8,dropout=0.3))\n",
    "m3.add(keras.layers.Dense(1,activation='sigmoid'))"
   ]
  },
  {
   "cell_type": "code",
   "execution_count": null,
   "id": "51316200",
   "metadata": {},
   "outputs": [],
   "source": [
    "m4 = keras.Sequential()\n",
    "m4.add(keras.layers.Embedding(500,16,input_length=100))\n",
    "m4.add(keras.layers.GRU(8,dropout=0.3))\n",
    "m4.add(keras.layers.Dense(1,activation='sigmoid'))"
   ]
  }
 ],
 "metadata": {
  "kernelspec": {
   "display_name": "Python 3 (ipykernel)",
   "language": "python",
   "name": "python3"
  },
  "language_info": {
   "codemirror_mode": {
    "name": "ipython",
    "version": 3
   },
   "file_extension": ".py",
   "mimetype": "text/x-python",
   "name": "python",
   "nbconvert_exporter": "python",
   "pygments_lexer": "ipython3",
   "version": "3.9.7"
  }
 },
 "nbformat": 4,
 "nbformat_minor": 5
}
