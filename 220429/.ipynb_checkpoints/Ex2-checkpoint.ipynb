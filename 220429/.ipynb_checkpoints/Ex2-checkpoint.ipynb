{
 "cells": [
  {
   "cell_type": "code",
   "execution_count": 1,
   "id": "ca0736e5",
   "metadata": {},
   "outputs": [
    {
     "name": "stdout",
     "output_type": "stream",
     "text": [
      "(12384, 8)\n",
      "(8,)\n"
     ]
    }
   ],
   "source": [
    "from sklearn.datasets import fetch_california_housing\n",
    "from sklearn.model_selection import train_test_split\n",
    "from sklearn.preprocessing import StandardScaler\n",
    "from tensorflow import keras\n",
    "import tensorflow as tf\n",
    "import matplotlib.pyplot as plt\n",
    "import numpy as np\n",
    "import pandas as pd\n",
    "np.random.seed(42)\n",
    "tf.random.set_seed(42) #시드값 고정\n",
    "data = fetch_california_housing()\n",
    "in_data = StandardScaler().fit_transform(data.data)\n",
    "x_data,tt_x,y_data,tt_y = train_test_split(in_data,data.target,random_state=42)\n",
    "#x_data,tt_x,y_data,tt_y = train_test_split(data.data,data.target,random_state=42)\n",
    "t_x,v_x,t_y,v_y = train_test_split(x_data,y_data,random_state=42,test_size=0.2)\n",
    "# s = StandardScaler()\n",
    "# t_x = s.fit_transform(t_x)\n",
    "# v_x = s.fit_transform(v_x)\n",
    "# tt_x = s.fit_transform(tt_x)\n",
    "print(t_x.shape)\n",
    "print(t_x.shape[1:]) #입력 data의 차원의 형상"
   ]
  },
  {
   "cell_type": "code",
   "execution_count": 2,
   "id": "c485ad24",
   "metadata": {
    "scrolled": true
   },
   "outputs": [
    {
     "name": "stdout",
     "output_type": "stream",
     "text": [
      "Model: \"sequential\"\n",
      "_________________________________________________________________\n",
      " Layer (type)                Output Shape              Param #   \n",
      "=================================================================\n",
      " flatten (Flatten)           (None, 8)                 0         \n",
      "                                                                 \n",
      " dense (Dense)               (None, 30)                270       \n",
      "                                                                 \n",
      " dense_1 (Dense)             (None, 1)                 31        \n",
      "                                                                 \n",
      "=================================================================\n",
      "Total params: 301\n",
      "Trainable params: 301\n",
      "Non-trainable params: 0\n",
      "_________________________________________________________________\n"
     ]
    }
   ],
   "source": [
    "m = keras.models.Sequential()\n",
    "m.add(keras.layers.Flatten(input_shape=t_x.shape[1:]))\n",
    "m.add(keras.layers.Dense(30,activation='relu'))\n",
    "m.add(keras.layers.Dense(1))\n",
    "m.summary()"
   ]
  },
  {
   "cell_type": "code",
   "execution_count": 3,
   "id": "a72671fc",
   "metadata": {},
   "outputs": [
    {
     "name": "stdout",
     "output_type": "stream",
     "text": [
      "Epoch 1/20\n",
      "387/387 [==============================] - 1s 2ms/step - loss: 1.6898 - accuracy: 0.0030 - val_loss: 0.7729 - val_accuracy: 0.0032\n",
      "Epoch 2/20\n",
      "387/387 [==============================] - 1s 1ms/step - loss: 0.7301 - accuracy: 0.0033 - val_loss: 0.6413 - val_accuracy: 0.0032\n",
      "Epoch 3/20\n",
      "387/387 [==============================] - 1s 1ms/step - loss: 0.6545 - accuracy: 0.0033 - val_loss: 0.6017 - val_accuracy: 0.0032\n",
      "Epoch 4/20\n",
      "387/387 [==============================] - 1s 1ms/step - loss: 0.6216 - accuracy: 0.0033 - val_loss: 0.5712 - val_accuracy: 0.0032\n",
      "Epoch 5/20\n",
      "387/387 [==============================] - 1s 1ms/step - loss: 0.5947 - accuracy: 0.0033 - val_loss: 0.5476 - val_accuracy: 0.0032\n",
      "Epoch 6/20\n",
      "387/387 [==============================] - 1s 1ms/step - loss: 0.5733 - accuracy: 0.0033 - val_loss: 0.5300 - val_accuracy: 0.0032\n",
      "Epoch 7/20\n",
      "387/387 [==============================] - 1s 1ms/step - loss: 0.5554 - accuracy: 0.0033 - val_loss: 0.5146 - val_accuracy: 0.0032\n",
      "Epoch 8/20\n",
      "387/387 [==============================] - 1s 1ms/step - loss: 0.5407 - accuracy: 0.0033 - val_loss: 0.5051 - val_accuracy: 0.0032\n",
      "Epoch 9/20\n",
      "387/387 [==============================] - 1s 1ms/step - loss: 0.5294 - accuracy: 0.0033 - val_loss: 0.4913 - val_accuracy: 0.0032\n",
      "Epoch 10/20\n",
      "387/387 [==============================] - 1s 1ms/step - loss: 0.5182 - accuracy: 0.0033 - val_loss: 0.4835 - val_accuracy: 0.0032\n",
      "Epoch 11/20\n",
      "387/387 [==============================] - 1s 2ms/step - loss: 0.5095 - accuracy: 0.0033 - val_loss: 0.4772 - val_accuracy: 0.0032\n",
      "Epoch 12/20\n",
      "387/387 [==============================] - 1s 2ms/step - loss: 0.5021 - accuracy: 0.0033 - val_loss: 0.4711 - val_accuracy: 0.0032\n",
      "Epoch 13/20\n",
      "387/387 [==============================] - 1s 2ms/step - loss: 0.4961 - accuracy: 0.0033 - val_loss: 0.4649 - val_accuracy: 0.0032\n",
      "Epoch 14/20\n",
      "387/387 [==============================] - 1s 2ms/step - loss: 0.4905 - accuracy: 0.0033 - val_loss: 0.4605 - val_accuracy: 0.0032\n",
      "Epoch 15/20\n",
      "387/387 [==============================] - 1s 1ms/step - loss: 0.4855 - accuracy: 0.0033 - val_loss: 0.4567 - val_accuracy: 0.0032\n",
      "Epoch 16/20\n",
      "387/387 [==============================] - 0s 1ms/step - loss: 0.4816 - accuracy: 0.0033 - val_loss: 0.4524 - val_accuracy: 0.0032\n",
      "Epoch 17/20\n",
      "387/387 [==============================] - 1s 2ms/step - loss: 0.4778 - accuracy: 0.0033 - val_loss: 0.4496 - val_accuracy: 0.0032\n",
      "Epoch 18/20\n",
      "387/387 [==============================] - 1s 2ms/step - loss: 0.4742 - accuracy: 0.0033 - val_loss: 0.4493 - val_accuracy: 0.0032\n",
      "Epoch 19/20\n",
      "387/387 [==============================] - 1s 2ms/step - loss: 0.4721 - accuracy: 0.0033 - val_loss: 0.4443 - val_accuracy: 0.0032\n",
      "Epoch 20/20\n",
      "387/387 [==============================] - 1s 2ms/step - loss: 0.4690 - accuracy: 0.0033 - val_loss: 0.4438 - val_accuracy: 0.0032\n",
      "162/162 [==============================] - 0s 1ms/step - loss: 0.4670 - accuracy: 0.0021\n"
     ]
    }
   ],
   "source": [
    "m.compile(optimizer=keras.optimizers.SGD(learning_rate=1e-3), loss='mean_squared_error', metrics='accuracy')\n",
    "hy = m.fit(t_x,t_y,validation_data=(v_x,v_y),epochs=20)\n",
    "t_hy = m.evaluate(tt_x,tt_y)"
   ]
  },
  {
   "cell_type": "code",
   "execution_count": 7,
   "id": "72961991",
   "metadata": {
    "scrolled": true
   },
   "outputs": [
    {
     "data": {
      "text/plain": [
       "[<matplotlib.lines.Line2D at 0x1699ecc05b0>,\n",
       " <matplotlib.lines.Line2D at 0x1699ecc05e0>,\n",
       " <matplotlib.lines.Line2D at 0x1699ecc0700>,\n",
       " <matplotlib.lines.Line2D at 0x1699ecc0820>]"
      ]
     },
     "execution_count": 7,
     "metadata": {},
     "output_type": "execute_result"
    },
    {
     "data": {
      "image/png": "[encoded data removed]",
      "text/plain": [
       "<Figure size 432x288 with 1 Axes>"
      ]
     },
     "metadata": {
      "needs_background": "light"
     },
     "output_type": "display_data"
    }
   ],
   "source": [
    "plt.plot(pd.DataFrame(hy.history))"
   ]
  },
  {
   "cell_type": "code",
   "execution_count": 8,
   "id": "87171c63",
   "metadata": {},
   "outputs": [
    {
     "data": {
      "text/plain": [
       "array([[-1.15248922, -0.2891866 , -0.49989596, -0.15697642, -0.02956174,\n",
       "         0.07768129,  0.20044873,  0.27936569],\n",
       "       [-0.70501534,  0.10810379, -0.1574771 ,  0.20430076,  0.12320645,\n",
       "        -0.03763415, -0.23028292,  0.05475686],\n",
       "       [-0.20558796,  1.85618152, -0.5868143 ,  0.1882305 , -0.1019721 ,\n",
       "        -0.164679  ,  1.01509336, -1.43265267]])"
      ]
     },
     "execution_count": 8,
     "metadata": {},
     "output_type": "execute_result"
    }
   ],
   "source": [
    "tt_x[:3]"
   ]
  },
  {
   "cell_type": "code",
   "execution_count": 9,
   "id": "d50db52a",
   "metadata": {},
   "outputs": [
    {
     "data": {
      "text/plain": [
       "array([0.477  , 0.458  , 5.00001])"
      ]
     },
     "execution_count": 9,
     "metadata": {},
     "output_type": "execute_result"
    }
   ],
   "source": [
    "tt_y[:3]"
   ]
  },
  {
   "cell_type": "code",
   "execution_count": 10,
   "id": "3a9ffe70",
   "metadata": {},
   "outputs": [
    {
     "data": {
      "text/plain": [
       "array([[0.54340786],\n",
       "       [1.6062403 ],\n",
       "       [2.8592422 ]], dtype=float32)"
      ]
     },
     "execution_count": 10,
     "metadata": {},
     "output_type": "execute_result"
    }
   ],
   "source": [
    "m.predict(tt_x[:3])"
   ]
  }
 ],
 "metadata": {
  "kernelspec": {
   "display_name": "Python 3 (ipykernel)",
   "language": "python",
   "name": "python3"
  },
  "language_info": {
   "codemirror_mode": {
    "name": "ipython",
    "version": 3
   },
   "file_extension": ".py",
   "mimetype": "text/x-python",
   "name": "python",
   "nbconvert_exporter": "python",
   "pygments_lexer": "ipython3",
   "version": "3.9.7"
  }
 },
 "nbformat": 4,
 "nbformat_minor": 5
}
