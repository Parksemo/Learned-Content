{
 "cells": [
  {
   "cell_type": "code",
   "execution_count": 2,
   "id": "bc37e30f",
   "metadata": {},
   "outputs": [
    {
     "data": {
      "text/plain": [
       "(28, 28)"
      ]
     },
     "execution_count": 2,
     "metadata": {},
     "output_type": "execute_result"
    }
   ],
   "source": [
    "import tensorflow as tf\n",
    "from tensorflow import keras\n",
    "import numpy as np\n",
    "import pandas as pd\n",
    "import matplotlib.pyplot as plt\n",
    "from sklearn.model_selection import train_test_split\n",
    "(t_x,t_y),(tt_x,tt_y) = keras.datasets.fashion_mnist.load_data()\n",
    "s_t_x = t_x/255.0\n",
    "s_tt_x = tt_x/255.0\n",
    "t_x,v_x,t_y,v_y = train_test_split(s_t_x,t_y,test_size=0.2,random_state=42)\n",
    "t_x.shape[1:]"
   ]
  },
  {
   "cell_type": "code",
   "execution_count": 15,
   "id": "8e5b302f",
   "metadata": {},
   "outputs": [],
   "source": [
    "def s_my_m(l=None):\n",
    "    m = keras.Sequential()\n",
    "    m.add(keras.layers.Flatten(input_shape=(28,28)))\n",
    "    if l:\n",
    "        for i in l:\n",
    "            m.add(i)\n",
    "    m.add(keras.layers.Dense(10,activation='softmax'))\n",
    "    m.compile(loss='sparse_categorical_crossentropy',optimizer='adam',metrics='accuracy')\n",
    "    return m"
   ]
  },
  {
   "cell_type": "code",
   "execution_count": 5,
   "id": "12f3c7d4",
   "metadata": {
    "scrolled": true
   },
   "outputs": [
    {
     "name": "stdout",
     "output_type": "stream",
     "text": [
      "Epoch 1/20\n",
      "1483/1500 [============================>.] - ETA: 0s - loss: 0.5923 - accuracy: 0.7940INFO:tensorflow:Assets written to: best_m.h\\assets\n",
      "1500/1500 [==============================] - 5s 3ms/step - loss: 0.5913 - accuracy: 0.7943 - val_loss: 0.4440 - val_accuracy: 0.8364\n",
      "Epoch 2/20\n",
      "1497/1500 [============================>.] - ETA: 0s - loss: 0.4432 - accuracy: 0.8391INFO:tensorflow:Assets written to: best_m.h\\assets\n",
      "1500/1500 [==============================] - 6s 4ms/step - loss: 0.4434 - accuracy: 0.8390 - val_loss: 0.3858 - val_accuracy: 0.8587\n",
      "Epoch 3/20\n",
      "1485/1500 [============================>.] - ETA: 0s - loss: 0.4069 - accuracy: 0.8526INFO:tensorflow:Assets written to: best_m.h\\assets\n",
      "1500/1500 [==============================] - 6s 4ms/step - loss: 0.4072 - accuracy: 0.8525 - val_loss: 0.3721 - val_accuracy: 0.8667\n",
      "Epoch 4/20\n",
      "1498/1500 [============================>.] - ETA: 0s - loss: 0.3865 - accuracy: 0.8595INFO:tensorflow:Assets written to: best_m.h\\assets\n",
      "1500/1500 [==============================] - 5s 3ms/step - loss: 0.3864 - accuracy: 0.8596 - val_loss: 0.3699 - val_accuracy: 0.8654\n",
      "Epoch 5/20\n",
      "1486/1500 [============================>.] - ETA: 0s - loss: 0.3615 - accuracy: 0.8678INFO:tensorflow:Assets written to: best_m.h\\assets\n",
      "1500/1500 [==============================] - 7s 4ms/step - loss: 0.3622 - accuracy: 0.8675 - val_loss: 0.3548 - val_accuracy: 0.8694\n",
      "Epoch 6/20\n",
      "1499/1500 [============================>.] - ETA: 0s - loss: 0.3552 - accuracy: 0.8694INFO:tensorflow:Assets written to: best_m.h\\assets\n",
      "1500/1500 [==============================] - 5s 4ms/step - loss: 0.3551 - accuracy: 0.8694 - val_loss: 0.3355 - val_accuracy: 0.8773\n",
      "Epoch 7/20\n",
      "1500/1500 [==============================] - 5s 3ms/step - loss: 0.3459 - accuracy: 0.8716 - val_loss: 0.3375 - val_accuracy: 0.8779\n",
      "Epoch 8/20\n",
      "1494/1500 [============================>.] - ETA: 0s - loss: 0.3346 - accuracy: 0.8771INFO:tensorflow:Assets written to: best_m.h\\assets\n",
      "1500/1500 [==============================] - 4s 3ms/step - loss: 0.3344 - accuracy: 0.8772 - val_loss: 0.3294 - val_accuracy: 0.8803\n",
      "Epoch 9/20\n",
      "1500/1500 [==============================] - 3s 2ms/step - loss: 0.3275 - accuracy: 0.8785 - val_loss: 0.3434 - val_accuracy: 0.8749\n",
      "Epoch 10/20\n",
      "1494/1500 [============================>.] - ETA: 0s - loss: 0.3205 - accuracy: 0.8817INFO:tensorflow:Assets written to: best_m.h\\assets\n",
      "1500/1500 [==============================] - 4s 3ms/step - loss: 0.3202 - accuracy: 0.8818 - val_loss: 0.3284 - val_accuracy: 0.8813\n",
      "Epoch 11/20\n",
      "1492/1500 [============================>.] - ETA: 0s - loss: 0.3163 - accuracy: 0.8824INFO:tensorflow:Assets written to: best_m.h\\assets\n",
      "1500/1500 [==============================] - 4s 3ms/step - loss: 0.3163 - accuracy: 0.8824 - val_loss: 0.3251 - val_accuracy: 0.8811\n",
      "Epoch 12/20\n",
      "1500/1500 [==============================] - 3s 2ms/step - loss: 0.3093 - accuracy: 0.8833 - val_loss: 0.3258 - val_accuracy: 0.8832\n",
      "Epoch 13/20\n",
      "1500/1500 [==============================] - 3s 2ms/step - loss: 0.3041 - accuracy: 0.8866 - val_loss: 0.3256 - val_accuracy: 0.8821\n",
      "Epoch 14/20\n",
      "1500/1500 [==============================] - 3s 2ms/step - loss: 0.2996 - accuracy: 0.8890 - val_loss: 0.3329 - val_accuracy: 0.8813\n",
      "Epoch 15/20\n",
      "1500/1500 [==============================] - 4s 2ms/step - loss: 0.2977 - accuracy: 0.8873 - val_loss: 0.3262 - val_accuracy: 0.8840\n",
      "Epoch 16/20\n",
      "1500/1500 [==============================] - 4s 3ms/step - loss: 0.2924 - accuracy: 0.8904 - val_loss: 0.3364 - val_accuracy: 0.8807\n",
      "Epoch 17/20\n",
      "1495/1500 [============================>.] - ETA: 0s - loss: 0.2896 - accuracy: 0.8921INFO:tensorflow:Assets written to: best_m.h\\assets\n",
      "1500/1500 [==============================] - 5s 3ms/step - loss: 0.2894 - accuracy: 0.8922 - val_loss: 0.3209 - val_accuracy: 0.8852\n",
      "Epoch 18/20\n",
      "1500/1500 [==============================] - 4s 3ms/step - loss: 0.2835 - accuracy: 0.8930 - val_loss: 0.3246 - val_accuracy: 0.8833\n",
      "Epoch 19/20\n",
      "1500/1500 [==============================] - 3s 2ms/step - loss: 0.2807 - accuracy: 0.8941 - val_loss: 0.3435 - val_accuracy: 0.8771\n",
      "Epoch 20/20\n",
      "1500/1500 [==============================] - 3s 2ms/step - loss: 0.2750 - accuracy: 0.8958 - val_loss: 0.3261 - val_accuracy: 0.8857\n"
     ]
    },
    {
     "data": {
      "text/plain": [
       "[<matplotlib.lines.Line2D at 0x23c7e309340>]"
      ]
     },
     "execution_count": 5,
     "metadata": {},
     "output_type": "execute_result"
    },
    {
     "data": {
      "image/png": "[encoded data removed]",
      "text/plain": [
       "<Figure size 432x288 with 1 Axes>"
      ]
     },
     "metadata": {
      "needs_background": "light"
     },
     "output_type": "display_data"
    }
   ],
   "source": [
    "m = keras.Sequential()\n",
    "m.add(keras.layers.Flatten(input_shape=(28,28)))\n",
    "m.add(keras.layers.Dense(100,activation='relu'))\n",
    "m.add(keras.layers.Dropout(0.3))\n",
    "m.add(keras.layers.Dense(10,activation='softmax'))\n",
    "#신경망의 구축\n",
    "m.compile(loss='sparse_categorical_crossentropy',optimizer='adam',metrics='accuracy')\n",
    "#콜백\n",
    "ck_p = keras.callbacks.ModelCheckpoint('best_m.h',save_best_only=True) #callbacks.ModelCheckpoint\n",
    "hy = m.fit(t_x,t_y,epochs=20,validation_data=(v_x,v_y),callbacks=[ck_p])\n",
    "plt.plot(hy.history['loss'])\n",
    "plt.plot(hy.history['val_loss'])"
   ]
  },
  {
   "cell_type": "code",
   "execution_count": 10,
   "id": "60308d43",
   "metadata": {},
   "outputs": [
    {
     "name": "stdout",
     "output_type": "stream",
     "text": [
      "375/375 [==============================] - 1s 1ms/step - loss: 0.3261 - accuracy: 0.8857\n"
     ]
    },
    {
     "data": {
      "text/plain": [
       "[0.32605722546577454, 0.8856666684150696]"
      ]
     },
     "execution_count": 10,
     "metadata": {},
     "output_type": "execute_result"
    }
   ],
   "source": [
    "m2 = keras.models.load_model('best_m.h')\n",
    "m.evaluate(v_x,v_y)"
   ]
  },
  {
   "cell_type": "code",
   "execution_count": 9,
   "id": "13029cc7",
   "metadata": {},
   "outputs": [
    {
     "name": "stdout",
     "output_type": "stream",
     "text": [
      "375/375 [==============================] - 1s 1ms/step - loss: 0.3209 - accuracy: 0.8852\n"
     ]
    },
    {
     "data": {
      "text/plain": [
       "[0.32087990641593933, 0.8851666450500488]"
      ]
     },
     "execution_count": 9,
     "metadata": {},
     "output_type": "execute_result"
    }
   ],
   "source": [
    "m2.evaluate(v_x,v_y)"
   ]
  },
  {
   "cell_type": "code",
   "execution_count": 23,
   "id": "f1de8dbb",
   "metadata": {
    "scrolled": true
   },
   "outputs": [
    {
     "name": "stdout",
     "output_type": "stream",
     "text": [
      "Epoch 1/20\n",
      "1500/1500 [==============================] - 4s 3ms/step - loss: 0.5932 - accuracy: 0.7902 - val_loss: 0.4293 - val_accuracy: 0.8448\n",
      "Epoch 2/20\n",
      "1500/1500 [==============================] - 4s 2ms/step - loss: 0.4369 - accuracy: 0.8424 - val_loss: 0.3818 - val_accuracy: 0.8617\n",
      "Epoch 3/20\n",
      "1500/1500 [==============================] - 3s 2ms/step - loss: 0.4027 - accuracy: 0.8549 - val_loss: 0.3602 - val_accuracy: 0.8702\n",
      "Epoch 4/20\n",
      "1500/1500 [==============================] - 3s 2ms/step - loss: 0.3792 - accuracy: 0.8619 - val_loss: 0.3570 - val_accuracy: 0.8727\n",
      "Epoch 5/20\n",
      "1500/1500 [==============================] - 5s 3ms/step - loss: 0.3633 - accuracy: 0.8672 - val_loss: 0.3696 - val_accuracy: 0.8659\n",
      "Epoch 6/20\n",
      "1500/1500 [==============================] - 4s 3ms/step - loss: 0.3537 - accuracy: 0.8703 - val_loss: 0.3444 - val_accuracy: 0.8727\n",
      "Epoch 7/20\n",
      "1500/1500 [==============================] - 4s 3ms/step - loss: 0.3436 - accuracy: 0.8730 - val_loss: 0.3307 - val_accuracy: 0.8798\n",
      "Epoch 8/20\n",
      "1500/1500 [==============================] - 3s 2ms/step - loss: 0.3356 - accuracy: 0.8748 - val_loss: 0.3408 - val_accuracy: 0.8792\n",
      "Epoch 9/20\n",
      "1500/1500 [==============================] - 4s 3ms/step - loss: 0.3267 - accuracy: 0.8785 - val_loss: 0.3287 - val_accuracy: 0.8822\n",
      "Epoch 10/20\n",
      "1500/1500 [==============================] - 4s 3ms/step - loss: 0.3168 - accuracy: 0.8835 - val_loss: 0.3222 - val_accuracy: 0.8827\n",
      "Epoch 11/20\n",
      "1500/1500 [==============================] - 4s 3ms/step - loss: 0.3092 - accuracy: 0.8851 - val_loss: 0.3269 - val_accuracy: 0.8811\n",
      "Epoch 12/20\n",
      "1500/1500 [==============================] - 4s 2ms/step - loss: 0.3055 - accuracy: 0.8857 - val_loss: 0.3360 - val_accuracy: 0.8793\n"
     ]
    }
   ],
   "source": [
    "m1 = keras.Sequential()\n",
    "m1.add(keras.layers.Flatten(input_shape=(28,28)))\n",
    "m1.add(keras.layers.Dense(100,activation='relu'))\n",
    "m1.add(keras.layers.Dropout(0.3))\n",
    "m1.add(keras.layers.Dense(10,activation='softmax'))\n",
    "m1.compile(loss='sparse_categorical_crossentropy',optimizer='adam',metrics='accuracy')\n",
    "ck_p = keras.callbacks.ModelCheckpoint('best1_m.h5',save_best_only=True)\n",
    "#keras.callbacks.ModelCheckpoint,save_best_only:최적의 모델을 체크포인트한다\n",
    "e_st = keras.callbacks.EarlyStopping(patience=2,restore_best_weights=True) #EarlyStopping 중간에 멈춘다 (검증점수확인)\n",
    "#patience=n : 연속적으로 성능이 n번동안 오르지 않을때 (변화가 없을때) 멈춘다 -> 멈출었을때 그전의 모델의 값이 최적의 값이 된다?\n",
    "#restore_best_weights=True : 더 좋았던 모델의 형태를 사용\n",
    "hy = m1.fit(t_x,t_y,epochs=20,validation_data=(v_x,v_y),callbacks=[ck_p,e_st])"
   ]
  },
  {
   "cell_type": "code",
   "execution_count": 24,
   "id": "3f41401d",
   "metadata": {},
   "outputs": [
    {
     "name": "stdout",
     "output_type": "stream",
     "text": [
      "375/375 [==============================] - 1s 1ms/step - loss: 0.3222 - accuracy: 0.8827\n"
     ]
    },
    {
     "data": {
      "text/plain": [
       "[0.3221658170223236, 0.8826666474342346]"
      ]
     },
     "execution_count": 24,
     "metadata": {},
     "output_type": "execute_result"
    }
   ],
   "source": [
    "m1.evaluate(v_x,v_y)"
   ]
  },
  {
   "cell_type": "code",
   "execution_count": 25,
   "id": "2cd976fe",
   "metadata": {},
   "outputs": [
    {
     "name": "stdout",
     "output_type": "stream",
     "text": [
      "375/375 [==============================] - 1s 1ms/step - loss: 0.3222 - accuracy: 0.8827\n"
     ]
    },
    {
     "data": {
      "text/plain": [
       "[0.3221658170223236, 0.8826666474342346]"
      ]
     },
     "execution_count": 25,
     "metadata": {},
     "output_type": "execute_result"
    }
   ],
   "source": [
    "m2 = keras.models.load_model('best1_m.h5')\n",
    "m2.evaluate(v_x,v_y)"
   ]
  },
  {
   "cell_type": "code",
   "execution_count": 26,
   "id": "196b42d9",
   "metadata": {},
   "outputs": [],
   "source": [
    "def sig(x):\n",
    "    return 1/(1+np.exp(-x))"
   ]
  },
  {
   "cell_type": "code",
   "execution_count": 32,
   "id": "18d69528",
   "metadata": {},
   "outputs": [
    {
     "data": {
      "text/plain": [
       "(-5.0, 5.0, -0.2, 1.2)"
      ]
     },
     "execution_count": 32,
     "metadata": {},
     "output_type": "execute_result"
    },
    {
     "data": {
      "image/png": "[encoded data removed]",
      "text/plain": [
       "<Figure size 432x288 with 1 Axes>"
      ]
     },
     "metadata": {
      "needs_background": "light"
     },
     "output_type": "display_data"
    }
   ],
   "source": [
    "x=np.linspace(-5,5,200)\n",
    "plt.plot([-5,5],[0,0])\n",
    "plt.plot([-5,5],[1,1])\n",
    "plt.plot([0,0],[-0.2,1.2])\n",
    "plt.plot([-5,5],[-3/4,7/4])\n",
    "plt.plot(x,sig(x))\n",
    "plt.grid(True)\n",
    "plt.axis([-5,5,-0.2,1.2])"
   ]
  }
 ],
 "metadata": {
  "kernelspec": {
   "display_name": "Python 3 (ipykernel)",
   "language": "python",
   "name": "python3"
  },
  "language_info": {
   "codemirror_mode": {
    "name": "ipython",
    "version": 3
   },
   "file_extension": ".py",
   "mimetype": "text/x-python",
   "name": "python",
   "nbconvert_exporter": "python",
   "pygments_lexer": "ipython3",
   "version": "3.9.7"
  }
 },
 "nbformat": 4,
 "nbformat_minor": 5
}
