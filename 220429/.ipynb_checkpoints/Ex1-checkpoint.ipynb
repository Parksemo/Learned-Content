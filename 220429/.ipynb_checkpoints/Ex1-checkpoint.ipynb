{
 "cells": [
  {
   "cell_type": "code",
   "execution_count": 25,
   "id": "42a0df8c",
   "metadata": {},
   "outputs": [
    {
     "data": {
      "text/plain": [
       "(48000, 28, 28)"
      ]
     },
     "execution_count": 25,
     "metadata": {},
     "output_type": "execute_result"
    }
   ],
   "source": [
    "import tensorflow as tf\n",
    "from tensorflow import keras\n",
    "import numpy as np\n",
    "from sklearn.model_selection import train_test_split\n",
    "(t_x,t_y),(tt_x,tt_y) = keras.datasets.fashion_mnist.load_data()\n",
    "s_t_x = t_x/255.0\n",
    "s_tt_x = tt_x/255.0\n",
    "t_x,v_x,t_y,v_y = train_test_split(s_t_x,t_y,test_size=0.2,random_state=42)\n",
    "t_x.shape"
   ]
  },
  {
   "cell_type": "code",
   "execution_count": 2,
   "id": "6bac420e",
   "metadata": {},
   "outputs": [
    {
     "name": "stdout",
     "output_type": "stream",
     "text": [
      "Model: \"sequential\"\n",
      "_________________________________________________________________\n",
      " Layer (type)                Output Shape              Param #   \n",
      "=================================================================\n",
      " flatten (Flatten)           (None, 784)               0         \n",
      "                                                                 \n",
      " hiden (Dense)               (None, 100)               78500     \n",
      "                                                                 \n",
      " output (Dense)              (None, 10)                1010      \n",
      "                                                                 \n",
      "=================================================================\n",
      "Total params: 79,510\n",
      "Trainable params: 79,510\n",
      "Non-trainable params: 0\n",
      "_________________________________________________________________\n"
     ]
    }
   ],
   "source": [
    "model = keras.Sequential()\n",
    "model.add(keras.layers.Flatten(input_shape=(28,28)))\n",
    "model.add(keras.layers.Dense(100,activation='relu',name='hiden'))\n",
    "model.add(keras.layers.Dense(10,activation='softmax',name='output'))\n",
    "model.summary()"
   ]
  },
  {
   "cell_type": "code",
   "execution_count": 3,
   "id": "4e2f6b00",
   "metadata": {
    "scrolled": true
   },
   "outputs": [
    {
     "name": "stdout",
     "output_type": "stream",
     "text": [
      "Epoch 1/5\n",
      "1500/1500 [==============================] - 5s 3ms/step - loss: 0.5300 - accuracy: 0.8134\n",
      "Epoch 2/5\n",
      "1500/1500 [==============================] - 4s 2ms/step - loss: 0.3953 - accuracy: 0.8586\n",
      "Epoch 3/5\n",
      "1500/1500 [==============================] - 4s 2ms/step - loss: 0.3578 - accuracy: 0.8715\n",
      "Epoch 4/5\n",
      "1500/1500 [==============================] - 4s 3ms/step - loss: 0.3366 - accuracy: 0.8790\n",
      "Epoch 5/5\n",
      "1500/1500 [==============================] - 4s 3ms/step - loss: 0.3219 - accuracy: 0.8840\n"
     ]
    },
    {
     "data": {
      "text/plain": [
       "<keras.callbacks.History at 0x23ba2557b20>"
      ]
     },
     "execution_count": 3,
     "metadata": {},
     "output_type": "execute_result"
    }
   ],
   "source": [
    "model.compile(loss='sparse_categorical_crossentropy',metrics='accuracy') #sparse_categorical_crossentropy : 정수형으로된 다중분류를 다룬다.\n",
    "model.fit(t_x,t_y,epochs=5)"
   ]
  },
  {
   "cell_type": "code",
   "execution_count": 4,
   "id": "8db4b54e",
   "metadata": {
    "scrolled": true
   },
   "outputs": [
    {
     "name": "stdout",
     "output_type": "stream",
     "text": [
      "375/375 [==============================] - 1s 2ms/step - loss: 0.3754 - accuracy: 0.8712\n"
     ]
    },
    {
     "data": {
      "text/plain": [
       "[0.3754107654094696, 0.8711666464805603]"
      ]
     },
     "execution_count": 4,
     "metadata": {},
     "output_type": "execute_result"
    }
   ],
   "source": [
    "model.evaluate(v_x,v_y)"
   ]
  },
  {
   "cell_type": "code",
   "execution_count": 5,
   "id": "19ab9cbf",
   "metadata": {},
   "outputs": [],
   "source": [
    "model.compile(optimizer='sgd', loss='sparse_categorical_crossentropy', metrics='accuracy')"
   ]
  },
  {
   "cell_type": "code",
   "execution_count": 6,
   "id": "bede4b15",
   "metadata": {},
   "outputs": [],
   "source": [
    "sgd = keras.optimizers.SGD(learning_rate=0.1)\n",
    "model.compile(optimizer='sgd', loss='sparse_categorical_crossentropy', metrics='accuracy')"
   ]
  },
  {
   "cell_type": "code",
   "execution_count": 7,
   "id": "e47ea7d9",
   "metadata": {},
   "outputs": [],
   "source": [
    "sgd = keras.optimizers.SGD(momentum=0.9, nesterov=True)"
   ]
  },
  {
   "cell_type": "code",
   "execution_count": 8,
   "id": "70c3b85c",
   "metadata": {},
   "outputs": [
    {
     "data": {
      "text/plain": [
       "keras.optimizer_v2.rmsprop.RMSprop"
      ]
     },
     "execution_count": 8,
     "metadata": {},
     "output_type": "execute_result"
    }
   ],
   "source": [
    "keras.optimizers.RMSprop"
   ]
  },
  {
   "cell_type": "code",
   "execution_count": 9,
   "id": "475d5a4c",
   "metadata": {},
   "outputs": [
    {
     "data": {
      "text/plain": [
       "keras.optimizer_v2.adagrad.Adagrad"
      ]
     },
     "execution_count": 9,
     "metadata": {},
     "output_type": "execute_result"
    }
   ],
   "source": [
    "keras.optimizers.Adagrad"
   ]
  },
  {
   "cell_type": "code",
   "execution_count": 10,
   "id": "872c2f96",
   "metadata": {},
   "outputs": [
    {
     "name": "stdout",
     "output_type": "stream",
     "text": [
      "Model: \"sequential\"\n",
      "_________________________________________________________________\n",
      " Layer (type)                Output Shape              Param #   \n",
      "=================================================================\n",
      " flatten (Flatten)           (None, 784)               0         \n",
      "                                                                 \n",
      " hiden (Dense)               (None, 100)               78500     \n",
      "                                                                 \n",
      " output (Dense)              (None, 10)                1010      \n",
      "                                                                 \n",
      "=================================================================\n",
      "Total params: 79,510\n",
      "Trainable params: 79,510\n",
      "Non-trainable params: 0\n",
      "_________________________________________________________________\n"
     ]
    }
   ],
   "source": [
    "model1 = keras.Sequential()\n",
    "model1.add(keras.layers.Flatten(input_shape=(28,28)))\n",
    "model1.add(keras.layers.Dense(100,activation='relu',name='hiden'))\n",
    "model1.add(keras.layers.Dense(10,activation='softmax',name='output'))\n",
    "model.summary()"
   ]
  },
  {
   "cell_type": "code",
   "execution_count": 11,
   "id": "85139c5e",
   "metadata": {},
   "outputs": [
    {
     "name": "stdout",
     "output_type": "stream",
     "text": [
      "Epoch 1/5\n",
      "1500/1500 [==============================] - 4s 2ms/step - loss: 0.5201 - accuracy: 0.8173\n",
      "Epoch 2/5\n",
      "1500/1500 [==============================] - 5s 3ms/step - loss: 0.3927 - accuracy: 0.8594\n",
      "Epoch 3/5\n",
      "1500/1500 [==============================] - 4s 2ms/step - loss: 0.3545 - accuracy: 0.8706\n",
      "Epoch 4/5\n",
      "1500/1500 [==============================] - 3s 2ms/step - loss: 0.3265 - accuracy: 0.8808\n",
      "Epoch 5/5\n",
      "1500/1500 [==============================] - 3s 2ms/step - loss: 0.3051 - accuracy: 0.8879\n"
     ]
    },
    {
     "data": {
      "text/plain": [
       "<keras.callbacks.History at 0x23ba277fc40>"
      ]
     },
     "execution_count": 11,
     "metadata": {},
     "output_type": "execute_result"
    }
   ],
   "source": [
    "model1.compile(optimizer='adam', loss='sparse_categorical_crossentropy',metrics='accuracy')\n",
    "model1.fit(t_x,t_y,epochs=5)"
   ]
  },
  {
   "cell_type": "code",
   "execution_count": 12,
   "id": "99968453",
   "metadata": {},
   "outputs": [
    {
     "name": "stdout",
     "output_type": "stream",
     "text": [
      "375/375 [==============================] - 1s 2ms/step - loss: 0.3754 - accuracy: 0.8712\n",
      "375/375 [==============================] - 1s 2ms/step - loss: 0.3411 - accuracy: 0.8774\n"
     ]
    },
    {
     "data": {
      "text/plain": [
       "([0.3754107654094696, 0.8711666464805603],\n",
       " [0.34106338024139404, 0.8774166703224182])"
      ]
     },
     "execution_count": 12,
     "metadata": {},
     "output_type": "execute_result"
    }
   ],
   "source": [
    "model.evaluate(v_x,v_y), model1.evaluate(v_x,v_y)"
   ]
  },
  {
   "cell_type": "markdown",
   "id": "444c310a",
   "metadata": {},
   "source": [
    "data 확인"
   ]
  },
  {
   "cell_type": "code",
   "execution_count": 13,
   "id": "0a84afb8",
   "metadata": {},
   "outputs": [
    {
     "data": {
      "text/plain": [
       "(48000, 28, 28)"
      ]
     },
     "execution_count": 13,
     "metadata": {},
     "output_type": "execute_result"
    }
   ],
   "source": [
    "t_x.shape"
   ]
  },
  {
   "cell_type": "markdown",
   "id": "6e285bf3",
   "metadata": {},
   "source": [
    "모델생성"
   ]
  },
  {
   "cell_type": "code",
   "execution_count": 14,
   "id": "dcf2d95b",
   "metadata": {},
   "outputs": [
    {
     "name": "stdout",
     "output_type": "stream",
     "text": [
      "Model: \"sequential_2\"\n",
      "_________________________________________________________________\n",
      " Layer (type)                Output Shape              Param #   \n",
      "=================================================================\n",
      " flatten_2 (Flatten)         (None, 784)               0         \n",
      "                                                                 \n",
      " dense (Dense)               (None, 100)               78500     \n",
      "                                                                 \n",
      " dense_1 (Dense)             (None, 300)               30300     \n",
      "                                                                 \n",
      " dense_2 (Dense)             (None, 10)                3010      \n",
      "                                                                 \n",
      "=================================================================\n",
      "Total params: 111,810\n",
      "Trainable params: 111,810\n",
      "Non-trainable params: 0\n",
      "_________________________________________________________________\n"
     ]
    }
   ],
   "source": [
    "m1 = keras.Sequential()\n",
    "m1.add(keras.layers.Flatten(input_shape = (28,28)))\n",
    "m1.add(keras.layers.Dense(100,activation='relu'))\n",
    "m1.add(keras.layers.Dense(300,activation='relu'))\n",
    "m1.add(keras.layers.Dense(10,activation='softmax'))\n",
    "m1.summary()"
   ]
  },
  {
   "cell_type": "code",
   "execution_count": 15,
   "id": "036027f1",
   "metadata": {},
   "outputs": [
    {
     "name": "stdout",
     "output_type": "stream",
     "text": [
      "Epoch 1/30\n",
      "1500/1500 [==============================] - 6s 4ms/step - loss: 0.4979 - accuracy: 0.8193 - val_loss: 0.3772 - val_accuracy: 0.8652\n",
      "Epoch 2/30\n",
      "1500/1500 [==============================] - 5s 3ms/step - loss: 0.3716 - accuracy: 0.8626 - val_loss: 0.3514 - val_accuracy: 0.8716\n",
      "Epoch 3/30\n",
      "1500/1500 [==============================] - 5s 3ms/step - loss: 0.3343 - accuracy: 0.8766 - val_loss: 0.3784 - val_accuracy: 0.8643\n",
      "Epoch 4/30\n",
      "1500/1500 [==============================] - 7s 5ms/step - loss: 0.3086 - accuracy: 0.8861 - val_loss: 0.3720 - val_accuracy: 0.8662\n",
      "Epoch 5/30\n",
      "1500/1500 [==============================] - 5s 3ms/step - loss: 0.2915 - accuracy: 0.8913 - val_loss: 0.3301 - val_accuracy: 0.8813\n",
      "Epoch 6/30\n",
      "1500/1500 [==============================] - 5s 3ms/step - loss: 0.2761 - accuracy: 0.8958 - val_loss: 0.3594 - val_accuracy: 0.8742\n",
      "Epoch 7/30\n",
      "1500/1500 [==============================] - 4s 3ms/step - loss: 0.2641 - accuracy: 0.9012 - val_loss: 0.3401 - val_accuracy: 0.8817\n",
      "Epoch 8/30\n",
      "1500/1500 [==============================] - 4s 3ms/step - loss: 0.2524 - accuracy: 0.9038 - val_loss: 0.3198 - val_accuracy: 0.8867\n",
      "Epoch 9/30\n",
      "1500/1500 [==============================] - 5s 3ms/step - loss: 0.2381 - accuracy: 0.9097 - val_loss: 0.3223 - val_accuracy: 0.8887\n",
      "Epoch 10/30\n",
      "1500/1500 [==============================] - 5s 3ms/step - loss: 0.2337 - accuracy: 0.9104 - val_loss: 0.3403 - val_accuracy: 0.8832\n",
      "Epoch 11/30\n",
      "1500/1500 [==============================] - 4s 3ms/step - loss: 0.2233 - accuracy: 0.9147 - val_loss: 0.3598 - val_accuracy: 0.8813\n",
      "Epoch 12/30\n",
      "1500/1500 [==============================] - 4s 3ms/step - loss: 0.2125 - accuracy: 0.9197 - val_loss: 0.3289 - val_accuracy: 0.8922\n",
      "Epoch 13/30\n",
      "1500/1500 [==============================] - 5s 3ms/step - loss: 0.2064 - accuracy: 0.9211 - val_loss: 0.3560 - val_accuracy: 0.8852\n",
      "Epoch 14/30\n",
      "1500/1500 [==============================] - 6s 4ms/step - loss: 0.1996 - accuracy: 0.9230 - val_loss: 0.3542 - val_accuracy: 0.8865\n",
      "Epoch 15/30\n",
      "1500/1500 [==============================] - 5s 3ms/step - loss: 0.1935 - accuracy: 0.9255 - val_loss: 0.3675 - val_accuracy: 0.8865\n",
      "Epoch 16/30\n",
      "1500/1500 [==============================] - 4s 3ms/step - loss: 0.1844 - accuracy: 0.9290 - val_loss: 0.3634 - val_accuracy: 0.8894\n",
      "Epoch 17/30\n",
      "1500/1500 [==============================] - 4s 3ms/step - loss: 0.1806 - accuracy: 0.9309 - val_loss: 0.3585 - val_accuracy: 0.8865\n",
      "Epoch 18/30\n",
      "1500/1500 [==============================] - 5s 3ms/step - loss: 0.1725 - accuracy: 0.9335 - val_loss: 0.3673 - val_accuracy: 0.8860\n",
      "Epoch 19/30\n",
      "1500/1500 [==============================] - 4s 3ms/step - loss: 0.1708 - accuracy: 0.9339 - val_loss: 0.3909 - val_accuracy: 0.8885\n",
      "Epoch 20/30\n",
      "1500/1500 [==============================] - 4s 3ms/step - loss: 0.1618 - accuracy: 0.9361 - val_loss: 0.3736 - val_accuracy: 0.8868\n",
      "Epoch 21/30\n",
      "1500/1500 [==============================] - 5s 3ms/step - loss: 0.1615 - accuracy: 0.9381 - val_loss: 0.3797 - val_accuracy: 0.8888\n",
      "Epoch 22/30\n",
      "1500/1500 [==============================] - 5s 3ms/step - loss: 0.1537 - accuracy: 0.9404 - val_loss: 0.3834 - val_accuracy: 0.8919\n",
      "Epoch 23/30\n",
      "1500/1500 [==============================] - 4s 3ms/step - loss: 0.1498 - accuracy: 0.9416 - val_loss: 0.4137 - val_accuracy: 0.8865\n",
      "Epoch 24/30\n",
      "1500/1500 [==============================] - 6s 4ms/step - loss: 0.1453 - accuracy: 0.9434 - val_loss: 0.4126 - val_accuracy: 0.8929\n",
      "Epoch 25/30\n",
      "1500/1500 [==============================] - 5s 3ms/step - loss: 0.1409 - accuracy: 0.9447 - val_loss: 0.4232 - val_accuracy: 0.8867\n",
      "Epoch 26/30\n",
      "1500/1500 [==============================] - 5s 3ms/step - loss: 0.1344 - accuracy: 0.9472 - val_loss: 0.4290 - val_accuracy: 0.8892\n",
      "Epoch 27/30\n",
      "1500/1500 [==============================] - 5s 4ms/step - loss: 0.1373 - accuracy: 0.9463 - val_loss: 0.4383 - val_accuracy: 0.8888\n",
      "Epoch 28/30\n",
      "1500/1500 [==============================] - 6s 4ms/step - loss: 0.1278 - accuracy: 0.9503 - val_loss: 0.4537 - val_accuracy: 0.8926\n",
      "Epoch 29/30\n",
      "1500/1500 [==============================] - 5s 4ms/step - loss: 0.1286 - accuracy: 0.9502 - val_loss: 0.4363 - val_accuracy: 0.8953\n",
      "Epoch 30/30\n",
      "1500/1500 [==============================] - 4s 3ms/step - loss: 0.1248 - accuracy: 0.9505 - val_loss: 0.4891 - val_accuracy: 0.8836\n"
     ]
    }
   ],
   "source": [
    "m1.compile(optimizer='adam', loss='sparse_categorical_crossentropy',metrics='accuracy')\n",
    "history = m1.fit(t_x,t_y,epochs=30, validation_data=(v_x,v_y))"
   ]
  },
  {
   "cell_type": "code",
   "execution_count": 16,
   "id": "475442c9",
   "metadata": {},
   "outputs": [
    {
     "data": {
      "text/plain": [
       "{'verbose': 1, 'epochs': 30, 'steps': 1500}"
      ]
     },
     "execution_count": 16,
     "metadata": {},
     "output_type": "execute_result"
    }
   ],
   "source": [
    "history.params"
   ]
  },
  {
   "cell_type": "code",
   "execution_count": 17,
   "id": "104470bf",
   "metadata": {},
   "outputs": [
    {
     "data": {
      "text/plain": [
       "dict_keys(['loss', 'accuracy', 'val_loss', 'val_accuracy'])"
      ]
     },
     "execution_count": 17,
     "metadata": {},
     "output_type": "execute_result"
    }
   ],
   "source": [
    "history.history.keys()"
   ]
  },
  {
   "cell_type": "code",
   "execution_count": 18,
   "id": "c96f23ea",
   "metadata": {},
   "outputs": [
    {
     "data": {
      "image/png": "[encoded data removed]",
      "text/plain": [
       "<Figure size 576x360 with 1 Axes>"
      ]
     },
     "metadata": {
      "needs_background": "light"
     },
     "output_type": "display_data"
    }
   ],
   "source": [
    "import pandas as pd\n",
    "import matplotlib.pyplot as plt\n",
    "pd.DataFrame(history.history).plot(figsize = (8,5))\n",
    "plt.grid(True)\n",
    "plt.gca().set_ylim(0,1)\n",
    "plt.show()"
   ]
  },
  {
   "cell_type": "code",
   "execution_count": 19,
   "id": "c4a3493e",
   "metadata": {},
   "outputs": [
    {
     "name": "stdout",
     "output_type": "stream",
     "text": [
      "Model: \"sequential_3\"\n",
      "_________________________________________________________________\n",
      " Layer (type)                Output Shape              Param #   \n",
      "=================================================================\n",
      " flatten_3 (Flatten)         (None, 784)               0         \n",
      "                                                                 \n",
      " dense_3 (Dense)             (None, 300)               235500    \n",
      "                                                                 \n",
      " dense_4 (Dense)             (None, 100)               30100     \n",
      "                                                                 \n",
      " dense_5 (Dense)             (None, 10)                1010      \n",
      "                                                                 \n",
      "=================================================================\n",
      "Total params: 266,610\n",
      "Trainable params: 266,610\n",
      "Non-trainable params: 0\n",
      "_________________________________________________________________\n"
     ]
    }
   ],
   "source": [
    "m2 = keras.Sequential()\n",
    "m2.add(keras.layers.Flatten(input_shape = (28,28)))\n",
    "m2.add(keras.layers.Dense(300,activation='relu'))\n",
    "m2.add(keras.layers.Dense(100,activation='relu'))\n",
    "m2.add(keras.layers.Dense(10,activation='softmax'))\n",
    "m2.summary()"
   ]
  },
  {
   "cell_type": "code",
   "execution_count": 20,
   "id": "d9130856",
   "metadata": {},
   "outputs": [
    {
     "name": "stdout",
     "output_type": "stream",
     "text": [
      "Epoch 1/20\n",
      "1500/1500 [==============================] - 6s 4ms/step - loss: 0.4956 - accuracy: 0.8211 - val_loss: 0.3982 - val_accuracy: 0.8587\n",
      "Epoch 2/20\n",
      "1500/1500 [==============================] - 6s 4ms/step - loss: 0.3672 - accuracy: 0.8650 - val_loss: 0.3639 - val_accuracy: 0.8674\n",
      "Epoch 3/20\n",
      "1500/1500 [==============================] - 6s 4ms/step - loss: 0.3309 - accuracy: 0.8780 - val_loss: 0.3806 - val_accuracy: 0.8643\n",
      "Epoch 4/20\n",
      "1500/1500 [==============================] - 5s 3ms/step - loss: 0.3054 - accuracy: 0.8859 - val_loss: 0.3602 - val_accuracy: 0.8702\n",
      "Epoch 5/20\n",
      "1500/1500 [==============================] - 4s 3ms/step - loss: 0.2903 - accuracy: 0.8914 - val_loss: 0.3172 - val_accuracy: 0.8865\n",
      "Epoch 6/20\n",
      "1500/1500 [==============================] - 4s 3ms/step - loss: 0.2736 - accuracy: 0.8980 - val_loss: 0.3327 - val_accuracy: 0.8799\n",
      "Epoch 7/20\n",
      "1500/1500 [==============================] - 4s 3ms/step - loss: 0.2608 - accuracy: 0.9013 - val_loss: 0.3194 - val_accuracy: 0.8817\n",
      "Epoch 8/20\n",
      "1500/1500 [==============================] - 5s 3ms/step - loss: 0.2466 - accuracy: 0.9060 - val_loss: 0.3277 - val_accuracy: 0.8867\n",
      "Epoch 9/20\n",
      "1500/1500 [==============================] - 4s 3ms/step - loss: 0.2379 - accuracy: 0.9096 - val_loss: 0.3156 - val_accuracy: 0.8892\n",
      "Epoch 10/20\n",
      "1500/1500 [==============================] - 6s 4ms/step - loss: 0.2287 - accuracy: 0.9139 - val_loss: 0.3336 - val_accuracy: 0.8842\n",
      "Epoch 11/20\n",
      "1500/1500 [==============================] - 6s 4ms/step - loss: 0.2213 - accuracy: 0.9162 - val_loss: 0.3254 - val_accuracy: 0.8878\n",
      "Epoch 12/20\n",
      "1500/1500 [==============================] - 6s 4ms/step - loss: 0.2111 - accuracy: 0.9204 - val_loss: 0.3570 - val_accuracy: 0.8833\n",
      "Epoch 13/20\n",
      "1500/1500 [==============================] - 5s 4ms/step - loss: 0.2048 - accuracy: 0.9217 - val_loss: 0.3387 - val_accuracy: 0.8852\n",
      "Epoch 14/20\n",
      "1500/1500 [==============================] - 5s 3ms/step - loss: 0.2012 - accuracy: 0.9228 - val_loss: 0.3305 - val_accuracy: 0.8857\n",
      "Epoch 15/20\n",
      "1500/1500 [==============================] - 5s 3ms/step - loss: 0.1908 - accuracy: 0.9275 - val_loss: 0.3512 - val_accuracy: 0.8829\n",
      "Epoch 16/20\n",
      "1500/1500 [==============================] - 6s 4ms/step - loss: 0.1831 - accuracy: 0.9299 - val_loss: 0.3738 - val_accuracy: 0.8815\n",
      "Epoch 17/20\n",
      "1500/1500 [==============================] - 5s 4ms/step - loss: 0.1783 - accuracy: 0.9326 - val_loss: 0.3828 - val_accuracy: 0.8833\n",
      "Epoch 18/20\n",
      "1500/1500 [==============================] - 6s 4ms/step - loss: 0.1732 - accuracy: 0.9341 - val_loss: 0.3865 - val_accuracy: 0.8838\n",
      "Epoch 19/20\n",
      "1500/1500 [==============================] - 5s 4ms/step - loss: 0.1685 - accuracy: 0.9349 - val_loss: 0.3485 - val_accuracy: 0.8927\n",
      "Epoch 20/20\n",
      "1500/1500 [==============================] - 6s 4ms/step - loss: 0.1633 - accuracy: 0.9375 - val_loss: 0.3803 - val_accuracy: 0.8898\n"
     ]
    }
   ],
   "source": [
    "m2.compile(optimizer='adam', loss='sparse_categorical_crossentropy',metrics='accuracy')\n",
    "history1 = m2.fit(t_x,t_y,epochs=20, validation_data=(v_x,v_y))"
   ]
  },
  {
   "cell_type": "code",
   "execution_count": 21,
   "id": "db455064",
   "metadata": {},
   "outputs": [
    {
     "data": {
      "text/plain": [
       "(0.0, 1.0)"
      ]
     },
     "execution_count": 21,
     "metadata": {},
     "output_type": "execute_result"
    },
    {
     "data": {
      "image/png": "[encoded data removed]",
      "text/plain": [
       "<Figure size 576x360 with 1 Axes>"
      ]
     },
     "metadata": {
      "needs_background": "light"
     },
     "output_type": "display_data"
    }
   ],
   "source": [
    "pd.DataFrame(history1.history).plot(figsize = (8,5))\n",
    "plt.gca().set_ylim(0,1)"
   ]
  },
  {
   "cell_type": "code",
   "execution_count": 22,
   "id": "0a37c345",
   "metadata": {},
   "outputs": [
    {
     "name": "stdout",
     "output_type": "stream",
     "text": [
      "Model: \"sequential_4\"\n",
      "_________________________________________________________________\n",
      " Layer (type)                Output Shape              Param #   \n",
      "=================================================================\n",
      " flatten_4 (Flatten)         (None, 784)               0         \n",
      "                                                                 \n",
      " dense_6 (Dense)             (None, 300)               235500    \n",
      "                                                                 \n",
      " dense_7 (Dense)             (None, 100)               30100     \n",
      "                                                                 \n",
      " dense_8 (Dense)             (None, 10)                1010      \n",
      "                                                                 \n",
      "=================================================================\n",
      "Total params: 266,610\n",
      "Trainable params: 266,610\n",
      "Non-trainable params: 0\n",
      "_________________________________________________________________\n"
     ]
    }
   ],
   "source": [
    "m3 = keras.Sequential()\n",
    "m3.add(keras.layers.Flatten(input_shape = (28,28)))\n",
    "m3.add(keras.layers.Dense(300,activation='relu'))\n",
    "m3.add(keras.layers.Dense(100,activation='relu'))\n",
    "m3.add(keras.layers.Dense(10,activation='softmax'))\n",
    "m3.summary()"
   ]
  },
  {
   "cell_type": "code",
   "execution_count": 23,
   "id": "e1f338cb",
   "metadata": {},
   "outputs": [
    {
     "name": "stdout",
     "output_type": "stream",
     "text": [
      "Epoch 1/20\n",
      "1500/1500 [==============================] - 6s 4ms/step - loss: 0.7223 - accuracy: 0.7609 - val_loss: 0.5665 - val_accuracy: 0.8054\n",
      "Epoch 2/20\n",
      "1500/1500 [==============================] - 4s 3ms/step - loss: 0.4956 - accuracy: 0.8286 - val_loss: 0.4679 - val_accuracy: 0.8372\n",
      "Epoch 3/20\n",
      "1500/1500 [==============================] - 6s 4ms/step - loss: 0.4488 - accuracy: 0.8427 - val_loss: 0.4347 - val_accuracy: 0.8497\n",
      "Epoch 4/20\n",
      "1500/1500 [==============================] - 6s 4ms/step - loss: 0.4202 - accuracy: 0.8528 - val_loss: 0.4138 - val_accuracy: 0.8553\n",
      "Epoch 5/20\n",
      "1500/1500 [==============================] - 7s 5ms/step - loss: 0.3981 - accuracy: 0.8607 - val_loss: 0.3939 - val_accuracy: 0.8627\n",
      "Epoch 6/20\n",
      "1500/1500 [==============================] - 6s 4ms/step - loss: 0.3813 - accuracy: 0.8666 - val_loss: 0.3927 - val_accuracy: 0.8622\n",
      "Epoch 7/20\n",
      "1500/1500 [==============================] - 5s 3ms/step - loss: 0.3666 - accuracy: 0.8717 - val_loss: 0.3810 - val_accuracy: 0.8662\n",
      "Epoch 8/20\n",
      "1500/1500 [==============================] - 5s 3ms/step - loss: 0.3546 - accuracy: 0.8753 - val_loss: 0.3659 - val_accuracy: 0.8714\n",
      "Epoch 9/20\n",
      "1500/1500 [==============================] - 5s 3ms/step - loss: 0.3442 - accuracy: 0.8794 - val_loss: 0.3735 - val_accuracy: 0.8673\n",
      "Epoch 10/20\n",
      "1500/1500 [==============================] - 5s 3ms/step - loss: 0.3339 - accuracy: 0.8823 - val_loss: 0.3561 - val_accuracy: 0.8752\n",
      "Epoch 11/20\n",
      "1500/1500 [==============================] - 5s 3ms/step - loss: 0.3264 - accuracy: 0.8852 - val_loss: 0.3560 - val_accuracy: 0.8723\n",
      "Epoch 12/20\n",
      "1500/1500 [==============================] - 5s 3ms/step - loss: 0.3189 - accuracy: 0.8861 - val_loss: 0.3617 - val_accuracy: 0.8731\n",
      "Epoch 13/20\n",
      "1500/1500 [==============================] - 5s 3ms/step - loss: 0.3109 - accuracy: 0.8888 - val_loss: 0.3462 - val_accuracy: 0.8765\n",
      "Epoch 14/20\n",
      "1500/1500 [==============================] - 5s 3ms/step - loss: 0.3046 - accuracy: 0.8916 - val_loss: 0.3415 - val_accuracy: 0.8785\n",
      "Epoch 15/20\n",
      "1500/1500 [==============================] - 4s 3ms/step - loss: 0.2964 - accuracy: 0.8944 - val_loss: 0.3394 - val_accuracy: 0.8770\n",
      "Epoch 16/20\n",
      "1500/1500 [==============================] - 4s 3ms/step - loss: 0.2906 - accuracy: 0.8951 - val_loss: 0.3277 - val_accuracy: 0.8837\n",
      "Epoch 17/20\n",
      "1500/1500 [==============================] - 4s 3ms/step - loss: 0.2849 - accuracy: 0.8977 - val_loss: 0.3333 - val_accuracy: 0.8819\n",
      "Epoch 18/20\n",
      "1500/1500 [==============================] - 4s 3ms/step - loss: 0.2793 - accuracy: 0.8992 - val_loss: 0.3419 - val_accuracy: 0.8774\n",
      "Epoch 19/20\n",
      "1500/1500 [==============================] - 4s 3ms/step - loss: 0.2745 - accuracy: 0.9000 - val_loss: 0.3441 - val_accuracy: 0.8788\n",
      "Epoch 20/20\n",
      "1500/1500 [==============================] - 5s 3ms/step - loss: 0.2679 - accuracy: 0.9021 - val_loss: 0.3203 - val_accuracy: 0.8866\n"
     ]
    }
   ],
   "source": [
    "m3.compile(optimizer='sgd', loss='sparse_categorical_crossentropy',metrics='accuracy')\n",
    "history2 = m3.fit(t_x,t_y,epochs=20, validation_data=(v_x,v_y))"
   ]
  },
  {
   "cell_type": "code",
   "execution_count": 24,
   "id": "3b90edc4",
   "metadata": {
    "scrolled": true
   },
   "outputs": [
    {
     "data": {
      "text/plain": [
       "(0.0, 1.0)"
      ]
     },
     "execution_count": 24,
     "metadata": {},
     "output_type": "execute_result"
    },
    {
     "data": {
      "image/png": "[encoded data removed]",
      "text/plain": [
       "<Figure size 576x360 with 1 Axes>"
      ]
     },
     "metadata": {
      "needs_background": "light"
     },
     "output_type": "display_data"
    }
   ],
   "source": [
    "pd.DataFrame(history2.history).plot(figsize = (8,5))\n",
    "plt.gca().set_ylim(0,1)"
   ]
  },
  {
   "cell_type": "code",
   "execution_count": 26,
   "id": "0bd38540",
   "metadata": {},
   "outputs": [
    {
     "name": "stdout",
     "output_type": "stream",
     "text": [
      "313/313 [==============================] - 1s 3ms/step - loss: 0.5315 - accuracy: 0.8816\n"
     ]
    },
    {
     "data": {
      "text/plain": [
       "[0.5315044522285461, 0.881600022315979]"
      ]
     },
     "execution_count": 26,
     "metadata": {},
     "output_type": "execute_result"
    }
   ],
   "source": [
    "m1.evaluate(s_tt_x,tt_y)"
   ]
  },
  {
   "cell_type": "code",
   "execution_count": 27,
   "id": "94114ae2",
   "metadata": {},
   "outputs": [
    {
     "name": "stdout",
     "output_type": "stream",
     "text": [
      "313/313 [==============================] - 1s 3ms/step - loss: 0.4079 - accuracy: 0.8852\n"
     ]
    },
    {
     "data": {
      "text/plain": [
       "[0.4078610837459564, 0.885200023651123]"
      ]
     },
     "execution_count": 27,
     "metadata": {},
     "output_type": "execute_result"
    }
   ],
   "source": [
    "m2.evaluate(s_tt_x,tt_y)"
   ]
  },
  {
   "cell_type": "code",
   "execution_count": 28,
   "id": "2d3cb6b9",
   "metadata": {},
   "outputs": [
    {
     "name": "stdout",
     "output_type": "stream",
     "text": [
      "313/313 [==============================] - 1s 2ms/step - loss: 0.3468 - accuracy: 0.8766\n"
     ]
    },
    {
     "data": {
      "text/plain": [
       "[0.3468291163444519, 0.8766000270843506]"
      ]
     },
     "execution_count": 28,
     "metadata": {},
     "output_type": "execute_result"
    }
   ],
   "source": [
    "m3.evaluate(s_tt_x,tt_y)"
   ]
  }
 ],
 "metadata": {
  "kernelspec": {
   "display_name": "Python 3 (ipykernel)",
   "language": "python",
   "name": "python3"
  },
  "language_info": {
   "codemirror_mode": {
    "name": "ipython",
    "version": 3
   },
   "file_extension": ".py",
   "mimetype": "text/x-python",
   "name": "python",
   "nbconvert_exporter": "python",
   "pygments_lexer": "ipython3",
   "version": "3.9.7"
  }
 },
 "nbformat": 4,
 "nbformat_minor": 5
}
