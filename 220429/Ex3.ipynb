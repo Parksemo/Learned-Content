{
 "cells": [
  {
   "cell_type": "code",
   "execution_count": 1,
   "id": "70655f67",
   "metadata": {},
   "outputs": [
    {
     "data": {
      "text/plain": [
       "(28, 28)"
      ]
     },
     "execution_count": 1,
     "metadata": {},
     "output_type": "execute_result"
    }
   ],
   "source": [
    "import tensorflow as tf\n",
    "from tensorflow import keras\n",
    "import numpy as np\n",
    "import pandas as pd\n",
    "import matplotlib.pyplot as plt\n",
    "from sklearn.model_selection import train_test_split\n",
    "(t_x,t_y),(tt_x,tt_y) = keras.datasets.fashion_mnist.load_data()\n",
    "s_t_x = t_x/255.0\n",
    "s_tt_x = tt_x/255.0\n",
    "t_x,v_x,t_y,v_y = train_test_split(s_t_x,t_y,test_size=0.2,random_state=42)\n",
    "t_x.shape[1:]"
   ]
  },
  {
   "cell_type": "code",
   "execution_count": 2,
   "id": "5093a831",
   "metadata": {},
   "outputs": [],
   "source": [
    "m1 = keras.Sequential()\n",
    "m1.add(keras.layers.Flatten(input_shape = t_x.shape[1:]))\n",
    "m1.add(keras.layers.Dense(100,activation='relu'))\n",
    "m1.add(keras.layers.Dense(300,activation='relu'))\n",
    "m1.add(keras.layers.Dense(10,activation='softmax'))\n",
    "m1.compile(optimizer='sgd',loss='sparse_categorical_crossentropy',metrics='accuracy')"
   ]
  },
  {
   "cell_type": "code",
   "execution_count": 3,
   "id": "c58f68f7",
   "metadata": {},
   "outputs": [
    {
     "name": "stdout",
     "output_type": "stream",
     "text": [
      "Epoch 1/20\n",
      "1500/1500 [==============================] - 5s 3ms/step - loss: 0.8176 - accuracy: 0.7290 - val_loss: 0.5732 - val_accuracy: 0.8015\n",
      "Epoch 2/20\n",
      "1500/1500 [==============================] - 5s 3ms/step - loss: 0.5215 - accuracy: 0.8191 - val_loss: 0.4971 - val_accuracy: 0.8241\n",
      "Epoch 3/20\n",
      "1500/1500 [==============================] - 4s 3ms/step - loss: 0.4707 - accuracy: 0.8343 - val_loss: 0.4589 - val_accuracy: 0.8381\n",
      "Epoch 4/20\n",
      "1500/1500 [==============================] - 4s 3ms/step - loss: 0.4419 - accuracy: 0.8448 - val_loss: 0.4334 - val_accuracy: 0.8462\n",
      "Epoch 5/20\n",
      "1500/1500 [==============================] - 4s 3ms/step - loss: 0.4220 - accuracy: 0.8519 - val_loss: 0.4311 - val_accuracy: 0.8456\n",
      "Epoch 6/20\n",
      "1500/1500 [==============================] - 4s 2ms/step - loss: 0.4043 - accuracy: 0.8584 - val_loss: 0.4043 - val_accuracy: 0.8586\n",
      "Epoch 7/20\n",
      "1500/1500 [==============================] - 4s 3ms/step - loss: 0.3911 - accuracy: 0.8633 - val_loss: 0.3987 - val_accuracy: 0.8596\n",
      "Epoch 8/20\n",
      "1500/1500 [==============================] - 4s 3ms/step - loss: 0.3790 - accuracy: 0.8651 - val_loss: 0.3974 - val_accuracy: 0.8594\n",
      "Epoch 9/20\n",
      "1500/1500 [==============================] - 4s 3ms/step - loss: 0.3669 - accuracy: 0.8694 - val_loss: 0.3892 - val_accuracy: 0.8615\n",
      "Epoch 10/20\n",
      "1500/1500 [==============================] - 3s 2ms/step - loss: 0.3587 - accuracy: 0.8720 - val_loss: 0.3751 - val_accuracy: 0.8671\n",
      "Epoch 11/20\n",
      "1500/1500 [==============================] - 4s 2ms/step - loss: 0.3515 - accuracy: 0.8756 - val_loss: 0.3785 - val_accuracy: 0.8646\n",
      "Epoch 12/20\n",
      "1500/1500 [==============================] - 4s 3ms/step - loss: 0.3429 - accuracy: 0.8780 - val_loss: 0.3683 - val_accuracy: 0.8690\n",
      "Epoch 13/20\n",
      "1500/1500 [==============================] - 4s 3ms/step - loss: 0.3356 - accuracy: 0.8789 - val_loss: 0.3587 - val_accuracy: 0.8708\n",
      "Epoch 14/20\n",
      "1500/1500 [==============================] - 7s 5ms/step - loss: 0.3284 - accuracy: 0.8821 - val_loss: 0.3505 - val_accuracy: 0.8767\n",
      "Epoch 15/20\n",
      "1500/1500 [==============================] - 4s 3ms/step - loss: 0.3234 - accuracy: 0.8837 - val_loss: 0.3666 - val_accuracy: 0.8698\n",
      "Epoch 16/20\n",
      "1500/1500 [==============================] - 4s 2ms/step - loss: 0.3161 - accuracy: 0.8870 - val_loss: 0.3511 - val_accuracy: 0.8758\n",
      "Epoch 17/20\n",
      "1500/1500 [==============================] - 4s 3ms/step - loss: 0.3108 - accuracy: 0.8881 - val_loss: 0.3402 - val_accuracy: 0.8775\n",
      "Epoch 18/20\n",
      "1500/1500 [==============================] - 5s 3ms/step - loss: 0.3050 - accuracy: 0.8903 - val_loss: 0.3420 - val_accuracy: 0.8779\n",
      "Epoch 19/20\n",
      "1500/1500 [==============================] - 5s 3ms/step - loss: 0.3000 - accuracy: 0.8916 - val_loss: 0.3459 - val_accuracy: 0.8739\n",
      "Epoch 20/20\n",
      "1500/1500 [==============================] - 5s 3ms/step - loss: 0.2965 - accuracy: 0.8933 - val_loss: 0.3405 - val_accuracy: 0.8780\n"
     ]
    }
   ],
   "source": [
    "hy = m1.fit(t_x,t_y,epochs=20,validation_data=(v_x,v_y))"
   ]
  },
  {
   "cell_type": "code",
   "execution_count": 4,
   "id": "b8fab0fa",
   "metadata": {
    "scrolled": true
   },
   "outputs": [
    {
     "data": {
      "text/plain": [
       "[<matplotlib.lines.Line2D at 0x16127323e20>]"
      ]
     },
     "execution_count": 4,
     "metadata": {},
     "output_type": "execute_result"
    },
    {
     "data": {
      "image/png": "[encoded data removed]",
      "text/plain": [
       "<Figure size 432x288 with 1 Axes>"
      ]
     },
     "metadata": {
      "needs_background": "light"
     },
     "output_type": "display_data"
    }
   ],
   "source": [
    "plt.plot(hy.history['loss'])\n",
    "plt.plot(hy.history['val_loss'])"
   ]
  },
  {
   "cell_type": "code",
   "execution_count": 5,
   "id": "0cb5e706",
   "metadata": {
    "scrolled": true
   },
   "outputs": [
    {
     "name": "stdout",
     "output_type": "stream",
     "text": [
      "Epoch 1/20\n",
      "1500/1500 [==============================] - 6s 4ms/step - loss: 0.4964 - accuracy: 0.8214 - val_loss: 0.5030 - val_accuracy: 0.7990\n",
      "Epoch 2/20\n",
      "1500/1500 [==============================] - 5s 3ms/step - loss: 0.3720 - accuracy: 0.8633 - val_loss: 0.3465 - val_accuracy: 0.8738\n",
      "Epoch 3/20\n",
      "1500/1500 [==============================] - 6s 4ms/step - loss: 0.3320 - accuracy: 0.8785 - val_loss: 0.3451 - val_accuracy: 0.8767\n",
      "Epoch 4/20\n",
      "1500/1500 [==============================] - 6s 4ms/step - loss: 0.3096 - accuracy: 0.8849 - val_loss: 0.3400 - val_accuracy: 0.8748\n",
      "Epoch 5/20\n",
      "1500/1500 [==============================] - 4s 3ms/step - loss: 0.2917 - accuracy: 0.8913 - val_loss: 0.3282 - val_accuracy: 0.8814\n",
      "Epoch 6/20\n",
      "1500/1500 [==============================] - 5s 3ms/step - loss: 0.2733 - accuracy: 0.8981 - val_loss: 0.3187 - val_accuracy: 0.8862\n",
      "Epoch 7/20\n",
      "1500/1500 [==============================] - 5s 4ms/step - loss: 0.2653 - accuracy: 0.8991 - val_loss: 0.3209 - val_accuracy: 0.8860\n",
      "Epoch 8/20\n",
      "1500/1500 [==============================] - 5s 3ms/step - loss: 0.2517 - accuracy: 0.9048 - val_loss: 0.3177 - val_accuracy: 0.8866\n",
      "Epoch 9/20\n",
      "1500/1500 [==============================] - 4s 3ms/step - loss: 0.2405 - accuracy: 0.9086 - val_loss: 0.3431 - val_accuracy: 0.8801\n",
      "Epoch 10/20\n",
      "1500/1500 [==============================] - 4s 2ms/step - loss: 0.2338 - accuracy: 0.9102 - val_loss: 0.3434 - val_accuracy: 0.8838\n",
      "Epoch 11/20\n",
      "1500/1500 [==============================] - 4s 3ms/step - loss: 0.2230 - accuracy: 0.9150 - val_loss: 0.3313 - val_accuracy: 0.8879\n",
      "Epoch 12/20\n",
      "1500/1500 [==============================] - 5s 3ms/step - loss: 0.2145 - accuracy: 0.9176 - val_loss: 0.3377 - val_accuracy: 0.8895\n",
      "Epoch 13/20\n",
      "1500/1500 [==============================] - 5s 3ms/step - loss: 0.2074 - accuracy: 0.9204 - val_loss: 0.3433 - val_accuracy: 0.8925\n",
      "Epoch 14/20\n",
      "1500/1500 [==============================] - 4s 3ms/step - loss: 0.2015 - accuracy: 0.9227 - val_loss: 0.3421 - val_accuracy: 0.8885\n",
      "Epoch 15/20\n",
      "1500/1500 [==============================] - 4s 3ms/step - loss: 0.1934 - accuracy: 0.9265 - val_loss: 0.3510 - val_accuracy: 0.8874\n",
      "Epoch 16/20\n",
      "1500/1500 [==============================] - 5s 3ms/step - loss: 0.1876 - accuracy: 0.9286 - val_loss: 0.3400 - val_accuracy: 0.8950\n",
      "Epoch 17/20\n",
      "1500/1500 [==============================] - 4s 3ms/step - loss: 0.1791 - accuracy: 0.9304 - val_loss: 0.3368 - val_accuracy: 0.8944\n",
      "Epoch 18/20\n",
      "1500/1500 [==============================] - 4s 3ms/step - loss: 0.1749 - accuracy: 0.9339 - val_loss: 0.3539 - val_accuracy: 0.8917\n",
      "Epoch 19/20\n",
      "1500/1500 [==============================] - 6s 4ms/step - loss: 0.1681 - accuracy: 0.9349 - val_loss: 0.3944 - val_accuracy: 0.8827\n",
      "Epoch 20/20\n",
      "1500/1500 [==============================] - 6s 4ms/step - loss: 0.1625 - accuracy: 0.9365 - val_loss: 0.4156 - val_accuracy: 0.8878\n"
     ]
    },
    {
     "data": {
      "text/plain": [
       "[<matplotlib.lines.Line2D at 0x1612602a5b0>]"
      ]
     },
     "execution_count": 5,
     "metadata": {},
     "output_type": "execute_result"
    },
    {
     "data": {
      "image/png": "[encoded data removed]",
      "text/plain": [
       "<Figure size 432x288 with 1 Axes>"
      ]
     },
     "metadata": {
      "needs_background": "light"
     },
     "output_type": "display_data"
    }
   ],
   "source": [
    "m = keras.Sequential()\n",
    "m.add(keras.layers.Flatten(input_shape = t_x.shape[1:]))\n",
    "m.add(keras.layers.Dense(100,activation='relu'))\n",
    "m.add(keras.layers.Dense(300,activation='relu'))\n",
    "m.add(keras.layers.Dense(10,activation='softmax'))\n",
    "m.compile(optimizer='adam',loss='sparse_categorical_crossentropy',metrics='accuracy')\n",
    "hy = m.fit(t_x,t_y,epochs=20,validation_data=(v_x,v_y))\n",
    "plt.plot(hy.history['loss'])\n",
    "plt.plot(hy.history['val_loss'])"
   ]
  },
  {
   "cell_type": "code",
   "execution_count": 6,
   "id": "f3ed3a02",
   "metadata": {
    "scrolled": false
   },
   "outputs": [
    {
     "name": "stdout",
     "output_type": "stream",
     "text": [
      "Epoch 1/20\n",
      "1500/1500 [==============================] - 6s 4ms/step - loss: 0.5759 - accuracy: 0.7925 - val_loss: 0.4180 - val_accuracy: 0.8455\n",
      "Epoch 2/20\n",
      "1500/1500 [==============================] - 5s 3ms/step - loss: 0.4360 - accuracy: 0.8418 - val_loss: 0.3730 - val_accuracy: 0.8658\n",
      "Epoch 3/20\n",
      "1500/1500 [==============================] - 4s 3ms/step - loss: 0.4026 - accuracy: 0.8530 - val_loss: 0.3665 - val_accuracy: 0.8673\n",
      "Epoch 4/20\n",
      "1500/1500 [==============================] - 4s 2ms/step - loss: 0.3794 - accuracy: 0.8595 - val_loss: 0.3539 - val_accuracy: 0.8715\n",
      "Epoch 5/20\n",
      "1500/1500 [==============================] - 4s 3ms/step - loss: 0.3651 - accuracy: 0.8648 - val_loss: 0.3389 - val_accuracy: 0.8752\n",
      "Epoch 6/20\n",
      "1500/1500 [==============================] - 4s 3ms/step - loss: 0.3530 - accuracy: 0.8694 - val_loss: 0.3461 - val_accuracy: 0.8760\n",
      "Epoch 7/20\n",
      "1500/1500 [==============================] - 4s 3ms/step - loss: 0.3413 - accuracy: 0.8728 - val_loss: 0.3304 - val_accuracy: 0.8783\n",
      "Epoch 8/20\n",
      "1500/1500 [==============================] - 4s 3ms/step - loss: 0.3353 - accuracy: 0.8756 - val_loss: 0.3349 - val_accuracy: 0.8753\n",
      "Epoch 9/20\n",
      "1500/1500 [==============================] - 4s 3ms/step - loss: 0.3258 - accuracy: 0.8780 - val_loss: 0.3390 - val_accuracy: 0.8742\n",
      "Epoch 10/20\n",
      "1500/1500 [==============================] - 5s 3ms/step - loss: 0.3205 - accuracy: 0.8798 - val_loss: 0.3244 - val_accuracy: 0.8803\n",
      "Epoch 11/20\n",
      "1500/1500 [==============================] - 4s 3ms/step - loss: 0.3137 - accuracy: 0.8826 - val_loss: 0.3230 - val_accuracy: 0.8822\n",
      "Epoch 12/20\n",
      "1500/1500 [==============================] - 5s 3ms/step - loss: 0.3079 - accuracy: 0.8850 - val_loss: 0.3224 - val_accuracy: 0.8808\n",
      "Epoch 13/20\n",
      "1500/1500 [==============================] - 6s 4ms/step - loss: 0.3011 - accuracy: 0.8873 - val_loss: 0.3134 - val_accuracy: 0.8854\n",
      "Epoch 14/20\n",
      "1500/1500 [==============================] - 4s 3ms/step - loss: 0.2985 - accuracy: 0.8872 - val_loss: 0.3198 - val_accuracy: 0.8829\n",
      "Epoch 15/20\n",
      "1500/1500 [==============================] - 5s 3ms/step - loss: 0.2934 - accuracy: 0.8903 - val_loss: 0.3143 - val_accuracy: 0.8891\n",
      "Epoch 16/20\n",
      "1500/1500 [==============================] - 5s 3ms/step - loss: 0.2871 - accuracy: 0.8930 - val_loss: 0.3182 - val_accuracy: 0.8853\n",
      "Epoch 17/20\n",
      "1500/1500 [==============================] - 7s 5ms/step - loss: 0.2845 - accuracy: 0.8931 - val_loss: 0.3202 - val_accuracy: 0.8868\n",
      "Epoch 18/20\n",
      "1500/1500 [==============================] - 6s 4ms/step - loss: 0.2801 - accuracy: 0.8954 - val_loss: 0.3144 - val_accuracy: 0.8861\n",
      "Epoch 19/20\n",
      "1500/1500 [==============================] - 5s 3ms/step - loss: 0.2796 - accuracy: 0.8947 - val_loss: 0.3122 - val_accuracy: 0.8873\n",
      "Epoch 20/20\n",
      "1500/1500 [==============================] - 6s 4ms/step - loss: 0.2792 - accuracy: 0.8951 - val_loss: 0.3108 - val_accuracy: 0.8890\n"
     ]
    },
    {
     "data": {
      "text/plain": [
       "[<matplotlib.lines.Line2D at 0x1617cf71910>]"
      ]
     },
     "execution_count": 6,
     "metadata": {},
     "output_type": "execute_result"
    },
    {
     "data": {
      "image/png": "[encoded data removed]",
      "text/plain": [
       "<Figure size 432x288 with 1 Axes>"
      ]
     },
     "metadata": {
      "needs_background": "light"
     },
     "output_type": "display_data"
    }
   ],
   "source": [
    "m = keras.Sequential()\n",
    "m.add(keras.layers.Flatten(input_shape = t_x.shape[1:]))\n",
    "m.add(keras.layers.Dense(100,activation='relu'))\n",
    "m.add(keras.layers.Dropout(0.3)) #Dropout 뉴런에 구멍을 내서 몇개를 제외시켜서 오버피팅을 해결\n",
    "m.add(keras.layers.Dense(300,activation='relu'))\n",
    "m.add(keras.layers.Dense(10,activation='softmax'))\n",
    "m.compile(optimizer='adam',loss='sparse_categorical_crossentropy',metrics='accuracy')\n",
    "hy = m.fit(t_x,t_y,epochs=20,validation_data=(v_x,v_y))\n",
    "plt.plot(hy.history['loss'])\n",
    "plt.plot(hy.history['val_loss'])"
   ]
  },
  {
   "cell_type": "code",
   "execution_count": 10,
   "id": "4e737e8c",
   "metadata": {},
   "outputs": [
    {
     "name": "stdout",
     "output_type": "stream",
     "text": [
      "1500/1500 [==============================] - 3s 2ms/step - loss: 0.2183 - accuracy: 0.9187\n"
     ]
    },
    {
     "data": {
      "text/plain": [
       "[0.21831680834293365, 0.918708324432373]"
      ]
     },
     "execution_count": 10,
     "metadata": {},
     "output_type": "execute_result"
    }
   ],
   "source": [
    "m.evaluate(t_x,t_y)"
   ]
  },
  {
   "cell_type": "markdown",
   "id": "bc80e69e",
   "metadata": {},
   "source": [
    "m.weights"
   ]
  },
  {
   "cell_type": "code",
   "execution_count": 20,
   "id": "56570c36",
   "metadata": {},
   "outputs": [],
   "source": [
    "m.save_weights('m_1_w.h5') #저장하기"
   ]
  },
  {
   "cell_type": "code",
   "execution_count": 15,
   "id": "db332e22",
   "metadata": {},
   "outputs": [],
   "source": [
    "m.save('m1.h5')"
   ]
  },
  {
   "cell_type": "code",
   "execution_count": 16,
   "id": "948d4edc",
   "metadata": {},
   "outputs": [
    {
     "name": "stdout",
     "output_type": "stream",
     "text": [
      "1500/1500 [==============================] - 3s 2ms/step - loss: 2.3108 - accuracy: 0.1696\n"
     ]
    },
    {
     "data": {
      "text/plain": [
       "[2.31080961227417, 0.16962499916553497]"
      ]
     },
     "execution_count": 16,
     "metadata": {},
     "output_type": "execute_result"
    }
   ],
   "source": [
    "m1 = keras.Sequential()\n",
    "m1.add(keras.layers.Flatten(input_shape = t_x.shape[1:]))\n",
    "m1.add(keras.layers.Dense(100,activation='relu'))\n",
    "m1.add(keras.layers.Dropout(0.3))\n",
    "m1.add(keras.layers.Dense(300,activation='relu'))\n",
    "m1.add(keras.layers.Dense(10,activation='softmax'))\n",
    "m1.compile(optimizer='adam',loss='sparse_categorical_crossentropy',metrics='accuracy')\n",
    "m1.evaluate(t_x,t_y)"
   ]
  },
  {
   "cell_type": "code",
   "execution_count": 21,
   "id": "020251e8",
   "metadata": {},
   "outputs": [],
   "source": [
    "m1.load_weights('m_1_w.h5') #불러오기"
   ]
  },
  {
   "cell_type": "code",
   "execution_count": 22,
   "id": "3511d516",
   "metadata": {},
   "outputs": [
    {
     "name": "stdout",
     "output_type": "stream",
     "text": [
      "1500/1500 [==============================] - 4s 2ms/step - loss: 0.2183 - accuracy: 0.9187\n"
     ]
    },
    {
     "data": {
      "text/plain": [
       "[0.21831680834293365, 0.918708324432373]"
      ]
     },
     "execution_count": 22,
     "metadata": {},
     "output_type": "execute_result"
    }
   ],
   "source": [
    "m1.evaluate(t_x,t_y)"
   ]
  },
  {
   "cell_type": "code",
   "execution_count": 24,
   "id": "dd5350c1",
   "metadata": {},
   "outputs": [
    {
     "name": "stdout",
     "output_type": "stream",
     "text": [
      "1500/1500 [==============================] - 3s 2ms/step - loss: 0.2183 - accuracy: 0.9187\n"
     ]
    },
    {
     "data": {
      "text/plain": [
       "[0.21831680834293365, 0.918708324432373]"
      ]
     },
     "execution_count": 24,
     "metadata": {},
     "output_type": "execute_result"
    }
   ],
   "source": [
    "m2 = keras.models.load_model('m1.h5')\n",
    "m2.evaluate(t_x,t_y)"
   ]
  }
 ],
 "metadata": {
  "kernelspec": {
   "display_name": "Python 3 (ipykernel)",
   "language": "python",
   "name": "python3"
  },
  "language_info": {
   "codemirror_mode": {
    "name": "ipython",
    "version": 3
   },
   "file_extension": ".py",
   "mimetype": "text/x-python",
   "name": "python",
   "nbconvert_exporter": "python",
   "pygments_lexer": "ipython3",
   "version": "3.9.7"
  }
 },
 "nbformat": 4,
 "nbformat_minor": 5
}
