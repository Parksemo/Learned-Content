{
 "cells": [
  {
   "cell_type": "code",
   "execution_count": 1,
   "metadata": {},
   "outputs": [
    {
     "data": {
      "text/plain": [
       "'C:\\\\Users\\\\user\\\\Desktop\\\\python_p\\\\220524'"
      ]
     },
     "execution_count": 1,
     "metadata": {},
     "output_type": "execute_result"
    }
   ],
   "source": [
    "pwd"
   ]
  },
  {
   "cell_type": "code",
   "execution_count": 2,
   "metadata": {},
   "outputs": [
    {
     "name": "stdout",
     "output_type": "stream",
     "text": [
      "Collecting chromedriver_autoinstaller\n",
      "  Downloading chromedriver_autoinstaller-0.3.1-py3-none-any.whl (6.3 kB)\n",
      "Installing collected packages: chromedriver-autoinstaller\n",
      "Successfully installed chromedriver-autoinstaller-0.3.1\n"
     ]
    }
   ],
   "source": [
    "#!pip install chromedriver_autoinstaller"
   ]
  },
  {
   "cell_type": "code",
   "execution_count": 3,
   "metadata": {
    "id": "855Mo76s-kvl"
   },
   "outputs": [],
   "source": [
    "# 네이버에서 검색어 입력받아 검색 한 후 블로그 메뉴를 선택하고\n",
    "# 오른쪽에 있는 검색옵션 버튼을 눌러서\n",
    "# 정렬 방식과 기간을 입력하기\n",
    "\n",
    "#Step 0. 필요한 모듈과 라이브러리를 로딩합니다.\n",
    "import sys # 시스템\n",
    "import os  # 시스템\n",
    "\n",
    "import pandas as pd  # 판다스 : 데이터분석 라이브러리\n",
    "import numpy as np   # 넘파이 : 숫자, 행렬 데이터 라이브러리\n",
    "\n",
    "from bs4 import BeautifulSoup    # html 데이터를 전처리\n",
    "from selenium import webdriver   # 웹 브라우저 자동화\n",
    "from selenium.webdriver.common.keys import Keys\n",
    "import chromedriver_autoinstaller\n",
    "\n",
    "import time    # 서버와 통신할 때 중간중간 시간 지연. 보통은 1초\n",
    "from tqdm import tqdm_notebook   # for문 돌릴 때 진행상황을 %게이지로 알려준다.\n",
    "\n",
    "# 워닝 무시\n",
    "import warnings\n",
    "warnings.filterwarnings('ignore')"
   ]
  },
  {
   "cell_type": "code",
   "execution_count": 4,
   "metadata": {
    "id": "n8Lxk6vh-kvn",
    "outputId": "69ae7a9d-8942-49d3-f943-63eb1f8e7569"
   },
   "outputs": [
    {
     "name": "stdout",
     "output_type": "stream",
     "text": [
      "Python 3.9.7\n"
     ]
    }
   ],
   "source": [
    "# python 버전 확인\n",
    "!python --version"
   ]
  },
  {
   "cell_type": "code",
   "execution_count": 5,
   "metadata": {
    "id": "Vn8wKGA8-kvo",
    "outputId": "da4b2b84-4fd6-4730-fc49-8b24a87623d4"
   },
   "outputs": [
    {
     "data": {
      "text/plain": [
       "'1.3.4'"
      ]
     },
     "execution_count": 5,
     "metadata": {},
     "output_type": "execute_result"
    }
   ],
   "source": [
    "# 판다스 버전 확인\n",
    "pd.__version__"
   ]
  },
  {
   "cell_type": "code",
   "execution_count": 4,
   "metadata": {},
   "outputs": [],
   "source": [
    "# !pip install selenium"
   ]
  },
  {
   "cell_type": "code",
   "execution_count": 6,
   "metadata": {
    "id": "CNdy9c7U-kvo",
    "outputId": "38d4d3b7-0b1a-46a4-b2fc-6a4e2d79a399"
   },
   "outputs": [
    {
     "name": "stdout",
     "output_type": "stream",
     "text": [
      "1.크롤링할 키워드는 무엇입니까?: 역삼 맛집\n"
     ]
    }
   ],
   "source": [
    "# 검색어, 검색 기간 정의\n",
    "query_txt = input('1.크롤링할 키워드는 무엇입니까?: ')"
   ]
  },
  {
   "cell_type": "code",
   "execution_count": 7,
   "metadata": {},
   "outputs": [
    {
     "data": {
      "text/plain": [
       "'역삼 맛집'"
      ]
     },
     "execution_count": 7,
     "metadata": {},
     "output_type": "execute_result"
    }
   ],
   "source": [
    "query_txt"
   ]
  },
  {
   "cell_type": "markdown",
   "metadata": {
    "id": "MniuiSeb-kvp"
   },
   "source": [
    "# 1. 크롤링할 블로그 url 수집하기"
   ]
  },
  {
   "cell_type": "code",
   "execution_count": 8,
   "metadata": {},
   "outputs": [
    {
     "data": {
      "text/plain": [
       "'C:\\\\Users\\\\user\\\\Desktop\\\\python_p\\\\220524'"
      ]
     },
     "execution_count": 8,
     "metadata": {},
     "output_type": "execute_result"
    }
   ],
   "source": [
    "pwd"
   ]
  },
  {
   "cell_type": "code",
   "execution_count": 10,
   "metadata": {},
   "outputs": [],
   "source": [
    "# !pip install selenium"
   ]
  },
  {
   "cell_type": "code",
   "execution_count": 95,
   "metadata": {
    "code_folding": [],
    "colab": {
     "base_uri": "https://localhost:8080/",
     "height": 239
    },
    "executionInfo": {
     "elapsed": 5,
     "status": "error",
     "timestamp": 1622793307717,
     "user": {
      "displayName": "Hyeok Lee",
      "photoUrl": "",
      "userId": "09184002132621914803"
     },
     "user_tz": -540
    },
    "id": "buplEXzx-kvq",
    "outputId": "11751daa-2f59-4a1d-d6a7-ca9282d20c33"
   },
   "outputs": [],
   "source": [
    "# Step 1. 크롬 웹브라우저 실행\n",
    "# pip install chromedriver_autoinstaller\n",
    "import chromedriver_autoinstaller\n",
    "chrome_path = chromedriver_autoinstaller.install()\n",
    "driver = webdriver.Chrome(chrome_path)\n",
    "\n",
    "# 사이트 주소는 네이버\n",
    "driver.get('http://www.naver.com')\n",
    "time.sleep(2)  # 2초간 정지"
   ]
  },
  {
   "cell_type": "code",
   "execution_count": 96,
   "metadata": {
    "code_folding": [],
    "id": "uiwhXvob-kvq"
   },
   "outputs": [],
   "source": [
    "# Step 2. 네이버 검색창에 \"검색어\" 검색\n",
    "element = driver.find_element_by_id(\"query\")\n",
    "element.send_keys(query_txt)  # query_txt는 위에서 입력한 키워드\n",
    "element.submit()\n",
    "time.sleep(1)"
   ]
  },
  {
   "cell_type": "code",
   "execution_count": 97,
   "metadata": {
    "code_folding": [],
    "id": "uiwhXvob-kvq"
   },
   "outputs": [],
   "source": [
    "# 'VIEW' 클릭\n",
    "driver.find_element_by_link_text(\"VIEW\").click( )\n",
    "time.sleep(1)"
   ]
  },
  {
   "cell_type": "code",
   "execution_count": 98,
   "metadata": {
    "code_folding": [],
    "id": "uiwhXvob-kvq"
   },
   "outputs": [],
   "source": [
    "# '블로그' 클릭\n",
    "driver.find_element_by_link_text(\"블로그\").click( )\n",
    "time.sleep(1)\n",
    "\n",
    "# '옵션' 클릭\n",
    "driver.find_element_by_link_text(\"옵션\").click( )\n",
    "time.sleep(1)"
   ]
  },
  {
   "cell_type": "code",
   "execution_count": 99,
   "metadata": {
    "code_folding": [],
    "id": "X537FPoE-kvq",
    "outputId": "2e7df665-1fd7-4fd0-dcc9-65b6a12c7a6d"
   },
   "outputs": [
    {
     "name": "stdout",
     "output_type": "stream",
     "text": [
      "전체\n",
      "블로그\n",
      "카페\n",
      "관련도순\n",
      "최신순\n",
      "전체\n",
      "1시간\n",
      "1일\n",
      "1주\n",
      "1개월\n",
      "3개월\n",
      "6개월\n",
      "1년\n",
      "직접입력옵션펼치기\n"
     ]
    }
   ],
   "source": [
    "# 검색옵션 확인\n",
    "item_li = driver.find_elements_by_css_selector('.option .txt')\n",
    "\n",
    "for i in range(0, len(item_li)):\n",
    "    print(item_li[i].text)"
   ]
  },
  {
   "cell_type": "code",
   "execution_count": 100,
   "metadata": {
    "id": "YNdHtrki-kvr",
    "outputId": "e7fde35f-3b2b-4cde-a4f6-006975ff383c"
   },
   "outputs": [
    {
     "name": "stdout",
     "output_type": "stream",
     "text": [
      "3개월\n"
     ]
    }
   ],
   "source": [
    "# 검색기간 '3개월' 클릭\n",
    "print(item_li[10].text)"
   ]
  },
  {
   "cell_type": "code",
   "execution_count": 101,
   "metadata": {
    "id": "YNdHtrki-kvr",
    "outputId": "e7fde35f-3b2b-4cde-a4f6-006975ff383c",
    "scrolled": true
   },
   "outputs": [],
   "source": [
    "item_li[10].click()"
   ]
  },
  {
   "cell_type": "code",
   "execution_count": 102,
   "metadata": {
    "id": "OyFhrsrA-kvr"
   },
   "outputs": [],
   "source": [
    "# 스크롤 다운\n",
    "# driver.execute_script(\"window.scrollTo(0, 500)\")\n",
    "# time.sleep(2)\n",
    "\n",
    "# 스크롤을 밑으로 내려주는 함수\n",
    "def scroll_down(driver):\n",
    "    driver.execute_script(\"window.scrollTo(0, 99999999)\")\n",
    "    time.sleep(1)\n",
    "\n",
    "# n: 스크롤할 횟수 설정\n",
    "n = 5  # 스크롤 1번 당 글 30개씩 화면에 보여짐\n",
    "i = 0\n",
    "while i < n: # 이 조건이 만족되는 동안 반복 실행\n",
    "    scroll_down(driver) # 스크롤 다운\n",
    "    i = i+1"
   ]
  },
  {
   "cell_type": "code",
   "execution_count": 52,
   "metadata": {
    "id": "35cdGv2g-kvr",
    "outputId": "b04e2570-7061-4bc9-fdaf-d0862d6d2e7e"
   },
   "outputs": [
    {
     "data": {
      "text/plain": [
       "<selenium.webdriver.remote.webelement.WebElement (session=\"1ce13f53709b4abd1104d34f135b3383\", element=\"c0cecbf6-292b-4349-92c4-cc65a24885a5\")>"
      ]
     },
     "execution_count": 52,
     "metadata": {},
     "output_type": "execute_result"
    }
   ],
   "source": [
    "# 블로그 글 url들 수집\n",
    "url_list = []\n",
    "title_list = []\n",
    "\n",
    "# URL_raw 크롤링 시작\n",
    "articles = \".api_txt_lines.total_tit\"\n",
    "article_raw = driver.find_elements_by_css_selector(articles)\n",
    "article_raw[0]"
   ]
  },
  {
   "cell_type": "code",
   "execution_count": 53,
   "metadata": {
    "id": "lS4BWdhY-kvr",
    "outputId": "325f828f-c25d-46e4-89d2-df3cdf39dc3d"
   },
   "outputs": [
    {
     "data": {
      "text/plain": [
       "'https://blog.naver.com/qufzhd12/222703896742'"
      ]
     },
     "execution_count": 53,
     "metadata": {},
     "output_type": "execute_result"
    }
   ],
   "source": [
    "article_raw[0].get_attribute('href')"
   ]
  },
  {
   "cell_type": "code",
   "execution_count": 54,
   "metadata": {
    "id": "c4oJ0A0S-kvs",
    "outputId": "bd3015c2-0b1e-472e-f2a5-1df89f81cf67",
    "scrolled": true
   },
   "outputs": [
    {
     "name": "stdout",
     "output_type": "stream",
     "text": [
      "강남 역삼 맛집 나이티지 장작구이 치킨에 반한 곳\n",
      "[역삼] 모도우 강남N점 : 역삼 맛집 프라이빗 룸식당에서 한우...\n",
      "역삼맛집 + 수제버거 캐스터네츠 메뉴 꿀팁 강남N타워\n",
      "[역삼역 맛집] 캐스터네츠 강남N점 - 강남 수제버거 맛집\n",
      "역삼역 맛집 [더뭉티기] 불금에 안성맞춤\n",
      "[역삼역맛집]이영자 전참시 맛집 차돌삼합진대감역삼점 솔직후기\n",
      "역삼 맛집 수제버거가 맛있었던 캐스터네츠 CASTANETS\n",
      "[역삼동] 모도우 - 프라이빗하니 모임하기 좋은 역삼 맛집\n",
      "역삼 맛집 타코벨신메뉴 멕시칸 브레드 타코 먹어봐요!\n",
      "역삼 맛집 강남 룸식당 모도우 디너\n",
      "역삼 맛집으로 추천하는 강남 수제버거 - 캐스터네츠\n",
      "강남 역삼 맛집 파스타 데이트코스 나이티지 로맨틱해\n",
      "서울 수제버거 맛집 역삼 맛집 캐스터네츠 인생버거 등극\n",
      "역삼맛집 짬뽕지존 지존짬뽕 먹었어요\n",
      "강남 수제버거 역삼 맛집 캐스터네츠 강남N점\n",
      "[역삼 맛집]프라이빗 룸식당 한우 찐맛집 모도우 강남N점\n",
      "강남 룸식당 강남 한우맛집 역삼 맛집 강남 회식하기 좋은...\n",
      "서울 강남, 역삼 수제버거 맛집_새로 오픈한 캐스터네츠 강남N점\n",
      "숙성 돼지고기 맛집 룸 방문후기, 역삼 돝고기506\n",
      "역삼역샐러드 마치래빗 강남비건맛집\n",
      "역삼 맛집 신동궁감자탕뼈숯불구이\n",
      "[역삼맛집]역삼동삼겹살 화덕고깃간역삼본점\n",
      "다시 간 이영자 역삼동맛집 돝고기506-역삼역 회식\n",
      "역삼 맛집 정갈했던 모도우 강남\n",
      "역삼역 샐러드 맛집 포케 맛있는 샐러드타임즈\n",
      "차돌삼합 맛집 - 역삼 진대감\n",
      "강남 수제버거 역삼 맛집 캐스터네츠 강남N점\n",
      "역삼 맛집 모도우 한우 요리를 즐기다\n",
      "[역삼 맛집] 강남 수제버거 캐스터네츠 강남N점 후기\n",
      "[강남/역삼] 프라이빗한 강남 룸식당 역삼맛집 모도우 강남N점\n",
      "역삼 센터필드 맛집 대게배달 헬로크랩\n",
      "역삼 맛집 모도우 강남N점 디너B코스 한우 냠냠\n",
      "강남 수제버거 캐스터네츠 강남N점 역삼 맛집이야\n",
      "역삼디저트 맛집 <빠띠스리크로스비> ::네추럴와인샵...\n",
      "강남 수제버거 역삼 맛집 캐스터네츠 강남N점!\n",
      "역삼 점심 맛집 한번 오면 무조건 반해\n",
      "서울 역삼 수제버거 맛집 캐스터네츠 강남N점\n",
      "역삼소고기맛집 '라비옥' 살살 녹았던 눈꽃진갈비로스구이\n",
      "역삼 맛집 모도우 삼성점 디너코스방문후기\n",
      "역삼 냉면 맛집 - 평가옥 평양냉면 추천\n",
      "맛있는 서울 데이트 코스 역삼맛집\n",
      "역삼 맛집 강남 수제버거 캐스터네츠 강남N점\n",
      "역삼 맛집 강강술래 회식하기 좋고 가족식사 추천이예요!\n",
      "역삼 맛집으로 소문난 강남 수제버거, 캐스터네츠 강남N점\n",
      "역삼맛집, 부산아지매국밥 먹고 유사나 본사 로컬 다녀왔어요\n",
      "역삼역 맛집 / 소갈비구이 우륵\n",
      "[역삼,강남]강남 한우맛집 강남 룸식당 추천' 모도우 강남N점 '\n",
      "[역삼역] 강남 수제버거 맛집 캐스터네츠 강남n점 저녁식사로...\n",
      "역삼 직장인 점심 맛집 투어 3탄 고갯마루 닭볶음탕\n",
      "강남 수제버거 캐스터네츠 역삼 맛집일세\n",
      "[신라스테이 역삼 맛집]헬로크랩 강남점 랍스터 대게...\n",
      "역삼 맛집ㅣ캐쥬얼한 강남 수제버거 캐스터네츠\n",
      "역삼 맛집 정갈하고 든든해서 좋은 솥밥\n",
      "역삼 맛집/ 강남 맛집 :: 모도우 강남N점\n",
      "[역삼 맛집] 점심으로 혼밥하기에도 좋은 원조감자탕 일미집...\n",
      "역삼역 고기집 - 냉삼 키조개삼합 맛집 랭돈\n",
      "어린이날 생일기념 역삼맛집 모도우\n",
      "역삼역 맛집 역삼 맛집 바게트케이 바게트K 바게트 맛집\n",
      "역삼 맛집 캐스터네츠 강남N점 :: JMT 강남 수제버거\n",
      "고퀄리티 수제버거 역삼 맛집 \"캐스터네츠\" 강남N점\n",
      "강남 스페인요리 제대로 맛볼 수 있는 역삼 맛집 트라가 역삼점\n",
      "역삼역 맛집이라고 하기 조금 어려운 누들톡에서...\n",
      "강남맛집 테이블스 역삼베이커리 추천\n",
      "역삼동 맛집 역삼역 고기집 추천 세겹\n",
      "ღ캐스터네츠 강남N점_강남 수제버거 맛집 / 역삼 맛집ღ\n",
      "309.[역삼] 스페인 음식점 트라가 역삼역맛집 으로\n",
      "강남 수제버거 서울 역삼 맛집 캐스터네츠 강남N점 새로운...\n",
      "역삼 샐러드 맛집, 든든하고 맛있는 샐러드 타임즈\n",
      "만족스런 강남 역삼역 맛집 소고기 코스요리\n",
      "[역삼역맛집]갈비탕맛집 갈비다움 매운갈비찜도 있어요\n",
      "역삼 맛집/선릉역 양대창맛집하면 별양집이죠~ 몇년째 찾는...\n",
      "강남 수제버거 / 역삼 맛집 캐스터네츠 다녀옴!\n",
      "역삼역 돈육지존 이영자맛집 수제 뼈삼겹살\n",
      "역삼역 맛집 / 더뭉티기 : 뭉티기(小) 선지해장국\n",
      "⭐강남ㅣ역삼 맛집 <밥밥디라라 역삼본점> 방문 후기⭐\n",
      "[역삼동맛집]역삼삼겹살맛집 두껍삼 소문만큼 맛나네요\n",
      "[강남역 맛집]역삼역 고기집 소갈비 전문점 우륵\n",
      "역삼역맛집 역삼냉삼맛집 ‘대파집’/다킷리스트_D's...\n",
      "[ 역삼 런치] 워커힐호텔출신... 선릉스키야키맛집 우미돈\n",
      "비진도 해물뚝배기 :: 아는 사람만 아는 역삼 맛집 in 역삼역\n",
      "[강남 수제버거/역삼 맛집] 캐스터네츠 강남N점\n",
      "역삼 맛집 싸다김밥에서 점심으로 해장하고 온 후기\n",
      "역삼맛집 고갯마루 닭볶음탕 볶음밥까지\n",
      "역삼에서 만난 꼬막비빔밥 맛집! 강릉 엄지네 꼬막집\n",
      "역삼 맛집 라비옥에서 갈비 덮밥 점심으로 먹은 찐후기\n",
      "강남 수제버거는 역삼 맛집 캐스터네츠 강남N점에서!\n",
      "[파크루안/역삼] 깔끔한 코스요리가 훌륭한 중식맛집\n",
      "유사나 본사 로컬 방문기 (feat. 역삼맛집, 이도곰탕)\n",
      "[ 역삼 맛집 ] 강남 수제버거 캐스터네츠 강남N점\n",
      "역삼맛집 맘스터치 모코코 생일파티세트 먹고 피규어 3종 다...\n",
      "역삼골프피티 RF트레이닝스튜디오 (역삼맛집 바게트k...\n",
      "강남역 맛집 서울 강남 주말 데이트 추천 역삼역 맛집 핫플!\n",
      "[나이티지] 강남 역삼 맛집 | 강남역 맛집 | 강남역 데이트...\n",
      "강남 역삼 맛집 / 스키야키 맛집 진가와 스키야끼 우동 나베 정식\n",
      "역삼카페 '카페드보네르' 역삼디저트 맛집\n",
      "역삼 갈비맛집 [역삼갈비] 갈비 먹고싶어 일부러 찾아간...\n",
      "역삼맛집 - 이탈리안레스토랑 브런치 알타쿠치나 by 녁\n",
      "[대우부대찌개 강남본점/역삼역] 수요미식회 부대찌개 맛집\n",
      "[역삼역 맛집] 역삼역 샐러드 혼밥 맛집 추천! 건강한 점심 시간...\n",
      "역삼 맛집 갈비다움, 점심으로 깔끔하고 맛있는 갈비탕\n",
      "와플칸 역삼점 : 강남 역삼 디저트 맛집 추천\n",
      "[역삼역맛집]시스터후드 송추가마골인어반강남점 포스코타워...\n",
      "역삼 맛집 캐스터네츠에서 강남 수제버거 먹기\n",
      "역삼/강남 브런치 맛집 무슈벤자민 서울 후기\n",
      "[중식당 싱카이/역삼] 깔끔한 중식 맛집\n",
      "역삼역 맛집 <진가와> 한국본점, 분위기 좋은 역삼역 이자카야\n",
      "역삼역 맛집 지아니스나폴리 화덕피자 추천 주차\n",
      "[역삼 맛집] 강남 한우 맛집 모도우\n",
      "역삼맛집, 쿠팡이츠로 광장시장 맛집을 강남에서! '진주육회'\n",
      "역삼역 삼겹살 맛집 돝고기 506(★★★★☆)\n",
      "역삼 맛집 : 떡군이네 떡볶이 로제떡볶이가 짱 맛있다\n",
      "[역삼맛집] '갈비삼대' 역삼역 돼지갈비맛집. 한자리에서 오래...\n",
      "수제버거 캐스터네츠 강남N점 특별한 치킨 꽈리버거 역삼 맛집\n",
      "강남 수제버거 캐스터네츠 강남N점 역삼 맛집 방문 후기\n",
      "220415 서울 수제버거 맛집 역삼 맛집 캐스터네츠 버거 강남n점\n",
      "역삼맛집 / 강남 수제버거 / 캐스터네츠 강남N점\n",
      "역삼역 브런치 맛집 카페 413 프로젝트\n",
      "강남 역삼역맛집, 수제버거의 끝판왕 육즙팡팡 터지는...\n",
      "[역삼 점심] 돼지고기 김치찌개 맛집, 장호왕곱창!\n",
      "강남 수제버거 : 캐스터네츠 강남N점, 역삼 맛집\n",
      "[역삼 맛집] 만땅스시 역삼점 내돈내산\n",
      "[강남역,역삼역] 소고기 맛집, 데이트 장소 추천 ‘서울로인’...\n",
      "역삼역 해산물 맛집 비진도해물뚝배기\n",
      "[역삼 맛집 추천] 프라이빗하고 편안한 한식 파인다이닝...\n",
      "서울 수제버거 맛집 역삼 맛집 캐스터네츠 강남N점 -쉑쉑말고...\n",
      "타코벨신메뉴 출시! 타코벨 역삼맛집 맵시칸!\n",
      "서울 밀면 맛집 역삼역 회식장소 서울로인\n",
      "[강남/역삼 맛집] 밥밥디라라\n",
      "강남 수제버거 캐스터네츠 강남N점 새로운 역삼맛집 추천\n",
      "역삼 이도곰탕 - 든든한 서울 곰탕 맛집 #3\n",
      "선릉 역삼 얼그레이 하이볼 맛집 우미돈 : 디너 우미 세트\n",
      "역삼 맛집 JS가든 센터필드점 디너 코스\n",
      "듀크버거 : 강남 역삼 수제버거 맛집 분위기 예쁨\n",
      "역삼 맛집 :: 캐스터네츠 강남 수제버거\n",
      "행복했던 역삼역맛집\n",
      "[ 역삼맛집 ] 선릉맛집 신동궁감자탕 뼈숯불구이\n",
      "[역삼 맛집] 가츠가게 :: 다양한 소스와 조합하는 돈까스 ෆ...\n",
      "[강남맛집 역삼맛집 조선팰리스지하] 퓨전중식당 차알\n",
      "[서울 강남구] 진심으로 추천하는 강남 역삼 곱창맛집\n",
      "강남 수제버거 캐스터네츠 역삼 맛집 새우버거 꼭 머거..\n",
      "[강남비건] 역삼역샐러드 맛집 마치래빗 샐러드\n",
      "[역삼 센터필드 맛집/ 라멘] 베라보 - 뉴 힙플레이스 센터필드의...\n",
      "솥밥주는 국밥맛집, 곰작골 나주곰탕 역삼초교점...\n",
      "강남 수제버거 찐으로 맛있는 역삼 맛집 : 캐스터네츠\n",
      "역삼 한우 맛집 꽃등심 끝내주는 바우한우!\n",
      "역삼 맛집 :: 모도우 강남 N점 (강남 룸식당)\n",
      "[모토이시/역삼역] 다양한 부위의 소고기를 즐길 수 있는 맛집\n",
      "역삼역 맛집 오발탄 말해뭐해!\n",
      "역삼 브런치와 케이크 맛집 <카페413프로젝트> #내돈내산...\n",
      "[역삼맛집] '멘야유메미루' 직장인 점심 한끼 마제메시로 해결~\n",
      "역삼 한우 맛집 강남 룸식당 모도우 강남N점\n",
      "[서울 강남구] 역삼역삼겹살맛집 하몽하몽 이베리코 흑돼지...\n",
      "[강남, 역삼 맛집] 서울 수제버거 맛집 캐스터네츠\n",
      "역삼역 샐러드 맛집 샐러드타임즈에서 키토 샐러드로 건강하게\n",
      "가츠가게 역삼 맛집 오늘 점심 뭐 먹지?\n",
      "엽기떡볶이 로제떡볶이 먹은 후기 : 강남 역삼 맛집\n",
      "역삼역 돼지갈비 맛집 갈비삼대\n",
      "콜키지프리 강남 룸식당/역삼 맛집 모도우 강남N점\n",
      "역삼역 고기집 강남 돼지갈비 맛집 갈비삼대\n",
      "역삼맛집 캐스터네츠 수제버거\n",
      "역삼 직장인 점심 맛집 투어 대우부대찌개\n",
      "강남 브런치 맛집: 역삼 빌즈 팬케이크 브런치\n",
      "역삼 맛집 '캐스터네츠' 강남 수제버거 맛있는 곳\n",
      "역삼역 캐스터네츠 강남 수제버거 맛집 후기\n",
      "역삼역 한우++ 국수전골 ‘레드마블하우스’ 프라이빗 룸 맛집\n",
      "*강남 수제버거 / 역삼 맛집 추천* 재료가 신선한 수제버거...\n",
      "[역삼역 횟집] 회식추천 해물모듬 맛집 마린3스토리\n",
      "강남 룸식당 추천 모도우 런치 : 역삼 한우맛집\n",
      "역삼 맛집 | 강남 회식 장소로 좋은 '모도우' 디너 b코스\n",
      "역삼역고기집 직장인 점심 삼겹살 먹고 온 역삼역맛집 인생육반\n",
      "역삼역 근처 내추럴 와인이... 알타쿠치나 by 녁 #역삼맛집\n",
      "【역삼/ 강남 맛집】 서울수제버거맛집 캐스터네츠버거 강남N점\n",
      "역삼역 맛집 / 뱃살도둑 역삼점 / 역삼 샐러드 찾으신다면 여기!\n",
      "역삼 맛집 강남 수제버거 캐스터네츠 강남N점 퀄리티최고\n",
      "역삼 맛집@캐스터네츠(castanets) 강남 수제버거 맛집이네♥\n",
      "[맛집] 역삼 센터필드 맛집 ‘차알 역삼존’ 자극적이고 맛있는...\n",
      "서울 수제버거 맛집... 그리고 애플민트 플로트 (Feat.역삼맛집)\n",
      "역삼육회/역삼맛집추천, 진주육회역삼점\n",
      "[역삼역 맛집] 마라탕, 마라샹궈 맛집: 마라공방 역삼점...\n",
      "대구에서 뭉티기 놉~~~ 역삼역 맛집 더 뭉티기에서 뭉티기...\n",
      "\n",
      "url갯수:  180\n",
      "title갯수:  180\n"
     ]
    }
   ],
   "source": [
    "# 크롤링한 url 정제 시작\n",
    "for article in article_raw:\n",
    "    url = article.get_attribute('href')\n",
    "    url_list.append(url)\n",
    "time.sleep(1)\n",
    "\n",
    "# 제목 크롤링 시작\n",
    "for article in article_raw:\n",
    "    title = article.text\n",
    "    title_list.append(title)\n",
    "\n",
    "    print(title)\n",
    "\n",
    "print(\"\")\n",
    "print('url갯수: ', len(url_list))\n",
    "print('title갯수: ', len(title_list))"
   ]
  },
  {
   "cell_type": "code",
   "execution_count": 55,
   "metadata": {
    "id": "R2yjlm_5-kvs",
    "outputId": "efd2bab6-67e5-4d04-d826-4f878de28658"
   },
   "outputs": [
    {
     "data": {
      "text/plain": [
       "['https://blog.naver.com/qufzhd12/222703896742',\n",
       " 'https://blog.naver.com/lovelove_pyo/222670071525',\n",
       " 'https://blog.naver.com/1ovest/222659402359',\n",
       " 'https://blog.naver.com/yase90/222688624578',\n",
       " 'https://blog.naver.com/kooltz1018/222742195310',\n",
       " 'https://blog.naver.com/luxygirl77/222670088253',\n",
       " 'https://blog.naver.com/darkyoon85/222671568071',\n",
       " 'https://blog.naver.com/hjy800911/222682144141',\n",
       " 'https://blog.naver.com/rlacofls63/222721084727',\n",
       " 'https://blog.naver.com/ccamjigi77/222742982081',\n",
       " 'https://blog.naver.com/qwer0124/222708793758',\n",
       " 'https://blog.naver.com/sunna434/222682429098',\n",
       " 'https://blog.naver.com/nahe0904/222706555783',\n",
       " 'https://blog.naver.com/ckacka1024/222739698250',\n",
       " 'https://blog.naver.com/dbrvh123/222712974599',\n",
       " 'https://blog.naver.com/guccilauren/222684130246',\n",
       " 'https://blog.naver.com/okjoa012/222721189070',\n",
       " 'https://blog.naver.com/ekdlschl/222734163023',\n",
       " 'https://blog.naver.com/yeojin0501/222703613589',\n",
       " 'https://blog.naver.com/kmy000403/222686402860',\n",
       " 'https://blog.naver.com/lyiy4/222719525826',\n",
       " 'https://blog.naver.com/luxygirl77/222668026088',\n",
       " 'https://blog.naver.com/kangsm1998/222741041750',\n",
       " 'https://blog.naver.com/sensenlebo/222735554705',\n",
       " 'https://blog.naver.com/pih870318/222656114132',\n",
       " 'https://blog.naver.com/qwer0124/222702075537',\n",
       " 'https://blog.naver.com/notsul/222705939689',\n",
       " 'https://blog.naver.com/hoonyhoon22/222719492610',\n",
       " 'https://blog.naver.com/soqhr20/222708018204',\n",
       " 'https://blog.naver.com/dbflsdl91/222723566598',\n",
       " 'https://blog.naver.com/llleyj/222660406341',\n",
       " 'https://blog.naver.com/visavis86/222724995181',\n",
       " 'https://blog.naver.com/skylights2/222712637028',\n",
       " 'https://blog.naver.com/ha__nna/222668205950',\n",
       " 'https://blog.naver.com/sy900523/222720474339',\n",
       " 'https://blog.naver.com/x1472/222720660129',\n",
       " 'https://blog.naver.com/maysgirl/222684768968',\n",
       " 'https://blog.naver.com/kmm900/222741531527',\n",
       " 'https://blog.naver.com/miwako1212/222727870822',\n",
       " 'https://blog.naver.com/qwer0124/222711079816',\n",
       " 'https://blog.naver.com/junjuly4/222731675433',\n",
       " 'https://blog.naver.com/hongteaho/222732766459',\n",
       " 'https://blog.naver.com/cutejun01/222719683148',\n",
       " 'https://blog.naver.com/redcherry88/222677748832',\n",
       " 'https://blog.naver.com/mary_zzine/222742849113',\n",
       " 'https://blog.naver.com/phjsunflower/222717768652',\n",
       " 'https://blog.naver.com/6kdud6/222716274210',\n",
       " 'https://blog.naver.com/jja2896/222739716416',\n",
       " 'https://blog.naver.com/jejechu/222731640835',\n",
       " 'https://blog.naver.com/dks6443/222705618328',\n",
       " 'https://blog.naver.com/eblouissant_/222670155323',\n",
       " 'https://blog.naver.com/photoharu/222743143476',\n",
       " 'https://blog.naver.com/ladpiano/222686814844',\n",
       " 'https://blog.naver.com/hj1231k/222722114241',\n",
       " 'https://blog.naver.com/dogguthird/222702995688',\n",
       " 'https://blog.naver.com/winterwind19/222728447173',\n",
       " 'https://blog.naver.com/sewing9233/222721871765',\n",
       " 'https://blog.naver.com/jsvlar/222720011735',\n",
       " 'https://blog.naver.com/babbydragon/222689351155',\n",
       " 'https://blog.naver.com/gksmftdrhd/222728585190',\n",
       " 'https://blog.naver.com/jejechu/222686473353',\n",
       " 'https://blog.naver.com/dogguthird/222718342328',\n",
       " 'https://blog.naver.com/kmy000403/222693690338',\n",
       " 'https://blog.naver.com/ksi54/222742837785',\n",
       " 'https://blog.naver.com/hiriofficial/222727315561',\n",
       " 'https://blog.naver.com/silverg0218/222741568172',\n",
       " 'https://blog.naver.com/hoperecipe/222686944590',\n",
       " 'https://blog.naver.com/bryjia/222662228633',\n",
       " 'https://blog.naver.com/sunna434/222662987642',\n",
       " 'https://blog.naver.com/luxygirl77/222738199620',\n",
       " 'https://blog.naver.com/bosughom88/222660951165',\n",
       " 'https://blog.naver.com/jihye0212/222723093231',\n",
       " 'https://blog.naver.com/merrishop/222674651386',\n",
       " 'https://blog.naver.com/duthe/222737694408',\n",
       " 'https://blog.naver.com/hinoon555/222738414563',\n",
       " 'https://blog.naver.com/luxygirl77/222726292138',\n",
       " 'https://blog.naver.com/guccilauren/222735591270',\n",
       " 'https://blog.naver.com/dadada832/222683663476',\n",
       " 'https://blog.naver.com/j_eunkim/222717714583',\n",
       " 'https://blog.naver.com/gpwl4444/222723737055',\n",
       " 'https://blog.naver.com/thisknife/222677262041',\n",
       " 'https://blog.naver.com/dogguthird/222725766292',\n",
       " 'https://blog.naver.com/tnsdud71/222704487399',\n",
       " 'https://blog.naver.com/yeojin0501/222706731680',\n",
       " 'https://blog.naver.com/dogguthird/222701421320',\n",
       " 'https://blog.naver.com/celine324/222712281996',\n",
       " 'https://blog.naver.com/dkjang86/222718145169',\n",
       " 'https://blog.naver.com/mary_zzine/222715717966',\n",
       " 'https://blog.naver.com/j_eunkim/222726401764',\n",
       " 'https://blog.naver.com/loving8792/222713445193',\n",
       " 'https://blog.naver.com/irenesumi/222734436285',\n",
       " 'https://blog.naver.com/wj2796/222691474371',\n",
       " 'https://blog.naver.com/hellofany11/222701628591',\n",
       " 'https://blog.naver.com/8sarah1004/222737820601',\n",
       " 'https://blog.naver.com/msunh/222705660681',\n",
       " 'https://blog.naver.com/unchanging_on/222710314843',\n",
       " 'https://blog.naver.com/qde78/222719463292',\n",
       " 'https://blog.naver.com/dkjang86/222699692179',\n",
       " 'https://blog.naver.com/tjsghd1991/222729127786',\n",
       " 'https://blog.naver.com/yeojin0501/222730462199',\n",
       " 'https://blog.naver.com/dogguthird/222664411537',\n",
       " 'https://blog.naver.com/luxygirl77/222723910332',\n",
       " 'https://blog.naver.com/gywls2708/222693007615',\n",
       " 'https://blog.naver.com/suzan45/222685282137',\n",
       " 'https://blog.naver.com/dkjang86/222674843578',\n",
       " 'https://blog.naver.com/grb_080913/222697987586',\n",
       " 'https://blog.naver.com/thdwndus10/222664706180',\n",
       " 'https://blog.naver.com/luckywls92/222689094547',\n",
       " 'https://blog.naver.com/ly3434ly/222741945158',\n",
       " 'https://blog.naver.com/jihyeon7851/222680739913',\n",
       " 'https://blog.naver.com/dogguthird/222682422276',\n",
       " 'https://blog.naver.com/kba7628/222713772436',\n",
       " 'https://blog.naver.com/u_clarity/222735079677',\n",
       " 'https://blog.naver.com/jasminedream/222690489451',\n",
       " 'https://blog.naver.com/mvpno/222703879664',\n",
       " 'https://blog.naver.com/thormommy/222709584051',\n",
       " 'https://blog.naver.com/sunnyasz94/222736261542',\n",
       " 'https://blog.naver.com/belovedhana/222707072299',\n",
       " 'https://blog.naver.com/ajirengee/222740335817',\n",
       " 'https://blog.naver.com/asteroid6/222743808874',\n",
       " 'https://blog.naver.com/dogguthird/222671469696',\n",
       " 'https://blog.naver.com/rjy0325/222710971102',\n",
       " 'https://blog.naver.com/dltlgns114/222693158012',\n",
       " 'https://blog.naver.com/yeeun819/222706080424',\n",
       " 'https://blog.naver.com/ddongddong118/222720178537',\n",
       " 'https://blog.naver.com/myqnamyqna/222719694397',\n",
       " 'https://blog.naver.com/ggyu4644/222742159617',\n",
       " 'https://blog.naver.com/dogguthird/222666976858',\n",
       " 'https://blog.naver.com/jungsun0306/222694426646',\n",
       " 'https://blog.naver.com/chuchus1216/222687612956',\n",
       " 'https://blog.naver.com/daon77/222732550524',\n",
       " 'https://blog.naver.com/95msmouce/222698555841',\n",
       " 'https://blog.naver.com/dogguthird/222659727897',\n",
       " 'https://blog.naver.com/vivaceren/222683122162',\n",
       " 'https://blog.naver.com/abhoon69/222663090389',\n",
       " 'https://blog.naver.com/21qhdud/222707461282',\n",
       " 'https://blog.naver.com/i_believe28/222697921258',\n",
       " 'https://blog.naver.com/dayun88/222738126241',\n",
       " 'https://blog.naver.com/garistia/222673331696',\n",
       " 'https://blog.naver.com/perfect62/222688081741',\n",
       " 'https://blog.naver.com/tjsghd1991/222720040855',\n",
       " 'https://blog.naver.com/persence/222696942850',\n",
       " 'https://blog.naver.com/heeri1212/222728953148',\n",
       " 'https://blog.naver.com/faugh08/222741889069',\n",
       " 'https://blog.naver.com/house5213/222662211738',\n",
       " 'https://blog.naver.com/jeehyun614/222680493837',\n",
       " 'https://blog.naver.com/dkjang86/222691063636',\n",
       " 'https://blog.naver.com/ccamjigi77/222733583257',\n",
       " 'https://blog.naver.com/ksh1992001/222739033229',\n",
       " 'https://blog.naver.com/kba7628/222725212464',\n",
       " 'https://blog.naver.com/yunsunga07/222661141877',\n",
       " 'https://blog.naver.com/garistia/222732559697',\n",
       " 'https://blog.naver.com/luckywls92/222680446468',\n",
       " 'https://blog.naver.com/darkyoon85/222664015570',\n",
       " 'https://blog.naver.com/sun8774/222666167364',\n",
       " 'https://blog.naver.com/dogguthird/222657380767',\n",
       " 'https://blog.naver.com/freemeadow/222721244266',\n",
       " 'https://blog.naver.com/o0z_z0o/222667469738',\n",
       " 'https://blog.naver.com/dltlgns114/222723681911',\n",
       " 'https://blog.naver.com/behappy0486/222737393483',\n",
       " 'https://blog.naver.com/jejechu/222711356013',\n",
       " 'https://blog.naver.com/sister032113/222667771279',\n",
       " 'https://blog.naver.com/meinjess/222669494362',\n",
       " 'https://blog.naver.com/rnjscl12/222704086017',\n",
       " 'https://blog.naver.com/luuluu228/222731035562',\n",
       " 'https://blog.naver.com/yahdd10044/222658823239',\n",
       " 'https://blog.naver.com/tjsghd1991/222713719001',\n",
       " 'https://blog.naver.com/paperplate/222656510072',\n",
       " 'https://blog.naver.com/boram1646/222714954910',\n",
       " 'https://blog.naver.com/jejechu/222714867057',\n",
       " 'https://blog.naver.com/minju484/222690471724',\n",
       " 'https://blog.naver.com/khretail/222682707230',\n",
       " 'https://blog.naver.com/leeb000/222710175950',\n",
       " 'https://blog.naver.com/chachan85/222742701506',\n",
       " 'https://blog.naver.com/bongja814/222655828926',\n",
       " 'https://blog.naver.com/1008bha/222736389924',\n",
       " 'https://blog.naver.com/daon77/222659193017',\n",
       " 'https://blog.naver.com/limchoi1027/222741214368',\n",
       " 'https://blog.naver.com/mizko/222729619727',\n",
       " 'https://blog.naver.com/yewori/222737707037']"
      ]
     },
     "execution_count": 55,
     "metadata": {},
     "output_type": "execute_result"
    }
   ],
   "source": [
    "# 수집된 url들 확인\n",
    "url_list"
   ]
  },
  {
   "cell_type": "code",
   "execution_count": 56,
   "metadata": {
    "id": "Q491yek4-kvs",
    "outputId": "b8d88911-275c-4f8d-bd89-0c3831d666c7"
   },
   "outputs": [
    {
     "data": {
      "text/plain": [
       "['강남 역삼 맛집 나이티지 장작구이 치킨에 반한 곳',\n",
       " '[역삼] 모도우 강남N점 : 역삼 맛집 프라이빗 룸식당에서 한우...',\n",
       " '역삼맛집 + 수제버거 캐스터네츠 메뉴 꿀팁 강남N타워',\n",
       " '[역삼역 맛집] 캐스터네츠 강남N점 - 강남 수제버거 맛집',\n",
       " '역삼역 맛집 [더뭉티기] 불금에 안성맞춤',\n",
       " '[역삼역맛집]이영자 전참시 맛집 차돌삼합진대감역삼점 솔직후기',\n",
       " '역삼 맛집 수제버거가 맛있었던 캐스터네츠 CASTANETS',\n",
       " '[역삼동] 모도우 - 프라이빗하니 모임하기 좋은 역삼 맛집',\n",
       " '역삼 맛집 타코벨신메뉴 멕시칸 브레드 타코 먹어봐요!',\n",
       " '역삼 맛집 강남 룸식당 모도우 디너',\n",
       " '역삼 맛집으로 추천하는 강남 수제버거 - 캐스터네츠',\n",
       " '강남 역삼 맛집 파스타 데이트코스 나이티지 로맨틱해',\n",
       " '서울 수제버거 맛집 역삼 맛집 캐스터네츠 인생버거 등극',\n",
       " '역삼맛집 짬뽕지존 지존짬뽕 먹었어요',\n",
       " '강남 수제버거 역삼 맛집 캐스터네츠 강남N점',\n",
       " '[역삼 맛집]프라이빗 룸식당 한우 찐맛집 모도우 강남N점',\n",
       " '강남 룸식당 강남 한우맛집 역삼 맛집 강남 회식하기 좋은...',\n",
       " '서울 강남, 역삼 수제버거 맛집_새로 오픈한 캐스터네츠 강남N점',\n",
       " '숙성 돼지고기 맛집 룸 방문후기, 역삼 돝고기506',\n",
       " '역삼역샐러드 마치래빗 강남비건맛집',\n",
       " '역삼 맛집 신동궁감자탕뼈숯불구이',\n",
       " '[역삼맛집]역삼동삼겹살 화덕고깃간역삼본점',\n",
       " '다시 간 이영자 역삼동맛집 돝고기506-역삼역 회식',\n",
       " '역삼 맛집 정갈했던 모도우 강남',\n",
       " '역삼역 샐러드 맛집 포케 맛있는 샐러드타임즈',\n",
       " '차돌삼합 맛집 - 역삼 진대감',\n",
       " '강남 수제버거 역삼 맛집 캐스터네츠 강남N점',\n",
       " '역삼 맛집 모도우 한우 요리를 즐기다',\n",
       " '[역삼 맛집] 강남 수제버거 캐스터네츠 강남N점 후기',\n",
       " '[강남/역삼] 프라이빗한 강남 룸식당 역삼맛집 모도우 강남N점',\n",
       " '역삼 센터필드 맛집 대게배달 헬로크랩',\n",
       " '역삼 맛집 모도우 강남N점 디너B코스 한우 냠냠',\n",
       " '강남 수제버거 캐스터네츠 강남N점 역삼 맛집이야',\n",
       " '역삼디저트 맛집 <빠띠스리크로스비> ::네추럴와인샵...',\n",
       " '강남 수제버거 역삼 맛집 캐스터네츠 강남N점!',\n",
       " '역삼 점심 맛집 한번 오면 무조건 반해',\n",
       " '서울 역삼 수제버거 맛집 캐스터네츠 강남N점',\n",
       " \"역삼소고기맛집 '라비옥' 살살 녹았던 눈꽃진갈비로스구이\",\n",
       " '역삼 맛집 모도우 삼성점 디너코스방문후기',\n",
       " '역삼 냉면 맛집 - 평가옥 평양냉면 추천',\n",
       " '맛있는 서울 데이트 코스 역삼맛집',\n",
       " '역삼 맛집 강남 수제버거 캐스터네츠 강남N점',\n",
       " '역삼 맛집 강강술래 회식하기 좋고 가족식사 추천이예요!',\n",
       " '역삼 맛집으로 소문난 강남 수제버거, 캐스터네츠 강남N점',\n",
       " '역삼맛집, 부산아지매국밥 먹고 유사나 본사 로컬 다녀왔어요',\n",
       " '역삼역 맛집 / 소갈비구이 우륵',\n",
       " \"[역삼,강남]강남 한우맛집 강남 룸식당 추천' 모도우 강남N점 '\",\n",
       " '[역삼역] 강남 수제버거 맛집 캐스터네츠 강남n점 저녁식사로...',\n",
       " '역삼 직장인 점심 맛집 투어 3탄 고갯마루 닭볶음탕',\n",
       " '강남 수제버거 캐스터네츠 역삼 맛집일세',\n",
       " '[신라스테이 역삼 맛집]헬로크랩 강남점 랍스터 대게...',\n",
       " '역삼 맛집ㅣ캐쥬얼한 강남 수제버거 캐스터네츠',\n",
       " '역삼 맛집 정갈하고 든든해서 좋은 솥밥',\n",
       " '역삼 맛집/ 강남 맛집 :: 모도우 강남N점',\n",
       " '[역삼 맛집] 점심으로 혼밥하기에도 좋은 원조감자탕 일미집...',\n",
       " '역삼역 고기집 - 냉삼 키조개삼합 맛집 랭돈',\n",
       " '어린이날 생일기념 역삼맛집 모도우',\n",
       " '역삼역 맛집 역삼 맛집 바게트케이 바게트K 바게트 맛집',\n",
       " '역삼 맛집 캐스터네츠 강남N점 :: JMT 강남 수제버거',\n",
       " '고퀄리티 수제버거 역삼 맛집 \"캐스터네츠\" 강남N점',\n",
       " '강남 스페인요리 제대로 맛볼 수 있는 역삼 맛집 트라가 역삼점',\n",
       " '역삼역 맛집이라고 하기 조금 어려운 누들톡에서...',\n",
       " '강남맛집 테이블스 역삼베이커리 추천',\n",
       " '역삼동 맛집 역삼역 고기집 추천 세겹',\n",
       " 'ღ캐스터네츠 강남N점_강남 수제버거 맛집 / 역삼 맛집ღ',\n",
       " '309.[역삼] 스페인 음식점 트라가 역삼역맛집 으로',\n",
       " '강남 수제버거 서울 역삼 맛집 캐스터네츠 강남N점 새로운...',\n",
       " '역삼 샐러드 맛집, 든든하고 맛있는 샐러드 타임즈',\n",
       " '만족스런 강남 역삼역 맛집 소고기 코스요리',\n",
       " '[역삼역맛집]갈비탕맛집 갈비다움 매운갈비찜도 있어요',\n",
       " '역삼 맛집/선릉역 양대창맛집하면 별양집이죠~ 몇년째 찾는...',\n",
       " '강남 수제버거 / 역삼 맛집 캐스터네츠 다녀옴!',\n",
       " '역삼역 돈육지존 이영자맛집 수제 뼈삼겹살',\n",
       " '역삼역 맛집 / 더뭉티기 : 뭉티기(小) 선지해장국',\n",
       " '⭐강남ㅣ역삼 맛집 <밥밥디라라 역삼본점> 방문 후기⭐',\n",
       " '[역삼동맛집]역삼삼겹살맛집 두껍삼 소문만큼 맛나네요',\n",
       " '[강남역 맛집]역삼역 고기집 소갈비 전문점 우륵',\n",
       " \"역삼역맛집 역삼냉삼맛집 ‘대파집’/다킷리스트_D's...\",\n",
       " '[ 역삼 런치] 워커힐호텔출신... 선릉스키야키맛집 우미돈',\n",
       " '비진도 해물뚝배기 :: 아는 사람만 아는 역삼 맛집 in 역삼역',\n",
       " '[강남 수제버거/역삼 맛집] 캐스터네츠 강남N점',\n",
       " '역삼 맛집 싸다김밥에서 점심으로 해장하고 온 후기',\n",
       " '역삼맛집 고갯마루 닭볶음탕 볶음밥까지',\n",
       " '역삼에서 만난 꼬막비빔밥 맛집! 강릉 엄지네 꼬막집',\n",
       " '역삼 맛집 라비옥에서 갈비 덮밥 점심으로 먹은 찐후기',\n",
       " '강남 수제버거는 역삼 맛집 캐스터네츠 강남N점에서!',\n",
       " '[파크루안/역삼] 깔끔한 코스요리가 훌륭한 중식맛집',\n",
       " '유사나 본사 로컬 방문기 (feat. 역삼맛집, 이도곰탕)',\n",
       " '[ 역삼 맛집 ] 강남 수제버거 캐스터네츠 강남N점',\n",
       " '역삼맛집 맘스터치 모코코 생일파티세트 먹고 피규어 3종 다...',\n",
       " '역삼골프피티 RF트레이닝스튜디오 (역삼맛집 바게트k...',\n",
       " '강남역 맛집 서울 강남 주말 데이트 추천 역삼역 맛집 핫플!',\n",
       " '[나이티지] 강남 역삼 맛집 | 강남역 맛집 | 강남역 데이트...',\n",
       " '강남 역삼 맛집 / 스키야키 맛집 진가와 스키야끼 우동 나베 정식',\n",
       " \"역삼카페 '카페드보네르' 역삼디저트 맛집\",\n",
       " '역삼 갈비맛집 [역삼갈비] 갈비 먹고싶어 일부러 찾아간...',\n",
       " '역삼맛집 - 이탈리안레스토랑 브런치 알타쿠치나 by 녁',\n",
       " '[대우부대찌개 강남본점/역삼역] 수요미식회 부대찌개 맛집',\n",
       " '[역삼역 맛집] 역삼역 샐러드 혼밥 맛집 추천! 건강한 점심 시간...',\n",
       " '역삼 맛집 갈비다움, 점심으로 깔끔하고 맛있는 갈비탕',\n",
       " '와플칸 역삼점 : 강남 역삼 디저트 맛집 추천',\n",
       " '[역삼역맛집]시스터후드 송추가마골인어반강남점 포스코타워...',\n",
       " '역삼 맛집 캐스터네츠에서 강남 수제버거 먹기',\n",
       " '역삼/강남 브런치 맛집 무슈벤자민 서울 후기',\n",
       " '[중식당 싱카이/역삼] 깔끔한 중식 맛집',\n",
       " '역삼역 맛집 <진가와> 한국본점, 분위기 좋은 역삼역 이자카야',\n",
       " '역삼역 맛집 지아니스나폴리 화덕피자 추천 주차',\n",
       " '[역삼 맛집] 강남 한우 맛집 모도우',\n",
       " \"역삼맛집, 쿠팡이츠로 광장시장 맛집을 강남에서! '진주육회'\",\n",
       " '역삼역 삼겹살 맛집 돝고기 506(★★★★☆)',\n",
       " '역삼 맛집 : 떡군이네 떡볶이 로제떡볶이가 짱 맛있다',\n",
       " \"[역삼맛집] '갈비삼대' 역삼역 돼지갈비맛집. 한자리에서 오래...\",\n",
       " '수제버거 캐스터네츠 강남N점 특별한 치킨 꽈리버거 역삼 맛집',\n",
       " '강남 수제버거 캐스터네츠 강남N점 역삼 맛집 방문 후기',\n",
       " '220415 서울 수제버거 맛집 역삼 맛집 캐스터네츠 버거 강남n점',\n",
       " '역삼맛집 / 강남 수제버거 / 캐스터네츠 강남N점',\n",
       " '역삼역 브런치 맛집 카페 413 프로젝트',\n",
       " '강남 역삼역맛집, 수제버거의 끝판왕 육즙팡팡 터지는...',\n",
       " '[역삼 점심] 돼지고기 김치찌개 맛집, 장호왕곱창!',\n",
       " '강남 수제버거 : 캐스터네츠 강남N점, 역삼 맛집',\n",
       " '[역삼 맛집] 만땅스시 역삼점 내돈내산',\n",
       " '[강남역,역삼역] 소고기 맛집, 데이트 장소 추천 ‘서울로인’...',\n",
       " '역삼역 해산물 맛집 비진도해물뚝배기',\n",
       " '[역삼 맛집 추천] 프라이빗하고 편안한 한식 파인다이닝...',\n",
       " '서울 수제버거 맛집 역삼 맛집 캐스터네츠 강남N점 -쉑쉑말고...',\n",
       " '타코벨신메뉴 출시! 타코벨 역삼맛집 맵시칸!',\n",
       " '서울 밀면 맛집 역삼역 회식장소 서울로인',\n",
       " '[강남/역삼 맛집] 밥밥디라라',\n",
       " '강남 수제버거 캐스터네츠 강남N점 새로운 역삼맛집 추천',\n",
       " '역삼 이도곰탕 - 든든한 서울 곰탕 맛집 #3',\n",
       " '선릉 역삼 얼그레이 하이볼 맛집 우미돈 : 디너 우미 세트',\n",
       " '역삼 맛집 JS가든 센터필드점 디너 코스',\n",
       " '듀크버거 : 강남 역삼 수제버거 맛집 분위기 예쁨',\n",
       " '역삼 맛집 :: 캐스터네츠 강남 수제버거',\n",
       " '행복했던 역삼역맛집',\n",
       " '[ 역삼맛집 ] 선릉맛집 신동궁감자탕 뼈숯불구이',\n",
       " '[역삼 맛집] 가츠가게 :: 다양한 소스와 조합하는 돈까스 ෆ...',\n",
       " '[강남맛집 역삼맛집 조선팰리스지하] 퓨전중식당 차알',\n",
       " '[서울 강남구] 진심으로 추천하는 강남 역삼 곱창맛집',\n",
       " '강남 수제버거 캐스터네츠 역삼 맛집 새우버거 꼭 머거..',\n",
       " '[강남비건] 역삼역샐러드 맛집 마치래빗 샐러드',\n",
       " '[역삼 센터필드 맛집/ 라멘] 베라보 - 뉴 힙플레이스 센터필드의...',\n",
       " '솥밥주는 국밥맛집, 곰작골 나주곰탕 역삼초교점...',\n",
       " '강남 수제버거 찐으로 맛있는 역삼 맛집 : 캐스터네츠',\n",
       " '역삼 한우 맛집 꽃등심 끝내주는 바우한우!',\n",
       " '역삼 맛집 :: 모도우 강남 N점 (강남 룸식당)',\n",
       " '[모토이시/역삼역] 다양한 부위의 소고기를 즐길 수 있는 맛집',\n",
       " '역삼역 맛집 오발탄 말해뭐해!',\n",
       " '역삼 브런치와 케이크 맛집 <카페413프로젝트> #내돈내산...',\n",
       " \"[역삼맛집] '멘야유메미루' 직장인 점심 한끼 마제메시로 해결~\",\n",
       " '역삼 한우 맛집 강남 룸식당 모도우 강남N점',\n",
       " '[서울 강남구] 역삼역삼겹살맛집 하몽하몽 이베리코 흑돼지...',\n",
       " '[강남, 역삼 맛집] 서울 수제버거 맛집 캐스터네츠',\n",
       " '역삼역 샐러드 맛집 샐러드타임즈에서 키토 샐러드로 건강하게',\n",
       " '가츠가게 역삼 맛집 오늘 점심 뭐 먹지?',\n",
       " '엽기떡볶이 로제떡볶이 먹은 후기 : 강남 역삼 맛집',\n",
       " '역삼역 돼지갈비 맛집 갈비삼대',\n",
       " '콜키지프리 강남 룸식당/역삼 맛집 모도우 강남N점',\n",
       " '역삼역 고기집 강남 돼지갈비 맛집 갈비삼대',\n",
       " '역삼맛집 캐스터네츠 수제버거',\n",
       " '역삼 직장인 점심 맛집 투어 대우부대찌개',\n",
       " '강남 브런치 맛집: 역삼 빌즈 팬케이크 브런치',\n",
       " \"역삼 맛집 '캐스터네츠' 강남 수제버거 맛있는 곳\",\n",
       " '역삼역 캐스터네츠 강남 수제버거 맛집 후기',\n",
       " '역삼역 한우++ 국수전골 ‘레드마블하우스’ 프라이빗 룸 맛집',\n",
       " '*강남 수제버거 / 역삼 맛집 추천* 재료가 신선한 수제버거...',\n",
       " '[역삼역 횟집] 회식추천 해물모듬 맛집 마린3스토리',\n",
       " '강남 룸식당 추천 모도우 런치 : 역삼 한우맛집',\n",
       " \"역삼 맛집 | 강남 회식 장소로 좋은 '모도우' 디너 b코스\",\n",
       " '역삼역고기집 직장인 점심 삼겹살 먹고 온 역삼역맛집 인생육반',\n",
       " '역삼역 근처 내추럴 와인이... 알타쿠치나 by 녁 #역삼맛집',\n",
       " '【역삼/ 강남 맛집】 서울수제버거맛집 캐스터네츠버거 강남N점',\n",
       " '역삼역 맛집 / 뱃살도둑 역삼점 / 역삼 샐러드 찾으신다면 여기!',\n",
       " '역삼 맛집 강남 수제버거 캐스터네츠 강남N점 퀄리티최고',\n",
       " '역삼 맛집@캐스터네츠(castanets) 강남 수제버거 맛집이네♥',\n",
       " '[맛집] 역삼 센터필드 맛집 ‘차알 역삼존’ 자극적이고 맛있는...',\n",
       " '서울 수제버거 맛집... 그리고 애플민트 플로트 (Feat.역삼맛집)',\n",
       " '역삼육회/역삼맛집추천, 진주육회역삼점',\n",
       " '[역삼역 맛집] 마라탕, 마라샹궈 맛집: 마라공방 역삼점...',\n",
       " '대구에서 뭉티기 놉~~~ 역삼역 맛집 더 뭉티기에서 뭉티기...']"
      ]
     },
     "execution_count": 56,
     "metadata": {},
     "output_type": "execute_result"
    }
   ],
   "source": [
    "# 수집된 블로그 제목 확인\n",
    "title_list"
   ]
  },
  {
   "cell_type": "code",
   "execution_count": 57,
   "metadata": {
    "id": "MvgyX_pk-kvt",
    "outputId": "7749cfef-5aa7-45f6-db8a-e94b444998d8",
    "scrolled": false
   },
   "outputs": [
    {
     "data": {
      "text/html": [
       "<div>\n",
       "<style scoped>\n",
       "    .dataframe tbody tr th:only-of-type {\n",
       "        vertical-align: middle;\n",
       "    }\n",
       "\n",
       "    .dataframe tbody tr th {\n",
       "        vertical-align: top;\n",
       "    }\n",
       "\n",
       "    .dataframe thead th {\n",
       "        text-align: right;\n",
       "    }\n",
       "</style>\n",
       "<table border=\"1\" class=\"dataframe\">\n",
       "  <thead>\n",
       "    <tr style=\"text-align: right;\">\n",
       "      <th></th>\n",
       "      <th>url</th>\n",
       "      <th>title</th>\n",
       "    </tr>\n",
       "  </thead>\n",
       "  <tbody>\n",
       "    <tr>\n",
       "      <th>0</th>\n",
       "      <td>https://blog.naver.com/qufzhd12/222703896742</td>\n",
       "      <td>강남 역삼 맛집 나이티지 장작구이 치킨에 반한 곳</td>\n",
       "    </tr>\n",
       "    <tr>\n",
       "      <th>1</th>\n",
       "      <td>https://blog.naver.com/lovelove_pyo/222670071525</td>\n",
       "      <td>[역삼] 모도우 강남N점 : 역삼 맛집 프라이빗 룸식당에서 한우...</td>\n",
       "    </tr>\n",
       "    <tr>\n",
       "      <th>2</th>\n",
       "      <td>https://blog.naver.com/1ovest/222659402359</td>\n",
       "      <td>역삼맛집 + 수제버거 캐스터네츠 메뉴 꿀팁 강남N타워</td>\n",
       "    </tr>\n",
       "    <tr>\n",
       "      <th>3</th>\n",
       "      <td>https://blog.naver.com/yase90/222688624578</td>\n",
       "      <td>[역삼역 맛집] 캐스터네츠 강남N점 - 강남 수제버거 맛집</td>\n",
       "    </tr>\n",
       "    <tr>\n",
       "      <th>4</th>\n",
       "      <td>https://blog.naver.com/kooltz1018/222742195310</td>\n",
       "      <td>역삼역 맛집 [더뭉티기] 불금에 안성맞춤</td>\n",
       "    </tr>\n",
       "    <tr>\n",
       "      <th>...</th>\n",
       "      <td>...</td>\n",
       "      <td>...</td>\n",
       "    </tr>\n",
       "    <tr>\n",
       "      <th>175</th>\n",
       "      <td>https://blog.naver.com/1008bha/222736389924</td>\n",
       "      <td>[맛집] 역삼 센터필드 맛집 ‘차알 역삼존’ 자극적이고 맛있는...</td>\n",
       "    </tr>\n",
       "    <tr>\n",
       "      <th>176</th>\n",
       "      <td>https://blog.naver.com/daon77/222659193017</td>\n",
       "      <td>서울 수제버거 맛집... 그리고 애플민트 플로트 (Feat.역삼맛집)</td>\n",
       "    </tr>\n",
       "    <tr>\n",
       "      <th>177</th>\n",
       "      <td>https://blog.naver.com/limchoi1027/222741214368</td>\n",
       "      <td>역삼육회/역삼맛집추천, 진주육회역삼점</td>\n",
       "    </tr>\n",
       "    <tr>\n",
       "      <th>178</th>\n",
       "      <td>https://blog.naver.com/mizko/222729619727</td>\n",
       "      <td>[역삼역 맛집] 마라탕, 마라샹궈 맛집: 마라공방 역삼점...</td>\n",
       "    </tr>\n",
       "    <tr>\n",
       "      <th>179</th>\n",
       "      <td>https://blog.naver.com/yewori/222737707037</td>\n",
       "      <td>대구에서 뭉티기 놉~~~ 역삼역 맛집 더 뭉티기에서 뭉티기...</td>\n",
       "    </tr>\n",
       "  </tbody>\n",
       "</table>\n",
       "<p>180 rows × 2 columns</p>\n",
       "</div>"
      ],
      "text/plain": [
       "                                                  url  \\\n",
       "0        https://blog.naver.com/qufzhd12/222703896742   \n",
       "1    https://blog.naver.com/lovelove_pyo/222670071525   \n",
       "2          https://blog.naver.com/1ovest/222659402359   \n",
       "3          https://blog.naver.com/yase90/222688624578   \n",
       "4      https://blog.naver.com/kooltz1018/222742195310   \n",
       "..                                                ...   \n",
       "175       https://blog.naver.com/1008bha/222736389924   \n",
       "176        https://blog.naver.com/daon77/222659193017   \n",
       "177   https://blog.naver.com/limchoi1027/222741214368   \n",
       "178         https://blog.naver.com/mizko/222729619727   \n",
       "179        https://blog.naver.com/yewori/222737707037   \n",
       "\n",
       "                                      title  \n",
       "0               강남 역삼 맛집 나이티지 장작구이 치킨에 반한 곳  \n",
       "1    [역삼] 모도우 강남N점 : 역삼 맛집 프라이빗 룸식당에서 한우...  \n",
       "2             역삼맛집 + 수제버거 캐스터네츠 메뉴 꿀팁 강남N타워  \n",
       "3          [역삼역 맛집] 캐스터네츠 강남N점 - 강남 수제버거 맛집  \n",
       "4                    역삼역 맛집 [더뭉티기] 불금에 안성맞춤  \n",
       "..                                      ...  \n",
       "175   [맛집] 역삼 센터필드 맛집 ‘차알 역삼존’ 자극적이고 맛있는...  \n",
       "176  서울 수제버거 맛집... 그리고 애플민트 플로트 (Feat.역삼맛집)  \n",
       "177                    역삼육회/역삼맛집추천, 진주육회역삼점  \n",
       "178      [역삼역 맛집] 마라탕, 마라샹궈 맛집: 마라공방 역삼점...  \n",
       "179     대구에서 뭉티기 놉~~~ 역삼역 맛집 더 뭉티기에서 뭉티기...  \n",
       "\n",
       "[180 rows x 2 columns]"
      ]
     },
     "execution_count": 57,
     "metadata": {},
     "output_type": "execute_result"
    }
   ],
   "source": [
    "# 수집된 url_list, title_list로 판다스 데이터프레임 만들기\n",
    "df = pd.DataFrame({'url':url_list, 'title':title_list})\n",
    "df"
   ]
  },
  {
   "cell_type": "code",
   "execution_count": 58,
   "metadata": {
    "id": "0gl5A-pW-kvt",
    "outputId": "a559e994-03d4-4012-87d8-13ff86500cd9"
   },
   "outputs": [
    {
     "data": {
      "text/plain": [
       "'C:\\\\Users\\\\user\\\\Desktop\\\\python_p\\\\220524'"
      ]
     },
     "execution_count": 58,
     "metadata": {},
     "output_type": "execute_result"
    }
   ],
   "source": [
    "pwd"
   ]
  },
  {
   "cell_type": "code",
   "execution_count": 59,
   "metadata": {
    "id": "utM15Eos-kvt"
   },
   "outputs": [],
   "source": [
    "# 저장하기\n",
    "df.to_csv(\"blog_url.csv\", encoding='utf-8-sig')\n",
    "# df.to_csv(\"blog_url.csv\")"
   ]
  },
  {
   "cell_type": "markdown",
   "metadata": {
    "id": "hXNfrK-L-kvt"
   },
   "source": [
    "# 2. 블로그 내용 크롤링하기"
   ]
  },
  {
   "cell_type": "code",
   "execution_count": 40,
   "metadata": {
    "id": "wueBlU75-kvt"
   },
   "outputs": [],
   "source": [
    "import sys\n",
    "import os\n",
    "import pandas as pd\n",
    "import numpy as np"
   ]
  },
  {
   "cell_type": "code",
   "execution_count": 61,
   "metadata": {
    "id": "nRD3qDF5-kvt",
    "outputId": "9630a68d-e501-4865-eaa2-3112a51d78ab",
    "scrolled": true
   },
   "outputs": [
    {
     "name": "stdout",
     "output_type": "stream",
     "text": [
      "180\n"
     ]
    },
    {
     "data": {
      "text/html": [
       "<div>\n",
       "<style scoped>\n",
       "    .dataframe tbody tr th:only-of-type {\n",
       "        vertical-align: middle;\n",
       "    }\n",
       "\n",
       "    .dataframe tbody tr th {\n",
       "        vertical-align: top;\n",
       "    }\n",
       "\n",
       "    .dataframe thead th {\n",
       "        text-align: right;\n",
       "    }\n",
       "</style>\n",
       "<table border=\"1\" class=\"dataframe\">\n",
       "  <thead>\n",
       "    <tr style=\"text-align: right;\">\n",
       "      <th></th>\n",
       "      <th>url</th>\n",
       "      <th>title</th>\n",
       "    </tr>\n",
       "  </thead>\n",
       "  <tbody>\n",
       "    <tr>\n",
       "      <th>0</th>\n",
       "      <td>https://blog.naver.com/qufzhd12/222703896742</td>\n",
       "      <td>강남 역삼 맛집 나이티지 장작구이 치킨에 반한 곳</td>\n",
       "    </tr>\n",
       "    <tr>\n",
       "      <th>1</th>\n",
       "      <td>https://blog.naver.com/lovelove_pyo/222670071525</td>\n",
       "      <td>[역삼] 모도우 강남N점 : 역삼 맛집 프라이빗 룸식당에서 한우...</td>\n",
       "    </tr>\n",
       "    <tr>\n",
       "      <th>2</th>\n",
       "      <td>https://blog.naver.com/1ovest/222659402359</td>\n",
       "      <td>역삼맛집 + 수제버거 캐스터네츠 메뉴 꿀팁 강남N타워</td>\n",
       "    </tr>\n",
       "    <tr>\n",
       "      <th>3</th>\n",
       "      <td>https://blog.naver.com/yase90/222688624578</td>\n",
       "      <td>[역삼역 맛집] 캐스터네츠 강남N점 - 강남 수제버거 맛집</td>\n",
       "    </tr>\n",
       "    <tr>\n",
       "      <th>4</th>\n",
       "      <td>https://blog.naver.com/kooltz1018/222742195310</td>\n",
       "      <td>역삼역 맛집 [더뭉티기] 불금에 안성맞춤</td>\n",
       "    </tr>\n",
       "    <tr>\n",
       "      <th>...</th>\n",
       "      <td>...</td>\n",
       "      <td>...</td>\n",
       "    </tr>\n",
       "    <tr>\n",
       "      <th>175</th>\n",
       "      <td>https://blog.naver.com/1008bha/222736389924</td>\n",
       "      <td>[맛집] 역삼 센터필드 맛집 ‘차알 역삼존’ 자극적이고 맛있는...</td>\n",
       "    </tr>\n",
       "    <tr>\n",
       "      <th>176</th>\n",
       "      <td>https://blog.naver.com/daon77/222659193017</td>\n",
       "      <td>서울 수제버거 맛집... 그리고 애플민트 플로트 (Feat.역삼맛집)</td>\n",
       "    </tr>\n",
       "    <tr>\n",
       "      <th>177</th>\n",
       "      <td>https://blog.naver.com/limchoi1027/222741214368</td>\n",
       "      <td>역삼육회/역삼맛집추천, 진주육회역삼점</td>\n",
       "    </tr>\n",
       "    <tr>\n",
       "      <th>178</th>\n",
       "      <td>https://blog.naver.com/mizko/222729619727</td>\n",
       "      <td>[역삼역 맛집] 마라탕, 마라샹궈 맛집: 마라공방 역삼점...</td>\n",
       "    </tr>\n",
       "    <tr>\n",
       "      <th>179</th>\n",
       "      <td>https://blog.naver.com/yewori/222737707037</td>\n",
       "      <td>대구에서 뭉티기 놉~~~ 역삼역 맛집 더 뭉티기에서 뭉티기...</td>\n",
       "    </tr>\n",
       "  </tbody>\n",
       "</table>\n",
       "<p>180 rows × 2 columns</p>\n",
       "</div>"
      ],
      "text/plain": [
       "                                                  url  \\\n",
       "0        https://blog.naver.com/qufzhd12/222703896742   \n",
       "1    https://blog.naver.com/lovelove_pyo/222670071525   \n",
       "2          https://blog.naver.com/1ovest/222659402359   \n",
       "3          https://blog.naver.com/yase90/222688624578   \n",
       "4      https://blog.naver.com/kooltz1018/222742195310   \n",
       "..                                                ...   \n",
       "175       https://blog.naver.com/1008bha/222736389924   \n",
       "176        https://blog.naver.com/daon77/222659193017   \n",
       "177   https://blog.naver.com/limchoi1027/222741214368   \n",
       "178         https://blog.naver.com/mizko/222729619727   \n",
       "179        https://blog.naver.com/yewori/222737707037   \n",
       "\n",
       "                                      title  \n",
       "0               강남 역삼 맛집 나이티지 장작구이 치킨에 반한 곳  \n",
       "1    [역삼] 모도우 강남N점 : 역삼 맛집 프라이빗 룸식당에서 한우...  \n",
       "2             역삼맛집 + 수제버거 캐스터네츠 메뉴 꿀팁 강남N타워  \n",
       "3          [역삼역 맛집] 캐스터네츠 강남N점 - 강남 수제버거 맛집  \n",
       "4                    역삼역 맛집 [더뭉티기] 불금에 안성맞춤  \n",
       "..                                      ...  \n",
       "175   [맛집] 역삼 센터필드 맛집 ‘차알 역삼존’ 자극적이고 맛있는...  \n",
       "176  서울 수제버거 맛집... 그리고 애플민트 플로트 (Feat.역삼맛집)  \n",
       "177                    역삼육회/역삼맛집추천, 진주육회역삼점  \n",
       "178      [역삼역 맛집] 마라탕, 마라샹궈 맛집: 마라공방 역삼점...  \n",
       "179     대구에서 뭉티기 놉~~~ 역삼역 맛집 더 뭉티기에서 뭉티기...  \n",
       "\n",
       "[180 rows x 2 columns]"
      ]
     },
     "execution_count": 61,
     "metadata": {},
     "output_type": "execute_result"
    }
   ],
   "source": [
    "# \"url_list.csv\" 불러오기\n",
    "url_load = pd.read_csv(\"blog_url.csv\")\n",
    "url_load = url_load.drop(\"Unnamed: 0\", axis=1)  # 불필요한 칼럼 삭제\n",
    "\n",
    "num_list = len(url_load)\n",
    "print(num_list)\n",
    "url_load"
   ]
  },
  {
   "cell_type": "code",
   "execution_count": 63,
   "metadata": {},
   "outputs": [
    {
     "data": {
      "text/plain": [
       "0          https://blog.naver.com/qufzhd12/222703896742\n",
       "1      https://blog.naver.com/lovelove_pyo/222670071525\n",
       "2            https://blog.naver.com/1ovest/222659402359\n",
       "3            https://blog.naver.com/yase90/222688624578\n",
       "4        https://blog.naver.com/kooltz1018/222742195310\n",
       "                             ...                       \n",
       "175         https://blog.naver.com/1008bha/222736389924\n",
       "176          https://blog.naver.com/daon77/222659193017\n",
       "177     https://blog.naver.com/limchoi1027/222741214368\n",
       "178           https://blog.naver.com/mizko/222729619727\n",
       "179          https://blog.naver.com/yewori/222737707037\n",
       "Name: url, Length: 180, dtype: object"
      ]
     },
     "execution_count": 63,
     "metadata": {},
     "output_type": "execute_result"
    }
   ],
   "source": [
    "url_load['url']"
   ]
  },
  {
   "cell_type": "code",
   "execution_count": 64,
   "metadata": {},
   "outputs": [],
   "source": [
    "i = 0\n",
    "\n",
    "url = url_load['url'][i]\n",
    "chrome_path = chromedriver_autoinstaller.install()\n",
    "driver = webdriver.Chrome(chrome_path)\n",
    "\n",
    "driver.get(url)   # 글 띄우기\n",
    "time.sleep(1)\n",
    "\n",
    "# iframe 접근\n",
    "driver.switch_to.frame('mainFrame')\n",
    "time.sleep(1)"
   ]
  },
  {
   "cell_type": "code",
   "execution_count": 65,
   "metadata": {},
   "outputs": [],
   "source": [
    "dict = {}  # 전체 180개 크롤링 데이터를 담을 그릇\n",
    "\n",
    "target_info = {}  # 개별 블로그 내용을 담을 딕셔너리 생성"
   ]
  },
  {
   "cell_type": "code",
   "execution_count": 66,
   "metadata": {},
   "outputs": [
    {
     "data": {
      "text/plain": [
       "'강남 역삼 맛집 나이티지 장작구이 치킨에 반한 곳'"
      ]
     },
     "execution_count": 66,
     "metadata": {},
     "output_type": "execute_result"
    }
   ],
   "source": [
    "# 제목 크롤링 시작\n",
    "overlays = \".se-module.se-module-text.se-title-text\"\n",
    "tit = driver.find_element_by_css_selector(overlays)          # title\n",
    "title = tit.text  # 셀레늄 덩어리 안의 텍스트 가져오기\n",
    "title"
   ]
  },
  {
   "cell_type": "code",
   "execution_count": 67,
   "metadata": {},
   "outputs": [
    {
     "data": {
      "text/plain": [
       "'두덩두덩'"
      ]
     },
     "execution_count": 67,
     "metadata": {},
     "output_type": "execute_result"
    }
   ],
   "source": [
    "# 글쓴이 크롤링 시작\n",
    "overlays = \".link.pcol2\"                                 \n",
    "nick = driver.find_element_by_css_selector(overlays)         # nickname\n",
    "nickname = nick.text\n",
    "nickname"
   ]
  },
  {
   "cell_type": "code",
   "execution_count": 68,
   "metadata": {},
   "outputs": [
    {
     "data": {
      "text/plain": [
       "<selenium.webdriver.remote.webelement.WebElement (session=\"839aee691f9665a8ed5f7a0e61f18674\", element=\"6faab9c5-606d-494d-9060-5cdd945288aa\")>"
      ]
     },
     "execution_count": 68,
     "metadata": {},
     "output_type": "execute_result"
    }
   ],
   "source": [
    "# 날짜 크롤링\n",
    "overlays = \".se_publishDate.pcol2\"                                 \n",
    "date = driver.find_element_by_css_selector(overlays)         # datetime\n",
    "date"
   ]
  },
  {
   "cell_type": "code",
   "execution_count": 69,
   "metadata": {},
   "outputs": [
    {
     "data": {
      "text/plain": [
       "'2022. 4. 19. 9:00'"
      ]
     },
     "execution_count": 69,
     "metadata": {},
     "output_type": "execute_result"
    }
   ],
   "source": [
    "datetime = date.text\n",
    "datetime"
   ]
  },
  {
   "cell_type": "code",
   "execution_count": 70,
   "metadata": {
    "scrolled": true
   },
   "outputs": [
    {
     "data": {
      "text/plain": [
       "[<selenium.webdriver.remote.webelement.WebElement (session=\"839aee691f9665a8ed5f7a0e61f18674\", element=\"b3bd076b-77bf-42da-8fdb-d14e2e4dc6ec\")>,\n",
       " <selenium.webdriver.remote.webelement.WebElement (session=\"839aee691f9665a8ed5f7a0e61f18674\", element=\"a7a857aa-be94-4929-aed9-32847f61a5fd\")>,\n",
       " <selenium.webdriver.remote.webelement.WebElement (session=\"839aee691f9665a8ed5f7a0e61f18674\", element=\"155f93d5-c4cf-4cd4-adb3-f0e5538e4904\")>,\n",
       " <selenium.webdriver.remote.webelement.WebElement (session=\"839aee691f9665a8ed5f7a0e61f18674\", element=\"0430cb14-ab2f-4f34-b016-612252b26679\")>,\n",
       " <selenium.webdriver.remote.webelement.WebElement (session=\"839aee691f9665a8ed5f7a0e61f18674\", element=\"d72ae213-86d2-4059-a3fb-d7a03042c193\")>,\n",
       " <selenium.webdriver.remote.webelement.WebElement (session=\"839aee691f9665a8ed5f7a0e61f18674\", element=\"95e9576c-dfb1-4ea0-99de-2ee9caea9379\")>,\n",
       " <selenium.webdriver.remote.webelement.WebElement (session=\"839aee691f9665a8ed5f7a0e61f18674\", element=\"0cd6db34-3eac-4447-bc18-90faf0ecb49a\")>,\n",
       " <selenium.webdriver.remote.webelement.WebElement (session=\"839aee691f9665a8ed5f7a0e61f18674\", element=\"c1eeec91-eef7-4a0b-885d-f5b656708465\")>,\n",
       " <selenium.webdriver.remote.webelement.WebElement (session=\"839aee691f9665a8ed5f7a0e61f18674\", element=\"d79751e5-f693-4634-87c6-b3bc5fde1e73\")>,\n",
       " <selenium.webdriver.remote.webelement.WebElement (session=\"839aee691f9665a8ed5f7a0e61f18674\", element=\"81a7fd19-adec-46fa-9d4d-60c2a1b77256\")>,\n",
       " <selenium.webdriver.remote.webelement.WebElement (session=\"839aee691f9665a8ed5f7a0e61f18674\", element=\"2973e22a-1f6b-4298-9c60-bc70e26ebf53\")>,\n",
       " <selenium.webdriver.remote.webelement.WebElement (session=\"839aee691f9665a8ed5f7a0e61f18674\", element=\"b806c34d-b344-4897-8667-9d577c9a6750\")>,\n",
       " <selenium.webdriver.remote.webelement.WebElement (session=\"839aee691f9665a8ed5f7a0e61f18674\", element=\"6ab227b3-5cb0-4b99-9780-f93a348cd3b1\")>,\n",
       " <selenium.webdriver.remote.webelement.WebElement (session=\"839aee691f9665a8ed5f7a0e61f18674\", element=\"71838c3f-5232-4029-8434-81e2bd0cd93b\")>,\n",
       " <selenium.webdriver.remote.webelement.WebElement (session=\"839aee691f9665a8ed5f7a0e61f18674\", element=\"2d1c30ad-2847-4322-930d-dd1d99b29af8\")>,\n",
       " <selenium.webdriver.remote.webelement.WebElement (session=\"839aee691f9665a8ed5f7a0e61f18674\", element=\"36564e70-45bd-4c6b-ac33-4bee27de4cf5\")>,\n",
       " <selenium.webdriver.remote.webelement.WebElement (session=\"839aee691f9665a8ed5f7a0e61f18674\", element=\"204a67fb-8f0d-4756-899b-bc9cfabc8f80\")>,\n",
       " <selenium.webdriver.remote.webelement.WebElement (session=\"839aee691f9665a8ed5f7a0e61f18674\", element=\"13596c6f-446f-41e3-9dbd-89bc4edf5ac2\")>,\n",
       " <selenium.webdriver.remote.webelement.WebElement (session=\"839aee691f9665a8ed5f7a0e61f18674\", element=\"d96f1be2-e315-40ec-a995-4a348bd5cff9\")>,\n",
       " <selenium.webdriver.remote.webelement.WebElement (session=\"839aee691f9665a8ed5f7a0e61f18674\", element=\"b0643713-7fef-4f41-adcd-d50e994dcaf8\")>,\n",
       " <selenium.webdriver.remote.webelement.WebElement (session=\"839aee691f9665a8ed5f7a0e61f18674\", element=\"2e569dcd-8c76-4d2f-bda7-6b285152945e\")>,\n",
       " <selenium.webdriver.remote.webelement.WebElement (session=\"839aee691f9665a8ed5f7a0e61f18674\", element=\"d5304b5b-85f4-4088-9089-1b325960d366\")>,\n",
       " <selenium.webdriver.remote.webelement.WebElement (session=\"839aee691f9665a8ed5f7a0e61f18674\", element=\"1d8ada69-5f6f-40eb-9122-ad472ae9882b\")>,\n",
       " <selenium.webdriver.remote.webelement.WebElement (session=\"839aee691f9665a8ed5f7a0e61f18674\", element=\"3fa8a422-ff0e-4d48-a1d9-839902df8076\")>,\n",
       " <selenium.webdriver.remote.webelement.WebElement (session=\"839aee691f9665a8ed5f7a0e61f18674\", element=\"f29f3ae8-c2b2-4c4f-a88d-22440320b243\")>,\n",
       " <selenium.webdriver.remote.webelement.WebElement (session=\"839aee691f9665a8ed5f7a0e61f18674\", element=\"4b18be95-0f23-4b95-8000-cbabfb05a92a\")>,\n",
       " <selenium.webdriver.remote.webelement.WebElement (session=\"839aee691f9665a8ed5f7a0e61f18674\", element=\"0ec85f6a-3e93-4cf2-b43e-fbc247d5a607\")>,\n",
       " <selenium.webdriver.remote.webelement.WebElement (session=\"839aee691f9665a8ed5f7a0e61f18674\", element=\"ecde37d6-5a7a-4e15-8aa8-c6797f54094c\")>]"
      ]
     },
     "execution_count": 70,
     "metadata": {},
     "output_type": "execute_result"
    }
   ],
   "source": [
    "# 내용 크롤링\n",
    "overlays = \".se-component.se-text.se-l-default\"                                 \n",
    "contents = driver.find_elements_by_css_selector(overlays)    # contents\n",
    "contents"
   ]
  },
  {
   "cell_type": "code",
   "execution_count": 71,
   "metadata": {},
   "outputs": [
    {
     "data": {
      "text/plain": [
       "'안녕하세요! 두덩입니다~\\n오늘은 강남 역삼 맛집을 소개하려고 합니다.\\n분위기며 음식 맛이며 재방문율이 높은 나이티지라는 곳인데요!\\n저도 이미 예전에 장작구이 치킨을 맛있게 먹은\\n기억이 있어서 이번에 대학교 친구를 데리고 또 왔습니다 ㅎㅎ'"
      ]
     },
     "execution_count": 71,
     "metadata": {},
     "output_type": "execute_result"
    }
   ],
   "source": [
    "contents[0].text"
   ]
  },
  {
   "cell_type": "code",
   "execution_count": 72,
   "metadata": {},
   "outputs": [
    {
     "data": {
      "text/plain": [
       "'여러분들은 통닭 하면 무엇이 떠오르시나요?\\n저는 어릴 때 아빠가 가끔 집 근처에 오는\\n전기구이 통닭을 사 오시면 가족들과 맛있게 먹은\\n추억이 떠올라요.\\n전기구이 특유의 부드러움과\\n닭 속의 각종 약재들의 향이 베어 있는 밥..!\\n이곳에서는 어린 시절 추억과 함께 색다른 조합을\\n맛볼 수 있는 곳이라 자꾸만 떠오르는 것 같아요~'"
      ]
     },
     "execution_count": 72,
     "metadata": {},
     "output_type": "execute_result"
    }
   ],
   "source": [
    "contents[1].text   # text or get_attribute"
   ]
  },
  {
   "cell_type": "code",
   "execution_count": 73,
   "metadata": {
    "scrolled": true
   },
   "outputs": [
    {
     "data": {
      "text/plain": [
       "'안녕하세요! 두덩입니다~\\n오늘은 강남 역삼 맛집을 소개하려고 합니다.\\n분위기며 음식 맛이며 재방문율이 높은 나이티지라는 곳인데요!\\n저도 이미 예전에 장작구이 치킨을 맛있게 먹은\\n기억이 있어서 이번에 대학교 친구를 데리고 또 왔습니다 ㅎㅎ 여러분들은 통닭 하면 무엇이 떠오르시나요?\\n저는 어릴 때 아빠가 가끔 집 근처에 오는\\n전기구이 통닭을 사 오시면 가족들과 맛있게 먹은\\n추억이 떠올라요.\\n전기구이 특유의 부드러움과\\n닭 속의 각종 약재들의 향이 베어 있는 밥..!\\n이곳에서는 어린 시절 추억과 함께 색다른 조합을\\n맛볼 수 있는 곳이라 자꾸만 떠오르는 것 같아요~ 신분당선 4번 출구에서 도보 5분 정도 거리에\\n위치해 있어서 약속 잡기에 접근성도 매우 좋습니다!\\n이날은 결혼하는 친구와의 약속이었어용\\n대부분 이쪽 동네에 오면 술집이나 카페가 모여 있는\\n10번 혹은 11번 출구로 많이 나가는데,\\n4번 출구 쪽에도 은근 뭐가 많아요~ 강남 역삼 맛집으로는 이미 많은 여심을 홀린\\n나이티지입니다!\\n매장 바로 앞에는 저희가 먹을 장작구이 치킨이\\n맛있게 돌아가고 있었는데요.\\n참나무 장작구이로 구워 더욱 향기 좋고 부드러운\\n치킨을 맛볼 수 있답니다 ㅎㅎ 찾아오는 것도 어렵지 않으니,\\n다음 술 약속은 이곳 어떠신가요?!\\n영업시간은\\n매일 14:00 - 00:00 그리고 입구에서부터 느껴지는 중세시대의 분위기!\\n여기가 상호명의 뜻이 기사단이라고 하는데,\\n그 시대의 감성을 그대로 녹여 유니크함과 함께\\n로맨틱함을 동시에 느낄 수 있는 곳이에요. 매장 안으로 들어가면 더욱 분위기가 남다른데요.\\n전체적으로 우드 가구들과,\\n곳곳에 무드 있게 타오 있는 촛불들.\\n벽면은 돌담벽으로 되어 있어서 웅장하면서도\\n고풍스러운 느낌이 났습니다!\\n데이트 장소로도 딱 좋을 분위기죠? 저와 친구는 어디를 앉을까 하다가\\n저번에 자리가 없어서 앉지 못했던\\n야외 감성의 테이블로 자리를 잡았습니다.\\n강남 역삼 맛집이라 저녁시간에는 손님이 많아져서\\n이번에는 나이티지에 조금 이른 저녁 시간에 왔어요 ㅎㅎ\\n이날 날씨가 선선해서 뭔가 야외 감성으로 \\n식사를 하고 싶었는데, 여기가 완전히 외부는 아니어도\\n나름 그 분위기가 있어서 좋거든요! 자리를 잡고 메뉴판을 살펴봤습니다!\\n저는 이미 한번 와본 곳이라\\n군침이 벌써부터 돌더라구요..\\n이곳의 대표 메뉴는 장작구이 치킨입니다~\\n특히 닭과 함께 파스타+리조또를 함께 먹을 수 있는\\n시즌2의 메뉴도 이곳의 인기 메뉴인데요.\\n3가지 음식을 한 번에 즐길 수 있으니 가성비는 말해 모해요~ 여러 명이서 오면 비주얼 대박적인\\n플래터 메뉴도 정말 좋을 것 같습니다~\\n매장이 비교적 넉넉한 규모라서 100인 정도 수용이\\n가능하다고 하니 회식이나 단체 모임에\\n딱 좋을 것 같아요!! 단품 파스타, 필라프 리조또도 시킬 수 있구요!\\n강남 역삼 맛집답게 사이드로 즐길 수 있는\\n샐러드, 떡볶이, 튀김, 소시지 등\\n나이티지 메뉴 구성이 정말 알차고 다양했어요! 메뉴 구성만큼 다양했던 주류와 음료들.\\n소주 맥주는 물론, 모히또와 와인, 위스키까지.\\n정말 없는 게 없더라구여~\\n술을 못 먹는 사람들을 위한 일반 카페 음료들까지 있어서\\n더욱 만족스러웠던 곳입니다 :D SNS 이벤트도 진행 중에 있으니\\n무료로 생맥 얻어먹기!!\\n여기 생맥에 살얼음을 얹어 주시는데,\\n진짜 시원해요~ 주문 후 곧바로 세팅을 해주시는 5종 소스와 피클.\\n여기 접시와 포크, 수저들도 모두 컨셉에\\n정말 잘 어울리지 않나요?\\n이런 센스 하나하나가 디테일한 게 느껴졌어요. 소스는 일반 양념과 와사비 마요,\\n매콤한 마요 소스? 그리고 머스터드와\\n매운 빨간 소스 이렇게 5종이었던 것 같아요!\\n저는 개인적으로 가운데의\\n불닭마요와 비슷한 양념 소스가 맛있었네용 강남 역삼 맛집으론 이미 맛 하나는\\n보장된 이 나이티지만의 장작구이 치킨이 나왔어요.\\n이날은 밥이 더 먹고 싶어서 단품으로 시켰는데,\\n비주얼이 장난 없죠?! 숯불 양념 장작구이 (20,900원)\\n참나무로 구워낸 닭과 감자튀김, 그리고\\n매콤한 숯불 직화 소스가 함게 나오는데요.\\n여기 따로 주시는 직화 소스가 정말 맛있더라구요?\\n매콤+달달의 조합인데, 부드러운 닭고기와 조합이 정말 좋았어요! 감자튀김도 갓 튀겨져 나와서 바삭하니\\n당연히 맛있고..\\n닭이며 감자튀김이며 소스도 다양하니\\n질리지 않게 다양한 맛으로 즐길 수 있으니 더욱 좋았어요~ 닭을 반으로 가르니 저 부드러운 살코기 보이시나요?\\n약간 분홍빛의 살코기가 마치 안 익은 것 같지만,\\n핑킹현상으로 단백질로 인해 나타나는 현상이라네요?!\\n닭고기 자체는 너무 부드럽고 촉촉했어요!!\\n닭 가슴살마저 맛있으니.. 남은 건 뼈 조각들뿐..\\n역시 또 방문한 강남 역삼 맛집은 대.만.족이었습니다~ 나이티지의 닭 안에 들어있는 이 밥도\\n숯불 양념장에 푸욱 찍어 먹으니\\n정말 맛있었어요!! 해물 로제 리조또 (16,900원)\\n신선한 해물이 가득 들어간 로제 리조또를 주문했어요!\\n로제 양념이 진하고 간도 적당하게 되어 있어서\\n정말 싹싹 긁어먹었습니다.. 굴과 오징어, 새우 등 각종 신선한 해물과\\n그 안에 부드러운 리조또의 조합.\\n전에는 파스타 먹었었는데, 리조또도 정말 잘하네요ㅜㅜ 이 꽉 찬 굴 속살 좀 보세요!\\n하나도 안 비리고 너무 맛있었네요~ 저번과는 다른 메뉴들로 주문을 해먹었는데,\\n올 때마다 맛있으면.. 단골 각이잖아요!!! 여기 메뉴 하나하나 다 먹어보고 싶은 욕심이 드네요..\\n그래서 다음 재방문 때 먹을 메뉴는 이미\\n마음속으로 치즈 들어간 메뉴로 정했답니다 ㅋㅋㅋ 색다른 분위기에 친구들과 맥주 한 잔,\\n로맨틱한 무드에 연인과 맛있는 저녁,\\n일 끝나고 동료들과 회식자리 등\\n어떤 자리에도 추천하고 싶은 강남 역삼 맛집이었습니다~ 아니.. 장작구이 치킨도 잘하는 나이티지에 \\n이렇게 후식으로 먹을 수 있는 상하목장 아이스크림까지 있으니\\n갓벽한 마무리였답니다~ '"
      ]
     },
     "execution_count": 73,
     "metadata": {},
     "output_type": "execute_result"
    }
   ],
   "source": [
    "content_list = []\n",
    "for content in contents:\n",
    "    content_list.append(content.text)\n",
    "\n",
    "content_str = ' '.join(content_list)                         # content_str\n",
    "content_str"
   ]
  },
  {
   "cell_type": "code",
   "execution_count": 74,
   "metadata": {},
   "outputs": [
    {
     "data": {
      "text/plain": [
       "'강남 역삼 맛집 나이티지 장작구이 치킨에 반한 곳'"
      ]
     },
     "execution_count": 74,
     "metadata": {},
     "output_type": "execute_result"
    }
   ],
   "source": [
    "title"
   ]
  },
  {
   "cell_type": "code",
   "execution_count": 75,
   "metadata": {},
   "outputs": [
    {
     "data": {
      "text/plain": [
       "'두덩두덩'"
      ]
     },
     "execution_count": 75,
     "metadata": {},
     "output_type": "execute_result"
    }
   ],
   "source": [
    "nickname"
   ]
  },
  {
   "cell_type": "code",
   "execution_count": 76,
   "metadata": {},
   "outputs": [],
   "source": [
    "# 글 하나는 target_info라는 딕셔너리에 담기게 되고,\n",
    "target_info['title'] = title\n",
    "target_info['nickname'] = nickname\n",
    "target_info['datetime'] = datetime\n",
    "target_info['content'] = content_str"
   ]
  },
  {
   "cell_type": "code",
   "execution_count": 77,
   "metadata": {
    "scrolled": true
   },
   "outputs": [
    {
     "data": {
      "text/plain": [
       "{'title': '강남 역삼 맛집 나이티지 장작구이 치킨에 반한 곳',\n",
       " 'nickname': '두덩두덩',\n",
       " 'datetime': '2022. 4. 19. 9:00',\n",
       " 'content': '안녕하세요! 두덩입니다~\\n오늘은 강남 역삼 맛집을 소개하려고 합니다.\\n분위기며 음식 맛이며 재방문율이 높은 나이티지라는 곳인데요!\\n저도 이미 예전에 장작구이 치킨을 맛있게 먹은\\n기억이 있어서 이번에 대학교 친구를 데리고 또 왔습니다 ㅎㅎ 여러분들은 통닭 하면 무엇이 떠오르시나요?\\n저는 어릴 때 아빠가 가끔 집 근처에 오는\\n전기구이 통닭을 사 오시면 가족들과 맛있게 먹은\\n추억이 떠올라요.\\n전기구이 특유의 부드러움과\\n닭 속의 각종 약재들의 향이 베어 있는 밥..!\\n이곳에서는 어린 시절 추억과 함께 색다른 조합을\\n맛볼 수 있는 곳이라 자꾸만 떠오르는 것 같아요~ 신분당선 4번 출구에서 도보 5분 정도 거리에\\n위치해 있어서 약속 잡기에 접근성도 매우 좋습니다!\\n이날은 결혼하는 친구와의 약속이었어용\\n대부분 이쪽 동네에 오면 술집이나 카페가 모여 있는\\n10번 혹은 11번 출구로 많이 나가는데,\\n4번 출구 쪽에도 은근 뭐가 많아요~ 강남 역삼 맛집으로는 이미 많은 여심을 홀린\\n나이티지입니다!\\n매장 바로 앞에는 저희가 먹을 장작구이 치킨이\\n맛있게 돌아가고 있었는데요.\\n참나무 장작구이로 구워 더욱 향기 좋고 부드러운\\n치킨을 맛볼 수 있답니다 ㅎㅎ 찾아오는 것도 어렵지 않으니,\\n다음 술 약속은 이곳 어떠신가요?!\\n영업시간은\\n매일 14:00 - 00:00 그리고 입구에서부터 느껴지는 중세시대의 분위기!\\n여기가 상호명의 뜻이 기사단이라고 하는데,\\n그 시대의 감성을 그대로 녹여 유니크함과 함께\\n로맨틱함을 동시에 느낄 수 있는 곳이에요. 매장 안으로 들어가면 더욱 분위기가 남다른데요.\\n전체적으로 우드 가구들과,\\n곳곳에 무드 있게 타오 있는 촛불들.\\n벽면은 돌담벽으로 되어 있어서 웅장하면서도\\n고풍스러운 느낌이 났습니다!\\n데이트 장소로도 딱 좋을 분위기죠? 저와 친구는 어디를 앉을까 하다가\\n저번에 자리가 없어서 앉지 못했던\\n야외 감성의 테이블로 자리를 잡았습니다.\\n강남 역삼 맛집이라 저녁시간에는 손님이 많아져서\\n이번에는 나이티지에 조금 이른 저녁 시간에 왔어요 ㅎㅎ\\n이날 날씨가 선선해서 뭔가 야외 감성으로 \\n식사를 하고 싶었는데, 여기가 완전히 외부는 아니어도\\n나름 그 분위기가 있어서 좋거든요! 자리를 잡고 메뉴판을 살펴봤습니다!\\n저는 이미 한번 와본 곳이라\\n군침이 벌써부터 돌더라구요..\\n이곳의 대표 메뉴는 장작구이 치킨입니다~\\n특히 닭과 함께 파스타+리조또를 함께 먹을 수 있는\\n시즌2의 메뉴도 이곳의 인기 메뉴인데요.\\n3가지 음식을 한 번에 즐길 수 있으니 가성비는 말해 모해요~ 여러 명이서 오면 비주얼 대박적인\\n플래터 메뉴도 정말 좋을 것 같습니다~\\n매장이 비교적 넉넉한 규모라서 100인 정도 수용이\\n가능하다고 하니 회식이나 단체 모임에\\n딱 좋을 것 같아요!! 단품 파스타, 필라프 리조또도 시킬 수 있구요!\\n강남 역삼 맛집답게 사이드로 즐길 수 있는\\n샐러드, 떡볶이, 튀김, 소시지 등\\n나이티지 메뉴 구성이 정말 알차고 다양했어요! 메뉴 구성만큼 다양했던 주류와 음료들.\\n소주 맥주는 물론, 모히또와 와인, 위스키까지.\\n정말 없는 게 없더라구여~\\n술을 못 먹는 사람들을 위한 일반 카페 음료들까지 있어서\\n더욱 만족스러웠던 곳입니다 :D SNS 이벤트도 진행 중에 있으니\\n무료로 생맥 얻어먹기!!\\n여기 생맥에 살얼음을 얹어 주시는데,\\n진짜 시원해요~ 주문 후 곧바로 세팅을 해주시는 5종 소스와 피클.\\n여기 접시와 포크, 수저들도 모두 컨셉에\\n정말 잘 어울리지 않나요?\\n이런 센스 하나하나가 디테일한 게 느껴졌어요. 소스는 일반 양념과 와사비 마요,\\n매콤한 마요 소스? 그리고 머스터드와\\n매운 빨간 소스 이렇게 5종이었던 것 같아요!\\n저는 개인적으로 가운데의\\n불닭마요와 비슷한 양념 소스가 맛있었네용 강남 역삼 맛집으론 이미 맛 하나는\\n보장된 이 나이티지만의 장작구이 치킨이 나왔어요.\\n이날은 밥이 더 먹고 싶어서 단품으로 시켰는데,\\n비주얼이 장난 없죠?! 숯불 양념 장작구이 (20,900원)\\n참나무로 구워낸 닭과 감자튀김, 그리고\\n매콤한 숯불 직화 소스가 함게 나오는데요.\\n여기 따로 주시는 직화 소스가 정말 맛있더라구요?\\n매콤+달달의 조합인데, 부드러운 닭고기와 조합이 정말 좋았어요! 감자튀김도 갓 튀겨져 나와서 바삭하니\\n당연히 맛있고..\\n닭이며 감자튀김이며 소스도 다양하니\\n질리지 않게 다양한 맛으로 즐길 수 있으니 더욱 좋았어요~ 닭을 반으로 가르니 저 부드러운 살코기 보이시나요?\\n약간 분홍빛의 살코기가 마치 안 익은 것 같지만,\\n핑킹현상으로 단백질로 인해 나타나는 현상이라네요?!\\n닭고기 자체는 너무 부드럽고 촉촉했어요!!\\n닭 가슴살마저 맛있으니.. 남은 건 뼈 조각들뿐..\\n역시 또 방문한 강남 역삼 맛집은 대.만.족이었습니다~ 나이티지의 닭 안에 들어있는 이 밥도\\n숯불 양념장에 푸욱 찍어 먹으니\\n정말 맛있었어요!! 해물 로제 리조또 (16,900원)\\n신선한 해물이 가득 들어간 로제 리조또를 주문했어요!\\n로제 양념이 진하고 간도 적당하게 되어 있어서\\n정말 싹싹 긁어먹었습니다.. 굴과 오징어, 새우 등 각종 신선한 해물과\\n그 안에 부드러운 리조또의 조합.\\n전에는 파스타 먹었었는데, 리조또도 정말 잘하네요ㅜㅜ 이 꽉 찬 굴 속살 좀 보세요!\\n하나도 안 비리고 너무 맛있었네요~ 저번과는 다른 메뉴들로 주문을 해먹었는데,\\n올 때마다 맛있으면.. 단골 각이잖아요!!! 여기 메뉴 하나하나 다 먹어보고 싶은 욕심이 드네요..\\n그래서 다음 재방문 때 먹을 메뉴는 이미\\n마음속으로 치즈 들어간 메뉴로 정했답니다 ㅋㅋㅋ 색다른 분위기에 친구들과 맥주 한 잔,\\n로맨틱한 무드에 연인과 맛있는 저녁,\\n일 끝나고 동료들과 회식자리 등\\n어떤 자리에도 추천하고 싶은 강남 역삼 맛집이었습니다~ 아니.. 장작구이 치킨도 잘하는 나이티지에 \\n이렇게 후식으로 먹을 수 있는 상하목장 아이스크림까지 있으니\\n갓벽한 마무리였답니다~ '}"
      ]
     },
     "execution_count": 77,
     "metadata": {},
     "output_type": "execute_result"
    }
   ],
   "source": [
    "target_info"
   ]
  },
  {
   "cell_type": "code",
   "execution_count": 78,
   "metadata": {},
   "outputs": [],
   "source": [
    "# 각각의 글은 dict라는 딕셔너리에 담기게 됩니다.\n",
    "dict[0] = target_info"
   ]
  },
  {
   "cell_type": "code",
   "execution_count": 79,
   "metadata": {
    "scrolled": true
   },
   "outputs": [
    {
     "data": {
      "text/plain": [
       "{0: {'title': '강남 역삼 맛집 나이티지 장작구이 치킨에 반한 곳',\n",
       "  'nickname': '두덩두덩',\n",
       "  'datetime': '2022. 4. 19. 9:00',\n",
       "  'content': '안녕하세요! 두덩입니다~\\n오늘은 강남 역삼 맛집을 소개하려고 합니다.\\n분위기며 음식 맛이며 재방문율이 높은 나이티지라는 곳인데요!\\n저도 이미 예전에 장작구이 치킨을 맛있게 먹은\\n기억이 있어서 이번에 대학교 친구를 데리고 또 왔습니다 ㅎㅎ 여러분들은 통닭 하면 무엇이 떠오르시나요?\\n저는 어릴 때 아빠가 가끔 집 근처에 오는\\n전기구이 통닭을 사 오시면 가족들과 맛있게 먹은\\n추억이 떠올라요.\\n전기구이 특유의 부드러움과\\n닭 속의 각종 약재들의 향이 베어 있는 밥..!\\n이곳에서는 어린 시절 추억과 함께 색다른 조합을\\n맛볼 수 있는 곳이라 자꾸만 떠오르는 것 같아요~ 신분당선 4번 출구에서 도보 5분 정도 거리에\\n위치해 있어서 약속 잡기에 접근성도 매우 좋습니다!\\n이날은 결혼하는 친구와의 약속이었어용\\n대부분 이쪽 동네에 오면 술집이나 카페가 모여 있는\\n10번 혹은 11번 출구로 많이 나가는데,\\n4번 출구 쪽에도 은근 뭐가 많아요~ 강남 역삼 맛집으로는 이미 많은 여심을 홀린\\n나이티지입니다!\\n매장 바로 앞에는 저희가 먹을 장작구이 치킨이\\n맛있게 돌아가고 있었는데요.\\n참나무 장작구이로 구워 더욱 향기 좋고 부드러운\\n치킨을 맛볼 수 있답니다 ㅎㅎ 찾아오는 것도 어렵지 않으니,\\n다음 술 약속은 이곳 어떠신가요?!\\n영업시간은\\n매일 14:00 - 00:00 그리고 입구에서부터 느껴지는 중세시대의 분위기!\\n여기가 상호명의 뜻이 기사단이라고 하는데,\\n그 시대의 감성을 그대로 녹여 유니크함과 함께\\n로맨틱함을 동시에 느낄 수 있는 곳이에요. 매장 안으로 들어가면 더욱 분위기가 남다른데요.\\n전체적으로 우드 가구들과,\\n곳곳에 무드 있게 타오 있는 촛불들.\\n벽면은 돌담벽으로 되어 있어서 웅장하면서도\\n고풍스러운 느낌이 났습니다!\\n데이트 장소로도 딱 좋을 분위기죠? 저와 친구는 어디를 앉을까 하다가\\n저번에 자리가 없어서 앉지 못했던\\n야외 감성의 테이블로 자리를 잡았습니다.\\n강남 역삼 맛집이라 저녁시간에는 손님이 많아져서\\n이번에는 나이티지에 조금 이른 저녁 시간에 왔어요 ㅎㅎ\\n이날 날씨가 선선해서 뭔가 야외 감성으로 \\n식사를 하고 싶었는데, 여기가 완전히 외부는 아니어도\\n나름 그 분위기가 있어서 좋거든요! 자리를 잡고 메뉴판을 살펴봤습니다!\\n저는 이미 한번 와본 곳이라\\n군침이 벌써부터 돌더라구요..\\n이곳의 대표 메뉴는 장작구이 치킨입니다~\\n특히 닭과 함께 파스타+리조또를 함께 먹을 수 있는\\n시즌2의 메뉴도 이곳의 인기 메뉴인데요.\\n3가지 음식을 한 번에 즐길 수 있으니 가성비는 말해 모해요~ 여러 명이서 오면 비주얼 대박적인\\n플래터 메뉴도 정말 좋을 것 같습니다~\\n매장이 비교적 넉넉한 규모라서 100인 정도 수용이\\n가능하다고 하니 회식이나 단체 모임에\\n딱 좋을 것 같아요!! 단품 파스타, 필라프 리조또도 시킬 수 있구요!\\n강남 역삼 맛집답게 사이드로 즐길 수 있는\\n샐러드, 떡볶이, 튀김, 소시지 등\\n나이티지 메뉴 구성이 정말 알차고 다양했어요! 메뉴 구성만큼 다양했던 주류와 음료들.\\n소주 맥주는 물론, 모히또와 와인, 위스키까지.\\n정말 없는 게 없더라구여~\\n술을 못 먹는 사람들을 위한 일반 카페 음료들까지 있어서\\n더욱 만족스러웠던 곳입니다 :D SNS 이벤트도 진행 중에 있으니\\n무료로 생맥 얻어먹기!!\\n여기 생맥에 살얼음을 얹어 주시는데,\\n진짜 시원해요~ 주문 후 곧바로 세팅을 해주시는 5종 소스와 피클.\\n여기 접시와 포크, 수저들도 모두 컨셉에\\n정말 잘 어울리지 않나요?\\n이런 센스 하나하나가 디테일한 게 느껴졌어요. 소스는 일반 양념과 와사비 마요,\\n매콤한 마요 소스? 그리고 머스터드와\\n매운 빨간 소스 이렇게 5종이었던 것 같아요!\\n저는 개인적으로 가운데의\\n불닭마요와 비슷한 양념 소스가 맛있었네용 강남 역삼 맛집으론 이미 맛 하나는\\n보장된 이 나이티지만의 장작구이 치킨이 나왔어요.\\n이날은 밥이 더 먹고 싶어서 단품으로 시켰는데,\\n비주얼이 장난 없죠?! 숯불 양념 장작구이 (20,900원)\\n참나무로 구워낸 닭과 감자튀김, 그리고\\n매콤한 숯불 직화 소스가 함게 나오는데요.\\n여기 따로 주시는 직화 소스가 정말 맛있더라구요?\\n매콤+달달의 조합인데, 부드러운 닭고기와 조합이 정말 좋았어요! 감자튀김도 갓 튀겨져 나와서 바삭하니\\n당연히 맛있고..\\n닭이며 감자튀김이며 소스도 다양하니\\n질리지 않게 다양한 맛으로 즐길 수 있으니 더욱 좋았어요~ 닭을 반으로 가르니 저 부드러운 살코기 보이시나요?\\n약간 분홍빛의 살코기가 마치 안 익은 것 같지만,\\n핑킹현상으로 단백질로 인해 나타나는 현상이라네요?!\\n닭고기 자체는 너무 부드럽고 촉촉했어요!!\\n닭 가슴살마저 맛있으니.. 남은 건 뼈 조각들뿐..\\n역시 또 방문한 강남 역삼 맛집은 대.만.족이었습니다~ 나이티지의 닭 안에 들어있는 이 밥도\\n숯불 양념장에 푸욱 찍어 먹으니\\n정말 맛있었어요!! 해물 로제 리조또 (16,900원)\\n신선한 해물이 가득 들어간 로제 리조또를 주문했어요!\\n로제 양념이 진하고 간도 적당하게 되어 있어서\\n정말 싹싹 긁어먹었습니다.. 굴과 오징어, 새우 등 각종 신선한 해물과\\n그 안에 부드러운 리조또의 조합.\\n전에는 파스타 먹었었는데, 리조또도 정말 잘하네요ㅜㅜ 이 꽉 찬 굴 속살 좀 보세요!\\n하나도 안 비리고 너무 맛있었네요~ 저번과는 다른 메뉴들로 주문을 해먹었는데,\\n올 때마다 맛있으면.. 단골 각이잖아요!!! 여기 메뉴 하나하나 다 먹어보고 싶은 욕심이 드네요..\\n그래서 다음 재방문 때 먹을 메뉴는 이미\\n마음속으로 치즈 들어간 메뉴로 정했답니다 ㅋㅋㅋ 색다른 분위기에 친구들과 맥주 한 잔,\\n로맨틱한 무드에 연인과 맛있는 저녁,\\n일 끝나고 동료들과 회식자리 등\\n어떤 자리에도 추천하고 싶은 강남 역삼 맛집이었습니다~ 아니.. 장작구이 치킨도 잘하는 나이티지에 \\n이렇게 후식으로 먹을 수 있는 상하목장 아이스크림까지 있으니\\n갓벽한 마무리였답니다~ '}}"
      ]
     },
     "execution_count": 79,
     "metadata": {},
     "output_type": "execute_result"
    }
   ],
   "source": [
    "dict"
   ]
  },
  {
   "cell_type": "markdown",
   "metadata": {},
   "source": [
    "## 위에 코드들을 for문으로 한번에 "
   ]
  },
  {
   "cell_type": "code",
   "execution_count": 80,
   "metadata": {
    "colab": {
     "referenced_widgets": [
      "90fd656a8c42421bbe133fdcd0598bc6"
     ]
    },
    "id": "XFXmQgE8-kvu",
    "outputId": "132915b2-033b-43b1-997c-cc5609dbf776",
    "scrolled": true
   },
   "outputs": [
    {
     "data": {
      "application/vnd.jupyter.widget-view+json": {
       "model_id": "3a9eba25eb7647d9a6b4fc8dcc00a58c",
       "version_major": 2,
       "version_minor": 0
      },
      "text/plain": [
       "  0%|          | 0/10 [00:00<?, ?it/s]"
      ]
     },
     "metadata": {},
     "output_type": "display_data"
    },
    {
     "name": "stdout",
     "output_type": "stream",
     "text": [
      "0 강남 역삼 맛집 나이티지 장작구이 치킨에 반한 곳 두덩두덩\n",
      "1 [역삼] 모도우 강남N점 : 역삼 맛집 프라이빗 룸식당에서 한우 코스 즐기기 뿌요\n",
      "(lovelove_pyo)\n",
      "2 역삼맛집 + 수제버거 캐스터네츠 메뉴 꿀팁 강남N타워 아가다\n",
      "3 [역삼역 맛집] 캐스터네츠 강남N점 - 강남 수제버거 맛집 야세\n",
      "(yase90)\n",
      "4 역삼역 맛집 [더뭉티기] 불금에 안성맞춤 생닭\n",
      "(kooltz1018)\n",
      "5 [역삼역맛집]이영자 전참시 맛집 차돌삼합진대감역삼점 솔직후기 Sisterhood\n",
      "6 역삼 맛집 수제버거가 맛있었던 캐스터네츠 CASTANETS 다크윤\n",
      "7 [역삼동] 모도우 - 프라이빗하니 모임하기 좋은 역삼 맛집 꼬리스마\n",
      "(hjy800911)\n",
      "8 역삼 맛집 타코벨신메뉴 멕시칸 브레드 타코 먹어봐요! 루시아\n",
      "9 역삼 맛집 강남 룸식당 모도우 디너 이칭\n",
      "(ccamjigi77)\n",
      "수집한 글 갯수:  10\n",
      "{0: {'title': '강남 역삼 맛집 나이티지 장작구이 치킨에 반한 곳', 'nickname': '두덩두덩', 'datetime': '2022. 4. 19. 9:00', 'content': '안녕하세요! 두덩입니다~\\n오늘은 강남 역삼 맛집을 소개하려고 합니다.\\n분위기며 음식 맛이며 재방문율이 높은 나이티지라는 곳인데요!\\n저도 이미 예전에 장작구이 치킨을 맛있게 먹은\\n기억이 있어서 이번에 대학교 친구를 데리고 또 왔습니다 ㅎㅎ 여러분들은 통닭 하면 무엇이 떠오르시나요?\\n저는 어릴 때 아빠가 가끔 집 근처에 오는\\n전기구이 통닭을 사 오시면 가족들과 맛있게 먹은\\n추억이 떠올라요.\\n전기구이 특유의 부드러움과\\n닭 속의 각종 약재들의 향이 베어 있는 밥..!\\n이곳에서는 어린 시절 추억과 함께 색다른 조합을\\n맛볼 수 있는 곳이라 자꾸만 떠오르는 것 같아요~ 신분당선 4번 출구에서 도보 5분 정도 거리에\\n위치해 있어서 약속 잡기에 접근성도 매우 좋습니다!\\n이날은 결혼하는 친구와의 약속이었어용\\n대부분 이쪽 동네에 오면 술집이나 카페가 모여 있는\\n10번 혹은 11번 출구로 많이 나가는데,\\n4번 출구 쪽에도 은근 뭐가 많아요~ 강남 역삼 맛집으로는 이미 많은 여심을 홀린\\n나이티지입니다!\\n매장 바로 앞에는 저희가 먹을 장작구이 치킨이\\n맛있게 돌아가고 있었는데요.\\n참나무 장작구이로 구워 더욱 향기 좋고 부드러운\\n치킨을 맛볼 수 있답니다 ㅎㅎ 찾아오는 것도 어렵지 않으니,\\n다음 술 약속은 이곳 어떠신가요?!\\n영업시간은\\n매일 14:00 - 00:00 그리고 입구에서부터 느껴지는 중세시대의 분위기!\\n여기가 상호명의 뜻이 기사단이라고 하는데,\\n그 시대의 감성을 그대로 녹여 유니크함과 함께\\n로맨틱함을 동시에 느낄 수 있는 곳이에요. 매장 안으로 들어가면 더욱 분위기가 남다른데요.\\n전체적으로 우드 가구들과,\\n곳곳에 무드 있게 타오 있는 촛불들.\\n벽면은 돌담벽으로 되어 있어서 웅장하면서도\\n고풍스러운 느낌이 났습니다!\\n데이트 장소로도 딱 좋을 분위기죠? 저와 친구는 어디를 앉을까 하다가\\n저번에 자리가 없어서 앉지 못했던\\n야외 감성의 테이블로 자리를 잡았습니다.\\n강남 역삼 맛집이라 저녁시간에는 손님이 많아져서\\n이번에는 나이티지에 조금 이른 저녁 시간에 왔어요 ㅎㅎ\\n이날 날씨가 선선해서 뭔가 야외 감성으로 \\n식사를 하고 싶었는데, 여기가 완전히 외부는 아니어도\\n나름 그 분위기가 있어서 좋거든요! 자리를 잡고 메뉴판을 살펴봤습니다!\\n저는 이미 한번 와본 곳이라\\n군침이 벌써부터 돌더라구요..\\n이곳의 대표 메뉴는 장작구이 치킨입니다~\\n특히 닭과 함께 파스타+리조또를 함께 먹을 수 있는\\n시즌2의 메뉴도 이곳의 인기 메뉴인데요.\\n3가지 음식을 한 번에 즐길 수 있으니 가성비는 말해 모해요~ 여러 명이서 오면 비주얼 대박적인\\n플래터 메뉴도 정말 좋을 것 같습니다~\\n매장이 비교적 넉넉한 규모라서 100인 정도 수용이\\n가능하다고 하니 회식이나 단체 모임에\\n딱 좋을 것 같아요!! 단품 파스타, 필라프 리조또도 시킬 수 있구요!\\n강남 역삼 맛집답게 사이드로 즐길 수 있는\\n샐러드, 떡볶이, 튀김, 소시지 등\\n나이티지 메뉴 구성이 정말 알차고 다양했어요! 메뉴 구성만큼 다양했던 주류와 음료들.\\n소주 맥주는 물론, 모히또와 와인, 위스키까지.\\n정말 없는 게 없더라구여~\\n술을 못 먹는 사람들을 위한 일반 카페 음료들까지 있어서\\n더욱 만족스러웠던 곳입니다 :D SNS 이벤트도 진행 중에 있으니\\n무료로 생맥 얻어먹기!!\\n여기 생맥에 살얼음을 얹어 주시는데,\\n진짜 시원해요~ 주문 후 곧바로 세팅을 해주시는 5종 소스와 피클.\\n여기 접시와 포크, 수저들도 모두 컨셉에\\n정말 잘 어울리지 않나요?\\n이런 센스 하나하나가 디테일한 게 느껴졌어요. 소스는 일반 양념과 와사비 마요,\\n매콤한 마요 소스? 그리고 머스터드와\\n매운 빨간 소스 이렇게 5종이었던 것 같아요!\\n저는 개인적으로 가운데의\\n불닭마요와 비슷한 양념 소스가 맛있었네용 강남 역삼 맛집으론 이미 맛 하나는\\n보장된 이 나이티지만의 장작구이 치킨이 나왔어요.\\n이날은 밥이 더 먹고 싶어서 단품으로 시켰는데,\\n비주얼이 장난 없죠?! 숯불 양념 장작구이 (20,900원)\\n참나무로 구워낸 닭과 감자튀김, 그리고\\n매콤한 숯불 직화 소스가 함게 나오는데요.\\n여기 따로 주시는 직화 소스가 정말 맛있더라구요?\\n매콤+달달의 조합인데, 부드러운 닭고기와 조합이 정말 좋았어요! 감자튀김도 갓 튀겨져 나와서 바삭하니\\n당연히 맛있고..\\n닭이며 감자튀김이며 소스도 다양하니\\n질리지 않게 다양한 맛으로 즐길 수 있으니 더욱 좋았어요~ 닭을 반으로 가르니 저 부드러운 살코기 보이시나요?\\n약간 분홍빛의 살코기가 마치 안 익은 것 같지만,\\n핑킹현상으로 단백질로 인해 나타나는 현상이라네요?!\\n닭고기 자체는 너무 부드럽고 촉촉했어요!!\\n닭 가슴살마저 맛있으니.. 남은 건 뼈 조각들뿐..\\n역시 또 방문한 강남 역삼 맛집은 대.만.족이었습니다~ 나이티지의 닭 안에 들어있는 이 밥도\\n숯불 양념장에 푸욱 찍어 먹으니\\n정말 맛있었어요!! 해물 로제 리조또 (16,900원)\\n신선한 해물이 가득 들어간 로제 리조또를 주문했어요!\\n로제 양념이 진하고 간도 적당하게 되어 있어서\\n정말 싹싹 긁어먹었습니다.. 굴과 오징어, 새우 등 각종 신선한 해물과\\n그 안에 부드러운 리조또의 조합.\\n전에는 파스타 먹었었는데, 리조또도 정말 잘하네요ㅜㅜ 이 꽉 찬 굴 속살 좀 보세요!\\n하나도 안 비리고 너무 맛있었네요~ 저번과는 다른 메뉴들로 주문을 해먹었는데,\\n올 때마다 맛있으면.. 단골 각이잖아요!!! 여기 메뉴 하나하나 다 먹어보고 싶은 욕심이 드네요..\\n그래서 다음 재방문 때 먹을 메뉴는 이미\\n마음속으로 치즈 들어간 메뉴로 정했답니다 ㅋㅋㅋ 색다른 분위기에 친구들과 맥주 한 잔,\\n로맨틱한 무드에 연인과 맛있는 저녁,\\n일 끝나고 동료들과 회식자리 등\\n어떤 자리에도 추천하고 싶은 강남 역삼 맛집이었습니다~ 아니.. 장작구이 치킨도 잘하는 나이티지에 \\n이렇게 후식으로 먹을 수 있는 상하목장 아이스크림까지 있으니\\n갓벽한 마무리였답니다~ '}, 1: {'title': '[역삼] 모도우 강남N점 : 역삼 맛집 프라이빗 룸식당에서 한우 코스 즐기기', 'nickname': '뿌요\\n(lovelove_pyo)', 'datetime': '2022. 3. 11. 20:36', 'content': '모도우 강남N점 오랜만에 미니님 보기로 한 날,\\n강남쪽에서 보기로 하고 뭐 먹을까, 역삼 맛집 찾아보다가 가게 된 모도우!\\n맛있는 고기가 먹고 싶기도 했고, 모든 룸이 단독룸으로 되어있어서 다른 사람과 마주칠 일이 거의 없겠다 싶어서 조용히 식사하기 좋을 것 같아 모도우로 선택했어요. 역삼역에서 도보 3분 정도 가까운 거리에 위치해있는 강남N타워 지하에 위치해있어요.  외관부터 엄청 고급지지 않나요? 요즘은 한식이나 한우를 코스로 내어주는 곳이 좋더라구요 ;ㅅ;  제가 제일 좋아했던 부분 중 하나.\\n진짜 모든 좌석이 이렇게 프라이빗룸으로 되어있어요.\\n근처에 회사가 많으니 직장인 회식이나 접대, 미팅 장소로도 좋을 것 같구,\\n코로나 시국에 다른 사람이랑 마주칠 걱정 없이 편하게 식사가 가능한 분위기라 좋았습니당! 요렇게 룸 하나하나가 다 분리되어있는 프라이빗룸이라는 점! 요긴 저희 자리! 역삼 맛집 모도우 강남N점의 메뉴를 보실까요?!\\n메뉴는 코스 요리가 메인이었는데, 한우 구이가 나오는 B코스가 좋아보여서 B코스로 주문했어요.\\nA코스는 한우 샤브샤브가 나와요. B코스에서 맘에 들었던 점은 한우 미역국도 나온다는 점... ;ㅇ;/// 소고기 들어간 미역국은 무조건 옳다는거 아시죠.... 그 외의 디너코스는 이렇게 구성되어있습니당! 좋았던 점 중 하나가, 테이블 위에 핸드폰을 올려놓으면 바로 충전이 되는 무선 충전기가 있더라구요.\\n이런 사소한것 하나하나가 배려받는다는 느낌을 받게 했어요! 첫 요리는 아보카도를 싼 참치요리인데, 간이 강하지 않은 소스와 같이 서빙되어 왔어요. 제가 원래 아보카도도 좋아하구 참치도 좋아하거든요.. 이 조합 칭찬해 ;ㅅ;\\n아보카도 특유의 크리미하면서 고소한 맛이 참치와 너무 잘 어울리더라구요. 간이 많이 강하지 않아서 첫 스타터로 어울리는 메뉴라는 생각이 들었어요. 두번째로는 한우 육회. 육회가 특이했던 점은, 보통 일반적인 육회는 베이스를 고추장으로 해서 육회를 만들잖아요?\\n여기 육회는 고추장이 아닌 간장 소스를 베이스로 해서 만들었는지 고추장 특유의 강하고 매콤한 간이 아니었어요.\\n그래서 오히려 코스로 즐기기에 맛있었던 것 같아요. 육회를 먹고 있으니까...\\n이건 와인을 같이 마셔줘야한다!!! 싶어서 미니님이 와인을 사주셨지 모예요,,  저희가 주문한 와인은 몬탈토, 페논 힐 샤르도네. 엄청 깔끔하고 깨끗한 맛이었어요.\\n저는 개인적으로 바디감이 묵직한 와인을 싫어하고 잘 못 마시는데... 이 와인은 바디감도 가볍고 말 그대로 깔끔한 맛이라 음식들이랑 잘 어울리더라구요! 그 다음 나온 새우전. 잘 버무린 파채와 함께 탱글한 새우 속살이 가득 들어차있어서 맛있었어요. 새우전까지 먹고 나면 이제 본격적으로 한우 구이 셋팅을 해주신답니다! 한우 비장탄 숯불구이.\\n타다끼같은 느낌으로 겉면만 살짝 초벌구이해서 나와서 사실 그대로 먹어도 맛있지만,\\n취향에 맞게 좀 더 익혀먹으면 따뜻하게 먹을 수 있어서 더 맛있는 한우구이. 같이 나온 밑반찬으로는 마늘쫑 무침과, 배추김치 그리고 오이무침이 있었는데 다 맛있었지만 개인적으로는 오이무침이 원픽이었어요.\\n적당히 새콤하면서 은은한 달콤함과 짭쪼름함이 있는, 아삭한 오이무침.\\n고기랑 잘 어울렸어요. 같이 나온 한우미역국과 잘 지어진 하얀 쌀밥. 무조건 맛있는 조합 아닌가요 ㅠㅠㅠㅠㅠ 미역국+쌀밥+고기라니....\\n미역국은 소고기가 듬뿍 들어가 꼬소하면서도 너무 맛있는 미역국이었고, 쌀밥도 고슬고슬 잘 지어져나왔어요. 이제 고기를 굽굽해봅니다! 요기에 원하는 만큼 올려서 구워먹으면 되구 새콤달콤한 소스에 입맛에 맞게 찍어먹으면 되어요. 개인적으로 좋았던 부분은 한우구이도 1인 1플레이트로 따로 셋팅되어 나온다는 점이에요.\\n보통 고깃집 가면 하나에 나오니까 고기굽는 사람이 따로 있기 마련인데.. 여긴 1인 1플레이트라서 자기가 먹고싶을때 원하는만큼만 직접 구워먹을 수 있어서 넘 좋았어요. 요렇게 굽굽해주면 됩니다! 저는 살짝만 익혀먹었어요. 육즙 가득한 한우구이 ㅠㅠㅠㅠ 넘 부드럽고 고소했어요. 요렇게 파채나 같이 나온 야채구이를 한번 더 익혀서 곁들여 먹어주면 꿀맛. 밥을 다 먹고 마무리 디저트로 나오는 빙수.\\n샤인머스캣과 딸기가 토핑되어 나와요. 서걱서걱한 얼음 샤벳 식감이고 새콤달콤한 맛인데, 새콤한 맛이 좀 더 강해서 고기를 먹고 나서 깔끔하게 마무리하기에 좋았습니다.\\n전반적으로 조용한 분위기에서, 단독룸에서 식사하는 분위기도 너무 좋았고\\n음식들도 다 정갈하고 깔끔해서 맛있었던 모도우.\\n역삼 맛집 찾으시는 분들, 특히 조용한 룸식당에서 식사할 곳을 찾으시는 분들에게 추천드려요!!  문의: 02-6250-0900\\n매일 11:00 - 22:00 (브레이크타임 15:00 - 17:00)\\n라스트오더 21:00'}, 2: {'title': '역삼맛집 + 수제버거 캐스터네츠 메뉴 꿀팁 강남N타워', 'nickname': '아가다', 'datetime': '2022. 2. 27. 21:26', 'content': '안녕하세요. 맛집블로거 아가다입니다. 집콕하며 그리운 첫번째음식. 지난 사진첩 뒤져 올려보는 핫플 역삼맛집 예정된 수제버거 전문점 캐스터네츠 예욥! 서울로인, 램브란트, 모도우에 이은 오픈의 야심작이자 역삼역 인근 강남n타워 맛집으로 등극할 곳인데요. 최근에 잠실의 프리미엄 수제버거땜에 더욱 핫해진 수제버거시장.\\n이제 동네마다 맛있는 햄버거집은 패스트푸드 말고도 한 군데씩 꼭 있는 필수 맛집으로 역삼맛집이자 강남수제버거맛집 시장에 출사표를 던진 곳이랍니다! 캐스터네츠 메뉴는 요로케!\\n수제버거 6가지, 사이드메뉴 6가지 꽤 간단한 메뉴라인업이라 고민을 많이 하지 않아도 좋아요.\\n저흰 새우싫어하는 사람이 껴있어 ㅋ 그분은 기본중에 기본인 하모니치즈버거를 셀렉하고 \\n캐스터네츠만의 시그니처라는 쏨땀이 들어간 파파야새우버거와 미리 찾아본 정보로 맛있다고 소문난 바질토마토버거를 주문했어요.\\n미리 썰을 풀자면 세메뉴 모두 성.공.적.\\n제가 못먹어본 베이컨이 더 추가된 하모니베이컨치즈버거역시 수제버거 기본이라 맛있을 테고\\n꽈리고추가 들어간 치킨꽈리버거랑 연단불고기버거도 캐스터네츠에서만 판매하는 메뉴일 것 같아 다음에 꼭 재방문해서 먹어보려구용 주문은 카운터주문도 가능했지만, 키오스크에서도 가능했어서 키오스크에서 주문을 하려고 하는데- \\n캐스터네츠 사이드메뉴에서도 살짝 고민이 되긴 했어요. 다들 맛있다던 핫윙인가 고구마튀김인가 감튀인가.....\\n다 먹기엔 분명 많을 것 같았는데, 사실 주문해보고 남자분이 한 분 껴있다면 사이드도 맘껏 주문하시길 추천해요\\n양이 막 어마무시하게 넘쳐나지 않아서 조금 안심하고 주문해도 좋답니다.\\n그래서 저흰 햄버거 세개 플로트 두종류- 애플민트와 레드베리, 살라미감튀, 고튀 이렇게 추가했어요. 매장 분위기가 넘모 내 서탈이었어요. \\n1번 사람이 없어 휑-하니 코시국에 딱이었고, 2번 테이블간 거리도 널찍널찍해서 프라이빗했고, 모노톤 그린 그레이 조합의 전체 분위기가 딱 취저.\\n  타다!\\n우리 메뉴 다 나오긔. ㅎ ㅏ앍, 맛있겟다 그쵸. 처음 먹어보는 역삼맛집 플로트랑 캐스터네츠 버거, 비주얼 깡패더라구욥 기본중에 기본 버거예요. 8,9라는 가격도 기본가격이었구요.\\n두껍고 노오란 체다치즈가 멜팅되어있는 모습이 예쁘구, 패티는 잘 안보이지만 딱 수제버거의 그 맛있는 패티라 클래식하게 즐기기 좋은 메뉴예요. 우리집 어린이가 드신거고, 보통의 패스트푸드점 주니어사이즈 버거는 다 드시는데 요날은 플로트랑 사이드 같이 즐기더니만 햄버거 하나 다 못먹었어요. 캐스터네츠 메뉴의 번 사이즈는 다 똑같은데 기본 버거도 양이 작지만은 않더라구요. 그리고 우리집 어린이가 가장 사랑했던 플로트! 요 그린컬러의 플로트는 애플민트 소다위에 바닐라 아이스크림이 한스쿱 올려진 음료예요.\\n레드컬러는 레드베리 소다위에 있는데 원랜 아이스크림을 소다에 섞어드셔도 되고 그냥 취향껏 따로 또 같이 드셔도 되어요!\\n우리는 청량감을 느끼기위한 소다로 먹고 아이스크림은 디저트 느낌으로 먹었답니다. 그래서 이렇게 함께나온 사이드 중에서 고구마튀김이랑 감자튀김에 찍어먹었어요. 강남수제버거맛집인 쉑쉑 처럼 쉐이크에 찍어먹는 프렌치프라이맛 나염 ㅋㅋ 햄버거의 영원한 짝꿍 감튀와 마늘과 로즈마리를 튀겨올려 반지르르 살라미를 더한 메뉴예요. 6,9라는 감튀치곤 약간 나쁜 가격같아보이지만 통감자 썰어서 튀겨주시는 것 같 다고 믿을 가격으로 보면 안나빴어요. 두가지 딥도 케쳡과 갈릭마요? 같은 느낌의 마요소스였는데 둘다 맛있었어요. 개인적으로 살라미를 그닥 좋아하지 않는데 요건 워낙 잘 저며두고 잘 튀겨서 긍가 맛있었어요. 감튀랑 곁들이기 좋은 조합! 이게 바로 캐스터네츠를 널리 알려줄 것 같은 시그니처 쏨땀이 들어간 파파야 새우 버거였는데요. 처음엔 어떤 맛일까 궁금했는데 한입 베어 물곤 우왕! 이런맛이구나!! 했던 아이예요. 가격은 10,9로 제일 비싼 고오급 버거. (그래도 고든램지버거에 비함 쌈!) 참고로 저는 고수매니아입니다. 실란트로 코리앤더 모어모어를 외치는 찐 러버라서... 제 입맛에 맞을 수 밖에 없었어요 ㅎㅎ\\n동행인도 고수에 대해서는 중수정도 되는 분인데 드셔보시고 나뿌지 않다 하셨으니 고수를 드실 줄 아는 분이면서 동남아의 맛과 향을 즐길 줄 아신다면 도전해보시라고 추천드리고파요. 새콤달콤한 쏨땀을 아시고 좋아하시는 분이라면 쏨땀에서 오는 그 반미샌드위치에서의 새콤 달콤함과 와사비의 알싸함 그리고 잘 튀겨진 고급 새우 패티에서오는 새우의 육즙과 새우향에 고수가 더해졌으니.... 그냥 맛있는거 종합세트 정도로 생각하시면 될거같아요. 나 반미 좋아해요. 그런데 햄버거 빵에 끼워먹는 반미는 생각해본적 없어요~ 특히 새우패티요? 하시는 분들껜 추천 드립니다.\\n단, 새우 시러요- 고수 시러요- 동남아 향 더 싫어요- 하시면 다른거 드세요.\\n일반적인 수제버거는 아니랍니다.\\n아! 그리고 살짝 짭짤하니 맥주생각나더라구요. 맥주 주세요.. 맥주 파세요..... ㅋ ㅑ - 이아이도 참 괜찮았던 역삼맛집의 기본 버거였어요. 가격은 9,9 드라이 토마토랑 바질이랑 모짜렐라치즈는 뭐 말해무해요 당장 맛있죠!! \\n이건 정말 호불호 없이 기본 치즈수제버거 외에 조금 더 신선한 맛을 즐기고싶다! 하시는 분들께 추천 드려용 :) 나의 최애 메뉴였던 고구마튀김. 원래도 고구마는 맛있죠. 맛있어서 좋아하는 식재료라 놓칠 수가 없었습니다....\\n그래서 사실 감튀파랑 나뉘어서 윙봉버리고 고구마로 갔는데 넘 잘했어요. 스스로 셀프칭찬.\\n길다란 고구마 통째로 썰어서 튀긴건데...... 소스도 맛있고 향이 살짝 뭔가 있는데 익숙하면서도 낯선 그 향이 진짜 맛있었어요.\\n가격은 6,9였는데 양도 많아서 괜츈해요!! 그래서 저능..... 위에 올려진 크리스피한 고구마튀김이랑 두꺼운 고구마튀김이랑 정말 많이 먹었어요. \\n디저트로 먹기에도 굳굳요! 햄버거 먹고싶어서 수제버거 맛집찾아 역삼으로 간날이었는데  강남N타워에있어서 역삼맛집 중에선 주차도 편리하고 쉽고 지하 식당가들도 잘 꾸려져있어서 먹고 디저트 함께 하기도 좋고 너무 편했던 날이었어요. 나오는길에 ㅎ 제가 처음 갔을 때보다 더 흥한 램브란트 보면서.. 저 중간에 타오르는 불길 너무 예쁘다고 생각하며...\\n조만간 여기도 다시 와야겠다 다짐했어요.\\n서울로인도요-\\n모도우도요....\\n진짜 하나하나 모두 놓치기 싫은 오픈의 외식매장들. 어느하나 놓치지 않을 수 없어서 ㅎㅎㅎ 제가 보장하는 곳이예요. 시도해보세요!!\\n(주) 오픈으로 부터 일부 식사를 제공받았습니다.'}, 3: {'title': '[역삼역 맛집] 캐스터네츠 강남N점 - 강남 수제버거 맛집', 'nickname': '야세\\n(yase90)', 'datetime': '2022. 4. 1. 8:58', 'content': '퇴근 후 친구와 만나 간단하게 저녁을 먹고 들어가기로 하였다. 이 날 비가온다고 하여 실내에서 보기로 하였고, 강남 수제버거 맛집 캐스터네츠 강남N점에서 접선하였다.  역삼역 근처 강남 N타워 지하 2층에 위치하고 있는 캐스터네츠. 생긴지 얼마 안되어서 그런지 엄청 깔끔했다. \\n민트 빛의 테이블이 엄청 키치했던 매장 내부😇 주문은 키오스크를 통해서 주문하면 된다. 메뉴판 \\n햄버거는 8가지 종류가 있었고, 그 외 사이드 메뉴 (감튀/ 고구마튀김/ 윙/ 콘샐러드 등) 및 여러가지 음료들이 있었다.\\n  주방은 오픈키친이었고, 한눈에 보기에도 엄~청 깔끔해 보였다. 식기와 물티슈, 티슈 등은 셀프바에서 이용 가능하다.  주문을하고 약 10분정도 기다리니 음식이 나왔다. \\n친구랑 둘이서 햄버거 1개씩과 사이드 2개, 음료를 각각 1개씩 시켰더니 2개의 트레이에 준비해 주셨다. 민트민트한 자리를 배경으로 사진을 찍으니까 너무 예쁘게 나왔다.  파파야 새우버거 \\\\10,900\\n콘샐러드 \\\\4,500\\n블루레몬 플로트 \\\\6,500 새우버거에는 채썬 당근과 양파, 양상추, 완전 통통했던 새우살 그리고 + 고수 가 들어갔다. 주문 시 고수를 넣어도 괜찮겠냐고 문의해 주시니 고수를 안좋아하면 빼면된다.\\n완전 통통했던 새우버거의 단면. \\n한입 크게 베어물으니 입안가득 새우향이 퍼졌다. 원래 새우버거를 그리 좋아하진 않았는데 이 날 여기서 새우버거를 먹어본 후 인식이 완전 달라졌다. 진짜 맛있는 거구나!!! \\n내가 먹어본 새우버거 중 정말 원탑이었다.  코우슬로를 시킬까 콘샐러드를 시킬까 고민하다가 뭔가 옥수수의 톡톡 터지는 식감이 그리워서 시켜본 콘샐러드\\n특이하게도 마늘 후레이크가 들어가 있었는데 콘샐러드와 정말 잘어울렸다. 좀 더 고급진 콘샐러드 맛? 하모니 베이컨 치즈버거 \\\\13,900\\n고구마 튀김 \\\\6,900\\n애플민트 플로트 \\\\6,500  비쥬얼 끝판왕이었던 베이컨 치즈버거\\n육즙 가득했던 패티와 적당하게 촉촉했던 번. \\n베이컨+치즈 때문인지 약간 짭쪼름한 것이 매력적이었다. 이쯤되면 궁금해지는 플로트라는 음료!!\\n블루레몬/ 레드베리/ 애플민트 3가지 맛이 있었고, 우리는 블루레몬/ 애플민트를 주문해보았다. \\n각자 이름에 맞는 맛의 소다 위에 바닐라 아이스크림이 얹어져 있었던 음료.\\n바닐라 아이스크림은 조금 떠 먹다가 나중에 음료에 섞어 먹으면 쉐이크같은 맛이 났다. 우리는 고구마튀김에 바닐라 아이스크림을 얹어서 먹었는데 그것도 괜찮은 조합이었다. 마지막으로 너무 맛있었던 고구마튀김!! \\n오동통한 튀긴 고구마와 얇게 슬라이스하여 튀긴 고구마가 같이 나왔다. 보통은 아주 얇은 고구마 스틱을 많이 팔던데 여기는 통통한 고구마 튀김이어서 더 풍부한 맛이 느껴졌다. 함께 나온 소스랑 찍어먹으니 진짜 맛있었다. \\n캐스터네츠는 버거 뿐만 아니라 사이드메뉴도 하나같이 다 너무 맛있어서 만족 스러웠다. 특히 새우버거는 내가 먹어본 새우버거 중 가장 살도 오동통하니 맛있었다. 역삼이나 강남 근처에서 수제버거 맛집을 찾고 있다면 캐스터네츠 강남N점 완전 강추 강추 강강추!!! ※ 본 포스팅은 캐스터네츠 강남N점에서 \\n식사권을 제공받아 솔직하게 작성한 글입니다.\\n#역삼맛집 #역삼역맛집 #강남수제버거맛집 #수제버거맛집 #서울수제버거맛집 #강남N타워맛집 #캐스터네츠 #캐스터네츠버거 #캐스터네츠강남N점 #수제버거맛집추천 #역삼데이트코스 #역삼역데이트코스 #강남맛집 #강남역데이트코스'}, 4: {'title': '역삼역 맛집 [더뭉티기] 불금에 안성맞춤', 'nickname': '생닭\\n(kooltz1018)', 'datetime': '2022. 5. 22. 23:26', 'content': '최근에 대구에 사는 지인들과 자주 카톡을 하다 보니\\n단톡방에선 수시로 뭉티기와 막창 얘기가 나왔다.\\n사실 막창은 (물론 대구에서 먹으면 더 맛있지만) 서울에서도\\n흔하게 볼 수 있고 먹을 수 있는 메뉴라서 크게 감흥이 없었는데\\n종종 뭉티기 사진을 볼 때마다.. 아.. 저절로 탄식이 나오는 게\\n이대로는 안 되겠다, 더워지기 전에 먹자! 해서\\n역삼역 맛집 더뭉티기를 방문했다. 더뭉티기는 매장 규모는 아담한데 손님 방문은 줄을 잇는 곳이었다.\\n그래서 방문 전 미리 네이버 예약을 꼭 하고 가시길 추천한다.\\n특히 뭉티기를 먹으러 갈 경우엔 무조건이었다.\\n우리는 롯데백화점 강남점에서 볼일이 좀 있어서\\n쇼핑을 마치고 도보로 이동했는데 금요일 저녁시간이라서\\n워크인으로 온 손님들이 매장 앞을 북적이고 있어 새삼 깜짝 놀랐다. 사진으로 보는 것처럼 매장 규모는 아담했다.\\n그런데 오른쪽 천막 같은 공간에 또 자리가 있어서\\n의외로 앉을 자리는 꽤 있는 편이었다.\\n하지만 역시나 저녁에 방문한다면\\n특히 금요일 저녁에는 꼭 예약을 하고 가길 추천한다. 메뉴는 사진과 같았다.\\n뭉티기가 아주 신선한 당일 도축 한우를 쓰기에\\n양 대비 가격대가 저렴한 메뉴라고 할 순 없었다.\\n대신 역삼역 맛집에서는 뭉티기 메뉴를 시킬 경우\\n선지 해장국을 큰 뚝배기에 가득 담아서 제공했기에\\n1차 식사 겸 술자리로 들른 손님들의 경우\\n여기에 공깃밥 하나 정도를 추가해서 먹으면 좋을 듯했다.\\n그 외에도 여러 세트메뉴가 잘 마련되어 있어 좋았다. 우리는 뭉티기 소(43,000) + 육회비빔밥 보통(11,000) \\n+ 공깃밥 (1,000)을 시켜서 주문했다.\\n앉은 테이블이 둘이 마주 앉기에 딱 아담한 사이즈라서\\n메뉴가 다 나오면 혹시 비좁을지 몰라 걱정했는데\\n의외로 요리조리 알차게 잘 수납이 되어서 다행이었다. 역삼역 맛집은 뭉티기를 특제소스에 찍어 먹을 수 있었는데\\n참기름, 다진 마늘, 고추장 양념, 잘게 썬 고추를\\n훌훌 섞어서 쫄깃한 뭉티기를 푹 찍어 먹으면\\n저절로 소주 생각이 간절해져서 참 곤란해졌다ㅎㅎ 이어서 뭉티기 주문 시 서비스로 나오는 선지 해장국도 등장!\\n우리 역시 하루 종일 바쁜 일정을 보내다가\\n저녁 식사를 위해 (술은 다음 날 일정을 위해 아쉽지만 생략)\\n방문한 터라 뭉티기 만으로는 식사가 안 될 것 같아\\n밥을 추가로 주문했다. 그리고 이날의 메인 주인공 찐 뭉티기도 납시었다.\\n꽃처럼 화려하게 수놓인 아름다운 뭉티기\\n아직 입에 넣지 않았지만 그 찰지고 담백한 맛이\\n눈으로만 보아도 제대로 느껴지는 듯했다. 접시 사이즈는 큰 편은 아니었는데\\n그래도 고기를 적당히 겹쳐서 쌓아올려주셔서\\n먹을수록 \"오오 생각보다 양이 많네?\"\\n라며 남편과 같이 끄덕끄덕했다. 뭉티기는 지방이 거의 없는 우둔살(?) 부위를\\n당일 도축한 것으로 아주 신선한 상태에서만 쓰기 때문에\\n접시를 거꾸로 들어도 떨어지지 않는다는 말을 들었는데\\n우리는 쫄보라서 완전히 뒤집지는 못하고\\n이렇게 옆으로 세워서 들어보기만 했다.\\n그마저도 접시에 붙인 게 아니라\\n고기들끼리 겹쳐 있는 것 때문에 떨어질까\\n조마조마했는데 의외로 튼튼하게 붙어 있어\\n남편과 또 오오오~~ 하며 감탄을 했다. 서비스로 나온 해장국에는 선지도 실하게 들어 있고\\n우거지, 대파 등의 채소도 엄청 듬뿍 들어 있어서\\n그냥 단품 식사 메뉴가 같이 나온 것 같았다.\\n여기에 공깃밥 하나만 곁들이니 한 사람 식사는 충분했다. 양념장은 보이는 것 대비 그렇게 많이 맵지는 않았다.\\n나는 생고추는 무서워서 잘 안 먹는 맵찔이인데\\n역삼역 맛집에서는 좀 야무지게 뭉티기에 얹어 먹어보았다.\\n먹으면 먹을수록 불금에 이 메뉴를 술 없이\\n그냥 먹는 나 자신이 참 대단하면서도 안타까웠다ㅎㅎ 진짜 쫜득! 하고 찰지다는 느낌이 딱 맞았다.\\n대구 현지만큼은 아니겠지만 그래도 서울에서 먹을 수 있는\\n뭉티기치고는 거의 최상급 퀄리티라는 생각이 들었다.\\n가까이만 산다면 배달 또는 포장으로라도\\n자주 사다 먹을 것 같은 퀄리티와 맛이었다. 마지막으로 나눠먹기는 하지만 주로 내가 다 먹어치운\\n육회비빔밥이 나왔다.\\n사람 욕심이 끝이 없다고 메뉴판에는 보통 11,000원짜리와\\n특 17,000원짜리가 있으니 특 사이즈를 시키고 싶었지만..\\n그래도 일단 양심껏 작은 것으로 먹어보기로 했다.\\n한우 육회비빔밥이라 너무 양이 적을까 걱정했는데\\n양념장은 과하지 않아 신선한 고기 본연의 맛을 즐길 수 있게\\n하면서 밥 한 공기는 너끈히 비비고도 남을 육회가\\n듬뿍 올려져 나와서 식사 자체로는 아주 만족스러웠다. 육회비빔밥을 슥슥 비벼 한 숟갈 크게 먹었다.\\n잘게 썬 파채도 듬뿍 들었고 미나리도 가득이라서\\n아삭하면서도 향긋한 식감과 향이 일품이었다.\\n쫄깃한 육회와 찰진 밥이 어우러지는 맛도 물론 좋았다. 나는 선지 해장국을 먹지 않아서 따로 시킨 공깃밥은\\n한 숟갈 정도만 덜어 국물과 채소 건더기를 곁들여 먹어보기도 했다.\\n같이 나온 김치와 함께 먹으니 이 식사 또한 너무 좋았다.\\n처음에 뭉티기만 생각하면 2~3차 정도로 오기 좋은\\n술자리 장소라고 생각했는데 막상 식사와 서비스 해장국을\\n먹어보니 1차부터 달려도 충분한 역삼역 맛집이라는 것을 알게 됐다. 의외로 먹으면 먹을수록 양이 잘 안 줄던 뭉티기 \\n그런데 작은 사이즈라서 더 만족스러웠던 양\\n강남 쪽에서 제대로 뭉티기를 하는 핫플을 알게 되어 참 좋았다. '}, 5: {'title': '[역삼역맛집]이영자 전참시 맛집 차돌삼합진대감역삼점 솔직후기', 'nickname': 'Sisterhood', 'datetime': '2022. 3. 11. 21:00', 'content': 'ㅋ ㅑ~~~~악 드뎌 왔어요 ㅋㅋㅋㅋ\\n진작에 한번 와보고 싶었는데 계속 못오다가 드뎌!!!\\n두둥~~~~~~왔어요 ㅋㅋㅋㅋ\\n얼마나 먹고 싶었던 #차돌삽합인가 ㅋㅋㅋㅋ\\n걸어 가는 발걸움이 엄청 가볍네요 사뿐사뿐~~\\n#역삼역맛집\\n#역삼맛집\\n#전참시맛집\\n#차돌삼합진대감\\n#진대감역삼점 저기 앞에 차돌삼합진대감 보이세요??\\n우훗~~~~기다리고 기다리던 시간 ㅋㅋㅋㅋ\\n역삼으로 이사오고 가장 오고깊었던 곳인데 ㄱ\\n코로나로 방역패스때문에 못오고 \\n바빠서 못오고 이제야 오네요 차돌삼합 진대감 \\n#진대감 들어가봅시다\\n얼마나 맛있는지 ㅋㅋㅋ 생각했던거보다 엄청 깔끔하니 \\n분위기 괜찮네요  자리에 앉아요\\n이리저리 마구 둘러보면서 블로그인으로써 사진 막찍고 \\n마구마구 구경해요\\n#시스터후드 서울 촌년 같네요 ㅋㅋ 테이블 가림판에\\n“진대감 차돌삼합 맛있게 먹는 방법”\\n적혀 있어요 ㅋㅋㅋ\\n좋다 ㅋㅋㅋ\\n심장이 두근두근해요 ㅋㅋ 메뉴!!!\\n뭐 고민할것도 없이 #한우차돌삼합 2인주세요~~~ 기본상이 차려졌어요~~\\n뭐지 뭐지 구경구경 ㅋㅋㅋㅋㅋㅋㅋ 상을 차려 주시면서 “초밥밥은 드시지 마세요”\\n하시고 김치도 따로 놓고 가시드라구요 ㅋㅋ 샐러드는 저는 별로 더라구요\\n참 !! 요 옆에 나물은 뭐지 알려주셨는데 \\n뭐였더라 ㅋㅋㅋ 요 세 반찬들이 차돌삼합과 함께 할 아이들 역삼맛집\\n역삼역맛집\\n#역삼고깃집\\n#이영자맛집진대감\\n진대감역삼점\\n차돌삼합진대감 차돌삼합을 구울 판이죠~~ 갑자기 이 빵같이 큰아이 ㅋㅋㅋ\\n완전 뜨거운 계란찜 서비스래요 ㅋㅋㅋㅋ\\n완전 맛나요 풍선같이 ㅋㅋ 우와~~~~~~~\\n꽃같네요\\n차돌과 관자 하나는? 아까 제가 말한 아이들\\n빨리 빨리 먹고 싶어요 ㅋ 역삼역맛집\\n차돌삼합진대감은 너무 친절하게 다 구워주신답니다\\n#구워주는고깃집\\n진대감역삼점 지글지글 아시죠??\\n차돌과 관자다 엄청 금방 익는다는 사실을ㅋㅋㅋ\\n한편에 신김치를 구워주시는데 이 아이도 너무 맛있어요\\n대박 ㅋㅋㅋ\\n송이 버섯에 보이세요??\\n#진대감 써 있네요 ㅋㅋㅋㅋㅋ 하나하나 놓치고 싶지 않아 영상으로 급하게 찍었네요\\n차돌에 관자를 넣고 나물을 함께 넣어서 싸주세요 요로케 이쁘게 제 앞접시에 놔주세요\\n아~~떨려\\n한입 먹어볼까요??? 생와사비와 기름장인데 저는 와사비만 넣고 먹을께요\\n아~~~~\\n미쳤다!!!!!!!!!!!!!!!!!  두번째 구운 차돌삼합 아이들은 \\n초밥밥 위에 이쁘게 올려주시네요 ㅋㅋㅋ 이놈들 먹어봅시다 \\n진짜 미쳤다 \\n요것도 너무 맛있어요 진짜 초밥 밥이랑 환상적이 조합 \\n더 먹고 싶었는데 초밥 밥을 더 달라기 좀 민망해서 참았음 ㅋㅋㅋ\\n다음에 가서는 더 달라 해야지 ㅋㅋ 차돌삼합에 갓김치가 잘 어울린다 길래\\n한번 싸서 먹어봤어요\\n음~~짤어울리네요\\n느끼함을 확 잡아줘요 ㅋㅋ 메뉴에 있던 한우꽃게된장찌개\\n#역삼동한우맛집\\n#한우차돌구이\\n한우집에 와서 된장찌개를 안먹으면 안되죠?? 안에 고기도 많이 들어있고 \\n꽃게도 가득 ㅋㅋ\\n국물이 시원하니 끝내줘요\\n짜지도 않고 밥 조금 말아서 차돌한입 된장찌개 한입\\n먹으니 느끼함이 확 없어져요 시스터후드의 먹방 아시죠??\\n절대 둘이서 2인분으로 안되는거 ㅋㅋㅋ\\n그래서 1인분 추가 하려다가 2인분 다시 추가!!\\n처음 먹는거 처럼 먹어야지 ㅋㅋㅋ 2인분 추가라 그런가 앞접시에 올려주지는 않드라구요 ㅋㅋㅋㅋ\\n뭐 내가 가져다 먹어야죠~~ㅋㅋ 아~~저기 메뉴가 있었네요 이제봄 ㅋㅋㅋ\\n새조개 삼합도 있어요 그래서 차돌삼합을 둘이서 4인분을 먹지 말고\\n2인분 먹고 한우꽃게된장찌개랑 볶음밥을 먹는것도 좋은거 같아요 4인분 먹고 볶음밥 먹고 싶었지만 \\n너무 배부를꺼 같아서 참았는데 \\n다음에는 2인에 볶음밥 먹는걸로~~그럼 딱 맛있게 먹었다 싶을꺼 같아요 차돌삼합 진대감!!\\n너무 맛있고 저는 소고기를 좋아해서 더 그럴수도 있어요 \\nㅋㅋ하지만 제 입에는 최고 ㅋㅋㅋ\\n역삼맛집\\n역삼역맛집\\n역삼소고기맛집\\n차돌삼합진대감\\n이영자맛집 인정!! 영업시간도 확인해 보시고 가셔요~~\\n#회식장소 로도 딱!!!'}, 6: {'title': '역삼 맛집 수제버거가 맛있었던 캐스터네츠 CASTANETS', 'nickname': '다크윤', 'datetime': '2022. 3. 21. 8:00', 'content': \"수제버거가 맛있었던 캐스터네츠 역\\n삼 수제버거 맛집에 다녀왔어요. 완전 믿을 만한 기업에서 새로 오픈한 곳이었기 때문에 기대감이 엄청 컸는데요, 역시나 너무 만족스러웠어요! 제가 다녀온 곳은 독특한 재료로 조화를 이루는 감각적인 수제버거 맛집 '캐스터네츠'에요! 전체적인 인테리어도 너무 예뻤고 특히나 통통한 새우 패티의 새우버거가 너무 맛있었어요! 그럼 바로 소개해 드릴게요.  역삼 맛집 캐스터네츠 위치는 강남N타워 지하 2층이구요, 역삼역에서 약 250m 정도 거리로 역삼역 4번 출구에서 도보로 약 3분 정도 소요돼요. 주차도 2시간 무료 주차 가능해서 편하게 주차하고 식사했어요.  안녕하세요 다크윤이에요:)\\n저는 빵 종류는 안에 고기나 햄이 들어간 걸 좋아해요ㅎㅎ 그래서 빵 중에서는 햄버거나 샌드위치를 정말 좋아하는데요, 이번에 정말 맛있는 수제버거 맛집에 다녀왔어요! 제가 다녀온 곳은 도쿄등심, 모도우, 서울로인, 램브란트, 암소서울 등을 운영 중인 (주) 오픈에서 운영하는 곳이에요! 그래서 무조건 맛있을 거란 믿음을 가지고 방문했거든요 ㅎㅎ 근데 역시는 역시! 진짜 맛있더라구요!!!  역삼 맛집 캐스터네츠는 오픈한지 불과 얼만 안된 따끈따끈한 신상 수제버거 전문점이에요! 이번에 강남N타워에 모도우도 오픈했더라구요! 조만간 모도우도 방문해 봐야겠어요 ㅎㅎ 점점 N타워에 (주) 오픈에서 운영하는 매장이 많아지고 있더라구요! 진짜 너무 좋아요!!  역삼 맛집 캐스터네츠 인테리어 보여드릴게요! 지하 주차장에서 엘리베이터 타고 내려서 오른쪽으로 쭈욱 들어오시면 이렇게 민트색 인테리어의 CASTANETS가 보이실 거예요! 워낙 화사하게 꾸며 놓으셔서 바로 눈에 띄더라구요! 저희는 일요일 오픈 시간에 방문해서 여유롭게 즐길 수 있었는데요, 점점 손님이 많아지더니 테이블 반 이상이 금방 차더라구요 ㅎㅎ 이 주변은 회사가 많아서 평일은 정말 정신없을 것 같았어요! 매장 정말 넓죠? 전체적으로 민트색 컬러의 포인트가 너무 예쁘더라구요! 저희는 이른 시간에 방문해서 이렇게 매장 전반적인 인테리어 사진을 촬영할 수 있었어요! 아무래도 손님이 많이 계시면 차령 하기 좀 힘들잖아요 ㅎㅎ워낙 매장이 넓어서 테이블 간 간격도 넓어서 좋았구요, 한쪽에 스트로우, 냅킨, 물티슈, 포크, 나이프 등은 따로 마련되어 있어서 필요하신 분들은 편하게 가져가시면 될 것 같아요!  역삼 수제버거 맛집 메뉴 보여드릴게요! 주문은 키오스크를 통해 하시면 되는데요, 요것도 넘 고급 진 것! ㅎㅎ 버거 메뉴는 파파야 새우버거, 치킨 꽈리버거, 하모니 베이컨 치즈버거, 하모니 치즈 버거, 바질 토마토버거, 연탄 불고기버거가 있었구요, 프렌치프라이, 살라미 프렌치프라이, 고구마 튀김, 코오슬로, 콘샐러드, 핫윙 등의 사이드 메뉴도 준비되어 있더라구요! 여기에 세 가지 종류의 플로트와 각종 탄산음료, 맥주도 있어서 햄맥 하기도 넘 좋을 것 같았어요:) 주문하고 기다리는 시간! 저희는 아주 야무지게 주문했답니다! 최근에 수제버거를 자주 먹다 보니까 이제 프랜차이즈 햄버거는 못 먹겠더라구요 ㅎㅎ CASTANETS는 또 얼마나 맛있을까 너무 기대됐어요!!!  파파야 새우버거 10.9\\n하모니 베이컨 치즈버거 10.9\\n콘샐러드 4.5\\n고구마 튀김 6.9\\n플로트 / 블루베리 6.5\\n제로콜라 3.5 Scandinavian moss\\nReindeer moss / 스탄디나비안 모스 : 순록 이끼라고도 하고 물을 주지 않아도 공중 습도로 반영구적으로 형태를 유지하는 preserved moss를 뒷 배경으로 사진 촬영해 봤는데 너무 멋지죠? 근데 햄버거가 돌아가 있네요ㅠㅠ 어쨌든 캐스터네츠 강남은 매장이 너무 예쁘더라구요!  파파야 새우버거 10,900원\\nPAPAYA SHRIMP BURGER \\n먼저 소개해 드릴 수제버거는 파파야 새우버거인데요, 두툼하고 큼직한 패티가 들어가 있는 게 너무 먹음직스럽더라구요! 주문 후, 바로 준비해 주시는 건데도 오래 걸리지 않았고 금방 나와서 더 좋았어요:) 번 안에  통새우 패티가 들어가 있었는데요, 엄청 두툼하더라구요! 캐스터네츠 베스트1 메뉴라고 해서 주문해 봤는데 역시나 주문하길 잘한 것 같아요!! 메뉴판에 나와 있는 사진과 싱크로율 100% 너무 맛있어 보였어요:) 매장명이 왜 캐스터네츠 CASTANETS일까 궁금했는데 이렇게 수제버거를 보니 꼭 입 벌리고 있는 캐스터네츠 같지 않나용? ㅎㅎ  하모니 베이컨 치즈버거 10,900원\\nHARMONY BACON CHEESE BURGER\\n다음은 하모니 베이컨 치즈버거에요! 치킨 꽈리버거와 많이 고민했는데 치즈 버거는 꼭 먹어봐야 할 것 같아서요!! 근데 이것도 너무 맛있어 보이잖아요!!! 저 베이컨 너무 좋아하는데 언뜻 봐도 베이컨이 가득 들어있더라구요!!  번 위에 통깨가 가득!!! BURGER HARMONY CASTANETS 라고 되어 있는 걸 봐서 하모니 버거도 시그니처 메뉴 중 하나인 것 같더라구요! 패스트푸드 햄버거에서 보지 못했던 비주얼이라서 정말 맛이 궁금해졌어요!!  콘샐러드 4,500원\\nCORN SALAD\\n사이드 메뉴 중에 어떤 걸로 주문할까 고민하다가 제가 너무 좋아하는 콘 샐러드 하나 주문했어요! 일반적인 콘 샐러드와 달리 옥수수, 파프리카, 그리고 잘게 부순 나초칩이 들어가 있더라구요! 양도 무지 많아서 둘이서 나눠 먹기에 딱 좋았어요:) 고구마 튀김 6,900원\\nSWEET POTATO FRIED\\n제가 수제버거 포스팅하면서 계속 생각했던 게 왜 감자튀김만 있고 고구마튀김은 없을까 항상 궁금했거든요! 근데 이렇게 뙇!!! 고구마튀김이 메뉴에 있더라구요! 저는 감자보다 고구마를 훨씬 더 좋아해서 묻지도 따지지도 않고 바로 주문했어요!  감자튀김처럼 얇은 느낌의 튀김이 아니라 고구마를 큼직하게 썰어서 튀겼더라구요! 양도 엄청 푸짐하게 많았고 그 위에 고구마를 얇게  슬라이스 한 튀김도 올라가 있었는데 너무 맛있어 보이더라구요!  플로트 / 블루베리 6,500원\\nFLOAT\\n요건 아이스크림 플로트에요! 미국에서 만든 음료라고 하는데 탄산음료에 아이스크림을 올려 만든 거래요! '아이스크림소다'라고 부르기도 한다는데 블루베리 / 레드베리 / 애플민트 세 가지 맛 중에서 저는 블루베리로 주문했어요!  신나는 느낌의 힙한 수제버거 맛집 CASTANETS 메뉴 동영상으로 촬영해 봤어요! 음악도 좋고 분위기도 좋고 무엇보다 주문한 메뉴가 하나같이 다 맛있어 보였어요!  먼저 파파야 새우버거 먹어볼게요! 역삼 맛집 캐스터네츠의 좋았던 점은 이렇게 접시 위에 올려 주셔서 편하게 잘라먹을 수 있단 점이었어요! 수제버거는 들고 먹기는 하지만 재료가 풍성하게 들어가 있어서 먹는데 조금 불편하잖아요! 근데 이렇게 반으로 잘라서 나눠 먹을 수도 있어서 넘 좋더라구요!  파파야 새우버거 단면 보여드릴게요! 얇은 번 안에 엄청 두툼한 새우 패티와 야채, 그리고 당근이 듬뿍 들어가 있더라구요! 여기에 고수도 정말 풍성하게 들어가 있었는데 ㅎㅎ 저희 남편은 아직 고수를 못 먹어봐서 이번에 처음 먹어보는 거였거든요! 근데 저처럼 비누 맛은 안 느껴진다고 하더라구요! 혹시나 여기서 사용하시는 고수는 다른 걸까? 싶어서 집어 먹어봤다가ㅠㅠ 역시 고수는 고수더라구요>_<  다음은 하모니 베이컨 치즈 버거에요! 살짝 메롱하고 있는 것 같은 ㅎㅎ 그만큼 정말 베이컨이 가득 들어가 있더라구요! 여기에 치즈 버거답게 치즈도 듬뿍 들어가 있었구요, 양파와 피클, 토마토까지 풍성하게 들어가 있더라구요!  하모니 베이컨 치즈 버거 단면도 보여드릴게요! 두툼한 소고기 패티에서 육즙이 줄줄 흘러나오는 게 진짜 너무 맛있더라구요! 여기에 치즈의 고소한 맛과 잘 어우러지고 양파와 피클 등 야채 덕분에 너무 조화롭고 맛있었어요bb  수제버거 먹으면서 중간중간 먹는 콘 샐러드 역시 너무 맛있더라구요! 옥수수가 톡톡 터지면서 파프리카의 아삭한 식감과 프레시함도 너무 좋았어요! 여기에 나초칩이 들어가 있는 게 정말 신의 한 수더라구요! 너무 바삭하고 맛있었어요!!  플로트는 역시 블루레몬이죠!! 쨍한 색감이 너무 예쁘지 않나요? 요즘 날씨가 정말 많이 풀렸는데 금방 여름이 오면 좋겠어요!! 암튼 첨에 블루레몬 먼저 먹다가 나중에 아이스크림과 섞어서 먹음 넘 맛있더라구요! 캐스터네츠 방문하시면 플로트 꼭 드셔보세요:) 그리고 왕 고구마튀김이에요 ㅎㅎ 완전 큰손인 우리 엄마 스타일 ㅎㅎ 그냥 먹어도 바삭하고 달콤한 게 너무 맛있었지만 함께 나온 소스에 콕 찍어 먹어도 완전 맛있더라구요! 고소하면서 살짝 매콤한 맛이 좋았어요! 보시면 아시겠지만 패티에 새우가 통으로 뙇 들어가서 정말 오동통한 생우 식감이 그대로 느껴지더라구요! 일반적인 프랜차이즈 새우버거와는 완전히 달랐어요! 새우버거는 무조건 드셔보시길 바라요! 그리고 저 원래 당근 별로 안 좋아하는데 여기 들어있는 당근은 달짝찌근한 게 완전 맛있었어요:) 치즈 버거도 진짜 맛있었어요! 짭짤한 치즈와 베이컨, 여기에 육즙 가득한 패티까지 함께 어우러지면서 넘 맛있더라구요! 중간에 들어있는 아삭한 피클은 느끼함도 싹 잡아주니까 최고!!  얇은 고구마튀김도 진짜 맛있었어요! 요고 아시죠? 먹다 보면 계속 먹게 되는 마성의 맛! 저 결혼 전 다이어트할 때 이거 못 끊어서 한참 고생했거든요 ㅎㅎ 오랜만에 먹으니까 더 맛있더라구요!  남편과 저는 수제버거 정말 좋아하는데요,  둘 다 먹고 너무 만족했던 곳이에요! 매장도 너무 예뻤고 직원분들도 다 친절하셔서 기억에 남았는데요, 통통한 새우의 식감이 그대로 살아 있었던 새우버거와 짭짤한 베이컨과 육즙 풍부한 소고기 패티의 조화가 맛있었던 하모니 베이컨 치즈 버거까지! 역삼 맛집 찾으신다면 수제버거가 맛있었던 캐스터네츠 추천해 드릴게요:)\\n본 포스팅은 (주) 오픈에서 식사권을 제공받아 솔직하게 작성했습니다. \"}, 7: {'title': '[역삼동] 모도우 - 프라이빗하니 모임하기 좋은 역삼 맛집', 'nickname': '꼬리스마\\n(hjy800911)', 'datetime': '2022. 3. 24. 22:51', 'content': '강남N타워에 위치한 모도우 방문기. 이날은 디너 B코스로~ 시작으로 가볍게 먹기 좋은 부각과 약식 그리고 곶감 치즈. 우리의 맛과 비주얼을 모두 잘 살린 메뉴라고 볼 수 있겠다. 반가움의 건배로 시작.\\n원래 셋이 모이기로 했으나 한 놈이 갑자기 두 줄이 뜨는 바람에 ㅜㅜ 조촐하게 둘이서 만났던 날 ㅎㅎ 식감과 산뜻한 소스의 느낌이 좋아서 직원분께 다시 한번 물어봤음에도 기억이 안 나는 새우와 관자로 이루어진 전체. 플레이팅이나 맛 모두 만족스러웠던 역삼 맛집의 디시. 각자 가져온 와인을 블라인드 테이스팅~ ㅎㅎ\\n역삼 맛집 모도우는 와인 모임을 하기에도 아주 최적화된 장소라고 볼 수 있는데, 모든 좌석이 프라이빗 한 룸으로 되어있는데다가 콜키지프리이니 이보다 좋을 순 없지~ 다만 제공되는 와인잔은 평범하니 어느 정도 이상급의 와인을 마신다면 와인잔도 지참하는 것을 추천~ 다음으로는 호박수프, 새우전, 안심카츠산도, 떡모찌가 솔방울 위에 플레이팅되어 나온다. 호박 수프를 시작으로 시계방향의 순서로 먹으면 된다. 못 맞추게 하겠다고 단디 준비해 온 와인들에 맞지도 않는 품종과 느낌을 서로 외쳐대다가... 드디어 오픈.\\n와인 포스팅은 별도로 하겠지만 바롤로(또는 레스코)나 피노라고 확신했던 와인이 꼬르나스(시라)라니.... 물론 내가 가져간 이태리 메를로도 친구 녀석은 비디엠이라고 찍었던가? ㅋㅋㅋ 이윽고 서브된 농어구이. 무 조림을 좀 더 푹 익히고, 껍질을 좀 더 바삭하게 구워냈으면 좋았을 턴데.. 이날 유일하게 아쉬웠던 디시. 비장탄에 레어로 구워내 서브되는 한우와 야채. 테이블 위의 무쇠판에 원하는 굽기에 따라 조금 더 조리하여 먹으면 된다. 한우로 시작하여 다양한 체인을 운영하는 곳이니 만큼 고기의 퀄리티에는 이견이 없는 역삼 맛집 모도우. 곧이어 한우 미역국과 쌀밥, 찬이 준비된다. 아래는 와인이 남아 추가 주문한 성게알 오징어 냉채와 한우육회. 마무리로는 입을 깔끔하게 씻어주는 샤인 머스캣 딸기 얼음 빙수로~~ 만족스러웠던 식사와 와인이 있었던 밤이었다.\\n02-6250-0900\\n매일 11:00 - 22:00 브레이크타임 / 15:00 - 17:00  본 포스팅은 모도우 강남N점에서 식사권을 제공받아 솔직하게 작성한 글입니다'}, 8: {'title': '역삼 맛집 타코벨신메뉴 멕시칸 브레드 타코 먹어봐요!', 'nickname': '루시아', 'datetime': '2022. 5. 5. 9:00', 'content': \"평소 멕시칸 음식이 땡길때 즐겨 찾는 타코벨!\\n주변에 더 많아졌으면 좋겠단 생각이 들 정도로\\n제가 애정하는 최애 타코맛집 중 하나인데요.\\n최근 타코벨에서 맛있게 매콤한 신메뉴가 \\n새로 출시되었다는 소문을 듣고 누구보다\\n빠르게 신메뉴를 맛보러 타코벨로 향했습니다.\\n이번 신메뉴는 매콤해서 입맛을 확 돋우면서\\n스트레스를 쫙 풀어주더라구요~!!!\\n지금부터 솔직한 시식 후기 시작합니다♥ 저는 역삼 맛집 타코벨 역삼점으로 방문했답니다.\\n역삼역 3번 출구와 가까운 거리에 위치해 있어요. 타코벨은 전 세계 30개 국가에서 7,000여 개의\\n매장을 운영하고 있어 국내에서도 매장을 \\n쉽게 만나볼 수 있는 브랜드이기도 한데요. \\n매년 전 세계 타코벨에서는 연간 20억 개의 \\n타코가 판매 중이라고 하더라구요 ㅎㅎㅎ\\n그만큼 많은 분들에게 꾸준한 사랑을 받고 있어요. 타코벨에서는 신메뉴 출시 기념으로 \\n기간 한정 무료제공 프로모션을 진행 중입니다.\\n타코벨 카플친에서 쿠폰을 다운로드한 후,\\n'소프트 맵시칸 브레드 타코 단품' 혹은\\n'크런치 맵시칸 브레드 타코 단품' 구매 시,\\n3,800원에 상당하는 초코디아와 아메리카노\\n(HOT or ICE)를 무료로 제공해 준다고 해요!\\n프로모션 기간은 ~5월 15일까지라고 하니 \\n이 좋은 혜택 놓치지 말고 꼭 누리시길 바랄게요! 단순히 배너광고만 봤을 때는 \\n 뭔가 엄청 매울 것 같은 느낌인데\\n맵시칸 브레드 타코의 경우 맵찔이도 \\n딱 맛있게 즐길 수 있는 적당한 맵기를\\n 가졌으니 너무 걱정하지 않으셔도 됩니다 :) 피크타임에 방문했더니 많은 사람들로 붐볐어요.\\n타코벨이 간단한 점심으로 먹기 딱 좋긴 하죠?\\n부담없는 캐주얼한 분위기에 혼밥도 거뜬한 곳! 1962년 탄생한 미국 최대 멕시칸 패스트푸드\\n브랜드 타코벨은 타코, 크런치랩, 브리또,\\n퀘사디아, 브리또보울, 치즈나쵸 등 \\n차별화된 캐주얼한 멕시칸 푸드를 판매중입니다.\\n다양한 메뉴가 있으니 선택의 폭이 넓어 좋네요! 모든 것이 셀프방식으로 이루어져 있고\\n매장 안 키오스크에서 주문하시면 됩니다. 맵시칸 브레드 타코는 세트메뉴로\\n소프트와 크런치 쉘을 모두 맛볼 수 있어요.\\n다양한 구성으로 더욱 푸짐하게 즐겨보자구요!\\n저는 고민할 필요없이 무조건 세트로 가자며\\n맵시칸 브레드 타코 세트 2종과 \\n오리지널 브레드 타코 단품 2종을 추가 주문했어요. 음료도 원하는 걸로 원하는 만큼\\n마실 수 있다는 게 타코벨의 장점이죠😎 이것이 바로 5월의 타코벨신메뉴! \\n맵시칸 브레드 타코입니다.\\n바삭바삭한 크런치 타입과 \\n쫀득하고 부드러운 소프트 타입 \\n2가지를 한 번에 즐길 수가 있었어요.  정말 푸짐하고 먹음직스러워 보이지 않나요?\\n맥시칸 정통 타코의 맛과 포만감 가득한\\n2가지 브레드 타코와 함께\\n매콤한 양념이 가미된 맵짠한 나초칩은 덤으로! 비주얼 완전 미쳤다라다라다다\\n혼자 먹어도 푸짐하고\\n여럿이서 다양하게 즐기기에도 최고♥ 오리지널 브레드 타코에 비해 \\n더욱 맛있게 매콤해졌어요ㅎㅎ\\n한국인이라면 누구나 좋아할 맵기로\\n중독적인 매운맛을 지녔답니다. 바삭한 나초집까지 함께하니 \\n더 입이 즐겁고 행복했답니다.\\n먹다보니 양이 꽤나 많더라구요ㅎㅎ 오리지널 브레드 타코는 21년 10월 1일\\n'브레드 타코'라는 이름으로 출시한 메뉴로\\n담백한 맛과 든든함이 큰 특징이에요 ㅎㅎ 신선한 재료를 사용해 만들어진\\n든든점심메뉴 맵시칸 브레드 타코!\\n이런 알찬 구성을 합리적인 가격에 \\n만날 수 있으니 무조건 만족합니다. 세트 양이 좀 많다 싶으면 얼마든지\\n단품으로도 부담없이 즐길 수 있어요! 내용물도 야무지게 들어가서 \\n하나만 먹어도 배가 금방 차올랐어요.\\n총 6개의 타코로 인당 2개씩 먹었는데\\n정말 든든하게 잘 먹은 느낌을 받았답니다. 소프트 쉘은 쫀득하고 부드러워 \\n먹기 편하면서 담백한 맛이었어요.\\n플랫브레드를 사용한 두툼한 식감이 굿~~! 크런치 쉘은 바삭한 식감으로\\n고소하게 맛있는 느낌이 들었어요.\\n개인적으로 크런치 쉘이 저의 취향이네요🥰 바삭하게 때론 부드럽게 즐기는\\n타코벨신메뉴 맵시칸 브레드 타코♥\\n새로운 메뉴 도전 대성공이네요~!\\n동료들과 든든하게 먹은 점심이었습니다. 아직 프로모션 기간 진행중이니 역삼맛집\\n 타코벨에 재방문해서 또 먹어야겠어요.\\n만족스런 포만감을 느끼고 싶다면 추천해요:) \"}, 9: {'title': '역삼 맛집 강남 룸식당 모도우 디너', 'nickname': '이칭\\n(ccamjigi77)', 'datetime': '23시간 전', 'content': \"역삼 맛집을 찾는데\\n강남 룸식당을 찾는다면\\n전부 룸 형태로 되어 있어서\\n진짜 가기 좋은 곳\\n모도우 강남N점\\n#강남 회식, #강남한우맛집, #강남룸식당, #역삼맛집 오랫만에 아는 지인을 만나\\n맛난거 좋은거 먹자며 방문했음\\n역삼 맛집 강남 룸식당 모도우 디너\\n모도우는 빈틈없이 야무진 사람의 순우리말로 야무지체 차려낸 한우 다이닝이라는 뜻이라고 함\\n우리가 흔히 강남 한우 고기 맛집 하면 숯불에 고기 굽는것만 생각할 수 있는데\\n전통 음식을 보다.. 현대화 시켰다고 생각하면 될려나\\n강남이 회사들도 많고 외국 손님들과 강남 회식이거나\\n중요한 접대 자리로 괜찮을것 같고\\n그냥 팀회식해도 ! 우리팀 회식은 언제 하나요?\\nㅎㅎㅎㅎㅎ 런치메뉴도 별도로 있고요\\n조금 더 저렴함 일부 메뉴는 추가로 주문할 수 있어요 나는 역삼 맛집 강남 룸식당 모도우 디너 코스 중 B코스\\n한우 비장탄 숯불구이가 나오죠\\n고기집 같은데 ..왠 코스요리인가 싶죠? 맨 처음 나오는 음식은 맞이 음식으로\\n약식 , 찹쌀김부각, 곶감치즈\\n친절하신 직원분이 음식 설명부터 먹는 순서까지 알려주심 그리고 나온 아라새우관자\\n이건 정말 처음 보는 음식이었음 새우와 관자, 식초소스가 어우러진 한입요리로\\n입맛을 돋아주는 음식이라고 해야 할까요\\n수저를 이용해서 새콤달콤 소스와 함께 먹는 음식\\n푸딩 같은 느낌이기도 한데\\n관자와 새우가 있어서 씹는 맛도 있음 역삼 맛집 강남 룸식당 모도우 디너\\n네품요리 4가지 요리를 팔각 트레이에 올려 나오는 음식\\n일단 한식스러운 느낌\\n전통적인 느낌에 .. 아기자기한 음식들 단호박스프부터 시계방향으로 새우전, 안심샌드, 모찌리도후 이렇게 먹으면 되고요 달지않으면서 너무너무 연한.. 어떻게 표현해야 할까요\\n정말 곱게 갈아진 단호박스프라고 해야 하나\\n단호박 싫어하는데 역삼 맛집 강남 룸식당 모도우 디너 단호박은 한그릇 뚝딱 통통한 새우전과 ( 새우 튀김이랑 달라요) 새우 식감이 살아 있어요\\n한우로 만든 샌드위치도 홀그레인 머스타드 소스와 잘 어울리고\\n쫄깃한 모찌리도후도 정말 맛나요 사계절요리로는 보리에 숙성시킨 농어구이와 무조림\\n바질소스 리조또 같이 나옴\\n이날 먹은 코스 요리 중에\\n고기를 빼면 ( 한우는 무조건 최고니까!)\\n단호박스프와 농어구이가 제일 맛났음\\n내 주관적인 입맛에 ㅎㅎ 무조림과 바질소스 리조또를 한꺼번에 먹어야 맛있다고 설명해주셔서 이렇게 수저에 담아서 먹어봅니다 아주아주 부드러운 농어구이와 간이 되어진 무조림\\n그리고 쫄깃식감 리조또\\n이거만 단독 메뉴로 팔면\\n더더 먹고 싶어지는 맛\\n슬슬 배가 차오고 있습니다 그렇지만 정말 정말 메인 요리는 아직 안나왔죠!\\n기본 반찬들이 세팅이 되고 역삼 맛집 강남 룸식당 모도우 디너의 메인요리\\n비장탄 숯불구이.. 비장탄에 초벌구이가 되서 나온다고 생각하면 되요\\n겉은 익히고 불맛 가득한 상태로 나오는 숯불구이\\n한우고기집에서 숯불에 고기 구워 먹을라면\\n연기나고 난리가 나잖아요\\n여긴 미리 초벌구이가 되서\\n불맛은 불맛대로 그대로 느낄수 있으면서\\n쉽고 간편하게 먹을 수 있는게 장점 테이블에 있는 불판에 불을 올리고 역삼 맛집 강남 룸식당 모도우 디너 숯불구이 먹을 준비 레어를 좋아하면 이대로 먹어도 되고요\\n저는 조금 더 익힌게 맛있기에..ㅎㅎ 익혀 먹었지요 밥도 같이 달라고 해서 나온 미역국, 쌀밥 먹을 준비 끝 고기를 원하는 정도로 치칙 익힌 후에\\n맛있게 먹으면 됩니다\\n고기가 ..진짜 고기가 너무 맛있어요 >ㅁ< 고기는 씨겨자에 찍어 먹어도 되고\\n곁들여 나온 야채와 같이 먹어도 되고\\n밥이랑 먹어도 되고\\n원하는 대로~\\n각자 스타일대로 먹으면 됩니다 고기만도 먹어보고 파채랑도 냠냠\\n어떻게 먹어도 맛있는 한우숯불구이\\n여기 정말 강남 한우 고기 맛집 맞아요 마지막 디저는 청포도 감귤 얼음빙수\\n얼음에 청도포가 씹혀요\\n마지막까지 깔끔하게 마무리 역삼 맛집 강남 룸식당 모도우 디너 📞 02-6250-0900\\n콜키지 프리매장\\n모든 좌석이 프라이빗룸으로 되어 있어 직장인 회식이나 미팅, 접대장소로 추천\\n코로나 시국에 안성맞춤으로 모든 좌석이 룸으로 되어 있어 편안한 식사가 가능함\\n'본 포스팅은 모도우 강남N점에서 식사권을 제공받아 솔직하게 작성한 글입니다' \"}}\n"
     ]
    }
   ],
   "source": [
    "dict = {}    # 전체 크롤링 데이터를 담을 그릇\n",
    "\n",
    "# 수집할 글 갯수 정하기\n",
    "number = 10\n",
    "\n",
    "# 수집한 url 돌면서 데이터 수집\n",
    "for i in tqdm_notebook(range(0, number)):\n",
    "    # 글 띄우기\n",
    "    url = url_load['url'][i]\n",
    "    chrome_path = chromedriver_autoinstaller.install()\n",
    "    driver = webdriver.Chrome(chrome_path)\n",
    "\n",
    "    driver.get(url)   # 글 띄우기\n",
    "    \n",
    "    # 크롤링\n",
    "    # 예외 처리\n",
    "    try : \n",
    "        # iframe 접근\n",
    "        driver.switch_to.frame('mainFrame')\n",
    "\n",
    "        target_info = {}  # 개별 블로그 내용을 담을 딕셔너리 생성\n",
    "\n",
    "        # 제목 크롤링\n",
    "        overlays = \".se-module.se-module-text.se-title-text\"                                \n",
    "        tit = driver.find_element_by_css_selector(overlays)          # title\n",
    "        title = tit.text\n",
    "\n",
    "        # 글쓴이 크롤링\n",
    "        overlays = \".nick\"                                 \n",
    "        nick = driver.find_element_by_css_selector(overlays)         # nickname\n",
    "        nickname = nick.text\n",
    "\n",
    "        # 날짜 크롤링\n",
    "        overlays = \".se_publishDate.pcol2\"                                 \n",
    "        date = driver.find_element_by_css_selector(overlays)         # datetime\n",
    "        datetime = date.text\n",
    "\n",
    "        # 내용 크롤링\n",
    "        overlays = \".se-component.se-text.se-l-default\"                                 \n",
    "        contents = driver.find_elements_by_css_selector(overlays)    # contents\n",
    "\n",
    "        content_list = []\n",
    "        for content in contents:\n",
    "            content_list.append(content.text)\n",
    " \n",
    "        content_str = ' '.join(content_list)                         # content_str\n",
    "\n",
    "        # 글 하나는 target_info라는 딕셔너리에 담기게 되고,\n",
    "        target_info['title'] = title\n",
    "        target_info['nickname'] = nickname\n",
    "        target_info['datetime'] = datetime\n",
    "        target_info['content'] = content_str\n",
    "\n",
    "        # 각각의 글은 dict라는 딕셔너리에 담기게 됩니다.\n",
    "        dict[i] = target_info\n",
    "        time.sleep(1)\n",
    "        \n",
    "        # 크롤링이 성공하면 글 제목을 출력하게 되고,\n",
    "        print(i, title, nickname)\n",
    "\n",
    "        # 글 하나 크롤링 후 크롬 창을 닫습니다.\n",
    "        driver.close() \n",
    "    \n",
    "    # 에러나면 현재 크롬창을 닫고 다음 글(i+1)로 이동합니다.\n",
    "    except:\n",
    "        # print(\"에러\",i, title)\n",
    "        driver.close()\n",
    "        time.sleep(1)\n",
    "        continue\n",
    "    \n",
    "    # 중간,중간에 파일로 저장하기\n",
    "    if i==30 or i==50 or i==80:\n",
    "        # 판다스 데이터프레임으로 만들기\n",
    "        import pandas as pd\n",
    "        result_df = pd.DataFrame.from_dict(dict, 'index')\n",
    "\n",
    "        # 저장하기\n",
    "        result_df.to_csv(\"blog_content.csv\", encoding='utf-8-sig')\n",
    "        time.sleep(3)\n",
    "\n",
    "print('수집한 글 갯수: ', len(dict))\n",
    "print(dict)"
   ]
  },
  {
   "cell_type": "code",
   "execution_count": 82,
   "metadata": {
    "id": "aw9T8hPW-kvu",
    "outputId": "afb45d8f-9a0d-442f-a02a-f848f1ce8e6f"
   },
   "outputs": [
    {
     "data": {
      "text/plain": [
       "{0: {'title': '강남 역삼 맛집 나이티지 장작구이 치킨에 반한 곳',\n",
       "  'nickname': '두덩두덩',\n",
       "  'datetime': '2022. 4. 19. 9:00',\n",
       "  'content': '안녕하세요! 두덩입니다~\\n오늘은 강남 역삼 맛집을 소개하려고 합니다.\\n분위기며 음식 맛이며 재방문율이 높은 나이티지라는 곳인데요!\\n저도 이미 예전에 장작구이 치킨을 맛있게 먹은\\n기억이 있어서 이번에 대학교 친구를 데리고 또 왔습니다 ㅎㅎ 여러분들은 통닭 하면 무엇이 떠오르시나요?\\n저는 어릴 때 아빠가 가끔 집 근처에 오는\\n전기구이 통닭을 사 오시면 가족들과 맛있게 먹은\\n추억이 떠올라요.\\n전기구이 특유의 부드러움과\\n닭 속의 각종 약재들의 향이 베어 있는 밥..!\\n이곳에서는 어린 시절 추억과 함께 색다른 조합을\\n맛볼 수 있는 곳이라 자꾸만 떠오르는 것 같아요~ 신분당선 4번 출구에서 도보 5분 정도 거리에\\n위치해 있어서 약속 잡기에 접근성도 매우 좋습니다!\\n이날은 결혼하는 친구와의 약속이었어용\\n대부분 이쪽 동네에 오면 술집이나 카페가 모여 있는\\n10번 혹은 11번 출구로 많이 나가는데,\\n4번 출구 쪽에도 은근 뭐가 많아요~ 강남 역삼 맛집으로는 이미 많은 여심을 홀린\\n나이티지입니다!\\n매장 바로 앞에는 저희가 먹을 장작구이 치킨이\\n맛있게 돌아가고 있었는데요.\\n참나무 장작구이로 구워 더욱 향기 좋고 부드러운\\n치킨을 맛볼 수 있답니다 ㅎㅎ 찾아오는 것도 어렵지 않으니,\\n다음 술 약속은 이곳 어떠신가요?!\\n영업시간은\\n매일 14:00 - 00:00 그리고 입구에서부터 느껴지는 중세시대의 분위기!\\n여기가 상호명의 뜻이 기사단이라고 하는데,\\n그 시대의 감성을 그대로 녹여 유니크함과 함께\\n로맨틱함을 동시에 느낄 수 있는 곳이에요. 매장 안으로 들어가면 더욱 분위기가 남다른데요.\\n전체적으로 우드 가구들과,\\n곳곳에 무드 있게 타오 있는 촛불들.\\n벽면은 돌담벽으로 되어 있어서 웅장하면서도\\n고풍스러운 느낌이 났습니다!\\n데이트 장소로도 딱 좋을 분위기죠? 저와 친구는 어디를 앉을까 하다가\\n저번에 자리가 없어서 앉지 못했던\\n야외 감성의 테이블로 자리를 잡았습니다.\\n강남 역삼 맛집이라 저녁시간에는 손님이 많아져서\\n이번에는 나이티지에 조금 이른 저녁 시간에 왔어요 ㅎㅎ\\n이날 날씨가 선선해서 뭔가 야외 감성으로 \\n식사를 하고 싶었는데, 여기가 완전히 외부는 아니어도\\n나름 그 분위기가 있어서 좋거든요! 자리를 잡고 메뉴판을 살펴봤습니다!\\n저는 이미 한번 와본 곳이라\\n군침이 벌써부터 돌더라구요..\\n이곳의 대표 메뉴는 장작구이 치킨입니다~\\n특히 닭과 함께 파스타+리조또를 함께 먹을 수 있는\\n시즌2의 메뉴도 이곳의 인기 메뉴인데요.\\n3가지 음식을 한 번에 즐길 수 있으니 가성비는 말해 모해요~ 여러 명이서 오면 비주얼 대박적인\\n플래터 메뉴도 정말 좋을 것 같습니다~\\n매장이 비교적 넉넉한 규모라서 100인 정도 수용이\\n가능하다고 하니 회식이나 단체 모임에\\n딱 좋을 것 같아요!! 단품 파스타, 필라프 리조또도 시킬 수 있구요!\\n강남 역삼 맛집답게 사이드로 즐길 수 있는\\n샐러드, 떡볶이, 튀김, 소시지 등\\n나이티지 메뉴 구성이 정말 알차고 다양했어요! 메뉴 구성만큼 다양했던 주류와 음료들.\\n소주 맥주는 물론, 모히또와 와인, 위스키까지.\\n정말 없는 게 없더라구여~\\n술을 못 먹는 사람들을 위한 일반 카페 음료들까지 있어서\\n더욱 만족스러웠던 곳입니다 :D SNS 이벤트도 진행 중에 있으니\\n무료로 생맥 얻어먹기!!\\n여기 생맥에 살얼음을 얹어 주시는데,\\n진짜 시원해요~ 주문 후 곧바로 세팅을 해주시는 5종 소스와 피클.\\n여기 접시와 포크, 수저들도 모두 컨셉에\\n정말 잘 어울리지 않나요?\\n이런 센스 하나하나가 디테일한 게 느껴졌어요. 소스는 일반 양념과 와사비 마요,\\n매콤한 마요 소스? 그리고 머스터드와\\n매운 빨간 소스 이렇게 5종이었던 것 같아요!\\n저는 개인적으로 가운데의\\n불닭마요와 비슷한 양념 소스가 맛있었네용 강남 역삼 맛집으론 이미 맛 하나는\\n보장된 이 나이티지만의 장작구이 치킨이 나왔어요.\\n이날은 밥이 더 먹고 싶어서 단품으로 시켰는데,\\n비주얼이 장난 없죠?! 숯불 양념 장작구이 (20,900원)\\n참나무로 구워낸 닭과 감자튀김, 그리고\\n매콤한 숯불 직화 소스가 함게 나오는데요.\\n여기 따로 주시는 직화 소스가 정말 맛있더라구요?\\n매콤+달달의 조합인데, 부드러운 닭고기와 조합이 정말 좋았어요! 감자튀김도 갓 튀겨져 나와서 바삭하니\\n당연히 맛있고..\\n닭이며 감자튀김이며 소스도 다양하니\\n질리지 않게 다양한 맛으로 즐길 수 있으니 더욱 좋았어요~ 닭을 반으로 가르니 저 부드러운 살코기 보이시나요?\\n약간 분홍빛의 살코기가 마치 안 익은 것 같지만,\\n핑킹현상으로 단백질로 인해 나타나는 현상이라네요?!\\n닭고기 자체는 너무 부드럽고 촉촉했어요!!\\n닭 가슴살마저 맛있으니.. 남은 건 뼈 조각들뿐..\\n역시 또 방문한 강남 역삼 맛집은 대.만.족이었습니다~ 나이티지의 닭 안에 들어있는 이 밥도\\n숯불 양념장에 푸욱 찍어 먹으니\\n정말 맛있었어요!! 해물 로제 리조또 (16,900원)\\n신선한 해물이 가득 들어간 로제 리조또를 주문했어요!\\n로제 양념이 진하고 간도 적당하게 되어 있어서\\n정말 싹싹 긁어먹었습니다.. 굴과 오징어, 새우 등 각종 신선한 해물과\\n그 안에 부드러운 리조또의 조합.\\n전에는 파스타 먹었었는데, 리조또도 정말 잘하네요ㅜㅜ 이 꽉 찬 굴 속살 좀 보세요!\\n하나도 안 비리고 너무 맛있었네요~ 저번과는 다른 메뉴들로 주문을 해먹었는데,\\n올 때마다 맛있으면.. 단골 각이잖아요!!! 여기 메뉴 하나하나 다 먹어보고 싶은 욕심이 드네요..\\n그래서 다음 재방문 때 먹을 메뉴는 이미\\n마음속으로 치즈 들어간 메뉴로 정했답니다 ㅋㅋㅋ 색다른 분위기에 친구들과 맥주 한 잔,\\n로맨틱한 무드에 연인과 맛있는 저녁,\\n일 끝나고 동료들과 회식자리 등\\n어떤 자리에도 추천하고 싶은 강남 역삼 맛집이었습니다~ 아니.. 장작구이 치킨도 잘하는 나이티지에 \\n이렇게 후식으로 먹을 수 있는 상하목장 아이스크림까지 있으니\\n갓벽한 마무리였답니다~ '},\n",
       " 1: {'title': '[역삼] 모도우 강남N점 : 역삼 맛집 프라이빗 룸식당에서 한우 코스 즐기기',\n",
       "  'nickname': '뿌요\\n(lovelove_pyo)',\n",
       "  'datetime': '2022. 3. 11. 20:36',\n",
       "  'content': '모도우 강남N점 오랜만에 미니님 보기로 한 날,\\n강남쪽에서 보기로 하고 뭐 먹을까, 역삼 맛집 찾아보다가 가게 된 모도우!\\n맛있는 고기가 먹고 싶기도 했고, 모든 룸이 단독룸으로 되어있어서 다른 사람과 마주칠 일이 거의 없겠다 싶어서 조용히 식사하기 좋을 것 같아 모도우로 선택했어요. 역삼역에서 도보 3분 정도 가까운 거리에 위치해있는 강남N타워 지하에 위치해있어요.  외관부터 엄청 고급지지 않나요? 요즘은 한식이나 한우를 코스로 내어주는 곳이 좋더라구요 ;ㅅ;  제가 제일 좋아했던 부분 중 하나.\\n진짜 모든 좌석이 이렇게 프라이빗룸으로 되어있어요.\\n근처에 회사가 많으니 직장인 회식이나 접대, 미팅 장소로도 좋을 것 같구,\\n코로나 시국에 다른 사람이랑 마주칠 걱정 없이 편하게 식사가 가능한 분위기라 좋았습니당! 요렇게 룸 하나하나가 다 분리되어있는 프라이빗룸이라는 점! 요긴 저희 자리! 역삼 맛집 모도우 강남N점의 메뉴를 보실까요?!\\n메뉴는 코스 요리가 메인이었는데, 한우 구이가 나오는 B코스가 좋아보여서 B코스로 주문했어요.\\nA코스는 한우 샤브샤브가 나와요. B코스에서 맘에 들었던 점은 한우 미역국도 나온다는 점... ;ㅇ;/// 소고기 들어간 미역국은 무조건 옳다는거 아시죠.... 그 외의 디너코스는 이렇게 구성되어있습니당! 좋았던 점 중 하나가, 테이블 위에 핸드폰을 올려놓으면 바로 충전이 되는 무선 충전기가 있더라구요.\\n이런 사소한것 하나하나가 배려받는다는 느낌을 받게 했어요! 첫 요리는 아보카도를 싼 참치요리인데, 간이 강하지 않은 소스와 같이 서빙되어 왔어요. 제가 원래 아보카도도 좋아하구 참치도 좋아하거든요.. 이 조합 칭찬해 ;ㅅ;\\n아보카도 특유의 크리미하면서 고소한 맛이 참치와 너무 잘 어울리더라구요. 간이 많이 강하지 않아서 첫 스타터로 어울리는 메뉴라는 생각이 들었어요. 두번째로는 한우 육회. 육회가 특이했던 점은, 보통 일반적인 육회는 베이스를 고추장으로 해서 육회를 만들잖아요?\\n여기 육회는 고추장이 아닌 간장 소스를 베이스로 해서 만들었는지 고추장 특유의 강하고 매콤한 간이 아니었어요.\\n그래서 오히려 코스로 즐기기에 맛있었던 것 같아요. 육회를 먹고 있으니까...\\n이건 와인을 같이 마셔줘야한다!!! 싶어서 미니님이 와인을 사주셨지 모예요,,  저희가 주문한 와인은 몬탈토, 페논 힐 샤르도네. 엄청 깔끔하고 깨끗한 맛이었어요.\\n저는 개인적으로 바디감이 묵직한 와인을 싫어하고 잘 못 마시는데... 이 와인은 바디감도 가볍고 말 그대로 깔끔한 맛이라 음식들이랑 잘 어울리더라구요! 그 다음 나온 새우전. 잘 버무린 파채와 함께 탱글한 새우 속살이 가득 들어차있어서 맛있었어요. 새우전까지 먹고 나면 이제 본격적으로 한우 구이 셋팅을 해주신답니다! 한우 비장탄 숯불구이.\\n타다끼같은 느낌으로 겉면만 살짝 초벌구이해서 나와서 사실 그대로 먹어도 맛있지만,\\n취향에 맞게 좀 더 익혀먹으면 따뜻하게 먹을 수 있어서 더 맛있는 한우구이. 같이 나온 밑반찬으로는 마늘쫑 무침과, 배추김치 그리고 오이무침이 있었는데 다 맛있었지만 개인적으로는 오이무침이 원픽이었어요.\\n적당히 새콤하면서 은은한 달콤함과 짭쪼름함이 있는, 아삭한 오이무침.\\n고기랑 잘 어울렸어요. 같이 나온 한우미역국과 잘 지어진 하얀 쌀밥. 무조건 맛있는 조합 아닌가요 ㅠㅠㅠㅠㅠ 미역국+쌀밥+고기라니....\\n미역국은 소고기가 듬뿍 들어가 꼬소하면서도 너무 맛있는 미역국이었고, 쌀밥도 고슬고슬 잘 지어져나왔어요. 이제 고기를 굽굽해봅니다! 요기에 원하는 만큼 올려서 구워먹으면 되구 새콤달콤한 소스에 입맛에 맞게 찍어먹으면 되어요. 개인적으로 좋았던 부분은 한우구이도 1인 1플레이트로 따로 셋팅되어 나온다는 점이에요.\\n보통 고깃집 가면 하나에 나오니까 고기굽는 사람이 따로 있기 마련인데.. 여긴 1인 1플레이트라서 자기가 먹고싶을때 원하는만큼만 직접 구워먹을 수 있어서 넘 좋았어요. 요렇게 굽굽해주면 됩니다! 저는 살짝만 익혀먹었어요. 육즙 가득한 한우구이 ㅠㅠㅠㅠ 넘 부드럽고 고소했어요. 요렇게 파채나 같이 나온 야채구이를 한번 더 익혀서 곁들여 먹어주면 꿀맛. 밥을 다 먹고 마무리 디저트로 나오는 빙수.\\n샤인머스캣과 딸기가 토핑되어 나와요. 서걱서걱한 얼음 샤벳 식감이고 새콤달콤한 맛인데, 새콤한 맛이 좀 더 강해서 고기를 먹고 나서 깔끔하게 마무리하기에 좋았습니다.\\n전반적으로 조용한 분위기에서, 단독룸에서 식사하는 분위기도 너무 좋았고\\n음식들도 다 정갈하고 깔끔해서 맛있었던 모도우.\\n역삼 맛집 찾으시는 분들, 특히 조용한 룸식당에서 식사할 곳을 찾으시는 분들에게 추천드려요!!  문의: 02-6250-0900\\n매일 11:00 - 22:00 (브레이크타임 15:00 - 17:00)\\n라스트오더 21:00'},\n",
       " 2: {'title': '역삼맛집 + 수제버거 캐스터네츠 메뉴 꿀팁 강남N타워',\n",
       "  'nickname': '아가다',\n",
       "  'datetime': '2022. 2. 27. 21:26',\n",
       "  'content': '안녕하세요. 맛집블로거 아가다입니다. 집콕하며 그리운 첫번째음식. 지난 사진첩 뒤져 올려보는 핫플 역삼맛집 예정된 수제버거 전문점 캐스터네츠 예욥! 서울로인, 램브란트, 모도우에 이은 오픈의 야심작이자 역삼역 인근 강남n타워 맛집으로 등극할 곳인데요. 최근에 잠실의 프리미엄 수제버거땜에 더욱 핫해진 수제버거시장.\\n이제 동네마다 맛있는 햄버거집은 패스트푸드 말고도 한 군데씩 꼭 있는 필수 맛집으로 역삼맛집이자 강남수제버거맛집 시장에 출사표를 던진 곳이랍니다! 캐스터네츠 메뉴는 요로케!\\n수제버거 6가지, 사이드메뉴 6가지 꽤 간단한 메뉴라인업이라 고민을 많이 하지 않아도 좋아요.\\n저흰 새우싫어하는 사람이 껴있어 ㅋ 그분은 기본중에 기본인 하모니치즈버거를 셀렉하고 \\n캐스터네츠만의 시그니처라는 쏨땀이 들어간 파파야새우버거와 미리 찾아본 정보로 맛있다고 소문난 바질토마토버거를 주문했어요.\\n미리 썰을 풀자면 세메뉴 모두 성.공.적.\\n제가 못먹어본 베이컨이 더 추가된 하모니베이컨치즈버거역시 수제버거 기본이라 맛있을 테고\\n꽈리고추가 들어간 치킨꽈리버거랑 연단불고기버거도 캐스터네츠에서만 판매하는 메뉴일 것 같아 다음에 꼭 재방문해서 먹어보려구용 주문은 카운터주문도 가능했지만, 키오스크에서도 가능했어서 키오스크에서 주문을 하려고 하는데- \\n캐스터네츠 사이드메뉴에서도 살짝 고민이 되긴 했어요. 다들 맛있다던 핫윙인가 고구마튀김인가 감튀인가.....\\n다 먹기엔 분명 많을 것 같았는데, 사실 주문해보고 남자분이 한 분 껴있다면 사이드도 맘껏 주문하시길 추천해요\\n양이 막 어마무시하게 넘쳐나지 않아서 조금 안심하고 주문해도 좋답니다.\\n그래서 저흰 햄버거 세개 플로트 두종류- 애플민트와 레드베리, 살라미감튀, 고튀 이렇게 추가했어요. 매장 분위기가 넘모 내 서탈이었어요. \\n1번 사람이 없어 휑-하니 코시국에 딱이었고, 2번 테이블간 거리도 널찍널찍해서 프라이빗했고, 모노톤 그린 그레이 조합의 전체 분위기가 딱 취저.\\n  타다!\\n우리 메뉴 다 나오긔. ㅎ ㅏ앍, 맛있겟다 그쵸. 처음 먹어보는 역삼맛집 플로트랑 캐스터네츠 버거, 비주얼 깡패더라구욥 기본중에 기본 버거예요. 8,9라는 가격도 기본가격이었구요.\\n두껍고 노오란 체다치즈가 멜팅되어있는 모습이 예쁘구, 패티는 잘 안보이지만 딱 수제버거의 그 맛있는 패티라 클래식하게 즐기기 좋은 메뉴예요. 우리집 어린이가 드신거고, 보통의 패스트푸드점 주니어사이즈 버거는 다 드시는데 요날은 플로트랑 사이드 같이 즐기더니만 햄버거 하나 다 못먹었어요. 캐스터네츠 메뉴의 번 사이즈는 다 똑같은데 기본 버거도 양이 작지만은 않더라구요. 그리고 우리집 어린이가 가장 사랑했던 플로트! 요 그린컬러의 플로트는 애플민트 소다위에 바닐라 아이스크림이 한스쿱 올려진 음료예요.\\n레드컬러는 레드베리 소다위에 있는데 원랜 아이스크림을 소다에 섞어드셔도 되고 그냥 취향껏 따로 또 같이 드셔도 되어요!\\n우리는 청량감을 느끼기위한 소다로 먹고 아이스크림은 디저트 느낌으로 먹었답니다. 그래서 이렇게 함께나온 사이드 중에서 고구마튀김이랑 감자튀김에 찍어먹었어요. 강남수제버거맛집인 쉑쉑 처럼 쉐이크에 찍어먹는 프렌치프라이맛 나염 ㅋㅋ 햄버거의 영원한 짝꿍 감튀와 마늘과 로즈마리를 튀겨올려 반지르르 살라미를 더한 메뉴예요. 6,9라는 감튀치곤 약간 나쁜 가격같아보이지만 통감자 썰어서 튀겨주시는 것 같 다고 믿을 가격으로 보면 안나빴어요. 두가지 딥도 케쳡과 갈릭마요? 같은 느낌의 마요소스였는데 둘다 맛있었어요. 개인적으로 살라미를 그닥 좋아하지 않는데 요건 워낙 잘 저며두고 잘 튀겨서 긍가 맛있었어요. 감튀랑 곁들이기 좋은 조합! 이게 바로 캐스터네츠를 널리 알려줄 것 같은 시그니처 쏨땀이 들어간 파파야 새우 버거였는데요. 처음엔 어떤 맛일까 궁금했는데 한입 베어 물곤 우왕! 이런맛이구나!! 했던 아이예요. 가격은 10,9로 제일 비싼 고오급 버거. (그래도 고든램지버거에 비함 쌈!) 참고로 저는 고수매니아입니다. 실란트로 코리앤더 모어모어를 외치는 찐 러버라서... 제 입맛에 맞을 수 밖에 없었어요 ㅎㅎ\\n동행인도 고수에 대해서는 중수정도 되는 분인데 드셔보시고 나뿌지 않다 하셨으니 고수를 드실 줄 아는 분이면서 동남아의 맛과 향을 즐길 줄 아신다면 도전해보시라고 추천드리고파요. 새콤달콤한 쏨땀을 아시고 좋아하시는 분이라면 쏨땀에서 오는 그 반미샌드위치에서의 새콤 달콤함과 와사비의 알싸함 그리고 잘 튀겨진 고급 새우 패티에서오는 새우의 육즙과 새우향에 고수가 더해졌으니.... 그냥 맛있는거 종합세트 정도로 생각하시면 될거같아요. 나 반미 좋아해요. 그런데 햄버거 빵에 끼워먹는 반미는 생각해본적 없어요~ 특히 새우패티요? 하시는 분들껜 추천 드립니다.\\n단, 새우 시러요- 고수 시러요- 동남아 향 더 싫어요- 하시면 다른거 드세요.\\n일반적인 수제버거는 아니랍니다.\\n아! 그리고 살짝 짭짤하니 맥주생각나더라구요. 맥주 주세요.. 맥주 파세요..... ㅋ ㅑ - 이아이도 참 괜찮았던 역삼맛집의 기본 버거였어요. 가격은 9,9 드라이 토마토랑 바질이랑 모짜렐라치즈는 뭐 말해무해요 당장 맛있죠!! \\n이건 정말 호불호 없이 기본 치즈수제버거 외에 조금 더 신선한 맛을 즐기고싶다! 하시는 분들께 추천 드려용 :) 나의 최애 메뉴였던 고구마튀김. 원래도 고구마는 맛있죠. 맛있어서 좋아하는 식재료라 놓칠 수가 없었습니다....\\n그래서 사실 감튀파랑 나뉘어서 윙봉버리고 고구마로 갔는데 넘 잘했어요. 스스로 셀프칭찬.\\n길다란 고구마 통째로 썰어서 튀긴건데...... 소스도 맛있고 향이 살짝 뭔가 있는데 익숙하면서도 낯선 그 향이 진짜 맛있었어요.\\n가격은 6,9였는데 양도 많아서 괜츈해요!! 그래서 저능..... 위에 올려진 크리스피한 고구마튀김이랑 두꺼운 고구마튀김이랑 정말 많이 먹었어요. \\n디저트로 먹기에도 굳굳요! 햄버거 먹고싶어서 수제버거 맛집찾아 역삼으로 간날이었는데  강남N타워에있어서 역삼맛집 중에선 주차도 편리하고 쉽고 지하 식당가들도 잘 꾸려져있어서 먹고 디저트 함께 하기도 좋고 너무 편했던 날이었어요. 나오는길에 ㅎ 제가 처음 갔을 때보다 더 흥한 램브란트 보면서.. 저 중간에 타오르는 불길 너무 예쁘다고 생각하며...\\n조만간 여기도 다시 와야겠다 다짐했어요.\\n서울로인도요-\\n모도우도요....\\n진짜 하나하나 모두 놓치기 싫은 오픈의 외식매장들. 어느하나 놓치지 않을 수 없어서 ㅎㅎㅎ 제가 보장하는 곳이예요. 시도해보세요!!\\n(주) 오픈으로 부터 일부 식사를 제공받았습니다.'},\n",
       " 3: {'title': '[역삼역 맛집] 캐스터네츠 강남N점 - 강남 수제버거 맛집',\n",
       "  'nickname': '야세\\n(yase90)',\n",
       "  'datetime': '2022. 4. 1. 8:58',\n",
       "  'content': '퇴근 후 친구와 만나 간단하게 저녁을 먹고 들어가기로 하였다. 이 날 비가온다고 하여 실내에서 보기로 하였고, 강남 수제버거 맛집 캐스터네츠 강남N점에서 접선하였다.  역삼역 근처 강남 N타워 지하 2층에 위치하고 있는 캐스터네츠. 생긴지 얼마 안되어서 그런지 엄청 깔끔했다. \\n민트 빛의 테이블이 엄청 키치했던 매장 내부😇 주문은 키오스크를 통해서 주문하면 된다. 메뉴판 \\n햄버거는 8가지 종류가 있었고, 그 외 사이드 메뉴 (감튀/ 고구마튀김/ 윙/ 콘샐러드 등) 및 여러가지 음료들이 있었다.\\n  주방은 오픈키친이었고, 한눈에 보기에도 엄~청 깔끔해 보였다. 식기와 물티슈, 티슈 등은 셀프바에서 이용 가능하다.  주문을하고 약 10분정도 기다리니 음식이 나왔다. \\n친구랑 둘이서 햄버거 1개씩과 사이드 2개, 음료를 각각 1개씩 시켰더니 2개의 트레이에 준비해 주셨다. 민트민트한 자리를 배경으로 사진을 찍으니까 너무 예쁘게 나왔다.  파파야 새우버거 \\\\10,900\\n콘샐러드 \\\\4,500\\n블루레몬 플로트 \\\\6,500 새우버거에는 채썬 당근과 양파, 양상추, 완전 통통했던 새우살 그리고 + 고수 가 들어갔다. 주문 시 고수를 넣어도 괜찮겠냐고 문의해 주시니 고수를 안좋아하면 빼면된다.\\n완전 통통했던 새우버거의 단면. \\n한입 크게 베어물으니 입안가득 새우향이 퍼졌다. 원래 새우버거를 그리 좋아하진 않았는데 이 날 여기서 새우버거를 먹어본 후 인식이 완전 달라졌다. 진짜 맛있는 거구나!!! \\n내가 먹어본 새우버거 중 정말 원탑이었다.  코우슬로를 시킬까 콘샐러드를 시킬까 고민하다가 뭔가 옥수수의 톡톡 터지는 식감이 그리워서 시켜본 콘샐러드\\n특이하게도 마늘 후레이크가 들어가 있었는데 콘샐러드와 정말 잘어울렸다. 좀 더 고급진 콘샐러드 맛? 하모니 베이컨 치즈버거 \\\\13,900\\n고구마 튀김 \\\\6,900\\n애플민트 플로트 \\\\6,500  비쥬얼 끝판왕이었던 베이컨 치즈버거\\n육즙 가득했던 패티와 적당하게 촉촉했던 번. \\n베이컨+치즈 때문인지 약간 짭쪼름한 것이 매력적이었다. 이쯤되면 궁금해지는 플로트라는 음료!!\\n블루레몬/ 레드베리/ 애플민트 3가지 맛이 있었고, 우리는 블루레몬/ 애플민트를 주문해보았다. \\n각자 이름에 맞는 맛의 소다 위에 바닐라 아이스크림이 얹어져 있었던 음료.\\n바닐라 아이스크림은 조금 떠 먹다가 나중에 음료에 섞어 먹으면 쉐이크같은 맛이 났다. 우리는 고구마튀김에 바닐라 아이스크림을 얹어서 먹었는데 그것도 괜찮은 조합이었다. 마지막으로 너무 맛있었던 고구마튀김!! \\n오동통한 튀긴 고구마와 얇게 슬라이스하여 튀긴 고구마가 같이 나왔다. 보통은 아주 얇은 고구마 스틱을 많이 팔던데 여기는 통통한 고구마 튀김이어서 더 풍부한 맛이 느껴졌다. 함께 나온 소스랑 찍어먹으니 진짜 맛있었다. \\n캐스터네츠는 버거 뿐만 아니라 사이드메뉴도 하나같이 다 너무 맛있어서 만족 스러웠다. 특히 새우버거는 내가 먹어본 새우버거 중 가장 살도 오동통하니 맛있었다. 역삼이나 강남 근처에서 수제버거 맛집을 찾고 있다면 캐스터네츠 강남N점 완전 강추 강추 강강추!!! ※ 본 포스팅은 캐스터네츠 강남N점에서 \\n식사권을 제공받아 솔직하게 작성한 글입니다.\\n#역삼맛집 #역삼역맛집 #강남수제버거맛집 #수제버거맛집 #서울수제버거맛집 #강남N타워맛집 #캐스터네츠 #캐스터네츠버거 #캐스터네츠강남N점 #수제버거맛집추천 #역삼데이트코스 #역삼역데이트코스 #강남맛집 #강남역데이트코스'},\n",
       " 4: {'title': '역삼역 맛집 [더뭉티기] 불금에 안성맞춤',\n",
       "  'nickname': '생닭\\n(kooltz1018)',\n",
       "  'datetime': '2022. 5. 22. 23:26',\n",
       "  'content': '최근에 대구에 사는 지인들과 자주 카톡을 하다 보니\\n단톡방에선 수시로 뭉티기와 막창 얘기가 나왔다.\\n사실 막창은 (물론 대구에서 먹으면 더 맛있지만) 서울에서도\\n흔하게 볼 수 있고 먹을 수 있는 메뉴라서 크게 감흥이 없었는데\\n종종 뭉티기 사진을 볼 때마다.. 아.. 저절로 탄식이 나오는 게\\n이대로는 안 되겠다, 더워지기 전에 먹자! 해서\\n역삼역 맛집 더뭉티기를 방문했다. 더뭉티기는 매장 규모는 아담한데 손님 방문은 줄을 잇는 곳이었다.\\n그래서 방문 전 미리 네이버 예약을 꼭 하고 가시길 추천한다.\\n특히 뭉티기를 먹으러 갈 경우엔 무조건이었다.\\n우리는 롯데백화점 강남점에서 볼일이 좀 있어서\\n쇼핑을 마치고 도보로 이동했는데 금요일 저녁시간이라서\\n워크인으로 온 손님들이 매장 앞을 북적이고 있어 새삼 깜짝 놀랐다. 사진으로 보는 것처럼 매장 규모는 아담했다.\\n그런데 오른쪽 천막 같은 공간에 또 자리가 있어서\\n의외로 앉을 자리는 꽤 있는 편이었다.\\n하지만 역시나 저녁에 방문한다면\\n특히 금요일 저녁에는 꼭 예약을 하고 가길 추천한다. 메뉴는 사진과 같았다.\\n뭉티기가 아주 신선한 당일 도축 한우를 쓰기에\\n양 대비 가격대가 저렴한 메뉴라고 할 순 없었다.\\n대신 역삼역 맛집에서는 뭉티기 메뉴를 시킬 경우\\n선지 해장국을 큰 뚝배기에 가득 담아서 제공했기에\\n1차 식사 겸 술자리로 들른 손님들의 경우\\n여기에 공깃밥 하나 정도를 추가해서 먹으면 좋을 듯했다.\\n그 외에도 여러 세트메뉴가 잘 마련되어 있어 좋았다. 우리는 뭉티기 소(43,000) + 육회비빔밥 보통(11,000) \\n+ 공깃밥 (1,000)을 시켜서 주문했다.\\n앉은 테이블이 둘이 마주 앉기에 딱 아담한 사이즈라서\\n메뉴가 다 나오면 혹시 비좁을지 몰라 걱정했는데\\n의외로 요리조리 알차게 잘 수납이 되어서 다행이었다. 역삼역 맛집은 뭉티기를 특제소스에 찍어 먹을 수 있었는데\\n참기름, 다진 마늘, 고추장 양념, 잘게 썬 고추를\\n훌훌 섞어서 쫄깃한 뭉티기를 푹 찍어 먹으면\\n저절로 소주 생각이 간절해져서 참 곤란해졌다ㅎㅎ 이어서 뭉티기 주문 시 서비스로 나오는 선지 해장국도 등장!\\n우리 역시 하루 종일 바쁜 일정을 보내다가\\n저녁 식사를 위해 (술은 다음 날 일정을 위해 아쉽지만 생략)\\n방문한 터라 뭉티기 만으로는 식사가 안 될 것 같아\\n밥을 추가로 주문했다. 그리고 이날의 메인 주인공 찐 뭉티기도 납시었다.\\n꽃처럼 화려하게 수놓인 아름다운 뭉티기\\n아직 입에 넣지 않았지만 그 찰지고 담백한 맛이\\n눈으로만 보아도 제대로 느껴지는 듯했다. 접시 사이즈는 큰 편은 아니었는데\\n그래도 고기를 적당히 겹쳐서 쌓아올려주셔서\\n먹을수록 \"오오 생각보다 양이 많네?\"\\n라며 남편과 같이 끄덕끄덕했다. 뭉티기는 지방이 거의 없는 우둔살(?) 부위를\\n당일 도축한 것으로 아주 신선한 상태에서만 쓰기 때문에\\n접시를 거꾸로 들어도 떨어지지 않는다는 말을 들었는데\\n우리는 쫄보라서 완전히 뒤집지는 못하고\\n이렇게 옆으로 세워서 들어보기만 했다.\\n그마저도 접시에 붙인 게 아니라\\n고기들끼리 겹쳐 있는 것 때문에 떨어질까\\n조마조마했는데 의외로 튼튼하게 붙어 있어\\n남편과 또 오오오~~ 하며 감탄을 했다. 서비스로 나온 해장국에는 선지도 실하게 들어 있고\\n우거지, 대파 등의 채소도 엄청 듬뿍 들어 있어서\\n그냥 단품 식사 메뉴가 같이 나온 것 같았다.\\n여기에 공깃밥 하나만 곁들이니 한 사람 식사는 충분했다. 양념장은 보이는 것 대비 그렇게 많이 맵지는 않았다.\\n나는 생고추는 무서워서 잘 안 먹는 맵찔이인데\\n역삼역 맛집에서는 좀 야무지게 뭉티기에 얹어 먹어보았다.\\n먹으면 먹을수록 불금에 이 메뉴를 술 없이\\n그냥 먹는 나 자신이 참 대단하면서도 안타까웠다ㅎㅎ 진짜 쫜득! 하고 찰지다는 느낌이 딱 맞았다.\\n대구 현지만큼은 아니겠지만 그래도 서울에서 먹을 수 있는\\n뭉티기치고는 거의 최상급 퀄리티라는 생각이 들었다.\\n가까이만 산다면 배달 또는 포장으로라도\\n자주 사다 먹을 것 같은 퀄리티와 맛이었다. 마지막으로 나눠먹기는 하지만 주로 내가 다 먹어치운\\n육회비빔밥이 나왔다.\\n사람 욕심이 끝이 없다고 메뉴판에는 보통 11,000원짜리와\\n특 17,000원짜리가 있으니 특 사이즈를 시키고 싶었지만..\\n그래도 일단 양심껏 작은 것으로 먹어보기로 했다.\\n한우 육회비빔밥이라 너무 양이 적을까 걱정했는데\\n양념장은 과하지 않아 신선한 고기 본연의 맛을 즐길 수 있게\\n하면서 밥 한 공기는 너끈히 비비고도 남을 육회가\\n듬뿍 올려져 나와서 식사 자체로는 아주 만족스러웠다. 육회비빔밥을 슥슥 비벼 한 숟갈 크게 먹었다.\\n잘게 썬 파채도 듬뿍 들었고 미나리도 가득이라서\\n아삭하면서도 향긋한 식감과 향이 일품이었다.\\n쫄깃한 육회와 찰진 밥이 어우러지는 맛도 물론 좋았다. 나는 선지 해장국을 먹지 않아서 따로 시킨 공깃밥은\\n한 숟갈 정도만 덜어 국물과 채소 건더기를 곁들여 먹어보기도 했다.\\n같이 나온 김치와 함께 먹으니 이 식사 또한 너무 좋았다.\\n처음에 뭉티기만 생각하면 2~3차 정도로 오기 좋은\\n술자리 장소라고 생각했는데 막상 식사와 서비스 해장국을\\n먹어보니 1차부터 달려도 충분한 역삼역 맛집이라는 것을 알게 됐다. 의외로 먹으면 먹을수록 양이 잘 안 줄던 뭉티기 \\n그런데 작은 사이즈라서 더 만족스러웠던 양\\n강남 쪽에서 제대로 뭉티기를 하는 핫플을 알게 되어 참 좋았다. '},\n",
       " 5: {'title': '[역삼역맛집]이영자 전참시 맛집 차돌삼합진대감역삼점 솔직후기',\n",
       "  'nickname': 'Sisterhood',\n",
       "  'datetime': '2022. 3. 11. 21:00',\n",
       "  'content': 'ㅋ ㅑ~~~~악 드뎌 왔어요 ㅋㅋㅋㅋ\\n진작에 한번 와보고 싶었는데 계속 못오다가 드뎌!!!\\n두둥~~~~~~왔어요 ㅋㅋㅋㅋ\\n얼마나 먹고 싶었던 #차돌삽합인가 ㅋㅋㅋㅋ\\n걸어 가는 발걸움이 엄청 가볍네요 사뿐사뿐~~\\n#역삼역맛집\\n#역삼맛집\\n#전참시맛집\\n#차돌삼합진대감\\n#진대감역삼점 저기 앞에 차돌삼합진대감 보이세요??\\n우훗~~~~기다리고 기다리던 시간 ㅋㅋㅋㅋ\\n역삼으로 이사오고 가장 오고깊었던 곳인데 ㄱ\\n코로나로 방역패스때문에 못오고 \\n바빠서 못오고 이제야 오네요 차돌삼합 진대감 \\n#진대감 들어가봅시다\\n얼마나 맛있는지 ㅋㅋㅋ 생각했던거보다 엄청 깔끔하니 \\n분위기 괜찮네요  자리에 앉아요\\n이리저리 마구 둘러보면서 블로그인으로써 사진 막찍고 \\n마구마구 구경해요\\n#시스터후드 서울 촌년 같네요 ㅋㅋ 테이블 가림판에\\n“진대감 차돌삼합 맛있게 먹는 방법”\\n적혀 있어요 ㅋㅋㅋ\\n좋다 ㅋㅋㅋ\\n심장이 두근두근해요 ㅋㅋ 메뉴!!!\\n뭐 고민할것도 없이 #한우차돌삼합 2인주세요~~~ 기본상이 차려졌어요~~\\n뭐지 뭐지 구경구경 ㅋㅋㅋㅋㅋㅋㅋ 상을 차려 주시면서 “초밥밥은 드시지 마세요”\\n하시고 김치도 따로 놓고 가시드라구요 ㅋㅋ 샐러드는 저는 별로 더라구요\\n참 !! 요 옆에 나물은 뭐지 알려주셨는데 \\n뭐였더라 ㅋㅋㅋ 요 세 반찬들이 차돌삼합과 함께 할 아이들 역삼맛집\\n역삼역맛집\\n#역삼고깃집\\n#이영자맛집진대감\\n진대감역삼점\\n차돌삼합진대감 차돌삼합을 구울 판이죠~~ 갑자기 이 빵같이 큰아이 ㅋㅋㅋ\\n완전 뜨거운 계란찜 서비스래요 ㅋㅋㅋㅋ\\n완전 맛나요 풍선같이 ㅋㅋ 우와~~~~~~~\\n꽃같네요\\n차돌과 관자 하나는? 아까 제가 말한 아이들\\n빨리 빨리 먹고 싶어요 ㅋ 역삼역맛집\\n차돌삼합진대감은 너무 친절하게 다 구워주신답니다\\n#구워주는고깃집\\n진대감역삼점 지글지글 아시죠??\\n차돌과 관자다 엄청 금방 익는다는 사실을ㅋㅋㅋ\\n한편에 신김치를 구워주시는데 이 아이도 너무 맛있어요\\n대박 ㅋㅋㅋ\\n송이 버섯에 보이세요??\\n#진대감 써 있네요 ㅋㅋㅋㅋㅋ 하나하나 놓치고 싶지 않아 영상으로 급하게 찍었네요\\n차돌에 관자를 넣고 나물을 함께 넣어서 싸주세요 요로케 이쁘게 제 앞접시에 놔주세요\\n아~~떨려\\n한입 먹어볼까요??? 생와사비와 기름장인데 저는 와사비만 넣고 먹을께요\\n아~~~~\\n미쳤다!!!!!!!!!!!!!!!!!  두번째 구운 차돌삼합 아이들은 \\n초밥밥 위에 이쁘게 올려주시네요 ㅋㅋㅋ 이놈들 먹어봅시다 \\n진짜 미쳤다 \\n요것도 너무 맛있어요 진짜 초밥 밥이랑 환상적이 조합 \\n더 먹고 싶었는데 초밥 밥을 더 달라기 좀 민망해서 참았음 ㅋㅋㅋ\\n다음에 가서는 더 달라 해야지 ㅋㅋ 차돌삼합에 갓김치가 잘 어울린다 길래\\n한번 싸서 먹어봤어요\\n음~~짤어울리네요\\n느끼함을 확 잡아줘요 ㅋㅋ 메뉴에 있던 한우꽃게된장찌개\\n#역삼동한우맛집\\n#한우차돌구이\\n한우집에 와서 된장찌개를 안먹으면 안되죠?? 안에 고기도 많이 들어있고 \\n꽃게도 가득 ㅋㅋ\\n국물이 시원하니 끝내줘요\\n짜지도 않고 밥 조금 말아서 차돌한입 된장찌개 한입\\n먹으니 느끼함이 확 없어져요 시스터후드의 먹방 아시죠??\\n절대 둘이서 2인분으로 안되는거 ㅋㅋㅋ\\n그래서 1인분 추가 하려다가 2인분 다시 추가!!\\n처음 먹는거 처럼 먹어야지 ㅋㅋㅋ 2인분 추가라 그런가 앞접시에 올려주지는 않드라구요 ㅋㅋㅋㅋ\\n뭐 내가 가져다 먹어야죠~~ㅋㅋ 아~~저기 메뉴가 있었네요 이제봄 ㅋㅋㅋ\\n새조개 삼합도 있어요 그래서 차돌삼합을 둘이서 4인분을 먹지 말고\\n2인분 먹고 한우꽃게된장찌개랑 볶음밥을 먹는것도 좋은거 같아요 4인분 먹고 볶음밥 먹고 싶었지만 \\n너무 배부를꺼 같아서 참았는데 \\n다음에는 2인에 볶음밥 먹는걸로~~그럼 딱 맛있게 먹었다 싶을꺼 같아요 차돌삼합 진대감!!\\n너무 맛있고 저는 소고기를 좋아해서 더 그럴수도 있어요 \\nㅋㅋ하지만 제 입에는 최고 ㅋㅋㅋ\\n역삼맛집\\n역삼역맛집\\n역삼소고기맛집\\n차돌삼합진대감\\n이영자맛집 인정!! 영업시간도 확인해 보시고 가셔요~~\\n#회식장소 로도 딱!!!'},\n",
       " 6: {'title': '역삼 맛집 수제버거가 맛있었던 캐스터네츠 CASTANETS',\n",
       "  'nickname': '다크윤',\n",
       "  'datetime': '2022. 3. 21. 8:00',\n",
       "  'content': \"수제버거가 맛있었던 캐스터네츠 역\\n삼 수제버거 맛집에 다녀왔어요. 완전 믿을 만한 기업에서 새로 오픈한 곳이었기 때문에 기대감이 엄청 컸는데요, 역시나 너무 만족스러웠어요! 제가 다녀온 곳은 독특한 재료로 조화를 이루는 감각적인 수제버거 맛집 '캐스터네츠'에요! 전체적인 인테리어도 너무 예뻤고 특히나 통통한 새우 패티의 새우버거가 너무 맛있었어요! 그럼 바로 소개해 드릴게요.  역삼 맛집 캐스터네츠 위치는 강남N타워 지하 2층이구요, 역삼역에서 약 250m 정도 거리로 역삼역 4번 출구에서 도보로 약 3분 정도 소요돼요. 주차도 2시간 무료 주차 가능해서 편하게 주차하고 식사했어요.  안녕하세요 다크윤이에요:)\\n저는 빵 종류는 안에 고기나 햄이 들어간 걸 좋아해요ㅎㅎ 그래서 빵 중에서는 햄버거나 샌드위치를 정말 좋아하는데요, 이번에 정말 맛있는 수제버거 맛집에 다녀왔어요! 제가 다녀온 곳은 도쿄등심, 모도우, 서울로인, 램브란트, 암소서울 등을 운영 중인 (주) 오픈에서 운영하는 곳이에요! 그래서 무조건 맛있을 거란 믿음을 가지고 방문했거든요 ㅎㅎ 근데 역시는 역시! 진짜 맛있더라구요!!!  역삼 맛집 캐스터네츠는 오픈한지 불과 얼만 안된 따끈따끈한 신상 수제버거 전문점이에요! 이번에 강남N타워에 모도우도 오픈했더라구요! 조만간 모도우도 방문해 봐야겠어요 ㅎㅎ 점점 N타워에 (주) 오픈에서 운영하는 매장이 많아지고 있더라구요! 진짜 너무 좋아요!!  역삼 맛집 캐스터네츠 인테리어 보여드릴게요! 지하 주차장에서 엘리베이터 타고 내려서 오른쪽으로 쭈욱 들어오시면 이렇게 민트색 인테리어의 CASTANETS가 보이실 거예요! 워낙 화사하게 꾸며 놓으셔서 바로 눈에 띄더라구요! 저희는 일요일 오픈 시간에 방문해서 여유롭게 즐길 수 있었는데요, 점점 손님이 많아지더니 테이블 반 이상이 금방 차더라구요 ㅎㅎ 이 주변은 회사가 많아서 평일은 정말 정신없을 것 같았어요! 매장 정말 넓죠? 전체적으로 민트색 컬러의 포인트가 너무 예쁘더라구요! 저희는 이른 시간에 방문해서 이렇게 매장 전반적인 인테리어 사진을 촬영할 수 있었어요! 아무래도 손님이 많이 계시면 차령 하기 좀 힘들잖아요 ㅎㅎ워낙 매장이 넓어서 테이블 간 간격도 넓어서 좋았구요, 한쪽에 스트로우, 냅킨, 물티슈, 포크, 나이프 등은 따로 마련되어 있어서 필요하신 분들은 편하게 가져가시면 될 것 같아요!  역삼 수제버거 맛집 메뉴 보여드릴게요! 주문은 키오스크를 통해 하시면 되는데요, 요것도 넘 고급 진 것! ㅎㅎ 버거 메뉴는 파파야 새우버거, 치킨 꽈리버거, 하모니 베이컨 치즈버거, 하모니 치즈 버거, 바질 토마토버거, 연탄 불고기버거가 있었구요, 프렌치프라이, 살라미 프렌치프라이, 고구마 튀김, 코오슬로, 콘샐러드, 핫윙 등의 사이드 메뉴도 준비되어 있더라구요! 여기에 세 가지 종류의 플로트와 각종 탄산음료, 맥주도 있어서 햄맥 하기도 넘 좋을 것 같았어요:) 주문하고 기다리는 시간! 저희는 아주 야무지게 주문했답니다! 최근에 수제버거를 자주 먹다 보니까 이제 프랜차이즈 햄버거는 못 먹겠더라구요 ㅎㅎ CASTANETS는 또 얼마나 맛있을까 너무 기대됐어요!!!  파파야 새우버거 10.9\\n하모니 베이컨 치즈버거 10.9\\n콘샐러드 4.5\\n고구마 튀김 6.9\\n플로트 / 블루베리 6.5\\n제로콜라 3.5 Scandinavian moss\\nReindeer moss / 스탄디나비안 모스 : 순록 이끼라고도 하고 물을 주지 않아도 공중 습도로 반영구적으로 형태를 유지하는 preserved moss를 뒷 배경으로 사진 촬영해 봤는데 너무 멋지죠? 근데 햄버거가 돌아가 있네요ㅠㅠ 어쨌든 캐스터네츠 강남은 매장이 너무 예쁘더라구요!  파파야 새우버거 10,900원\\nPAPAYA SHRIMP BURGER \\n먼저 소개해 드릴 수제버거는 파파야 새우버거인데요, 두툼하고 큼직한 패티가 들어가 있는 게 너무 먹음직스럽더라구요! 주문 후, 바로 준비해 주시는 건데도 오래 걸리지 않았고 금방 나와서 더 좋았어요:) 번 안에  통새우 패티가 들어가 있었는데요, 엄청 두툼하더라구요! 캐스터네츠 베스트1 메뉴라고 해서 주문해 봤는데 역시나 주문하길 잘한 것 같아요!! 메뉴판에 나와 있는 사진과 싱크로율 100% 너무 맛있어 보였어요:) 매장명이 왜 캐스터네츠 CASTANETS일까 궁금했는데 이렇게 수제버거를 보니 꼭 입 벌리고 있는 캐스터네츠 같지 않나용? ㅎㅎ  하모니 베이컨 치즈버거 10,900원\\nHARMONY BACON CHEESE BURGER\\n다음은 하모니 베이컨 치즈버거에요! 치킨 꽈리버거와 많이 고민했는데 치즈 버거는 꼭 먹어봐야 할 것 같아서요!! 근데 이것도 너무 맛있어 보이잖아요!!! 저 베이컨 너무 좋아하는데 언뜻 봐도 베이컨이 가득 들어있더라구요!!  번 위에 통깨가 가득!!! BURGER HARMONY CASTANETS 라고 되어 있는 걸 봐서 하모니 버거도 시그니처 메뉴 중 하나인 것 같더라구요! 패스트푸드 햄버거에서 보지 못했던 비주얼이라서 정말 맛이 궁금해졌어요!!  콘샐러드 4,500원\\nCORN SALAD\\n사이드 메뉴 중에 어떤 걸로 주문할까 고민하다가 제가 너무 좋아하는 콘 샐러드 하나 주문했어요! 일반적인 콘 샐러드와 달리 옥수수, 파프리카, 그리고 잘게 부순 나초칩이 들어가 있더라구요! 양도 무지 많아서 둘이서 나눠 먹기에 딱 좋았어요:) 고구마 튀김 6,900원\\nSWEET POTATO FRIED\\n제가 수제버거 포스팅하면서 계속 생각했던 게 왜 감자튀김만 있고 고구마튀김은 없을까 항상 궁금했거든요! 근데 이렇게 뙇!!! 고구마튀김이 메뉴에 있더라구요! 저는 감자보다 고구마를 훨씬 더 좋아해서 묻지도 따지지도 않고 바로 주문했어요!  감자튀김처럼 얇은 느낌의 튀김이 아니라 고구마를 큼직하게 썰어서 튀겼더라구요! 양도 엄청 푸짐하게 많았고 그 위에 고구마를 얇게  슬라이스 한 튀김도 올라가 있었는데 너무 맛있어 보이더라구요!  플로트 / 블루베리 6,500원\\nFLOAT\\n요건 아이스크림 플로트에요! 미국에서 만든 음료라고 하는데 탄산음료에 아이스크림을 올려 만든 거래요! '아이스크림소다'라고 부르기도 한다는데 블루베리 / 레드베리 / 애플민트 세 가지 맛 중에서 저는 블루베리로 주문했어요!  신나는 느낌의 힙한 수제버거 맛집 CASTANETS 메뉴 동영상으로 촬영해 봤어요! 음악도 좋고 분위기도 좋고 무엇보다 주문한 메뉴가 하나같이 다 맛있어 보였어요!  먼저 파파야 새우버거 먹어볼게요! 역삼 맛집 캐스터네츠의 좋았던 점은 이렇게 접시 위에 올려 주셔서 편하게 잘라먹을 수 있단 점이었어요! 수제버거는 들고 먹기는 하지만 재료가 풍성하게 들어가 있어서 먹는데 조금 불편하잖아요! 근데 이렇게 반으로 잘라서 나눠 먹을 수도 있어서 넘 좋더라구요!  파파야 새우버거 단면 보여드릴게요! 얇은 번 안에 엄청 두툼한 새우 패티와 야채, 그리고 당근이 듬뿍 들어가 있더라구요! 여기에 고수도 정말 풍성하게 들어가 있었는데 ㅎㅎ 저희 남편은 아직 고수를 못 먹어봐서 이번에 처음 먹어보는 거였거든요! 근데 저처럼 비누 맛은 안 느껴진다고 하더라구요! 혹시나 여기서 사용하시는 고수는 다른 걸까? 싶어서 집어 먹어봤다가ㅠㅠ 역시 고수는 고수더라구요>_<  다음은 하모니 베이컨 치즈 버거에요! 살짝 메롱하고 있는 것 같은 ㅎㅎ 그만큼 정말 베이컨이 가득 들어가 있더라구요! 여기에 치즈 버거답게 치즈도 듬뿍 들어가 있었구요, 양파와 피클, 토마토까지 풍성하게 들어가 있더라구요!  하모니 베이컨 치즈 버거 단면도 보여드릴게요! 두툼한 소고기 패티에서 육즙이 줄줄 흘러나오는 게 진짜 너무 맛있더라구요! 여기에 치즈의 고소한 맛과 잘 어우러지고 양파와 피클 등 야채 덕분에 너무 조화롭고 맛있었어요bb  수제버거 먹으면서 중간중간 먹는 콘 샐러드 역시 너무 맛있더라구요! 옥수수가 톡톡 터지면서 파프리카의 아삭한 식감과 프레시함도 너무 좋았어요! 여기에 나초칩이 들어가 있는 게 정말 신의 한 수더라구요! 너무 바삭하고 맛있었어요!!  플로트는 역시 블루레몬이죠!! 쨍한 색감이 너무 예쁘지 않나요? 요즘 날씨가 정말 많이 풀렸는데 금방 여름이 오면 좋겠어요!! 암튼 첨에 블루레몬 먼저 먹다가 나중에 아이스크림과 섞어서 먹음 넘 맛있더라구요! 캐스터네츠 방문하시면 플로트 꼭 드셔보세요:) 그리고 왕 고구마튀김이에요 ㅎㅎ 완전 큰손인 우리 엄마 스타일 ㅎㅎ 그냥 먹어도 바삭하고 달콤한 게 너무 맛있었지만 함께 나온 소스에 콕 찍어 먹어도 완전 맛있더라구요! 고소하면서 살짝 매콤한 맛이 좋았어요! 보시면 아시겠지만 패티에 새우가 통으로 뙇 들어가서 정말 오동통한 생우 식감이 그대로 느껴지더라구요! 일반적인 프랜차이즈 새우버거와는 완전히 달랐어요! 새우버거는 무조건 드셔보시길 바라요! 그리고 저 원래 당근 별로 안 좋아하는데 여기 들어있는 당근은 달짝찌근한 게 완전 맛있었어요:) 치즈 버거도 진짜 맛있었어요! 짭짤한 치즈와 베이컨, 여기에 육즙 가득한 패티까지 함께 어우러지면서 넘 맛있더라구요! 중간에 들어있는 아삭한 피클은 느끼함도 싹 잡아주니까 최고!!  얇은 고구마튀김도 진짜 맛있었어요! 요고 아시죠? 먹다 보면 계속 먹게 되는 마성의 맛! 저 결혼 전 다이어트할 때 이거 못 끊어서 한참 고생했거든요 ㅎㅎ 오랜만에 먹으니까 더 맛있더라구요!  남편과 저는 수제버거 정말 좋아하는데요,  둘 다 먹고 너무 만족했던 곳이에요! 매장도 너무 예뻤고 직원분들도 다 친절하셔서 기억에 남았는데요, 통통한 새우의 식감이 그대로 살아 있었던 새우버거와 짭짤한 베이컨과 육즙 풍부한 소고기 패티의 조화가 맛있었던 하모니 베이컨 치즈 버거까지! 역삼 맛집 찾으신다면 수제버거가 맛있었던 캐스터네츠 추천해 드릴게요:)\\n본 포스팅은 (주) 오픈에서 식사권을 제공받아 솔직하게 작성했습니다. \"},\n",
       " 7: {'title': '[역삼동] 모도우 - 프라이빗하니 모임하기 좋은 역삼 맛집',\n",
       "  'nickname': '꼬리스마\\n(hjy800911)',\n",
       "  'datetime': '2022. 3. 24. 22:51',\n",
       "  'content': '강남N타워에 위치한 모도우 방문기. 이날은 디너 B코스로~ 시작으로 가볍게 먹기 좋은 부각과 약식 그리고 곶감 치즈. 우리의 맛과 비주얼을 모두 잘 살린 메뉴라고 볼 수 있겠다. 반가움의 건배로 시작.\\n원래 셋이 모이기로 했으나 한 놈이 갑자기 두 줄이 뜨는 바람에 ㅜㅜ 조촐하게 둘이서 만났던 날 ㅎㅎ 식감과 산뜻한 소스의 느낌이 좋아서 직원분께 다시 한번 물어봤음에도 기억이 안 나는 새우와 관자로 이루어진 전체. 플레이팅이나 맛 모두 만족스러웠던 역삼 맛집의 디시. 각자 가져온 와인을 블라인드 테이스팅~ ㅎㅎ\\n역삼 맛집 모도우는 와인 모임을 하기에도 아주 최적화된 장소라고 볼 수 있는데, 모든 좌석이 프라이빗 한 룸으로 되어있는데다가 콜키지프리이니 이보다 좋을 순 없지~ 다만 제공되는 와인잔은 평범하니 어느 정도 이상급의 와인을 마신다면 와인잔도 지참하는 것을 추천~ 다음으로는 호박수프, 새우전, 안심카츠산도, 떡모찌가 솔방울 위에 플레이팅되어 나온다. 호박 수프를 시작으로 시계방향의 순서로 먹으면 된다. 못 맞추게 하겠다고 단디 준비해 온 와인들에 맞지도 않는 품종과 느낌을 서로 외쳐대다가... 드디어 오픈.\\n와인 포스팅은 별도로 하겠지만 바롤로(또는 레스코)나 피노라고 확신했던 와인이 꼬르나스(시라)라니.... 물론 내가 가져간 이태리 메를로도 친구 녀석은 비디엠이라고 찍었던가? ㅋㅋㅋ 이윽고 서브된 농어구이. 무 조림을 좀 더 푹 익히고, 껍질을 좀 더 바삭하게 구워냈으면 좋았을 턴데.. 이날 유일하게 아쉬웠던 디시. 비장탄에 레어로 구워내 서브되는 한우와 야채. 테이블 위의 무쇠판에 원하는 굽기에 따라 조금 더 조리하여 먹으면 된다. 한우로 시작하여 다양한 체인을 운영하는 곳이니 만큼 고기의 퀄리티에는 이견이 없는 역삼 맛집 모도우. 곧이어 한우 미역국과 쌀밥, 찬이 준비된다. 아래는 와인이 남아 추가 주문한 성게알 오징어 냉채와 한우육회. 마무리로는 입을 깔끔하게 씻어주는 샤인 머스캣 딸기 얼음 빙수로~~ 만족스러웠던 식사와 와인이 있었던 밤이었다.\\n02-6250-0900\\n매일 11:00 - 22:00 브레이크타임 / 15:00 - 17:00  본 포스팅은 모도우 강남N점에서 식사권을 제공받아 솔직하게 작성한 글입니다'},\n",
       " 8: {'title': '역삼 맛집 타코벨신메뉴 멕시칸 브레드 타코 먹어봐요!',\n",
       "  'nickname': '루시아',\n",
       "  'datetime': '2022. 5. 5. 9:00',\n",
       "  'content': \"평소 멕시칸 음식이 땡길때 즐겨 찾는 타코벨!\\n주변에 더 많아졌으면 좋겠단 생각이 들 정도로\\n제가 애정하는 최애 타코맛집 중 하나인데요.\\n최근 타코벨에서 맛있게 매콤한 신메뉴가 \\n새로 출시되었다는 소문을 듣고 누구보다\\n빠르게 신메뉴를 맛보러 타코벨로 향했습니다.\\n이번 신메뉴는 매콤해서 입맛을 확 돋우면서\\n스트레스를 쫙 풀어주더라구요~!!!\\n지금부터 솔직한 시식 후기 시작합니다♥ 저는 역삼 맛집 타코벨 역삼점으로 방문했답니다.\\n역삼역 3번 출구와 가까운 거리에 위치해 있어요. 타코벨은 전 세계 30개 국가에서 7,000여 개의\\n매장을 운영하고 있어 국내에서도 매장을 \\n쉽게 만나볼 수 있는 브랜드이기도 한데요. \\n매년 전 세계 타코벨에서는 연간 20억 개의 \\n타코가 판매 중이라고 하더라구요 ㅎㅎㅎ\\n그만큼 많은 분들에게 꾸준한 사랑을 받고 있어요. 타코벨에서는 신메뉴 출시 기념으로 \\n기간 한정 무료제공 프로모션을 진행 중입니다.\\n타코벨 카플친에서 쿠폰을 다운로드한 후,\\n'소프트 맵시칸 브레드 타코 단품' 혹은\\n'크런치 맵시칸 브레드 타코 단품' 구매 시,\\n3,800원에 상당하는 초코디아와 아메리카노\\n(HOT or ICE)를 무료로 제공해 준다고 해요!\\n프로모션 기간은 ~5월 15일까지라고 하니 \\n이 좋은 혜택 놓치지 말고 꼭 누리시길 바랄게요! 단순히 배너광고만 봤을 때는 \\n 뭔가 엄청 매울 것 같은 느낌인데\\n맵시칸 브레드 타코의 경우 맵찔이도 \\n딱 맛있게 즐길 수 있는 적당한 맵기를\\n 가졌으니 너무 걱정하지 않으셔도 됩니다 :) 피크타임에 방문했더니 많은 사람들로 붐볐어요.\\n타코벨이 간단한 점심으로 먹기 딱 좋긴 하죠?\\n부담없는 캐주얼한 분위기에 혼밥도 거뜬한 곳! 1962년 탄생한 미국 최대 멕시칸 패스트푸드\\n브랜드 타코벨은 타코, 크런치랩, 브리또,\\n퀘사디아, 브리또보울, 치즈나쵸 등 \\n차별화된 캐주얼한 멕시칸 푸드를 판매중입니다.\\n다양한 메뉴가 있으니 선택의 폭이 넓어 좋네요! 모든 것이 셀프방식으로 이루어져 있고\\n매장 안 키오스크에서 주문하시면 됩니다. 맵시칸 브레드 타코는 세트메뉴로\\n소프트와 크런치 쉘을 모두 맛볼 수 있어요.\\n다양한 구성으로 더욱 푸짐하게 즐겨보자구요!\\n저는 고민할 필요없이 무조건 세트로 가자며\\n맵시칸 브레드 타코 세트 2종과 \\n오리지널 브레드 타코 단품 2종을 추가 주문했어요. 음료도 원하는 걸로 원하는 만큼\\n마실 수 있다는 게 타코벨의 장점이죠😎 이것이 바로 5월의 타코벨신메뉴! \\n맵시칸 브레드 타코입니다.\\n바삭바삭한 크런치 타입과 \\n쫀득하고 부드러운 소프트 타입 \\n2가지를 한 번에 즐길 수가 있었어요.  정말 푸짐하고 먹음직스러워 보이지 않나요?\\n맥시칸 정통 타코의 맛과 포만감 가득한\\n2가지 브레드 타코와 함께\\n매콤한 양념이 가미된 맵짠한 나초칩은 덤으로! 비주얼 완전 미쳤다라다라다다\\n혼자 먹어도 푸짐하고\\n여럿이서 다양하게 즐기기에도 최고♥ 오리지널 브레드 타코에 비해 \\n더욱 맛있게 매콤해졌어요ㅎㅎ\\n한국인이라면 누구나 좋아할 맵기로\\n중독적인 매운맛을 지녔답니다. 바삭한 나초집까지 함께하니 \\n더 입이 즐겁고 행복했답니다.\\n먹다보니 양이 꽤나 많더라구요ㅎㅎ 오리지널 브레드 타코는 21년 10월 1일\\n'브레드 타코'라는 이름으로 출시한 메뉴로\\n담백한 맛과 든든함이 큰 특징이에요 ㅎㅎ 신선한 재료를 사용해 만들어진\\n든든점심메뉴 맵시칸 브레드 타코!\\n이런 알찬 구성을 합리적인 가격에 \\n만날 수 있으니 무조건 만족합니다. 세트 양이 좀 많다 싶으면 얼마든지\\n단품으로도 부담없이 즐길 수 있어요! 내용물도 야무지게 들어가서 \\n하나만 먹어도 배가 금방 차올랐어요.\\n총 6개의 타코로 인당 2개씩 먹었는데\\n정말 든든하게 잘 먹은 느낌을 받았답니다. 소프트 쉘은 쫀득하고 부드러워 \\n먹기 편하면서 담백한 맛이었어요.\\n플랫브레드를 사용한 두툼한 식감이 굿~~! 크런치 쉘은 바삭한 식감으로\\n고소하게 맛있는 느낌이 들었어요.\\n개인적으로 크런치 쉘이 저의 취향이네요🥰 바삭하게 때론 부드럽게 즐기는\\n타코벨신메뉴 맵시칸 브레드 타코♥\\n새로운 메뉴 도전 대성공이네요~!\\n동료들과 든든하게 먹은 점심이었습니다. 아직 프로모션 기간 진행중이니 역삼맛집\\n 타코벨에 재방문해서 또 먹어야겠어요.\\n만족스런 포만감을 느끼고 싶다면 추천해요:) \"},\n",
       " 9: {'title': '역삼 맛집 강남 룸식당 모도우 디너',\n",
       "  'nickname': '이칭\\n(ccamjigi77)',\n",
       "  'datetime': '23시간 전',\n",
       "  'content': \"역삼 맛집을 찾는데\\n강남 룸식당을 찾는다면\\n전부 룸 형태로 되어 있어서\\n진짜 가기 좋은 곳\\n모도우 강남N점\\n#강남 회식, #강남한우맛집, #강남룸식당, #역삼맛집 오랫만에 아는 지인을 만나\\n맛난거 좋은거 먹자며 방문했음\\n역삼 맛집 강남 룸식당 모도우 디너\\n모도우는 빈틈없이 야무진 사람의 순우리말로 야무지체 차려낸 한우 다이닝이라는 뜻이라고 함\\n우리가 흔히 강남 한우 고기 맛집 하면 숯불에 고기 굽는것만 생각할 수 있는데\\n전통 음식을 보다.. 현대화 시켰다고 생각하면 될려나\\n강남이 회사들도 많고 외국 손님들과 강남 회식이거나\\n중요한 접대 자리로 괜찮을것 같고\\n그냥 팀회식해도 ! 우리팀 회식은 언제 하나요?\\nㅎㅎㅎㅎㅎ 런치메뉴도 별도로 있고요\\n조금 더 저렴함 일부 메뉴는 추가로 주문할 수 있어요 나는 역삼 맛집 강남 룸식당 모도우 디너 코스 중 B코스\\n한우 비장탄 숯불구이가 나오죠\\n고기집 같은데 ..왠 코스요리인가 싶죠? 맨 처음 나오는 음식은 맞이 음식으로\\n약식 , 찹쌀김부각, 곶감치즈\\n친절하신 직원분이 음식 설명부터 먹는 순서까지 알려주심 그리고 나온 아라새우관자\\n이건 정말 처음 보는 음식이었음 새우와 관자, 식초소스가 어우러진 한입요리로\\n입맛을 돋아주는 음식이라고 해야 할까요\\n수저를 이용해서 새콤달콤 소스와 함께 먹는 음식\\n푸딩 같은 느낌이기도 한데\\n관자와 새우가 있어서 씹는 맛도 있음 역삼 맛집 강남 룸식당 모도우 디너\\n네품요리 4가지 요리를 팔각 트레이에 올려 나오는 음식\\n일단 한식스러운 느낌\\n전통적인 느낌에 .. 아기자기한 음식들 단호박스프부터 시계방향으로 새우전, 안심샌드, 모찌리도후 이렇게 먹으면 되고요 달지않으면서 너무너무 연한.. 어떻게 표현해야 할까요\\n정말 곱게 갈아진 단호박스프라고 해야 하나\\n단호박 싫어하는데 역삼 맛집 강남 룸식당 모도우 디너 단호박은 한그릇 뚝딱 통통한 새우전과 ( 새우 튀김이랑 달라요) 새우 식감이 살아 있어요\\n한우로 만든 샌드위치도 홀그레인 머스타드 소스와 잘 어울리고\\n쫄깃한 모찌리도후도 정말 맛나요 사계절요리로는 보리에 숙성시킨 농어구이와 무조림\\n바질소스 리조또 같이 나옴\\n이날 먹은 코스 요리 중에\\n고기를 빼면 ( 한우는 무조건 최고니까!)\\n단호박스프와 농어구이가 제일 맛났음\\n내 주관적인 입맛에 ㅎㅎ 무조림과 바질소스 리조또를 한꺼번에 먹어야 맛있다고 설명해주셔서 이렇게 수저에 담아서 먹어봅니다 아주아주 부드러운 농어구이와 간이 되어진 무조림\\n그리고 쫄깃식감 리조또\\n이거만 단독 메뉴로 팔면\\n더더 먹고 싶어지는 맛\\n슬슬 배가 차오고 있습니다 그렇지만 정말 정말 메인 요리는 아직 안나왔죠!\\n기본 반찬들이 세팅이 되고 역삼 맛집 강남 룸식당 모도우 디너의 메인요리\\n비장탄 숯불구이.. 비장탄에 초벌구이가 되서 나온다고 생각하면 되요\\n겉은 익히고 불맛 가득한 상태로 나오는 숯불구이\\n한우고기집에서 숯불에 고기 구워 먹을라면\\n연기나고 난리가 나잖아요\\n여긴 미리 초벌구이가 되서\\n불맛은 불맛대로 그대로 느낄수 있으면서\\n쉽고 간편하게 먹을 수 있는게 장점 테이블에 있는 불판에 불을 올리고 역삼 맛집 강남 룸식당 모도우 디너 숯불구이 먹을 준비 레어를 좋아하면 이대로 먹어도 되고요\\n저는 조금 더 익힌게 맛있기에..ㅎㅎ 익혀 먹었지요 밥도 같이 달라고 해서 나온 미역국, 쌀밥 먹을 준비 끝 고기를 원하는 정도로 치칙 익힌 후에\\n맛있게 먹으면 됩니다\\n고기가 ..진짜 고기가 너무 맛있어요 >ㅁ< 고기는 씨겨자에 찍어 먹어도 되고\\n곁들여 나온 야채와 같이 먹어도 되고\\n밥이랑 먹어도 되고\\n원하는 대로~\\n각자 스타일대로 먹으면 됩니다 고기만도 먹어보고 파채랑도 냠냠\\n어떻게 먹어도 맛있는 한우숯불구이\\n여기 정말 강남 한우 고기 맛집 맞아요 마지막 디저는 청포도 감귤 얼음빙수\\n얼음에 청도포가 씹혀요\\n마지막까지 깔끔하게 마무리 역삼 맛집 강남 룸식당 모도우 디너 📞 02-6250-0900\\n콜키지 프리매장\\n모든 좌석이 프라이빗룸으로 되어 있어 직장인 회식이나 미팅, 접대장소로 추천\\n코로나 시국에 안성맞춤으로 모든 좌석이 룸으로 되어 있어 편안한 식사가 가능함\\n'본 포스팅은 모도우 강남N점에서 식사권을 제공받아 솔직하게 작성한 글입니다' \"}}"
      ]
     },
     "execution_count": 82,
     "metadata": {},
     "output_type": "execute_result"
    }
   ],
   "source": [
    "dict"
   ]
  },
  {
   "cell_type": "code",
   "execution_count": 83,
   "metadata": {
    "id": "MP_grQXm-kvv",
    "outputId": "94e65bb2-0e12-48ea-be55-fb1731c3ac1f"
   },
   "outputs": [
    {
     "data": {
      "text/html": [
       "<div>\n",
       "<style scoped>\n",
       "    .dataframe tbody tr th:only-of-type {\n",
       "        vertical-align: middle;\n",
       "    }\n",
       "\n",
       "    .dataframe tbody tr th {\n",
       "        vertical-align: top;\n",
       "    }\n",
       "\n",
       "    .dataframe thead th {\n",
       "        text-align: right;\n",
       "    }\n",
       "</style>\n",
       "<table border=\"1\" class=\"dataframe\">\n",
       "  <thead>\n",
       "    <tr style=\"text-align: right;\">\n",
       "      <th></th>\n",
       "      <th>title</th>\n",
       "      <th>nickname</th>\n",
       "      <th>datetime</th>\n",
       "      <th>content</th>\n",
       "    </tr>\n",
       "  </thead>\n",
       "  <tbody>\n",
       "    <tr>\n",
       "      <th>0</th>\n",
       "      <td>강남 역삼 맛집 나이티지 장작구이 치킨에 반한 곳</td>\n",
       "      <td>두덩두덩</td>\n",
       "      <td>2022. 4. 19. 9:00</td>\n",
       "      <td>안녕하세요! 두덩입니다~\\n오늘은 강남 역삼 맛집을 소개하려고 합니다.\\n분위기며 ...</td>\n",
       "    </tr>\n",
       "    <tr>\n",
       "      <th>1</th>\n",
       "      <td>[역삼] 모도우 강남N점 : 역삼 맛집 프라이빗 룸식당에서 한우 코스 즐기기</td>\n",
       "      <td>뿌요\\n(lovelove_pyo)</td>\n",
       "      <td>2022. 3. 11. 20:36</td>\n",
       "      <td>모도우 강남N점 오랜만에 미니님 보기로 한 날,\\n강남쪽에서 보기로 하고 뭐 먹을까...</td>\n",
       "    </tr>\n",
       "    <tr>\n",
       "      <th>2</th>\n",
       "      <td>역삼맛집 + 수제버거 캐스터네츠 메뉴 꿀팁 강남N타워</td>\n",
       "      <td>아가다</td>\n",
       "      <td>2022. 2. 27. 21:26</td>\n",
       "      <td>안녕하세요. 맛집블로거 아가다입니다. 집콕하며 그리운 첫번째음식. 지난 사진첩 뒤져...</td>\n",
       "    </tr>\n",
       "    <tr>\n",
       "      <th>3</th>\n",
       "      <td>[역삼역 맛집] 캐스터네츠 강남N점 - 강남 수제버거 맛집</td>\n",
       "      <td>야세\\n(yase90)</td>\n",
       "      <td>2022. 4. 1. 8:58</td>\n",
       "      <td>퇴근 후 친구와 만나 간단하게 저녁을 먹고 들어가기로 하였다. 이 날 비가온다고 하...</td>\n",
       "    </tr>\n",
       "    <tr>\n",
       "      <th>4</th>\n",
       "      <td>역삼역 맛집 [더뭉티기] 불금에 안성맞춤</td>\n",
       "      <td>생닭\\n(kooltz1018)</td>\n",
       "      <td>2022. 5. 22. 23:26</td>\n",
       "      <td>최근에 대구에 사는 지인들과 자주 카톡을 하다 보니\\n단톡방에선 수시로 뭉티기와 막...</td>\n",
       "    </tr>\n",
       "    <tr>\n",
       "      <th>5</th>\n",
       "      <td>[역삼역맛집]이영자 전참시 맛집 차돌삼합진대감역삼점 솔직후기</td>\n",
       "      <td>Sisterhood</td>\n",
       "      <td>2022. 3. 11. 21:00</td>\n",
       "      <td>ㅋ ㅑ~~~~악 드뎌 왔어요 ㅋㅋㅋㅋ\\n진작에 한번 와보고 싶었는데 계속 못오다가 ...</td>\n",
       "    </tr>\n",
       "    <tr>\n",
       "      <th>6</th>\n",
       "      <td>역삼 맛집 수제버거가 맛있었던 캐스터네츠 CASTANETS</td>\n",
       "      <td>다크윤</td>\n",
       "      <td>2022. 3. 21. 8:00</td>\n",
       "      <td>수제버거가 맛있었던 캐스터네츠 역\\n삼 수제버거 맛집에 다녀왔어요. 완전 믿을 만한...</td>\n",
       "    </tr>\n",
       "    <tr>\n",
       "      <th>7</th>\n",
       "      <td>[역삼동] 모도우 - 프라이빗하니 모임하기 좋은 역삼 맛집</td>\n",
       "      <td>꼬리스마\\n(hjy800911)</td>\n",
       "      <td>2022. 3. 24. 22:51</td>\n",
       "      <td>강남N타워에 위치한 모도우 방문기. 이날은 디너 B코스로~ 시작으로 가볍게 먹기 좋...</td>\n",
       "    </tr>\n",
       "    <tr>\n",
       "      <th>8</th>\n",
       "      <td>역삼 맛집 타코벨신메뉴 멕시칸 브레드 타코 먹어봐요!</td>\n",
       "      <td>루시아</td>\n",
       "      <td>2022. 5. 5. 9:00</td>\n",
       "      <td>평소 멕시칸 음식이 땡길때 즐겨 찾는 타코벨!\\n주변에 더 많아졌으면 좋겠단 생각이...</td>\n",
       "    </tr>\n",
       "    <tr>\n",
       "      <th>9</th>\n",
       "      <td>역삼 맛집 강남 룸식당 모도우 디너</td>\n",
       "      <td>이칭\\n(ccamjigi77)</td>\n",
       "      <td>23시간 전</td>\n",
       "      <td>역삼 맛집을 찾는데\\n강남 룸식당을 찾는다면\\n전부 룸 형태로 되어 있어서\\n진짜 ...</td>\n",
       "    </tr>\n",
       "  </tbody>\n",
       "</table>\n",
       "</div>"
      ],
      "text/plain": [
       "                                        title            nickname  \\\n",
       "0                 강남 역삼 맛집 나이티지 장작구이 치킨에 반한 곳                두덩두덩   \n",
       "1  [역삼] 모도우 강남N점 : 역삼 맛집 프라이빗 룸식당에서 한우 코스 즐기기  뿌요\\n(lovelove_pyo)   \n",
       "2               역삼맛집 + 수제버거 캐스터네츠 메뉴 꿀팁 강남N타워                 아가다   \n",
       "3            [역삼역 맛집] 캐스터네츠 강남N점 - 강남 수제버거 맛집        야세\\n(yase90)   \n",
       "4                      역삼역 맛집 [더뭉티기] 불금에 안성맞춤    생닭\\n(kooltz1018)   \n",
       "5           [역삼역맛집]이영자 전참시 맛집 차돌삼합진대감역삼점 솔직후기          Sisterhood   \n",
       "6            역삼 맛집 수제버거가 맛있었던 캐스터네츠 CASTANETS                 다크윤   \n",
       "7            [역삼동] 모도우 - 프라이빗하니 모임하기 좋은 역삼 맛집   꼬리스마\\n(hjy800911)   \n",
       "8               역삼 맛집 타코벨신메뉴 멕시칸 브레드 타코 먹어봐요!                 루시아   \n",
       "9                         역삼 맛집 강남 룸식당 모도우 디너    이칭\\n(ccamjigi77)   \n",
       "\n",
       "             datetime                                            content  \n",
       "0   2022. 4. 19. 9:00  안녕하세요! 두덩입니다~\\n오늘은 강남 역삼 맛집을 소개하려고 합니다.\\n분위기며 ...  \n",
       "1  2022. 3. 11. 20:36  모도우 강남N점 오랜만에 미니님 보기로 한 날,\\n강남쪽에서 보기로 하고 뭐 먹을까...  \n",
       "2  2022. 2. 27. 21:26  안녕하세요. 맛집블로거 아가다입니다. 집콕하며 그리운 첫번째음식. 지난 사진첩 뒤져...  \n",
       "3    2022. 4. 1. 8:58  퇴근 후 친구와 만나 간단하게 저녁을 먹고 들어가기로 하였다. 이 날 비가온다고 하...  \n",
       "4  2022. 5. 22. 23:26  최근에 대구에 사는 지인들과 자주 카톡을 하다 보니\\n단톡방에선 수시로 뭉티기와 막...  \n",
       "5  2022. 3. 11. 21:00  ㅋ ㅑ~~~~악 드뎌 왔어요 ㅋㅋㅋㅋ\\n진작에 한번 와보고 싶었는데 계속 못오다가 ...  \n",
       "6   2022. 3. 21. 8:00  수제버거가 맛있었던 캐스터네츠 역\\n삼 수제버거 맛집에 다녀왔어요. 완전 믿을 만한...  \n",
       "7  2022. 3. 24. 22:51  강남N타워에 위치한 모도우 방문기. 이날은 디너 B코스로~ 시작으로 가볍게 먹기 좋...  \n",
       "8    2022. 5. 5. 9:00  평소 멕시칸 음식이 땡길때 즐겨 찾는 타코벨!\\n주변에 더 많아졌으면 좋겠단 생각이...  \n",
       "9              23시간 전  역삼 맛집을 찾는데\\n강남 룸식당을 찾는다면\\n전부 룸 형태로 되어 있어서\\n진짜 ...  "
      ]
     },
     "execution_count": 83,
     "metadata": {},
     "output_type": "execute_result"
    }
   ],
   "source": [
    "# 판다스로 만들기\n",
    "import pandas as pd\n",
    "result_df = pd.DataFrame.from_dict(dict, orient='index')\n",
    "result_df"
   ]
  },
  {
   "cell_type": "code",
   "execution_count": 84,
   "metadata": {
    "id": "rxYCIxaE-kvv",
    "scrolled": true
   },
   "outputs": [],
   "source": [
    "# 엑셀로 저장하기\n",
    "result_df.to_csv(\"blog_content.csv\", encoding='utf-8-sig')"
   ]
  },
  {
   "cell_type": "code",
   "execution_count": 85,
   "metadata": {
    "id": "8tlfMsDm-kvv",
    "outputId": "4fa392b3-ae52-4762-ba70-cbc58cc0d074"
   },
   "outputs": [
    {
     "data": {
      "text/plain": [
       "'C:\\\\Users\\\\user\\\\Desktop\\\\python_p\\\\220524'"
      ]
     },
     "execution_count": 85,
     "metadata": {},
     "output_type": "execute_result"
    }
   ],
   "source": [
    "pwd"
   ]
  }
 ],
 "metadata": {
  "colab": {
   "name": "네이버블로그(202105)_크롤러.ipynb",
   "provenance": []
  },
  "kernelspec": {
   "display_name": "Python 3 (ipykernel)",
   "language": "python",
   "name": "python3"
  },
  "language_info": {
   "codemirror_mode": {
    "name": "ipython",
    "version": 3
   },
   "file_extension": ".py",
   "mimetype": "text/x-python",
   "name": "python",
   "nbconvert_exporter": "python",
   "pygments_lexer": "ipython3",
   "version": "3.9.7"
  },
  "toc": {
   "base_numbering": 1,
   "nav_menu": {},
   "number_sections": false,
   "sideBar": true,
   "skip_h1_title": false,
   "title_cell": "Table of Contents",
   "title_sidebar": "Contents",
   "toc_cell": false,
   "toc_position": {},
   "toc_section_display": true,
   "toc_window_display": false
  },
  "varInspector": {
   "cols": {
    "lenName": 16,
    "lenType": 16,
    "lenVar": 40
   },
   "kernels_config": {
    "python": {
     "delete_cmd_postfix": "",
     "delete_cmd_prefix": "del ",
     "library": "var_list.py",
     "varRefreshCmd": "print(var_dic_list())"
    },
    "r": {
     "delete_cmd_postfix": ") ",
     "delete_cmd_prefix": "rm(",
     "library": "var_list.r",
     "varRefreshCmd": "cat(var_dic_list()) "
    }
   },
   "position": {
    "height": "600px",
    "left": "554.76px",
    "right": "20px",
    "top": "88px",
    "width": "424px"
   },
   "types_to_exclude": [
    "module",
    "function",
    "builtin_function_or_method",
    "instance",
    "_Feature"
   ],
   "window_display": false
  }
 },
 "nbformat": 4,
 "nbformat_minor": 1
}
