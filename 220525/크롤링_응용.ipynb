{
 "cells": [
  {
   "cell_type": "code",
   "execution_count": 1,
   "id": "cabfa549",
   "metadata": {},
   "outputs": [],
   "source": [
    "import pandas as pd\n",
    "from selenium import webdriver\n",
    "import chromedriver_autoinstaller\n",
    "import time\n",
    "import warnings\n",
    "warnings.filterwarnings('ignore')"
   ]
  },
  {
   "cell_type": "code",
   "execution_count": 2,
   "id": "f1bc6b0a",
   "metadata": {},
   "outputs": [],
   "source": [
    "import chromedriver_autoinstaller\n",
    "chrome_path = chromedriver_autoinstaller.install()\n",
    "driver = webdriver.Chrome(chrome_path)\n",
    "\n",
    "driver.get('https://www.youtube.com/')\n",
    "time.sleep(2)"
   ]
  },
  {
   "cell_type": "code",
   "execution_count": 3,
   "id": "f3611f17",
   "metadata": {},
   "outputs": [],
   "source": [
    "element = driver.find_element_by_name(\"search_query\")\n",
    "element.send_keys(\"헤이즈가후배들에게\")\n",
    "element.submit()\n",
    "time.sleep(2)"
   ]
  },
  {
   "cell_type": "code",
   "execution_count": 4,
   "id": "216c0042",
   "metadata": {},
   "outputs": [],
   "source": [
    "driver.find_element_by_xpath('//*[@id=\"video-title\"]/yt-formatted-string').click( )\n",
    "time.sleep(2)"
   ]
  },
  {
   "cell_type": "code",
   "execution_count": 5,
   "id": "0668c387",
   "metadata": {},
   "outputs": [],
   "source": [
    "driver.find_element_by_xpath('//*[@id=\"movie_player\"]/div[1]/video').click( )\n",
    "time.sleep(2)"
   ]
  },
  {
   "cell_type": "code",
   "execution_count": 6,
   "id": "5e908257",
   "metadata": {},
   "outputs": [],
   "source": [
    "last_height = driver.execute_script(\"return document.documentElement.scrollHeight\")\n",
    "while True:\n",
    "    driver.execute_script(\"window.scrollTo(0, document.documentElement.scrollHeight);\")\n",
    "    \n",
    "    time.sleep(2)\n",
    "    new_height = driver.execute_script(\"return document.documentElement.scrollHeight\")\n",
    "    if new_height == last_height:\n",
    "        break\n",
    "    last_height = new_height"
   ]
  },
  {
   "cell_type": "code",
   "execution_count": 7,
   "id": "21195a1c",
   "metadata": {},
   "outputs": [
    {
     "data": {
      "text/plain": [
       "<selenium.webdriver.remote.webelement.WebElement (session=\"7c4f940373bae5ea4c8d420b5608c474\", element=\"7cb95cdb-1ced-44ff-9b51-112a52b2800c\")>"
      ]
     },
     "execution_count": 7,
     "metadata": {},
     "output_type": "execute_result"
    }
   ],
   "source": [
    "#총댓글 갯수 찾기\n",
    "articles = \".count-text.style-scope.ytd-comments-header-renderer .style-scope.yt-formatted-string\"\n",
    "article_raw = driver.find_elements_by_css_selector(articles)\n",
    "article_raw[0]"
   ]
  },
  {
   "cell_type": "code",
   "execution_count": 8,
   "id": "095b9a4f",
   "metadata": {},
   "outputs": [
    {
     "data": {
      "text/plain": [
       "'55'"
      ]
     },
     "execution_count": 8,
     "metadata": {},
     "output_type": "execute_result"
    }
   ],
   "source": [
    "article_raw[1].text #댓글 갯수"
   ]
  },
  {
   "cell_type": "code",
   "execution_count": 9,
   "id": "449cba1d",
   "metadata": {},
   "outputs": [
    {
     "data": {
      "text/plain": [
       "<selenium.webdriver.remote.webelement.WebElement (session=\"7c4f940373bae5ea4c8d420b5608c474\", element=\"032fd229-9659-45a8-85be-e4508e9b32db\")>"
      ]
     },
     "execution_count": 9,
     "metadata": {},
     "output_type": "execute_result"
    }
   ],
   "source": [
    "#댓글 작성자 찾기\n",
    "articles = \".yt-simple-endpoint.style-scope.ytd-comment-renderer .style-scope.ytd-comment-renderer\"\n",
    "article_raw = driver.find_elements_by_css_selector(articles)\n",
    "article_raw[0]"
   ]
  },
  {
   "cell_type": "code",
   "execution_count": 10,
   "id": "d4294900",
   "metadata": {},
   "outputs": [
    {
     "data": {
      "text/plain": [
       "110"
      ]
     },
     "execution_count": 10,
     "metadata": {},
     "output_type": "execute_result"
    }
   ],
   "source": [
    "len(article_raw)"
   ]
  },
  {
   "cell_type": "code",
   "execution_count": 11,
   "id": "bff28756",
   "metadata": {},
   "outputs": [
    {
     "data": {
      "text/plain": [
       "'J H'"
      ]
     },
     "execution_count": 11,
     "metadata": {},
     "output_type": "execute_result"
    }
   ],
   "source": [
    "article_raw[1].text"
   ]
  },
  {
   "cell_type": "code",
   "execution_count": 12,
   "id": "b8ad8b8e",
   "metadata": {},
   "outputs": [],
   "source": [
    "name = []\n",
    "for i in range(len(article_raw)):\n",
    "    if i%2==1:\n",
    "        name.append(article_raw[i].text)"
   ]
  },
  {
   "cell_type": "code",
   "execution_count": 13,
   "id": "6d9a5c90",
   "metadata": {
    "scrolled": true
   },
   "outputs": [
    {
     "data": {
      "text/plain": [
       "['J H',\n",
       " '남김',\n",
       " '행복한 슈슈',\n",
       " '이유진',\n",
       " 'LechugaWith Lav',\n",
       " '임창민',\n",
       " '김민지',\n",
       " 'Moo Min',\n",
       " '모모썽이스틸러스',\n",
       " '김민지',\n",
       " '오리지널 전문가',\n",
       " '박지애',\n",
       " '두까',\n",
       " '밍밍',\n",
       " '송혜림',\n",
       " 'youmean',\n",
       " '손지은',\n",
       " 'James Ku',\n",
       " 'ㅇㅅㅇ',\n",
       " '떡지훈',\n",
       " '블랑',\n",
       " '김나영',\n",
       " 'm&m',\n",
       " '확',\n",
       " '7 1',\n",
       " '닥터사랑짱',\n",
       " '알파카',\n",
       " '서영 김',\n",
       " '피카츄떡',\n",
       " 'gfys',\n",
       " '민성',\n",
       " '정혜연',\n",
       " 'Merry Owner 메리오너',\n",
       " '에어',\n",
       " '양지쨘',\n",
       " 'MJ LIFE',\n",
       " 'An영주',\n",
       " 'Llllo Holl',\n",
       " '제이U',\n",
       " '으는',\n",
       " '안성혜',\n",
       " 'EO',\n",
       " '이정',\n",
       " '갓현준',\n",
       " '김은지',\n",
       " '한효빈',\n",
       " '등킨파일럿',\n",
       " 'a th',\n",
       " '김태형',\n",
       " '신정빈',\n",
       " '원기',\n",
       " 'DW Jeong',\n",
       " 'sb',\n",
       " 'H2SO4벌의 계백, 맞서싸운 관창',\n",
       " '피카츄떡']"
      ]
     },
     "execution_count": 13,
     "metadata": {},
     "output_type": "execute_result"
    }
   ],
   "source": [
    "name"
   ]
  },
  {
   "cell_type": "code",
   "execution_count": 14,
   "id": "3faf12b7",
   "metadata": {},
   "outputs": [
    {
     "data": {
      "text/plain": [
       "55"
      ]
     },
     "execution_count": 14,
     "metadata": {},
     "output_type": "execute_result"
    }
   ],
   "source": [
    "len(name)"
   ]
  },
  {
   "cell_type": "code",
   "execution_count": 15,
   "id": "0cf5afe5",
   "metadata": {},
   "outputs": [
    {
     "data": {
      "text/plain": [
       "<selenium.webdriver.remote.webelement.WebElement (session=\"7c4f940373bae5ea4c8d420b5608c474\", element=\"1b888b5d-cbe2-422c-ae74-71b79d165f01\")>"
      ]
     },
     "execution_count": 15,
     "metadata": {},
     "output_type": "execute_result"
    }
   ],
   "source": [
    "#댓글 작성 내용 찾기\n",
    "articles = \".style-scope.ytd-expander .style-scope.ytd-comment-renderer\"\n",
    "article_raw = driver.find_elements_by_css_selector(articles)\n",
    "article_raw[0]"
   ]
  },
  {
   "cell_type": "code",
   "execution_count": 16,
   "id": "fb4f100b",
   "metadata": {},
   "outputs": [
    {
     "data": {
      "text/plain": [
       "275"
      ]
     },
     "execution_count": 16,
     "metadata": {},
     "output_type": "execute_result"
    }
   ],
   "source": [
    "len(article_raw)"
   ]
  },
  {
   "cell_type": "code",
   "execution_count": 17,
   "id": "4b2d9a8d",
   "metadata": {},
   "outputs": [
    {
     "data": {
      "text/plain": [
       "'선배님...사랑해요... \\n저도 동문이라는 이유로 이렇게 마음이 몽글몽글해질 줄은 몰랏어요\\n언니가 학교에 대한 애정이 커 보여서 저도 그런 마음을 가지게 된거 같아요 \\n선배님처럼 저도 성공해서 부경대라는 학교를 웃으면서 추억하고 바라볼 수 날이 오길 바래봅니다 항상 응원해요'"
      ]
     },
     "execution_count": 17,
     "metadata": {},
     "output_type": "execute_result"
    }
   ],
   "source": [
    "article_raw[2].text"
   ]
  },
  {
   "cell_type": "code",
   "execution_count": 18,
   "id": "a1c3083f",
   "metadata": {},
   "outputs": [
    {
     "data": {
      "text/plain": [
       "'모교를 이렇게 아껴주는 사람이 또 있을까.. 너무 좋다 헤이즈'"
      ]
     },
     "execution_count": 18,
     "metadata": {},
     "output_type": "execute_result"
    }
   ],
   "source": [
    "article_raw[7].text"
   ]
  },
  {
   "cell_type": "code",
   "execution_count": 19,
   "id": "dcb5a03f",
   "metadata": {
    "scrolled": true
   },
   "outputs": [],
   "source": [
    "comment = []\n",
    "for i in range(len(article_raw)):\n",
    "    if i%5==0:\n",
    "        comment.append(article_raw[i+2].text)"
   ]
  },
  {
   "cell_type": "code",
   "execution_count": 20,
   "id": "47392b8c",
   "metadata": {
    "scrolled": true
   },
   "outputs": [
    {
     "data": {
      "text/plain": [
       "['선배님...사랑해요... \\n저도 동문이라는 이유로 이렇게 마음이 몽글몽글해질 줄은 몰랏어요\\n언니가 학교에 대한 애정이 커 보여서 저도 그런 마음을 가지게 된거 같아요 \\n선배님처럼 저도 성공해서 부경대라는 학교를 웃으면서 추억하고 바라볼 수 날이 오길 바래봅니다 항상 응원해요',\n",
       " '모교를 이렇게 아껴주는 사람이 또 있을까.. 너무 좋다 헤이즈',\n",
       " '우왁ㅠㅠㅠ 선배님 감동,,, 영상보고 감동받아서 눈물 좔좔입니다ㅠㅜ 선배님의 사랑을 이렇게 또 느껴요오️  \\n2022.05.18 수요일 정말 잊지 못할 추억 만들어주셔서 감사하고 제가 늘 응원할게요٩(ˊᗜˋ*)و  \\n부경대의 자랑 다혜 선배님께 부경대의 자랑이 되고싶은 18학번 후배 올림',\n",
       " '헤이즈 언니 응원 영상 올려주셔서 감사해요 덕분에 학교가 정말 유명해지고 빛나는거같고 매번 공연 올때마다 넘 멋있는거같아요!!',\n",
       " 'Nose lo que dice pero amo verla y oírla ',\n",
       " '이러니 헤이즈를 안 사랑할수가 있냐고...',\n",
       " '언니 이러기있어??ㅠㅠ 진짜 감동이야너무 즐거웠고 후배 사랑하는 마음 진짜 고마워요️️다시 꼭 만나요!!',\n",
       " '아직도 그때 공연장의 맘이 느껴져요ㅠㅠ 이 기억으로 열심히 살아갈게요! 우리 또 그 언젠가에 만나요!',\n",
       " '대연동 체고존엄 아웃풋!\\n69학번 아버지/01학번 아들이 함께 응원합니다!\\n(8호관 과제도서실이랑 돌집만 다닌 1인인데...)',\n",
       " '너무 좋았습니다ㅠㅠ 헤이즈언니 사랑해요 항상응원합니다',\n",
       " '버선발로 달려왔늠다\\n저는 덕질에 비우호적이었는데 축제 전 인스타부터 무대 그리고 또 인스타까지 전부 기대를 하고 또 아껴주시는 마음 받아서 인생 첫 연예인 팬질을 해봤습니다 단지 동문이라는 작은 연결고리로부터 시작됐네요 영상에서 말씀하신 선배라는 이유 조금이나마 이해가 되어요 ',\n",
       " '선배님 사랑합니다.. 진짜 너무 감사해요 원래도 팬이었만 더 팬 될 것 같아요 열심히 살게요 \\nㅜㅜ 저도 구도 1열람실 제일 좋아했었는데 ... ㅎㅎ 복학하고 나니까 새로운 건물이 생겼드라구요! 히히히 감사해요 너무 즐거웠어요 수요일날 진짜루 ️',\n",
       " '진짜 만날수있어서 너무너무 영광이였습니다 ㅜㅜ',\n",
       " '부경대 선배님 최고에요 ️',\n",
       " '헤이즈 예쁘다',\n",
       " '미쳤다ㅜㅜㅜㅜㅜㅜㅜ언니 너무 예뻐요…..',\n",
       " '진짜 사랑해요 다혜 언니...️',\n",
       " '헤이즈 만세',\n",
       " '헤이즈 언니이자 선배.. 고마워요 ️️',\n",
       " '부럽다..부경대ㅠㅠ',\n",
       " '선배님 보려구 한참을 기다려서 앞줄에서 봤어요 담에도 와줘요 사랑해요♡!!',\n",
       " '경영의 꽃 헤이즈선배님 ,,, 사랑합니댜 ',\n",
       " '진짜 언니 사랑해요\\n도대체 지금 몇일째 우리랑 같이 하는 거에요ㅠㅠㅠ 진짜 미친 의리 사랑..',\n",
       " '아니,, 선배님,, 뭐냐구,,ㅜㅜ 나 이런 사랑 첨 받아봐\\n저두 더더 사랑해줄게여',\n",
       " '사랑해 헤이즈',\n",
       " '우와ㅎ\\n부경대나오셨네요\\n팬입니다.',\n",
       " '현 고3인데 내년에 꼭 부경대에 들어가서 후배가 되고 싶어요ㅠㅡㅠ',\n",
       " '청운관 1열람실 올 출석 간다,,, 넘 머싯어 사랑해요',\n",
       " '0:08 몇가지 질문 드려도?\\n0:13 부경대에서 공연하는 느낌?\\n0:47 경영학도 다혜의 추억\\n1:32 웃는 다혜',\n",
       " '️️',\n",
       " '내년에도 꼭 와요 ㅠㅠ 우리 슨배님 ㅠㅠ',\n",
       " '넘 예뿌..',\n",
       " '',\n",
       " '부경대 최고 아웃풋 헤이즈',\n",
       " '사랑합니다',\n",
       " '다혜 선배님은 사랑입니다.',\n",
       " '울언니 내가 완전 애정해 내가 후배인게 자랑스럽당',\n",
       " '언니 사랑해요...ㅜ...',\n",
       " '헤이즈 건강 해야해 ᆢ',\n",
       " '언뉘 사랑해요.....',\n",
       " '장다혜 사랑해 ️\\u200d',\n",
       " '언니 싸랑해애',\n",
       " '애교쟁이 우짤거임 사랑해 죽겠어',\n",
       " '부경대 경영학과 23학번 준비 완료....',\n",
       " '선배님사랑해요...',\n",
       " '다혜 선배님 안 사랑하는 법 모야 ㅠ',\n",
       " '동원회장보다 더 유명한 부경인',\n",
       " '김민준 부럽습니다!!!!!!!!!!!!!',\n",
       " '싸랑합니다',\n",
       " '부경대학교 23학번 할래요 ...',\n",
       " '넘 이버요',\n",
       " '벌써 왔다 갔다고???? 아........',\n",
       " 'eng sub 주세요 ',\n",
       " '헐레벌떡',\n",
       " '부경대학교 원서 3억 7261만 6631장 쓰겠습니다.']"
      ]
     },
     "execution_count": 20,
     "metadata": {},
     "output_type": "execute_result"
    }
   ],
   "source": [
    "comment"
   ]
  },
  {
   "cell_type": "code",
   "execution_count": 21,
   "id": "57647ae1",
   "metadata": {},
   "outputs": [
    {
     "data": {
      "text/plain": [
       "55"
      ]
     },
     "execution_count": 21,
     "metadata": {},
     "output_type": "execute_result"
    }
   ],
   "source": [
    "len(comment)"
   ]
  },
  {
   "cell_type": "code",
   "execution_count": 22,
   "id": "f368c9ee",
   "metadata": {
    "scrolled": true
   },
   "outputs": [
    {
     "data": {
      "text/html": [
       "<div>\n",
       "<style scoped>\n",
       "    .dataframe tbody tr th:only-of-type {\n",
       "        vertical-align: middle;\n",
       "    }\n",
       "\n",
       "    .dataframe tbody tr th {\n",
       "        vertical-align: top;\n",
       "    }\n",
       "\n",
       "    .dataframe thead th {\n",
       "        text-align: right;\n",
       "    }\n",
       "</style>\n",
       "<table border=\"1\" class=\"dataframe\">\n",
       "  <thead>\n",
       "    <tr style=\"text-align: right;\">\n",
       "      <th></th>\n",
       "      <th>작성자</th>\n",
       "      <th>내용</th>\n",
       "    </tr>\n",
       "  </thead>\n",
       "  <tbody>\n",
       "    <tr>\n",
       "      <th>0</th>\n",
       "      <td>J H</td>\n",
       "      <td>선배님...사랑해요... \\n저도 동문이라는 이유로 이렇게 마음이 몽글몽글해질 줄은...</td>\n",
       "    </tr>\n",
       "    <tr>\n",
       "      <th>1</th>\n",
       "      <td>남김</td>\n",
       "      <td>모교를 이렇게 아껴주는 사람이 또 있을까.. 너무 좋다 헤이즈</td>\n",
       "    </tr>\n",
       "    <tr>\n",
       "      <th>2</th>\n",
       "      <td>행복한 슈슈</td>\n",
       "      <td>우왁ㅠㅠㅠ 선배님 감동,,, 영상보고 감동받아서 눈물 좔좔입니다ㅠㅜ 선배님의 사랑을...</td>\n",
       "    </tr>\n",
       "    <tr>\n",
       "      <th>3</th>\n",
       "      <td>이유진</td>\n",
       "      <td>헤이즈 언니 응원 영상 올려주셔서 감사해요 덕분에 학교가 정말 유명해지고 빛나는거같...</td>\n",
       "    </tr>\n",
       "    <tr>\n",
       "      <th>4</th>\n",
       "      <td>LechugaWith Lav</td>\n",
       "      <td>Nose lo que dice pero amo verla y oírla</td>\n",
       "    </tr>\n",
       "    <tr>\n",
       "      <th>5</th>\n",
       "      <td>임창민</td>\n",
       "      <td>이러니 헤이즈를 안 사랑할수가 있냐고...</td>\n",
       "    </tr>\n",
       "    <tr>\n",
       "      <th>6</th>\n",
       "      <td>김민지</td>\n",
       "      <td>언니 이러기있어??ㅠㅠ 진짜 감동이야너무 즐거웠고 후배 사랑하는 마음 진짜 고마워요...</td>\n",
       "    </tr>\n",
       "    <tr>\n",
       "      <th>7</th>\n",
       "      <td>Moo Min</td>\n",
       "      <td>아직도 그때 공연장의 맘이 느껴져요ㅠㅠ 이 기억으로 열심히 살아갈게요! 우리 또 그...</td>\n",
       "    </tr>\n",
       "    <tr>\n",
       "      <th>8</th>\n",
       "      <td>모모썽이스틸러스</td>\n",
       "      <td>대연동 체고존엄 아웃풋!\\n69학번 아버지/01학번 아들이 함께 응원합니다!\\n(8...</td>\n",
       "    </tr>\n",
       "    <tr>\n",
       "      <th>9</th>\n",
       "      <td>김민지</td>\n",
       "      <td>너무 좋았습니다ㅠㅠ 헤이즈언니 사랑해요 항상응원합니다</td>\n",
       "    </tr>\n",
       "    <tr>\n",
       "      <th>10</th>\n",
       "      <td>오리지널 전문가</td>\n",
       "      <td>버선발로 달려왔늠다\\n저는 덕질에 비우호적이었는데 축제 전 인스타부터 무대 그리고 ...</td>\n",
       "    </tr>\n",
       "    <tr>\n",
       "      <th>11</th>\n",
       "      <td>박지애</td>\n",
       "      <td>선배님 사랑합니다.. 진짜 너무 감사해요 원래도 팬이었만 더 팬 될 것 같아요 열심...</td>\n",
       "    </tr>\n",
       "    <tr>\n",
       "      <th>12</th>\n",
       "      <td>두까</td>\n",
       "      <td>진짜 만날수있어서 너무너무 영광이였습니다 ㅜㅜ</td>\n",
       "    </tr>\n",
       "    <tr>\n",
       "      <th>13</th>\n",
       "      <td>밍밍</td>\n",
       "      <td>부경대 선배님 최고에요 ️</td>\n",
       "    </tr>\n",
       "    <tr>\n",
       "      <th>14</th>\n",
       "      <td>송혜림</td>\n",
       "      <td>헤이즈 예쁘다</td>\n",
       "    </tr>\n",
       "    <tr>\n",
       "      <th>15</th>\n",
       "      <td>youmean</td>\n",
       "      <td>미쳤다ㅜㅜㅜㅜㅜㅜㅜ언니 너무 예뻐요…..</td>\n",
       "    </tr>\n",
       "    <tr>\n",
       "      <th>16</th>\n",
       "      <td>손지은</td>\n",
       "      <td>진짜 사랑해요 다혜 언니...️</td>\n",
       "    </tr>\n",
       "    <tr>\n",
       "      <th>17</th>\n",
       "      <td>James Ku</td>\n",
       "      <td>헤이즈 만세</td>\n",
       "    </tr>\n",
       "    <tr>\n",
       "      <th>18</th>\n",
       "      <td>ㅇㅅㅇ</td>\n",
       "      <td>헤이즈 언니이자 선배.. 고마워요 ️️</td>\n",
       "    </tr>\n",
       "    <tr>\n",
       "      <th>19</th>\n",
       "      <td>떡지훈</td>\n",
       "      <td>부럽다..부경대ㅠㅠ</td>\n",
       "    </tr>\n",
       "    <tr>\n",
       "      <th>20</th>\n",
       "      <td>블랑</td>\n",
       "      <td>선배님 보려구 한참을 기다려서 앞줄에서 봤어요 담에도 와줘요 사랑해요♡!!</td>\n",
       "    </tr>\n",
       "    <tr>\n",
       "      <th>21</th>\n",
       "      <td>김나영</td>\n",
       "      <td>경영의 꽃 헤이즈선배님 ,,, 사랑합니댜</td>\n",
       "    </tr>\n",
       "    <tr>\n",
       "      <th>22</th>\n",
       "      <td>m&amp;m</td>\n",
       "      <td>진짜 언니 사랑해요\\n도대체 지금 몇일째 우리랑 같이 하는 거에요ㅠㅠㅠ 진짜 미친 ...</td>\n",
       "    </tr>\n",
       "    <tr>\n",
       "      <th>23</th>\n",
       "      <td>확</td>\n",
       "      <td>아니,, 선배님,, 뭐냐구,,ㅜㅜ 나 이런 사랑 첨 받아봐\\n저두 더더 사랑해줄게여</td>\n",
       "    </tr>\n",
       "    <tr>\n",
       "      <th>24</th>\n",
       "      <td>7 1</td>\n",
       "      <td>사랑해 헤이즈</td>\n",
       "    </tr>\n",
       "    <tr>\n",
       "      <th>25</th>\n",
       "      <td>닥터사랑짱</td>\n",
       "      <td>우와ㅎ\\n부경대나오셨네요\\n팬입니다.</td>\n",
       "    </tr>\n",
       "    <tr>\n",
       "      <th>26</th>\n",
       "      <td>알파카</td>\n",
       "      <td>현 고3인데 내년에 꼭 부경대에 들어가서 후배가 되고 싶어요ㅠㅡㅠ</td>\n",
       "    </tr>\n",
       "    <tr>\n",
       "      <th>27</th>\n",
       "      <td>서영 김</td>\n",
       "      <td>청운관 1열람실 올 출석 간다,,, 넘 머싯어 사랑해요</td>\n",
       "    </tr>\n",
       "    <tr>\n",
       "      <th>28</th>\n",
       "      <td>피카츄떡</td>\n",
       "      <td>0:08 몇가지 질문 드려도?\\n0:13 부경대에서 공연하는 느낌?\\n0:47 경영...</td>\n",
       "    </tr>\n",
       "    <tr>\n",
       "      <th>29</th>\n",
       "      <td>gfys</td>\n",
       "      <td>️️</td>\n",
       "    </tr>\n",
       "    <tr>\n",
       "      <th>30</th>\n",
       "      <td>민성</td>\n",
       "      <td>내년에도 꼭 와요 ㅠㅠ 우리 슨배님 ㅠㅠ</td>\n",
       "    </tr>\n",
       "    <tr>\n",
       "      <th>31</th>\n",
       "      <td>정혜연</td>\n",
       "      <td>넘 예뿌..</td>\n",
       "    </tr>\n",
       "    <tr>\n",
       "      <th>32</th>\n",
       "      <td>Merry Owner 메리오너</td>\n",
       "      <td></td>\n",
       "    </tr>\n",
       "    <tr>\n",
       "      <th>33</th>\n",
       "      <td>에어</td>\n",
       "      <td>부경대 최고 아웃풋 헤이즈</td>\n",
       "    </tr>\n",
       "    <tr>\n",
       "      <th>34</th>\n",
       "      <td>양지쨘</td>\n",
       "      <td>사랑합니다</td>\n",
       "    </tr>\n",
       "    <tr>\n",
       "      <th>35</th>\n",
       "      <td>MJ LIFE</td>\n",
       "      <td>다혜 선배님은 사랑입니다.</td>\n",
       "    </tr>\n",
       "    <tr>\n",
       "      <th>36</th>\n",
       "      <td>An영주</td>\n",
       "      <td>울언니 내가 완전 애정해 내가 후배인게 자랑스럽당</td>\n",
       "    </tr>\n",
       "    <tr>\n",
       "      <th>37</th>\n",
       "      <td>Llllo Holl</td>\n",
       "      <td>언니 사랑해요...ㅜ...</td>\n",
       "    </tr>\n",
       "    <tr>\n",
       "      <th>38</th>\n",
       "      <td>제이U</td>\n",
       "      <td>헤이즈 건강 해야해 ᆢ</td>\n",
       "    </tr>\n",
       "    <tr>\n",
       "      <th>39</th>\n",
       "      <td>으는</td>\n",
       "      <td>언뉘 사랑해요.....</td>\n",
       "    </tr>\n",
       "    <tr>\n",
       "      <th>40</th>\n",
       "      <td>안성혜</td>\n",
       "      <td>장다혜 사랑해 ️‍</td>\n",
       "    </tr>\n",
       "    <tr>\n",
       "      <th>41</th>\n",
       "      <td>EO</td>\n",
       "      <td>언니 싸랑해애</td>\n",
       "    </tr>\n",
       "    <tr>\n",
       "      <th>42</th>\n",
       "      <td>이정</td>\n",
       "      <td>애교쟁이 우짤거임 사랑해 죽겠어</td>\n",
       "    </tr>\n",
       "    <tr>\n",
       "      <th>43</th>\n",
       "      <td>갓현준</td>\n",
       "      <td>부경대 경영학과 23학번 준비 완료....</td>\n",
       "    </tr>\n",
       "    <tr>\n",
       "      <th>44</th>\n",
       "      <td>김은지</td>\n",
       "      <td>선배님사랑해요...</td>\n",
       "    </tr>\n",
       "    <tr>\n",
       "      <th>45</th>\n",
       "      <td>한효빈</td>\n",
       "      <td>다혜 선배님 안 사랑하는 법 모야 ㅠ</td>\n",
       "    </tr>\n",
       "    <tr>\n",
       "      <th>46</th>\n",
       "      <td>등킨파일럿</td>\n",
       "      <td>동원회장보다 더 유명한 부경인</td>\n",
       "    </tr>\n",
       "    <tr>\n",
       "      <th>47</th>\n",
       "      <td>a th</td>\n",
       "      <td>김민준 부럽습니다!!!!!!!!!!!!!</td>\n",
       "    </tr>\n",
       "    <tr>\n",
       "      <th>48</th>\n",
       "      <td>김태형</td>\n",
       "      <td>싸랑합니다</td>\n",
       "    </tr>\n",
       "    <tr>\n",
       "      <th>49</th>\n",
       "      <td>신정빈</td>\n",
       "      <td>부경대학교 23학번 할래요 ...</td>\n",
       "    </tr>\n",
       "    <tr>\n",
       "      <th>50</th>\n",
       "      <td>원기</td>\n",
       "      <td>넘 이버요</td>\n",
       "    </tr>\n",
       "    <tr>\n",
       "      <th>51</th>\n",
       "      <td>DW Jeong</td>\n",
       "      <td>벌써 왔다 갔다고???? 아........</td>\n",
       "    </tr>\n",
       "    <tr>\n",
       "      <th>52</th>\n",
       "      <td>sb</td>\n",
       "      <td>eng sub 주세요</td>\n",
       "    </tr>\n",
       "    <tr>\n",
       "      <th>53</th>\n",
       "      <td>H2SO4벌의 계백, 맞서싸운 관창</td>\n",
       "      <td>헐레벌떡</td>\n",
       "    </tr>\n",
       "    <tr>\n",
       "      <th>54</th>\n",
       "      <td>피카츄떡</td>\n",
       "      <td>부경대학교 원서 3억 7261만 6631장 쓰겠습니다.</td>\n",
       "    </tr>\n",
       "  </tbody>\n",
       "</table>\n",
       "</div>"
      ],
      "text/plain": [
       "                    작성자                                                 내용\n",
       "0                   J H  선배님...사랑해요... \\n저도 동문이라는 이유로 이렇게 마음이 몽글몽글해질 줄은...\n",
       "1                    남김                 모교를 이렇게 아껴주는 사람이 또 있을까.. 너무 좋다 헤이즈\n",
       "2                행복한 슈슈  우왁ㅠㅠㅠ 선배님 감동,,, 영상보고 감동받아서 눈물 좔좔입니다ㅠㅜ 선배님의 사랑을...\n",
       "3                   이유진  헤이즈 언니 응원 영상 올려주셔서 감사해요 덕분에 학교가 정말 유명해지고 빛나는거같...\n",
       "4       LechugaWith Lav           Nose lo que dice pero amo verla y oírla \n",
       "5                   임창민                            이러니 헤이즈를 안 사랑할수가 있냐고...\n",
       "6                   김민지  언니 이러기있어??ㅠㅠ 진짜 감동이야너무 즐거웠고 후배 사랑하는 마음 진짜 고마워요...\n",
       "7               Moo Min  아직도 그때 공연장의 맘이 느껴져요ㅠㅠ 이 기억으로 열심히 살아갈게요! 우리 또 그...\n",
       "8              모모썽이스틸러스  대연동 체고존엄 아웃풋!\\n69학번 아버지/01학번 아들이 함께 응원합니다!\\n(8...\n",
       "9                   김민지                      너무 좋았습니다ㅠㅠ 헤이즈언니 사랑해요 항상응원합니다\n",
       "10             오리지널 전문가  버선발로 달려왔늠다\\n저는 덕질에 비우호적이었는데 축제 전 인스타부터 무대 그리고 ...\n",
       "11                  박지애  선배님 사랑합니다.. 진짜 너무 감사해요 원래도 팬이었만 더 팬 될 것 같아요 열심...\n",
       "12                   두까                          진짜 만날수있어서 너무너무 영광이였습니다 ㅜㅜ\n",
       "13                   밍밍                                     부경대 선배님 최고에요 ️\n",
       "14                  송혜림                                            헤이즈 예쁘다\n",
       "15              youmean                             미쳤다ㅜㅜㅜㅜㅜㅜㅜ언니 너무 예뻐요…..\n",
       "16                  손지은                                  진짜 사랑해요 다혜 언니...️\n",
       "17             James Ku                                             헤이즈 만세\n",
       "18                  ㅇㅅㅇ                              헤이즈 언니이자 선배.. 고마워요 ️️\n",
       "19                  떡지훈                                         부럽다..부경대ㅠㅠ\n",
       "20                   블랑          선배님 보려구 한참을 기다려서 앞줄에서 봤어요 담에도 와줘요 사랑해요♡!!\n",
       "21                  김나영                            경영의 꽃 헤이즈선배님 ,,, 사랑합니댜 \n",
       "22                  m&m  진짜 언니 사랑해요\\n도대체 지금 몇일째 우리랑 같이 하는 거에요ㅠㅠㅠ 진짜 미친 ...\n",
       "23                    확     아니,, 선배님,, 뭐냐구,,ㅜㅜ 나 이런 사랑 첨 받아봐\\n저두 더더 사랑해줄게여\n",
       "24                  7 1                                            사랑해 헤이즈\n",
       "25                닥터사랑짱                               우와ㅎ\\n부경대나오셨네요\\n팬입니다.\n",
       "26                  알파카               현 고3인데 내년에 꼭 부경대에 들어가서 후배가 되고 싶어요ㅠㅡㅠ\n",
       "27                 서영 김                     청운관 1열람실 올 출석 간다,,, 넘 머싯어 사랑해요\n",
       "28                 피카츄떡  0:08 몇가지 질문 드려도?\\n0:13 부경대에서 공연하는 느낌?\\n0:47 경영...\n",
       "29                 gfys                                                 ️️\n",
       "30                   민성                             내년에도 꼭 와요 ㅠㅠ 우리 슨배님 ㅠㅠ\n",
       "31                  정혜연                                             넘 예뿌..\n",
       "32     Merry Owner 메리오너                                                   \n",
       "33                   에어                                     부경대 최고 아웃풋 헤이즈\n",
       "34                  양지쨘                                              사랑합니다\n",
       "35              MJ LIFE                                     다혜 선배님은 사랑입니다.\n",
       "36                 An영주                        울언니 내가 완전 애정해 내가 후배인게 자랑스럽당\n",
       "37           Llllo Holl                                     언니 사랑해요...ㅜ...\n",
       "38                  제이U                                       헤이즈 건강 해야해 ᆢ\n",
       "39                   으는                                       언뉘 사랑해요.....\n",
       "40                  안성혜                                         장다혜 사랑해 ️‍\n",
       "41                   EO                                            언니 싸랑해애\n",
       "42                   이정                                  애교쟁이 우짤거임 사랑해 죽겠어\n",
       "43                  갓현준                            부경대 경영학과 23학번 준비 완료....\n",
       "44                  김은지                                         선배님사랑해요...\n",
       "45                  한효빈                               다혜 선배님 안 사랑하는 법 모야 ㅠ\n",
       "46                등킨파일럿                                   동원회장보다 더 유명한 부경인\n",
       "47                 a th                             김민준 부럽습니다!!!!!!!!!!!!!\n",
       "48                  김태형                                              싸랑합니다\n",
       "49                  신정빈                                 부경대학교 23학번 할래요 ...\n",
       "50                   원기                                              넘 이버요\n",
       "51             DW Jeong                            벌써 왔다 갔다고???? 아........\n",
       "52                   sb                                       eng sub 주세요 \n",
       "53  H2SO4벌의 계백, 맞서싸운 관창                                               헐레벌떡\n",
       "54                 피카츄떡                     부경대학교 원서 3억 7261만 6631장 쓰겠습니다."
      ]
     },
     "execution_count": 22,
     "metadata": {},
     "output_type": "execute_result"
    }
   ],
   "source": [
    "df = pd.DataFrame(list(zip(name, comment)), columns = ['작성자','내용'])\n",
    "df"
   ]
  }
 ],
 "metadata": {
  "kernelspec": {
   "display_name": "Python 3 (ipykernel)",
   "language": "python",
   "name": "python3"
  },
  "language_info": {
   "codemirror_mode": {
    "name": "ipython",
    "version": 3
   },
   "file_extension": ".py",
   "mimetype": "text/x-python",
   "name": "python",
   "nbconvert_exporter": "python",
   "pygments_lexer": "ipython3",
   "version": "3.9.7"
  }
 },
 "nbformat": 4,
 "nbformat_minor": 5
}
