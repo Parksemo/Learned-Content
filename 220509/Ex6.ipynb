{
 "cells": [
  {
   "cell_type": "markdown",
   "id": "0a6a6807",
   "metadata": {},
   "source": [
    "DictVectorizer => BOW 인코딩 벡터"
   ]
  },
  {
   "cell_type": "code",
   "execution_count": 1,
   "id": "849640c7",
   "metadata": {},
   "outputs": [],
   "source": [
    "from sklearn.feature_extraction import DictVectorizer"
   ]
  },
  {
   "cell_type": "code",
   "execution_count": 5,
   "id": "74f0aed2",
   "metadata": {},
   "outputs": [
    {
     "data": {
      "text/plain": [
       "array([[1., 2., 0.],\n",
       "       [0., 3., 1.]])"
      ]
     },
     "execution_count": 5,
     "metadata": {},
     "output_type": "execute_result"
    }
   ],
   "source": [
    "v = DictVectorizer(sparse=False)\n",
    "D = [{'A':1,'B':2},{'B':3,'C':1}] #3종\n",
    "X=v.fit_transform(D)\n",
    "X"
   ]
  },
  {
   "cell_type": "code",
   "execution_count": 6,
   "id": "dbf42e56",
   "metadata": {},
   "outputs": [
    {
     "data": {
      "text/plain": [
       "['A', 'B', 'C']"
      ]
     },
     "execution_count": 6,
     "metadata": {},
     "output_type": "execute_result"
    }
   ],
   "source": [
    "v.feature_names_"
   ]
  },
  {
   "cell_type": "code",
   "execution_count": 7,
   "id": "6f20aab6",
   "metadata": {},
   "outputs": [],
   "source": [
    "D2={'A':5,'B':1,'D':100}"
   ]
  },
  {
   "cell_type": "code",
   "execution_count": 8,
   "id": "69b8374f",
   "metadata": {
    "scrolled": true
   },
   "outputs": [
    {
     "data": {
      "text/plain": [
       "array([[5., 1., 0.]])"
      ]
     },
     "execution_count": 8,
     "metadata": {},
     "output_type": "execute_result"
    }
   ],
   "source": [
    "v.transform(D2) #fit를 안함, A,B,C 3종으로 되있기때문에 D는 누락됨"
   ]
  },
  {
   "cell_type": "markdown",
   "id": "6516882e",
   "metadata": {},
   "source": [
    "CountVectorizer => BOW 인코딩 벡터 문서의 집합 -> 단어토큰생성 -> 각단어의 수"
   ]
  },
  {
   "cell_type": "code",
   "execution_count": 9,
   "id": "cecc12bb",
   "metadata": {},
   "outputs": [],
   "source": [
    "from sklearn.feature_extraction.text import CountVectorizer"
   ]
  },
  {
   "cell_type": "code",
   "execution_count": 10,
   "id": "12f76ca7",
   "metadata": {},
   "outputs": [],
   "source": [
    "corpus = [\n",
    "    'This is the first document.',\n",
    "    'This is the second second document.',\n",
    "    'And the third one.',\n",
    "    'Is this the first document?',\n",
    "    'The last document?',\n",
    "]"
   ]
  },
  {
   "cell_type": "code",
   "execution_count": 11,
   "id": "911ce209",
   "metadata": {},
   "outputs": [
    {
     "data": {
      "text/plain": [
       "{'this': 9,\n",
       " 'is': 3,\n",
       " 'the': 7,\n",
       " 'first': 2,\n",
       " 'document': 1,\n",
       " 'second': 6,\n",
       " 'and': 0,\n",
       " 'third': 8,\n",
       " 'one': 5,\n",
       " 'last': 4}"
      ]
     },
     "execution_count": 11,
     "metadata": {},
     "output_type": "execute_result"
    }
   ],
   "source": [
    "v1 = CountVectorizer()\n",
    "v1.fit(corpus)\n",
    "v1.vocabulary_ #알파벳순으로 인덱스부여"
   ]
  },
  {
   "cell_type": "code",
   "execution_count": 13,
   "id": "742e2025",
   "metadata": {},
   "outputs": [
    {
     "data": {
      "text/plain": [
       "array([[0, 1, 1, 1, 0, 0, 0, 1, 0, 1]], dtype=int64)"
      ]
     },
     "execution_count": 13,
     "metadata": {},
     "output_type": "execute_result"
    }
   ],
   "source": [
    "# v1.transform('This is the first document.') #문서의 집합을 전달해야됨 []\n",
    "v1.transform(['This is the first document.']).toarray()"
   ]
  },
  {
   "cell_type": "code",
   "execution_count": 14,
   "id": "a2181730",
   "metadata": {},
   "outputs": [
    {
     "data": {
      "text/plain": [
       "array([[0, 1, 1, 1, 0, 0, 0, 1, 0, 1]], dtype=int64)"
      ]
     },
     "execution_count": 14,
     "metadata": {},
     "output_type": "execute_result"
    }
   ],
   "source": [
    "v1.transform(['This is the first document. data']).toarray() #data는 토큰단어에 없기때문에 배제된다."
   ]
  }
 ],
 "metadata": {
  "kernelspec": {
   "display_name": "Python 3 (ipykernel)",
   "language": "python",
   "name": "python3"
  },
  "language_info": {
   "codemirror_mode": {
    "name": "ipython",
    "version": 3
   },
   "file_extension": ".py",
   "mimetype": "text/x-python",
   "name": "python",
   "nbconvert_exporter": "python",
   "pygments_lexer": "ipython3",
   "version": "3.9.7"
  }
 },
 "nbformat": 4,
 "nbformat_minor": 5
}
