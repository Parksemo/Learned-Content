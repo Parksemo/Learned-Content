{
 "cells": [
  {
   "cell_type": "code",
   "execution_count": 1,
   "id": "aaab2ab6",
   "metadata": {},
   "outputs": [],
   "source": [
    "t = '한 후보자는 윤석열 대통령 당선인의 최측근 인사로 분류되며 더불어민주당이 주요 타깃으로 삼아온 만큼 청문회에서 여야간 치열한 공방이 예상된다.'"
   ]
  },
  {
   "cell_type": "code",
   "execution_count": 2,
   "id": "4f96e284",
   "metadata": {},
   "outputs": [
    {
     "data": {
      "text/plain": [
       "'한후보자는윤석열대통령당선인의최측근인사로분류되며더불어민주당이주요타깃으로삼아온만큼청문회에서여야간치열한공방이예상된다.'"
      ]
     },
     "execution_count": 2,
     "metadata": {},
     "output_type": "execute_result"
    }
   ],
   "source": [
    "n_t = t.replace(' ','')\n",
    "n_t"
   ]
  },
  {
   "cell_type": "code",
   "execution_count": 3,
   "id": "be5682eb",
   "metadata": {},
   "outputs": [
    {
     "data": {
      "text/plain": [
       "'한 후보자는 윤석열 대통령 당선인의 최측근 인사로 분류되며 더불어민주당이 주요 타깃으로 삼아 온 만큼 청문회에서 여야간 치열한 공방이 예상된다.'"
      ]
     },
     "execution_count": 3,
     "metadata": {},
     "output_type": "execute_result"
    }
   ],
   "source": [
    "from pykospacing import Spacing\n",
    "sc = Spacing()\n",
    "e_t = sc(n_t)\n",
    "e_t"
   ]
  },
  {
   "cell_type": "code",
   "execution_count": 4,
   "id": "29c7ff44",
   "metadata": {},
   "outputs": [
    {
     "data": {
      "text/plain": [
       "'한 후보자는 윤석열 대통령 당선인의 최측근 인사로 분류되며 더불어민주당이 주요 타깃으로 삼아온 만큼 청문회에서 여야간 치열한 공방이 예상된다.'"
      ]
     },
     "execution_count": 4,
     "metadata": {},
     "output_type": "execute_result"
    }
   ],
   "source": [
    "t"
   ]
  },
  {
   "cell_type": "code",
   "execution_count": 5,
   "id": "db3720a3",
   "metadata": {},
   "outputs": [],
   "source": [
    "t1 = '나는 외 않되? 나도 할수있으면 돼지 '"
   ]
  },
  {
   "cell_type": "code",
   "execution_count": 6,
   "id": "254c8b90",
   "metadata": {},
   "outputs": [
    {
     "data": {
      "text/plain": [
       "Checked(result=True, original='나는 외 않되? 나도 할수있으면 돼지 ', checked='나는 왜 안돼? 나도 할 수 있으면 되지', errors=2, words=OrderedDict([('나는', 0), ('왜', 1), ('안돼?', 1), ('나도', 0), ('할', 1), ('수', 1), ('있으면', 1), ('되지', 1)]), time=0.12712812423706055)"
      ]
     },
     "execution_count": 6,
     "metadata": {},
     "output_type": "execute_result"
    }
   ],
   "source": [
    "from hanspell import spell_checker\n",
    "ck_t = spell_checker.check(t1)\n",
    "ck_t"
   ]
  },
  {
   "cell_type": "code",
   "execution_count": 7,
   "id": "b8b20bc8",
   "metadata": {},
   "outputs": [
    {
     "data": {
      "text/plain": [
       "'나는 왜 안돼? 나도 할 수 있으면 되지'"
      ]
     },
     "execution_count": 7,
     "metadata": {},
     "output_type": "execute_result"
    }
   ],
   "source": [
    "end_t = ck_t.checked\n",
    "end_t"
   ]
  },
  {
   "cell_type": "code",
   "execution_count": 8,
   "id": "4bf0dc2d",
   "metadata": {},
   "outputs": [
    {
     "data": {
      "text/plain": [
       "'한 후보자는 윤석열 대통령 당선인의 최측근 인사로 분류되며 더불어민주당이 주요 타깃으로 삼아온 만큼 청문회에서 여야 간 치열한 공방이 예상된다.'"
      ]
     },
     "execution_count": 8,
     "metadata": {},
     "output_type": "execute_result"
    }
   ],
   "source": [
    "ck_t1 = spell_checker.check(n_t).checked\n",
    "ck_t1"
   ]
  },
  {
   "cell_type": "code",
   "execution_count": 9,
   "id": "173fb072",
   "metadata": {},
   "outputs": [],
   "source": [
    "#형태소를 분석하기 위한 모델\n",
    "from soynlp import DoublespaceLineCorpus\n",
    "from soynlp.word import WordExtractor"
   ]
  },
  {
   "cell_type": "code",
   "execution_count": 10,
   "id": "5e0c302c",
   "metadata": {},
   "outputs": [
    {
     "data": {
      "text/plain": [
       "30091"
      ]
     },
     "execution_count": 10,
     "metadata": {},
     "output_type": "execute_result"
    }
   ],
   "source": [
    "all_data = DoublespaceLineCorpus('data1.txt')\n",
    "len(all_data)"
   ]
  },
  {
   "cell_type": "code",
   "execution_count": 11,
   "id": "af0de96e",
   "metadata": {},
   "outputs": [
    {
     "data": {
      "text/plain": [
       "soynlp.utils.utils.DoublespaceLineCorpus"
      ]
     },
     "execution_count": 11,
     "metadata": {},
     "output_type": "execute_result"
    }
   ],
   "source": [
    "type(all_data)"
   ]
  },
  {
   "cell_type": "code",
   "execution_count": 12,
   "id": "e93d7de6",
   "metadata": {
    "scrolled": true
   },
   "outputs": [
    {
     "name": "stdout",
     "output_type": "stream",
     "text": [
      "19  1990  52 1 22\n",
      "오패산터널 총격전 용의자 검거 서울 연합뉴스 경찰 관계자들이 19일 오후 서울 강북구 오패산 터널 인근에서 사제 총기를 발사해 경찰을 살해한 용의자 성모씨를 검거하고 있다 성씨는 검거 당시 서바이벌 게임에서 쓰는 방탄조끼에 헬멧까지 착용한 상태였다 독자제공 영상 캡처 연합뉴스  서울 연합뉴스 김은경 기자 사제 총기로 경찰을 살해한 범인 성모 46 씨는 주도면밀했다  경찰에 따르면 성씨는 19일 오후 강북경찰서 인근 부동산 업소 밖에서 부동산업자 이모 67 씨가 나오기를 기다렸다 이씨와는 평소에도 말다툼을 자주 한 것으로 알려졌다  이씨가 나와 걷기 시작하자 성씨는 따라가면서 미리 준비해온 사제 총기를 이씨에게 발사했다 총알이 빗나가면서 이씨는 도망갔다 그 빗나간 총알은 지나가던 행인 71 씨의 배를 스쳤다  성씨는 강북서 인근 치킨집까지 이씨 뒤를 쫓으며 실랑이하다 쓰러뜨린 후 총기와 함께 가져온 망치로 이씨 머리를 때렸다  이 과정에서 오후 6시 20분께 강북구 번동 길 위에서 사람들이 싸우고 있다 총소리가 났다 는 등의 신고가 여러건 들어왔다  5분 후에 성씨의 전자발찌가 훼손됐다는 신고가 보호관찰소 시스템을 통해 들어왔다 성범죄자로 전자발찌를 차고 있던 성씨는 부엌칼로 직접 자신의 발찌를 끊었다  용의자 소지 사제총기 2정 서울 연합뉴스 임헌정 기자 서울 시내에서 폭행 용의자가 현장 조사를 벌이던 경찰관에게 사제총기를 발사해 경찰관이 숨졌다 19일 오후 6시28분 강북구 번동에서 둔기로 맞았다 는 폭행 피해 신고가 접수돼 현장에서 조사하던 강북경찰서 번동파출소 소속 김모 54 경위가 폭행 용의자 성모 45 씨가 쏜 사제총기에 맞고 쓰러진 뒤 병원에 옮겨졌으나 숨졌다 사진은 용의자가 소지한 사제총기  신고를 받고 번동파출소에서 김창호 54 경위 등 경찰들이 오후 6시 29분께 현장으로 출동했다 성씨는 그사이 부동산 앞에 놓아뒀던 가방을 챙겨 오패산 쪽으로 도망간 후였다  김 경위는 오패산 터널 입구 오른쪽의 급경사에서 성씨에게 접근하다가 오후 6시 33분께 풀숲에 숨은 성씨가 허공에 난사한 10여발의 총알 중 일부를 왼쪽 어깨 뒷부분에 맞고 쓰러졌다  김 경위는 구급차가 도착했을 때 이미 의식이 없었고 심폐소생술을 하며 병원으로 옮겨졌으나 총알이 폐를 훼손해 오후 7시 40분께 사망했다  김 경위는 외근용 조끼를 입고 있었으나 총알을 막기에는 역부족이었다  머리에 부상을 입은 이씨도 함께 병원으로 이송됐으나 생명에는 지장이 없는 것으로 알려졌다  성씨는 오패산 터널 밑쪽 숲에서 오후 6시 45분께 잡혔다  총격현장 수색하는 경찰들 서울 연합뉴스 이효석 기자 19일 오후 서울 강북구 오패산 터널 인근에서 경찰들이 폭행 용의자가 사제총기를 발사해 경찰관이 사망한 사건을 조사 하고 있다  총 때문에 쫓던 경관들과 민간인들이 몸을 숨겼는데 인근 신발가게 직원 이모씨가 다가가 성씨를 덮쳤고 이어 현장에 있던 다른 상인들과 경찰이 가세해 체포했다  성씨는 경찰에 붙잡힌 직후 나 자살하려고 한 거다 맞아 죽어도 괜찮다 고 말한 것으로 전해졌다  성씨 자신도 경찰이 발사한 공포탄 1발 실탄 3발 중 실탄 1발을 배에 맞았으나 방탄조끼를 입은 상태여서 부상하지는 않았다  경찰은 인근을 수색해 성씨가 만든 사제총 16정과 칼 7개를 압수했다 실제 폭발할지는 알 수 없는 요구르트병에 무언가를 채워두고 심지를 꽂은 사제 폭탄도 발견됐다  일부는 숲에서 발견됐고 일부는 성씨가 소지한 가방 안에 있었다\n",
      "테헤란 연합뉴스 강훈상 특파원 이용 승객수 기준 세계 최대 공항인 아랍에미리트 두바이국제공항은 19일 현지시간 이 공항을 이륙하는 모든 항공기의 탑승객은 삼성전자의 갤럭시노트7을 휴대하면 안 된다고 밝혔다  두바이국제공항은 여러 항공 관련 기구의 권고에 따라 안전성에 우려가 있는 스마트폰 갤럭시노트7을 휴대하고 비행기를 타면 안 된다 며 탑승 전 검색 중 발견되면 압수할 계획 이라고 발표했다  공항 측은 갤럭시노트7의 배터리가 폭발 우려가 제기된 만큼 이 제품을 갖고 공항 안으로 들어오지 말라고 이용객에 당부했다  이런 조치는 두바이국제공항 뿐 아니라 신공항인 두바이월드센터에도 적용된다  배터리 폭발문제로 회수된 갤럭시노트7 연합뉴스자료사진\n"
     ]
    }
   ],
   "source": [
    "i=0\n",
    "for w in all_data:\n",
    "    if len(w)>0:\n",
    "        print(w)\n",
    "        i+=1\n",
    "    if i==3:\n",
    "        break"
   ]
  },
  {
   "cell_type": "code",
   "execution_count": 13,
   "id": "3a23b97e",
   "metadata": {},
   "outputs": [],
   "source": [
    "w_e = WordExtractor()"
   ]
  },
  {
   "cell_type": "code",
   "execution_count": 14,
   "id": "02f548e0",
   "metadata": {},
   "outputs": [
    {
     "name": "stdout",
     "output_type": "stream",
     "text": [
      "\r",
      "training was done. used memory 0.986 Gb\n"
     ]
    }
   ],
   "source": [
    "w_e.train(all_data)"
   ]
  },
  {
   "cell_type": "code",
   "execution_count": 15,
   "id": "51b404f0",
   "metadata": {},
   "outputs": [
    {
     "name": "stdout",
     "output_type": "stream",
     "text": [
      "all cohesion probabilities was computed. # words = 223348\n",
      "all branching entropies was computed # words = 361598\n",
      "all accessor variety was computed # words = 361598\n"
     ]
    }
   ],
   "source": [
    "w_e_t = w_e.extract()"
   ]
  },
  {
   "cell_type": "code",
   "execution_count": 16,
   "id": "a5f1f3f8",
   "metadata": {
    "scrolled": true
   },
   "outputs": [
    {
     "data": {
      "text/plain": [
       "{'조': Scores(cohesion_forward=0, cohesion_backward=0, left_branching_entropy=4.763622681791006, right_branching_entropy=4.149193525125146, left_accessor_variety=441, right_accessor_variety=351, leftside_frequency=22129, rightside_frequency=2542),\n",
       " '쁘': Scores(cohesion_forward=0, cohesion_backward=0, left_branching_entropy=1.519382664642301, right_branching_entropy=-0.0, left_accessor_variety=5, right_accessor_variety=1, leftside_frequency=14, rightside_frequency=0),\n",
       " '키': Scores(cohesion_forward=0, cohesion_backward=0, left_branching_entropy=3.926228197360046, right_branching_entropy=3.42364924119416, left_accessor_variety=130, right_accessor_variety=114, leftside_frequency=1906, rightside_frequency=578),\n",
       " '섯': Scores(cohesion_forward=0, cohesion_backward=0, left_branching_entropy=0.5341593666871499, right_branching_entropy=2.5740775944713903, left_accessor_variety=2, right_accessor_variety=34, leftside_frequency=0, rightside_frequency=339),\n",
       " '봐': Scores(cohesion_forward=0, cohesion_backward=0, left_branching_entropy=3.071770411809177, right_branching_entropy=2.5685043999578467, left_accessor_variety=38, right_accessor_variety=36, leftside_frequency=458, rightside_frequency=167),\n",
       " '땔': Scores(cohesion_forward=0, cohesion_backward=0, left_branching_entropy=0.6931471805599453, right_branching_entropy=0.5004024235381879, left_accessor_variety=2, right_accessor_variety=2, leftside_frequency=8, rightside_frequency=0),\n",
       " '엿': Scores(cohesion_forward=0, cohesion_backward=0, left_branching_entropy=1.8198444099769018, right_branching_entropy=0.9964629432068404, left_accessor_variety=10, right_accessor_variety=4, leftside_frequency=170, rightside_frequency=0),\n",
       " '불': Scores(cohesion_forward=0, cohesion_backward=0, left_branching_entropy=3.974560920958241, right_branching_entropy=3.7124510371072015, left_accessor_variety=266, right_accessor_variety=160, leftside_frequency=12895, rightside_frequency=245),\n",
       " '펄': Scores(cohesion_forward=0, cohesion_backward=0, left_branching_entropy=1.3199101094893373, right_branching_entropy=0.6931471805599453, left_accessor_variety=5, right_accessor_variety=2, leftside_frequency=20, rightside_frequency=0),\n",
       " '운': Scores(cohesion_forward=0, cohesion_backward=0, left_branching_entropy=3.9985107374855517, right_branching_entropy=4.340030929745308, left_accessor_variety=283, right_accessor_variety=426, leftside_frequency=7665, rightside_frequency=9614),\n",
       " '힘': Scores(cohesion_forward=0, cohesion_backward=0, left_branching_entropy=3.2692304866699615, right_branching_entropy=2.3221563698042624, left_accessor_variety=82, right_accessor_variety=42, leftside_frequency=2392, rightside_frequency=23),\n",
       " '캉': Scores(cohesion_forward=0, cohesion_backward=0, left_branching_entropy=1.3862943611198906, right_branching_entropy=0.7963116401738131, left_accessor_variety=4, right_accessor_variety=3, leftside_frequency=14, rightside_frequency=7),\n",
       " '업': Scores(cohesion_forward=0, cohesion_backward=0, left_branching_entropy=4.350267705111967, right_branching_entropy=4.423684461941584, left_accessor_variety=287, right_accessor_variety=327, leftside_frequency=5309, rightside_frequency=8609),\n",
       " '록': Scores(cohesion_forward=0, cohesion_backward=0, left_branching_entropy=1.2307953219422008, right_branching_entropy=4.765138687357628, left_accessor_variety=36, right_accessor_variety=325, leftside_frequency=63, rightside_frequency=7378),\n",
       " '핑': Scores(cohesion_forward=0, cohesion_backward=0, left_branching_entropy=2.5576711959642293, right_branching_entropy=3.5225254054684716, left_accessor_variety=39, right_accessor_variety=86, leftside_frequency=272, rightside_frequency=709),\n",
       " '습': Scores(cohesion_forward=0, cohesion_backward=0, left_branching_entropy=3.098381739473433, right_branching_entropy=4.142872911808124, left_accessor_variety=38, right_accessor_variety=111, leftside_frequency=235, rightside_frequency=863),\n",
       " '쪄': Scores(cohesion_forward=0, cohesion_backward=0, left_branching_entropy=0.8305178252872478, right_branching_entropy=-0.0, left_accessor_variety=3, right_accessor_variety=1, leftside_frequency=16, rightside_frequency=0),\n",
       " '뜻': Scores(cohesion_forward=0, cohesion_backward=0, left_branching_entropy=2.306656825145471, right_branching_entropy=2.2951524451184757, left_accessor_variety=51, right_accessor_variety=35, leftside_frequency=1191, rightside_frequency=68),\n",
       " '했': Scores(cohesion_forward=0, cohesion_backward=0, left_branching_entropy=2.6639265032085704, right_branching_entropy=1.3473235441021998, left_accessor_variety=116, right_accessor_variety=20, leftside_frequency=10261, rightside_frequency=0),\n",
       " '찐': Scores(cohesion_forward=0, cohesion_backward=0, left_branching_entropy=0.9839614460010255, right_branching_entropy=0.45056120886630463, left_accessor_variety=3, right_accessor_variety=2, leftside_frequency=15, rightside_frequency=0),\n",
       " '요': Scores(cohesion_forward=0, cohesion_backward=0, left_branching_entropy=4.0406329930308695, right_branching_entropy=4.816214911453993, left_accessor_variety=279, right_accessor_variety=475, leftside_frequency=5424, rightside_frequency=10464),\n",
       " 'ㅠ': Scores(cohesion_forward=0, cohesion_backward=0, left_branching_entropy=-0.0, right_branching_entropy=1.0986122886681096, left_accessor_variety=1, right_accessor_variety=3, leftside_frequency=0, rightside_frequency=10),\n",
       " '엄': Scores(cohesion_forward=0, cohesion_backward=0, left_branching_entropy=3.6376601232965853, right_branching_entropy=2.9414783079938673, left_accessor_variety=114, right_accessor_variety=93, leftside_frequency=2090, rightside_frequency=551),\n",
       " '뼈': Scores(cohesion_forward=0, cohesion_backward=0, left_branching_entropy=3.2255316470702136, right_branching_entropy=2.6812083276192156, left_accessor_variety=32, right_accessor_variety=21, leftside_frequency=137, rightside_frequency=20),\n",
       " '죽': Scores(cohesion_forward=0, cohesion_backward=0, left_branching_entropy=3.557764510222657, right_branching_entropy=2.825781236065877, left_accessor_variety=70, right_accessor_variety=41, leftside_frequency=925, rightside_frequency=125),\n",
       " '뜸': Scores(cohesion_forward=0, cohesion_backward=0, left_branching_entropy=1.3321790402101223, right_branching_entropy=0.5982695885852573, left_accessor_variety=4, right_accessor_variety=2, leftside_frequency=14, rightside_frequency=11),\n",
       " '윈': Scores(cohesion_forward=0, cohesion_backward=0, left_branching_entropy=2.153673907638207, right_branching_entropy=3.0177262750310416, left_accessor_variety=24, right_accessor_variety=30, leftside_frequency=94, rightside_frequency=168),\n",
       " '쎄': Scores(cohesion_forward=0, cohesion_backward=0, left_branching_entropy=0.39830711380528416, right_branching_entropy=0.46203690946645704, left_accessor_variety=2, right_accessor_variety=2, leftside_frequency=19, rightside_frequency=67),\n",
       " '님': Scores(cohesion_forward=0, cohesion_backward=0, left_branching_entropy=2.6651357853852646, right_branching_entropy=3.9579044084385933, left_accessor_variety=22, right_accessor_variety=81, leftside_frequency=41, rightside_frequency=529),\n",
       " '릎': Scores(cohesion_forward=0, cohesion_backward=0, left_branching_entropy=0, right_branching_entropy=1.9602708238644115, left_accessor_variety=0, right_accessor_variety=8, leftside_frequency=0, rightside_frequency=38),\n",
       " '앰': Scores(cohesion_forward=0, cohesion_backward=0, left_branching_entropy=1.366158847569202, right_branching_entropy=-0.0, left_accessor_variety=4, right_accessor_variety=1, leftside_frequency=20, rightside_frequency=0),\n",
       " '립': Scores(cohesion_forward=0, cohesion_backward=0, left_branching_entropy=2.618066827442446, right_branching_entropy=4.217464208042034, left_accessor_variety=20, right_accessor_variety=123, leftside_frequency=56, rightside_frequency=1289),\n",
       " '훅': Scores(cohesion_forward=0, cohesion_backward=0, left_branching_entropy=1.9217150457160537, right_branching_entropy=1.580351101872914, left_accessor_variety=9, right_accessor_variety=6, leftside_frequency=25, rightside_frequency=0),\n",
       " '뤼': Scores(cohesion_forward=0, cohesion_backward=0, left_branching_entropy=1.0851886129676505, right_branching_entropy=1.0586863507541973, left_accessor_variety=3, right_accessor_variety=4, leftside_frequency=21, rightside_frequency=8),\n",
       " '톰': Scores(cohesion_forward=0, cohesion_backward=0, left_branching_entropy=2.7827042711080447, right_branching_entropy=1.7529138177849353, left_accessor_variety=21, right_accessor_variety=8, leftside_frequency=25, rightside_frequency=21),\n",
       " '꾹': Scores(cohesion_forward=0, cohesion_backward=0, left_branching_entropy=1.0281838593329258, right_branching_entropy=1.1570333357787375, left_accessor_variety=3, right_accessor_variety=4, leftside_frequency=17, rightside_frequency=0),\n",
       " '덧': Scores(cohesion_forward=0, cohesion_backward=0, left_branching_entropy=0.9530866719011932, right_branching_entropy=0.43113339542131635, left_accessor_variety=19, right_accessor_variety=13, leftside_frequency=1366, rightside_frequency=67),\n",
       " '근': Scores(cohesion_forward=0, cohesion_backward=0, left_branching_entropy=4.448728269631854, right_branching_entropy=4.848819545161547, left_accessor_variety=204, right_accessor_variety=347, leftside_frequency=3216, rightside_frequency=5955),\n",
       " '갱': Scores(cohesion_forward=0, cohesion_backward=0, left_branching_entropy=2.666371729263472, right_branching_entropy=1.1758582107857134, left_accessor_variety=17, right_accessor_variety=6, leftside_frequency=71, rightside_frequency=16),\n",
       " '흙': Scores(cohesion_forward=0, cohesion_backward=0, left_branching_entropy=2.6297577030464607, right_branching_entropy=1.8908287922697387, left_accessor_variety=17, right_accessor_variety=10, leftside_frequency=117, rightside_frequency=9),\n",
       " '볼': Scores(cohesion_forward=0, cohesion_backward=0, left_branching_entropy=3.735397488491631, right_branching_entropy=2.2255728159765655, left_accessor_variety=104, right_accessor_variety=69, leftside_frequency=906, rightside_frequency=1085),\n",
       " '딥': Scores(cohesion_forward=0, cohesion_backward=0, left_branching_entropy=1.5808185358593017, right_branching_entropy=1.182323923910242, left_accessor_variety=5, right_accessor_variety=4, leftside_frequency=21, rightside_frequency=0),\n",
       " '즌': Scores(cohesion_forward=0, cohesion_backward=0, left_branching_entropy=0.671588715399869, right_branching_entropy=3.869131480732406, left_accessor_variety=2, right_accessor_variety=57, leftside_frequency=0, rightside_frequency=232),\n",
       " '독': Scores(cohesion_forward=0, cohesion_backward=0, left_branching_entropy=3.3578889159151903, right_branching_entropy=3.2218152855105777, left_accessor_variety=174, right_accessor_variety=186, leftside_frequency=5641, rightside_frequency=2126),\n",
       " '런': Scores(cohesion_forward=0, cohesion_backward=0, left_branching_entropy=3.1496944688954365, right_branching_entropy=4.814650008606062, left_accessor_variety=58, right_accessor_variety=281, leftside_frequency=439, rightside_frequency=4620),\n",
       " '직': Scores(cohesion_forward=0, cohesion_backward=0, left_branching_entropy=4.449395160206866, right_branching_entropy=3.551794190189873, left_accessor_variety=279, right_accessor_variety=274, leftside_frequency=7513, rightside_frequency=2641),\n",
       " '핵': Scores(cohesion_forward=0, cohesion_backward=0, left_branching_entropy=3.3125530970939123, right_branching_entropy=2.546021044318482, left_accessor_variety=118, right_accessor_variety=68, leftside_frequency=2184, rightside_frequency=159),\n",
       " '즉': Scores(cohesion_forward=0, cohesion_backward=0, left_branching_entropy=3.513257750869082, right_branching_entropy=2.511117272403658, left_accessor_variety=74, right_accessor_variety=61, leftside_frequency=524, rightside_frequency=0),\n",
       " '윳': Scores(cohesion_forward=0, cohesion_backward=0, left_branching_entropy=-0.0, right_branching_entropy=-0.0, left_accessor_variety=1, right_accessor_variety=1, leftside_frequency=0, rightside_frequency=5),\n",
       " '령': Scores(cohesion_forward=0, cohesion_backward=0, left_branching_entropy=1.0302527872575318, right_branching_entropy=4.4868230075052, left_accessor_variety=23, right_accessor_variety=175, leftside_frequency=0, rightside_frequency=1965),\n",
       " '꿔': Scores(cohesion_forward=0, cohesion_backward=0, left_branching_entropy=1.0986122886681096, right_branching_entropy=2.5825770800649095, left_accessor_variety=3, right_accessor_variety=14, leftside_frequency=6, rightside_frequency=72),\n",
       " '투': Scores(cohesion_forward=0, cohesion_backward=0, left_branching_entropy=4.448325982774902, right_branching_entropy=1.8049767894271314, left_accessor_variety=274, right_accessor_variety=88, leftside_frequency=7218, rightside_frequency=199),\n",
       " '있': Scores(cohesion_forward=0, cohesion_backward=0, left_branching_entropy=1.8610564168601147, right_branching_entropy=1.7426156617276558, left_accessor_variety=170, right_accessor_variety=31, leftside_frequency=82215, rightside_frequency=0),\n",
       " '흰': Scores(cohesion_forward=0, cohesion_backward=0, left_branching_entropy=2.851926782770111, right_branching_entropy=1.7727141312599728, left_accessor_variety=24, right_accessor_variety=11, leftside_frequency=94, rightside_frequency=0),\n",
       " '릭': Scores(cohesion_forward=0, cohesion_backward=0, left_branching_entropy=1.2433810116671173, right_branching_entropy=3.1202647094245184, left_accessor_variety=6, right_accessor_variety=38, leftside_frequency=0, rightside_frequency=243),\n",
       " '으': Scores(cohesion_forward=0, cohesion_backward=0, left_branching_entropy=4.876317727027191, right_branching_entropy=0.1735717363274763, left_accessor_variety=202, right_accessor_variety=5, leftside_frequency=1714, rightside_frequency=6),\n",
       " '훤': Scores(cohesion_forward=0, cohesion_backward=0, left_branching_entropy=1.2181950724180413, right_branching_entropy=0.6829081047004717, left_accessor_variety=4, right_accessor_variety=2, leftside_frequency=28, rightside_frequency=0),\n",
       " '팸': Scores(cohesion_forward=0, cohesion_backward=0, left_branching_entropy=1.519382664642301, right_branching_entropy=0.6365141682948128, left_accessor_variety=5, right_accessor_variety=2, leftside_frequency=16, rightside_frequency=0),\n",
       " '붉': Scores(cohesion_forward=0, cohesion_backward=0, left_branching_entropy=3.1803308205415988, right_branching_entropy=0.9921395174320141, left_accessor_variety=32, right_accessor_variety=6, leftside_frequency=241, rightside_frequency=0),\n",
       " '식': Scores(cohesion_forward=0, cohesion_backward=0, left_branching_entropy=4.760008317060322, right_branching_entropy=4.970670171120141, left_accessor_variety=271, right_accessor_variety=341, leftside_frequency=2861, rightside_frequency=5208),\n",
       " '느': Scores(cohesion_forward=0, cohesion_backward=0, left_branching_entropy=3.0779608845989745, right_branching_entropy=2.719021792190262, left_accessor_variety=75, right_accessor_variety=65, leftside_frequency=2368, rightside_frequency=928),\n",
       " '급': Scores(cohesion_forward=0, cohesion_backward=0, left_branching_entropy=4.176220974859222, right_branching_entropy=4.817111895066352, left_accessor_variety=157, right_accessor_variety=277, leftside_frequency=1915, rightside_frequency=3055),\n",
       " '혀': Scores(cohesion_forward=0, cohesion_backward=0, left_branching_entropy=1.6934449658569768, right_branching_entropy=3.959341704691131, left_accessor_variety=7, right_accessor_variety=113, leftside_frequency=35, rightside_frequency=1061),\n",
       " '놓': Scores(cohesion_forward=0, cohesion_backward=0, left_branching_entropy=2.481156913556689, right_branching_entropy=2.151447442299002, left_accessor_variety=43, right_accessor_variety=19, leftside_frequency=1295, rightside_frequency=0),\n",
       " '샅': Scores(cohesion_forward=0, cohesion_backward=0, left_branching_entropy=1.0608569471580214, right_branching_entropy=-0.0, left_accessor_variety=3, right_accessor_variety=1, leftside_frequency=12, rightside_frequency=0),\n",
       " '훗': Scores(cohesion_forward=0, cohesion_backward=0, left_branching_entropy=1.0789922078775833, right_branching_entropy=-0.0, left_accessor_variety=3, right_accessor_variety=1, leftside_frequency=13, rightside_frequency=0),\n",
       " '핥': Scores(cohesion_forward=0, cohesion_backward=0, left_branching_entropy=-0.0, right_branching_entropy=0, left_accessor_variety=1, right_accessor_variety=0, leftside_frequency=5, rightside_frequency=0),\n",
       " '존': Scores(cohesion_forward=0, cohesion_backward=0, left_branching_entropy=3.7270061501821155, right_branching_entropy=4.05200210391963, left_accessor_variety=107, right_accessor_variety=219, leftside_frequency=1429, rightside_frequency=1893),\n",
       " '챙': Scores(cohesion_forward=0, cohesion_backward=0, left_branching_entropy=2.449220886869158, right_branching_entropy=1.405877951833474, left_accessor_variety=34, right_accessor_variety=5, leftside_frequency=741, rightside_frequency=0),\n",
       " '킴': Scores(cohesion_forward=0, cohesion_backward=0, left_branching_entropy=1.0397207708399179, right_branching_entropy=-0.0, left_accessor_variety=3, right_accessor_variety=1, leftside_frequency=5, rightside_frequency=7),\n",
       " '첩': Scores(cohesion_forward=0, cohesion_backward=0, left_branching_entropy=2.332796443546033, right_branching_entropy=1.688318412003283, left_accessor_variety=20, right_accessor_variety=16, leftside_frequency=106, rightside_frequency=113),\n",
       " '픔': Scores(cohesion_forward=0, cohesion_backward=0, left_branching_entropy=0, right_branching_entropy=1.268500668586879, left_accessor_variety=0, right_accessor_variety=5, leftside_frequency=0, rightside_frequency=55),\n",
       " '뺐': Scores(cohesion_forward=0, cohesion_backward=0, left_branching_entropy=1.4263010621165084, right_branching_entropy=-0.0, left_accessor_variety=5, right_accessor_variety=1, leftside_frequency=27, rightside_frequency=0),\n",
       " '컨': Scores(cohesion_forward=0, cohesion_backward=0, left_branching_entropy=4.095142853085928, right_branching_entropy=2.529502119721898, left_accessor_variety=110, right_accessor_variety=29, leftside_frequency=1259, rightside_frequency=59),\n",
       " '툴': Scores(cohesion_forward=0, cohesion_backward=0, left_branching_entropy=1.3321790402101223, right_branching_entropy=-0.0, left_accessor_variety=4, right_accessor_variety=1, leftside_frequency=20, rightside_frequency=0),\n",
       " '탕': Scores(cohesion_forward=0, cohesion_backward=0, left_branching_entropy=2.6400228447724614, right_branching_entropy=3.457480635907568, left_accessor_variety=22, right_accessor_variety=44, leftside_frequency=60, rightside_frequency=231),\n",
       " '데': Scores(cohesion_forward=0, cohesion_backward=0, left_branching_entropy=2.7599574302595724, right_branching_entropy=4.817224890635303, left_accessor_variety=214, right_accessor_variety=462, leftside_frequency=3873, rightside_frequency=11308),\n",
       " '숭': Scores(cohesion_forward=0, cohesion_backward=0, left_branching_entropy=2.094357195990088, right_branching_entropy=1.2980509016891126, left_accessor_variety=9, right_accessor_variety=4, leftside_frequency=45, rightside_frequency=0),\n",
       " '오': Scores(cohesion_forward=0, cohesion_backward=0, left_branching_entropy=3.7083224124461798, right_branching_entropy=3.457229068014071, left_accessor_variety=428, right_accessor_variety=358, leftside_frequency=32830, rightside_frequency=2382),\n",
       " '걔': Scores(cohesion_forward=0, cohesion_backward=0, left_branching_entropy=1.5740973368489728, right_branching_entropy=-0.0, left_accessor_variety=5, right_accessor_variety=1, leftside_frequency=16, rightside_frequency=0),\n",
       " '긋': Scores(cohesion_forward=0, cohesion_backward=0, left_branching_entropy=0.9719549721204945, right_branching_entropy=1.760452131916402, left_accessor_variety=3, right_accessor_variety=7, leftside_frequency=32, rightside_frequency=37),\n",
       " '퍼': Scores(cohesion_forward=0, cohesion_backward=0, left_branching_entropy=4.008964619602384, right_branching_entropy=3.748020818218094, left_accessor_variety=96, right_accessor_variety=91, leftside_frequency=886, rightside_frequency=568),\n",
       " '쉰': Scores(cohesion_forward=0, cohesion_backward=0, left_branching_entropy=0.6931471805599453, right_branching_entropy=-0.0, left_accessor_variety=2, right_accessor_variety=1, leftside_frequency=5, rightside_frequency=0),\n",
       " '떡': Scores(cohesion_forward=0, cohesion_backward=0, left_branching_entropy=2.9154091521402448, right_branching_entropy=2.6954619637728316, left_accessor_variety=23, right_accessor_variety=20, leftside_frequency=97, rightside_frequency=29),\n",
       " '잦': Scores(cohesion_forward=0, cohesion_backward=0, left_branching_entropy=2.1836035027803793, right_branching_entropy=1.2697452544765433, left_accessor_variety=16, right_accessor_variety=5, leftside_frequency=135, rightside_frequency=0),\n",
       " 'ㅣ': Scores(cohesion_forward=0, cohesion_backward=0, left_branching_entropy=0.6922017029622767, right_branching_entropy=0.6922017029622767, left_accessor_variety=2, right_accessor_variety=2, leftside_frequency=12, rightside_frequency=0),\n",
       " '뀔': Scores(cohesion_forward=0, cohesion_backward=0, left_branching_entropy=0, right_branching_entropy=1.1078758665006603, left_accessor_variety=0, right_accessor_variety=4, leftside_frequency=0, rightside_frequency=42),\n",
       " '악': Scores(cohesion_forward=0, cohesion_backward=0, left_branching_entropy=4.035168771620875, right_branching_entropy=3.697743866282835, left_accessor_variety=126, right_accessor_variety=106, leftside_frequency=1686, rightside_frequency=568),\n",
       " '릴': Scores(cohesion_forward=0, cohesion_backward=0, left_branching_entropy=2.8661246517414654, right_branching_entropy=2.799624131005387, left_accessor_variety=29, right_accessor_variety=71, leftside_frequency=78, rightside_frequency=1391),\n",
       " '낌': Scores(cohesion_forward=0, cohesion_backward=0, left_branching_entropy=0.6615632381579821, right_branching_entropy=1.7163316357961729, left_accessor_variety=2, right_accessor_variety=7, leftside_frequency=0, rightside_frequency=51),\n",
       " '궁': Scores(cohesion_forward=0, cohesion_backward=0, left_branching_entropy=3.276724873632513, right_branching_entropy=1.9209247908672102, left_accessor_variety=59, right_accessor_variety=46, leftside_frequency=834, rightside_frequency=180),\n",
       " '발': Scores(cohesion_forward=0, cohesion_backward=0, left_branching_entropy=4.223458756919811, right_branching_entropy=3.650136499499944, left_accessor_variety=349, right_accessor_variety=299, leftside_frequency=18506, rightside_frequency=2651),\n",
       " '붙': Scores(cohesion_forward=0, cohesion_backward=0, left_branching_entropy=2.6169068566988227, right_branching_entropy=2.0291613986226777, left_accessor_variety=46, right_accessor_variety=17, leftside_frequency=1381, rightside_frequency=0),\n",
       " '짧': Scores(cohesion_forward=0, cohesion_backward=0, left_branching_entropy=3.2892543804231846, right_branching_entropy=1.5907577032106837, left_accessor_variety=44, right_accessor_variety=7, leftside_frequency=346, rightside_frequency=0),\n",
       " '겐': Scores(cohesion_forward=0, cohesion_backward=0, left_branching_entropy=1.2049389384933378, right_branching_entropy=3.696248215465171, left_accessor_variety=10, right_accessor_variety=66, leftside_frequency=16, rightside_frequency=463),\n",
       " '헤': Scores(cohesion_forward=0, cohesion_backward=0, left_branching_entropy=2.5884432855981143, right_branching_entropy=1.4126818501889284, left_accessor_variety=148, right_accessor_variety=22, leftside_frequency=5427, rightside_frequency=0),\n",
       " '뼛': Scores(cohesion_forward=0, cohesion_backward=0, left_branching_entropy=1.0608569471580214, right_branching_entropy=1.0733942812811266, left_accessor_variety=3, right_accessor_variety=3, leftside_frequency=10, rightside_frequency=0),\n",
       " '꼴': Scores(cohesion_forward=0, cohesion_backward=0, left_branching_entropy=2.4772703208189117, right_branching_entropy=1.8862782414710582, left_accessor_variety=19, right_accessor_variety=9, leftside_frequency=117, rightside_frequency=17),\n",
       " '똘': Scores(cohesion_forward=0, cohesion_backward=0, left_branching_entropy=1.503784216310665, right_branching_entropy=1.2898846423346142, left_accessor_variety=7, right_accessor_variety=4, leftside_frequency=45, rightside_frequency=19),\n",
       " '쿤': Scores(cohesion_forward=0, cohesion_backward=0, left_branching_entropy=-0.0, right_branching_entropy=0.4293230219306162, left_accessor_variety=1, right_accessor_variety=2, leftside_frequency=13, rightside_frequency=0),\n",
       " '촬': Scores(cohesion_forward=0, cohesion_backward=0, left_branching_entropy=3.89756594771978, right_branching_entropy=0.007206354046472892, left_accessor_variety=107, right_accessor_variety=2, leftside_frequency=2222, rightside_frequency=0),\n",
       " '릿': Scores(cohesion_forward=0, cohesion_backward=0, left_branching_entropy=1.9313071951746892, right_branching_entropy=3.013295599848297, left_accessor_variety=9, right_accessor_variety=25, leftside_frequency=15, rightside_frequency=151),\n",
       " '셔': Scores(cohesion_forward=0, cohesion_backward=0, left_branching_entropy=3.0718911192323937, right_branching_entropy=1.7023256053734561, left_accessor_variety=30, right_accessor_variety=13, leftside_frequency=208, rightside_frequency=49),\n",
       " 'ㄱ': Scores(cohesion_forward=0, cohesion_backward=0, left_branching_entropy=2.346369973608594, right_branching_entropy=0.9047375866915452, left_accessor_variety=16, right_accessor_variety=5, leftside_frequency=86, rightside_frequency=0),\n",
       " '켈': Scores(cohesion_forward=0, cohesion_backward=0, left_branching_entropy=1.6540948935617488, right_branching_entropy=1.7477427366100906, left_accessor_variety=10, right_accessor_variety=6, leftside_frequency=64, rightside_frequency=70),\n",
       " '꼈': Scores(cohesion_forward=0, cohesion_backward=0, left_branching_entropy=-0.0, right_branching_entropy=-0.0, left_accessor_variety=1, right_accessor_variety=1, leftside_frequency=10, rightside_frequency=0),\n",
       " '뽀': Scores(cohesion_forward=0, cohesion_backward=0, left_branching_entropy=2.55243571821447, right_branching_entropy=1.2045652207446214, left_accessor_variety=19, right_accessor_variety=5, leftside_frequency=153, rightside_frequency=11),\n",
       " '봇': Scores(cohesion_forward=0, cohesion_backward=0, left_branching_entropy=1.7314831169335037, right_branching_entropy=2.6563542985185364, left_accessor_variety=7, right_accessor_variety=42, leftside_frequency=42, rightside_frequency=405),\n",
       " '볶': Scores(cohesion_forward=0, cohesion_backward=0, left_branching_entropy=1.5171644007380944, right_branching_entropy=0.6869615765973234, left_accessor_variety=6, right_accessor_variety=2, leftside_frequency=43, rightside_frequency=0),\n",
       " '턴': Scores(cohesion_forward=0, cohesion_backward=0, left_branching_entropy=1.4340412117202102, right_branching_entropy=3.6376032788330153, left_accessor_variety=18, right_accessor_variety=107, leftside_frequency=22, rightside_frequency=1778),\n",
       " '는': Scores(cohesion_forward=0, cohesion_backward=0, left_branching_entropy=4.020761321560399, right_branching_entropy=5.338319520045778, left_accessor_variety=485, right_accessor_variety=912, leftside_frequency=15, rightside_frequency=221627),\n",
       " '댕': Scores(cohesion_forward=0, cohesion_backward=0, left_branching_entropy=0, right_branching_entropy=1.3862943611198906, left_accessor_variety=0, right_accessor_variety=4, leftside_frequency=0, rightside_frequency=10),\n",
       " '밧': Scores(cohesion_forward=0, cohesion_backward=0, left_branching_entropy=1.0986122886681096, right_branching_entropy=-0.0, left_accessor_variety=3, right_accessor_variety=1, leftside_frequency=13, rightside_frequency=0),\n",
       " '랑': Scores(cohesion_forward=0, cohesion_backward=0, left_branching_entropy=2.405323529874346, right_branching_entropy=4.530181791171692, left_accessor_variety=26, right_accessor_variety=153, leftside_frequency=21, rightside_frequency=1238),\n",
       " '쏟': Scores(cohesion_forward=0, cohesion_backward=0, left_branching_entropy=1.8899895431577094, right_branching_entropy=0.8448872967632006, left_accessor_variety=23, right_accessor_variety=8, leftside_frequency=658, rightside_frequency=0),\n",
       " '6': Scores(cohesion_forward=0, cohesion_backward=0, left_branching_entropy=3.3268905938141087, right_branching_entropy=3.6755493725769277, left_accessor_variety=322, right_accessor_variety=289, leftside_frequency=10912, rightside_frequency=14123),\n",
       " '승': Scores(cohesion_forward=0, cohesion_backward=0, left_branching_entropy=4.27735689445599, right_branching_entropy=3.5302137010765007, left_accessor_variety=184, right_accessor_variety=127, leftside_frequency=3292, rightside_frequency=982),\n",
       " '룸': Scores(cohesion_forward=0, cohesion_backward=0, left_branching_entropy=2.1242342025454977, right_branching_entropy=3.3472874509058124, left_accessor_variety=14, right_accessor_variety=37, leftside_frequency=22, rightside_frequency=200),\n",
       " '견': Scores(cohesion_forward=0, cohesion_backward=0, left_branching_entropy=3.1852210944420496, right_branching_entropy=3.9079786652501722, left_accessor_variety=77, right_accessor_variety=114, leftside_frequency=881, rightside_frequency=936),\n",
       " '종': Scores(cohesion_forward=0, cohesion_backward=0, left_branching_entropy=4.83734087324173, right_branching_entropy=4.32167200827628, left_accessor_variety=290, right_accessor_variety=289, leftside_frequency=4945, rightside_frequency=3666),\n",
       " '옌': Scores(cohesion_forward=0, cohesion_backward=0, left_branching_entropy=1.6316114152390961, right_branching_entropy=1.6867131093625845, left_accessor_variety=7, right_accessor_variety=7, leftside_frequency=42, rightside_frequency=18),\n",
       " '놈': Scores(cohesion_forward=0, cohesion_backward=0, left_branching_entropy=1.376296669010684, right_branching_entropy=1.6265314412473462, left_accessor_variety=7, right_accessor_variety=10, leftside_frequency=78, rightside_frequency=20),\n",
       " '결': Scores(cohesion_forward=0, cohesion_backward=0, left_branching_entropy=4.262435150235743, right_branching_entropy=2.6451604321708517, left_accessor_variety=267, right_accessor_variety=145, leftside_frequency=10682, rightside_frequency=784),\n",
       " '걸': Scores(cohesion_forward=0, cohesion_backward=0, left_branching_entropy=3.3906281188320806, right_branching_entropy=3.459232377887463, left_accessor_variety=130, right_accessor_variety=171, leftside_frequency=3926, rightside_frequency=333),\n",
       " '롬': Scores(cohesion_forward=0, cohesion_backward=0, left_branching_entropy=1.2217235872048113, right_branching_entropy=2.232253637202622, left_accessor_variety=5, right_accessor_variety=14, leftside_frequency=8, rightside_frequency=77),\n",
       " '젓': Scores(cohesion_forward=0, cohesion_backward=0, left_branching_entropy=0.6931471805599453, right_branching_entropy=-0.0, left_accessor_variety=2, right_accessor_variety=1, leftside_frequency=14, rightside_frequency=0),\n",
       " '늑': Scores(cohesion_forward=0, cohesion_backward=0, left_branching_entropy=2.0725239149922294, right_branching_entropy=1.077513464358952, left_accessor_variety=10, right_accessor_variety=3, leftside_frequency=67, rightside_frequency=0),\n",
       " '댄': Scores(cohesion_forward=0, cohesion_backward=0, left_branching_entropy=3.4564209860514516, right_branching_entropy=1.428771500707809, left_accessor_variety=41, right_accessor_variety=11, leftside_frequency=247, rightside_frequency=54),\n",
       " '때': Scores(cohesion_forward=0, cohesion_backward=0, left_branching_entropy=2.900402012209585, right_branching_entropy=3.143889285306355, left_accessor_variety=286, right_accessor_variety=359, leftside_frequency=9788, rightside_frequency=786),\n",
       " '얌': Scores(cohesion_forward=0, cohesion_backward=0, left_branching_entropy=-0.0, right_branching_entropy=-0.0, left_accessor_variety=1, right_accessor_variety=1, leftside_frequency=9, rightside_frequency=0),\n",
       " '쾅': Scores(cohesion_forward=0, cohesion_backward=0, left_branching_entropy=-0.0, right_branching_entropy=0.6931471805599453, left_accessor_variety=1, right_accessor_variety=2, leftside_frequency=5, rightside_frequency=0),\n",
       " '읊': Scores(cohesion_forward=0, cohesion_backward=0, left_branching_entropy=1.612343738151216, right_branching_entropy=0.4253282933732617, left_accessor_variety=7, right_accessor_variety=2, leftside_frequency=40, rightside_frequency=0),\n",
       " '억': Scores(cohesion_forward=0, cohesion_backward=0, left_branching_entropy=3.446203535339834, right_branching_entropy=2.9147595972909244, left_accessor_variety=95, right_accessor_variety=92, leftside_frequency=933, rightside_frequency=2264),\n",
       " '랫': Scores(cohesion_forward=0, cohesion_backward=0, left_branching_entropy=-0.0, right_branching_entropy=0.6730116670092565, left_accessor_variety=1, right_accessor_variety=2, leftside_frequency=0, rightside_frequency=5),\n",
       " '맙': Scores(cohesion_forward=0, cohesion_backward=0, left_branching_entropy=-0.0, right_branching_entropy=-0.0, left_accessor_variety=1, right_accessor_variety=1, leftside_frequency=5, rightside_frequency=0),\n",
       " '벚': Scores(cohesion_forward=0, cohesion_backward=0, left_branching_entropy=-0.0, right_branching_entropy=-0.0, left_accessor_variety=1, right_accessor_variety=1, leftside_frequency=7, rightside_frequency=0),\n",
       " '리': Scores(cohesion_forward=0, cohesion_backward=0, left_branching_entropy=4.140770748103787, right_branching_entropy=5.205298614857228, left_accessor_variety=381, right_accessor_variety=618, leftside_frequency=5728, rightside_frequency=21943),\n",
       " '은': Scores(cohesion_forward=0, cohesion_backward=0, left_branching_entropy=5.095567542092186, right_branching_entropy=5.412078704825194, left_accessor_variety=829, right_accessor_variety=880, leftside_frequency=2513, rightside_frequency=114963),\n",
       " '푸': Scores(cohesion_forward=0, cohesion_backward=0, left_branching_entropy=3.5896131379535063, right_branching_entropy=2.333409602225386, left_accessor_variety=84, right_accessor_variety=26, leftside_frequency=934, rightside_frequency=45),\n",
       " '혹': Scores(cohesion_forward=0, cohesion_backward=0, left_branching_entropy=4.0835118561139545, right_branching_entropy=3.2577209374364413, left_accessor_variety=86, right_accessor_variety=78, leftside_frequency=519, rightside_frequency=823),\n",
       " '맺': Scores(cohesion_forward=0, cohesion_backward=0, left_branching_entropy=1.2781268253588385, right_branching_entropy=2.0972296770751484, left_accessor_variety=15, right_accessor_variety=14, leftside_frequency=523, rightside_frequency=0),\n",
       " '카': Scores(cohesion_forward=0, cohesion_backward=0, left_branching_entropy=4.588979731647801, right_branching_entropy=3.6957563919113343, left_accessor_variety=267, right_accessor_variety=164, leftside_frequency=4082, rightside_frequency=979),\n",
       " '튈': Scores(cohesion_forward=0, cohesion_backward=0, left_branching_entropy=0.34883209584303193, right_branching_entropy=0.5272997580716339, left_accessor_variety=2, right_accessor_variety=3, leftside_frequency=29, rightside_frequency=0),\n",
       " '뽑': Scores(cohesion_forward=0, cohesion_backward=0, left_branching_entropy=2.36180391690655, right_branching_entropy=2.1403801827734474, left_accessor_variety=25, right_accessor_variety=13, leftside_frequency=427, rightside_frequency=0),\n",
       " '색': Scores(cohesion_forward=0, cohesion_backward=0, left_branching_entropy=4.067952824710005, right_branching_entropy=3.9212533328234254, left_accessor_variety=113, right_accessor_variety=168, leftside_frequency=930, rightside_frequency=1087),\n",
       " '행': Scores(cohesion_forward=0, cohesion_backward=0, left_branching_entropy=4.445568392913443, right_branching_entropy=3.7889586242048154, left_accessor_variety=294, right_accessor_variety=280, leftside_frequency=7910, rightside_frequency=5359),\n",
       " '낳': Scores(cohesion_forward=0, cohesion_backward=0, left_branching_entropy=1.6483388716244822, right_branching_entropy=1.7798700937812086, left_accessor_variety=17, right_accessor_variety=8, leftside_frequency=342, rightside_frequency=0),\n",
       " '뭇': Scores(cohesion_forward=0, cohesion_backward=0, left_branching_entropy=0.6837389058487535, right_branching_entropy=1.0591434127615207, left_accessor_variety=3, right_accessor_variety=4, leftside_frequency=20, rightside_frequency=22),\n",
       " '후': Scores(cohesion_forward=0, cohesion_backward=0, left_branching_entropy=4.707928753919462, right_branching_entropy=4.5512182396777705, left_accessor_variety=299, right_accessor_variety=473, leftside_frequency=5718, rightside_frequency=13703),\n",
       " '빙': Scores(cohesion_forward=0, cohesion_backward=0, left_branching_entropy=2.589178378351264, right_branching_entropy=2.810504521622926, left_accessor_variety=20, right_accessor_variety=31, leftside_frequency=160, rightside_frequency=134),\n",
       " '레': Scores(cohesion_forward=0, cohesion_backward=0, left_branching_entropy=4.425802923593952, right_branching_entropy=3.790015118357076, left_accessor_variety=193, right_accessor_variety=166, leftside_frequency=2195, rightside_frequency=793),\n",
       " '포': Scores(cohesion_forward=0, cohesion_backward=0, left_branching_entropy=2.0713939272959485, right_branching_entropy=1.8711135109644463, left_accessor_variety=281, right_accessor_variety=212, leftside_frequency=9491, rightside_frequency=20931),\n",
       " '옮': Scores(cohesion_forward=0, cohesion_backward=0, left_branching_entropy=1.791147475414411, right_branching_entropy=1.3610171742564012, left_accessor_variety=28, right_accessor_variety=6, leftside_frequency=692, rightside_frequency=0),\n",
       " '꽂': Scores(cohesion_forward=0, cohesion_backward=0, left_branching_entropy=1.7049838022495345, right_branching_entropy=1.9090097005068012, left_accessor_variety=7, right_accessor_variety=7, leftside_frequency=51, rightside_frequency=0),\n",
       " '내': Scores(cohesion_forward=0, cohesion_backward=0, left_branching_entropy=4.374942590034393, right_branching_entropy=4.677259334057606, left_accessor_variety=386, right_accessor_variety=496, leftside_frequency=17265, rightside_frequency=5860),\n",
       " '빕': Scores(cohesion_forward=0, cohesion_backward=0, left_branching_entropy=-0.0, right_branching_entropy=-0.0, left_accessor_variety=1, right_accessor_variety=1, leftside_frequency=12, rightside_frequency=0),\n",
       " '였': Scores(cohesion_forward=0, cohesion_backward=0, left_branching_entropy=3.191149894803107, right_branching_entropy=1.2942436830847708, left_accessor_variety=39, right_accessor_variety=8, leftside_frequency=334, rightside_frequency=0),\n",
       " '7': Scores(cohesion_forward=0, cohesion_backward=0, left_branching_entropy=3.895104405755951, right_branching_entropy=3.988358490748388, left_accessor_variety=262, right_accessor_variety=284, leftside_frequency=12450, rightside_frequency=6537),\n",
       " '끌': Scores(cohesion_forward=0, cohesion_backward=0, left_branching_entropy=1.5370517912090855, right_branching_entropy=1.6827721132329554, left_accessor_variety=33, right_accessor_variety=21, leftside_frequency=1480, rightside_frequency=62),\n",
       " '윰': Scores(cohesion_forward=0, cohesion_backward=0, left_branching_entropy=0.6829081047004717, right_branching_entropy=-0.0, left_accessor_variety=2, right_accessor_variety=1, leftside_frequency=18, rightside_frequency=0),\n",
       " '담': Scores(cohesion_forward=0, cohesion_backward=0, left_branching_entropy=3.314146802765448, right_branching_entropy=3.4964377053450066, left_accessor_variety=157, right_accessor_variety=154, leftside_frequency=4174, rightside_frequency=954),\n",
       " '안': Scores(cohesion_forward=0, cohesion_backward=0, left_branching_entropy=4.603684773228646, right_branching_entropy=4.923443490893544, left_accessor_variety=404, right_accessor_variety=508, leftside_frequency=11569, rightside_frequency=6382),\n",
       " '왓': Scores(cohesion_forward=0, cohesion_backward=0, left_branching_entropy=0.6829081047004717, right_branching_entropy=0.5623351446188083, left_accessor_variety=2, right_accessor_variety=2, leftside_frequency=15, rightside_frequency=0),\n",
       " '웹': Scores(cohesion_forward=0, cohesion_backward=0, left_branching_entropy=2.814678788231896, right_branching_entropy=1.190184669136238, left_accessor_variety=56, right_accessor_variety=19, leftside_frequency=705, rightside_frequency=0),\n",
       " '렛': Scores(cohesion_forward=0, cohesion_backward=0, left_branching_entropy=1.7916722109790781, right_branching_entropy=1.4505171149685263, left_accessor_variety=8, right_accessor_variety=18, leftside_frequency=28, rightside_frequency=313),\n",
       " '봤': Scores(cohesion_forward=0, cohesion_backward=0, left_branching_entropy=2.589302649788396, right_branching_entropy=1.7070968382443283, left_accessor_variety=26, right_accessor_variety=11, leftside_frequency=487, rightside_frequency=0),\n",
       " '휘': Scores(cohesion_forward=0, cohesion_backward=0, left_branching_entropy=3.3198491127004828, right_branching_entropy=2.9392191718542047, left_accessor_variety=48, right_accessor_variety=32, leftside_frequency=488, rightside_frequency=97),\n",
       " '껌': Scores(cohesion_forward=0, cohesion_backward=0, left_branching_entropy=1.0986122886681096, right_branching_entropy=0, left_accessor_variety=3, right_accessor_variety=0, leftside_frequency=7, rightside_frequency=0),\n",
       " '썸': Scores(cohesion_forward=0, cohesion_backward=0, left_branching_entropy=1.2242760806791007, right_branching_entropy=1.4987266013429603, left_accessor_variety=5, right_accessor_variety=6, leftside_frequency=46, rightside_frequency=7),\n",
       " '츠': Scores(cohesion_forward=0, cohesion_backward=0, left_branching_entropy=0.8667697137704343, right_branching_entropy=3.679030434386326, left_accessor_variety=15, right_accessor_variety=150, leftside_frequency=0, rightside_frequency=3208),\n",
       " '띕': Scores(cohesion_forward=0, cohesion_backward=0, left_branching_entropy=-0.0, right_branching_entropy=-0.0, left_accessor_variety=1, right_accessor_variety=1, leftside_frequency=5, rightside_frequency=0),\n",
       " '낀': Scores(cohesion_forward=0, cohesion_backward=0, left_branching_entropy=1.642582732698203, right_branching_entropy=2.595188835244782, left_accessor_variety=6, right_accessor_variety=17, leftside_frequency=0, rightside_frequency=59),\n",
       " '징': Scores(cohesion_forward=0, cohesion_backward=0, left_branching_entropy=3.522806217260497, right_branching_entropy=2.6935297294686245, left_accessor_variety=79, right_accessor_variety=69, leftside_frequency=1095, rightside_frequency=461),\n",
       " '콧': Scores(cohesion_forward=0, cohesion_backward=0, left_branching_entropy=0.9791019190315775, right_branching_entropy=2.562225499701443, left_accessor_variety=6, right_accessor_variety=15, leftside_frequency=17, rightside_frequency=62),\n",
       " '옷': Scores(cohesion_forward=0, cohesion_backward=0, left_branching_entropy=3.111849527066072, right_branching_entropy=2.364765373302861, left_accessor_variety=45, right_accessor_variety=28, leftside_frequency=424, rightside_frequency=19),\n",
       " '좁': Scores(cohesion_forward=0, cohesion_backward=0, left_branching_entropy=2.6713583877016407, right_branching_entropy=1.7263163145812668, left_accessor_variety=23, right_accessor_variety=9, leftside_frequency=219, rightside_frequency=0),\n",
       " '돕': Scores(cohesion_forward=0, cohesion_backward=0, left_branching_entropy=1.5228821284555543, right_branching_entropy=1.1196494598471982, left_accessor_variety=14, right_accessor_variety=4, leftside_frequency=459, rightside_frequency=0),\n",
       " '쉼': Scores(cohesion_forward=0, cohesion_backward=0, left_branching_entropy=2.017807238354768, right_branching_entropy=0.8533473664281028, left_accessor_variety=8, right_accessor_variety=3, leftside_frequency=40, rightside_frequency=0),\n",
       " '쫴': Scores(cohesion_forward=0, cohesion_backward=0, left_branching_entropy=-0.0, right_branching_entropy=-0.0, left_accessor_variety=1, right_accessor_variety=1, leftside_frequency=7, rightside_frequency=0),\n",
       " '섹': Scores(cohesion_forward=0, cohesion_backward=0, left_branching_entropy=2.9924872579806765, right_branching_entropy=0.8788947371590308, left_accessor_variety=32, right_accessor_variety=4, leftside_frequency=386, rightside_frequency=0),\n",
       " '솜': Scores(cohesion_forward=0, cohesion_backward=0, left_branching_entropy=2.644923270050158, right_branching_entropy=1.302048601229707, left_accessor_variety=16, right_accessor_variety=5, leftside_frequency=70, rightside_frequency=0),\n",
       " '텐': Scores(cohesion_forward=0, cohesion_backward=0, left_branching_entropy=2.5140239233162855, right_branching_entropy=1.2133240305479756, left_accessor_variety=34, right_accessor_variety=17, leftside_frequency=698, rightside_frequency=59),\n",
       " '짠': Scores(cohesion_forward=0, cohesion_backward=0, left_branching_entropy=2.4892003043604225, right_branching_entropy=1.5527108299421897, left_accessor_variety=14, right_accessor_variety=6, leftside_frequency=45, rightside_frequency=0),\n",
       " '겸': Scores(cohesion_forward=0, cohesion_backward=0, left_branching_entropy=2.7611093455004005, right_branching_entropy=3.1379512810631938, left_accessor_variety=45, right_accessor_variety=53, leftside_frequency=241, rightside_frequency=68),\n",
       " '류': Scores(cohesion_forward=0, cohesion_backward=0, left_branching_entropy=3.629429171237337, right_branching_entropy=4.718969327318339, left_accessor_variety=77, right_accessor_variety=182, leftside_frequency=518, rightside_frequency=1527),\n",
       " '자': Scores(cohesion_forward=0, cohesion_backward=0, left_branching_entropy=4.507663308502377, right_branching_entropy=5.077530223789471, left_accessor_variety=588, right_accessor_variety=723, leftside_frequency=27549, rightside_frequency=60324),\n",
       " '잉': Scores(cohesion_forward=0, cohesion_backward=0, left_branching_entropy=2.7744603816409192, right_branching_entropy=3.0730193249137825, left_accessor_variety=24, right_accessor_variety=35, leftside_frequency=98, rightside_frequency=184),\n",
       " '축': Scores(cohesion_forward=0, cohesion_backward=0, left_branching_entropy=4.150306428145457, right_branching_entropy=3.3080464039687807, left_accessor_variety=155, right_accessor_variety=128, leftside_frequency=2199, rightside_frequency=897),\n",
       " '잎': Scores(cohesion_forward=0, cohesion_backward=0, left_branching_entropy=1.7369859994643584, right_branching_entropy=1.432130700870712, left_accessor_variety=11, right_accessor_variety=8, leftside_frequency=38, rightside_frequency=79),\n",
       " '본': Scores(cohesion_forward=0, cohesion_backward=0, left_branching_entropy=4.283955267711017, right_branching_entropy=4.307709824041266, left_accessor_variety=236, right_accessor_variety=294, leftside_frequency=4820, rightside_frequency=3268),\n",
       " '방': Scores(cohesion_forward=0, cohesion_backward=0, left_branching_entropy=4.4749671236450315, right_branching_entropy=3.15607898653446, left_accessor_variety=407, right_accessor_variety=273, leftside_frequency=20132, rightside_frequency=1750),\n",
       " '짰': Scores(cohesion_forward=0, cohesion_backward=0, left_branching_entropy=0.5623351446188083, right_branching_entropy=-0.0, left_accessor_variety=2, right_accessor_variety=1, leftside_frequency=9, rightside_frequency=0),\n",
       " '먼': Scores(cohesion_forward=0, cohesion_backward=0, left_branching_entropy=3.155515290737338, right_branching_entropy=1.5021249978867752, left_accessor_variety=59, right_accessor_variety=45, leftside_frequency=1231, rightside_frequency=288),\n",
       " '대': Scores(cohesion_forward=0, cohesion_backward=0, left_branching_entropy=4.415417319433385, right_branching_entropy=4.178017041099697, left_accessor_variety=661, right_accessor_variety=581, leftside_frequency=69386, rightside_frequency=15369),\n",
       " '싹': Scores(cohesion_forward=0, cohesion_backward=0, left_branching_entropy=2.266430442564339, right_branching_entropy=1.6950866149748023, left_accessor_variety=11, right_accessor_variety=8, leftside_frequency=50, rightside_frequency=29),\n",
       " '촌': Scores(cohesion_forward=0, cohesion_backward=0, left_branching_entropy=2.8100092284099043, right_branching_entropy=3.7400379843591507, left_accessor_variety=24, right_accessor_variety=60, leftside_frequency=61, rightside_frequency=362),\n",
       " '로': Scores(cohesion_forward=0, cohesion_backward=0, left_branching_entropy=3.0579829532236324, right_branching_entropy=5.515706954529061, left_accessor_variety=555, right_accessor_variety=894, leftside_frequency=4025, rightside_frequency=115740),\n",
       " '껍': Scores(cohesion_forward=0, cohesion_backward=0, left_branching_entropy=1.8988060114989598, right_branching_entropy=0.6751425885789244, left_accessor_variety=14, right_accessor_variety=2, leftside_frequency=112, rightside_frequency=0),\n",
       " '햄': Scores(cohesion_forward=0, cohesion_backward=0, left_branching_entropy=2.637743951616528, right_branching_entropy=1.314398428430111, left_accessor_variety=17, right_accessor_variety=5, leftside_frequency=48, rightside_frequency=13),\n",
       " '초': Scores(cohesion_forward=0, cohesion_backward=0, left_branching_entropy=4.4485984900563675, right_branching_entropy=4.457970500717379, left_accessor_variety=245, right_accessor_variety=284, leftside_frequency=4972, rightside_frequency=1510),\n",
       " '트': Scores(cohesion_forward=0, cohesion_backward=0, left_branching_entropy=4.119342870656743, right_branching_entropy=4.726545060620588, left_accessor_variety=329, right_accessor_variety=467, leftside_frequency=7023, rightside_frequency=12875),\n",
       " '튜': Scores(cohesion_forward=0, cohesion_backward=0, left_branching_entropy=2.523068922490877, right_branching_entropy=0.7757725335954689, left_accessor_variety=18, right_accessor_variety=4, leftside_frequency=135, rightside_frequency=5),\n",
       " '흐': Scores(cohesion_forward=0, cohesion_backward=0, left_branching_entropy=3.5544767540098614, right_branching_entropy=1.979207356186778, left_accessor_variety=74, right_accessor_variety=25, leftside_frequency=850, rightside_frequency=56),\n",
       " '몇': Scores(cohesion_forward=0, cohesion_backward=0, left_branching_entropy=3.5167121584359204, right_branching_entropy=3.1447118728825547, left_accessor_variety=54, right_accessor_variety=52, leftside_frequency=137, rightside_frequency=54),\n",
       " '뻗': Scores(cohesion_forward=0, cohesion_backward=0, left_branching_entropy=1.7205498380200264, right_branching_entropy=0.5004024235381879, left_accessor_variety=8, right_accessor_variety=2, leftside_frequency=44, rightside_frequency=0),\n",
       " '송': Scores(cohesion_forward=0, cohesion_backward=0, left_branching_entropy=4.161164710202492, right_branching_entropy=4.265767920339279, left_accessor_variety=211, right_accessor_variety=224, leftside_frequency=3535, rightside_frequency=2170),\n",
       " '무': Scores(cohesion_forward=0, cohesion_backward=0, left_branching_entropy=3.906917498661278, right_branching_entropy=2.5613318183893816, left_accessor_variety=356, right_accessor_variety=400, leftside_frequency=33210, rightside_frequency=3214),\n",
       " '휩': Scores(cohesion_forward=0, cohesion_backward=0, left_branching_entropy=0.871819654980601, right_branching_entropy=0.717888022498077, left_accessor_variety=6, right_accessor_variety=3, leftside_frequency=242, rightside_frequency=0),\n",
       " '샤': Scores(cohesion_forward=0, cohesion_backward=0, left_branching_entropy=3.8453274673031492, right_branching_entropy=2.0795385835483775, left_accessor_variety=78, right_accessor_variety=22, leftside_frequency=625, rightside_frequency=235),\n",
       " '즈': Scores(cohesion_forward=0, cohesion_backward=0, left_branching_entropy=2.518143473903427, right_branching_entropy=4.659544941204968, left_accessor_variety=38, right_accessor_variety=197, leftside_frequency=50, rightside_frequency=2177),\n",
       " '칙': Scores(cohesion_forward=0, cohesion_backward=0, left_branching_entropy=1.6434436917911674, right_branching_entropy=1.665219466358187, left_accessor_variety=10, right_accessor_variety=27, leftside_frequency=19, rightside_frequency=570),\n",
       " '괜': Scores(cohesion_forward=0, cohesion_backward=0, left_branching_entropy=2.6878319699202557, right_branching_entropy=0.4728127545380583, left_accessor_variety=31, right_accessor_variety=3, leftside_frequency=257, rightside_frequency=0),\n",
       " '신': Scores(cohesion_forward=0, cohesion_backward=0, left_branching_entropy=4.7196032741681115, right_branching_entropy=4.90681251444569, left_accessor_variety=438, right_accessor_variety=472, leftside_frequency=18294, rightside_frequency=5535),\n",
       " '웅': Scores(cohesion_forward=0, cohesion_backward=0, left_branching_entropy=2.7032022464255276, right_branching_entropy=2.325540373452197, left_accessor_variety=39, right_accessor_variety=37, leftside_frequency=87, rightside_frequency=489),\n",
       " '끔': Scores(cohesion_forward=0, cohesion_backward=0, left_branching_entropy=2.683599326596539, right_branching_entropy=1.9280915975661992, left_accessor_variety=25, right_accessor_variety=25, leftside_frequency=112, rightside_frequency=118),\n",
       " '볕': Scores(cohesion_forward=0, cohesion_backward=0, left_branching_entropy=0, right_branching_entropy=0.6829081047004717, left_accessor_variety=0, right_accessor_variety=2, leftside_frequency=0, rightside_frequency=8),\n",
       " 'ㅎ': Scores(cohesion_forward=0, cohesion_backward=0, left_branching_entropy=0, right_branching_entropy=0, left_accessor_variety=0, right_accessor_variety=0, leftside_frequency=0, rightside_frequency=6),\n",
       " '짊': Scores(cohesion_forward=0, cohesion_backward=0, left_branching_entropy=1.2580481453641945, right_branching_entropy=-0.0, left_accessor_variety=4, right_accessor_variety=1, leftside_frequency=27, rightside_frequency=0),\n",
       " '덥': Scores(cohesion_forward=0, cohesion_backward=0, left_branching_entropy=1.7427157678757952, right_branching_entropy=1.4318105907237346, left_accessor_variety=10, right_accessor_variety=5, leftside_frequency=76, rightside_frequency=0),\n",
       " '츰': Scores(cohesion_forward=0, cohesion_backward=0, left_branching_entropy=0, right_branching_entropy=1.491419446850779, left_accessor_variety=0, right_accessor_variety=5, leftside_frequency=0, rightside_frequency=33),\n",
       " '텝': Scores(cohesion_forward=0, cohesion_backward=0, left_branching_entropy=0.9949236325717751, right_branching_entropy=1.38494337369854, left_accessor_variety=3, right_accessor_variety=6, leftside_frequency=9, rightside_frequency=30),\n",
       " '암': Scores(cohesion_forward=0, cohesion_backward=0, left_branching_entropy=3.896193073730775, right_branching_entropy=4.024655296730309, left_accessor_variety=76, right_accessor_variety=99, leftside_frequency=660, rightside_frequency=340),\n",
       " '찬': Scores(cohesion_forward=0, cohesion_backward=0, left_branching_entropy=3.8332891673310865, right_branching_entropy=3.6105137769663807, left_accessor_variety=88, right_accessor_variety=113, leftside_frequency=737, rightside_frequency=610),\n",
       " '백': Scores(cohesion_forward=0, cohesion_backward=0, left_branching_entropy=4.363704379227884, right_branching_entropy=4.215366797170597, left_accessor_variety=193, right_accessor_variety=167, leftside_frequency=2768, rightside_frequency=825),\n",
       " '궈': Scores(cohesion_forward=0, cohesion_backward=0, left_branching_entropy=-0.0, right_branching_entropy=-0.0, left_accessor_variety=1, right_accessor_variety=1, leftside_frequency=15, rightside_frequency=6),\n",
       " '만': Scores(cohesion_forward=0, cohesion_backward=0, left_branching_entropy=3.6950441113219985, right_branching_entropy=4.963389398519163, left_accessor_variety=492, right_accessor_variety=656, leftside_frequency=16510, rightside_frequency=23026),\n",
       " '왔': Scores(cohesion_forward=0, cohesion_backward=0, left_branching_entropy=2.4138512381489425, right_branching_entropy=1.5396102786272066, left_accessor_variety=37, right_accessor_variety=13, leftside_frequency=1116, rightside_frequency=0),\n",
       " '온': Scores(cohesion_forward=0, cohesion_backward=0, left_branching_entropy=4.153975598752496, right_branching_entropy=4.409602388888047, left_accessor_variety=193, right_accessor_variety=313, leftside_frequency=2445, rightside_frequency=2677),\n",
       " '털': Scores(cohesion_forward=0, cohesion_backward=0, left_branching_entropy=2.298642548888405, right_branching_entropy=2.9445759707647556, left_accessor_variety=36, right_accessor_variety=81, leftside_frequency=680, rightside_frequency=982),\n",
       " '며': Scores(cohesion_forward=0, cohesion_backward=0, left_branching_entropy=2.39441290739964, right_branching_entropy=5.425491931584892, left_accessor_variety=75, right_accessor_variety=636, leftside_frequency=154, rightside_frequency=25102),\n",
       " '된': Scores(cohesion_forward=0, cohesion_backward=0, left_branching_entropy=4.099848495612567, right_branching_entropy=4.833464170224857, left_accessor_variety=221, right_accessor_variety=459, leftside_frequency=2730, rightside_frequency=16465),\n",
       " '를': Scores(cohesion_forward=0, cohesion_backward=0, left_branching_entropy=4.542240827017184, right_branching_entropy=5.296019791592505, left_accessor_variety=463, right_accessor_variety=743, leftside_frequency=0, rightside_frequency=112313),\n",
       " '뭣': Scores(cohesion_forward=0, cohesion_backward=0, left_branching_entropy=0.6931471805599453, right_branching_entropy=-0.0, left_accessor_variety=2, right_accessor_variety=1, leftside_frequency=8, rightside_frequency=0),\n",
       " '알': Scores(cohesion_forward=0, cohesion_backward=0, left_branching_entropy=3.4209036987525505, right_branching_entropy=2.910331595126216, left_accessor_variety=206, right_accessor_variety=106, leftside_frequency=7457, rightside_frequency=167),\n",
       " '밴': Scores(cohesion_forward=0, cohesion_backward=0, left_branching_entropy=3.4107654994134124, right_branching_entropy=0.5421350200808047, left_accessor_variety=39, right_accessor_variety=3, leftside_frequency=194, rightside_frequency=0),\n",
       " '췄': Scores(cohesion_forward=0, cohesion_backward=0, left_branching_entropy=1.3545810752131697, right_branching_entropy=-0.0, left_accessor_variety=4, right_accessor_variety=1, leftside_frequency=20, rightside_frequency=0),\n",
       " '쉬': Scores(cohesion_forward=0, cohesion_backward=0, left_branching_entropy=3.171917679937336, right_branching_entropy=2.7882614796609153, left_accessor_variety=51, right_accessor_variety=35, leftside_frequency=452, rightside_frequency=169),\n",
       " '엮': Scores(cohesion_forward=0, cohesion_backward=0, left_branching_entropy=1.4812232248022905, right_branching_entropy=1.0982873330376035, left_accessor_variety=6, right_accessor_variety=4, leftside_frequency=84, rightside_frequency=0),\n",
       " '훙': Scores(cohesion_forward=0, cohesion_backward=0, left_branching_entropy=0.6730116670092565, right_branching_entropy=2.04942938093195, left_accessor_variety=2, right_accessor_variety=9, leftside_frequency=14, rightside_frequency=31),\n",
       " '처': Scores(cohesion_forward=0, cohesion_backward=0, left_branching_entropy=4.19856947611831, right_branching_entropy=3.250809242819554, left_accessor_variety=217, right_accessor_variety=212, leftside_frequency=5122, rightside_frequency=1994),\n",
       " '씻': Scores(cohesion_forward=0, cohesion_backward=0, left_branching_entropy=2.337424291171737, right_branching_entropy=1.0125430986265451, left_accessor_variety=13, right_accessor_variety=5, leftside_frequency=88, rightside_frequency=0),\n",
       " '딸': Scores(cohesion_forward=0, cohesion_backward=0, left_branching_entropy=3.245875269275488, right_branching_entropy=3.2099383945584727, left_accessor_variety=76, right_accessor_variety=65, leftside_frequency=574, rightside_frequency=32),\n",
       " '갖': Scores(cohesion_forward=0, cohesion_backward=0, left_branching_entropy=1.5374207926944576, right_branching_entropy=1.7946912522171088, left_accessor_variety=45, right_accessor_variety=27, leftside_frequency=3298, rightside_frequency=65),\n",
       " '홈': Scores(cohesion_forward=0, cohesion_backward=0, left_branching_entropy=4.084556907959879, right_branching_entropy=1.5473026850022542, left_accessor_variety=120, right_accessor_variety=29, leftside_frequency=1557, rightside_frequency=13),\n",
       " '윅': Scores(cohesion_forward=0, cohesion_backward=0, left_branching_entropy=-0.0, right_branching_entropy=0.9839614460010255, left_accessor_variety=1, right_accessor_variety=3, leftside_frequency=0, rightside_frequency=19),\n",
       " '받': Scores(cohesion_forward=0, cohesion_backward=0, left_branching_entropy=1.9504954587636365, right_branching_entropy=2.1752444987105135, left_accessor_variety=146, right_accessor_variety=21, leftside_frequency=10897, rightside_frequency=0),\n",
       " '룰': Scores(cohesion_forward=0, cohesion_backward=0, left_branching_entropy=2.796814445432224, right_branching_entropy=2.2818022370695417, left_accessor_variety=21, right_accessor_variety=18, leftside_frequency=104, rightside_frequency=95),\n",
       " '늄': Scores(cohesion_forward=0, cohesion_backward=0, left_branching_entropy=0.8832020462449786, right_branching_entropy=2.0237752895099956, left_accessor_variety=3, right_accessor_variety=8, leftside_frequency=0, rightside_frequency=35),\n",
       " '꾸': Scores(cohesion_forward=0, cohesion_backward=0, left_branching_entropy=3.073137420833182, right_branching_entropy=1.9238326690257632, left_accessor_variety=55, right_accessor_variety=31, leftside_frequency=1160, rightside_frequency=99),\n",
       " '굿': Scores(cohesion_forward=0, cohesion_backward=0, left_branching_entropy=2.73392228887967, right_branching_entropy=1.9365527951718948, left_accessor_variety=18, right_accessor_variety=10, leftside_frequency=79, rightside_frequency=10),\n",
       " '음': Scores(cohesion_forward=0, cohesion_backward=0, left_branching_entropy=4.5584354098013895, right_branching_entropy=3.819417903988985, left_accessor_variety=237, right_accessor_variety=269, leftside_frequency=4197, rightside_frequency=2809),\n",
       " '뻥': Scores(cohesion_forward=0, cohesion_backward=0, left_branching_entropy=1.4151390801119226, right_branching_entropy=0.7589367727620595, left_accessor_variety=5, right_accessor_variety=3, leftside_frequency=10, rightside_frequency=0),\n",
       " '냉': Scores(cohesion_forward=0, cohesion_backward=0, left_branching_entropy=3.6146100442032405, right_branching_entropy=2.1167140815889183, left_accessor_variety=57, right_accessor_variety=18, leftside_frequency=638, rightside_frequency=0),\n",
       " '튕': Scores(cohesion_forward=0, cohesion_backward=0, left_branching_entropy=1.445874413892315, right_branching_entropy=-0.0, left_accessor_variety=6, right_accessor_variety=1, leftside_frequency=48, rightside_frequency=0),\n",
       " '칸': Scores(cohesion_forward=0, cohesion_backward=0, left_branching_entropy=2.8801339092241265, right_branching_entropy=2.9671744711012913, left_accessor_variety=25, right_accessor_variety=27, leftside_frequency=106, rightside_frequency=66),\n",
       " '도': Scores(cohesion_forward=0, cohesion_backward=0, left_branching_entropy=5.053134912676183, right_branching_entropy=5.637970829794013, left_accessor_variety=763, right_accessor_variety=866, leftside_frequency=13810, rightside_frequency=57245),\n",
       " '미': Scores(cohesion_forward=0, cohesion_backward=0, left_branching_entropy=4.614913724563358, right_branching_entropy=3.9233954752053415, left_accessor_variety=428, right_accessor_variety=437, leftside_frequency=21790, rightside_frequency=5049),\n",
       " '남': Scores(cohesion_forward=0, cohesion_backward=0, left_branching_entropy=4.155248493569812, right_branching_entropy=4.0642231355607095, left_accessor_variety=304, right_accessor_variety=277, leftside_frequency=11550, rightside_frequency=3405),\n",
       " '곡': Scores(cohesion_forward=0, cohesion_backward=0, left_branching_entropy=3.47374276223512, right_branching_entropy=4.067436080172978, left_accessor_variety=88, right_accessor_variety=128, leftside_frequency=833, rightside_frequency=1164),\n",
       " '난': Scores(cohesion_forward=0, cohesion_backward=0, left_branching_entropy=3.3380662483317556, right_branching_entropy=3.549774952341598, left_accessor_variety=121, right_accessor_variety=312, leftside_frequency=1104, rightside_frequency=12194),\n",
       " '폐': Scores(cohesion_forward=0, cohesion_backward=0, left_branching_entropy=4.197915279517627, right_branching_entropy=2.8966148578241797, left_accessor_variety=114, right_accessor_variety=48, leftside_frequency=1094, rightside_frequency=89),\n",
       " '멸': Scores(cohesion_forward=0, cohesion_backward=0, left_branching_entropy=2.8591562747718067, right_branching_entropy=1.6578113669846246, left_accessor_variety=21, right_accessor_variety=10, leftside_frequency=90, rightside_frequency=37),\n",
       " '엽': Scores(cohesion_forward=0, cohesion_backward=0, left_branching_entropy=3.354910577564638, right_branching_entropy=3.261503576152382, left_accessor_variety=39, right_accessor_variety=39, leftside_frequency=146, rightside_frequency=192),\n",
       " '칠': Scores(cohesion_forward=0, cohesion_backward=0, left_branching_entropy=3.168336214449196, right_branching_entropy=2.666946634239559, left_accessor_variety=44, right_accessor_variety=39, leftside_frequency=218, rightside_frequency=726),\n",
       " '란': Scores(cohesion_forward=0, cohesion_backward=0, left_branching_entropy=2.7593206630065943, right_branching_entropy=4.859876491455257, left_accessor_variety=74, right_accessor_variety=220, leftside_frequency=22, rightside_frequency=2085),\n",
       " '옆': Scores(cohesion_forward=0, cohesion_backward=0, left_branching_entropy=3.533517071519516, right_branching_entropy=1.727485297212981, left_accessor_variety=52, right_accessor_variety=27, leftside_frequency=344, rightside_frequency=0),\n",
       " '마': Scores(cohesion_forward=0, cohesion_backward=0, left_branching_entropy=4.205240560161283, right_branching_entropy=4.03256772282719, left_accessor_variety=406, right_accessor_variety=397, leftside_frequency=19730, rightside_frequency=4601),\n",
       " '클': Scores(cohesion_forward=0, cohesion_backward=0, left_branching_entropy=3.897002486541409, right_branching_entropy=1.7107583517100367, left_accessor_variety=187, right_accessor_variety=42, leftside_frequency=4184, rightside_frequency=205),\n",
       " '씬': Scores(cohesion_forward=0, cohesion_backward=0, left_branching_entropy=0.6931471805599453, right_branching_entropy=3.3112011698245896, left_accessor_variety=2, right_accessor_variety=50, leftside_frequency=9, rightside_frequency=410),\n",
       " '높': Scores(cohesion_forward=0, cohesion_backward=0, left_branching_entropy=3.176561615971837, right_branching_entropy=2.239481059386804, left_accessor_variety=117, right_accessor_variety=20, leftside_frequency=6478, rightside_frequency=0),\n",
       " '짙': Scores(cohesion_forward=0, cohesion_backward=0, left_branching_entropy=2.431299445096434, right_branching_entropy=1.1478683312013354, left_accessor_variety=21, right_accessor_variety=5, leftside_frequency=261, rightside_frequency=0),\n",
       " '뇨': Scores(cohesion_forward=0, cohesion_backward=0, left_branching_entropy=0.6581099875431143, right_branching_entropy=2.028479126545233, left_accessor_variety=2, right_accessor_variety=9, leftside_frequency=0, rightside_frequency=59),\n",
       " '뻔': Scores(cohesion_forward=0, cohesion_backward=0, left_branching_entropy=2.8445143612854067, right_branching_entropy=1.7070792337835645, left_accessor_variety=22, right_accessor_variety=9, leftside_frequency=154, rightside_frequency=0),\n",
       " '봄': Scores(cohesion_forward=0, cohesion_backward=0, left_branching_entropy=2.4548716384628535, right_branching_entropy=2.364629755690726, left_accessor_variety=20, right_accessor_variety=21, leftside_frequency=135, rightside_frequency=37),\n",
       " '쳤': Scores(cohesion_forward=0, cohesion_backward=0, left_branching_entropy=1.0614455058318304, right_branching_entropy=0.8295983798333795, left_accessor_variety=4, right_accessor_variety=3, leftside_frequency=60, rightside_frequency=0),\n",
       " '낸': Scores(cohesion_forward=0, cohesion_backward=0, left_branching_entropy=2.968492402976497, right_branching_entropy=4.28768109056925, left_accessor_variety=49, right_accessor_variety=162, leftside_frequency=83, rightside_frequency=1172),\n",
       " '스': Scores(cohesion_forward=0, cohesion_backward=0, left_branching_entropy=4.422347589296232, right_branching_entropy=4.756420136328804, left_accessor_variety=560, right_accessor_variety=559, leftside_frequency=18646, rightside_frequency=31944),\n",
       " '과': Scores(cohesion_forward=0, cohesion_backward=0, left_branching_entropy=5.430689295057269, right_branching_entropy=5.37819539841541, left_accessor_variety=774, right_accessor_variety=698, leftside_frequency=8050, rightside_frequency=45545),\n",
       " '헌': Scores(cohesion_forward=0, cohesion_backward=0, left_branching_entropy=3.524954833324038, right_branching_entropy=3.2567594899558854, left_accessor_variety=79, right_accessor_variety=84, leftside_frequency=703, rightside_frequency=913),\n",
       " '댈': Scores(cohesion_forward=0, cohesion_backward=0, left_branching_entropy=1.3598821899692848, right_branching_entropy=0.9977502187633179, left_accessor_variety=5, right_accessor_variety=4, leftside_frequency=48, rightside_frequency=48),\n",
       " '팬': Scores(cohesion_forward=0, cohesion_backward=0, left_branching_entropy=4.230579421231822, right_branching_entropy=2.1858307888339215, left_accessor_variety=135, right_accessor_variety=47, leftside_frequency=1595, rightside_frequency=54),\n",
       " '뭡': Scores(cohesion_forward=0, cohesion_backward=0, left_branching_entropy=0.6931471805599453, right_branching_entropy=-0.0, left_accessor_variety=2, right_accessor_variety=1, leftside_frequency=7, rightside_frequency=0),\n",
       " '빚': Scores(cohesion_forward=0, cohesion_backward=0, left_branching_entropy=2.4789427801641346, right_branching_entropy=2.2119754253580903, left_accessor_variety=31, right_accessor_variety=17, leftside_frequency=382, rightside_frequency=0),\n",
       " '딱': Scores(cohesion_forward=0, cohesion_backward=0, left_branching_entropy=2.454502477709327, right_branching_entropy=2.294709903279894, left_accessor_variety=37, right_accessor_variety=36, leftside_frequency=299, rightside_frequency=23),\n",
       " '성': Scores(cohesion_forward=0, cohesion_backward=0, left_branching_entropy=4.953709232498269, right_branching_entropy=4.621407535347256, left_accessor_variety=487, right_accessor_variety=478, leftside_frequency=15840, rightside_frequency=8246),\n",
       " '학': Scores(cohesion_forward=0, cohesion_backward=0, left_branching_entropy=4.59746012676385, right_branching_entropy=3.560521267042481, left_accessor_variety=279, right_accessor_variety=225, leftside_frequency=6798, rightside_frequency=2745),\n",
       " '달': Scores(cohesion_forward=0, cohesion_backward=0, left_branching_entropy=3.7073202565884986, right_branching_entropy=3.921135064448449, left_accessor_variety=184, right_accessor_variety=227, leftside_frequency=6743, rightside_frequency=3199),\n",
       " '금': Scores(cohesion_forward=0, cohesion_backward=0, left_branching_entropy=2.229591431478081, right_branching_entropy=2.2871286532245616, left_accessor_variety=321, right_accessor_variety=353, leftside_frequency=26859, rightside_frequency=5699),\n",
       " '쉐': Scores(cohesion_forward=0, cohesion_backward=0, left_branching_entropy=2.6930573121923467, right_branching_entropy=1.0597955401078993, left_accessor_variety=20, right_accessor_variety=6, leftside_frequency=155, rightside_frequency=6),\n",
       " '휀': Scores(cohesion_forward=0, cohesion_backward=0, left_branching_entropy=0.6931471805599453, right_branching_entropy=0, left_accessor_variety=2, right_accessor_variety=0, leftside_frequency=5, rightside_frequency=0),\n",
       " '니': Scores(cohesion_forward=0, cohesion_backward=0, left_branching_entropy=3.509238786081763, right_branching_entropy=5.206939657549952, left_accessor_variety=116, right_accessor_variety=360, leftside_frequency=559, rightside_frequency=4347),\n",
       " '딘': Scores(cohesion_forward=0, cohesion_backward=0, left_branching_entropy=1.8779719077827193, right_branching_entropy=2.5051518333952543, left_accessor_variety=8, right_accessor_variety=15, leftside_frequency=23, rightside_frequency=61),\n",
       " '박': Scores(cohesion_forward=0, cohesion_backward=0, left_branching_entropy=4.2280090683216365, right_branching_entropy=4.128252164217966, left_accessor_variety=349, right_accessor_variety=250, leftside_frequency=13473, rightside_frequency=937),\n",
       " '힌': Scores(cohesion_forward=0, cohesion_backward=0, left_branching_entropy=2.0068380726749955, right_branching_entropy=3.8712555261521726, left_accessor_variety=14, right_accessor_variety=114, leftside_frequency=40, rightside_frequency=1084),\n",
       " '겁': Scores(cohesion_forward=0, cohesion_backward=0, left_branching_entropy=2.8233853012172823, right_branching_entropy=0.5041668105208865, left_accessor_variety=50, right_accessor_variety=9, leftside_frequency=619, rightside_frequency=7),\n",
       " '벳': Scores(cohesion_forward=0, cohesion_backward=0, left_branching_entropy=0.8982308258698813, right_branching_entropy=2.3942435448646626, left_accessor_variety=3, right_accessor_variety=12, leftside_frequency=0, rightside_frequency=55),\n",
       " '럽': Scores(cohesion_forward=0, cohesion_backward=0, left_branching_entropy=0.43932781849352504, right_branching_entropy=3.9949269909713783, left_accessor_variety=2, right_accessor_variety=88, leftside_frequency=0, rightside_frequency=865),\n",
       " '젝': Scores(cohesion_forward=0, cohesion_backward=0, left_branching_entropy=1.864443077555277, right_branching_entropy=-0.0, left_accessor_variety=7, right_accessor_variety=1, leftside_frequency=50, rightside_frequency=0),\n",
       " '의': Scores(cohesion_forward=0, cohesion_backward=0, left_branching_entropy=5.605240144687852, right_branching_entropy=5.647651515938392, left_accessor_variety=1040, right_accessor_variety=891, leftside_frequency=20706, rightside_frequency=136437),\n",
       " '앱': Scores(cohesion_forward=0, cohesion_backward=0, left_branching_entropy=3.4646614694325746, right_branching_entropy=3.3081583893937894, left_accessor_variety=73, right_accessor_variety=62, leftside_frequency=491, rightside_frequency=161),\n",
       " '띄': Scores(cohesion_forward=0, cohesion_backward=0, left_branching_entropy=1.2629331541961153, right_branching_entropy=2.014010133079982, left_accessor_variety=11, right_accessor_variety=10, leftside_frequency=233, rightside_frequency=0),\n",
       " '쿱': Scores(cohesion_forward=0, cohesion_backward=0, left_branching_entropy=-0.0, right_branching_entropy=-0.0, left_accessor_variety=1, right_accessor_variety=1, leftside_frequency=0, rightside_frequency=6),\n",
       " '희': Scores(cohesion_forward=0, cohesion_backward=0, left_branching_entropy=4.309349934850443, right_branching_entropy=3.741869066654355, left_accessor_variety=161, right_accessor_variety=179, leftside_frequency=1260, rightside_frequency=2843),\n",
       " '벡': Scores(cohesion_forward=0, cohesion_backward=0, left_branching_entropy=1.771690670209995, right_branching_entropy=-0.0, left_accessor_variety=9, right_accessor_variety=1, leftside_frequency=57, rightside_frequency=0),\n",
       " '줍': Scores(cohesion_forward=0, cohesion_backward=0, left_branching_entropy=0.5623351446188083, right_branching_entropy=-0.0, left_accessor_variety=2, right_accessor_variety=1, leftside_frequency=15, rightside_frequency=0),\n",
       " '램': Scores(cohesion_forward=0, cohesion_backward=0, left_branching_entropy=1.3540961787015326, right_branching_entropy=4.535228553261967, left_accessor_variety=37, right_accessor_variety=162, leftside_frequency=350, rightside_frequency=1324),\n",
       " '둠': Scores(cohesion_forward=0, cohesion_backward=0, left_branching_entropy=0, right_branching_entropy=0.47413931305783735, left_accessor_variety=0, right_accessor_variety=2, leftside_frequency=0, rightside_frequency=12),\n",
       " '슛': Scores(cohesion_forward=0, cohesion_backward=0, left_branching_entropy=0.6931471805599453, right_branching_entropy=-0.0, left_accessor_variety=2, right_accessor_variety=1, leftside_frequency=9, rightside_frequency=0),\n",
       " '잰': Scores(cohesion_forward=0, cohesion_backward=0, left_branching_entropy=1.0986122886681096, right_branching_entropy=0.6931471805599453, left_accessor_variety=3, right_accessor_variety=2, leftside_frequency=6, rightside_frequency=0),\n",
       " '퓨': Scores(cohesion_forward=0, cohesion_backward=0, left_branching_entropy=2.8199972777389735, right_branching_entropy=1.0573520528977132, left_accessor_variety=18, right_accessor_variety=4, leftside_frequency=74, rightside_frequency=0),\n",
       " '샬': Scores(cohesion_forward=0, cohesion_backward=0, left_branching_entropy=0.6365141682948128, right_branching_entropy=0, left_accessor_variety=2, right_accessor_variety=0, leftside_frequency=9, rightside_frequency=0),\n",
       " '척': Scores(cohesion_forward=0, cohesion_backward=0, left_branching_entropy=3.313098064795582, right_branching_entropy=3.571754943696864, left_accessor_variety=38, right_accessor_variety=58, leftside_frequency=196, rightside_frequency=270),\n",
       " '숱': Scores(cohesion_forward=0, cohesion_backward=0, left_branching_entropy=2.240214388027364, right_branching_entropy=-0.0, left_accessor_variety=10, right_accessor_variety=1, leftside_frequency=37, rightside_frequency=0),\n",
       " '쪘': Scores(cohesion_forward=0, cohesion_backward=0, left_branching_entropy=0.9908353864438493, right_branching_entropy=0.6791932659915256, left_accessor_variety=3, right_accessor_variety=2, leftside_frequency=17, rightside_frequency=0),\n",
       " '뽐': Scores(cohesion_forward=0, cohesion_backward=0, left_branching_entropy=1.0114881455477427, right_branching_entropy=1.0965736964669357, left_accessor_variety=8, right_accessor_variety=4, leftside_frequency=415, rightside_frequency=0),\n",
       " '태': Scores(cohesion_forward=0, cohesion_backward=0, left_branching_entropy=4.457011068051519, right_branching_entropy=3.843425536065674, left_accessor_variety=193, right_accessor_variety=156, leftside_frequency=2805, rightside_frequency=1157),\n",
       " '끙': Scores(cohesion_forward=0, cohesion_backward=0, left_branching_entropy=0.45056120886630463, right_branching_entropy=0.6890092384766586, left_accessor_variety=2, right_accessor_variety=2, leftside_frequency=12, rightside_frequency=11),\n",
       " '펑': Scores(cohesion_forward=0, cohesion_backward=0, left_branching_entropy=2.6961914962260742, right_branching_entropy=1.4963448967699526, left_accessor_variety=16, right_accessor_variety=7, leftside_frequency=68, rightside_frequency=15),\n",
       " '빅': Scores(cohesion_forward=0, cohesion_backward=0, left_branching_entropy=3.7814146820315093, right_branching_entropy=2.1698398480954295, left_accessor_variety=74, right_accessor_variety=20, leftside_frequency=606, rightside_frequency=31),\n",
       " '게': Scores(cohesion_forward=0, cohesion_backward=0, left_branching_entropy=2.95109139889784, right_branching_entropy=5.351451095019152, left_accessor_variety=296, right_accessor_variety=661, leftside_frequency=3246, rightside_frequency=36093),\n",
       " '둥': Scores(cohesion_forward=0, cohesion_backward=0, left_branching_entropy=2.3561328975478943, right_branching_entropy=1.7814397180031483, left_accessor_variety=13, right_accessor_variety=8, leftside_frequency=58, rightside_frequency=46),\n",
       " '밋': Scores(cohesion_forward=0, cohesion_backward=0, left_branching_entropy=1.0608569471580214, right_branching_entropy=1.5473824076063531, left_accessor_variety=3, right_accessor_variety=7, leftside_frequency=15, rightside_frequency=32),\n",
       " '벼': Scores(cohesion_forward=0, cohesion_backward=0, left_branching_entropy=3.237132185366399, right_branching_entropy=2.3285932863673215, left_accessor_variety=33, right_accessor_variety=14, leftside_frequency=140, rightside_frequency=6),\n",
       " '뻐': Scores(cohesion_forward=0, cohesion_backward=0, left_branching_entropy=0.6931471805599453, right_branching_entropy=0.5623351446188083, left_accessor_variety=2, right_accessor_variety=2, leftside_frequency=15, rightside_frequency=7),\n",
       " '캡': Scores(cohesion_forward=0, cohesion_backward=0, left_branching_entropy=3.1032360384613336, right_branching_entropy=0.7058901403042347, left_accessor_variety=67, right_accessor_variety=7, leftside_frequency=895, rightside_frequency=7),\n",
       " '떤': Scores(cohesion_forward=0, cohesion_backward=0, left_branching_entropy=-0.0, right_branching_entropy=4.460953497427944, left_accessor_variety=1, right_accessor_variety=156, leftside_frequency=5, rightside_frequency=1818),\n",
       " '벌': Scores(cohesion_forward=0, cohesion_backward=0, left_branching_entropy=2.369339283105168, right_branching_entropy=3.8607596003604305, left_accessor_variety=83, right_accessor_variety=193, leftside_frequency=2824, rightside_frequency=3045),\n",
       " '래': Scores(cohesion_forward=0, cohesion_backward=0, left_branching_entropy=3.2023346731741564, right_branching_entropy=4.825962986154386, left_accessor_variety=78, right_accessor_variety=265, leftside_frequency=450, rightside_frequency=2929),\n",
       " '탐': Scores(cohesion_forward=0, cohesion_backward=0, left_branching_entropy=3.654787503214754, right_branching_entropy=1.978292142843052, left_accessor_variety=68, right_accessor_variety=17, leftside_frequency=729, rightside_frequency=19),\n",
       " '두': Scores(cohesion_forward=0, cohesion_backward=0, left_branching_entropy=4.0379734129141935, right_branching_entropy=4.541132416097675, left_accessor_variety=249, right_accessor_variety=364, leftside_frequency=3773, rightside_frequency=3019),\n",
       " '왼': Scores(cohesion_forward=0, cohesion_backward=0, left_branching_entropy=3.7148581782742043, right_branching_entropy=0.1636448580182942, left_accessor_variety=94, right_accessor_variety=3, leftside_frequency=1079, rightside_frequency=0),\n",
       " '응': Scores(cohesion_forward=0, cohesion_backward=0, left_branching_entropy=3.8370438875780026, right_branching_entropy=2.7804739158727165, left_accessor_variety=117, right_accessor_variety=80, leftside_frequency=2161, rightside_frequency=383),\n",
       " '티': Scores(cohesion_forward=0, cohesion_backward=0, left_branching_entropy=3.921963290243479, right_branching_entropy=4.380706907992814, left_accessor_variety=127, right_accessor_variety=194, leftside_frequency=1384, rightside_frequency=1748),\n",
       " '청': Scores(cohesion_forward=0, cohesion_backward=0, left_branching_entropy=4.680261099236274, right_branching_entropy=3.7751900705375325, left_accessor_variety=319, right_accessor_variety=259, leftside_frequency=8866, rightside_frequency=2868),\n",
       " '늬': Scores(cohesion_forward=0, cohesion_backward=0, left_branching_entropy=0.6911086741443572, right_branching_entropy=1.640564677821156, left_accessor_variety=2, right_accessor_variety=7, leftside_frequency=0, rightside_frequency=60),\n",
       " '갉': Scores(cohesion_forward=0, cohesion_backward=0, left_branching_entropy=-0.0, right_branching_entropy=-0.0, left_accessor_variety=1, right_accessor_variety=1, leftside_frequency=6, rightside_frequency=0),\n",
       " '붐': Scores(cohesion_forward=0, cohesion_backward=0, left_branching_entropy=2.4286286204761307, right_branching_entropy=2.1150138571384747, left_accessor_variety=18, right_accessor_variety=12, leftside_frequency=89, rightside_frequency=10),\n",
       " '납': Scores(cohesion_forward=0, cohesion_backward=0, left_branching_entropy=3.7159620083222835, right_branching_entropy=2.2723052707540017, left_accessor_variety=63, right_accessor_variety=23, leftside_frequency=604, rightside_frequency=73),\n",
       " '4': Scores(cohesion_forward=0, cohesion_backward=0, left_branching_entropy=4.653755254216081, right_branching_entropy=4.288409708423021, left_accessor_variety=366, right_accessor_variety=307, leftside_frequency=15214, rightside_frequency=4893),\n",
       " '돈': Scores(cohesion_forward=0, cohesion_backward=0, left_branching_entropy=3.237866955085828, right_branching_entropy=2.3070102816996627, left_accessor_variety=110, right_accessor_variety=81, leftside_frequency=2039, rightside_frequency=163),\n",
       " '헨': Scores(cohesion_forward=0, cohesion_backward=0, left_branching_entropy=1.5086597717181076, right_branching_entropy=0.8982308258698813, left_accessor_variety=6, right_accessor_variety=3, leftside_frequency=39, rightside_frequency=5),\n",
       " '뚱': Scores(cohesion_forward=0, cohesion_backward=0, left_branching_entropy=-0.0, right_branching_entropy=0.6791932659915256, left_accessor_variety=1, right_accessor_variety=2, leftside_frequency=12, rightside_frequency=17),\n",
       " '쁠': Scores(cohesion_forward=0, cohesion_backward=0, left_branching_entropy=0, right_branching_entropy=-0.0, left_accessor_variety=0, right_accessor_variety=1, leftside_frequency=0, rightside_frequency=8),\n",
       " '째': Scores(cohesion_forward=0, cohesion_backward=0, left_branching_entropy=1.6497349798420191, right_branching_entropy=4.665645250676689, left_accessor_variety=21, right_accessor_variety=216, leftside_frequency=14, rightside_frequency=2227),\n",
       " '뛴': Scores(cohesion_forward=0, cohesion_backward=0, left_branching_entropy=1.803296380735047, right_branching_entropy=1.5725027762229353, left_accessor_variety=7, right_accessor_variety=5, leftside_frequency=5, rightside_frequency=0),\n",
       " '쉴': Scores(cohesion_forward=0, cohesion_backward=0, left_branching_entropy=2.260046572101049, right_branching_entropy=1.4991145901180793, left_accessor_variety=13, right_accessor_variety=6, leftside_frequency=9, rightside_frequency=0),\n",
       " '셰': Scores(cohesion_forward=0, cohesion_backward=0, left_branching_entropy=3.1894722258962926, right_branching_entropy=1.789993938514315, left_accessor_variety=29, right_accessor_variety=7, leftside_frequency=197, rightside_frequency=6),\n",
       " '뜨': Scores(cohesion_forward=0, cohesion_backward=0, left_branching_entropy=3.314304078458888, right_branching_entropy=1.3615423722309197, left_accessor_variety=51, right_accessor_variety=11, leftside_frequency=736, rightside_frequency=7),\n",
       " '궤': Scores(cohesion_forward=0, cohesion_backward=0, left_branching_entropy=2.654684208526636, right_branching_entropy=0.8123505873951785, left_accessor_variety=19, right_accessor_variety=5, leftside_frequency=122, rightside_frequency=0),\n",
       " '따': Scores(cohesion_forward=0, cohesion_backward=0, left_branching_entropy=1.429105679870236, right_branching_entropy=1.6527502754161896, left_accessor_variety=102, right_accessor_variety=43, leftside_frequency=10012, rightside_frequency=29),\n",
       " '와': Scores(cohesion_forward=0, cohesion_backward=0, left_branching_entropy=4.768022016484245, right_branching_entropy=5.325700949817933, left_accessor_variety=403, right_accessor_variety=628, leftside_frequency=1272, rightside_frequency=29226),\n",
       " '컵': Scores(cohesion_forward=0, cohesion_backward=0, left_branching_entropy=2.2478418016812984, right_branching_entropy=2.3813430835514633, left_accessor_variety=13, right_accessor_variety=17, leftside_frequency=70, rightside_frequency=60),\n",
       " '띈': Scores(cohesion_forward=0, cohesion_backward=0, left_branching_entropy=0.5798086330156277, right_branching_entropy=-0.0, left_accessor_variety=4, right_accessor_variety=1, leftside_frequency=50, rightside_frequency=0),\n",
       " '벗': Scores(cohesion_forward=0, cohesion_backward=0, left_branching_entropy=1.9352037859131317, right_branching_entropy=1.3504896767689845, left_accessor_variety=22, right_accessor_variety=13, leftside_frequency=768, rightside_frequency=0),\n",
       " '옐': Scores(cohesion_forward=0, cohesion_backward=0, left_branching_entropy=2.0278701686722105, right_branching_entropy=0.6806294878916634, left_accessor_variety=9, right_accessor_variety=2, leftside_frequency=40, rightside_frequency=0),\n",
       " '팡': Scores(cohesion_forward=0, cohesion_backward=0, left_branching_entropy=1.6073403151603685, right_branching_entropy=1.7935589633464495, left_accessor_variety=6, right_accessor_variety=8, leftside_frequency=42, rightside_frequency=28),\n",
       " '뎃': Scores(cohesion_forward=0, cohesion_backward=0, left_branching_entropy=-0.0, right_branching_entropy=0.6869615765973234, left_accessor_variety=1, right_accessor_variety=2, leftside_frequency=0, rightside_frequency=9),\n",
       " '탑': Scores(cohesion_forward=0, cohesion_backward=0, left_branching_entropy=2.9177579425943914, right_branching_entropy=1.6501883319451112, left_accessor_variety=41, right_accessor_variety=27, leftside_frequency=540, rightside_frequency=99),\n",
       " '혈': Scores(cohesion_forward=0, cohesion_backward=0, left_branching_entropy=3.5749146705185084, right_branching_entropy=3.0713814447927947, left_accessor_variety=58, right_accessor_variety=35, leftside_frequency=435, rightside_frequency=244),\n",
       " '뎀': Scores(cohesion_forward=0, cohesion_backward=0, left_branching_entropy=0, right_branching_entropy=1.59671844554477, left_accessor_variety=0, right_accessor_variety=6, leftside_frequency=0, rightside_frequency=37),\n",
       " '생': Scores(cohesion_forward=0, cohesion_backward=0, left_branching_entropy=4.334659371689319, right_branching_entropy=3.479177565080509, left_accessor_variety=351, right_accessor_variety=317, leftside_frequency=11824, rightside_frequency=3005),\n",
       " '봅': Scores(cohesion_forward=0, cohesion_backward=0, left_branching_entropy=1.71290966723926, right_branching_entropy=-0.0, left_accessor_variety=10, right_accessor_variety=1, leftside_frequency=71, rightside_frequency=0),\n",
       " '룩': Scores(cohesion_forward=0, cohesion_backward=0, left_branching_entropy=2.787200063205708, right_branching_entropy=1.9785800905800748, left_accessor_variety=22, right_accessor_variety=14, leftside_frequency=143, rightside_frequency=38),\n",
       " '쯔': Scores(cohesion_forward=0, cohesion_backward=0, left_branching_entropy=1.956767002102549, right_branching_entropy=0.7671772508522116, left_accessor_variety=10, right_accessor_variety=5, leftside_frequency=83, rightside_frequency=8),\n",
       " '멜': Scores(cohesion_forward=0, cohesion_backward=0, left_branching_entropy=3.65054265851086, right_branching_entropy=1.6967975741769574, left_accessor_variety=56, right_accessor_variety=13, leftside_frequency=389, rightside_frequency=23),\n",
       " '쥬': Scores(cohesion_forward=0, cohesion_backward=0, left_branching_entropy=2.1258727803203423, right_branching_entropy=1.3589306217108126, left_accessor_variety=13, right_accessor_variety=7, leftside_frequency=89, rightside_frequency=16),\n",
       " 'ㄴ': Scores(cohesion_forward=0, cohesion_backward=0, left_branching_entropy=2.111216545811636, right_branching_entropy=0.7047252954476639, left_accessor_variety=9, right_accessor_variety=4, leftside_frequency=36, rightside_frequency=0),\n",
       " '잔': Scores(cohesion_forward=0, cohesion_backward=0, left_branching_entropy=3.795204967722497, right_branching_entropy=2.9999642430529776, left_accessor_variety=82, right_accessor_variety=35, leftside_frequency=701, rightside_frequency=45),\n",
       " '혼': Scores(cohesion_forward=0, cohesion_backward=0, left_branching_entropy=4.038767166029776, right_branching_entropy=3.4052824235771606, left_accessor_variety=118, right_accessor_variety=90, leftside_frequency=1579, rightside_frequency=654),\n",
       " '싶': Scores(cohesion_forward=0, cohesion_backward=0, left_branching_entropy=0.546705331083999, right_branching_entropy=1.8489667650505703, left_accessor_variety=9, right_accessor_variety=17, leftside_frequency=2314, rightside_frequency=0),\n",
       " '터': Scores(cohesion_forward=0, cohesion_backward=0, left_branching_entropy=1.7119196718145524, right_branching_entropy=5.232231288327644, left_accessor_variety=132, right_accessor_variety=521, leftside_frequency=1472, rightside_frequency=16679),\n",
       " '프': Scores(cohesion_forward=0, cohesion_backward=0, left_branching_entropy=4.671304336483424, right_branching_entropy=2.4926698039438224, left_accessor_variety=352, right_accessor_variety=214, leftside_frequency=7370, rightside_frequency=2218),\n",
       " '현': Scores(cohesion_forward=0, cohesion_backward=0, left_branching_entropy=4.552916339375582, right_branching_entropy=3.116665956092161, left_accessor_variety=409, right_accessor_variety=236, leftside_frequency=16694, rightside_frequency=4133),\n",
       " '텅': Scores(cohesion_forward=0, cohesion_backward=0, left_branching_entropy=1.8254508424001135, right_branching_entropy=0.7605392206974096, left_accessor_variety=10, right_accessor_variety=3, leftside_frequency=10, rightside_frequency=0),\n",
       " '웰': Scores(cohesion_forward=0, cohesion_backward=0, left_branching_entropy=3.0595454675862586, right_branching_entropy=2.102806026367822, left_accessor_variety=30, right_accessor_variety=11, leftside_frequency=226, rightside_frequency=26),\n",
       " '지': Scores(cohesion_forward=0, cohesion_backward=0, left_branching_entropy=4.490640899776924, right_branching_entropy=4.76210221309925, left_accessor_variety=695, right_accessor_variety=880, leftside_frequency=52452, rightside_frequency=68752),\n",
       " '샴': Scores(cohesion_forward=0, cohesion_backward=0, left_branching_entropy=2.545240660297457, right_branching_entropy=0.7664750392297743, left_accessor_variety=15, right_accessor_variety=3, leftside_frequency=70, rightside_frequency=0),\n",
       " '작': Scores(cohesion_forward=0, cohesion_backward=0, left_branching_entropy=4.53787095689988, right_branching_entropy=3.416633423656028, left_accessor_variety=304, right_accessor_variety=222, leftside_frequency=7562, rightside_frequency=2267),\n",
       " '깍': Scores(cohesion_forward=0, cohesion_backward=0, left_branching_entropy=1.5317780787913653, right_branching_entropy=-0.0, left_accessor_variety=5, right_accessor_variety=1, leftside_frequency=20, rightside_frequency=0),\n",
       " '강': Scores(cohesion_forward=0, cohesion_backward=0, left_branching_entropy=4.24228383254578, right_branching_entropy=3.708816193705747, left_accessor_variety=369, right_accessor_variety=244, leftside_frequency=19071, rightside_frequency=1006),\n",
       " '땄': Scores(cohesion_forward=0, cohesion_backward=0, left_branching_entropy=0.6365141682948128, right_branching_entropy=0, left_accessor_variety=2, right_accessor_variety=0, leftside_frequency=7, rightside_frequency=0),\n",
       " '활': Scores(cohesion_forward=0, cohesion_backward=0, left_branching_entropy=3.976192190282365, right_branching_entropy=2.0281659882224132, left_accessor_variety=209, right_accessor_variety=80, leftside_frequency=6653, rightside_frequency=786),\n",
       " '잡': Scores(cohesion_forward=0, cohesion_backward=0, left_branching_entropy=3.0582024372671643, right_branching_entropy=2.908170566900186, left_accessor_variety=94, right_accessor_variety=35, leftside_frequency=1659, rightside_frequency=65),\n",
       " '잘': Scores(cohesion_forward=0, cohesion_backward=0, left_branching_entropy=3.673467874442142, right_branching_entropy=4.073500568058653, left_accessor_variety=137, right_accessor_variety=171, leftside_frequency=1280, rightside_frequency=11),\n",
       " '짓': Scores(cohesion_forward=0, cohesion_backward=0, left_branching_entropy=2.305592666938501, right_branching_entropy=2.54884102711787, left_accessor_variety=33, right_accessor_variety=36, leftside_frequency=518, rightside_frequency=160),\n",
       " '렁': Scores(cohesion_forward=0, cohesion_backward=0, left_branching_entropy=0, right_branching_entropy=0, left_accessor_variety=0, right_accessor_variety=0, leftside_frequency=0, rightside_frequency=15),\n",
       " '1': Scores(cohesion_forward=0, cohesion_backward=0, left_branching_entropy=4.559793554415731, right_branching_entropy=3.575478059973849, left_accessor_variety=526, right_accessor_variety=394, leftside_frequency=71085, rightside_frequency=10733),\n",
       " '속': Scores(cohesion_forward=0, cohesion_backward=0, left_branching_entropy=4.529320139238324, right_branching_entropy=4.682611678461495, left_accessor_variety=254, right_accessor_variety=355, leftside_frequency=3601, rightside_frequency=3916),\n",
       " '얼': Scores(cohesion_forward=0, cohesion_backward=0, left_branching_entropy=3.709341625650706, right_branching_entropy=2.1420887625415195, left_accessor_variety=98, right_accessor_variety=77, leftside_frequency=1845, rightside_frequency=418),\n",
       " '쟤': Scores(cohesion_forward=0, cohesion_backward=0, left_branching_entropy=1.0397207708399179, right_branching_entropy=-0.0, left_accessor_variety=3, right_accessor_variety=1, leftside_frequency=7, rightside_frequency=0),\n",
       " '상': Scores(cohesion_forward=0, cohesion_backward=0, left_branching_entropy=4.898584985808374, right_branching_entropy=4.609279575010049, left_accessor_variety=485, right_accessor_variety=529, leftside_frequency=22847, rightside_frequency=12918),\n",
       " '턱': Scores(cohesion_forward=0, cohesion_backward=0, left_branching_entropy=2.987821057349721, right_branching_entropy=2.2204855853620327, left_accessor_variety=24, right_accessor_variety=11, leftside_frequency=105, rightside_frequency=22),\n",
       " '피': Scores(cohesion_forward=0, cohesion_backward=0, left_branching_entropy=4.528564678291706, right_branching_entropy=3.385141656095195, left_accessor_variety=277, right_accessor_variety=201, leftside_frequency=6322, rightside_frequency=749),\n",
       " '밝': Scores(cohesion_forward=0, cohesion_backward=0, left_branching_entropy=1.792382248235827, right_branching_entropy=0.8990676640736698, left_accessor_variety=64, right_accessor_variety=15, leftside_frequency=11970, rightside_frequency=0),\n",
       " '늦': Scores(cohesion_forward=0, cohesion_backward=0, left_branching_entropy=3.3976780967509854, right_branching_entropy=2.2357616986825937, left_accessor_variety=47, right_accessor_variety=15, leftside_frequency=466, rightside_frequency=0),\n",
       " '혁': Scores(cohesion_forward=0, cohesion_backward=0, left_branching_entropy=3.487886826800146, right_branching_entropy=2.7793676454436262, left_accessor_variety=98, right_accessor_variety=84, leftside_frequency=789, rightside_frequency=1185),\n",
       " '럼': Scores(cohesion_forward=0, cohesion_backward=0, left_branching_entropy=0.30944296415558703, right_branching_entropy=5.047381122351108, left_accessor_variety=6, right_accessor_variety=321, leftside_frequency=0, rightside_frequency=3565),\n",
       " '겟': Scores(cohesion_forward=0, cohesion_backward=0, left_branching_entropy=-0.0, right_branching_entropy=-0.0, left_accessor_variety=1, right_accessor_variety=1, leftside_frequency=8, rightside_frequency=0),\n",
       " '짖': Scores(cohesion_forward=0, cohesion_backward=0, left_branching_entropy=1.5890269151739727, right_branching_entropy=-0.0, left_accessor_variety=5, right_accessor_variety=1, leftside_frequency=18, rightside_frequency=0),\n",
       " '못': Scores(cohesion_forward=0, cohesion_backward=0, left_branching_entropy=1.9116255065743326, right_branching_entropy=2.512107096795343, left_accessor_variety=106, right_accessor_variety=104, leftside_frequency=4274, rightside_frequency=130),\n",
       " '젤': Scores(cohesion_forward=0, cohesion_backward=0, left_branching_entropy=2.321386255082378, right_branching_entropy=2.6751176259322462, left_accessor_variety=13, right_accessor_variety=21, leftside_frequency=59, rightside_frequency=126),\n",
       " '벤': Scores(cohesion_forward=0, cohesion_backward=0, left_branching_entropy=3.3374901763902405, right_branching_entropy=1.4284632413665772, left_accessor_variety=50, right_accessor_variety=11, leftside_frequency=374, rightside_frequency=13),\n",
       " '듭': Scores(cohesion_forward=0, cohesion_backward=0, left_branching_entropy=-0.0, right_branching_entropy=2.662120673335991, left_accessor_variety=1, right_accessor_variety=27, leftside_frequency=23, rightside_frequency=236),\n",
       " '던': Scores(cohesion_forward=0, cohesion_backward=0, left_branching_entropy=3.0779378659343597, right_branching_entropy=5.118880084916906, left_accessor_variety=106, right_accessor_variety=429, leftside_frequency=526, rightside_frequency=12255),\n",
       " '헬': Scores(cohesion_forward=0, cohesion_backward=0, left_branching_entropy=3.7672903428204347, right_branching_entropy=1.6305949784894647, left_accessor_variety=68, right_accessor_variety=9, leftside_frequency=560, rightside_frequency=9),\n",
       " '혐': Scores(cohesion_forward=0, cohesion_backward=0, left_branching_entropy=3.300291631589809, right_branching_entropy=0.20433140910179845, left_accessor_variety=87, right_accessor_variety=5, leftside_frequency=2451, rightside_frequency=23),\n",
       " '꺼': Scores(cohesion_forward=0, cohesion_backward=0, left_branching_entropy=2.370470381812809, right_branching_entropy=1.92223338884526, left_accessor_variety=28, right_accessor_variety=11, leftside_frequency=426, rightside_frequency=0),\n",
       " '헥': Scores(cohesion_forward=0, cohesion_backward=0, left_branching_entropy=-0.0, right_branching_entropy=-0.0, left_accessor_variety=1, right_accessor_variety=1, leftside_frequency=8, rightside_frequency=0),\n",
       " '머': Scores(cohesion_forward=0, cohesion_backward=0, left_branching_entropy=2.8495099073833368, right_branching_entropy=1.7799996294692606, left_accessor_variety=95, right_accessor_variety=55, leftside_frequency=3328, rightside_frequency=205),\n",
       " '맛': Scores(cohesion_forward=0, cohesion_backward=0, left_branching_entropy=3.6944053294748582, right_branching_entropy=2.787861543406029, left_accessor_variety=81, right_accessor_variety=38, leftside_frequency=884, rightside_frequency=72),\n",
       " '펙': Scores(cohesion_forward=0, cohesion_backward=0, left_branching_entropy=-0.0, right_branching_entropy=1.5472867333409475, left_accessor_variety=1, right_accessor_variety=5, leftside_frequency=0, rightside_frequency=24),\n",
       " '잠': Scores(cohesion_forward=0, cohesion_backward=0, left_branching_entropy=3.8531215218832586, right_branching_entropy=2.7731778658242376, left_accessor_variety=100, right_accessor_variety=31, leftside_frequency=1582, rightside_frequency=18),\n",
       " '헐': Scores(cohesion_forward=0, cohesion_backward=0, left_branching_entropy=1.9845415565918731, right_branching_entropy=1.003690367837568, left_accessor_variety=9, right_accessor_variety=3, leftside_frequency=54, rightside_frequency=0),\n",
       " '훑': Scores(cohesion_forward=0, cohesion_backward=0, left_branching_entropy=0.6365141682948128, right_branching_entropy=0, left_accessor_variety=2, right_accessor_variety=0, leftside_frequency=7, rightside_frequency=0),\n",
       " '셜': Scores(cohesion_forward=0, cohesion_backward=0, left_branching_entropy=1.0619675482086433, right_branching_entropy=3.4546985470960574, left_accessor_variety=6, right_accessor_variety=46, leftside_frequency=8, rightside_frequency=305),\n",
       " '규': Scores(cohesion_forward=0, cohesion_backward=0, left_branching_entropy=4.337035552857458, right_branching_entropy=3.0536004450091516, left_accessor_variety=247, right_accessor_variety=177, leftside_frequency=5308, rightside_frequency=3416),\n",
       " '팽': Scores(cohesion_forward=0, cohesion_backward=0, left_branching_entropy=2.6083812361121796, right_branching_entropy=1.362528421358171, left_accessor_variety=19, right_accessor_variety=7, leftside_frequency=113, rightside_frequency=7),\n",
       " '딤': Scores(cohesion_forward=0, cohesion_backward=0, left_branching_entropy=0.15174313067356796, right_branching_entropy=0.6295060121508534, left_accessor_variety=4, right_accessor_variety=5, leftside_frequency=16, rightside_frequency=367),\n",
       " '붕': Scores(cohesion_forward=0, cohesion_backward=0, left_branching_entropy=2.2465529802141617, right_branching_entropy=1.5904721535977342, left_accessor_variety=13, right_accessor_variety=10, leftside_frequency=104, rightside_frequency=65),\n",
       " '플': Scores(cohesion_forward=0, cohesion_backward=0, left_branching_entropy=4.558053564643605, right_branching_entropy=2.9019132307962185, left_accessor_variety=181, right_accessor_variety=82, leftside_frequency=1849, rightside_frequency=516),\n",
       " '멱': Scores(cohesion_forward=0, cohesion_backward=0, left_branching_entropy=0.6365141682948128, right_branching_entropy=-0.0, left_accessor_variety=2, right_accessor_variety=1, leftside_frequency=14, rightside_frequency=0),\n",
       " '집': Scores(cohesion_forward=0, cohesion_backward=0, left_branching_entropy=3.9002633394016404, right_branching_entropy=3.5554086572133734, left_accessor_variety=237, right_accessor_variety=231, leftside_frequency=6471, rightside_frequency=1578),\n",
       " '옛': Scores(cohesion_forward=0, cohesion_backward=0, left_branching_entropy=3.464917557773109, right_branching_entropy=3.2355333934418167, left_accessor_variety=54, right_accessor_variety=40, leftside_frequency=125, rightside_frequency=0),\n",
       " '표': Scores(cohesion_forward=0, cohesion_backward=0, left_branching_entropy=4.054953427624688, right_branching_entropy=4.261208608549414, left_accessor_variety=188, right_accessor_variety=277, leftside_frequency=4717, rightside_frequency=3770),\n",
       " '장': Scores(cohesion_forward=0, cohesion_backward=0, left_branching_entropy=4.82453827655944, right_branching_entropy=5.225243838383383, left_accessor_variety=451, right_accessor_variety=608, leftside_frequency=13338, rightside_frequency=20575),\n",
       " '퀸': Scores(cohesion_forward=0, cohesion_backward=0, left_branching_entropy=2.1236489864127495, right_branching_entropy=2.2368144027204098, left_accessor_variety=13, right_accessor_variety=13, leftside_frequency=21, rightside_frequency=76),\n",
       " '듯': Scores(cohesion_forward=0, cohesion_backward=0, left_branching_entropy=2.9307302141067364, right_branching_entropy=4.0504222856366345, left_accessor_variety=55, right_accessor_variety=152, leftside_frequency=433, rightside_frequency=459),\n",
       " '롭': Scores(cohesion_forward=0, cohesion_backward=0, left_branching_entropy=-0.0, right_branching_entropy=1.0361987848192837, left_accessor_variety=1, right_accessor_variety=3, leftside_frequency=0, rightside_frequency=17),\n",
       " '질': Scores(cohesion_forward=0, cohesion_backward=0, left_branching_entropy=3.941485323646499, right_branching_entropy=3.4137232508889057, left_accessor_variety=186, right_accessor_variety=196, leftside_frequency=4091, rightside_frequency=3300),\n",
       " '벅': Scores(cohesion_forward=0, cohesion_backward=0, left_branching_entropy=1.6225272035993974, right_branching_entropy=1.7522792126991196, left_accessor_variety=10, right_accessor_variety=7, leftside_frequency=52, rightside_frequency=55),\n",
       " '뵙': Scores(cohesion_forward=0, cohesion_backward=0, left_branching_entropy=1.3421131789144003, right_branching_entropy=0.6517565611726531, left_accessor_variety=4, right_accessor_variety=2, leftside_frequency=15, rightside_frequency=0),\n",
       " '왈': Scores(cohesion_forward=0, cohesion_backward=0, left_branching_entropy=0.4584565761117292, right_branching_entropy=0.5354297243461882, left_accessor_variety=5, right_accessor_variety=5, leftside_frequency=148, rightside_frequency=0),\n",
       " '체': Scores(cohesion_forward=0, cohesion_backward=0, left_branching_entropy=4.30390696128246, right_branching_entropy=4.522484832286171, left_accessor_variety=264, right_accessor_variety=339, leftside_frequency=5221, rightside_frequency=5229),\n",
       " '뉘': Scores(cohesion_forward=0, cohesion_backward=0, left_branching_entropy=1.7504416966364251, right_branching_entropy=0.5954002839805336, left_accessor_variety=7, right_accessor_variety=2, leftside_frequency=50, rightside_frequency=0),\n",
       " '흑': Scores(cohesion_forward=0, cohesion_backward=0, left_branching_entropy=3.4136859905159507, right_branching_entropy=1.5779029894458925, left_accessor_variety=47, right_accessor_variety=10, leftside_frequency=380, rightside_frequency=0),\n",
       " '찌': Scores(cohesion_forward=0, cohesion_backward=0, left_branching_entropy=1.6454111616550213, right_branching_entropy=2.9073253724598875, left_accessor_variety=21, right_accessor_variety=36, leftside_frequency=157, rightside_frequency=307),\n",
       " '퀀': Scores(cohesion_forward=0, cohesion_backward=0, left_branching_entropy=-0.0, right_branching_entropy=0, left_accessor_variety=1, right_accessor_variety=0, leftside_frequency=5, rightside_frequency=0),\n",
       " '빡': Scores(cohesion_forward=0, cohesion_backward=0, left_branching_entropy=0.6365141682948128, right_branching_entropy=-0.0, left_accessor_variety=2, right_accessor_variety=1, leftside_frequency=8, rightside_frequency=0),\n",
       " '귓': Scores(cohesion_forward=0, cohesion_backward=0, left_branching_entropy=0.6365141682948128, right_branching_entropy=0.6901856760188042, left_accessor_variety=2, right_accessor_variety=2, leftside_frequency=14, rightside_frequency=0),\n",
       " '얘': Scores(cohesion_forward=0, cohesion_backward=0, left_branching_entropy=3.2442573923117486, right_branching_entropy=0.12287565530193048, left_accessor_variety=78, right_accessor_variety=5, leftside_frequency=1193, rightside_frequency=0),\n",
       " '훼': Scores(cohesion_forward=0, cohesion_backward=0, left_branching_entropy=2.307713504029082, right_branching_entropy=0.07874344192149704, left_accessor_variety=26, right_accessor_variety=3, leftside_frequency=306, rightside_frequency=6),\n",
       " '쥐': Scores(cohesion_forward=0, cohesion_backward=0, left_branching_entropy=2.7682625852627063, right_branching_entropy=2.6581690750830185, left_accessor_variety=27, right_accessor_variety=18, leftside_frequency=221, rightside_frequency=41),\n",
       " '뭐': Scores(cohesion_forward=0, cohesion_backward=0, left_branching_entropy=3.0347687884507413, right_branching_entropy=2.5952144193306075, left_accessor_variety=34, right_accessor_variety=25, leftside_frequency=324, rightside_frequency=0),\n",
       " '든': Scores(cohesion_forward=0, cohesion_backward=0, left_branching_entropy=3.130382973104776, right_branching_entropy=4.647823302034715, left_accessor_variety=53, right_accessor_variety=332, leftside_frequency=229, rightside_frequency=5625),\n",
       " '새': Scores(cohesion_forward=0, cohesion_backward=0, left_branching_entropy=4.1303938232520245, right_branching_entropy=2.7785160449608646, left_accessor_variety=239, right_accessor_variety=191, leftside_frequency=6992, rightside_frequency=338),\n",
       " '획': Scores(cohesion_forward=0, cohesion_backward=0, left_branching_entropy=2.2095213694450844, right_branching_entropy=3.2962319762473156, left_accessor_variety=32, right_accessor_variety=102, leftside_frequency=346, rightside_frequency=1228),\n",
       " '킷': Scores(cohesion_forward=0, cohesion_backward=0, left_branching_entropy=-0.0, right_branching_entropy=2.8267503060668595, left_accessor_variety=1, right_accessor_variety=23, leftside_frequency=0, rightside_frequency=162),\n",
       " '격': Scores(cohesion_forward=0, cohesion_backward=0, left_branching_entropy=3.822502697720247, right_branching_entropy=4.577990280685077, left_accessor_variety=91, right_accessor_variety=207, leftside_frequency=989, rightside_frequency=1829),\n",
       " '씹': Scores(cohesion_forward=0, cohesion_backward=0, left_branching_entropy=1.9257904650586823, right_branching_entropy=1.7728598089508285, left_accessor_variety=8, right_accessor_variety=6, leftside_frequency=45, rightside_frequency=0),\n",
       " '좀': Scores(cohesion_forward=0, cohesion_backward=0, left_branching_entropy=3.369042408750694, right_branching_entropy=3.2082045245424013, left_accessor_variety=70, right_accessor_variety=88, leftside_frequency=175, rightside_frequency=5),\n",
       " '영': Scores(cohesion_forward=0, cohesion_backward=0, left_branching_entropy=4.555467113040518, right_branching_entropy=3.424158430363811, left_accessor_variety=428, right_accessor_variety=314, leftside_frequency=19149, rightside_frequency=5931),\n",
       " '떨': Scores(cohesion_forward=0, cohesion_backward=0, left_branching_entropy=3.373349806277456, right_branching_entropy=0.8655744718010818, left_accessor_variety=88, right_accessor_variety=18, leftside_frequency=1778, rightside_frequency=7),\n",
       " '깃': Scores(cohesion_forward=0, cohesion_backward=0, left_branching_entropy=2.1896716803591296, right_branching_entropy=1.511766183510537, left_accessor_variety=12, right_accessor_variety=5, leftside_frequency=88, rightside_frequency=15),\n",
       " '튀': Scores(cohesion_forward=0, cohesion_backward=0, left_branching_entropy=2.5855693123364314, right_branching_entropy=1.6851402826539927, left_accessor_variety=23, right_accessor_variety=10, leftside_frequency=207, rightside_frequency=13),\n",
       " '숲': Scores(cohesion_forward=0, cohesion_backward=0, left_branching_entropy=3.272598053788186, right_branching_entropy=3.06760286475027, left_accessor_variety=46, right_accessor_variety=33, leftside_frequency=199, rightside_frequency=114),\n",
       " '숙': Scores(cohesion_forward=0, cohesion_backward=0, left_branching_entropy=3.8552125618908013, right_branching_entropy=3.558405885399025, left_accessor_variety=110, right_accessor_variety=85, leftside_frequency=812, rightside_frequency=798),\n",
       " '들': Scores(cohesion_forward=0, cohesion_backward=0, left_branching_entropy=3.8721025059786265, right_branching_entropy=3.7167755552965747, left_accessor_variety=252, right_accessor_variety=331, leftside_frequency=7319, rightside_frequency=4243),\n",
       " '팩': Scores(cohesion_forward=0, cohesion_backward=0, left_branching_entropy=3.2237688289721547, right_branching_entropy=1.6936719769712536, left_accessor_variety=30, right_accessor_variety=12, leftside_frequency=133, rightside_frequency=39),\n",
       " '설': Scores(cohesion_forward=0, cohesion_backward=0, left_branching_entropy=3.837813284556568, right_branching_entropy=3.2409818585959713, left_accessor_variety=255, right_accessor_variety=249, leftside_frequency=8959, rightside_frequency=2706),\n",
       " '떠': Scores(cohesion_forward=0, cohesion_backward=0, left_branching_entropy=2.4039643906903985, right_branching_entropy=2.29116463887135, left_accessor_variety=50, right_accessor_variety=27, leftside_frequency=1686, rightside_frequency=9),\n",
       " '쩔': Scores(cohesion_forward=0, cohesion_backward=0, left_branching_entropy=1.0096137581740383, right_branching_entropy=0.9460623084947997, left_accessor_variety=3, right_accessor_variety=4, leftside_frequency=18, rightside_frequency=86),\n",
       " '빛': Scores(cohesion_forward=0, cohesion_backward=0, left_branching_entropy=3.3308662792481485, right_branching_entropy=3.366175470695283, left_accessor_variety=60, right_accessor_variety=81, leftside_frequency=624, rightside_frequency=707),\n",
       " '냅': Scores(cohesion_forward=0, cohesion_backward=0, left_branching_entropy=0.7251804619593594, right_branching_entropy=0.6425668400189826, left_accessor_variety=3, right_accessor_variety=3, leftside_frequency=15, rightside_frequency=34),\n",
       " '핍': Scores(cohesion_forward=0, cohesion_backward=0, left_branching_entropy=0, right_branching_entropy=0.6931471805599453, left_accessor_variety=0, right_accessor_variety=2, leftside_frequency=0, rightside_frequency=9),\n",
       " '브': Scores(cohesion_forward=0, cohesion_backward=0, left_branching_entropy=4.300221505703599, right_branching_entropy=2.819022026457835, left_accessor_variety=249, right_accessor_variety=179, leftside_frequency=4874, rightside_frequency=1887),\n",
       " '쩐': Scores(cohesion_forward=0, cohesion_backward=0, left_branching_entropy=0, right_branching_entropy=0, left_accessor_variety=0, right_accessor_variety=0, leftside_frequency=5, rightside_frequency=0),\n",
       " '염': Scores(cohesion_forward=0, cohesion_backward=0, left_branching_entropy=3.539154667655959, right_branching_entropy=3.2671137712522413, left_accessor_variety=66, right_accessor_variety=69, leftside_frequency=616, rightside_frequency=326),\n",
       " '캄': Scores(cohesion_forward=0, cohesion_backward=0, left_branching_entropy=2.321947658183326, right_branching_entropy=1.2412481223908, left_accessor_variety=12, right_accessor_variety=5, leftside_frequency=62, rightside_frequency=0),\n",
       " '뜰': Scores(cohesion_forward=0, cohesion_backward=0, left_branching_entropy=1.0821955300387673, right_branching_entropy=1.0296530140645737, left_accessor_variety=3, right_accessor_variety=3, leftside_frequency=8, rightside_frequency=7),\n",
       " '몰': Scores(cohesion_forward=0, cohesion_backward=0, left_branching_entropy=3.2175586352682823, right_branching_entropy=2.980849764696245, left_accessor_variety=76, right_accessor_variety=63, leftside_frequency=1776, rightside_frequency=237),\n",
       " '뜩': Scores(cohesion_forward=0, cohesion_backward=0, left_branching_entropy=0, right_branching_entropy=1.7893467993102627, left_accessor_variety=0, right_accessor_variety=8, leftside_frequency=0, rightside_frequency=73),\n",
       " '팁': Scores(cohesion_forward=0, cohesion_backward=0, left_branching_entropy=2.4748966639558203, right_branching_entropy=1.8844411571347017, left_accessor_variety=16, right_accessor_variety=12, leftside_frequency=93, rightside_frequency=14),\n",
       " '낭': Scores(cohesion_forward=0, cohesion_backward=0, left_branching_entropy=3.3519261446249424, right_branching_entropy=1.4773718232744255, left_accessor_variety=41, right_accessor_variety=12, leftside_frequency=440, rightside_frequency=43),\n",
       " '줘': Scores(cohesion_forward=0, cohesion_backward=0, left_branching_entropy=2.1305378171269167, right_branching_entropy=3.1692255420814623, left_accessor_variety=13, right_accessor_variety=40, leftside_frequency=68, rightside_frequency=131),\n",
       " '쿡': Scores(cohesion_forward=0, cohesion_backward=0, left_branching_entropy=1.8358438772796093, right_branching_entropy=1.6905436834694256, left_accessor_variety=7, right_accessor_variety=7, leftside_frequency=18, rightside_frequency=19),\n",
       " '읽': Scores(cohesion_forward=0, cohesion_backward=0, left_branching_entropy=2.5980096204422085, right_branching_entropy=2.2605514037353016, left_accessor_variety=33, right_accessor_variety=13, leftside_frequency=462, rightside_frequency=0),\n",
       " '씽': Scores(cohesion_forward=0, cohesion_backward=0, left_branching_entropy=1.2563299681655054, right_branching_entropy=0.3350396185203728, left_accessor_variety=7, right_accessor_variety=3, leftside_frequency=201, rightside_frequency=24),\n",
       " '텍': Scores(cohesion_forward=0, cohesion_backward=0, left_branching_entropy=3.0890716874914914, right_branching_entropy=3.0233334639577016, left_accessor_variety=29, right_accessor_variety=38, leftside_frequency=103, rightside_frequency=214),\n",
       " '넋': Scores(cohesion_forward=0, cohesion_backward=0, left_branching_entropy=-0.0, right_branching_entropy=-0.0, left_accessor_variety=1, right_accessor_variety=1, leftside_frequency=10, rightside_frequency=0),\n",
       " '서': Scores(cohesion_forward=0, cohesion_backward=0, left_branching_entropy=2.956916233613096, right_branching_entropy=4.917036758727888, left_accessor_variety=566, right_accessor_variety=924, leftside_frequency=38841, rightside_frequency=87753),\n",
       " '역': Scores(cohesion_forward=0, cohesion_backward=0, left_branching_entropy=4.866800703802031, right_branching_entropy=4.113997922819042, left_accessor_variety=387, right_accessor_variety=311, leftside_frequency=7854, rightside_frequency=4694),\n",
       " '살': Scores(cohesion_forward=0, cohesion_backward=0, left_branching_entropy=3.834744999469518, right_branching_entropy=3.6230786989022303, left_accessor_variety=171, right_accessor_variety=139, leftside_frequency=4409, rightside_frequency=897),\n",
       " '앓': Scores(cohesion_forward=0, cohesion_backward=0, left_branching_entropy=0.8467566743298073, right_branching_entropy=1.330375376713307, left_accessor_variety=7, right_accessor_variety=6, leftside_frequency=213, rightside_frequency=0),\n",
       " '퉈': Scores(cohesion_forward=0, cohesion_backward=0, left_branching_entropy=-0.0, right_branching_entropy=0.9949236325717752, left_accessor_variety=1, right_accessor_variety=3, leftside_frequency=0, rightside_frequency=26),\n",
       " '변': Scores(cohesion_forward=0, cohesion_backward=0, left_branching_entropy=4.263423205725705, right_branching_entropy=3.072087826906422, left_accessor_variety=227, right_accessor_variety=137, leftside_frequency=5001, rightside_frequency=593),\n",
       " '균': Scores(cohesion_forward=0, cohesion_backward=0, left_branching_entropy=2.9874279953526406, right_branching_entropy=4.062386439965943, left_accessor_variety=59, right_accessor_variety=123, leftside_frequency=289, rightside_frequency=1655),\n",
       " '점': Scores(cohesion_forward=0, cohesion_backward=0, left_branching_entropy=3.8399474938888183, right_branching_entropy=4.443228756625167, left_accessor_variety=216, right_accessor_variety=310, leftside_frequency=4673, rightside_frequency=3379),\n",
       " '웡': Scores(cohesion_forward=0, cohesion_backward=0, left_branching_entropy=1.2914167691452025, right_branching_entropy=1.0281838593329258, left_accessor_variety=4, right_accessor_variety=3, leftside_frequency=12, rightside_frequency=0),\n",
       " '뷰': Scores(cohesion_forward=0, cohesion_backward=0, left_branching_entropy=2.2703116401562307, right_branching_entropy=3.367867811626985, left_accessor_variety=60, right_accessor_variety=107, leftside_frequency=526, rightside_frequency=825),\n",
       " '애': Scores(cohesion_forward=0, cohesion_backward=0, left_branching_entropy=4.1831769108193235, right_branching_entropy=3.8666355529209024, left_accessor_variety=182, right_accessor_variety=155, leftside_frequency=3440, rightside_frequency=1533),\n",
       " '곳': Scores(cohesion_forward=0, cohesion_backward=0, left_branching_entropy=3.4149247925997077, right_branching_entropy=2.8770923324721505, left_accessor_variety=117, right_accessor_variety=100, leftside_frequency=2220, rightside_frequency=395),\n",
       " '션': Scores(cohesion_forward=0, cohesion_backward=0, left_branching_entropy=2.0089411905709595, right_branching_entropy=4.804245416615696, left_accessor_variety=20, right_accessor_variety=217, leftside_frequency=10, rightside_frequency=2569),\n",
       " '덤': Scores(cohesion_forward=0, cohesion_backward=0, left_branching_entropy=2.394155552849728, right_branching_entropy=2.6462313996978897, left_accessor_variety=13, right_accessor_variety=21, leftside_frequency=73, rightside_frequency=59),\n",
       " '될': Scores(cohesion_forward=0, cohesion_backward=0, left_branching_entropy=3.6041443232208143, right_branching_entropy=2.539421868419843, left_accessor_variety=133, right_accessor_variety=122, leftside_frequency=239, rightside_frequency=3492),\n",
       " '라': Scores(cohesion_forward=0, cohesion_backward=0, left_branching_entropy=4.420159723023766, right_branching_entropy=4.380388461219589, left_accessor_variety=406, right_accessor_variety=546, leftside_frequency=13376, rightside_frequency=14975),\n",
       " '당': Scores(cohesion_forward=0, cohesion_backward=0, left_branching_entropy=4.09250699686441, right_branching_entropy=4.317736112414091, left_accessor_variety=360, right_accessor_variety=337, leftside_frequency=9992, rightside_frequency=11164),\n",
       " '벙': Scores(cohesion_forward=0, cohesion_backward=0, left_branching_entropy=2.421628279754696, right_branching_entropy=-0.0, left_accessor_variety=12, right_accessor_variety=1, leftside_frequency=50, rightside_frequency=0),\n",
       " '덕': Scores(cohesion_forward=0, cohesion_backward=0, left_branching_entropy=4.115166488572114, right_branching_entropy=3.1254035580827657, left_accessor_variety=98, right_accessor_variety=70, leftside_frequency=655, rightside_frequency=320),\n",
       " '댔': Scores(cohesion_forward=0, cohesion_backward=0, left_branching_entropy=-0.0, right_branching_entropy=-0.0, left_accessor_variety=1, right_accessor_variety=1, leftside_frequency=13, rightside_frequency=0),\n",
       " '9': Scores(cohesion_forward=0, cohesion_backward=0, left_branching_entropy=4.413439984175353, right_branching_entropy=3.9079520291509335, left_accessor_variety=256, right_accessor_variety=227, leftside_frequency=7429, rightside_frequency=5031),\n",
       " '켓': Scores(cohesion_forward=0, cohesion_backward=0, left_branching_entropy=0.8790209785545819, right_branching_entropy=3.490162856360506, left_accessor_variety=5, right_accessor_variety=50, leftside_frequency=0, rightside_frequency=358),\n",
       " '톤': Scores(cohesion_forward=0, cohesion_backward=0, left_branching_entropy=3.0109871547074136, right_branching_entropy=3.5917721254277937, left_accessor_variety=32, right_accessor_variety=49, leftside_frequency=107, rightside_frequency=230),\n",
       " '렬': Scores(cohesion_forward=0, cohesion_backward=0, left_branching_entropy=0.8820106278498998, right_branching_entropy=1.7358553694808498, left_accessor_variety=5, right_accessor_variety=19, leftside_frequency=0, rightside_frequency=208),\n",
       " '엔': Scores(cohesion_forward=0, cohesion_backward=0, left_branching_entropy=4.232379153394946, right_branching_entropy=3.457736478725519, left_accessor_variety=186, right_accessor_variety=217, leftside_frequency=1870, rightside_frequency=1760),\n",
       " '캣': Scores(cohesion_forward=0, cohesion_backward=0, left_branching_entropy=0.37677016125643675, right_branching_entropy=1.598368627819744, left_accessor_variety=2, right_accessor_variety=5, leftside_frequency=11, rightside_frequency=8),\n",
       " '펠': Scores(cohesion_forward=0, cohesion_backward=0, left_branching_entropy=1.847410762973004, right_branching_entropy=0.9568415005776374, left_accessor_variety=10, right_accessor_variety=5, leftside_frequency=77, rightside_frequency=12),\n",
       " '곱': Scores(cohesion_forward=0, cohesion_backward=0, left_branching_entropy=2.4535236057774723, right_branching_entropy=1.8853594000933351, left_accessor_variety=15, right_accessor_variety=10, leftside_frequency=75, rightside_frequency=38),\n",
       " '앉': Scores(cohesion_forward=0, cohesion_backward=0, left_branching_entropy=1.9820937268853331, right_branching_entropy=1.7639443943217716, left_accessor_variety=27, right_accessor_variety=12, leftside_frequency=451, rightside_frequency=0),\n",
       " '뺏': Scores(cohesion_forward=0, cohesion_backward=0, left_branching_entropy=2.2118374851828713, right_branching_entropy=1.223406487458574, left_accessor_variety=10, right_accessor_variety=4, leftside_frequency=55, rightside_frequency=0),\n",
       " '벰': Scores(cohesion_forward=0, cohesion_backward=0, left_branching_entropy=0, right_branching_entropy=0, left_accessor_variety=0, right_accessor_variety=0, leftside_frequency=5, rightside_frequency=0),\n",
       " '화': Scores(cohesion_forward=0, cohesion_backward=0, left_branching_entropy=4.623569355577031, right_branching_entropy=4.517902467261302, left_accessor_variety=404, right_accessor_variety=423, leftside_frequency=10144, rightside_frequency=9706),\n",
       " '세': Scores(cohesion_forward=0, cohesion_backward=0, left_branching_entropy=4.628087870578228, right_branching_entropy=3.8354212956913325, left_accessor_variety=406, right_accessor_variety=323, leftside_frequency=13368, rightside_frequency=3295),\n",
       " '찼': Scores(cohesion_forward=0, cohesion_backward=0, left_branching_entropy=0.9596147939120492, right_branching_entropy=0.6881388137135884, left_accessor_variety=3, right_accessor_variety=2, leftside_frequency=25, rightside_frequency=0),\n",
       " '굉': Scores(cohesion_forward=0, cohesion_backward=0, left_branching_entropy=2.9130509976409464, right_branching_entropy=0.14370507759932824, left_accessor_variety=29, right_accessor_variety=3, leftside_frequency=414, rightside_frequency=0),\n",
       " '쭈': Scores(cohesion_forward=0, cohesion_backward=0, left_branching_entropy=-0.0, right_branching_entropy=-0.0, left_accessor_variety=1, right_accessor_variety=1, leftside_frequency=11, rightside_frequency=0),\n",
       " '렉': Scores(cohesion_forward=0, cohesion_backward=0, left_branching_entropy=1.1972375015579317, right_branching_entropy=1.7582428597165525, left_accessor_variety=4, right_accessor_variety=7, leftside_frequency=25, rightside_frequency=13),\n",
       " '틀': Scores(cohesion_forward=0, cohesion_backward=0, left_branching_entropy=2.6424462931834976, right_branching_entropy=3.4175785654414272, left_accessor_variety=32, right_accessor_variety=56, leftside_frequency=295, rightside_frequency=447),\n",
       " '맷': Scores(cohesion_forward=0, cohesion_backward=0, left_branching_entropy=0, right_branching_entropy=-0.0, left_accessor_variety=0, right_accessor_variety=1, leftside_frequency=0, rightside_frequency=7),\n",
       " '융': Scores(cohesion_forward=0, cohesion_backward=0, left_branching_entropy=3.349666987865973, right_branching_entropy=3.158159196526056, left_accessor_variety=67, right_accessor_variety=65, leftside_frequency=485, rightside_frequency=529),\n",
       " '튼': Scores(cohesion_forward=0, cohesion_backward=0, left_branching_entropy=1.5351161272956984, right_branching_entropy=2.3466231148444896, left_accessor_variety=20, right_accessor_variety=40, leftside_frequency=60, rightside_frequency=396),\n",
       " '펴': Scores(cohesion_forward=0, cohesion_backward=0, left_branching_entropy=2.095686022937521, right_branching_entropy=2.2510621404550593, left_accessor_variety=19, right_accessor_variety=14, leftside_frequency=179, rightside_frequency=29),\n",
       " '막': Scores(cohesion_forward=0, cohesion_backward=0, left_branching_entropy=3.056559772960749, right_branching_entropy=4.250315450815138, left_accessor_variety=110, right_accessor_variety=170, leftside_frequency=1901, rightside_frequency=1046),\n",
       " '농': Scores(cohesion_forward=0, cohesion_backward=0, left_branching_entropy=4.36504167817366, right_branching_entropy=3.1444522691452867, left_accessor_variety=183, right_accessor_variety=62, leftside_frequency=3090, rightside_frequency=159),\n",
       " '궐': Scores(cohesion_forward=0, cohesion_backward=0, left_branching_entropy=-0.0, right_branching_entropy=0.3250829733914482, left_accessor_variety=1, right_accessor_variety=2, leftside_frequency=0, rightside_frequency=22),\n",
       " '타': Scores(cohesion_forward=0, cohesion_backward=0, left_branching_entropy=3.5654432820298836, right_branching_entropy=4.152473727421285, left_accessor_variety=225, right_accessor_variety=251, leftside_frequency=3795, rightside_frequency=3139),\n",
       " '써': Scores(cohesion_forward=0, cohesion_backward=0, left_branching_entropy=1.6336988278016462, right_branching_entropy=4.593279261109542, left_accessor_variety=39, right_accessor_variety=159, leftside_frequency=362, rightside_frequency=892),\n",
       " '윗': Scores(cohesion_forward=0, cohesion_backward=0, left_branching_entropy=2.3215554263815013, right_branching_entropy=1.4953032334152474, left_accessor_variety=13, right_accessor_variety=6, leftside_frequency=59, rightside_frequency=16),\n",
       " '몸': Scores(cohesion_forward=0, cohesion_backward=0, left_branching_entropy=3.3505312948850974, right_branching_entropy=2.665955626296349, left_accessor_variety=75, right_accessor_variety=40, leftside_frequency=1305, rightside_frequency=17),\n",
       " '콜': Scores(cohesion_forward=0, cohesion_backward=0, left_branching_entropy=3.8109657500631138, right_branching_entropy=2.7785233492998973, left_accessor_variety=79, right_accessor_variety=53, leftside_frequency=642, rightside_frequency=279),\n",
       " '꿈': Scores(cohesion_forward=0, cohesion_backward=0, left_branching_entropy=2.8553551030904134, right_branching_entropy=2.303031488558408, left_accessor_variety=66, right_accessor_variety=39, leftside_frequency=1215, rightside_frequency=10),\n",
       " '꼬': Scores(cohesion_forward=0, cohesion_backward=0, left_branching_entropy=1.8439740133563158, right_branching_entropy=1.6370767810392495, left_accessor_variety=32, right_accessor_variety=15, leftside_frequency=819, rightside_frequency=81),\n",
       " '튤': Scores(cohesion_forward=0, cohesion_backward=0, left_branching_entropy=0.6730116670092565, right_branching_entropy=-0.0, left_accessor_variety=2, right_accessor_variety=1, leftside_frequency=6, rightside_frequency=0),\n",
       " '숟': Scores(cohesion_forward=0, cohesion_backward=0, left_branching_entropy=2.379120975540097, right_branching_entropy=-0.0, left_accessor_variety=14, right_accessor_variety=1, leftside_frequency=93, rightside_frequency=0),\n",
       " '김': Scores(cohesion_forward=0, cohesion_backward=0, left_branching_entropy=4.223069061866314, right_branching_entropy=4.347284442056579, left_accessor_variety=375, right_accessor_variety=235, leftside_frequency=26563, rightside_frequency=105),\n",
       " '델': Scores(cohesion_forward=0, cohesion_backward=0, left_branching_entropy=1.807200089457584, right_branching_entropy=3.990269797556251, left_accessor_variety=22, right_accessor_variety=89, leftside_frequency=53, rightside_frequency=664),\n",
       " '히': Scores(cohesion_forward=0, cohesion_backward=0, left_branching_entropy=3.787636886982429, right_branching_entropy=5.511467666380106, left_accessor_variety=131, right_accessor_variety=541, leftside_frequency=541, rightside_frequency=12420),\n",
       " '썩': Scores(cohesion_forward=0, cohesion_backward=0, left_branching_entropy=1.8718316115508995, right_branching_entropy=1.422127789947383, left_accessor_variety=9, right_accessor_variety=5, leftside_frequency=70, rightside_frequency=6),\n",
       " '낫': Scores(cohesion_forward=0, cohesion_backward=0, left_branching_entropy=1.74920597662202, right_branching_entropy=0.8517401270448423, left_accessor_variety=8, right_accessor_variety=4, leftside_frequency=93, rightside_frequency=0),\n",
       " '왕': Scores(cohesion_forward=0, cohesion_backward=0, left_branching_entropy=3.3899641072375224, right_branching_entropy=3.5795122624287945, left_accessor_variety=105, right_accessor_variety=109, leftside_frequency=1083, rightside_frequency=1260),\n",
       " '림': Scores(cohesion_forward=0, cohesion_backward=0, left_branching_entropy=2.727974543216625, right_branching_entropy=4.175006627196174, left_accessor_variety=27, right_accessor_variety=129, leftside_frequency=8, rightside_frequency=1023),\n",
       " '멧': Scores(cohesion_forward=0, cohesion_backward=0, left_branching_entropy=2.4884601907458115, right_branching_entropy=0.27068084836354733, left_accessor_variety=15, right_accessor_variety=3, leftside_frequency=77, rightside_frequency=10),\n",
       " '군': Scores(cohesion_forward=0, cohesion_backward=0, left_branching_entropy=4.600652245869703, right_branching_entropy=4.631705119528771, left_accessor_variety=216, right_accessor_variety=239, leftside_frequency=2214, rightside_frequency=2243),\n",
       " '엘': Scores(cohesion_forward=0, cohesion_backward=0, left_branching_entropy=3.8605046464006065, right_branching_entropy=2.76329889273046, left_accessor_variety=73, right_accessor_variety=51, leftside_frequency=487, rightside_frequency=196),\n",
       " '넬': Scores(cohesion_forward=0, cohesion_backward=0, left_branching_entropy=0.8921178708188161, right_branching_entropy=1.7410506456818882, left_accessor_variety=3, right_accessor_variety=7, leftside_frequency=0, rightside_frequency=33),\n",
       " '맹': Scores(cohesion_forward=0, cohesion_backward=0, left_branching_entropy=2.437339090487446, right_branching_entropy=3.500304942106467, left_accessor_variety=26, right_accessor_variety=45, leftside_frequency=206, rightside_frequency=280),\n",
       " '탱': Scores(cohesion_forward=0, cohesion_backward=0, left_branching_entropy=2.67672799202032, right_branching_entropy=1.0103087131533106, left_accessor_variety=21, right_accessor_variety=4, leftside_frequency=118, rightside_frequency=0),\n",
       " '쥔': Scores(cohesion_forward=0, cohesion_backward=0, left_branching_entropy=1.3211643880367676, right_branching_entropy=1.5890269151739727, left_accessor_variety=4, right_accessor_variety=5, leftside_frequency=0, rightside_frequency=9),\n",
       " '뮐': Scores(cohesion_forward=0, cohesion_backward=0, left_branching_entropy=1.0986122886681096, right_branching_entropy=-0.0, left_accessor_variety=3, right_accessor_variety=1, leftside_frequency=7, rightside_frequency=0),\n",
       " '섭': Scores(cohesion_forward=0, cohesion_backward=0, left_branching_entropy=3.7814122220170607, right_branching_entropy=2.8745455408724037, left_accessor_variety=80, right_accessor_variety=70, leftside_frequency=377, rightside_frequency=645),\n",
       " '찔': Scores(cohesion_forward=0, cohesion_backward=0, left_branching_entropy=1.8020848516589267, right_branching_entropy=1.1293707237456698, left_accessor_variety=8, right_accessor_variety=5, leftside_frequency=81, rightside_frequency=5),\n",
       " '핼': Scores(cohesion_forward=0, cohesion_backward=0, left_branching_entropy=0.6730116670092565, right_branching_entropy=-0.0, left_accessor_variety=2, right_accessor_variety=1, leftside_frequency=21, rightside_frequency=0),\n",
       " '밤': Scores(cohesion_forward=0, cohesion_backward=0, left_branching_entropy=2.8512419457069833, right_branching_entropy=3.1159559900695317, left_accessor_variety=78, right_accessor_variety=83, leftside_frequency=730, rightside_frequency=113),\n",
       " '끈': Scores(cohesion_forward=0, cohesion_backward=0, left_branching_entropy=1.1961615168559958, right_branching_entropy=2.04507577938455, left_accessor_variety=19, right_accessor_variety=37, leftside_frequency=428, rightside_frequency=144),\n",
       " '멀': Scores(cohesion_forward=0, cohesion_backward=0, left_branching_entropy=3.328810384211833, right_branching_entropy=1.9924168833870322, left_accessor_variety=46, right_accessor_variety=14, leftside_frequency=532, rightside_frequency=19),\n",
       " '폰': Scores(cohesion_forward=0, cohesion_backward=0, left_branching_entropy=1.9479873727765824, right_branching_entropy=4.215520784815735, left_accessor_variety=26, right_accessor_variety=114, leftside_frequency=57, rightside_frequency=1094),\n",
       " '픽': Scores(cohesion_forward=0, cohesion_backward=0, left_branching_entropy=1.5075875938025352, right_branching_entropy=3.9377494938171695, left_accessor_variety=19, right_accessor_variety=80, leftside_frequency=57, rightside_frequency=522),\n",
       " '탭': Scores(cohesion_forward=0, cohesion_backward=0, left_branching_entropy=0.6890092384766586, right_branching_entropy=0.6730116670092565, left_accessor_variety=2, right_accessor_variety=2, leftside_frequency=7, rightside_frequency=7),\n",
       " '극': Scores(cohesion_forward=0, cohesion_backward=0, left_branching_entropy=3.940198841956231, right_branching_entropy=3.1462945460548264, left_accessor_variety=145, right_accessor_variety=140, leftside_frequency=2491, rightside_frequency=2566),\n",
       " '숫': Scores(cohesion_forward=0, cohesion_backward=0, left_branching_entropy=2.66864904536735, right_branching_entropy=-0.0, left_accessor_variety=23, right_accessor_variety=1, leftside_frequency=184, rightside_frequency=0),\n",
       " '헝': Scores(cohesion_forward=0, cohesion_backward=0, left_branching_entropy=2.7251005869831078, right_branching_entropy=0.6994708656608518, left_accessor_variety=22, right_accessor_variety=3, leftside_frequency=208, rightside_frequency=0),\n",
       " '쇄': Scores(cohesion_forward=0, cohesion_backward=0, left_branching_entropy=2.0800232452130456, right_branching_entropy=2.411202635657673, left_accessor_variety=10, right_accessor_variety=18, leftside_frequency=58, rightside_frequency=80),\n",
       " '쉽': Scores(cohesion_forward=0, cohesion_backward=0, left_branching_entropy=3.1646914766540273, right_branching_entropy=1.2846022948583524, left_accessor_variety=54, right_accessor_variety=10, leftside_frequency=1312, rightside_frequency=8),\n",
       " '순': Scores(cohesion_forward=0, cohesion_backward=0, left_branching_entropy=4.222788637320982, right_branching_entropy=3.542581074974634, left_accessor_variety=244, right_accessor_variety=159, leftside_frequency=4741, rightside_frequency=1601),\n",
       " '텟': Scores(cohesion_forward=0, cohesion_backward=0, left_branching_entropy=-0.0, right_branching_entropy=-0.0, left_accessor_variety=1, right_accessor_variety=1, leftside_frequency=0, rightside_frequency=5),\n",
       " '빔': Scores(cohesion_forward=0, cohesion_backward=0, left_branching_entropy=1.6719415291178146, right_branching_entropy=0.9482980107415577, left_accessor_variety=7, right_accessor_variety=3, leftside_frequency=24, rightside_frequency=18),\n",
       " '끊': Scores(cohesion_forward=0, cohesion_backward=0, left_branching_entropy=2.408591564657272, right_branching_entropy=2.078254439597235, left_accessor_variety=36, right_accessor_variety=15, leftside_frequency=1049, rightside_frequency=0),\n",
       " '샀': Scores(cohesion_forward=0, cohesion_backward=0, left_branching_entropy=1.1995549320735432, right_branching_entropy=0.7256666415476831, left_accessor_variety=9, right_accessor_variety=4, leftside_frequency=123, rightside_frequency=0),\n",
       " '웬': Scores(cohesion_forward=0, cohesion_backward=0, left_branching_entropy=2.4151496222945616, right_branching_entropy=1.1025609646526624, left_accessor_variety=13, right_accessor_variety=5, leftside_frequency=52, rightside_frequency=0),\n",
       " '뿐': Scores(cohesion_forward=0, cohesion_backward=0, left_branching_entropy=3.4735158444496355, right_branching_entropy=1.9656028898030253, left_accessor_variety=125, right_accessor_variety=47, leftside_frequency=782, rightside_frequency=349),\n",
       " '드': Scores(cohesion_forward=0, cohesion_backward=0, left_branching_entropy=4.19509119890045, right_branching_entropy=4.433562882910891, left_accessor_variety=298, right_accessor_variety=413, leftside_frequency=6396, rightside_frequency=10261),\n",
       " '끝': Scores(cohesion_forward=0, cohesion_backward=0, left_branching_entropy=3.6548383885476294, right_branching_entropy=2.884388997100304, left_accessor_variety=127, right_accessor_variety=76, leftside_frequency=2231, rightside_frequency=31),\n",
       " '말': Scores(cohesion_forward=0, cohesion_backward=0, left_branching_entropy=2.458104025660862, right_branching_entropy=2.899588163206563, left_accessor_variety=208, right_accessor_variety=301, leftside_frequency=16737, rightside_frequency=1594),\n",
       " '뮌': Scores(cohesion_forward=0, cohesion_backward=0, left_branching_entropy=-0.0, right_branching_entropy=-0.0, left_accessor_variety=1, right_accessor_variety=1, leftside_frequency=8, rightside_frequency=0),\n",
       " '보': Scores(cohesion_forward=0, cohesion_backward=0, left_branching_entropy=3.837767981404787, right_branching_entropy=4.209620017927063, left_accessor_variety=431, right_accessor_variety=398, leftside_frequency=34802, rightside_frequency=9146),\n",
       " '춰': Scores(cohesion_forward=0, cohesion_backward=0, left_branching_entropy=0.7595473914748635, right_branching_entropy=4.434179333105161, left_accessor_variety=3, right_accessor_variety=115, leftside_frequency=0, rightside_frequency=679),\n",
       " '옹': Scores(cohesion_forward=0, cohesion_backward=0, left_branching_entropy=2.4747048307010293, right_branching_entropy=1.002474436084688, left_accessor_variety=16, right_accessor_variety=5, leftside_frequency=96, rightside_frequency=19),\n",
       " '덩': Scores(cohesion_forward=0, cohesion_backward=0, left_branching_entropy=2.553378313633433, right_branching_entropy=1.4149643971485488, left_accessor_variety=15, right_accessor_variety=5, leftside_frequency=68, rightside_frequency=0),\n",
       " '넙': Scores(cohesion_forward=0, cohesion_backward=0, left_branching_entropy=0.5982695885852573, right_branching_entropy=-0.0, left_accessor_variety=2, right_accessor_variety=1, leftside_frequency=9, rightside_frequency=0),\n",
       " '섬': Scores(cohesion_forward=0, cohesion_backward=0, left_branching_entropy=3.7186584610637645, right_branching_entropy=2.916656141166096, left_accessor_variety=76, right_accessor_variety=54, leftside_frequency=540, rightside_frequency=183),\n",
       " '룽': Scores(cohesion_forward=0, cohesion_backward=0, left_branching_entropy=0.5623351446188083, right_branching_entropy=0.6901856760188042, left_accessor_variety=2, right_accessor_variety=2, leftside_frequency=8, rightside_frequency=14),\n",
       " '밥': Scores(cohesion_forward=0, cohesion_backward=0, left_branching_entropy=3.5317791288372944, right_branching_entropy=3.0730708898003716, left_accessor_variety=55, right_accessor_variety=48, leftside_frequency=318, rightside_frequency=150),\n",
       " '팍': Scores(cohesion_forward=0, cohesion_backward=0, left_branching_entropy=1.7328679513998633, right_branching_entropy=0.6730116670092565, left_accessor_variety=6, right_accessor_variety=2, leftside_frequency=20, rightside_frequency=0),\n",
       " '렌': Scores(cohesion_forward=0, cohesion_backward=0, left_branching_entropy=3.1681105129867495, right_branching_entropy=2.5958473362561394, left_accessor_variety=34, right_accessor_variety=25, leftside_frequency=134, rightside_frequency=102),\n",
       " '엠': Scores(cohesion_forward=0, cohesion_backward=0, left_branching_entropy=3.4261863313643963, right_branching_entropy=2.50737389894024, left_accessor_variety=53, right_accessor_variety=42, leftside_frequency=549, rightside_frequency=173),\n",
       " '꽃': Scores(cohesion_forward=0, cohesion_backward=0, left_branching_entropy=3.3968547365401576, right_branching_entropy=3.252984018167941, left_accessor_variety=64, right_accessor_variety=50, leftside_frequency=584, rightside_frequency=88),\n",
       " '향': Scores(cohesion_forward=0, cohesion_backward=0, left_branching_entropy=3.472155886111299, right_branching_entropy=3.106825921100544, left_accessor_variety=117, right_accessor_variety=137, leftside_frequency=3124, rightside_frequency=1066),\n",
       " '0': Scores(cohesion_forward=0, cohesion_backward=0, left_branching_entropy=3.59378588442739, right_branching_entropy=3.788955188641906, left_accessor_variety=202, right_accessor_variety=339, leftside_frequency=7785, rightside_frequency=26952),\n",
       " '깼': Scores(cohesion_forward=0, cohesion_backward=0, left_branching_entropy=-0.0, right_branching_entropy=-0.0, left_accessor_variety=1, right_accessor_variety=1, leftside_frequency=9, rightside_frequency=0),\n",
       " '환': Scores(cohesion_forward=0, cohesion_backward=0, left_branching_entropy=4.736570100009488, right_branching_entropy=3.410098003818694, left_accessor_variety=240, right_accessor_variety=209, leftside_frequency=4489, rightside_frequency=2285),\n",
       " '좋': Scores(cohesion_forward=0, cohesion_backward=0, left_branching_entropy=3.5349208797240124, right_branching_entropy=1.9068441964580234, left_accessor_variety=128, right_accessor_variety=15, leftside_frequency=4824, rightside_frequency=0),\n",
       " '건': Scores(cohesion_forward=0, cohesion_backward=0, left_branching_entropy=4.637735584654975, right_branching_entropy=4.1364898237417185, left_accessor_variety=313, right_accessor_variety=321, leftside_frequency=6043, rightside_frequency=2755),\n",
       " '윽': Scores(cohesion_forward=0, cohesion_backward=0, left_branching_entropy=0.6931471805599453, right_branching_entropy=-0.0, left_accessor_variety=2, right_accessor_variety=1, leftside_frequency=6, rightside_frequency=0),\n",
       " '뻑': Scores(cohesion_forward=0, cohesion_backward=0, left_branching_entropy=0, right_branching_entropy=0.5004024235381879, left_accessor_variety=0, right_accessor_variety=2, leftside_frequency=0, rightside_frequency=18),\n",
       " '틈': Scores(cohesion_forward=0, cohesion_backward=0, left_branching_entropy=2.9479146142396546, right_branching_entropy=2.220829937463043, left_accessor_variety=27, right_accessor_variety=11, leftside_frequency=148, rightside_frequency=0),\n",
       " '르': Scores(cohesion_forward=0, cohesion_backward=0, left_branching_entropy=3.5458925500565632, right_branching_entropy=3.7117499713518987, left_accessor_variety=68, right_accessor_variety=129, leftside_frequency=173, rightside_frequency=1354),\n",
       " '읍': Scores(cohesion_forward=0, cohesion_backward=0, left_branching_entropy=2.7299288539073068, right_branching_entropy=3.4659766103245677, left_accessor_variety=32, right_accessor_variety=56, leftside_frequency=33, rightside_frequency=364),\n",
       " '빗': Scores(cohesion_forward=0, cohesion_backward=0, left_branching_entropy=2.8927473158664405, right_branching_entropy=2.091385581583413, left_accessor_variety=26, right_accessor_variety=12, leftside_frequency=143, rightside_frequency=30),\n",
       " '쌍': Scores(cohesion_forward=0, cohesion_backward=0, left_branching_entropy=3.2024114542223456, right_branching_entropy=2.0841244152321505, left_accessor_variety=37, right_accessor_variety=13, leftside_frequency=291, rightside_frequency=8),\n",
       " '혜': Scores(cohesion_forward=0, cohesion_backward=0, left_branching_entropy=2.384918680265287, right_branching_entropy=2.59367623336265, left_accessor_variety=85, right_accessor_variety=83, leftside_frequency=758, rightside_frequency=2591),\n",
       " '녕': Scores(cohesion_forward=0, cohesion_backward=0, left_branching_entropy=-0.0, right_branching_entropy=3.08337717549292, left_accessor_variety=1, right_accessor_variety=24, leftside_frequency=0, rightside_frequency=116),\n",
       " '냄': Scores(cohesion_forward=0, cohesion_backward=0, left_branching_entropy=2.45182337711385, right_branching_entropy=1.0853759999071764, left_accessor_variety=14, right_accessor_variety=4, leftside_frequency=86, rightside_frequency=34),\n",
       " '뒤': Scores(cohesion_forward=0, cohesion_backward=0, left_branching_entropy=3.5432469032207314, right_branching_entropy=4.84928723811984, left_accessor_variety=171, right_accessor_variety=307, leftside_frequency=1875, rightside_frequency=48),\n",
       " '뚫': Scores(cohesion_forward=0, cohesion_backward=0, left_branching_entropy=2.106296218770361, right_branching_entropy=1.8489951238093716, left_accessor_variety=15, right_accessor_variety=8, leftside_frequency=167, rightside_frequency=0),\n",
       " '젠': Scores(cohesion_forward=0, cohesion_backward=0, left_branching_entropy=2.789250750461379, right_branching_entropy=2.784919792942288, left_accessor_variety=19, right_accessor_variety=23, leftside_frequency=59, rightside_frequency=132),\n",
       " '날': Scores(cohesion_forward=0, cohesion_backward=0, left_branching_entropy=3.641535270284003, right_branching_entropy=4.83283148956836, left_accessor_variety=127, right_accessor_variety=383, leftside_frequency=2074, rightside_frequency=8337),\n",
       " '딧': Scores(cohesion_forward=0, cohesion_backward=0, left_branching_entropy=0.5799151714181009, right_branching_entropy=-0.0, left_accessor_variety=2, right_accessor_variety=1, leftside_frequency=0, rightside_frequency=11),\n",
       " '몫': Scores(cohesion_forward=0, cohesion_backward=0, left_branching_entropy=1.9776025023981556, right_branching_entropy=1.001803184857828, left_accessor_variety=10, right_accessor_variety=4, leftside_frequency=83, rightside_frequency=5),\n",
       " '팀': Scores(cohesion_forward=0, cohesion_backward=0, left_branching_entropy=3.9881444180546817, right_branching_entropy=4.182334787594166, left_accessor_variety=150, right_accessor_variety=161, leftside_frequency=854, rightside_frequency=1626),\n",
       " '넓': Scores(cohesion_forward=0, cohesion_backward=0, left_branching_entropy=2.847579340285375, right_branching_entropy=2.0735262929685447, left_accessor_variety=35, right_accessor_variety=12, leftside_frequency=491, rightside_frequency=0),\n",
       " '앨': Scores(cohesion_forward=0, cohesion_backward=0, left_branching_entropy=3.2800722635967245, right_branching_entropy=0.33167497974149934, left_accessor_variety=69, right_accessor_variety=5, leftside_frequency=1190, rightside_frequency=11),\n",
       " '웃': Scores(cohesion_forward=0, cohesion_backward=0, left_branching_entropy=3.678312255997248, right_branching_entropy=1.927218807077616, left_accessor_variety=98, right_accessor_variety=39, leftside_frequency=2156, rightside_frequency=138),\n",
       " '뗐': Scores(cohesion_forward=0, cohesion_backward=0, left_branching_entropy=-0.0, right_branching_entropy=-0.0, left_accessor_variety=1, right_accessor_variety=1, leftside_frequency=62, rightside_frequency=0),\n",
       " '엇': Scores(cohesion_forward=0, cohesion_backward=0, left_branching_entropy=2.2733210520702345, right_branching_entropy=1.1562319196084383, left_accessor_variety=17, right_accessor_variety=9, leftside_frequency=171, rightside_frequency=64),\n",
       " '긴': Scores(cohesion_forward=0, cohesion_backward=0, left_branching_entropy=4.012257576966216, right_branching_entropy=3.843626660577318, left_accessor_variety=102, right_accessor_variety=189, leftside_frequency=989, rightside_frequency=1900),\n",
       " '칵': Scores(cohesion_forward=0, cohesion_backward=0, left_branching_entropy=2.6657637856513743, right_branching_entropy=1.009780247644639, left_accessor_variety=16, right_accessor_variety=4, leftside_frequency=77, rightside_frequency=14),\n",
       " '핫': Scores(cohesion_forward=0, cohesion_backward=0, left_branching_entropy=2.543898351359744, right_branching_entropy=1.7487855919837123, left_accessor_variety=22, right_accessor_variety=10, leftside_frequency=155, rightside_frequency=0),\n",
       " '쿄': Scores(cohesion_forward=0, cohesion_backward=0, left_branching_entropy=0, right_branching_entropy=2.763769724814837, left_accessor_variety=0, right_accessor_variety=23, leftside_frequency=0, rightside_frequency=180),\n",
       " '홍': Scores(cohesion_forward=0, cohesion_backward=0, left_branching_entropy=4.171638368631723, right_branching_entropy=3.3037358346232226, left_accessor_variety=225, right_accessor_variety=110, leftside_frequency=4155, rightside_frequency=1076),\n",
       " '캠': Scores(cohesion_forward=0, cohesion_backward=0, left_branching_entropy=4.161339027611921, right_branching_entropy=1.6746150580745993, left_accessor_variety=103, right_accessor_variety=12, leftside_frequency=855, rightside_frequency=28),\n",
       " '빵': Scores(cohesion_forward=0, cohesion_backward=0, left_branching_entropy=3.1558972104958625, right_branching_entropy=2.9765208885972485, left_accessor_variety=33, right_accessor_variety=34, leftside_frequency=116, rightside_frequency=113),\n",
       " '뿌': Scores(cohesion_forward=0, cohesion_backward=0, left_branching_entropy=3.022130105951497, right_branching_entropy=1.3021951964980523, left_accessor_variety=33, right_accessor_variety=8, leftside_frequency=333, rightside_frequency=5),\n",
       " '촨': Scores(cohesion_forward=0, cohesion_backward=0, left_branching_entropy=-0.0, right_branching_entropy=0.6365141682948128, left_accessor_variety=1, right_accessor_variety=2, leftside_frequency=0, rightside_frequency=7),\n",
       " '배': Scores(cohesion_forward=0, cohesion_backward=0, left_branching_entropy=4.437788413071186, right_branching_entropy=3.4261226350607705, left_accessor_variety=352, right_accessor_variety=255, leftside_frequency=12280, rightside_frequency=1409),\n",
       " '답': Scores(cohesion_forward=0, cohesion_backward=0, left_branching_entropy=2.908853150688512, right_branching_entropy=2.3500961928354767, left_accessor_variety=79, right_accessor_variety=49, leftside_frequency=2050, rightside_frequency=169),\n",
       " '쯤': Scores(cohesion_forward=0, cohesion_backward=0, left_branching_entropy=1.4450807783545907, right_branching_entropy=4.042968150743387, left_accessor_variety=18, right_accessor_variety=103, leftside_frequency=10, rightside_frequency=757),\n",
       " '샜': Scores(cohesion_forward=0, cohesion_backward=0, left_branching_entropy=-0.0, right_branching_entropy=-0.0, left_accessor_variety=1, right_accessor_variety=1, leftside_frequency=8, rightside_frequency=0),\n",
       " '삐': Scores(cohesion_forward=0, cohesion_backward=0, left_branching_entropy=2.747236106202375, right_branching_entropy=2.271582420359394, left_accessor_variety=18, right_accessor_variety=11, leftside_frequency=90, rightside_frequency=9),\n",
       " '꼭': Scores(cohesion_forward=0, cohesion_backward=0, left_branching_entropy=3.076497323757788, right_branching_entropy=3.4307306992327344, left_accessor_variety=39, right_accessor_variety=67, leftside_frequency=121, rightside_frequency=0),\n",
       " '갈': Scores(cohesion_forward=0, cohesion_backward=0, left_branching_entropy=3.7328536475213983, right_branching_entropy=3.1252993754397274, left_accessor_variety=123, right_accessor_variety=96, leftside_frequency=1652, rightside_frequency=1462),\n",
       " '맵': Scores(cohesion_forward=0, cohesion_backward=0, left_branching_entropy=1.236477074585904, right_branching_entropy=1.1606047332040657, left_accessor_variety=4, right_accessor_variety=4, leftside_frequency=31, rightside_frequency=8),\n",
       " '덜': Scores(cohesion_forward=0, cohesion_backward=0, left_branching_entropy=2.4182918514003355, right_branching_entropy=2.750179973002086, left_accessor_variety=21, right_accessor_variety=31, leftside_frequency=207, rightside_frequency=0),\n",
       " '넘': Scores(cohesion_forward=0, cohesion_backward=0, left_branching_entropy=2.8683173846096275, right_branching_entropy=2.3750900126387737, left_accessor_variety=104, right_accessor_variety=30, leftside_frequency=3913, rightside_frequency=15),\n",
       " '텃': Scores(cohesion_forward=0, cohesion_backward=0, left_branching_entropy=2.0724394350326207, right_branching_entropy=-0.0, left_accessor_variety=9, right_accessor_variety=1, leftside_frequency=41, rightside_frequency=0),\n",
       " '끄': Scores(cohesion_forward=0, cohesion_backward=0, left_branching_entropy=1.1815517131887932, right_branching_entropy=1.3276834805933133, left_accessor_variety=8, right_accessor_variety=6, leftside_frequency=159, rightside_frequency=7),\n",
       " '덱': Scores(cohesion_forward=0, cohesion_backward=0, left_branching_entropy=0, right_branching_entropy=2.0174341542292193, left_accessor_variety=0, right_accessor_variety=9, leftside_frequency=0, rightside_frequency=51),\n",
       " '퓰': Scores(cohesion_forward=0, cohesion_backward=0, left_branching_entropy=-0.0, right_branching_entropy=-0.0, left_accessor_variety=1, right_accessor_variety=1, leftside_frequency=8, rightside_frequency=0),\n",
       " '탁': Scores(cohesion_forward=0, cohesion_backward=0, left_branching_entropy=3.3009324014003876, right_branching_entropy=3.3243518873476625, left_accessor_variety=41, right_accessor_variety=67, leftside_frequency=293, rightside_frequency=349),\n",
       " '숍': Scores(cohesion_forward=0, cohesion_backward=0, left_branching_entropy=1.223600564100693, right_branching_entropy=2.4260639608241354, left_accessor_variety=6, right_accessor_variety=16, leftside_frequency=10, rightside_frequency=127),\n",
       " '잼': Scores(cohesion_forward=0, cohesion_backward=0, left_branching_entropy=-0.0, right_branching_entropy=1.7567481329394692, left_accessor_variety=1, right_accessor_variety=7, leftside_frequency=0, rightside_frequency=34),\n",
       " '셈': Scores(cohesion_forward=0, cohesion_backward=0, left_branching_entropy=2.1860765095397547, right_branching_entropy=0.8612140423523578, left_accessor_variety=21, right_accessor_variety=12, leftside_frequency=424, rightside_frequency=18),\n",
       " '껏': Scores(cohesion_forward=0, cohesion_backward=0, left_branching_entropy=1.294556589016347, right_branching_entropy=3.7864483995313125, left_accessor_variety=6, right_accessor_variety=57, leftside_frequency=0, rightside_frequency=401),\n",
       " '측': Scores(cohesion_forward=0, cohesion_backward=0, left_branching_entropy=4.440534873006599, right_branching_entropy=2.5764155143629157, left_accessor_variety=177, right_accessor_variety=79, leftside_frequency=2935, rightside_frequency=329),\n",
       " '훌': Scores(cohesion_forward=0, cohesion_backward=0, left_branching_entropy=2.6040750912942534, right_branching_entropy=0.7804958476377705, left_accessor_variety=23, right_accessor_variety=4, leftside_frequency=244, rightside_frequency=0),\n",
       " '갔': Scores(cohesion_forward=0, cohesion_backward=0, left_branching_entropy=2.798268276241358, right_branching_entropy=1.7335806776346383, left_accessor_variety=29, right_accessor_variety=10, leftside_frequency=334, rightside_frequency=0),\n",
       " '앙': Scores(cohesion_forward=0, cohesion_backward=0, left_branching_entropy=3.050616329229754, right_branching_entropy=3.1011456764792684, left_accessor_variety=28, right_accessor_variety=34, leftside_frequency=161, rightside_frequency=126),\n",
       " '쏠': Scores(cohesion_forward=0, cohesion_backward=0, left_branching_entropy=1.6050558417689376, right_branching_entropy=1.7926584611310048, left_accessor_variety=20, right_accessor_variety=12, leftside_frequency=287, rightside_frequency=0),\n",
       " '득': Scores(cohesion_forward=0, cohesion_backward=0, left_branching_entropy=1.8942799786445577, right_branching_entropy=4.2130510702546, left_accessor_variety=22, right_accessor_variety=95, leftside_frequency=91, rightside_frequency=638),\n",
       " '툭': Scores(cohesion_forward=0, cohesion_backward=0, left_branching_entropy=1.7917594692280547, right_branching_entropy=1.3086053872534493, left_accessor_variety=6, right_accessor_variety=4, leftside_frequency=9, rightside_frequency=5),\n",
       " '널': Scores(cohesion_forward=0, cohesion_backward=0, left_branching_entropy=2.2399598248916917, right_branching_entropy=3.7852017482321645, left_accessor_variety=27, right_accessor_variety=129, leftside_frequency=180, rightside_frequency=1789),\n",
       " '줄': Scores(cohesion_forward=0, cohesion_backward=0, left_branching_entropy=3.8376960249734515, right_branching_entropy=3.3672987826935206, left_accessor_variety=158, right_accessor_variety=120, leftside_frequency=2692, rightside_frequency=892),\n",
       " '챌': Scores(cohesion_forward=0, cohesion_backward=0, left_branching_entropy=1.1240947706206097, right_branching_entropy=0.3341427913871891, left_accessor_variety=4, right_accessor_variety=2, leftside_frequency=43, rightside_frequency=5),\n",
       " '되': Scores(cohesion_forward=0, cohesion_backward=0, left_branching_entropy=2.3883568911355013, right_branching_entropy=2.890454372011199, left_accessor_variety=99, right_accessor_variety=74, leftside_frequency=6692, rightside_frequency=141),\n",
       " '줴': Scores(cohesion_forward=0, cohesion_backward=0, left_branching_entropy=-0.0, right_branching_entropy=-0.0, left_accessor_variety=1, right_accessor_variety=1, leftside_frequency=7, rightside_frequency=0),\n",
       " '뿔': Scores(cohesion_forward=0, cohesion_backward=0, left_branching_entropy=1.5317780787913655, right_branching_entropy=0.9718487712358765, left_accessor_variety=5, right_accessor_variety=3, leftside_frequency=22, rightside_frequency=0),\n",
       " '물': Scores(cohesion_forward=0, cohesion_backward=0, left_branching_entropy=4.174039641557479, right_branching_entropy=4.346157563481207, left_accessor_variety=271, right_accessor_variety=322, leftside_frequency=6809, rightside_frequency=3012),\n",
       " '홀': Scores(cohesion_forward=0, cohesion_backward=0, left_branching_entropy=3.6906514362156786, right_branching_entropy=2.488859002318762, left_accessor_variety=56, right_accessor_variety=38, leftside_frequency=410, rightside_frequency=117),\n",
       " '뭉': Scores(cohesion_forward=0, cohesion_backward=0, left_branching_entropy=2.5212129701356503, right_branching_entropy=1.8544487724251195, left_accessor_variety=20, right_accessor_variety=8, leftside_frequency=171, rightside_frequency=0),\n",
       " '륵': Scores(cohesion_forward=0, cohesion_backward=0, left_branching_entropy=0, right_branching_entropy=-0.0, left_accessor_variety=0, right_accessor_variety=1, leftside_frequency=0, rightside_frequency=7),\n",
       " '쩜': Scores(cohesion_forward=0, cohesion_backward=0, left_branching_entropy=0, right_branching_entropy=0.6730116670092565, left_accessor_variety=0, right_accessor_variety=2, leftside_frequency=0, rightside_frequency=7),\n",
       " '짝': Scores(cohesion_forward=0, cohesion_backward=0, left_branching_entropy=2.684826813932726, right_branching_entropy=3.4967921975123164, left_accessor_variety=18, right_accessor_variety=70, leftside_frequency=107, rightside_frequency=588),\n",
       " '곤': Scores(cohesion_forward=0, cohesion_backward=0, left_branching_entropy=3.2850003254907887, right_branching_entropy=3.4699141263799036, left_accessor_variety=49, right_accessor_variety=61, leftside_frequency=220, rightside_frequency=492),\n",
       " '렴': Scores(cohesion_forward=0, cohesion_backward=0, left_branching_entropy=0.6909233093138181, right_branching_entropy=2.49620631593776, left_accessor_variety=2, right_accessor_variety=16, leftside_frequency=0, rightside_frequency=96),\n",
       " '큼': Scores(cohesion_forward=0, cohesion_backward=0, left_branching_entropy=0.03903900333086888, right_branching_entropy=5.056656001663813, left_accessor_variety=2, right_accessor_variety=232, leftside_frequency=11, rightside_frequency=2058),\n",
       " '북': Scores(cohesion_forward=0, cohesion_backward=0, left_branching_entropy=4.153506994157559, right_branching_entropy=2.764881386087283, left_accessor_variety=216, right_accessor_variety=203, leftside_frequency=6464, rightside_frequency=2657),\n",
       " '곽': Scores(cohesion_forward=0, cohesion_backward=0, left_branching_entropy=2.4430697171019, right_branching_entropy=2.3894109875831524, left_accessor_variety=44, right_accessor_variety=28, leftside_frequency=593, rightside_frequency=51),\n",
       " '촛': Scores(cohesion_forward=0, cohesion_backward=0, left_branching_entropy=2.427868070551626, right_branching_entropy=-0.0, left_accessor_variety=14, right_accessor_variety=1, leftside_frequency=57, rightside_frequency=0),\n",
       " '컬': Scores(cohesion_forward=0, cohesion_backward=0, left_branching_entropy=3.5956670505095043, right_branching_entropy=1.7760465560057772, left_accessor_variety=104, right_accessor_variety=67, leftside_frequency=2270, rightside_frequency=409),\n",
       " '눈': Scores(cohesion_forward=0, cohesion_backward=0, left_branching_entropy=3.19261126276259, right_branching_entropy=2.814577503603357, left_accessor_variety=122, right_accessor_variety=82, leftside_frequency=3479, rightside_frequency=122),\n",
       " '똬': Scores(cohesion_forward=0, cohesion_backward=0, left_branching_entropy=0.6931471805599453, right_branching_entropy=-0.0, left_accessor_variety=2, right_accessor_variety=1, leftside_frequency=5, rightside_frequency=0),\n",
       " '에': Scores(cohesion_forward=0, cohesion_backward=0, left_branching_entropy=5.62280403455529, right_branching_entropy=5.013170053684749, left_accessor_variety=1000, right_accessor_variety=863, leftside_frequency=12413, rightside_frequency=124319),\n",
       " '친': Scores(cohesion_forward=0, cohesion_backward=0, left_branching_entropy=3.804671801678171, right_branching_entropy=3.6998604126339107, left_accessor_variety=165, right_accessor_variety=213, leftside_frequency=3494, rightside_frequency=1658),\n",
       " '넨': Scores(cohesion_forward=0, cohesion_backward=0, left_branching_entropy=0, right_branching_entropy=1.2711814802605796, left_accessor_variety=0, right_accessor_variety=4, leftside_frequency=0, rightside_frequency=28),\n",
       " '떼': Scores(cohesion_forward=0, cohesion_backward=0, left_branching_entropy=2.1057494000866543, right_branching_entropy=2.126248427007411, left_accessor_variety=20, right_accessor_variety=15, leftside_frequency=181, rightside_frequency=40),\n",
       " '횡': Scores(cohesion_forward=0, cohesion_backward=0, left_branching_entropy=3.5107115220714364, right_branching_entropy=1.7398031693694098, left_accessor_variety=48, right_accessor_variety=12, leftside_frequency=315, rightside_frequency=25),\n",
       " '벽': Scores(cohesion_forward=0, cohesion_backward=0, left_branching_entropy=3.495608641017993, right_branching_entropy=3.5807848274311627, left_accessor_variety=51, right_accessor_variety=62, leftside_frequency=276, rightside_frequency=309),\n",
       " '랖': Scores(cohesion_forward=0, cohesion_backward=0, left_branching_entropy=-0.0, right_branching_entropy=-0.0, left_accessor_variety=1, right_accessor_variety=1, leftside_frequency=0, rightside_frequency=12),\n",
       " '췌': Scores(cohesion_forward=0, cohesion_backward=0, left_branching_entropy=0.6931471805599453, right_branching_entropy=-0.0, left_accessor_variety=2, right_accessor_variety=1, leftside_frequency=9, rightside_frequency=0),\n",
       " '뒀': Scores(cohesion_forward=0, cohesion_backward=0, left_branching_entropy=1.6661961780340884, right_branching_entropy=0.4519597575998241, left_accessor_variety=9, right_accessor_variety=3, leftside_frequency=111, rightside_frequency=0),\n",
       " '회': Scores(cohesion_forward=0, cohesion_backward=0, left_branching_entropy=4.683848465335524, right_branching_entropy=4.325997716932063, left_accessor_variety=385, right_accessor_variety=372, leftside_frequency=9862, rightside_frequency=11890),\n",
       " '덟': Scores(cohesion_forward=0, cohesion_backward=0, left_branching_entropy=0, right_branching_entropy=1.6076694682412223, left_accessor_variety=0, right_accessor_variety=6, leftside_frequency=0, rightside_frequency=35),\n",
       " '첨': Scores(cohesion_forward=0, cohesion_backward=0, left_branching_entropy=3.656568983469343, right_branching_entropy=1.288109710354786, left_accessor_variety=61, right_accessor_variety=17, leftside_frequency=583, rightside_frequency=65),\n",
       " '뻣': Scores(cohesion_forward=0, cohesion_backward=0, left_branching_entropy=-0.0, right_branching_entropy=-0.0, left_accessor_variety=1, right_accessor_variety=1, leftside_frequency=5, rightside_frequency=0),\n",
       " '랙': Scores(cohesion_forward=0, cohesion_backward=0, left_branching_entropy=0.6911927820032008, right_branching_entropy=3.6737359731186547, left_accessor_variety=2, right_accessor_variety=55, leftside_frequency=0, rightside_frequency=381),\n",
       " '많': Scores(cohesion_forward=0, cohesion_backward=0, left_branching_entropy=3.305250144898969, right_branching_entropy=1.6922125785248359, left_accessor_variety=137, right_accessor_variety=16, leftside_frequency=7362, rightside_frequency=0),\n",
       " '뭘': Scores(cohesion_forward=0, cohesion_backward=0, left_branching_entropy=2.6547315398180995, right_branching_entropy=2.444702578341821, left_accessor_variety=20, right_accessor_variety=19, leftside_frequency=40, rightside_frequency=0),\n",
       " '동': Scores(cohesion_forward=0, cohesion_backward=0, left_branching_entropy=4.67482344346373, right_branching_entropy=4.498774782798983, left_accessor_variety=445, right_accessor_variety=415, leftside_frequency=18571, rightside_frequency=6833),\n",
       " '슐': Scores(cohesion_forward=0, cohesion_backward=0, left_branching_entropy=1.0986122886681096, right_branching_entropy=0.5799151714181009, left_accessor_variety=3, right_accessor_variety=2, leftside_frequency=12, rightside_frequency=7),\n",
       " '횟': Scores(cohesion_forward=0, cohesion_backward=0, left_branching_entropy=2.6085711693477687, right_branching_entropy=-0.0, left_accessor_variety=15, right_accessor_variety=1, leftside_frequency=71, rightside_frequency=0),\n",
       " '별': Scores(cohesion_forward=0, cohesion_backward=0, left_branching_entropy=4.232842624745563, right_branching_entropy=4.367465230210789, left_accessor_variety=149, right_accessor_variety=215, leftside_frequency=1636, rightside_frequency=1911),\n",
       " '것': Scores(cohesion_forward=0, cohesion_backward=0, left_branching_entropy=2.8478530351072306, right_branching_entropy=2.4201427816856134, left_accessor_variety=132, right_accessor_variety=208, leftside_frequency=30450, rightside_frequency=100),\n",
       " '쇠': Scores(cohesion_forward=0, cohesion_backward=0, left_branching_entropy=3.2200507413691506, right_branching_entropy=1.6998774114186013, left_accessor_variety=30, right_accessor_variety=13, leftside_frequency=206, rightside_frequency=30),\n",
       " '룀': Scores(cohesion_forward=0, cohesion_backward=0, left_branching_entropy=-0.0, right_branching_entropy=-0.0, left_accessor_variety=1, right_accessor_variety=1, leftside_frequency=0, rightside_frequency=8),\n",
       " '컸': Scores(cohesion_forward=0, cohesion_backward=0, left_branching_entropy=1.6039733157794134, right_branching_entropy=1.2317345647711186, left_accessor_variety=12, right_accessor_variety=6, leftside_frequency=209, rightside_frequency=0),\n",
       " '햅': Scores(cohesion_forward=0, cohesion_backward=0, left_branching_entropy=1.3041538760466869, right_branching_entropy=-0.0, left_accessor_variety=5, right_accessor_variety=1, leftside_frequency=24, rightside_frequency=0),\n",
       " '넴': Scores(cohesion_forward=0, cohesion_backward=0, left_branching_entropy=-0.0, right_branching_entropy=-0.0, left_accessor_variety=1, right_accessor_variety=1, leftside_frequency=0, rightside_frequency=8),\n",
       " '시': Scores(cohesion_forward=0, cohesion_backward=0, left_branching_entropy=5.079168461210679, right_branching_entropy=4.91207008528265, left_accessor_variety=632, right_accessor_variety=677, leftside_frequency=35563, rightside_frequency=19494),\n",
       " '디': Scores(cohesion_forward=0, cohesion_backward=0, left_branching_entropy=4.335381626596728, right_branching_entropy=2.68517802819071, left_accessor_variety=262, right_accessor_variety=183, leftside_frequency=6292, rightside_frequency=1665),\n",
       " '중': Scores(cohesion_forward=0, cohesion_backward=0, left_branching_entropy=4.938639994611941, right_branching_entropy=4.0610695533075996, left_accessor_variety=463, right_accessor_variety=410, leftside_frequency=23248, rightside_frequency=2260),\n",
       " '쁨': Scores(cohesion_forward=0, cohesion_backward=0, left_branching_entropy=0, right_branching_entropy=2.0274614762383703, left_accessor_variety=0, right_accessor_variety=13, leftside_frequency=0, rightside_frequency=113),\n",
       " '슈': Scores(cohesion_forward=0, cohesion_backward=0, left_branching_entropy=3.828425791781268, right_branching_entropy=2.221664761942699, left_accessor_variety=79, right_accessor_variety=48, leftside_frequency=678, rightside_frequency=171),\n",
       " '쿠': Scores(cohesion_forward=0, cohesion_backward=0, left_branching_entropy=3.893737235939918, right_branching_entropy=2.798873143949859, left_accessor_variety=74, right_accessor_variety=30, leftside_frequency=580, rightside_frequency=46),\n",
       " '옅': Scores(cohesion_forward=0, cohesion_backward=0, left_branching_entropy=1.438882950216986, right_branching_entropy=0.6791932659915256, left_accessor_variety=5, right_accessor_variety=2, leftside_frequency=38, rightside_frequency=0),\n",
       " '솔': Scores(cohesion_forward=0, cohesion_backward=0, left_branching_entropy=4.074336618244883, right_branching_entropy=1.8039716935750327, left_accessor_variety=102, right_accessor_variety=21, leftside_frequency=1021, rightside_frequency=79),\n",
       " '훔': Scores(cohesion_forward=0, cohesion_backward=0, left_branching_entropy=1.7481774574015048, right_branching_entropy=1.2963123270119183, left_accessor_variety=13, right_accessor_variety=4, leftside_frequency=125, rightside_frequency=0),\n",
       " '왜': Scores(cohesion_forward=0, cohesion_backward=0, left_branching_entropy=3.304311188605062, right_branching_entropy=3.785419658491875, left_accessor_variety=59, right_accessor_variety=120, leftside_frequency=272, rightside_frequency=0),\n",
       " '링': Scores(cohesion_forward=0, cohesion_backward=0, left_branching_entropy=2.710241651657354, right_branching_entropy=3.2554458605281966, left_accessor_variety=35, right_accessor_variety=115, leftside_frequency=101, rightside_frequency=1317),\n",
       " '젊': Scores(cohesion_forward=0, cohesion_backward=0, left_branching_entropy=3.4517137572459102, right_branching_entropy=0.41876687482363356, left_accessor_variety=61, right_accessor_variety=5, leftside_frequency=660, rightside_frequency=0),\n",
       " '풍': Scores(cohesion_forward=0, cohesion_backward=0, left_branching_entropy=3.926104355279827, right_branching_entropy=3.39757486355272, left_accessor_variety=109, right_accessor_variety=95, leftside_frequency=1493, rightside_frequency=641),\n",
       " '붓': Scores(cohesion_forward=0, cohesion_backward=0, left_branching_entropy=1.9186648025447774, right_branching_entropy=1.0217278604945916, left_accessor_variety=8, right_accessor_variety=3, leftside_frequency=46, rightside_frequency=0),\n",
       " '멈': Scores(cohesion_forward=0, cohesion_backward=0, left_branching_entropy=2.794911323760622, right_branching_entropy=1.5988922408469257, left_accessor_variety=30, right_accessor_variety=6, leftside_frequency=290, rightside_frequency=0),\n",
       " '패': Scores(cohesion_forward=0, cohesion_backward=0, left_branching_entropy=4.467186647865204, right_branching_entropy=2.307937370599901, left_accessor_variety=208, right_accessor_variety=89, leftside_frequency=3835, rightside_frequency=300),\n",
       " '야': Scores(cohesion_forward=0, cohesion_backward=0, left_branching_entropy=3.62391729154009, right_branching_entropy=3.3381941244742546, left_accessor_variety=236, right_accessor_variety=311, leftside_frequency=2994, rightside_frequency=11039),\n",
       " '손': Scores(cohesion_forward=0, cohesion_backward=0, left_branching_entropy=4.110111016525879, right_branching_entropy=3.2738288392999304, left_accessor_variety=241, right_accessor_variety=132, leftside_frequency=5529, rightside_frequency=249),\n",
       " '겉': Scores(cohesion_forward=0, cohesion_backward=0, left_branching_entropy=2.7666516233244205, right_branching_entropy=1.7352592535934448, left_accessor_variety=21, right_accessor_variety=8, leftside_frequency=135, rightside_frequency=0),\n",
       " '힙': Scores(cohesion_forward=0, cohesion_backward=0, left_branching_entropy=3.2754682099121046, right_branching_entropy=-0.0, left_accessor_variety=38, right_accessor_variety=1, leftside_frequency=268, rightside_frequency=0),\n",
       " '땀': Scores(cohesion_forward=0, cohesion_backward=0, left_branching_entropy=1.2520822287899038, right_branching_entropy=1.1412270252518713, left_accessor_variety=18, right_accessor_variety=11, leftside_frequency=67, rightside_frequency=17),\n",
       " '늘': Scores(cohesion_forward=0, cohesion_backward=0, left_branching_entropy=3.547849708681779, right_branching_entropy=3.5372754591245594, left_accessor_variety=96, right_accessor_variety=207, leftside_frequency=2866, rightside_frequency=2075),\n",
       " '펫': Scores(cohesion_forward=0, cohesion_backward=0, left_branching_entropy=1.8320275342901315, right_branching_entropy=1.989975630666442, left_accessor_variety=9, right_accessor_variety=9, leftside_frequency=35, rightside_frequency=32),\n",
       " '넛': Scores(cohesion_forward=0, cohesion_backward=0, left_branching_entropy=0.6931471805599453, right_branching_entropy=1.5941666991180168, left_accessor_variety=2, right_accessor_variety=5, leftside_frequency=0, rightside_frequency=21),\n",
       " '퀄': Scores(cohesion_forward=0, cohesion_backward=0, left_branching_entropy=2.549908733443306, right_branching_entropy=0.4783203281153531, left_accessor_variety=21, right_accessor_variety=2, leftside_frequency=130, rightside_frequency=0),\n",
       " '뚝': Scores(cohesion_forward=0, cohesion_backward=0, left_branching_entropy=2.2594324953076756, right_branching_entropy=2.3825582908351706, left_accessor_variety=16, right_accessor_variety=16, leftside_frequency=86, rightside_frequency=82),\n",
       " '밭': Scores(cohesion_forward=0, cohesion_backward=0, left_branching_entropy=2.70206401793929, right_branching_entropy=2.000614396794143, left_accessor_variety=19, right_accessor_variety=15, leftside_frequency=95, rightside_frequency=65),\n",
       " '센': Scores(cohesion_forward=0, cohesion_backward=0, left_branching_entropy=4.226066811825234, right_branching_entropy=1.8903311175780846, left_accessor_variety=110, right_accessor_variety=30, leftside_frequency=1014, rightside_frequency=126),\n",
       " '팰': Scores(cohesion_forward=0, cohesion_backward=0, left_branching_entropy=1.9876923464048415, right_branching_entropy=0.6581099875431143, left_accessor_variety=8, right_accessor_variety=2, leftside_frequency=29, rightside_frequency=0),\n",
       " '놔': Scores(cohesion_forward=0, cohesion_backward=0, left_branching_entropy=2.158038867458229, right_branching_entropy=1.6959596808771844, left_accessor_variety=12, right_accessor_variety=8, leftside_frequency=56, rightside_frequency=39),\n",
       " '갤': Scores(cohesion_forward=0, cohesion_backward=0, left_branching_entropy=3.7732913946408493, right_branching_entropy=1.0106135134985064, left_accessor_variety=83, right_accessor_variety=7, leftside_frequency=992, rightside_frequency=0),\n",
       " '섞': Scores(cohesion_forward=0, cohesion_backward=0, left_branching_entropy=2.5359905882658125, right_branching_entropy=1.6068300571001373, left_accessor_variety=19, right_accessor_variety=6, leftside_frequency=133, rightside_frequency=0),\n",
       " '셀': Scores(cohesion_forward=0, cohesion_backward=0, left_branching_entropy=3.4775576801186063, right_branching_entropy=2.067311083881271, left_accessor_variety=56, right_accessor_variety=24, leftside_frequency=541, rightside_frequency=94),\n",
       " '틱': Scores(cohesion_forward=0, cohesion_backward=0, left_branching_entropy=1.0449347893123995, right_branching_entropy=2.463760455544085, left_accessor_variety=7, right_accessor_variety=54, leftside_frequency=0, rightside_frequency=577),\n",
       " '멋': Scores(cohesion_forward=0, cohesion_backward=0, left_branching_entropy=3.3055954803746865, right_branching_entropy=1.6301511464320415, left_accessor_variety=42, right_accessor_variety=10, leftside_frequency=476, rightside_frequency=0),\n",
       " '관': Scores(cohesion_forward=0, cohesion_backward=0, left_branching_entropy=4.779324542644566, right_branching_entropy=3.381472498658652, left_accessor_variety=479, right_accessor_variety=337, leftside_frequency=23407, rightside_frequency=5973),\n",
       " '얄': Scores(cohesion_forward=0, cohesion_backward=0, left_branching_entropy=1.0296530140645737, right_branching_entropy=0.45056120886630463, left_accessor_variety=3, right_accessor_variety=2, leftside_frequency=21, rightside_frequency=10),\n",
       " '뢰': Scores(cohesion_forward=0, cohesion_backward=0, left_branching_entropy=0.6615632381579821, right_branching_entropy=2.7273929048944896, left_accessor_variety=2, right_accessor_variety=23, leftside_frequency=7, rightside_frequency=178),\n",
       " '곶': Scores(cohesion_forward=0, cohesion_backward=0, left_branching_entropy=0.9075352941050092, right_branching_entropy=1.2112465729695872, left_accessor_variety=3, right_accessor_variety=4, leftside_frequency=16, rightside_frequency=6),\n",
       " '맘': Scores(cohesion_forward=0, cohesion_backward=0, left_branching_entropy=2.9242646127811023, right_branching_entropy=2.361431846917409, left_accessor_variety=25, right_accessor_variety=15, leftside_frequency=100, rightside_frequency=22),\n",
       " '쟈': Scores(cohesion_forward=0, cohesion_backward=0, left_branching_entropy=0.9249186941494517, right_branching_entropy=0.49500786431910865, left_accessor_variety=6, right_accessor_variety=3, leftside_frequency=135, rightside_frequency=0),\n",
       " '낙': Scores(cohesion_forward=0, cohesion_backward=0, left_branching_entropy=3.7135377446530526, right_branching_entropy=2.7700630425741886, left_accessor_variety=86, right_accessor_variety=40, leftside_frequency=1025, rightside_frequency=195),\n",
       " '가': Scores(cohesion_forward=0, cohesion_backward=0, left_branching_entropy=5.148845456204455, right_branching_entropy=5.535584050622248, left_accessor_variety=758, right_accessor_variety=955, leftside_frequency=40088, rightside_frequency=86478),\n",
       " '십': Scores(cohesion_forward=0, cohesion_backward=0, left_branching_entropy=2.6788348836816986, right_branching_entropy=3.4263924063129556, left_accessor_variety=36, right_accessor_variety=51, leftside_frequency=154, rightside_frequency=470),\n",
       " '찾': Scores(cohesion_forward=0, cohesion_backward=0, left_branching_entropy=2.129029243982545, right_branching_entropy=1.7808211856904763, left_accessor_variety=90, right_accessor_variety=16, leftside_frequency=4156, rightside_frequency=0),\n",
       " '허': Scores(cohesion_forward=0, cohesion_backward=0, left_branching_entropy=4.159161893874021, right_branching_entropy=3.514426327632856, left_accessor_variety=166, right_accessor_variety=106, leftside_frequency=2883, rightside_frequency=207),\n",
       " '랩': Scores(cohesion_forward=0, cohesion_backward=0, left_branching_entropy=3.2885075624806603, right_branching_entropy=3.5571848739508853, left_accessor_variety=43, right_accessor_variety=51, leftside_frequency=260, rightside_frequency=147),\n",
       " '입': Scores(cohesion_forward=0, cohesion_backward=0, left_branching_entropy=4.257566152834744, right_branching_entropy=3.8866174777529006, left_accessor_variety=305, right_accessor_variety=226, leftside_frequency=9144, rightside_frequency=1595),\n",
       " '첸': Scores(cohesion_forward=0, cohesion_backward=0, left_branching_entropy=1.330013842689523, right_branching_entropy=2.0993177692694096, left_accessor_variety=5, right_accessor_variety=9, leftside_frequency=8, rightside_frequency=18),\n",
       " '수': Scores(cohesion_forward=0, cohesion_backward=0, left_branching_entropy=4.567253843383949, right_branching_entropy=3.9765101891353187, left_accessor_variety=621, right_accessor_variety=542, leftside_frequency=33155, rightside_frequency=9882),\n",
       " '빼': Scores(cohesion_forward=0, cohesion_backward=0, left_branching_entropy=2.6043359288277976, right_branching_entropy=2.4541323391827756, left_accessor_variety=39, right_accessor_variety=21, leftside_frequency=540, rightside_frequency=0),\n",
       " '쓰': Scores(cohesion_forward=0, cohesion_backward=0, left_branching_entropy=3.4143571447606296, right_branching_entropy=2.8615776382598583, left_accessor_variety=93, right_accessor_variety=35, leftside_frequency=1951, rightside_frequency=41),\n",
       " '합': Scores(cohesion_forward=0, cohesion_backward=0, left_branching_entropy=4.028673958939361, right_branching_entropy=3.649817100544631, left_accessor_variety=171, right_accessor_variety=202, leftside_frequency=4176, rightside_frequency=2070),\n",
       " '눔': Scores(cohesion_forward=0, cohesion_backward=0, left_branching_entropy=-0.0, right_branching_entropy=2.8837133561822332, left_accessor_variety=1, right_accessor_variety=23, leftside_frequency=0, rightside_frequency=147),\n",
       " '썰': Scores(cohesion_forward=0, cohesion_backward=0, left_branching_entropy=2.5577558963234015, right_branching_entropy=1.084550285878154, left_accessor_variety=15, right_accessor_variety=4, leftside_frequency=72, rightside_frequency=0),\n",
       " '엑': Scores(cohesion_forward=0, cohesion_backward=0, left_branching_entropy=3.398428062534026, right_branching_entropy=0.6846249416233277, left_accessor_variety=74, right_accessor_variety=6, leftside_frequency=1120, rightside_frequency=0),\n",
       " '깹': Scores(cohesion_forward=0, cohesion_backward=0, left_branching_entropy=-0.0, right_branching_entropy=-0.0, left_accessor_variety=1, right_accessor_variety=1, leftside_frequency=5, rightside_frequency=0),\n",
       " '쏜': Scores(cohesion_forward=0, cohesion_backward=0, left_branching_entropy=1.3229393161641219, right_branching_entropy=1.7413324361208349, left_accessor_variety=11, right_accessor_variety=20, leftside_frequency=11, rightside_frequency=0),\n",
       " '푼': Scores(cohesion_forward=0, cohesion_backward=0, left_branching_entropy=1.2461446952384572, right_branching_entropy=1.2733256871159515, left_accessor_variety=6, right_accessor_variety=4, leftside_frequency=25, rightside_frequency=11),\n",
       " '잊': Scores(cohesion_forward=0, cohesion_backward=0, left_branching_entropy=2.6890438042466114, right_branching_entropy=1.545465661337347, left_accessor_variety=25, right_accessor_variety=7, leftside_frequency=234, rightside_frequency=0),\n",
       " '저': Scores(cohesion_forward=0, cohesion_backward=0, left_branching_entropy=3.7184439344968934, right_branching_entropy=3.2057783779495694, left_accessor_variety=274, right_accessor_variety=359, leftside_frequency=14247, rightside_frequency=2323),\n",
       " '하': Scores(cohesion_forward=0, cohesion_backward=0, left_branching_entropy=4.0079081870895905, right_branching_entropy=3.5578947313454248, left_accessor_variety=438, right_accessor_variety=319, leftside_frequency=30656, rightside_frequency=2633),\n",
       " '겪': Scores(cohesion_forward=0, cohesion_backward=0, left_branching_entropy=1.3739529131468176, right_branching_entropy=2.057582720563486, left_accessor_variety=19, right_accessor_variety=11, leftside_frequency=782, rightside_frequency=0),\n",
       " '뫼': Scores(cohesion_forward=0, cohesion_backward=0, left_branching_entropy=0, right_branching_entropy=0.6931471805599453, left_accessor_variety=0, right_accessor_variety=2, leftside_frequency=0, rightside_frequency=5),\n",
       " '빨': Scores(cohesion_forward=0, cohesion_backward=0, left_branching_entropy=3.6477246397104777, right_branching_entropy=1.60192212521249, left_accessor_variety=69, right_accessor_variety=12, leftside_frequency=812, rightside_frequency=7),\n",
       " '잭': Scores(cohesion_forward=0, cohesion_backward=0, left_branching_entropy=2.9264824835554712, right_branching_entropy=0.9213601354667627, left_accessor_variety=31, right_accessor_variety=5, leftside_frequency=75, rightside_frequency=0),\n",
       " '쐈': Scores(cohesion_forward=0, cohesion_backward=0, left_branching_entropy=0.6336816397516665, right_branching_entropy=1.4204218047714092, left_accessor_variety=6, right_accessor_variety=5, leftside_frequency=96, rightside_frequency=0),\n",
       " '낚': Scores(cohesion_forward=0, cohesion_backward=0, left_branching_entropy=3.078808603851023, right_branching_entropy=0.34528069192663746, left_accessor_variety=29, right_accessor_variety=3, leftside_frequency=169, rightside_frequency=0),\n",
       " '멕': Scores(cohesion_forward=0, cohesion_backward=0, left_branching_entropy=2.884825337882404, right_branching_entropy=0.12964727676560514, left_accessor_variety=26, right_accessor_variety=3, leftside_frequency=163, rightside_frequency=0),\n",
       " '페': Scores(cohesion_forward=0, cohesion_backward=0, left_branching_entropy=4.241799356058962, right_branching_entropy=2.3988302014565677, left_accessor_variety=175, right_accessor_variety=84, leftside_frequency=2359, rightside_frequency=393),\n",
       " '셋': Scores(cohesion_forward=0, cohesion_backward=0, left_branching_entropy=3.0207572240694027, right_branching_entropy=1.6756010042668954, left_accessor_variety=27, right_accessor_variety=14, leftside_frequency=173, rightside_frequency=60),\n",
       " '툼': Scores(cohesion_forward=0, cohesion_backward=0, left_branching_entropy=-0.0, right_branching_entropy=1.519382664642301, left_accessor_variety=1, right_accessor_variety=5, leftside_frequency=0, rightside_frequency=22),\n",
       " '숄': Scores(cohesion_forward=0, cohesion_backward=0, left_branching_entropy=0.6365141682948128, right_branching_entropy=-0.0, left_accessor_variety=2, right_accessor_variety=1, leftside_frequency=15, rightside_frequency=0),\n",
       " '녁': Scores(cohesion_forward=0, cohesion_backward=0, left_branching_entropy=-0.0, right_branching_entropy=3.151343842454701, left_accessor_variety=1, right_accessor_variety=44, leftside_frequency=0, rightside_frequency=421),\n",
       " '사': Scores(cohesion_forward=0, cohesion_backward=0, left_branching_entropy=4.888428742867745, right_branching_entropy=4.164264684384077, left_accessor_variety=693, right_accessor_variety=596, leftside_frequency=70011, rightside_frequency=19655),\n",
       " '정': Scores(cohesion_forward=0, cohesion_backward=0, left_branching_entropy=4.943156795368388, right_branching_entropy=4.554741667159668, left_accessor_variety=551, right_accessor_variety=493, leftside_frequency=35310, rightside_frequency=10081),\n",
       " '족': Scores(cohesion_forward=0, cohesion_backward=0, left_branching_entropy=1.7354691839760858, right_branching_entropy=3.5220758647003776, left_accessor_variety=32, right_accessor_variety=127, leftside_frequency=537, rightside_frequency=888),\n",
       " '펜': Scores(cohesion_forward=0, cohesion_backward=0, left_branching_entropy=3.4308645522524284, right_branching_entropy=1.7867729019653342, left_accessor_variety=47, right_accessor_variety=12, leftside_frequency=347, rightside_frequency=27),\n",
       " '롱': Scores(cohesion_forward=0, cohesion_backward=0, left_branching_entropy=3.1615556276879184, right_branching_entropy=2.7345275569115075, left_accessor_variety=32, right_accessor_variety=26, leftside_frequency=153, rightside_frequency=75),\n",
       " '귤': Scores(cohesion_forward=0, cohesion_backward=0, left_branching_entropy=0, right_branching_entropy=1.7624536836896145, left_accessor_variety=0, right_accessor_variety=7, leftside_frequency=0, rightside_frequency=28),\n",
       " '않': Scores(cohesion_forward=0, cohesion_backward=0, left_branching_entropy=0.481067902961136, right_branching_entropy=2.4448187939124884, left_accessor_variety=21, right_accessor_variety=24, leftside_frequency=14902, rightside_frequency=0),\n",
       " '흉': Scores(cohesion_forward=0, cohesion_backward=0, left_branching_entropy=3.3772727946346475, right_branching_entropy=1.3235545650479092, left_accessor_variety=41, right_accessor_variety=9, leftside_frequency=370, rightside_frequency=0),\n",
       " '깡': Scores(cohesion_forward=0, cohesion_backward=0, left_branching_entropy=1.63331149832903, right_branching_entropy=1.2069777321644193, left_accessor_variety=6, right_accessor_variety=4, leftside_frequency=22, rightside_frequency=12),\n",
       " '분': Scores(cohesion_forward=0, cohesion_backward=0, left_branching_entropy=4.688783809350281, right_branching_entropy=4.026410109739724, left_accessor_variety=357, right_accessor_variety=324, leftside_frequency=10953, rightside_frequency=3240),\n",
       " '겹': Scores(cohesion_forward=0, cohesion_backward=0, left_branching_entropy=2.464298415944912, right_branching_entropy=1.4334353798358794, left_accessor_variety=20, right_accessor_variety=7, leftside_frequency=185, rightside_frequency=0),\n",
       " '액': Scores(cohesion_forward=0, cohesion_backward=0, left_branching_entropy=3.481864758059752, right_branching_entropy=3.8819459145992647, left_accessor_variety=86, right_accessor_variety=104, leftside_frequency=549, rightside_frequency=1037),\n",
       " '뚜': Scores(cohesion_forward=0, cohesion_backward=0, left_branching_entropy=2.9430751579591434, right_branching_entropy=1.2477736884952877, left_accessor_variety=32, right_accessor_variety=6, leftside_frequency=270, rightside_frequency=0),\n",
       " '묻': Scores(cohesion_forward=0, cohesion_backward=0, left_branching_entropy=2.4696222475413836, right_branching_entropy=2.04433029512792, left_accessor_variety=41, right_accessor_variety=16, leftside_frequency=984, rightside_frequency=0),\n",
       " '뿜': Scores(cohesion_forward=0, cohesion_backward=0, left_branching_entropy=1.5832437177643264, right_branching_entropy=0.3156311865497606, left_accessor_variety=8, right_accessor_variety=2, leftside_frequency=103, rightside_frequency=0),\n",
       " '댓': Scores(cohesion_forward=0, cohesion_backward=0, left_branching_entropy=2.9162518445227295, right_branching_entropy=0.1133649868760616, left_accessor_variety=27, right_accessor_variety=2, leftside_frequency=209, rightside_frequency=0),\n",
       " '뜬': Scores(cohesion_forward=0, cohesion_backward=0, left_branching_entropy=1.9374131391364668, right_branching_entropy=1.9051014569694718, left_accessor_variety=10, right_accessor_variety=10, leftside_frequency=34, rightside_frequency=16),\n",
       " '좇': Scores(cohesion_forward=0, cohesion_backward=0, left_branching_entropy=0.5004024235381879, right_branching_entropy=0.6365141682948128, left_accessor_variety=2, right_accessor_variety=2, leftside_frequency=29, rightside_frequency=0),\n",
       " '멘': Scores(cohesion_forward=0, cohesion_backward=0, left_branching_entropy=2.7608368845308022, right_branching_entropy=1.2120506430416411, left_accessor_variety=39, right_accessor_variety=9, leftside_frequency=359, rightside_frequency=17),\n",
       " '밉': Scores(cohesion_forward=0, cohesion_backward=0, left_branching_entropy=1.3624973163234995, right_branching_entropy=-0.0, left_accessor_variety=6, right_accessor_variety=1, leftside_frequency=60, rightside_frequency=0),\n",
       " '뱃': Scores(cohesion_forward=0, cohesion_backward=0, left_branching_entropy=2.062069541300165, right_branching_entropy=0.6914160776171183, left_accessor_variety=8, right_accessor_variety=2, leftside_frequency=25, rightside_frequency=0),\n",
       " '슝': Scores(cohesion_forward=0, cohesion_backward=0, left_branching_entropy=-0.0, right_branching_entropy=0.5982695885852573, left_accessor_variety=1, right_accessor_variety=2, leftside_frequency=0, rightside_frequency=11),\n",
       " '끓': Scores(cohesion_forward=0, cohesion_backward=0, left_branching_entropy=2.69106055042975, right_branching_entropy=1.463484805221945, left_accessor_variety=17, right_accessor_variety=5, leftside_frequency=87, rightside_frequency=0),\n",
       " '톱': Scores(cohesion_forward=0, cohesion_backward=0, left_branching_entropy=2.5485591425599954, right_branching_entropy=2.9188874854536624, left_accessor_variety=25, right_accessor_variety=26, leftside_frequency=87, rightside_frequency=96),\n",
       " '똥': Scores(cohesion_forward=0, cohesion_backward=0, left_branching_entropy=-0.0, right_branching_entropy=0.5623351446188083, left_accessor_variety=1, right_accessor_variety=2, leftside_frequency=20, rightside_frequency=7),\n",
       " '셉': Scores(cohesion_forward=0, cohesion_backward=0, left_branching_entropy=-0.0, right_branching_entropy=1.0397207708399179, left_accessor_variety=1, right_accessor_variety=3, leftside_frequency=5, rightside_frequency=14),\n",
       " '튬': Scores(cohesion_forward=0, cohesion_backward=0, left_branching_entropy=-0.0, right_branching_entropy=1.282710651855798, left_accessor_variety=1, right_accessor_variety=4, leftside_frequency=0, rightside_frequency=27),\n",
       " '땡': Scores(cohesion_forward=0, cohesion_backward=0, left_branching_entropy=1.0986122886681096, right_branching_entropy=-0.0, left_accessor_variety=3, right_accessor_variety=1, leftside_frequency=12, rightside_frequency=0),\n",
       " '옥': Scores(cohesion_forward=0, cohesion_backward=0, left_branching_entropy=4.130967647642166, right_branching_entropy=3.5742411517547694, left_accessor_variety=100, right_accessor_variety=78, leftside_frequency=846, rightside_frequency=308),\n",
       " '녹': Scores(cohesion_forward=0, cohesion_backward=0, left_branching_entropy=3.8148489652103454, right_branching_entropy=2.30508169214633, left_accessor_variety=96, right_accessor_variety=21, leftside_frequency=1197, rightside_frequency=7),\n",
       " '릉': Scores(cohesion_forward=0, cohesion_backward=0, left_branching_entropy=0, right_branching_entropy=2.895623320067536, left_accessor_variety=0, right_accessor_variety=26, leftside_frequency=0, rightside_frequency=144),\n",
       " '워': Scores(cohesion_forward=0, cohesion_backward=0, left_branching_entropy=3.8430135797748304, right_branching_entropy=3.7384690207186537, left_accessor_variety=121, right_accessor_variety=171, leftside_frequency=1338, rightside_frequency=1157),\n",
       " '침': Scores(cohesion_forward=0, cohesion_backward=0, left_branching_entropy=3.963646671238297, right_branching_entropy=3.4762224838315943, left_accessor_variety=114, right_accessor_variety=97, leftside_frequency=1536, rightside_frequency=572),\n",
       " '뜯': Scores(cohesion_forward=0, cohesion_backward=0, left_branching_entropy=1.4231371345268764, right_branching_entropy=0.23032354087587759, left_accessor_variety=10, right_accessor_variety=2, leftside_frequency=125, rightside_frequency=0),\n",
       " '흩': Scores(cohesion_forward=0, cohesion_backward=0, left_branching_entropy=1.860003361161808, right_branching_entropy=0.5623351446188083, left_accessor_variety=11, right_accessor_variety=2, leftside_frequency=62, rightside_frequency=0),\n",
       " '얕': Scores(cohesion_forward=0, cohesion_backward=0, left_branching_entropy=1.9072709391394818, right_branching_entropy=-0.0, left_accessor_variety=7, right_accessor_variety=1, leftside_frequency=29, rightside_frequency=0),\n",
       " '번': Scores(cohesion_forward=0, cohesion_backward=0, left_branching_entropy=2.9955845505706447, right_branching_entropy=4.868068540005042, left_accessor_variety=104, right_accessor_variety=376, leftside_frequency=2620, rightside_frequency=6740),\n",
       " '롯': Scores(cohesion_forward=0, cohesion_backward=0, left_branching_entropy=3.9041280763780613, right_branching_entropy=0.3156687890259886, left_accessor_variety=127, right_accessor_variety=23, leftside_frequency=1975, rightside_frequency=131),\n",
       " '콤': Scores(cohesion_forward=0, cohesion_backward=0, left_branching_entropy=1.710078959254716, right_branching_entropy=2.4919853856029874, left_accessor_variety=17, right_accessor_variety=45, leftside_frequency=336, rightside_frequency=291),\n",
       " '풋': Scores(cohesion_forward=0, cohesion_backward=0, left_branching_entropy=2.6177588707402673, right_branching_entropy=0.8193287736688073, left_accessor_variety=17, right_accessor_variety=4, leftside_frequency=129, rightside_frequency=0),\n",
       " '렵': Scores(cohesion_forward=0, cohesion_backward=0, left_branching_entropy=0, right_branching_entropy=1.7094727765842133, left_accessor_variety=0, right_accessor_variety=6, leftside_frequency=0, rightside_frequency=39),\n",
       " '다': Scores(cohesion_forward=0, cohesion_backward=0, left_branching_entropy=3.53599736942039, right_branching_entropy=5.082272387471424, left_accessor_variety=595, right_accessor_variety=1051, leftside_frequency=22828, rightside_frequency=289209),\n",
       " '쟉': Scores(cohesion_forward=0, cohesion_backward=0, left_branching_entropy=-0.0, right_branching_entropy=-0.0, left_accessor_variety=1, right_accessor_variety=1, leftside_frequency=0, rightside_frequency=14),\n",
       " '첫': Scores(cohesion_forward=0, cohesion_backward=0, left_branching_entropy=3.6439025999245556, right_branching_entropy=3.795771616579116, left_accessor_variety=140, right_accessor_variety=165, leftside_frequency=806, rightside_frequency=0),\n",
       " '황': Scores(cohesion_forward=0, cohesion_backward=0, left_branching_entropy=3.81672202298041, right_branching_entropy=4.250673487500445, left_accessor_variety=125, right_accessor_variety=161, leftside_frequency=1773, rightside_frequency=875),\n",
       " '넣': Scores(cohesion_forward=0, cohesion_backward=0, left_branching_entropy=2.1021205051162015, right_branching_entropy=1.8311418414720537, left_accessor_variety=27, right_accessor_variety=9, leftside_frequency=620, rightside_frequency=0),\n",
       " '언': Scores(cohesion_forward=0, cohesion_backward=0, left_branching_entropy=4.215954531994497, right_branching_entropy=2.8622383520453654, left_accessor_variety=187, right_accessor_variety=124, leftside_frequency=3759, rightside_frequency=937),\n",
       " '국': Scores(cohesion_forward=0, cohesion_backward=0, left_branching_entropy=4.660385785741402, right_branching_entropy=4.117450954568264, left_accessor_variety=440, right_accessor_variety=456, leftside_frequency=29541, rightside_frequency=15722),\n",
       " '얀': Scores(cohesion_forward=0, cohesion_backward=0, left_branching_entropy=1.6988401666924533, right_branching_entropy=2.385819607543998, left_accessor_variety=6, right_accessor_variety=16, leftside_frequency=24, rightside_frequency=109),\n",
       " '어': Scores(cohesion_forward=0, cohesion_backward=0, left_branching_entropy=4.454372576434402, right_branching_entropy=5.141775749840324, left_accessor_variety=405, right_accessor_variety=676, leftside_frequency=15014, rightside_frequency=21180),\n",
       " '면': Scores(cohesion_forward=0, cohesion_backward=0, left_branching_entropy=3.1909920455489122, right_branching_entropy=5.244580197530578, left_accessor_variety=243, right_accessor_variety=626, leftside_frequency=4240, rightside_frequency=25429),\n",
       " '외': Scores(cohesion_forward=0, cohesion_backward=0, left_branching_entropy=4.490673129609127, right_branching_entropy=3.540253631702153, left_accessor_variety=271, right_accessor_variety=256, leftside_frequency=7691, rightside_frequency=2019),\n",
       " '잃': Scores(cohesion_forward=0, cohesion_backward=0, left_branching_entropy=1.3177496153943487, right_branching_entropy=1.9125149613694354, left_accessor_variety=28, right_accessor_variety=9, leftside_frequency=728, rightside_frequency=0),\n",
       " '웜': Scores(cohesion_forward=0, cohesion_backward=0, left_branching_entropy=1.3321790402101223, right_branching_entropy=0.6365141682948128, left_accessor_variety=4, right_accessor_variety=2, leftside_frequency=9, rightside_frequency=0),\n",
       " '용': Scores(cohesion_forward=0, cohesion_backward=0, left_branching_entropy=4.883041855523343, right_branching_entropy=4.980797116674875, left_accessor_variety=279, right_accessor_variety=360, leftside_frequency=2614, rightside_frequency=5922),\n",
       " '묶': Scores(cohesion_forward=0, cohesion_backward=0, left_branching_entropy=2.0515994516600364, right_branching_entropy=1.871518294317867, left_accessor_variety=14, right_accessor_variety=9, leftside_frequency=173, rightside_frequency=0),\n",
       " '팻': Scores(cohesion_forward=0, cohesion_backward=0, left_branching_entropy=0.6931471805599453, right_branching_entropy=-0.0, left_accessor_variety=2, right_accessor_variety=1, leftside_frequency=5, rightside_frequency=0),\n",
       " '욱': Scores(cohesion_forward=0, cohesion_backward=0, left_branching_entropy=2.853943690439132, right_branching_entropy=4.390471125277928, left_accessor_variety=34, right_accessor_variety=204, leftside_frequency=22, rightside_frequency=3000),\n",
       " '비': Scores(cohesion_forward=0, cohesion_backward=0, left_branching_entropy=4.546939996214993, right_branching_entropy=4.690760687568014, left_accessor_variety=444, right_accessor_variety=451, leftside_frequency=17851, rightside_frequency=6027),\n",
       " '소': Scores(cohesion_forward=0, cohesion_backward=0, left_branching_entropy=4.6820430050678645, right_branching_entropy=4.531820692602947, left_accessor_variety=494, right_accessor_variety=476, leftside_frequency=20528, rightside_frequency=4742),\n",
       " '적': Scores(cohesion_forward=0, cohesion_backward=0, left_branching_entropy=4.555000566743389, right_branching_entropy=4.684909074582164, left_accessor_variety=345, right_accessor_variety=400, leftside_frequency=8991, rightside_frequency=10202),\n",
       " '맑': Scores(cohesion_forward=0, cohesion_backward=0, left_branching_entropy=2.2647410664641874, right_branching_entropy=1.2674204490068233, left_accessor_variety=19, right_accessor_variety=5, leftside_frequency=197, rightside_frequency=0),\n",
       " '벵': Scores(cohesion_forward=0, cohesion_backward=0, left_branching_entropy=1.4553330351928317, right_branching_entropy=0.6853142072764582, left_accessor_variety=5, right_accessor_variety=2, leftside_frequency=23, rightside_frequency=0),\n",
       " '품': Scores(cohesion_forward=0, cohesion_backward=0, left_branching_entropy=3.5076912106762097, right_branching_entropy=4.691505474577825, left_accessor_variety=118, right_accessor_variety=258, leftside_frequency=1145, rightside_frequency=4166),\n",
       " '쁜': Scores(cohesion_forward=0, cohesion_backward=0, left_branching_entropy=0, right_branching_entropy=3.381424938861313, left_accessor_variety=0, right_accessor_variety=49, leftside_frequency=0, rightside_frequency=475),\n",
       " '졌': Scores(cohesion_forward=0, cohesion_backward=0, left_branching_entropy=1.6339410018277607, right_branching_entropy=1.2524321077769451, left_accessor_variety=6, right_accessor_variety=4, leftside_frequency=48, rightside_frequency=0),\n",
       " '베': Scores(cohesion_forward=0, cohesion_backward=0, left_branching_entropy=4.292518159500382, right_branching_entropy=2.5432651323199935, left_accessor_variety=167, right_accessor_variety=41, leftside_frequency=2401, rightside_frequency=104),\n",
       " '쏘': Scores(cohesion_forward=0, cohesion_backward=0, left_branching_entropy=2.5302159509464786, right_branching_entropy=2.15173719269211, left_accessor_variety=32, right_accessor_variety=12, leftside_frequency=379, rightside_frequency=8),\n",
       " '땐': Scores(cohesion_forward=0, cohesion_backward=0, left_branching_entropy=1.6471695066052783, right_branching_entropy=3.1014798196291724, left_accessor_variety=11, right_accessor_variety=27, leftside_frequency=0, rightside_frequency=36),\n",
       " '울': Scores(cohesion_forward=0, cohesion_backward=0, left_branching_entropy=3.9396578834647364, right_branching_entropy=3.6577240273391696, left_accessor_variety=162, right_accessor_variety=236, leftside_frequency=2117, rightside_frequency=17584),\n",
       " '모': Scores(cohesion_forward=0, cohesion_backward=0, left_branching_entropy=4.284335943631254, right_branching_entropy=3.586990989284671, left_accessor_variety=423, right_accessor_variety=316, leftside_frequency=23387, rightside_frequency=2975),\n",
       " '룹': Scores(cohesion_forward=0, cohesion_backward=0, left_branching_entropy=-0.0, right_branching_entropy=4.100104526952683, left_accessor_variety=1, right_accessor_variety=158, leftside_frequency=0, rightside_frequency=2924),\n",
       " '렐': Scores(cohesion_forward=0, cohesion_backward=0, left_branching_entropy=0, right_branching_entropy=0.31449220128141064, left_accessor_variety=0, right_accessor_variety=2, leftside_frequency=0, rightside_frequency=30),\n",
       " '찹': Scores(cohesion_forward=0, cohesion_backward=0, left_branching_entropy=0, right_branching_entropy=-0.0, left_accessor_variety=0, right_accessor_variety=1, leftside_frequency=11, rightside_frequency=0),\n",
       " '갯': Scores(cohesion_forward=0, cohesion_backward=0, left_branching_entropy=2.5738904643247933, right_branching_entropy=-0.0, left_accessor_variety=15, right_accessor_variety=1, leftside_frequency=77, rightside_frequency=0),\n",
       " '롤': Scores(cohesion_forward=0, cohesion_backward=0, left_branching_entropy=2.0680144420343516, right_branching_entropy=1.6404744859007037, left_accessor_variety=25, right_accessor_variety=31, leftside_frequency=460, rightside_frequency=153),\n",
       " '뎌': Scores(cohesion_forward=0, cohesion_backward=0, left_branching_entropy=0, right_branching_entropy=0, left_accessor_variety=0, right_accessor_variety=0, leftside_frequency=0, rightside_frequency=13),\n",
       " '낡': Scores(cohesion_forward=0, cohesion_backward=0, left_branching_entropy=2.2113910814345936, right_branching_entropy=0.5653960819457478, left_accessor_variety=12, right_accessor_variety=3, leftside_frequency=67, rightside_frequency=0),\n",
       " '매': Scores(cohesion_forward=0, cohesion_backward=0, left_branching_entropy=4.4865725798346485, right_branching_entropy=3.7141719829580855, left_accessor_variety=346, right_accessor_variety=253, leftside_frequency=12953, rightside_frequency=2388),\n",
       " '틸': Scores(cohesion_forward=0, cohesion_backward=0, left_branching_entropy=1.6687033327550642, right_branching_entropy=2.465090080514692, left_accessor_variety=6, right_accessor_variety=18, leftside_frequency=24, rightside_frequency=135),\n",
       " '숏': Scores(cohesion_forward=0, cohesion_backward=0, left_branching_entropy=1.0608569471580214, right_branching_entropy=0.6108643020548935, left_accessor_variety=3, right_accessor_variety=2, leftside_frequency=12, rightside_frequency=0),\n",
       " '쩍': Scores(cohesion_forward=0, cohesion_backward=0, left_branching_entropy=-0.0, right_branching_entropy=2.113712914727078, left_accessor_variety=1, right_accessor_variety=17, leftside_frequency=6, rightside_frequency=149),\n",
       " '호': Scores(cohesion_forward=0, cohesion_backward=0, left_branching_entropy=4.645262673495136, right_branching_entropy=4.347884448160475, left_accessor_variety=319, right_accessor_variety=302, leftside_frequency=4914, rightside_frequency=5507),\n",
       " '재': Scores(cohesion_forward=0, cohesion_backward=0, left_branching_entropy=2.814695196025236, right_branching_entropy=2.867411498778356, left_accessor_variety=368, right_accessor_variety=465, leftside_frequency=33311, rightside_frequency=26982),\n",
       " '꿀': Scores(cohesion_forward=0, cohesion_backward=0, left_branching_entropy=2.6719280612401497, right_branching_entropy=2.4372456217060927, left_accessor_variety=24, right_accessor_variety=23, leftside_frequency=204, rightside_frequency=88),\n",
       " '능': Scores(cohesion_forward=0, cohesion_backward=0, left_branching_entropy=3.9870638217269616, right_branching_entropy=3.5846324604768975, left_accessor_variety=111, right_accessor_variety=173, leftside_frequency=1115, rightside_frequency=1496),\n",
       " '항': Scores(cohesion_forward=0, cohesion_backward=0, left_branching_entropy=4.424213661891955, right_branching_entropy=3.454421592213807, left_accessor_variety=196, right_accessor_variety=164, leftside_frequency=2987, rightside_frequency=1213),\n",
       " '목': Scores(cohesion_forward=0, cohesion_backward=0, left_branching_entropy=4.2822881738802465, right_branching_entropy=3.122282021304248, left_accessor_variety=230, right_accessor_variety=170, leftside_frequency=5471, rightside_frequency=1004),\n",
       " '월': Scores(cohesion_forward=0, cohesion_backward=0, left_branching_entropy=2.8658828620286876, right_branching_entropy=4.465495566189176, left_accessor_variety=162, right_accessor_variety=354, leftside_frequency=2286, rightside_frequency=12603),\n",
       " '났': Scores(cohesion_forward=0, cohesion_backward=0, left_branching_entropy=1.5960486423181204, right_branching_entropy=1.7267842894406926, left_accessor_variety=16, right_accessor_variety=10, leftside_frequency=257, rightside_frequency=0),\n",
       " '께': Scores(cohesion_forward=0, cohesion_backward=0, left_branching_entropy=1.8550034304264524, right_branching_entropy=5.187116280323478, left_accessor_variety=18, right_accessor_variety=392, leftside_frequency=0, rightside_frequency=8156),\n",
       " '갑': Scores(cohesion_forward=0, cohesion_backward=0, left_branching_entropy=3.241757816336815, right_branching_entropy=2.1586799864835085, left_accessor_variety=69, right_accessor_variety=48, leftside_frequency=1128, rightside_frequency=173),\n",
       " '병': Scores(cohesion_forward=0, cohesion_backward=0, left_branching_entropy=4.337584540703065, right_branching_entropy=2.988779072657648, left_accessor_variety=157, right_accessor_variety=126, leftside_frequency=2142, rightside_frequency=632),\n",
       " '술': Scores(cohesion_forward=0, cohesion_backward=0, left_branching_entropy=3.150513225235743, right_branching_entropy=4.625794171791169, left_accessor_variety=74, right_accessor_variety=195, leftside_frequency=641, rightside_frequency=2008),\n",
       " '네': Scores(cohesion_forward=0, cohesion_backward=0, left_branching_entropy=4.376043685896764, right_branching_entropy=2.9199209345413286, left_accessor_variety=214, right_accessor_variety=141, leftside_frequency=3341, rightside_frequency=577),\n",
       " '또': Scores(cohesion_forward=0, cohesion_backward=0, left_branching_entropy=2.659263959115573, right_branching_entropy=3.713640999639147, left_accessor_variety=237, right_accessor_variety=335, leftside_frequency=4949, rightside_frequency=61),\n",
       " '랍': Scores(cohesion_forward=0, cohesion_backward=0, left_branching_entropy=1.0986122886681096, right_branching_entropy=1.0980560910559418, left_accessor_variety=3, right_accessor_variety=4, leftside_frequency=18, rightside_frequency=25),\n",
       " '락': Scores(cohesion_forward=0, cohesion_backward=0, left_branching_entropy=2.4251041124565353, right_branching_entropy=4.076460782749974, left_accessor_variety=26, right_accessor_variety=110, leftside_frequency=47, rightside_frequency=851),\n",
       " '챔': Scores(cohesion_forward=0, cohesion_backward=0, left_branching_entropy=2.7156878369328266, right_branching_entropy=0.5215909070057141, left_accessor_variety=25, right_accessor_variety=3, leftside_frequency=197, rightside_frequency=34),\n",
       " '팝': Scores(cohesion_forward=0, cohesion_backward=0, left_branching_entropy=3.600148558448552, right_branching_entropy=2.8322677099786318, left_accessor_variety=52, right_accessor_variety=27, leftside_frequency=218, rightside_frequency=53),\n",
       " '롸': Scores(cohesion_forward=0, cohesion_backward=0, left_branching_entropy=-0.0, right_branching_entropy=-0.0, left_accessor_variety=1, right_accessor_variety=1, leftside_frequency=6, rightside_frequency=0),\n",
       " '낮': Scores(cohesion_forward=0, cohesion_backward=0, left_branching_entropy=3.4135084192572367, right_branching_entropy=2.7372536079932344, left_accessor_variety=84, right_accessor_variety=35, leftside_frequency=1877, rightside_frequency=19),\n",
       " '둔': Scores(cohesion_forward=0, cohesion_backward=0, left_branching_entropy=3.087569234244745, right_branching_entropy=3.873001964325764, left_accessor_variety=50, right_accessor_variety=123, leftside_frequency=356, rightside_frequency=611),\n",
       " '앵': Scores(cohesion_forward=0, cohesion_backward=0, left_branching_entropy=2.2431335090539752, right_branching_entropy=0.2498551017564145, left_accessor_variety=57, right_accessor_variety=5, leftside_frequency=1328, rightside_frequency=0),\n",
       " '돋': Scores(cohesion_forward=0, cohesion_backward=0, left_branching_entropy=1.893260516767171, right_branching_entropy=0.4169380061109309, left_accessor_variety=19, right_accessor_variety=5, leftside_frequency=493, rightside_frequency=0),\n",
       " '닮': Scores(cohesion_forward=0, cohesion_backward=0, left_branching_entropy=2.4520493552966593, right_branching_entropy=1.1132792449045887, left_accessor_variety=19, right_accessor_variety=4, leftside_frequency=171, rightside_frequency=0),\n",
       " '팔': Scores(cohesion_forward=0, cohesion_backward=0, left_branching_entropy=3.919372427694091, right_branching_entropy=3.569808051049009, left_accessor_variety=92, right_accessor_variety=53, leftside_frequency=978, rightside_frequency=90),\n",
       " '넷': Scores(cohesion_forward=0, cohesion_backward=0, left_branching_entropy=0.7993770723586401, right_branching_entropy=3.1267167051816935, left_accessor_variety=32, right_accessor_variety=100, leftside_frequency=158, rightside_frequency=1490),\n",
       " '료': Scores(cohesion_forward=0, cohesion_backward=0, left_branching_entropy=2.1682205454668675, right_branching_entropy=4.271677410400215, left_accessor_variety=30, right_accessor_variety=225, leftside_frequency=39, rightside_frequency=3428),\n",
       " '꿋': Scores(cohesion_forward=0, cohesion_backward=0, left_branching_entropy=0.5623351446188083, right_branching_entropy=-0.0, left_accessor_variety=2, right_accessor_variety=1, leftside_frequency=16, rightside_frequency=0),\n",
       " '연': Scores(cohesion_forward=0, cohesion_backward=0, left_branching_entropy=4.8206195206885205, right_branching_entropy=3.9203300200537807, left_accessor_variety=477, right_accessor_variety=351, leftside_frequency=25178, rightside_frequency=3554),\n",
       " '코': Scores(cohesion_forward=0, cohesion_backward=0, left_branching_entropy=4.482331288052687, right_branching_entropy=3.3280907571264517, left_accessor_variety=264, right_accessor_variety=188, leftside_frequency=5373, rightside_frequency=1063),\n",
       " '쥴': Scores(cohesion_forward=0, cohesion_backward=0, left_branching_entropy=0.992281974852574, right_branching_entropy=0.45056120886630463, left_accessor_variety=3, right_accessor_variety=2, leftside_frequency=10, rightside_frequency=5),\n",
       " '충': Scores(cohesion_forward=0, cohesion_backward=0, left_branching_entropy=4.260377027793479, right_branching_entropy=2.630349004081482, left_accessor_variety=180, right_accessor_variety=42, leftside_frequency=4103, rightside_frequency=161),\n",
       " '각': Scores(cohesion_forward=0, cohesion_backward=0, left_branching_entropy=4.088019704691013, right_branching_entropy=3.997633694561941, left_accessor_variety=181, right_accessor_variety=283, leftside_frequency=4185, rightside_frequency=2452),\n",
       " '딕': Scores(cohesion_forward=0, cohesion_backward=0, left_branching_entropy=-0.0, right_branching_entropy=-0.0, left_accessor_variety=1, right_accessor_variety=1, leftside_frequency=0, rightside_frequency=11),\n",
       " '갚': Scores(cohesion_forward=0, cohesion_backward=0, left_branching_entropy=2.230648205383485, right_branching_entropy=2.0250270609379544, left_accessor_variety=17, right_accessor_variety=10, leftside_frequency=174, rightside_frequency=0),\n",
       " '짤': Scores(cohesion_forward=0, cohesion_backward=0, left_branching_entropy=1.564957250242801, right_branching_entropy=0.8921178708188161, left_accessor_variety=5, right_accessor_variety=3, leftside_frequency=14, rightside_frequency=0),\n",
       " '뛰': Scores(cohesion_forward=0, cohesion_backward=0, left_branching_entropy=3.2412905492116617, right_branching_entropy=0.7486003279608763, left_accessor_variety=63, right_accessor_variety=12, leftside_frequency=1116, rightside_frequency=0),\n",
       " '닦': Scores(cohesion_forward=0, cohesion_backward=0, left_branching_entropy=1.6728174154384563, right_branching_entropy=1.3921237797762107, left_accessor_variety=8, right_accessor_variety=5, leftside_frequency=70, rightside_frequency=0),\n",
       " '닛': Scores(cohesion_forward=0, cohesion_backward=0, left_branching_entropy=2.658003012203432, right_branching_entropy=2.2473507090716587, left_accessor_variety=20, right_accessor_variety=19, leftside_frequency=105, rightside_frequency=84),\n",
       " '쌓': Scores(cohesion_forward=0, cohesion_backward=0, left_branching_entropy=2.334021328566409, right_branching_entropy=2.2262673464183713, left_accessor_variety=32, right_accessor_variety=15, leftside_frequency=616, rightside_frequency=0),\n",
       " '틴': Scores(cohesion_forward=0, cohesion_backward=0, left_branching_entropy=1.9481052187239762, right_branching_entropy=2.6177538342516815, left_accessor_variety=15, right_accessor_variety=28, leftside_frequency=47, rightside_frequency=310),\n",
       " '통': Scores(cohesion_forward=0, cohesion_backward=0, left_branching_entropy=2.6902838708311756, right_branching_entropy=2.5737067034602075, left_accessor_variety=263, right_accessor_variety=236, leftside_frequency=14651, rightside_frequency=1727),\n",
       " '망': Scores(cohesion_forward=0, cohesion_backward=0, left_branching_entropy=4.093939199303723, right_branching_entropy=4.243118977714031, left_accessor_variety=97, right_accessor_variety=149, leftside_frequency=806, rightside_frequency=952),\n",
       " '캔': Scores(cohesion_forward=0, cohesion_backward=0, left_branching_entropy=2.9481511834820617, right_branching_entropy=1.0990149743912232, left_accessor_variety=43, right_accessor_variety=12, leftside_frequency=630, rightside_frequency=8),\n",
       " '듣': Scores(cohesion_forward=0, cohesion_backward=0, left_branching_entropy=2.4289771168342935, right_branching_entropy=1.5537238380955622, left_accessor_variety=44, right_accessor_variety=10, leftside_frequency=748, rightside_frequency=0),\n",
       " '쿼': Scores(cohesion_forward=0, cohesion_backward=0, left_branching_entropy=2.042316124449607, right_branching_entropy=1.0283941667143721, left_accessor_variety=8, right_accessor_variety=3, leftside_frequency=36, rightside_frequency=0),\n",
       " '댐': Scores(cohesion_forward=0, cohesion_backward=0, left_branching_entropy=1.9848818592261277, right_branching_entropy=2.5248321497114112, left_accessor_variety=9, right_accessor_variety=15, leftside_frequency=0, rightside_frequency=57),\n",
       " '뵈': Scores(cohesion_forward=0, cohesion_backward=0, left_branching_entropy=-0.0, right_branching_entropy=-0.0, left_accessor_variety=1, right_accessor_variety=1, leftside_frequency=17, rightside_frequency=0),\n",
       " '쏴': Scores(cohesion_forward=0, cohesion_backward=0, left_branching_entropy=0.9388250780600829, right_branching_entropy=1.892740457598484, left_accessor_variety=3, right_accessor_variety=14, leftside_frequency=12, rightside_frequency=0),\n",
       " '증': Scores(cohesion_forward=0, cohesion_backward=0, left_branching_entropy=4.727607404043711, right_branching_entropy=3.103553558280157, left_accessor_variety=265, right_accessor_variety=162, leftside_frequency=6810, rightside_frequency=1294),\n",
       " '긁': Scores(cohesion_forward=0, cohesion_backward=0, left_branching_entropy=1.3796491369985453, right_branching_entropy=1.052922565938695, left_accessor_variety=5, right_accessor_variety=3, leftside_frequency=33, rightside_frequency=0),\n",
       " '유': Scores(cohesion_forward=0, cohesion_backward=0, left_branching_entropy=4.582033788980639, right_branching_entropy=4.5289207522647486, left_accessor_variety=420, right_accessor_variety=344, leftside_frequency=22618, rightside_frequency=1690),\n",
       " '둬': Scores(cohesion_forward=0, cohesion_backward=0, left_branching_entropy=1.5340265284387788, right_branching_entropy=1.1048429582711154, left_accessor_variety=6, right_accessor_variety=5, leftside_frequency=26, rightside_frequency=22),\n",
       " '펌': Scores(cohesion_forward=0, cohesion_backward=0, left_branching_entropy=1.3322449224385327, right_branching_entropy=1.4604258509545351, left_accessor_variety=4, right_accessor_variety=6, leftside_frequency=19, rightside_frequency=22),\n",
       " '제': Scores(cohesion_forward=0, cohesion_backward=0, left_branching_entropy=4.468329288803853, right_branching_entropy=4.2584194561932875, left_accessor_variety=550, right_accessor_variety=505, leftside_frequency=37778, rightside_frequency=17831),\n",
       " '나': Scores(cohesion_forward=0, cohesion_backward=0, left_branching_entropy=4.18470460045603, right_branching_entropy=5.204744456286171, left_accessor_variety=465, right_accessor_variety=720, leftside_frequency=22214, rightside_frequency=18529),\n",
       " '올': Scores(cohesion_forward=0, cohesion_backward=0, left_branching_entropy=3.6921684479304178, right_branching_entropy=2.6206048569727445, left_accessor_variety=203, right_accessor_variety=115, leftside_frequency=8700, rightside_frequency=661),\n",
       " '궂': Scores(cohesion_forward=0, cohesion_backward=0, left_branching_entropy=0.6365141682948128, right_branching_entropy=-0.0, left_accessor_variety=2, right_accessor_variety=1, leftside_frequency=10, rightside_frequency=0),\n",
       " '믹': Scores(cohesion_forward=0, cohesion_backward=0, left_branching_entropy=1.8957317863339544, right_branching_entropy=1.9087392850488278, left_accessor_variety=8, right_accessor_variety=13, leftside_frequency=54, rightside_frequency=78),\n",
       " '커': Scores(cohesion_forward=0, cohesion_backward=0, left_branching_entropy=4.185102778386501, right_branching_entropy=3.774253420059916, left_accessor_variety=184, right_accessor_variety=165, leftside_frequency=2651, rightside_frequency=1370),\n",
       " '얇': Scores(cohesion_forward=0, cohesion_backward=0, left_branching_entropy=2.6300819388009735, right_branching_entropy=1.1547720044979257, left_accessor_variety=17, right_accessor_variety=4, leftside_frequency=98, rightside_frequency=0),\n",
       " '폄': Scores(cohesion_forward=0, cohesion_backward=0, left_branching_entropy=0.9075352941050092, right_branching_entropy=-0.0, left_accessor_variety=3, right_accessor_variety=1, leftside_frequency=19, rightside_frequency=0),\n",
       " '첼': Scores(cohesion_forward=0, cohesion_backward=0, left_branching_entropy=2.05474554492409, right_branching_entropy=1.4397455852759047, left_accessor_variety=10, right_accessor_variety=6, leftside_frequency=46, rightside_frequency=12),\n",
       " '꺾': Scores(cohesion_forward=0, cohesion_backward=0, left_branching_entropy=1.6607233897975113, right_branching_entropy=2.1390992158181845, left_accessor_variety=7, right_accessor_variety=9, leftside_frequency=102, rightside_frequency=0),\n",
       " '쫓': Scores(cohesion_forward=0, cohesion_backward=0, left_branching_entropy=2.5664290774738983, right_branching_entropy=1.717408032038399, left_accessor_variety=25, right_accessor_variety=8, leftside_frequency=307, rightside_frequency=0),\n",
       " '켠': Scores(cohesion_forward=0, cohesion_backward=0, left_branching_entropy=0.6931471805599453, right_branching_entropy=-0.0, left_accessor_variety=2, right_accessor_variety=1, leftside_frequency=7, rightside_frequency=0),\n",
       " '헛': Scores(cohesion_forward=0, cohesion_backward=0, left_branching_entropy=2.9299948199107946, right_branching_entropy=1.1394471548372276, left_accessor_variety=25, right_accessor_variety=7, leftside_frequency=234, rightside_frequency=0),\n",
       " '꿍': Scores(cohesion_forward=0, cohesion_backward=0, left_branching_entropy=0.8374712547857914, right_branching_entropy=-0.0, left_accessor_variety=3, right_accessor_variety=1, leftside_frequency=49, rightside_frequency=0),\n",
       " '땅': Scores(cohesion_forward=0, cohesion_backward=0, left_branching_entropy=3.3681647575048923, right_branching_entropy=2.644233615057953, left_accessor_variety=46, right_accessor_variety=28, leftside_frequency=223, rightside_frequency=28),\n",
       " '싫': Scores(cohesion_forward=0, cohesion_backward=0, left_branching_entropy=2.853861143073829, right_branching_entropy=1.5625414514665827, left_accessor_variety=31, right_accessor_variety=8, leftside_frequency=280, rightside_frequency=0),\n",
       " '뉴': Scores(cohesion_forward=0, cohesion_backward=0, left_branching_entropy=3.0259859364235306, right_branching_entropy=1.083693663250162, left_accessor_variety=220, right_accessor_variety=50, leftside_frequency=23270, rightside_frequency=151),\n",
       " '쿵': Scores(cohesion_forward=0, cohesion_backward=0, left_branching_entropy=2.6385045436664067, right_branching_entropy=1.9366441876578633, left_accessor_variety=19, right_accessor_variety=11, leftside_frequency=97, rightside_frequency=80),\n",
       " '뇌': Scores(cohesion_forward=0, cohesion_backward=0, left_branching_entropy=3.761079060270162, right_branching_entropy=2.1138020980021834, left_accessor_variety=64, right_accessor_variety=27, leftside_frequency=543, rightside_frequency=29),\n",
       " '힉': Scores(cohesion_forward=0, cohesion_backward=0, left_branching_entropy=0.5982695885852573, right_branching_entropy=-0.0, left_accessor_variety=2, right_accessor_variety=1, leftside_frequency=17, rightside_frequency=0),\n",
       " '탔': Scores(cohesion_forward=0, cohesion_backward=0, left_branching_entropy=0.8144496646195546, right_branching_entropy=0.44004365688022673, left_accessor_variety=5, right_accessor_variety=3, leftside_frequency=99, rightside_frequency=0),\n",
       " '됩': Scores(cohesion_forward=0, cohesion_backward=0, left_branching_entropy=1.94036312973396, right_branching_entropy=-0.0, left_accessor_variety=9, right_accessor_variety=1, leftside_frequency=264, rightside_frequency=0),\n",
       " '앞': Scores(cohesion_forward=0, cohesion_backward=0, left_branching_entropy=3.6164431491464044, right_branching_entropy=2.235045353009949, left_accessor_variety=182, right_accessor_variety=74, leftside_frequency=7590, rightside_frequency=9),\n",
       " '을': Scores(cohesion_forward=0, cohesion_backward=0, left_branching_entropy=5.290676413089728, right_branching_entropy=5.425005803779664, left_accessor_variety=927, right_accessor_variety=837, leftside_frequency=719, rightside_frequency=203217),\n",
       " '랄': Scores(cohesion_forward=0, cohesion_backward=0, left_branching_entropy=1.1821502441987646, right_branching_entropy=2.8879115712210033, left_accessor_variety=5, right_accessor_variety=23, leftside_frequency=5, rightside_frequency=134),\n",
       " '귄': Scores(cohesion_forward=0, cohesion_backward=0, left_branching_entropy=0, right_branching_entropy=1.0888999753452238, left_accessor_variety=0, right_accessor_variety=3, leftside_frequency=0, rightside_frequency=16),\n",
       " '쌀': Scores(cohesion_forward=0, cohesion_backward=0, left_branching_entropy=3.4650121965643317, right_branching_entropy=2.407168490919269, left_accessor_variety=44, right_accessor_variety=28, leftside_frequency=247, rightside_frequency=43),\n",
       " '편': Scores(cohesion_forward=0, cohesion_backward=0, left_branching_entropy=4.312296362840648, right_branching_entropy=4.576941229614376, left_accessor_variety=209, right_accessor_variety=333, leftside_frequency=3879, rightside_frequency=4009),\n",
       " '맥': Scores(cohesion_forward=0, cohesion_backward=0, left_branching_entropy=3.5740574772147236, right_branching_entropy=2.9036813271114554, left_accessor_variety=70, right_accessor_variety=41, leftside_frequency=524, rightside_frequency=152),\n",
       " '2': Scores(cohesion_forward=0, cohesion_backward=0, left_branching_entropy=4.123837991008945, right_branching_entropy=2.402924141108352, left_accessor_variety=519, right_accessor_variety=347, leftside_frequency=88936, rightside_frequency=6781),\n",
       " '걱': Scores(cohesion_forward=0, cohesion_backward=0, left_branching_entropy=3.5430246042148563, right_branching_entropy=-0.0, left_accessor_variety=54, right_accessor_variety=1, leftside_frequency=491, rightside_frequency=0),\n",
       " '아': Scores(cohesion_forward=0, cohesion_backward=0, left_branching_entropy=4.47697103332597, right_branching_entropy=4.476673404616061, left_accessor_variety=544, right_accessor_variety=615, leftside_frequency=33052, rightside_frequency=16004),\n",
       " '략': Scores(cohesion_forward=0, cohesion_backward=0, left_branching_entropy=-0.0, right_branching_entropy=3.871461690726014, left_accessor_variety=1, right_accessor_variety=69, leftside_frequency=0, rightside_frequency=565),\n",
       " '뭄': Scores(cohesion_forward=0, cohesion_backward=0, left_branching_entropy=0, right_branching_entropy=0.5004024235381879, left_accessor_variety=0, right_accessor_variety=2, leftside_frequency=8, rightside_frequency=5),\n",
       " '낄': Scores(cohesion_forward=0, cohesion_backward=0, left_branching_entropy=0.6730116670092565, right_branching_entropy=0.6035812046513235, left_accessor_variety=2, right_accessor_variety=7, leftside_frequency=0, rightside_frequency=305),\n",
       " 'ㄷ': Scores(cohesion_forward=0, cohesion_backward=0, left_branching_entropy=0.6365141682948128, right_branching_entropy=0.5982695885852573, left_accessor_variety=2, right_accessor_variety=2, leftside_frequency=13, rightside_frequency=0),\n",
       " '덮': Scores(cohesion_forward=0, cohesion_backward=0, left_branching_entropy=2.443454967086346, right_branching_entropy=2.580548195574793, left_accessor_variety=24, right_accessor_variety=16, leftside_frequency=235, rightside_frequency=0),\n",
       " '져': Scores(cohesion_forward=0, cohesion_backward=0, left_branching_entropy=2.416482302717246, right_branching_entropy=3.9365328716651597, left_accessor_variety=25, right_accessor_variety=201, leftside_frequency=33, rightside_frequency=2569),\n",
       " '깨': Scores(cohesion_forward=0, cohesion_backward=0, left_branching_entropy=2.8420351089627074, right_branching_entropy=2.879024250000571, left_accessor_variety=45, right_accessor_variety=33, leftside_frequency=611, rightside_frequency=103),\n",
       " '약': Scores(cohesion_forward=0, cohesion_backward=0, left_branching_entropy=4.259252189225738, right_branching_entropy=4.304943117733714, left_accessor_variety=198, right_accessor_variety=229, leftside_frequency=2065, rightside_frequency=2272),\n",
       " '개': Scores(cohesion_forward=0, cohesion_backward=0, left_branching_entropy=4.675205603731746, right_branching_entropy=4.123919137339089, left_accessor_variety=384, right_accessor_variety=382, leftside_frequency=17216, rightside_frequency=6603),\n",
       " '쾌': Scores(cohesion_forward=0, cohesion_backward=0, left_branching_entropy=2.8705837616726635, right_branching_entropy=1.5717943007756556, left_accessor_variety=27, right_accessor_variety=10, leftside_frequency=252, rightside_frequency=0),\n",
       " '전': Scores(cohesion_forward=0, cohesion_backward=0, left_branching_entropy=4.606345207055557, right_branching_entropy=4.556741338013712, left_accessor_variety=594, right_accessor_variety=535, leftside_frequency=53586, rightside_frequency=11205),\n",
       " '싣': Scores(cohesion_forward=0, cohesion_backward=0, left_branching_entropy=1.6569035479979395, right_branching_entropy=0.48257756517701206, left_accessor_variety=6, right_accessor_variety=2, leftside_frequency=70, rightside_frequency=0),\n",
       " '바': Scores(cohesion_forward=0, cohesion_backward=0, left_branching_entropy=4.065269506537424, right_branching_entropy=3.6149604380873552, left_accessor_variety=283, right_accessor_variety=203, leftside_frequency=9572, rightside_frequency=735),\n",
       " '계': Scores(cohesion_forward=0, cohesion_backward=0, left_branching_entropy=4.400276795089421, right_branching_entropy=3.802688592414875, left_accessor_variety=324, right_accessor_variety=315, leftside_frequency=10146, rightside_frequency=6663),\n",
       " '린': Scores(cohesion_forward=0, cohesion_backward=0, left_branching_entropy=3.272816792217114, right_branching_entropy=4.374301946415952, left_accessor_variety=58, right_accessor_variety=343, leftside_frequency=90, rightside_frequency=10898),\n",
       " '감': Scores(cohesion_forward=0, cohesion_backward=0, left_branching_entropy=4.6198167045439025, right_branching_entropy=3.55144900493404, left_accessor_variety=348, right_accessor_variety=237, leftside_frequency=10154, rightside_frequency=1639),\n",
       " '늙': Scores(cohesion_forward=0, cohesion_backward=0, left_branching_entropy=2.1160942561089704, right_branching_entropy=0.6145033203107282, left_accessor_variety=9, right_accessor_variety=2, leftside_frequency=35, rightside_frequency=0),\n",
       " '5': Scores(cohesion_forward=0, cohesion_backward=0, left_branching_entropy=4.7906008417483585, right_branching_entropy=4.180261861388941, left_accessor_variety=356, right_accessor_variety=289, leftside_frequency=14241, rightside_frequency=4762),\n",
       " '삶': Scores(cohesion_forward=0, cohesion_backward=0, left_branching_entropy=2.4206265206323607, right_branching_entropy=1.7151900439477827, left_accessor_variety=53, right_accessor_variety=23, leftside_frequency=947, rightside_frequency=0),\n",
       " '짚': Scores(cohesion_forward=0, cohesion_backward=0, left_branching_entropy=1.8371114392085781, right_branching_entropy=0.8235948570822001, left_accessor_variety=22, right_accessor_variety=6, leftside_frequency=296, rightside_frequency=0),\n",
       " '같': Scores(cohesion_forward=0, cohesion_backward=0, left_branching_entropy=3.409670279894517, right_branching_entropy=1.409657710210831, left_accessor_variety=251, right_accessor_variety=17, leftside_frequency=7804, rightside_frequency=0),\n",
       " '넝': Scores(cohesion_forward=0, cohesion_backward=0, left_branching_entropy=0.7749927584562633, right_branching_entropy=-0.0, left_accessor_variety=3, right_accessor_variety=1, leftside_frequency=25, rightside_frequency=0),\n",
       " '찡': Scores(cohesion_forward=0, cohesion_backward=0, left_branching_entropy=0.9949236325717751, right_branching_entropy=-0.0, left_accessor_variety=3, right_accessor_variety=1, leftside_frequency=13, rightside_frequency=0),\n",
       " '넥': Scores(cohesion_forward=0, cohesion_backward=0, left_branching_entropy=3.4538748953789318, right_branching_entropy=1.2524779885362833, left_accessor_variety=45, right_accessor_variety=7, leftside_frequency=277, rightside_frequency=19),\n",
       " '듀': Scores(cohesion_forward=0, cohesion_backward=0, left_branching_entropy=3.3131358158232946, right_branching_entropy=1.5261843537299997, left_accessor_variety=39, right_accessor_variety=11, leftside_frequency=274, rightside_frequency=14),\n",
       " '엌': Scores(cohesion_forward=0, cohesion_backward=0, left_branching_entropy=0, right_branching_entropy=-0.0, left_accessor_variety=0, right_accessor_variety=1, leftside_frequency=0, rightside_frequency=7),\n",
       " '푹': Scores(cohesion_forward=0, cohesion_backward=0, left_branching_entropy=1.200744562250008, right_branching_entropy=1.1707800365125565, left_accessor_variety=5, right_accessor_variety=5, leftside_frequency=7, rightside_frequency=15),\n",
       " '간': Scores(cohesion_forward=0, cohesion_backward=0, left_branching_entropy=3.959327890761622, right_branching_entropy=5.314080986402584, left_accessor_variety=298, right_accessor_variety=505, leftside_frequency=3866, rightside_frequency=13033),\n",
       " '귀': Scores(cohesion_forward=0, cohesion_backward=0, left_branching_entropy=3.4362871474009347, right_branching_entropy=3.529223469828455, left_accessor_variety=93, right_accessor_variety=83, leftside_frequency=1375, rightside_frequency=635),\n",
       " '씨': Scores(cohesion_forward=0, cohesion_backward=0, left_branching_entropy=4.362347389998953, right_branching_entropy=3.5169701595316556, left_accessor_variety=241, right_accessor_variety=211, leftside_frequency=5800, rightside_frequency=2093),\n",
       " '거': Scores(cohesion_forward=0, cohesion_backward=0, left_branching_entropy=4.020667239837608, right_branching_entropy=4.268379965141522, left_accessor_variety=286, right_accessor_variety=309, leftside_frequency=10880, rightside_frequency=2616),\n",
       " '윙': Scores(cohesion_forward=0, cohesion_backward=0, left_branching_entropy=1.8929615531682882, right_branching_entropy=1.3800852205867375, left_accessor_variety=10, right_accessor_variety=8, leftside_frequency=67, rightside_frequency=30),\n",
       " '맴': Scores(cohesion_forward=0, cohesion_backward=0, left_branching_entropy=1.224994497859472, right_branching_entropy=0.6931471805599453, left_accessor_variety=4, right_accessor_variety=2, leftside_frequency=37, rightside_frequency=0),\n",
       " '똑': Scores(cohesion_forward=0, cohesion_backward=0, left_branching_entropy=3.1128879782321928, right_branching_entropy=1.2870056716044431, left_accessor_variety=37, right_accessor_variety=10, leftside_frequency=322, rightside_frequency=0),\n",
       " '왁': Scores(cohesion_forward=0, cohesion_backward=0, left_branching_entropy=1.5810937501718239, right_branching_entropy=0.6922017029622767, left_accessor_variety=6, right_accessor_variety=2, leftside_frequency=25, rightside_frequency=0),\n",
       " '랜': Scores(cohesion_forward=0, cohesion_backward=0, left_branching_entropy=2.878008343666608, right_branching_entropy=3.0135252606128504, left_accessor_variety=29, right_accessor_variety=51, leftside_frequency=236, rightside_frequency=395),\n",
       " '챈': Scores(cohesion_forward=0, cohesion_backward=0, left_branching_entropy=0.2292845795405712, right_branching_entropy=1.6258251558042631, left_accessor_variety=4, right_accessor_variety=12, leftside_frequency=5, rightside_frequency=136),\n",
       " '맞': Scores(cohesion_forward=0, cohesion_backward=0, left_branching_entropy=2.6205452650159864, right_branching_entropy=3.038837323926207, left_accessor_variety=123, right_accessor_variety=41, leftside_frequency=6215, rightside_frequency=0),\n",
       " '밟': Scores(cohesion_forward=0, cohesion_backward=0, left_branching_entropy=0.9380014260102469, right_branching_entropy=2.0094443607226027, left_accessor_variety=5, right_accessor_variety=9, leftside_frequency=156, rightside_frequency=0),\n",
       " '잿': Scores(cohesion_forward=0, cohesion_backward=0, left_branching_entropy=0.5982695885852573, right_branching_entropy=-0.0, left_accessor_variety=2, right_accessor_variety=1, leftside_frequency=11, rightside_frequency=0),\n",
       " '접': Scores(cohesion_forward=0, cohesion_backward=0, left_branching_entropy=3.4818856332823334, right_branching_entropy=4.015017894861382, left_accessor_variety=126, right_accessor_variety=243, leftside_frequency=2831, rightside_frequency=2379),\n",
       " '듬': Scores(cohesion_forward=0, cohesion_backward=0, left_branching_entropy=2.507516369049851, right_branching_entropy=0.6851299049297308, left_accessor_variety=18, right_accessor_variety=4, leftside_frequency=135, rightside_frequency=11),\n",
       " '맏': Scores(cohesion_forward=0, cohesion_backward=0, left_branching_entropy=1.437259180078395, right_branching_entropy=0.6688570623740269, left_accessor_variety=6, right_accessor_variety=2, leftside_frequency=51, rightside_frequency=0),\n",
       " '맨': Scores(cohesion_forward=0, cohesion_backward=0, left_branching_entropy=3.2333314965234563, right_branching_entropy=3.533030640492642, left_accessor_variety=60, right_accessor_variety=72, leftside_frequency=442, rightside_frequency=470),\n",
       " '쓸': Scores(cohesion_forward=0, cohesion_backward=0, left_branching_entropy=3.022118798866335, right_branching_entropy=2.235476621633948, left_accessor_variety=35, right_accessor_variety=22, leftside_frequency=112, rightside_frequency=18),\n",
       " '얽': Scores(cohesion_forward=0, cohesion_backward=0, left_branching_entropy=1.5305352426730459, right_branching_entropy=1.1306216888785623, left_accessor_variety=8, right_accessor_variety=4, leftside_frequency=132, rightside_frequency=0),\n",
       " '홉': Scores(cohesion_forward=0, cohesion_backward=0, left_branching_entropy=0.8945510979978214, right_branching_entropy=1.5468228468569332, left_accessor_variety=3, right_accessor_variety=5, leftside_frequency=0, rightside_frequency=49),\n",
       " '걷': Scores(cohesion_forward=0, cohesion_backward=0, left_branching_entropy=3.176927051936125, right_branching_entropy=1.7456604932489985, left_accessor_variety=53, right_accessor_variety=12, leftside_frequency=759, rightside_frequency=0),\n",
       " '륙': Scores(cohesion_forward=0, cohesion_backward=0, left_branching_entropy=-0.0, right_branching_entropy=3.039116145404464, left_accessor_variety=1, right_accessor_variety=26, leftside_frequency=0, rightside_frequency=151),\n",
       " '컴': Scores(cohesion_forward=0, cohesion_backward=0, left_branching_entropy=2.461311133675894, right_branching_entropy=2.9071230484647264, left_accessor_variety=89, right_accessor_variety=72, leftside_frequency=1094, rightside_frequency=1221),\n",
       " '고': Scores(cohesion_forward=0, cohesion_backward=0, left_branching_entropy=3.549556252559553, right_branching_entropy=4.688218993195991, left_accessor_variety=577, right_accessor_variety=970, leftside_frequency=22266, rightside_frequency=130228),\n",
       " '압': Scores(cohesion_forward=0, cohesion_backward=0, left_branching_entropy=3.525752437454372, right_branching_entropy=2.0055523224248097, left_accessor_variety=107, right_accessor_variety=40, leftside_frequency=2491, rightside_frequency=150),\n",
       " '잣': Scores(cohesion_forward=0, cohesion_backward=0, left_branching_entropy=2.2193959751230814, right_branching_entropy=0.5175983740977871, left_accessor_variety=10, right_accessor_variety=2, leftside_frequency=50, rightside_frequency=0),\n",
       " '닌': Scores(cohesion_forward=0, cohesion_backward=0, left_branching_entropy=2.0212655645353332, right_branching_entropy=4.771818099209322, left_accessor_variety=11, right_accessor_variety=196, leftside_frequency=43, rightside_frequency=1561),\n",
       " '짐': Scores(cohesion_forward=0, cohesion_backward=0, left_branching_entropy=3.1794656474898844, right_branching_entropy=1.8673972324095567, left_accessor_variety=35, right_accessor_variety=17, leftside_frequency=209, rightside_frequency=52),\n",
       " '귈': Scores(cohesion_forward=0, cohesion_backward=0, left_branching_entropy=0, right_branching_entropy=0.3250829733914482, left_accessor_variety=0, right_accessor_variety=2, leftside_frequency=0, rightside_frequency=20),\n",
       " '므': Scores(cohesion_forward=0, cohesion_backward=0, left_branching_entropy=0, right_branching_entropy=0.17884491271684755, left_accessor_variety=0, right_accessor_variety=2, leftside_frequency=0, rightside_frequency=49),\n",
       " '굴': Scores(cohesion_forward=0, cohesion_backward=0, left_branching_entropy=3.376845592024258, right_branching_entropy=4.095164414519375, left_accessor_variety=37, right_accessor_variety=86, leftside_frequency=208, rightside_frequency=403),\n",
       " '괌': Scores(cohesion_forward=0, cohesion_backward=0, left_branching_entropy=1.8364299221020812, right_branching_entropy=0.8828275435751075, left_accessor_variety=8, right_accessor_variety=3, leftside_frequency=31, rightside_frequency=0),\n",
       " '꿇': Scores(cohesion_forward=0, cohesion_backward=0, left_branching_entropy=0.5982695885852573, right_branching_entropy=0.6931471805599453, left_accessor_variety=2, right_accessor_variety=2, leftside_frequency=15, rightside_frequency=0),\n",
       " '부': Scores(cohesion_forward=0, cohesion_backward=0, left_branching_entropy=5.057226036624211, right_branching_entropy=4.742283493440775, left_accessor_variety=539, right_accessor_variety=487, leftside_frequency=24885, rightside_frequency=12983),\n",
       " '닷': Scores(cohesion_forward=0, cohesion_backward=0, left_branching_entropy=2.605043024663944, right_branching_entropy=0.8416674780198213, left_accessor_variety=16, right_accessor_variety=3, leftside_frequency=100, rightside_frequency=6),\n",
       " '겨': Scores(cohesion_forward=0, cohesion_backward=0, left_branching_entropy=2.951826870457281, right_branching_entropy=2.942063731972829, left_accessor_variety=53, right_accessor_variety=98, leftside_frequency=845, rightside_frequency=803),\n",
       " ...}"
      ]
     },
     "execution_count": 16,
     "metadata": {},
     "output_type": "execute_result"
    }
   ],
   "source": [
    "w_e_t"
   ]
  },
  {
   "cell_type": "code",
   "execution_count": 22,
   "id": "0c8e174e",
   "metadata": {},
   "outputs": [
    {
     "data": {
      "text/plain": [
       "0.08838002913645132"
      ]
     },
     "execution_count": 22,
     "metadata": {},
     "output_type": "execute_result"
    }
   ],
   "source": [
    "w_e_t['반포한'].cohesion_forward #cohesion_forward 응집확률"
   ]
  },
  {
   "cell_type": "code",
   "execution_count": 20,
   "id": "84a97e72",
   "metadata": {},
   "outputs": [
    {
     "data": {
      "text/plain": [
       "0.37891487632839754"
      ]
     },
     "execution_count": 20,
     "metadata": {},
     "output_type": "execute_result"
    }
   ],
   "source": [
    "w_e_t['반포한강공원'].cohesion_forward"
   ]
  },
  {
   "cell_type": "code",
   "execution_count": 21,
   "id": "3c836fe2",
   "metadata": {},
   "outputs": [
    {
     "data": {
      "text/plain": [
       "0.33492963377557666"
      ]
     },
     "execution_count": 21,
     "metadata": {},
     "output_type": "execute_result"
    }
   ],
   "source": [
    "w_e_t['반포한강공원에'].cohesion_forward"
   ]
  },
  {
   "cell_type": "code",
   "execution_count": 23,
   "id": "51fdb584",
   "metadata": {},
   "outputs": [
    {
     "data": {
      "text/plain": [
       "-0.0"
      ]
     },
     "execution_count": 23,
     "metadata": {},
     "output_type": "execute_result"
    }
   ],
   "source": [
    "w_e_t['반포한'].right_branching_entropy"
   ]
  },
  {
   "cell_type": "code",
   "execution_count": 24,
   "id": "c3d8853d",
   "metadata": {},
   "outputs": [
    {
     "data": {
      "text/plain": [
       "1.3542944153448395"
      ]
     },
     "execution_count": 24,
     "metadata": {},
     "output_type": "execute_result"
    }
   ],
   "source": [
    "w_e_t['반포한강공원'].right_branching_entropy"
   ]
  },
  {
   "cell_type": "code",
   "execution_count": 25,
   "id": "19681352",
   "metadata": {},
   "outputs": [
    {
     "data": {
      "text/plain": [
       "0.9922819748525737"
      ]
     },
     "execution_count": 25,
     "metadata": {},
     "output_type": "execute_result"
    }
   ],
   "source": [
    "w_e_t['반포한강공원에'].right_branching_entropy"
   ]
  },
  {
   "cell_type": "code",
   "execution_count": 26,
   "id": "07194c8d",
   "metadata": {},
   "outputs": [
    {
     "data": {
      "text/plain": [
       "dict"
      ]
     },
     "execution_count": 26,
     "metadata": {},
     "output_type": "execute_result"
    }
   ],
   "source": [
    "type(w_e_t)"
   ]
  },
  {
   "cell_type": "code",
   "execution_count": 34,
   "id": "35aa515d",
   "metadata": {},
   "outputs": [
    {
     "data": {
      "text/plain": [
       "97765"
      ]
     },
     "execution_count": 34,
     "metadata": {},
     "output_type": "execute_result"
    }
   ],
   "source": [
    "len(w_e_t)"
   ]
  },
  {
   "cell_type": "code",
   "execution_count": 38,
   "id": "6fb63aca",
   "metadata": {},
   "outputs": [
    {
     "name": "stdout",
     "output_type": "stream",
     "text": [
      "('조', Scores(cohesion_forward=0, cohesion_backward=0, left_branching_entropy=4.763622681791006, right_branching_entropy=4.149193525125146, left_accessor_variety=441, right_accessor_variety=351, leftside_frequency=22129, rightside_frequency=2542))\n",
      "('쁘', Scores(cohesion_forward=0, cohesion_backward=0, left_branching_entropy=1.519382664642301, right_branching_entropy=-0.0, left_accessor_variety=5, right_accessor_variety=1, leftside_frequency=14, rightside_frequency=0))\n",
      "('키', Scores(cohesion_forward=0, cohesion_backward=0, left_branching_entropy=3.926228197360046, right_branching_entropy=3.42364924119416, left_accessor_variety=130, right_accessor_variety=114, leftside_frequency=1906, rightside_frequency=578))\n"
     ]
    }
   ],
   "source": [
    "n=0\n",
    "for i in w_e_t.items():\n",
    "    print(i)\n",
    "    n+=1\n",
    "    if n==3:\n",
    "        break"
   ]
  },
  {
   "cell_type": "code",
   "execution_count": 40,
   "id": "edbaf40a",
   "metadata": {},
   "outputs": [
    {
     "name": "stdout",
     "output_type": "stream",
     "text": [
      "('조', 0)\n",
      "('쁘', 0)\n",
      "('키', 0)\n"
     ]
    }
   ],
   "source": [
    "from soynlp.tokenizer import LTokenizer\n",
    "sc = {w:sc.cohesion_forward for w,sc in w_e_t.items()}\n",
    "n=0\n",
    "for i in sc.items():\n",
    "    print(i)\n",
    "    n+=1\n",
    "    if n==3:\n",
    "        break"
   ]
  },
  {
   "cell_type": "code",
   "execution_count": 41,
   "id": "8cad1910",
   "metadata": {},
   "outputs": [
    {
     "data": {
      "text/plain": [
       "<soynlp.tokenizer._tokenizer.LTokenizer at 0x1826af66c40>"
      ]
     },
     "execution_count": 41,
     "metadata": {},
     "output_type": "execute_result"
    }
   ],
   "source": [
    "l_tk = LTokenizer(scores=sc)\n",
    "l_tk"
   ]
  },
  {
   "cell_type": "code",
   "execution_count": 46,
   "id": "d705bf48",
   "metadata": {},
   "outputs": [
    {
     "data": {
      "text/plain": [
       "['반포한강공원', '에']"
      ]
     },
     "execution_count": 46,
     "metadata": {},
     "output_type": "execute_result"
    }
   ],
   "source": [
    "ck_t = '반포한강공원에'\n",
    "l_tk.tokenize(ck_t)"
   ]
  },
  {
   "cell_type": "code",
   "execution_count": 62,
   "id": "c17de66a",
   "metadata": {},
   "outputs": [
    {
     "data": {
      "text/plain": [
       "['자료', '의', '정보를', '구분하기', '위해', '문서작성을', '했다', '.']"
      ]
     },
     "execution_count": 62,
     "metadata": {},
     "output_type": "execute_result"
    }
   ],
   "source": [
    "from soynlp.tokenizer import MaxScoreTokenizer\n",
    "m_tk = MaxScoreTokenizer(scores=sc)\n",
    "ck_t = '자료의정보를구분하기위해문서작성을했다.'\n",
    "m_tk.tokenize(ck_t)"
   ]
  },
  {
   "cell_type": "code",
   "execution_count": 63,
   "id": "75602887",
   "metadata": {},
   "outputs": [
    {
     "data": {
      "text/plain": [
       "0"
      ]
     },
     "execution_count": 63,
     "metadata": {},
     "output_type": "execute_result"
    }
   ],
   "source": [
    "w_e_t['정'].cohesion_forward"
   ]
  },
  {
   "cell_type": "code",
   "execution_count": 64,
   "id": "cc211810",
   "metadata": {},
   "outputs": [
    {
     "data": {
      "text/plain": [
       "0.0745964316057774"
      ]
     },
     "execution_count": 64,
     "metadata": {},
     "output_type": "execute_result"
    }
   ],
   "source": [
    "w_e_t['정보'].cohesion_forward"
   ]
  },
  {
   "cell_type": "code",
   "execution_count": 65,
   "id": "bda18c29",
   "metadata": {},
   "outputs": [
    {
     "data": {
      "text/plain": [
       "0.13143652206154155"
      ]
     },
     "execution_count": 65,
     "metadata": {},
     "output_type": "execute_result"
    }
   ],
   "source": [
    "w_e_t['정보를'].cohesion_forward #이 점수가 더 높아서 정보와 를이 구분x"
   ]
  }
 ],
 "metadata": {
  "kernelspec": {
   "display_name": "Python 3 (ipykernel)",
   "language": "python",
   "name": "python3"
  },
  "language_info": {
   "codemirror_mode": {
    "name": "ipython",
    "version": 3
   },
   "file_extension": ".py",
   "mimetype": "text/x-python",
   "name": "python",
   "nbconvert_exporter": "python",
   "pygments_lexer": "ipython3",
   "version": "3.9.7"
  }
 },
 "nbformat": 4,
 "nbformat_minor": 5
}
