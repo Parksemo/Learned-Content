{
 "cells": [
  {
   "cell_type": "code",
   "execution_count": 1,
   "id": "b09b774b",
   "metadata": {},
   "outputs": [],
   "source": [
    "from konlpy.tag import Okt #한국어 분석기\n",
    "from ckonlpy.tag import Twitter #한국어 분석기 보조장치"
   ]
  },
  {
   "cell_type": "code",
   "execution_count": 2,
   "id": "aca9f876",
   "metadata": {},
   "outputs": [
    {
     "data": {
      "text/plain": [
       "['은', '호가', '교실']"
      ]
     },
     "execution_count": 2,
     "metadata": {},
     "output_type": "execute_result"
    }
   ],
   "source": [
    "t = '은호가 교실로 들어갔다.'\n",
    "tw = Okt()\n",
    "tw.nouns(t)\n",
    "# tw.nouns #명사 추출\n",
    "# tw.morphs #형태소 추출\n",
    "# tw.pos #품수 추출"
   ]
  },
  {
   "cell_type": "code",
   "execution_count": 3,
   "id": "5ff581e4",
   "metadata": {},
   "outputs": [
    {
     "data": {
      "text/plain": [
       "['은', '호가', '교실', '로', '들어갔다', '.']"
      ]
     },
     "execution_count": 3,
     "metadata": {},
     "output_type": "execute_result"
    }
   ],
   "source": [
    "tw.morphs(t)"
   ]
  },
  {
   "cell_type": "code",
   "execution_count": 4,
   "id": "38516dd9",
   "metadata": {},
   "outputs": [
    {
     "data": {
      "text/plain": [
       "[('은', 'Noun'),\n",
       " ('호가', 'Noun'),\n",
       " ('교실', 'Noun'),\n",
       " ('로', 'Josa'),\n",
       " ('들어갔다', 'Verb'),\n",
       " ('.', 'Punctuation')]"
      ]
     },
     "execution_count": 4,
     "metadata": {},
     "output_type": "execute_result"
    }
   ],
   "source": [
    "tw.pos(t)"
   ]
  },
  {
   "cell_type": "code",
   "execution_count": 5,
   "id": "46d8f2df",
   "metadata": {},
   "outputs": [
    {
     "name": "stderr",
     "output_type": "stream",
     "text": [
      "C:\\Users\\user\\anaconda3\\lib\\site-packages\\konlpy\\tag\\_okt.py:17: UserWarning: \"Twitter\" has changed to \"Okt\" since KoNLPy v0.4.5.\n",
      "  warn('\"Twitter\" has changed to \"Okt\" since KoNLPy v0.4.5.')\n"
     ]
    },
    {
     "data": {
      "text/plain": [
       "['은', '호가', '교실', '로', '들어갔다', '.']"
      ]
     },
     "execution_count": 5,
     "metadata": {},
     "output_type": "execute_result"
    }
   ],
   "source": [
    "from konlpy.tag import Twitter\n",
    "tw1 = Twitter()\n",
    "tw1.morphs(t)"
   ]
  },
  {
   "cell_type": "code",
   "execution_count": 6,
   "id": "d5ab280c",
   "metadata": {},
   "outputs": [
    {
     "data": {
      "text/plain": [
       "['은', '호가', '교실', '로', '들어갔다', '.']"
      ]
     },
     "execution_count": 6,
     "metadata": {},
     "output_type": "execute_result"
    }
   ],
   "source": [
    "from ckonlpy.tag import Twitter\n",
    "tw2 = Twitter()\n",
    "tw2.morphs(t)"
   ]
  },
  {
   "cell_type": "code",
   "execution_count": 7,
   "id": "c54c3870",
   "metadata": {},
   "outputs": [],
   "source": [
    "tw2.add_dictionary('은호','Noun')"
   ]
  },
  {
   "cell_type": "code",
   "execution_count": 8,
   "id": "2198d4b1",
   "metadata": {},
   "outputs": [
    {
     "data": {
      "text/plain": [
       "'은호가 교실로 들어갔다.'"
      ]
     },
     "execution_count": 8,
     "metadata": {},
     "output_type": "execute_result"
    }
   ],
   "source": [
    "t"
   ]
  },
  {
   "cell_type": "code",
   "execution_count": 9,
   "id": "9453a4c8",
   "metadata": {},
   "outputs": [
    {
     "data": {
      "text/plain": [
       "['은호', '가', '교실', '로', '들어갔다', '.']"
      ]
     },
     "execution_count": 9,
     "metadata": {},
     "output_type": "execute_result"
    }
   ],
   "source": [
    "tw2.morphs(t)"
   ]
  },
  {
   "cell_type": "code",
   "execution_count": 10,
   "id": "009d1066",
   "metadata": {},
   "outputs": [
    {
     "data": {
      "text/plain": [
       "['은호', '교실']"
      ]
     },
     "execution_count": 10,
     "metadata": {},
     "output_type": "execute_result"
    }
   ],
   "source": [
    "tw2.nouns(t)"
   ]
  },
  {
   "cell_type": "code",
   "execution_count": 11,
   "id": "9bce118f",
   "metadata": {
    "scrolled": true
   },
   "outputs": [
    {
     "data": {
      "text/plain": [
       "[('은호', 'Noun'),\n",
       " ('가', 'Josa'),\n",
       " ('교실', 'Noun'),\n",
       " ('로', 'Josa'),\n",
       " ('들어갔다', 'Verb'),\n",
       " ('.', 'Punctuation')]"
      ]
     },
     "execution_count": 11,
     "metadata": {},
     "output_type": "execute_result"
    }
   ],
   "source": [
    "tw2.pos(t)"
   ]
  },
  {
   "cell_type": "code",
   "execution_count": 12,
   "id": "21ee9aa9",
   "metadata": {},
   "outputs": [],
   "source": [
    "tw2.add_dictionary('은이','Noun')"
   ]
  },
  {
   "cell_type": "code",
   "execution_count": 13,
   "id": "20c2a711",
   "metadata": {},
   "outputs": [
    {
     "data": {
      "text/plain": [
       "[('은호', 'Noun'),\n",
       " ('가', 'Josa'),\n",
       " ('교실', 'Noun'),\n",
       " ('로', 'Josa'),\n",
       " ('은이', 'Noun'),\n",
       " ('가', 'Josa'),\n",
       " ('집', 'Noun'),\n",
       " ('으로', 'Josa'),\n",
       " ('들어갔다', 'Verb'),\n",
       " ('.', 'Punctuation')]"
      ]
     },
     "execution_count": 13,
     "metadata": {},
     "output_type": "execute_result"
    }
   ],
   "source": [
    "t2 = '은호가 교실로 은이가 집으로 들어갔다.'\n",
    "tw2.pos(t2)"
   ]
  },
  {
   "cell_type": "code",
   "execution_count": 14,
   "id": "88ea10fd",
   "metadata": {},
   "outputs": [
    {
     "data": {
      "text/plain": [
       "[('은', 'Noun'),\n",
       " ('호가', 'Noun'),\n",
       " ('교실', 'Noun'),\n",
       " ('로', 'Josa'),\n",
       " ('은', 'Noun'),\n",
       " ('이', 'Suffix'),\n",
       " ('가', 'Josa'),\n",
       " ('집', 'Noun'),\n",
       " ('으로', 'Josa'),\n",
       " ('들어갔다', 'Verb'),\n",
       " ('.', 'Punctuation')]"
      ]
     },
     "execution_count": 14,
     "metadata": {},
     "output_type": "execute_result"
    }
   ],
   "source": [
    "tw3=Twitter()\n",
    "tw3.pos(t2)"
   ]
  },
  {
   "cell_type": "code",
   "execution_count": 15,
   "id": "c13963aa",
   "metadata": {},
   "outputs": [
    {
     "data": {
      "text/plain": [
       "['은호', '가', '교실', '로', '은이', '가', '집', '으로', '들어갔다', '.']"
      ]
     },
     "execution_count": 15,
     "metadata": {},
     "output_type": "execute_result"
    }
   ],
   "source": [
    "tw2.morphs(t2)"
   ]
  }
 ],
 "metadata": {
  "kernelspec": {
   "display_name": "Python 3 (ipykernel)",
   "language": "python",
   "name": "python3"
  },
  "language_info": {
   "codemirror_mode": {
    "name": "ipython",
    "version": 3
   },
   "file_extension": ".py",
   "mimetype": "text/x-python",
   "name": "python",
   "nbconvert_exporter": "python",
   "pygments_lexer": "ipython3",
   "version": "3.9.7"
  }
 },
 "nbformat": 4,
 "nbformat_minor": 5
}
