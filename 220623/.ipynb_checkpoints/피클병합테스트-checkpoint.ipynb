{
 "cells": [
  {
   "cell_type": "code",
   "execution_count": 72,
   "id": "f915e326",
   "metadata": {},
   "outputs": [],
   "source": [
    "import numpy as np\n",
    "import pandas as pd\n",
    "import os\n",
    "import pickle"
   ]
  },
  {
   "cell_type": "code",
   "execution_count": 18,
   "id": "4dab7a50",
   "metadata": {},
   "outputs": [
    {
     "data": {
      "text/plain": [
       "['168계단.pickle',\n",
       " '40계단 문화관광테마거리.pickle',\n",
       " 'APEC나루공원.pickle',\n",
       " 'UN기념공원.pickle',\n",
       " '감천문화마을.pickle',\n",
       " '금정산성.pickle']"
      ]
     },
     "execution_count": 18,
     "metadata": {},
     "output_type": "execute_result"
    }
   ],
   "source": [
    "os.listdir(os.getcwd()+'\\\\TAV')"
   ]
  },
  {
   "cell_type": "code",
   "execution_count": 3,
   "id": "f428a547",
   "metadata": {},
   "outputs": [
    {
     "data": {
      "text/plain": [
       "'C:\\\\Users\\\\user\\\\Desktop\\\\python_p\\\\220623'"
      ]
     },
     "execution_count": 3,
     "metadata": {},
     "output_type": "execute_result"
    }
   ],
   "source": [
    "pwd"
   ]
  },
  {
   "cell_type": "code",
   "execution_count": 65,
   "id": "e97fa001",
   "metadata": {
    "scrolled": true
   },
   "outputs": [
    {
     "name": "stdout",
     "output_type": "stream",
     "text": [
      "44 44\n"
     ]
    }
   ],
   "source": [
    "with open(\"./TAV/금정산성.pickle\",\"rb\") as fr:\n",
    "    크롤링_리뷰수 = pickle.load(fr)\n",
    "reviews_TAV = 크롤링_리뷰수['트립리뷰수']\n",
    "out_re_TAV = 크롤링_리뷰수['트립리뷰']\n",
    "print(reviews_TAV,len(out_re_TAV))"
   ]
  },
  {
   "cell_type": "code",
   "execution_count": 66,
   "id": "2c814cf5",
   "metadata": {},
   "outputs": [
    {
     "name": "stdout",
     "output_type": "stream",
     "text": [
      "44 44\n"
     ]
    }
   ],
   "source": [
    "with open(\"./GMR/금정산성.pickle\",\"rb\") as fr:\n",
    "    크롤링_리뷰수 = pickle.load(fr)\n",
    "reviews_GMR = 크롤링_리뷰수['트립리뷰수']\n",
    "out_re_GMR = 크롤링_리뷰수['트립리뷰']\n",
    "print(reviews_GMR,len(out_re_GMR))"
   ]
  },
  {
   "cell_type": "code",
   "execution_count": 67,
   "id": "b3118936",
   "metadata": {
    "scrolled": true
   },
   "outputs": [
    {
     "ename": "FileNotFoundError",
     "evalue": "[Errno 2] No such file or directory: './TDC/금정산성_.pickle'",
     "output_type": "error",
     "traceback": [
      "\u001b[1;31m---------------------------------------------------------------------------\u001b[0m",
      "\u001b[1;31mFileNotFoundError\u001b[0m                         Traceback (most recent call last)",
      "\u001b[1;32m~\\AppData\\Local\\Temp/ipykernel_15196/4116683631.py\u001b[0m in \u001b[0;36m<module>\u001b[1;34m\u001b[0m\n\u001b[1;32m----> 1\u001b[1;33m \u001b[1;32mwith\u001b[0m \u001b[0mopen\u001b[0m\u001b[1;33m(\u001b[0m\u001b[1;34m\"./TDC/금정산성_.pickle\"\u001b[0m\u001b[1;33m,\u001b[0m\u001b[1;34m\"rb\"\u001b[0m\u001b[1;33m)\u001b[0m \u001b[1;32mas\u001b[0m \u001b[0mfr\u001b[0m\u001b[1;33m:\u001b[0m\u001b[1;33m\u001b[0m\u001b[1;33m\u001b[0m\u001b[0m\n\u001b[0m\u001b[0;32m      2\u001b[0m     \u001b[0m크롤링_리뷰수\u001b[0m \u001b[1;33m=\u001b[0m \u001b[0mpickle\u001b[0m\u001b[1;33m.\u001b[0m\u001b[0mload\u001b[0m\u001b[1;33m(\u001b[0m\u001b[0mfr\u001b[0m\u001b[1;33m)\u001b[0m\u001b[1;33m\u001b[0m\u001b[1;33m\u001b[0m\u001b[0m\n\u001b[0;32m      3\u001b[0m \u001b[0mreviews_TDC\u001b[0m \u001b[1;33m=\u001b[0m \u001b[0mlen\u001b[0m\u001b[1;33m(\u001b[0m\u001b[0m크롤링_리뷰수\u001b[0m\u001b[1;33m[\u001b[0m\u001b[1;34m'리뷰'\u001b[0m\u001b[1;33m]\u001b[0m\u001b[1;33m)\u001b[0m\u001b[1;33m\u001b[0m\u001b[1;33m\u001b[0m\u001b[0m\n\u001b[0;32m      4\u001b[0m \u001b[0mout_re_TDC\u001b[0m \u001b[1;33m=\u001b[0m \u001b[0m크롤링_리뷰수\u001b[0m\u001b[1;33m[\u001b[0m\u001b[1;34m'리뷰'\u001b[0m\u001b[1;33m]\u001b[0m\u001b[1;33m\u001b[0m\u001b[1;33m\u001b[0m\u001b[0m\n\u001b[0;32m      5\u001b[0m \u001b[0mprint\u001b[0m\u001b[1;33m(\u001b[0m\u001b[0mreviews_TDC\u001b[0m\u001b[1;33m,\u001b[0m\u001b[0mlen\u001b[0m\u001b[1;33m(\u001b[0m\u001b[0mout_re_TDC\u001b[0m\u001b[1;33m)\u001b[0m\u001b[1;33m)\u001b[0m\u001b[1;33m\u001b[0m\u001b[1;33m\u001b[0m\u001b[0m\n",
      "\u001b[1;31mFileNotFoundError\u001b[0m: [Errno 2] No such file or directory: './TDC/금정산성_.pickle'"
     ]
    }
   ],
   "source": [
    "with open(\"./TDC/금정산성_.pickle\",\"rb\") as fr:\n",
    "    크롤링_리뷰수 = pickle.load(fr)\n",
    "reviews_TDC = len(크롤링_리뷰수['리뷰'])\n",
    "out_re_TDC = 크롤링_리뷰수['리뷰']\n",
    "print(reviews_TDC,len(out_re_TDC))"
   ]
  },
  {
   "cell_type": "code",
   "execution_count": 56,
   "id": "62195afc",
   "metadata": {},
   "outputs": [
    {
     "data": {
      "text/plain": [
       "1876"
      ]
     },
     "execution_count": 56,
     "metadata": {},
     "output_type": "execute_result"
    }
   ],
   "source": [
    "reviews_all = reviews_TAV+reviews_GMR+reviews_TDC\n",
    "reviews_all"
   ]
  },
  {
   "cell_type": "code",
   "execution_count": 57,
   "id": "4377c098",
   "metadata": {},
   "outputs": [
    {
     "data": {
      "text/plain": [
       "1876"
      ]
     },
     "execution_count": 57,
     "metadata": {},
     "output_type": "execute_result"
    }
   ],
   "source": [
    "out_re_all = out_re_TAV+out_re_GMR+out_re_TDC\n",
    "len(out_re_all)"
   ]
  },
  {
   "cell_type": "code",
   "execution_count": 10,
   "id": "25886ee0",
   "metadata": {},
   "outputs": [],
   "source": [
    "총_크롤링_리뷰={}\n",
    "총_크롤링_리뷰['총리뷰'] = out_re_all\n",
    "총_크롤링_리뷰['총리뷰수']  = reviews_all\n",
    "with open(f\"UN기념공원_.pickle\",\"wb\") as fw:\n",
    "    pickle.dump(총_크롤링_리뷰, fw)"
   ]
  },
  {
   "cell_type": "code",
   "execution_count": null,
   "id": "c1552401",
   "metadata": {},
   "outputs": [],
   "source": []
  },
  {
   "cell_type": "code",
   "execution_count": 11,
   "id": "987ec199",
   "metadata": {},
   "outputs": [
    {
     "data": {
      "text/html": [
       "<div>\n",
       "<style scoped>\n",
       "    .dataframe tbody tr th:only-of-type {\n",
       "        vertical-align: middle;\n",
       "    }\n",
       "\n",
       "    .dataframe tbody tr th {\n",
       "        vertical-align: top;\n",
       "    }\n",
       "\n",
       "    .dataframe thead th {\n",
       "        text-align: right;\n",
       "    }\n",
       "</style>\n",
       "<table border=\"1\" class=\"dataframe\">\n",
       "  <thead>\n",
       "    <tr style=\"text-align: right;\">\n",
       "      <th></th>\n",
       "      <th>Unnamed: 0</th>\n",
       "      <th>장소</th>\n",
       "    </tr>\n",
       "  </thead>\n",
       "  <tbody>\n",
       "    <tr>\n",
       "      <th>0</th>\n",
       "      <td>0</td>\n",
       "      <td>해동용궁사</td>\n",
       "    </tr>\n",
       "    <tr>\n",
       "      <th>1</th>\n",
       "      <td>1</td>\n",
       "      <td>감천문화마을</td>\n",
       "    </tr>\n",
       "    <tr>\n",
       "      <th>2</th>\n",
       "      <td>2</td>\n",
       "      <td>흰여울문화마을</td>\n",
       "    </tr>\n",
       "    <tr>\n",
       "      <th>3</th>\n",
       "      <td>3</td>\n",
       "      <td>부산민주공원</td>\n",
       "    </tr>\n",
       "    <tr>\n",
       "      <th>4</th>\n",
       "      <td>4</td>\n",
       "      <td>민락수변공원</td>\n",
       "    </tr>\n",
       "  </tbody>\n",
       "</table>\n",
       "</div>"
      ],
      "text/plain": [
       "   Unnamed: 0       장소\n",
       "0           0    해동용궁사\n",
       "1           1   감천문화마을\n",
       "2           2  흰여울문화마을\n",
       "3           3   부산민주공원\n",
       "4           4   민락수변공원"
      ]
     },
     "execution_count": 11,
     "metadata": {},
     "output_type": "execute_result"
    }
   ],
   "source": [
    "data = pd.read_csv('부산여행순위_최종.csv')\n",
    "data.head(5)"
   ]
  },
  {
   "cell_type": "code",
   "execution_count": 12,
   "id": "e915f409",
   "metadata": {},
   "outputs": [
    {
     "data": {
      "text/plain": [
       "85"
      ]
     },
     "execution_count": 12,
     "metadata": {},
     "output_type": "execute_result"
    }
   ],
   "source": [
    "len(data)"
   ]
  },
  {
   "cell_type": "code",
   "execution_count": 35,
   "id": "fe85a12c",
   "metadata": {
    "scrolled": true
   },
   "outputs": [
    {
     "data": {
      "text/plain": [
       "['해동용궁사',\n",
       " '감천문화마을',\n",
       " '흰여울문화마을',\n",
       " '부산민주공원',\n",
       " '민락수변공원',\n",
       " '부산스포원',\n",
       " '부산시민공원',\n",
       " '이기대수변공원',\n",
       " '비프광장',\n",
       " '다대포 꿈의 낙조분수',\n",
       " '광안리해수욕장',\n",
       " '해물포장마차촌',\n",
       " '해운대해수욕장',\n",
       " '송상현광장',\n",
       " '용두산공원',\n",
       " '용소웰빙공원',\n",
       " '암남공원',\n",
       " '사상근린공원',\n",
       " 'UN기념공원',\n",
       " 'APEC나루공원',\n",
       " '장림포구',\n",
       " '죽성성당',\n",
       " '누리마루 APEC 하우스',\n",
       " '다대포해수욕장',\n",
       " '창선동 먹자골목',\n",
       " '신평소공원',\n",
       " '태종대',\n",
       " '죽도공원',\n",
       " '청사포',\n",
       " '온천천시민공원',\n",
       " '삼락생태공원',\n",
       " '대변항',\n",
       " '오륙도해맞이공원',\n",
       " '강서체육공원',\n",
       " '깡깡이예술마을',\n",
       " '부산송도해수욕장',\n",
       " '신호공원',\n",
       " '우암동도시숲',\n",
       " '대천공원',\n",
       " '화명장미마을',\n",
       " '범어사',\n",
       " '수영사적공원',\n",
       " '일광해수욕장',\n",
       " '삼락강변체육공원',\n",
       " '금강공원',\n",
       " '에덴공원',\n",
       " '장안사',\n",
       " '대저생태공원',\n",
       " '신세계백화점 센텀시티',\n",
       " '맥도생태공원',\n",
       " '백양산',\n",
       " '168계단',\n",
       " '부산영화의거리',\n",
       " '롯데월드 어드벤처 부산',\n",
       " '아미산전망대',\n",
       " '강서낙동강변30리벚꽃길',\n",
       " '팥빙수골목',\n",
       " '구덕문화공원',\n",
       " '부산아쿠아리움',\n",
       " '부산올림픽공원',\n",
       " '사라수변공원',\n",
       " '동백섬',\n",
       " '영도대교',\n",
       " '오륙도',\n",
       " '오륙도 스카이워크',\n",
       " '아홉산숲',\n",
       " '자갈치시장',\n",
       " '송도해상케이블카',\n",
       " '절영해안산책로',\n",
       " '황령산',\n",
       " '더베이101',\n",
       " '부산국제시장',\n",
       " '국립부산과학관',\n",
       " '40계단 문화관광테마거리',\n",
       " '부산광안대교',\n",
       " '부산 장산',\n",
       " '동래읍성지',\n",
       " '부평깡통시장',\n",
       " '국립해양박물관',\n",
       " '화명생태공원',\n",
       " '영도 등대',\n",
       " '초량 이바구길',\n",
       " '허심청',\n",
       " '금정산성',\n",
       " '부산현대미술관']"
      ]
     },
     "execution_count": 35,
     "metadata": {},
     "output_type": "execute_result"
    }
   ],
   "source": [
    "data_l = list(data.장소)\n",
    "data_l"
   ]
  },
  {
   "cell_type": "code",
   "execution_count": 26,
   "id": "b1f79885",
   "metadata": {},
   "outputs": [],
   "source": [
    "TAV = os.listdir(os.getcwd()+'\\\\TAV')"
   ]
  },
  {
   "cell_type": "code",
   "execution_count": 63,
   "id": "51ac17f0",
   "metadata": {},
   "outputs": [],
   "source": [
    "GMR = os.listdir(os.getcwd()+'\\\\GMR')"
   ]
  },
  {
   "cell_type": "code",
   "execution_count": 28,
   "id": "2650346b",
   "metadata": {},
   "outputs": [],
   "source": [
    "TDC = os.listdir(os.getcwd()+'\\\\TDC')"
   ]
  },
  {
   "cell_type": "code",
   "execution_count": 48,
   "id": "733f38e9",
   "metadata": {},
   "outputs": [
    {
     "data": {
      "text/plain": [
       "['168계단', '40계단 문화관광테마거리', 'APEC나루공원', 'UN기념공원', '감천문화마을', '금정산성']"
      ]
     },
     "execution_count": 48,
     "metadata": {},
     "output_type": "execute_result"
    }
   ],
   "source": [
    "TAV_l = []\n",
    "for i in TAV:\n",
    "    TAV_l.append(i.replace('.pickle',''))\n",
    "TAV_l"
   ]
  },
  {
   "cell_type": "code",
   "execution_count": 64,
   "id": "bc5c44e9",
   "metadata": {},
   "outputs": [
    {
     "data": {
      "text/plain": [
       "['168계단', '40계단 문화관광테마거리', 'APEC나루공원', 'UN기념공원', '감천문화마을', '금정산성']"
      ]
     },
     "execution_count": 64,
     "metadata": {},
     "output_type": "execute_result"
    }
   ],
   "source": [
    "GMR_l = []\n",
    "for i in GMR:\n",
    "    GMR_l.append(i.replace('.pickle',''))\n",
    "GMR_l"
   ]
  },
  {
   "cell_type": "code",
   "execution_count": 43,
   "id": "d373570e",
   "metadata": {},
   "outputs": [
    {
     "data": {
      "text/plain": [
       "['168계단', '40계단 문화관광테마거리', 'APEC나루공원', 'UN기념공원', '감천문화마을']"
      ]
     },
     "execution_count": 43,
     "metadata": {},
     "output_type": "execute_result"
    }
   ],
   "source": [
    "TDC_l = []\n",
    "for i in TDC:\n",
    "    TDC_l.append(i.replace('_.pickle',''))\n",
    "TDC_l"
   ]
  },
  {
   "cell_type": "code",
   "execution_count": null,
   "id": "47d521ae",
   "metadata": {},
   "outputs": [],
   "source": []
  },
  {
   "cell_type": "code",
   "execution_count": 50,
   "id": "bbba9293",
   "metadata": {},
   "outputs": [
    {
     "data": {
      "text/plain": [
       "False"
      ]
     },
     "execution_count": 50,
     "metadata": {},
     "output_type": "execute_result"
    }
   ],
   "source": [
    "'감천문화마을' not in TAV_l"
   ]
  },
  {
   "cell_type": "code",
   "execution_count": null,
   "id": "8067aa02",
   "metadata": {},
   "outputs": [],
   "source": []
  },
  {
   "cell_type": "code",
   "execution_count": 75,
   "id": "dff39f19",
   "metadata": {},
   "outputs": [],
   "source": [
    "data_l = ['금정산성']"
   ]
  },
  {
   "cell_type": "code",
   "execution_count": null,
   "id": "dda98415",
   "metadata": {},
   "outputs": [],
   "source": [
    "with open(\"./TAV/UN기념공원.pickle\",\"rb\") as fr:\n",
    "    크롤링_리뷰수 = pickle.load(fr)\n",
    "reviews_TAV = 크롤링_리뷰수['트립리뷰수']\n",
    "out_re_TAV = 크롤링_리뷰수['트립리뷰']\n",
    "print(reviews_TAV,len(out_re_TAV))"
   ]
  },
  {
   "cell_type": "code",
   "execution_count": 76,
   "id": "e114a475",
   "metadata": {},
   "outputs": [],
   "source": [
    "for i in data_l:\n",
    "    if i not in TAV_l:\n",
    "        reviews_TAV = 0\n",
    "        out_re_TAV = []\n",
    "    else:\n",
    "        with open(f\"./TAV/{i}.pickle\",\"rb\") as fr:\n",
    "            크롤링_리뷰수 = pickle.load(fr)\n",
    "        reviews_TAV = 크롤링_리뷰수['트립리뷰수']\n",
    "        out_re_TAV = 크롤링_리뷰수['트립리뷰']\n",
    "    \n",
    "    \n",
    "    if i not in GMR_l:\n",
    "        reviews_GMR = 0\n",
    "        out_re_GMR = []\n",
    "    else:\n",
    "        with open(f\"./GMR/{i}.pickle\",\"rb\") as fr:\n",
    "            크롤링_리뷰수 = pickle.load(fr)\n",
    "        reviews_GMR = 크롤링_리뷰수['트립리뷰수']\n",
    "        out_re_GMR = 크롤링_리뷰수['트립리뷰']\n",
    "    \n",
    "    \n",
    "    if i not in TDC_l:\n",
    "        reviews_TDC = 0\n",
    "        out_re_TDC = []\n",
    "    else:\n",
    "        with open(f\"./TDC/{i}_.pickle\",\"rb\") as fr:\n",
    "            크롤링_리뷰수 = pickle.load(fr)\n",
    "        reviews_TDC = len(크롤링_리뷰수['리뷰'])\n",
    "        out_re_TDC = 크롤링_리뷰수['리뷰']\n",
    "    \n",
    "    \n",
    "    reviews_all = reviews_TAV+reviews_GMR+reviews_TDC\n",
    "    out_re_all = out_re_TAV+out_re_GMR+out_re_TDC\n",
    "    \n",
    "    \n",
    "    총_크롤링_리뷰={}\n",
    "    총_크롤링_리뷰['총리뷰'] = out_re_all\n",
    "    총_크롤링_리뷰['총리뷰수']  = reviews_all\n",
    "    with open(f\"{i}.pickle\",\"wb\") as fw:\n",
    "        pickle.dump(총_크롤링_리뷰, fw)\n",
    "    "
   ]
  },
  {
   "cell_type": "code",
   "execution_count": null,
   "id": "05c8a06e",
   "metadata": {},
   "outputs": [],
   "source": []
  },
  {
   "cell_type": "code",
   "execution_count": 88,
   "id": "20f3083d",
   "metadata": {},
   "outputs": [],
   "source": [
    "def 피클병합():\n",
    "    reviews_TAV_l = []\n",
    "    reviews_GMR_l = []\n",
    "    reviews_TDC_l = []\n",
    "    reviews_all_l = []\n",
    "    \n",
    "    data = pd.read_csv('부산여행순위_최종.csv')\n",
    "    data_l = list(data.장소)\n",
    "    \n",
    "    TAV = os.listdir(os.getcwd()+'\\\\TAV')\n",
    "    GMR = os.listdir(os.getcwd()+'\\\\GMR')\n",
    "    TDC = os.listdir(os.getcwd()+'\\\\TDC')\n",
    "    \n",
    "    TAV_l = []\n",
    "    for i in TAV:\n",
    "        TAV_l.append(i.replace('.pickle',''))        \n",
    "    GMR_l = []\n",
    "    for i in GMR:\n",
    "        GMR_l.append(i.replace('.pickle',''))\n",
    "    TDC_l = []\n",
    "    for i in TDC:\n",
    "        TDC_l.append(i.replace('_.pickle',''))    \n",
    "    \n",
    "    for i in data_l:\n",
    "        if i not in TAV_l:\n",
    "            reviews_TAV = 0\n",
    "            out_re_TAV = []\n",
    "        else:\n",
    "            with open(f\"./TAV/{i}.pickle\",\"rb\") as fr:\n",
    "                크롤링_리뷰수 = pickle.load(fr)\n",
    "            reviews_TAV = 크롤링_리뷰수['트립리뷰수']\n",
    "            out_re_TAV = 크롤링_리뷰수['트립리뷰']\n",
    "        reviews_TAV_l.append(reviews_TAV)\n",
    "\n",
    "        if i not in GMR_l:\n",
    "            reviews_GMR = 0\n",
    "            out_re_GMR = []\n",
    "        else:\n",
    "            with open(f\"./GMR/{i}.pickle\",\"rb\") as fr:\n",
    "                크롤링_리뷰수 = pickle.load(fr)\n",
    "            reviews_GMR = 크롤링_리뷰수['트립리뷰수']\n",
    "            out_re_GMR = 크롤링_리뷰수['트립리뷰']\n",
    "        reviews_GMR_l.append(reviews_GMR)\n",
    "\n",
    "        if i not in TDC_l:\n",
    "            reviews_TDC = 0\n",
    "            out_re_TDC = []\n",
    "        else:\n",
    "            with open(f\"./TDC/{i}_.pickle\",\"rb\") as fr:\n",
    "                크롤링_리뷰수 = pickle.load(fr)\n",
    "            reviews_TDC = len(크롤링_리뷰수['리뷰'])\n",
    "            out_re_TDC = 크롤링_리뷰수['리뷰']\n",
    "        reviews_TDC_l.append(reviews_TDC)\n",
    "\n",
    "        reviews_all = reviews_TAV+reviews_GMR+reviews_TDC\n",
    "        reviews_all_l.append(reviews_all)\n",
    "        out_re_all = out_re_TAV+out_re_GMR+out_re_TDC    \n",
    "\n",
    "#         총_크롤링_리뷰={}\n",
    "#         총_크롤링_리뷰['총리뷰'] = out_re_all\n",
    "#         총_크롤링_리뷰['총리뷰수']  = reviews_all\n",
    "#         with open(f\"{i}.pickle\",\"wb\") as fw:\n",
    "#             pickle.dump(총_크롤링_리뷰, fw)\n",
    "    피클_병합=pd.DataFrame(list(zip(data_l, reviews_TAV_l, reviews_GMR_l,reviews_TDC_l,reviews_all_l)) ,columns=['장소','트립어드바이저','구글맵리뷰','트립닷컴','총개수'])\n",
    "    피클_병합.to_csv(\"피클_병합.csv\", encoding='utf-8-sig')\n",
    "    return 피클_병합"
   ]
  },
  {
   "cell_type": "code",
   "execution_count": 89,
   "id": "ba39c21c",
   "metadata": {},
   "outputs": [
    {
     "data": {
      "text/html": [
       "<div>\n",
       "<style scoped>\n",
       "    .dataframe tbody tr th:only-of-type {\n",
       "        vertical-align: middle;\n",
       "    }\n",
       "\n",
       "    .dataframe tbody tr th {\n",
       "        vertical-align: top;\n",
       "    }\n",
       "\n",
       "    .dataframe thead th {\n",
       "        text-align: right;\n",
       "    }\n",
       "</style>\n",
       "<table border=\"1\" class=\"dataframe\">\n",
       "  <thead>\n",
       "    <tr style=\"text-align: right;\">\n",
       "      <th></th>\n",
       "      <th>장소</th>\n",
       "      <th>트립어드바이저</th>\n",
       "      <th>구글맵리뷰</th>\n",
       "      <th>트립닷컴</th>\n",
       "      <th>총개수</th>\n",
       "    </tr>\n",
       "  </thead>\n",
       "  <tbody>\n",
       "    <tr>\n",
       "      <th>0</th>\n",
       "      <td>해동용궁사</td>\n",
       "      <td>754</td>\n",
       "      <td>754</td>\n",
       "      <td>240</td>\n",
       "      <td>1748</td>\n",
       "    </tr>\n",
       "    <tr>\n",
       "      <th>1</th>\n",
       "      <td>감천문화마을</td>\n",
       "      <td>725</td>\n",
       "      <td>725</td>\n",
       "      <td>426</td>\n",
       "      <td>1876</td>\n",
       "    </tr>\n",
       "    <tr>\n",
       "      <th>2</th>\n",
       "      <td>흰여울문화마을</td>\n",
       "      <td>5</td>\n",
       "      <td>5</td>\n",
       "      <td>8</td>\n",
       "      <td>18</td>\n",
       "    </tr>\n",
       "    <tr>\n",
       "      <th>3</th>\n",
       "      <td>부산민주공원</td>\n",
       "      <td>16</td>\n",
       "      <td>16</td>\n",
       "      <td>0</td>\n",
       "      <td>32</td>\n",
       "    </tr>\n",
       "    <tr>\n",
       "      <th>4</th>\n",
       "      <td>민락수변공원</td>\n",
       "      <td>48</td>\n",
       "      <td>48</td>\n",
       "      <td>0</td>\n",
       "      <td>96</td>\n",
       "    </tr>\n",
       "    <tr>\n",
       "      <th>...</th>\n",
       "      <td>...</td>\n",
       "      <td>...</td>\n",
       "      <td>...</td>\n",
       "      <td>...</td>\n",
       "      <td>...</td>\n",
       "    </tr>\n",
       "    <tr>\n",
       "      <th>80</th>\n",
       "      <td>영도 등대</td>\n",
       "      <td>5</td>\n",
       "      <td>5</td>\n",
       "      <td>0</td>\n",
       "      <td>10</td>\n",
       "    </tr>\n",
       "    <tr>\n",
       "      <th>81</th>\n",
       "      <td>초량 이바구길</td>\n",
       "      <td>26</td>\n",
       "      <td>26</td>\n",
       "      <td>4</td>\n",
       "      <td>56</td>\n",
       "    </tr>\n",
       "    <tr>\n",
       "      <th>82</th>\n",
       "      <td>허심청</td>\n",
       "      <td>34</td>\n",
       "      <td>34</td>\n",
       "      <td>30</td>\n",
       "      <td>98</td>\n",
       "    </tr>\n",
       "    <tr>\n",
       "      <th>83</th>\n",
       "      <td>금정산성</td>\n",
       "      <td>44</td>\n",
       "      <td>44</td>\n",
       "      <td>8</td>\n",
       "      <td>96</td>\n",
       "    </tr>\n",
       "    <tr>\n",
       "      <th>84</th>\n",
       "      <td>부산현대미술관</td>\n",
       "      <td>9</td>\n",
       "      <td>9</td>\n",
       "      <td>11</td>\n",
       "      <td>29</td>\n",
       "    </tr>\n",
       "  </tbody>\n",
       "</table>\n",
       "<p>85 rows × 5 columns</p>\n",
       "</div>"
      ],
      "text/plain": [
       "         장소  트립어드바이저  구글맵리뷰  트립닷컴   총개수\n",
       "0     해동용궁사      754    754   240  1748\n",
       "1    감천문화마을      725    725   426  1876\n",
       "2   흰여울문화마을        5      5     8    18\n",
       "3    부산민주공원       16     16     0    32\n",
       "4    민락수변공원       48     48     0    96\n",
       "..      ...      ...    ...   ...   ...\n",
       "80    영도 등대        5      5     0    10\n",
       "81  초량 이바구길       26     26     4    56\n",
       "82      허심청       34     34    30    98\n",
       "83     금정산성       44     44     8    96\n",
       "84  부산현대미술관        9      9    11    29\n",
       "\n",
       "[85 rows x 5 columns]"
      ]
     },
     "execution_count": 89,
     "metadata": {},
     "output_type": "execute_result"
    }
   ],
   "source": [
    "결과 = 피클병합()\n",
    "결과"
   ]
  },
  {
   "cell_type": "code",
   "execution_count": null,
   "id": "2e99641c",
   "metadata": {},
   "outputs": [],
   "source": []
  }
 ],
 "metadata": {
  "kernelspec": {
   "display_name": "Python 3 (ipykernel)",
   "language": "python",
   "name": "python3"
  },
  "language_info": {
   "codemirror_mode": {
    "name": "ipython",
    "version": 3
   },
   "file_extension": ".py",
   "mimetype": "text/x-python",
   "name": "python",
   "nbconvert_exporter": "python",
   "pygments_lexer": "ipython3",
   "version": "3.9.12"
  }
 },
 "nbformat": 4,
 "nbformat_minor": 5
}
