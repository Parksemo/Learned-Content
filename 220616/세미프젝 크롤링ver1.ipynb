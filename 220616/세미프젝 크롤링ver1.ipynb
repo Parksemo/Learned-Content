{
 "cells": [
  {
   "cell_type": "code",
   "execution_count": 1,
   "id": "796431c2",
   "metadata": {},
   "outputs": [],
   "source": [
    "import numpy as np\n",
    "import pandas as pd\n",
    "import csv\n",
    "\n",
    "from selenium import webdriver\n",
    "import chromedriver_autoinstaller\n",
    "\n",
    "from tqdm import tqdm, tqdm_notebook\n",
    "from tqdm.notebook import tqdm\n",
    "import re\n",
    "from time import sleep\n",
    "import time\n",
    "import warnings\n",
    "warnings.filterwarnings('ignore')\n",
    "import random\n",
    "t=random.choice([3,4,5])"
   ]
  },
  {
   "cell_type": "code",
   "execution_count": 2,
   "id": "8ab9db97",
   "metadata": {},
   "outputs": [],
   "source": [
    "장소 = ['부산민주공원','민락수변공원','흰여울문화마을','해운대','해동용궁사','태종대','감천문화마을']"
   ]
  },
  {
   "cell_type": "code",
   "execution_count": 3,
   "id": "8b434937",
   "metadata": {},
   "outputs": [],
   "source": [
    "def 리뷰크롤링(장소):\n",
    "    for k in 장소:\n",
    "        title=\"리뷰\",\"평점\"\n",
    "        f=open(f\"{k}.csv\",\"w\",encoding='utf-8-sig',newline=\"\")\n",
    "        writer=csv.writer(f)\n",
    "        writer.writerow(title)\n",
    "        chrome_path=chromedriver_autoinstaller.install()\n",
    "        driver = webdriver.Chrome(chrome_path)\n",
    "        time.sleep(3)\n",
    "        try:\n",
    "            driver.get(\"https://www.tripadvisor.co.kr/\")\n",
    "            time.sleep(5)\n",
    "            find=driver.find_element_by_xpath('//*[@id=\"lithium-root\"]/main/div[3]/div/div/div/form/input[1]')\n",
    "            driver.implicitly_wait(10)\n",
    "            find.send_keys(k)\n",
    "            time.sleep(7)\n",
    "            driver.find_element_by_xpath('//*[@id=\"typeahead_results\"]/a[1]').click()\n",
    "            driver.implicitly_wait(10)\n",
    "        except:\n",
    "            driver.get(\"https://www.tripadvisor.co.kr/\")\n",
    "            time.sleep(5)\n",
    "            find=driver.find_element_by_xpath('//*[@id=\"lithium-root\"]/main/div[3]/div/div/div/form/input[1]')\n",
    "            driver.implicitly_wait(10)\n",
    "            find.send_keys(key)\n",
    "            time.sleep(7)\n",
    "            driver.find_element_by_xpath('//*[@id=\"typeahead_results\"]/a[1]').click()\n",
    "            driver.implicitly_wait(10)        \n",
    "        out_re=[]\n",
    "        c = True\n",
    "        while c:\n",
    "        \n",
    "            try:\n",
    "                driver.execute_script(\"window.scrollTo(0, 5500)\")\n",
    "                driver.implicitly_wait(t)\n",
    "                for j in tqdm(range(1,11)):\n",
    "                    #time.sleep(2)\n",
    "                    try:\n",
    "                        review=[driver.find_element_by_xpath(f'//*[@id=\"tab-data-qa-reviews-0\"]/div/div[5]/div[{j}]/span/div/div[5]/div[1]/div/span').text\n",
    "                               ,driver.find_element_by_xpath(f'//*[@id=\"tab-data-qa-reviews-0\"]/div/div[5]/div[{j}]/span/div/div[2]/*[name()=\"svg\"]').get_attribute('aria-label')\n",
    "                               ]\n",
    "                        review[1] = review[1].replace('풍선 5개 중 ','')                    \n",
    "                        #time.sleep(t)\n",
    "                        out_re.append(review)\n",
    "                    except:\n",
    "                        break\n",
    "                driver.implicitly_wait(t)\n",
    "        #         print(out_re)\n",
    "                element = driver.find_element_by_xpath('//*[@id=\"tab-data-qa-reviews-0\"]/div/div[5]/div[10]/span/div')\n",
    "                driver.execute_script('arguments[0].scrollIntoView(true);', element)\n",
    "                driver.find_element_by_xpath('//*[@id=\"tab-data-qa-reviews-0\"]/div/div[5]/div[11]/div[1]/div/div[1]/div[2]/div/a/*[name()=\"svg\"]').click()\n",
    "                driver.implicitly_wait(t)\n",
    "            except:\n",
    "                c=False\n",
    "\n",
    "        writer.writerows(out_re)\n",
    "        f.close()"
   ]
  },
  {
   "cell_type": "code",
   "execution_count": 4,
   "id": "bd238a73",
   "metadata": {
    "scrolled": false
   },
   "outputs": [
    {
     "data": {
      "application/vnd.jupyter.widget-view+json": {
       "model_id": "aa2d720c420d4d7da984404392276170",
       "version_major": 2,
       "version_minor": 0
      },
      "text/plain": [
       "  0%|          | 0/10 [00:00<?, ?it/s]"
      ]
     },
     "metadata": {},
     "output_type": "display_data"
    },
    {
     "data": {
      "application/vnd.jupyter.widget-view+json": {
       "model_id": "aa2d720c420d4d7da984404392276170",
       "version_major": 2,
       "version_minor": 0
      },
      "text/plain": [
       "  0%|          | 0/10 [00:00<?, ?it/s]"
      ]
     },
     "metadata": {},
     "output_type": "display_data"
    },
    {
     "data": {
      "application/vnd.jupyter.widget-view+json": {
       "model_id": "aa2d720c420d4d7da984404392276170",
       "version_major": 2,
       "version_minor": 0
      },
      "text/plain": [
       "  0%|          | 0/10 [00:00<?, ?it/s]"
      ]
     },
     "metadata": {},
     "output_type": "display_data"
    },
    {
     "data": {
      "application/vnd.jupyter.widget-view+json": {
       "model_id": "558a1603307f401d81813b676f11bc9c",
       "version_major": 2,
       "version_minor": 0
      },
      "text/plain": [
       "  0%|          | 0/10 [00:00<?, ?it/s]"
      ]
     },
     "metadata": {},
     "output_type": "display_data"
    },
    {
     "data": {
      "application/vnd.jupyter.widget-view+json": {
       "model_id": "558a1603307f401d81813b676f11bc9c",
       "version_major": 2,
       "version_minor": 0
      },
      "text/plain": [
       "  0%|          | 0/10 [00:00<?, ?it/s]"
      ]
     },
     "metadata": {},
     "output_type": "display_data"
    },
    {
     "data": {
      "application/vnd.jupyter.widget-view+json": {
       "model_id": "558a1603307f401d81813b676f11bc9c",
       "version_major": 2,
       "version_minor": 0
      },
      "text/plain": [
       "  0%|          | 0/10 [00:00<?, ?it/s]"
      ]
     },
     "metadata": {},
     "output_type": "display_data"
    },
    {
     "data": {
      "application/vnd.jupyter.widget-view+json": {
       "model_id": "9648fff0d0a245a8863ad27dcd3109b6",
       "version_major": 2,
       "version_minor": 0
      },
      "text/plain": [
       "  0%|          | 0/10 [00:00<?, ?it/s]"
      ]
     },
     "metadata": {},
     "output_type": "display_data"
    },
    {
     "data": {
      "application/vnd.jupyter.widget-view+json": {
       "model_id": "9648fff0d0a245a8863ad27dcd3109b6",
       "version_major": 2,
       "version_minor": 0
      },
      "text/plain": [
       "  0%|          | 0/10 [00:00<?, ?it/s]"
      ]
     },
     "metadata": {},
     "output_type": "display_data"
    },
    {
     "data": {
      "application/vnd.jupyter.widget-view+json": {
       "model_id": "9648fff0d0a245a8863ad27dcd3109b6",
       "version_major": 2,
       "version_minor": 0
      },
      "text/plain": [
       "  0%|          | 0/10 [00:00<?, ?it/s]"
      ]
     },
     "metadata": {},
     "output_type": "display_data"
    },
    {
     "data": {
      "application/vnd.jupyter.widget-view+json": {
       "model_id": "99ac623b24e9468791566561548af0e5",
       "version_major": 2,
       "version_minor": 0
      },
      "text/plain": [
       "  0%|          | 0/10 [00:00<?, ?it/s]"
      ]
     },
     "metadata": {},
     "output_type": "display_data"
    },
    {
     "data": {
      "application/vnd.jupyter.widget-view+json": {
       "model_id": "99ac623b24e9468791566561548af0e5",
       "version_major": 2,
       "version_minor": 0
      },
      "text/plain": [
       "  0%|          | 0/10 [00:00<?, ?it/s]"
      ]
     },
     "metadata": {},
     "output_type": "display_data"
    },
    {
     "data": {
      "application/vnd.jupyter.widget-view+json": {
       "model_id": "99ac623b24e9468791566561548af0e5",
       "version_major": 2,
       "version_minor": 0
      },
      "text/plain": [
       "  0%|          | 0/10 [00:00<?, ?it/s]"
      ]
     },
     "metadata": {},
     "output_type": "display_data"
    },
    {
     "data": {
      "application/vnd.jupyter.widget-view+json": {
       "model_id": "949f54774ef44490a6c3e86502917093",
       "version_major": 2,
       "version_minor": 0
      },
      "text/plain": [
       "  0%|          | 0/10 [00:00<?, ?it/s]"
      ]
     },
     "metadata": {},
     "output_type": "display_data"
    },
    {
     "data": {
      "application/vnd.jupyter.widget-view+json": {
       "model_id": "949f54774ef44490a6c3e86502917093",
       "version_major": 2,
       "version_minor": 0
      },
      "text/plain": [
       "  0%|          | 0/10 [00:00<?, ?it/s]"
      ]
     },
     "metadata": {},
     "output_type": "display_data"
    },
    {
     "data": {
      "application/vnd.jupyter.widget-view+json": {
       "model_id": "949f54774ef44490a6c3e86502917093",
       "version_major": 2,
       "version_minor": 0
      },
      "text/plain": [
       "  0%|          | 0/10 [00:00<?, ?it/s]"
      ]
     },
     "metadata": {},
     "output_type": "display_data"
    },
    {
     "data": {
      "application/vnd.jupyter.widget-view+json": {
       "model_id": "b13ca8d0aba74c89b65ee0ad8e105d21",
       "version_major": 2,
       "version_minor": 0
      },
      "text/plain": [
       "  0%|          | 0/10 [00:00<?, ?it/s]"
      ]
     },
     "metadata": {},
     "output_type": "display_data"
    },
    {
     "data": {
      "application/vnd.jupyter.widget-view+json": {
       "model_id": "b13ca8d0aba74c89b65ee0ad8e105d21",
       "version_major": 2,
       "version_minor": 0
      },
      "text/plain": [
       "  0%|          | 0/10 [00:00<?, ?it/s]"
      ]
     },
     "metadata": {},
     "output_type": "display_data"
    },
    {
     "data": {
      "application/vnd.jupyter.widget-view+json": {
       "model_id": "b13ca8d0aba74c89b65ee0ad8e105d21",
       "version_major": 2,
       "version_minor": 0
      },
      "text/plain": [
       "  0%|          | 0/10 [00:00<?, ?it/s]"
      ]
     },
     "metadata": {},
     "output_type": "display_data"
    },
    {
     "data": {
      "application/vnd.jupyter.widget-view+json": {
       "model_id": "ee254508bc0640ba8c49a496484b4d07",
       "version_major": 2,
       "version_minor": 0
      },
      "text/plain": [
       "  0%|          | 0/10 [00:00<?, ?it/s]"
      ]
     },
     "metadata": {},
     "output_type": "display_data"
    },
    {
     "data": {
      "application/vnd.jupyter.widget-view+json": {
       "model_id": "ee254508bc0640ba8c49a496484b4d07",
       "version_major": 2,
       "version_minor": 0
      },
      "text/plain": [
       "  0%|          | 0/10 [00:00<?, ?it/s]"
      ]
     },
     "metadata": {},
     "output_type": "display_data"
    },
    {
     "data": {
      "application/vnd.jupyter.widget-view+json": {
       "model_id": "ee254508bc0640ba8c49a496484b4d07",
       "version_major": 2,
       "version_minor": 0
      },
      "text/plain": [
       "  0%|          | 0/10 [00:00<?, ?it/s]"
      ]
     },
     "metadata": {},
     "output_type": "display_data"
    }
   ],
   "source": [
    "리뷰크롤링(장소)"
   ]
  }
 ],
 "metadata": {
  "kernelspec": {
   "display_name": "Python 3 (ipykernel)",
   "language": "python",
   "name": "python3"
  },
  "language_info": {
   "codemirror_mode": {
    "name": "ipython",
    "version": 3
   },
   "file_extension": ".py",
   "mimetype": "text/x-python",
   "name": "python",
   "nbconvert_exporter": "python",
   "pygments_lexer": "ipython3",
   "version": "3.9.12"
  }
 },
 "nbformat": 4,
 "nbformat_minor": 5
}
