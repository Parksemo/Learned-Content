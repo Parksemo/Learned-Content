{
 "cells": [
  {
   "cell_type": "code",
   "execution_count": 1,
   "id": "34c5b3c3",
   "metadata": {},
   "outputs": [],
   "source": [
    "import pandas as pd\n",
    "import numpy as np\n",
    "from konlpy.tag import Okt\n",
    "from tqdm import tqdm\n",
    "from tensorflow.keras.preprocessing.text import Tokenizer"
   ]
  },
  {
   "cell_type": "code",
   "execution_count": 2,
   "id": "982ff9ff",
   "metadata": {},
   "outputs": [],
   "source": [
    "장소 = ['부산민주공원','민락수변공원','흰여울문화마을','해운대','해동용궁사','태종대','감천문화마을']"
   ]
  },
  {
   "cell_type": "code",
   "execution_count": 3,
   "id": "ec70fa82",
   "metadata": {},
   "outputs": [],
   "source": [
    "def 키워드추출(장소):\n",
    "    키워드_리스트 = []\n",
    "    평점 = []\n",
    "    for j in 장소:\n",
    "        t_d = pd.read_csv(f'{j}.csv')\n",
    "        s_w=set(['곳','수','것','추천','정도','사람','때','정말','볼','꼭',\n",
    "             '좀','날','그','번','조금','가면','시간','타고','다누','방문'\n",
    "             ,'떄문','다시','예전','보고','중간','주변','한번','변','근처','중앙','근처','센터'])\n",
    "        okt = Okt()\n",
    "        p_data=[] \n",
    "        for i in tqdm(t_d['리뷰']): \n",
    "            tk_d=okt.nouns(i) \n",
    "            end_d=[w for w in tk_d if not w in s_w]\n",
    "            p_data.append(' '.join(end_d))\n",
    "        tk = Tokenizer(num_words=1000)\n",
    "        tk.fit_on_texts(p_data) \n",
    "        키워드개수 = sorted(list(tk.word_counts.items()),key=lambda x:x[1],reverse=True)[:10]\n",
    "        키워드top10=[]\n",
    "        for i in 키워드개수:\n",
    "            키워드top10.append(i[0])\n",
    "        키워드_리스트.append(키워드top10)\n",
    "        평점.append(t_d['평점'].mean())\n",
    "    장소_키워드_평점=pd.DataFrame(list(zip(장소, 키워드_리스트, 평점)) ,columns=['장소','키워드','평점'])\n",
    "    return 장소_키워드_평점"
   ]
  },
  {
   "cell_type": "code",
   "execution_count": 4,
   "id": "f6597e81",
   "metadata": {},
   "outputs": [
    {
     "name": "stderr",
     "output_type": "stream",
     "text": [
      "100%|███████████████████████████████████████████████████████████████████████████████████████| 16/16 [00:05<00:00,  2.80it/s]\n",
      "100%|██████████████████████████████████████████████████████████████████████████████████████| 48/48 [00:00<00:00, 111.02it/s]\n",
      "100%|█████████████████████████████████████████████████████████████████████████████████████| 100/100 [00:01<00:00, 71.58it/s]\n",
      "100%|████████████████████████████████████████████████████████████████████████████████████| 100/100 [00:00<00:00, 153.98it/s]\n",
      "100%|████████████████████████████████████████████████████████████████████████████████████| 100/100 [00:00<00:00, 132.98it/s]\n",
      "100%|████████████████████████████████████████████████████████████████████████████████████| 100/100 [00:00<00:00, 153.37it/s]\n",
      "100%|████████████████████████████████████████████████████████████████████████████████████| 100/100 [00:00<00:00, 150.55it/s]\n"
     ]
    },
    {
     "data": {
      "text/html": [
       "<div>\n",
       "<style scoped>\n",
       "    .dataframe tbody tr th:only-of-type {\n",
       "        vertical-align: middle;\n",
       "    }\n",
       "\n",
       "    .dataframe tbody tr th {\n",
       "        vertical-align: top;\n",
       "    }\n",
       "\n",
       "    .dataframe thead th {\n",
       "        text-align: right;\n",
       "    }\n",
       "</style>\n",
       "<table border=\"1\" class=\"dataframe\">\n",
       "  <thead>\n",
       "    <tr style=\"text-align: right;\">\n",
       "      <th></th>\n",
       "      <th>장소</th>\n",
       "      <th>키워드</th>\n",
       "      <th>평점</th>\n",
       "    </tr>\n",
       "  </thead>\n",
       "  <tbody>\n",
       "    <tr>\n",
       "      <th>0</th>\n",
       "      <td>부산민주공원</td>\n",
       "      <td>[부산, 공원, 민주, 도서관, 버스, 역, 산책, 벚꽃, 길, 항]</td>\n",
       "      <td>4.687500</td>\n",
       "    </tr>\n",
       "    <tr>\n",
       "      <th>1</th>\n",
       "      <td>민락수변공원</td>\n",
       "      <td>[회, 공원, 광안대교, 돗자리, 바다, 민락, 야경, 술, 바로, 여름]</td>\n",
       "      <td>4.104167</td>\n",
       "    </tr>\n",
       "    <tr>\n",
       "      <th>2</th>\n",
       "      <td>흰여울문화마을</td>\n",
       "      <td>[옥, 마을, 한복, 전주, 음식, 거리, 먹거리, 사진, 생각, 가게]</td>\n",
       "      <td>3.630000</td>\n",
       "    </tr>\n",
       "    <tr>\n",
       "      <th>3</th>\n",
       "      <td>해운대</td>\n",
       "      <td>[해운대, 바다, 부산, 겨울, 해변, 여름, 밤, 여행, 산책, 해수욕장]</td>\n",
       "      <td>4.450000</td>\n",
       "    </tr>\n",
       "    <tr>\n",
       "      <th>4</th>\n",
       "      <td>해동용궁사</td>\n",
       "      <td>[절, 바다, 부산, 용궁, 바닷가, 관광객, 사찰, 계단, 풍경, 기장]</td>\n",
       "      <td>4.240000</td>\n",
       "    </tr>\n",
       "    <tr>\n",
       "      <th>5</th>\n",
       "      <td>태종대</td>\n",
       "      <td>[태종대, 바다, 열차, 부산, 전망대, 비, 등대, 경치, 산책, 바람]</td>\n",
       "      <td>4.360000</td>\n",
       "    </tr>\n",
       "    <tr>\n",
       "      <th>6</th>\n",
       "      <td>감천문화마을</td>\n",
       "      <td>[마을, 사진, 부산, 감천, 문화, 골목, 관광객, 어린왕자, 구경, 찍기]</td>\n",
       "      <td>4.150000</td>\n",
       "    </tr>\n",
       "  </tbody>\n",
       "</table>\n",
       "</div>"
      ],
      "text/plain": [
       "        장소                                          키워드        평점\n",
       "0   부산민주공원       [부산, 공원, 민주, 도서관, 버스, 역, 산책, 벚꽃, 길, 항]  4.687500\n",
       "1   민락수변공원    [회, 공원, 광안대교, 돗자리, 바다, 민락, 야경, 술, 바로, 여름]  4.104167\n",
       "2  흰여울문화마을     [옥, 마을, 한복, 전주, 음식, 거리, 먹거리, 사진, 생각, 가게]  3.630000\n",
       "3      해운대   [해운대, 바다, 부산, 겨울, 해변, 여름, 밤, 여행, 산책, 해수욕장]  4.450000\n",
       "4    해동용궁사    [절, 바다, 부산, 용궁, 바닷가, 관광객, 사찰, 계단, 풍경, 기장]  4.240000\n",
       "5      태종대    [태종대, 바다, 열차, 부산, 전망대, 비, 등대, 경치, 산책, 바람]  4.360000\n",
       "6   감천문화마을  [마을, 사진, 부산, 감천, 문화, 골목, 관광객, 어린왕자, 구경, 찍기]  4.150000"
      ]
     },
     "execution_count": 4,
     "metadata": {},
     "output_type": "execute_result"
    }
   ],
   "source": [
    "결과 = 키워드추출(장소)\n",
    "결과"
   ]
  }
 ],
 "metadata": {
  "kernelspec": {
   "display_name": "Python 3 (ipykernel)",
   "language": "python",
   "name": "python3"
  },
  "language_info": {
   "codemirror_mode": {
    "name": "ipython",
    "version": 3
   },
   "file_extension": ".py",
   "mimetype": "text/x-python",
   "name": "python",
   "nbconvert_exporter": "python",
   "pygments_lexer": "ipython3",
   "version": "3.9.12"
  }
 },
 "nbformat": 4,
 "nbformat_minor": 5
}
