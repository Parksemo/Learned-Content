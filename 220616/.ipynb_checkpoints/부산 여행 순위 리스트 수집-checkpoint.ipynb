{
 "cells": [
  {
   "cell_type": "code",
   "execution_count": 1,
   "id": "a849227e",
   "metadata": {},
   "outputs": [],
   "source": [
    "import pandas as pd\n",
    "from selenium import webdriver\n",
    "import chromedriver_autoinstaller\n",
    "import time\n",
    "import warnings\n",
    "import numpy as np\n",
    "import pandas as pd"
   ]
  },
  {
   "cell_type": "code",
   "execution_count": 2,
   "id": "6e88d03f",
   "metadata": {},
   "outputs": [],
   "source": [
    "warnings.filterwarnings('ignore')\n",
    "chrome_path = chromedriver_autoinstaller.install()\n",
    "driver = webdriver.Chrome(chrome_path)\n",
    "driver.get('https://www.naver.com')\n",
    "time.sleep(2)"
   ]
  },
  {
   "cell_type": "code",
   "execution_count": 3,
   "id": "d708d825",
   "metadata": {},
   "outputs": [],
   "source": [
    "element = driver.find_element_by_name(\"query\")\n",
    "element.send_keys('부산 여행')\n",
    "element.submit()\n",
    "time.sleep(2)"
   ]
  },
  {
   "cell_type": "code",
   "execution_count": 4,
   "id": "97186ff0",
   "metadata": {},
   "outputs": [],
   "source": [
    "driver.execute_script(\"window.scrollTo(0, 2000)\")\n",
    "time.sleep(2)"
   ]
  },
  {
   "cell_type": "code",
   "execution_count": 5,
   "id": "e85d2f86",
   "metadata": {},
   "outputs": [],
   "source": [
    "driver.find_element_by_xpath('//*[@id=\"nxTsDo\"]/div/div[2]/div/div[5]/div[4]/a').click( )\n",
    "time.sleep(2)"
   ]
  },
  {
   "cell_type": "code",
   "execution_count": 6,
   "id": "5d21af82",
   "metadata": {},
   "outputs": [
    {
     "name": "stdout",
     "output_type": "stream",
     "text": [
      "['CDwindow-93324F366A953A0FEE7D5E736F9CB440', 'CDwindow-42061DAF26E73C1A5A2B7ADA507220F3']\n"
     ]
    }
   ],
   "source": [
    "print(driver.window_handles)"
   ]
  },
  {
   "cell_type": "code",
   "execution_count": 7,
   "id": "0b3d1158",
   "metadata": {},
   "outputs": [],
   "source": [
    "driver.switch_to.window(driver.window_handles[-1])\n",
    "time.sleep(2)"
   ]
  },
  {
   "cell_type": "code",
   "execution_count": 8,
   "id": "0b9e1ffa",
   "metadata": {
    "scrolled": true
   },
   "outputs": [],
   "source": [
    "item_li = driver.find_elements_by_css_selector('._30fe_ ._1bzDV')\n",
    "장소 = []\n",
    "for i in range(0, len(item_li)):\n",
    "    장소.append(item_li[i].text)"
   ]
  },
  {
   "cell_type": "code",
   "execution_count": 9,
   "id": "faadc024",
   "metadata": {},
   "outputs": [
    {
     "data": {
      "text/plain": [
       "100"
      ]
     },
     "execution_count": 9,
     "metadata": {},
     "output_type": "execute_result"
    }
   ],
   "source": [
    "len(장소)"
   ]
  },
  {
   "cell_type": "code",
   "execution_count": 10,
   "id": "609f043a",
   "metadata": {
    "scrolled": true
   },
   "outputs": [
    {
     "data": {
      "text/plain": [
       "['해동용궁사',\n",
       " '감천문화마을',\n",
       " '흰여울문화마을',\n",
       " '부산민주공원',\n",
       " '민락수변공원',\n",
       " '스포원파크 금정체육공원',\n",
       " '부산시민공원',\n",
       " '다대포해변공원',\n",
       " '이기대수변공원',\n",
       " '비프광장',\n",
       " '다대포 꿈의 낙조분수',\n",
       " '광안리해수욕장',\n",
       " '해물포장마차촌',\n",
       " '해운대해수욕장',\n",
       " '송상현광장',\n",
       " '해운대',\n",
       " '용두산공원',\n",
       " '용소웰빙공원',\n",
       " '암남공원',\n",
       " '사상근린공원',\n",
       " '평화공원',\n",
       " 'APEC나루공원',\n",
       " '장림포구',\n",
       " '죽성드림세트장',\n",
       " '차이나타운',\n",
       " '누리마루 APEC 하우스',\n",
       " '다대포해수욕장',\n",
       " '창선동 먹자골목',\n",
       " '신평소공원',\n",
       " '태종대',\n",
       " '죽도공원',\n",
       " '청사포',\n",
       " '온천천시민공원',\n",
       " '삼락생태공원',\n",
       " '대변항',\n",
       " '송도용궁구름다리',\n",
       " '오륙도해맞이공원',\n",
       " '강서체육공원',\n",
       " '깡깡이예술마을',\n",
       " '윗골공원',\n",
       " '부산송도해수욕장',\n",
       " '신호공원',\n",
       " '우암동도시숲',\n",
       " '대천공원',\n",
       " '장미원',\n",
       " '명지동근린공원',\n",
       " '전포카페거리',\n",
       " '범어사',\n",
       " '수영사적공원',\n",
       " '녹산고향동산',\n",
       " '일광해수욕장',\n",
       " '용호별빛공원',\n",
       " '구포어린이교통공원',\n",
       " '비석문화마을',\n",
       " '삼락강변체육공원',\n",
       " '대신공원',\n",
       " '금강공원',\n",
       " '에덴공원',\n",
       " '울림공원',\n",
       " '장안사',\n",
       " '대저생태공원',\n",
       " '주라지 신세계백화점센텀시티점',\n",
       " '맥도생태공원',\n",
       " '곰내연밭',\n",
       " '백양산',\n",
       " '168계단',\n",
       " '유라리광장',\n",
       " '문현동곱창골목',\n",
       " '서면젊음의거리',\n",
       " '중앙공원',\n",
       " '광복로패션거리',\n",
       " '온천천카페거리',\n",
       " '청학수변공원',\n",
       " '부산역풍물거리',\n",
       " '중앙공원',\n",
       " '소담공원',\n",
       " '부산영화의거리',\n",
       " '공수 어촌체험마을',\n",
       " '임랑해수욕장',\n",
       " '덕천동젊음의거리',\n",
       " 'UN조각공원',\n",
       " '롯데월드 어드벤처 부산',\n",
       " '광안해변공원',\n",
       " '동백공원',\n",
       " '아미산전망대',\n",
       " '부평족발골목',\n",
       " '강서낙동강변30리벚꽃길',\n",
       " '팥빙수골목',\n",
       " '북항문화공원1차개방구역',\n",
       " '정거마을문화거리',\n",
       " '구덕문화공원',\n",
       " '씨라이프부산아쿠아리움',\n",
       " '해운대블루라인파크 미포정거장',\n",
       " '올림픽공원',\n",
       " '사라수변공원',\n",
       " '동백섬',\n",
       " '봉산마을',\n",
       " '황령산레포츠공원',\n",
       " '40계단거리',\n",
       " '영도어울림문화공원']"
      ]
     },
     "execution_count": 10,
     "metadata": {},
     "output_type": "execute_result"
    }
   ],
   "source": [
    "장소"
   ]
  },
  {
   "cell_type": "code",
   "execution_count": 11,
   "id": "625019d1",
   "metadata": {},
   "outputs": [],
   "source": [
    "장소2=장소[:1000]"
   ]
  },
  {
   "cell_type": "code",
   "execution_count": 12,
   "id": "ed0b3459",
   "metadata": {},
   "outputs": [
    {
     "data": {
      "text/plain": [
       "100"
      ]
     },
     "execution_count": 12,
     "metadata": {},
     "output_type": "execute_result"
    }
   ],
   "source": [
    "len(장소2)"
   ]
  },
  {
   "cell_type": "code",
   "execution_count": 13,
   "id": "453c9d60",
   "metadata": {
    "scrolled": true
   },
   "outputs": [
    {
     "data": {
      "text/html": [
       "<div>\n",
       "<style scoped>\n",
       "    .dataframe tbody tr th:only-of-type {\n",
       "        vertical-align: middle;\n",
       "    }\n",
       "\n",
       "    .dataframe tbody tr th {\n",
       "        vertical-align: top;\n",
       "    }\n",
       "\n",
       "    .dataframe thead th {\n",
       "        text-align: right;\n",
       "    }\n",
       "</style>\n",
       "<table border=\"1\" class=\"dataframe\">\n",
       "  <thead>\n",
       "    <tr style=\"text-align: right;\">\n",
       "      <th></th>\n",
       "      <th>장소</th>\n",
       "    </tr>\n",
       "  </thead>\n",
       "  <tbody>\n",
       "    <tr>\n",
       "      <th>0</th>\n",
       "      <td>해동용궁사</td>\n",
       "    </tr>\n",
       "    <tr>\n",
       "      <th>1</th>\n",
       "      <td>감천문화마을</td>\n",
       "    </tr>\n",
       "    <tr>\n",
       "      <th>2</th>\n",
       "      <td>흰여울문화마을</td>\n",
       "    </tr>\n",
       "    <tr>\n",
       "      <th>3</th>\n",
       "      <td>부산민주공원</td>\n",
       "    </tr>\n",
       "    <tr>\n",
       "      <th>4</th>\n",
       "      <td>민락수변공원</td>\n",
       "    </tr>\n",
       "    <tr>\n",
       "      <th>...</th>\n",
       "      <td>...</td>\n",
       "    </tr>\n",
       "    <tr>\n",
       "      <th>95</th>\n",
       "      <td>동백섬</td>\n",
       "    </tr>\n",
       "    <tr>\n",
       "      <th>96</th>\n",
       "      <td>봉산마을</td>\n",
       "    </tr>\n",
       "    <tr>\n",
       "      <th>97</th>\n",
       "      <td>황령산레포츠공원</td>\n",
       "    </tr>\n",
       "    <tr>\n",
       "      <th>98</th>\n",
       "      <td>40계단거리</td>\n",
       "    </tr>\n",
       "    <tr>\n",
       "      <th>99</th>\n",
       "      <td>영도어울림문화공원</td>\n",
       "    </tr>\n",
       "  </tbody>\n",
       "</table>\n",
       "<p>100 rows × 1 columns</p>\n",
       "</div>"
      ],
      "text/plain": [
       "           장소\n",
       "0       해동용궁사\n",
       "1      감천문화마을\n",
       "2     흰여울문화마을\n",
       "3      부산민주공원\n",
       "4      민락수변공원\n",
       "..        ...\n",
       "95        동백섬\n",
       "96       봉산마을\n",
       "97   황령산레포츠공원\n",
       "98     40계단거리\n",
       "99  영도어울림문화공원\n",
       "\n",
       "[100 rows x 1 columns]"
      ]
     },
     "execution_count": 13,
     "metadata": {},
     "output_type": "execute_result"
    }
   ],
   "source": [
    "data = pd.DataFrame(장소2,columns=['장소'])\n",
    "data"
   ]
  },
  {
   "cell_type": "code",
   "execution_count": 14,
   "id": "3b3217cf",
   "metadata": {},
   "outputs": [],
   "source": [
    "data.to_csv(\"부산여행순위_1.csv\", encoding='utf-8-sig')"
   ]
  }
 ],
 "metadata": {
  "kernelspec": {
   "display_name": "Python 3 (ipykernel)",
   "language": "python",
   "name": "python3"
  },
  "language_info": {
   "codemirror_mode": {
    "name": "ipython",
    "version": 3
   },
   "file_extension": ".py",
   "mimetype": "text/x-python",
   "name": "python",
   "nbconvert_exporter": "python",
   "pygments_lexer": "ipython3",
   "version": "3.9.12"
  }
 },
 "nbformat": 4,
 "nbformat_minor": 5
}
