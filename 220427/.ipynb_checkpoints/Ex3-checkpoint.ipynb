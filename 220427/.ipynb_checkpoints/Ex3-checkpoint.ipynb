{
 "cells": [
  {
   "cell_type": "code",
   "execution_count": 1,
   "id": "c6624a7a",
   "metadata": {},
   "outputs": [],
   "source": [
    "import numpy as np \n",
    "from sklearn.model_selection import cross_val_score\n",
    "from sklearn.tree import DecisionTreeClassifier\n",
    "X = np.load('day7_data2_X.npy')\n",
    "y = np.load('day7_data2_y.npy')"
   ]
  },
  {
   "cell_type": "code",
   "execution_count": 2,
   "id": "c2a9ef12",
   "metadata": {},
   "outputs": [],
   "source": [
    "from sklearn.ensemble import AdaBoostClassifier ,RandomForestClassifier #AdaBoostClassifier\n",
    "aec = AdaBoostClassifier(base_estimator=DecisionTreeClassifier(max_depth=2)\n",
    "                        ,n_estimators=500)"
   ]
  },
  {
   "cell_type": "code",
   "execution_count": 3,
   "id": "b75168de",
   "metadata": {},
   "outputs": [
    {
     "data": {
      "text/plain": [
       "0.7919380435472609"
      ]
     },
     "execution_count": 3,
     "metadata": {},
     "output_type": "execute_result"
    }
   ],
   "source": [
    "cross_val_score(aec,X,y,cv=5).mean()"
   ]
  },
  {
   "cell_type": "code",
   "execution_count": 4,
   "id": "3210c4f0",
   "metadata": {},
   "outputs": [
    {
     "data": {
      "text/plain": [
       "0.7998222560782073"
      ]
     },
     "execution_count": 4,
     "metadata": {},
     "output_type": "execute_result"
    }
   ],
   "source": [
    "ck1=RandomForestClassifier(n_estimators=500)\n",
    "cross_val_score(ck1,X,y,cv=5).mean()"
   ]
  },
  {
   "cell_type": "code",
   "execution_count": 6,
   "id": "25c70161",
   "metadata": {},
   "outputs": [
    {
     "data": {
      "text/plain": [
       "0.8335555132355743"
      ]
     },
     "execution_count": 6,
     "metadata": {},
     "output_type": "execute_result"
    }
   ],
   "source": [
    "# DecisionTreeClassifier(max_features=,criterion=)\n",
    "aec1 = AdaBoostClassifier(base_estimator=DecisionTreeClassifier(max_depth=2)\n",
    "                        ,n_estimators=500)\n",
    "params = {\n",
    "    'n_estimators':[20,23,23,24,25],\n",
    "    'learning_rate':[0.4,0.45,0.5,0.55,0.6],\n",
    "    'base_estimator__criterion':['gini','entropy'],\n",
    "    'base_estimator__max_features':[7,8],\n",
    "    'base_estimator__max_depth':[1,2]\n",
    "}\n",
    "from sklearn.model_selection import GridSearchCV\n",
    "g = GridSearchCV(estimator=aec1, param_grid=params,cv=5,n_jobs=-1)\n",
    "g.fit(X,y)\n",
    "g.best_score_"
   ]
  },
  {
   "cell_type": "code",
   "execution_count": 7,
   "id": "9a92baf4",
   "metadata": {},
   "outputs": [
    {
     "data": {
      "text/plain": [
       "{'base_estimator__criterion': 'entropy',\n",
       " 'base_estimator__max_depth': 2,\n",
       " 'base_estimator__max_features': 8,\n",
       " 'learning_rate': 0.4,\n",
       " 'n_estimators': 23}"
      ]
     },
     "execution_count": 7,
     "metadata": {},
     "output_type": "execute_result"
    }
   ],
   "source": [
    "g.best_params_"
   ]
  }
 ],
 "metadata": {
  "kernelspec": {
   "display_name": "Python 3 (ipykernel)",
   "language": "python",
   "name": "python3"
  },
  "language_info": {
   "codemirror_mode": {
    "name": "ipython",
    "version": 3
   },
   "file_extension": ".py",
   "mimetype": "text/x-python",
   "name": "python",
   "nbconvert_exporter": "python",
   "pygments_lexer": "ipython3",
   "version": "3.9.7"
  }
 },
 "nbformat": 4,
 "nbformat_minor": 5
}
