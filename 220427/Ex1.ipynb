{
 "cells": [
  {
   "cell_type": "code",
   "execution_count": 1,
   "id": "b900621d",
   "metadata": {},
   "outputs": [],
   "source": [
    "import numpy as np\n",
    "from sklearn.linear_model import LogisticRegression # LogisticRegression는 일반적으로 분류문제를 푼다\n",
    "from sklearn.tree import DecisionTreeClassifier\n",
    "from sklearn.naive_bayes import GaussianNB\n",
    "from sklearn.ensemble import VotingClassifier # VotingClassifier 투표분류기"
   ]
  },
  {
   "cell_type": "code",
   "execution_count": 2,
   "id": "278d9509",
   "metadata": {},
   "outputs": [],
   "source": [
    "X = np.load('day7_data2_X.npy') #npy 파일 불러오기\n",
    "y = np.load('day7_data2_y.npy')"
   ]
  },
  {
   "cell_type": "code",
   "execution_count": 3,
   "id": "c065fef0",
   "metadata": {},
   "outputs": [],
   "source": [
    "c1 = LogisticRegression(random_state=1)\n",
    "c2 = DecisionTreeClassifier(random_state=1,max_depth=4) #4층까지\n",
    "c3 = GaussianNB()\n",
    "ec = VotingClassifier(estimators=[('lr',c1),('rf',c2),('gnb',c3)],voting='hard')"
   ]
  },
  {
   "cell_type": "code",
   "execution_count": 4,
   "id": "5cfe2061",
   "metadata": {},
   "outputs": [
    {
     "data": {
      "text/plain": [
       "0.8222941661905668"
      ]
     },
     "execution_count": 4,
     "metadata": {},
     "output_type": "execute_result"
    }
   ],
   "source": [
    "from sklearn.model_selection import cross_val_score\n",
    "cross_val_score(ec,X,y,cv=5).mean() #5가지"
   ]
  },
  {
   "cell_type": "code",
   "execution_count": 5,
   "id": "de1436a5",
   "metadata": {},
   "outputs": [
    {
     "data": {
      "text/plain": [
       "0.8290420872214816"
      ]
     },
     "execution_count": 5,
     "metadata": {},
     "output_type": "execute_result"
    }
   ],
   "source": [
    "cross_val_score(c1,X,y,cv=5).mean()"
   ]
  },
  {
   "cell_type": "code",
   "execution_count": 6,
   "id": "03043d53",
   "metadata": {},
   "outputs": [
    {
     "data": {
      "text/plain": [
       "0.8223068621849807"
      ]
     },
     "execution_count": 6,
     "metadata": {},
     "output_type": "execute_result"
    }
   ],
   "source": [
    "cross_val_score(c2,X,y,cv=5).mean()"
   ]
  },
  {
   "cell_type": "code",
   "execution_count": 7,
   "id": "97e7e0bb",
   "metadata": {},
   "outputs": [
    {
     "data": {
      "text/plain": [
       "0.4600139655938551"
      ]
     },
     "execution_count": 7,
     "metadata": {},
     "output_type": "execute_result"
    }
   ],
   "source": [
    "cross_val_score(c3,X,y,cv=5).mean()"
   ]
  },
  {
   "cell_type": "code",
   "execution_count": 8,
   "id": "ed01c2d0",
   "metadata": {},
   "outputs": [
    {
     "data": {
      "text/plain": [
       "0.8301783787215135"
      ]
     },
     "execution_count": 8,
     "metadata": {},
     "output_type": "execute_result"
    }
   ],
   "source": [
    "ec1 = VotingClassifier(estimators=[('lr',c1),('rf',c2)],voting='hard') #성능 낮은 c3 제거\n",
    "cross_val_score(ec1,X,y,cv=5).mean()"
   ]
  },
  {
   "cell_type": "code",
   "execution_count": 9,
   "id": "dfd4d313",
   "metadata": {},
   "outputs": [],
   "source": [
    "# 파라미터값 부여\n",
    "c1 = LogisticRegression(random_state=1)\n",
    "c2 = DecisionTreeClassifier(random_state=1)\n",
    "ec1 = VotingClassifier(estimators=[('lr',c1),('dt',c2)],voting='hard')\n",
    "#LogisticRegression(C=,solver=,penalty=)\n",
    "#DecisionTreeClassifier(criterion=,min_samples_leaf=,max_depth=)\n",
    "c_params=[0.1,5.0,7.0,10.0,15.0,20.0,100.0]\n",
    "params = { #'lr__solver : __는 언더스코어 값부여 할때 사용\n",
    "    'lr__solver':['liblinear'], #extend 형이라 구조를 전달해야되서 []로 감싼다\n",
    "    'lr__penalty':['l2'],\n",
    "    'lr__C':c_params,\n",
    "    'dt__criterion':['gini','entropy'],\n",
    "    'dt__max_depth':[10,8,7,6,5,4,3,2],\n",
    "    'dt__min_samples_leaf':[1,2,3,4,5,6,7,8,9]\n",
    "}"
   ]
  },
  {
   "cell_type": "code",
   "execution_count": 10,
   "id": "56d0b66f",
   "metadata": {},
   "outputs": [
    {
     "data": {
      "text/plain": [
       "0.8425569732749316"
      ]
     },
     "execution_count": 10,
     "metadata": {},
     "output_type": "execute_result"
    }
   ],
   "source": [
    "from sklearn.model_selection import GridSearchCV\n",
    "g=GridSearchCV(estimator=ec1,param_grid=params,cv=5)\n",
    "g.fit(X,y)\n",
    "g.best_score_"
   ]
  },
  {
   "cell_type": "code",
   "execution_count": 11,
   "id": "68c37bf4",
   "metadata": {},
   "outputs": [
    {
     "data": {
      "text/plain": [
       "{'dt__criterion': 'gini',\n",
       " 'dt__max_depth': 10,\n",
       " 'dt__min_samples_leaf': 5,\n",
       " 'lr__C': 5.0,\n",
       " 'lr__penalty': 'l2',\n",
       " 'lr__solver': 'liblinear'}"
      ]
     },
     "execution_count": 11,
     "metadata": {},
     "output_type": "execute_result"
    }
   ],
   "source": [
    "g.best_params_"
   ]
  },
  {
   "cell_type": "code",
   "execution_count": 18,
   "id": "ad498db8",
   "metadata": {},
   "outputs": [
    {
     "data": {
      "text/plain": [
       "0.8425569732749316"
      ]
     },
     "execution_count": 18,
     "metadata": {},
     "output_type": "execute_result"
    }
   ],
   "source": [
    "ec2 = VotingClassifier(estimators=[('A',c1),('B',c2)],voting='hard')\n",
    "params={'dt__criterion': ['gini'],\n",
    " 'dt__max_depth': [10],\n",
    " 'dt__min_samples_leaf': [5],\n",
    " 'lr__C': [5.0],\n",
    " 'lr__penalty': ['l2'],\n",
    " 'lr__solver': ['liblinear']}\n",
    "g1=GridSearchCV(estimator=ec2,param_grid=params,cv=5)\n",
    "g.best_score_"
   ]
  },
  {
   "cell_type": "code",
   "execution_count": 13,
   "id": "d609fa4b",
   "metadata": {},
   "outputs": [
    {
     "data": {
      "text/plain": [
       "0.8425569732749316"
      ]
     },
     "execution_count": 13,
     "metadata": {},
     "output_type": "execute_result"
    }
   ],
   "source": [
    "c1 = LogisticRegression(C=5.0,solver='liblinear',penalty='l2',random_state=1)\n",
    "c2 = DecisionTreeClassifier(criterion='gini',min_samples_leaf=5,max_depth=10,random_state=1)\n",
    "ec3 = VotingClassifier(estimators=[('A',c1),('B',c2)],voting='hard')\n",
    "cross_val_score(ec3,X,y,cv=5).mean()"
   ]
  },
  {
   "cell_type": "markdown",
   "id": "514be572",
   "metadata": {},
   "source": [
    "정리 조합"
   ]
  },
  {
   "cell_type": "code",
   "execution_count": 14,
   "id": "607a2353",
   "metadata": {},
   "outputs": [
    {
     "data": {
      "text/plain": [
       "0.8425569732749316"
      ]
     },
     "execution_count": 14,
     "metadata": {},
     "output_type": "execute_result"
    }
   ],
   "source": [
    "import numpy as np #파일 로드\n",
    "from sklearn.linear_model import LogisticRegression #모델1 \n",
    "from sklearn.tree import DecisionTreeClassifier #모델2\n",
    "from sklearn.ensemble import VotingClassifier #모델 조합\n",
    "from sklearn.model_selection import cross_val_score #성능평가\n",
    "#data 로드\n",
    "X = np.load('day7_data2_X.npy')\n",
    "y = np.load('day7_data2_y.npy')\n",
    "#모델생성(최적의 파라미터 적용)\n",
    "c1 = LogisticRegression(C=5.0,solver='liblinear',penalty='l2',random_state=1)\n",
    "c2 = DecisionTreeClassifier(criterion='gini',min_samples_leaf=5,max_depth=10,random_state=1)\n",
    "#앙상블 모델 생성\n",
    "ec = VotingClassifier(estimators=[('c1',c1),('c2',c2)],voting='hard')\n",
    "# 검증\n",
    "cross_val_score(ec,X,y,cv=5).mean()"
   ]
  }
 ],
 "metadata": {
  "kernelspec": {
   "display_name": "Python 3 (ipykernel)",
   "language": "python",
   "name": "python3"
  },
  "language_info": {
   "codemirror_mode": {
    "name": "ipython",
    "version": 3
   },
   "file_extension": ".py",
   "mimetype": "text/x-python",
   "name": "python",
   "nbconvert_exporter": "python",
   "pygments_lexer": "ipython3",
   "version": "3.9.7"
  }
 },
 "nbformat": 4,
 "nbformat_minor": 5
}
