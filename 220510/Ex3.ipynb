{
 "cells": [
  {
   "cell_type": "markdown",
   "id": "e6709b98",
   "metadata": {},
   "source": [
    "Bag of Words -> 단어들의 빈도수 (문장 기준)\n",
    "1. 단어들의 집합\n",
    "2. 벡터화"
   ]
  },
  {
   "cell_type": "code",
   "execution_count": 1,
   "id": "2d2545a8",
   "metadata": {},
   "outputs": [],
   "source": [
    "t = \"안녕 나는 강사야 너는 잘 듣고있니?\""
   ]
  },
  {
   "cell_type": "code",
   "execution_count": 2,
   "id": "36b5c3fa",
   "metadata": {},
   "outputs": [
    {
     "data": {
      "text/plain": [
       "({'안녕': 0, '나': 1, '는': 2, '강사': 3, '야': 4, '너': 5, '잘': 6, '듣고있니': 7},\n",
       " [1, 1, 2, 1, 1, 1, 1, 1])"
      ]
     },
     "execution_count": 2,
     "metadata": {},
     "output_type": "execute_result"
    }
   ],
   "source": [
    "from konlpy.tag import Okt\n",
    "tk = Okt()\n",
    "def 문장_처리(입력_문장):\n",
    "    입력_문장 = 입력_문장.replace('?','') #의미 없는 단어 정리(전처리용)\n",
    "    토큰화된_data=tk.morphs(입력_문장)\n",
    "    \n",
    "    단어_집합 = {}\n",
    "    단어_빈도수 = []\n",
    "    for 단어 in 토큰화된_data:\n",
    "        if 단어 not in 단어_집합:\n",
    "            단어_집합[단어] = len(단어_집합)\n",
    "            단어_빈도수.insert(len(단어_집합),1)\n",
    "        else:\n",
    "            단어_인덱스=단어_집합.get(단어)\n",
    "            단어_빈도수[단어_인덱스]+=1\n",
    "    return 단어_집합, 단어_빈도수\n",
    "문장_처리(t)"
   ]
  },
  {
   "cell_type": "code",
   "execution_count": 3,
   "id": "96cf6982",
   "metadata": {},
   "outputs": [
    {
     "data": {
      "text/plain": [
       "['안녕', '나', '는', '강사', '야', '너', '는', '잘', '듣고있니']"
      ]
     },
     "execution_count": 3,
     "metadata": {},
     "output_type": "execute_result"
    }
   ],
   "source": [
    "from sklearn.feature_extraction.text import CountVectorizer #BoW\n",
    "tr_t = t.replace('?','')\n",
    "tr_t = tk.morphs(tr_t)\n",
    "tr_t"
   ]
  },
  {
   "cell_type": "code",
   "execution_count": 4,
   "id": "f2138f16",
   "metadata": {
    "scrolled": true
   },
   "outputs": [
    {
     "data": {
      "text/plain": [
       "array([[0, 0, 1],\n",
       "       [0, 0, 0],\n",
       "       [0, 0, 0],\n",
       "       [1, 0, 0],\n",
       "       [0, 0, 0],\n",
       "       [0, 0, 0],\n",
       "       [0, 0, 0],\n",
       "       [0, 0, 0],\n",
       "       [0, 1, 0]], dtype=int64)"
      ]
     },
     "execution_count": 4,
     "metadata": {},
     "output_type": "execute_result"
    }
   ],
   "source": [
    "v=CountVectorizer()\n",
    "v.fit_transform(tr_t).toarray()"
   ]
  },
  {
   "cell_type": "code",
   "execution_count": 5,
   "id": "ef04ec30",
   "metadata": {},
   "outputs": [
    {
     "data": {
      "text/plain": [
       "{'안녕': 2, '강사': 0, '듣고있니': 1}"
      ]
     },
     "execution_count": 5,
     "metadata": {},
     "output_type": "execute_result"
    }
   ],
   "source": [
    "v.vocabulary_"
   ]
  },
  {
   "cell_type": "code",
   "execution_count": 6,
   "id": "200139a2",
   "metadata": {},
   "outputs": [
    {
     "data": {
      "text/plain": [
       "'안녕 나는 강사야 너는 잘 듣고있니'"
      ]
     },
     "execution_count": 6,
     "metadata": {},
     "output_type": "execute_result"
    }
   ],
   "source": [
    "tr_t = t.replace('?','')\n",
    "tr_t"
   ]
  },
  {
   "cell_type": "code",
   "execution_count": 7,
   "id": "5b3ae82e",
   "metadata": {},
   "outputs": [
    {
     "data": {
      "text/plain": [
       "array([[1, 1, 1, 1, 1]], dtype=int64)"
      ]
     },
     "execution_count": 7,
     "metadata": {},
     "output_type": "execute_result"
    }
   ],
   "source": [
    "v=CountVectorizer()\n",
    "v.fit_transform([tr_t]).toarray()"
   ]
  },
  {
   "cell_type": "code",
   "execution_count": 8,
   "id": "0968c4a9",
   "metadata": {},
   "outputs": [
    {
     "data": {
      "text/plain": [
       "{'안녕': 4, '나는': 1, '강사야': 0, '너는': 2, '듣고있니': 3}"
      ]
     },
     "execution_count": 8,
     "metadata": {},
     "output_type": "execute_result"
    }
   ],
   "source": [
    "v.vocabulary_"
   ]
  },
  {
   "cell_type": "code",
   "execution_count": 9,
   "id": "c6b7d1b2",
   "metadata": {},
   "outputs": [],
   "source": [
    "문장_집합=['안녕 나는 강사','나는 학생','나는 공부중','나는 노는중','나는 자는중']"
   ]
  },
  {
   "cell_type": "code",
   "execution_count": 10,
   "id": "47b9171f",
   "metadata": {},
   "outputs": [
    {
     "data": {
      "text/plain": [
       "array([[0, 1, 0, 0, 1],\n",
       "       [0, 1, 0, 0, 0],\n",
       "       [0, 1, 0, 0, 0],\n",
       "       [0, 1, 0, 0, 0],\n",
       "       [0, 1, 0, 0, 0]], dtype=int64)"
      ]
     },
     "execution_count": 10,
     "metadata": {},
     "output_type": "execute_result"
    }
   ],
   "source": [
    "v.transform(문장_집합).toarrayrray()"
   ]
  },
  {
   "cell_type": "code",
   "execution_count": 13,
   "id": "de3b86bd",
   "metadata": {},
   "outputs": [
    {
     "data": {
      "text/plain": [
       "array([[1, 0, 0, 1, 0, 0],\n",
       "       [0, 0, 0, 0, 0, 1],\n",
       "       [0, 1, 0, 0, 0, 0],\n",
       "       [0, 0, 1, 0, 0, 0],\n",
       "       [0, 0, 0, 0, 1, 0]], dtype=int64)"
      ]
     },
     "execution_count": 13,
     "metadata": {},
     "output_type": "execute_result"
    }
   ],
   "source": [
    "v2=CountVectorizer(stop_words=['나는']) #불용어 처리\n",
    "v2.fit_transform(문장_집합).toarray()"
   ]
  },
  {
   "cell_type": "code",
   "execution_count": 15,
   "id": "326442d2",
   "metadata": {},
   "outputs": [
    {
     "data": {
      "text/plain": [
       "{'안녕': 3, '강사': 0, '학생': 5, '공부중': 1, '노는중': 2, '자는중': 4}"
      ]
     },
     "execution_count": 15,
     "metadata": {},
     "output_type": "execute_result"
    }
   ],
   "source": [
    "v2.vocabulary_ #나는 x"
   ]
  },
  {
   "cell_type": "code",
   "execution_count": 20,
   "id": "3df1bb96",
   "metadata": {},
   "outputs": [
    {
     "data": {
      "text/plain": [
       "['안녕',\n",
       " '나',\n",
       " '는',\n",
       " '강사',\n",
       " '나',\n",
       " '는',\n",
       " '학생',\n",
       " '나',\n",
       " '는',\n",
       " '공부',\n",
       " '중',\n",
       " '나',\n",
       " '는',\n",
       " '노',\n",
       " '는',\n",
       " '중',\n",
       " '나',\n",
       " '는',\n",
       " '자는',\n",
       " '중']"
      ]
     },
     "execution_count": 20,
     "metadata": {},
     "output_type": "execute_result"
    }
   ],
   "source": [
    "t_l = []\n",
    "for i in 문장_집합:\n",
    "    t_l+=tk.morphs(i)\n",
    "t_l"
   ]
  },
  {
   "cell_type": "code",
   "execution_count": 23,
   "id": "b7c15ebe",
   "metadata": {},
   "outputs": [
    {
     "data": {
      "text/plain": [
       "array([[0, 0, 1, 0, 0],\n",
       "       [0, 0, 0, 0, 0],\n",
       "       [0, 0, 0, 0, 0],\n",
       "       [1, 0, 0, 0, 0],\n",
       "       [0, 0, 0, 0, 0],\n",
       "       [0, 0, 0, 0, 0],\n",
       "       [0, 0, 0, 0, 1],\n",
       "       [0, 0, 0, 0, 0],\n",
       "       [0, 0, 0, 0, 0],\n",
       "       [0, 1, 0, 0, 0],\n",
       "       [0, 0, 0, 0, 0],\n",
       "       [0, 0, 0, 0, 0],\n",
       "       [0, 0, 0, 0, 0],\n",
       "       [0, 0, 0, 0, 0],\n",
       "       [0, 0, 0, 0, 0],\n",
       "       [0, 0, 0, 0, 0],\n",
       "       [0, 0, 0, 0, 0],\n",
       "       [0, 0, 0, 0, 0],\n",
       "       [0, 0, 0, 1, 0],\n",
       "       [0, 0, 0, 0, 0]], dtype=int64)"
      ]
     },
     "execution_count": 23,
     "metadata": {},
     "output_type": "execute_result"
    }
   ],
   "source": [
    "v3=CountVectorizer()\n",
    "v3.fit_transform(t_l).toarray()"
   ]
  },
  {
   "cell_type": "code",
   "execution_count": 24,
   "id": "d49ac6e7",
   "metadata": {},
   "outputs": [
    {
     "data": {
      "text/plain": [
       "{'안녕': 2, '강사': 0, '학생': 4, '공부': 1, '자는': 3}"
      ]
     },
     "execution_count": 24,
     "metadata": {},
     "output_type": "execute_result"
    }
   ],
   "source": [
    "v3.vocabulary_"
   ]
  },
  {
   "cell_type": "code",
   "execution_count": 25,
   "id": "323c7b0d",
   "metadata": {},
   "outputs": [],
   "source": [
    "t2 = '나는 강사입니다. 그리고 나는 학생들과 함께 공부를 하고있습니다. 저기 자는 학생 일어나요!'"
   ]
  },
  {
   "cell_type": "code",
   "execution_count": 28,
   "id": "deb4d0e8",
   "metadata": {},
   "outputs": [
    {
     "data": {
      "text/plain": [
       "array([[0, 0, 0, 1, 1]], dtype=int64)"
      ]
     },
     "execution_count": 28,
     "metadata": {},
     "output_type": "execute_result"
    }
   ],
   "source": [
    "v3.transform([t2]).toarray()"
   ]
  },
  {
   "cell_type": "code",
   "execution_count": 29,
   "id": "7ee3e7e1",
   "metadata": {
    "scrolled": true
   },
   "outputs": [
    {
     "data": {
      "text/plain": [
       "array([[1, 0, 1, 0, 0],\n",
       "       [0, 0, 0, 0, 1],\n",
       "       [0, 0, 0, 0, 0],\n",
       "       [0, 0, 0, 0, 0],\n",
       "       [0, 0, 0, 0, 0]], dtype=int64)"
      ]
     },
     "execution_count": 29,
     "metadata": {},
     "output_type": "execute_result"
    }
   ],
   "source": [
    "v3.transform(문장_집합).toarray()"
   ]
  },
  {
   "cell_type": "code",
   "execution_count": null,
   "id": "131ef140",
   "metadata": {},
   "outputs": [],
   "source": [
    "t = 'the i am a boy a a a a a a'"
   ]
  }
 ],
 "metadata": {
  "kernelspec": {
   "display_name": "Python 3 (ipykernel)",
   "language": "python",
   "name": "python3"
  },
  "language_info": {
   "codemirror_mode": {
    "name": "ipython",
    "version": 3
   },
   "file_extension": ".py",
   "mimetype": "text/x-python",
   "name": "python",
   "nbconvert_exporter": "python",
   "pygments_lexer": "ipython3",
   "version": "3.9.7"
  }
 },
 "nbformat": 4,
 "nbformat_minor": 5
}
