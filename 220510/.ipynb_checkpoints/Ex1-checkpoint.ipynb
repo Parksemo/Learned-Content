{
 "cells": [
  {
   "cell_type": "code",
   "execution_count": 1,
   "id": "53caec4b",
   "metadata": {},
   "outputs": [
    {
     "data": {
      "text/plain": [
       "([('I', 'am'), ('am', 'a'), ('a', 'boy')],\n",
       " [('I', 'am', 'a'), ('am', 'a', 'boy')])"
      ]
     },
     "execution_count": 1,
     "metadata": {},
     "output_type": "execute_result"
    }
   ],
   "source": [
    "from nltk import bigrams, word_tokenize\n",
    "from nltk.util import ngrams\n",
    "t = 'I am a boy'\n",
    "tk = word_tokenize(t)\n",
    "bg = bigrams(tk)#직전의 단어\n",
    "ng = ngrams(tk,3)#특정영역\n",
    "list(bg),list(ng)"
   ]
  },
  {
   "cell_type": "code",
   "execution_count": 2,
   "id": "b8b929ea",
   "metadata": {},
   "outputs": [],
   "source": [
    "#SS<문장>SE"
   ]
  },
  {
   "cell_type": "code",
   "execution_count": 3,
   "id": "73ac8aef",
   "metadata": {},
   "outputs": [
    {
     "data": {
      "text/plain": [
       "[('SS', 'I'), ('I', 'am'), ('am', 'a'), ('a', 'boy'), ('boy', 'SE')]"
      ]
     },
     "execution_count": 3,
     "metadata": {},
     "output_type": "execute_result"
    }
   ],
   "source": [
    "data2=ngrams(tk,2,pad_left=True,pad_right=True,left_pad_symbol=\"SS\",right_pad_symbol=\"SE\")\n",
    "#pad_left=True 왼쪽패딩추가, left_pad_symbol=\"SS\" 왼쪽패딩 내용\n",
    "#pad_right=True 오른쪽패딩추가, right_pad_symbol=\"SS\" 오른쪽패딩 내용\n",
    "list(data2)"
   ]
  },
  {
   "cell_type": "code",
   "execution_count": 4,
   "id": "c5549677",
   "metadata": {},
   "outputs": [],
   "source": [
    "from nltk import ConditionalFreqDist #ConditionalFreqDist : 조건부빈도수\n",
    "t = 'I am a boy'\n",
    "t2 = ' you are a boy'\n",
    "tk = word_tokenize(t)\n",
    "ng2=ngrams(tk,2,pad_left=True,pad_right=True,left_pad_symbol=\"SS\",right_pad_symbol=\"SE\")\n",
    "fd = ConditionalFreqDist([(i[0],i[1]) for i in ng2])"
   ]
  },
  {
   "cell_type": "code",
   "execution_count": 5,
   "id": "da888c4f",
   "metadata": {},
   "outputs": [
    {
     "data": {
      "text/plain": [
       "['SS', 'I', 'am', 'a', 'boy']"
      ]
     },
     "execution_count": 5,
     "metadata": {},
     "output_type": "execute_result"
    }
   ],
   "source": [
    "fd.conditions() #정답 접근 정보"
   ]
  },
  {
   "cell_type": "code",
   "execution_count": 6,
   "id": "95f472a4",
   "metadata": {},
   "outputs": [
    {
     "data": {
      "text/plain": [
       "FreqDist({'I': 1})"
      ]
     },
     "execution_count": 6,
     "metadata": {},
     "output_type": "execute_result"
    }
   ],
   "source": [
    "fd['SS']"
   ]
  },
  {
   "cell_type": "code",
   "execution_count": 7,
   "id": "34d67ec3",
   "metadata": {},
   "outputs": [
    {
     "data": {
      "text/plain": [
       "FreqDist({'am': 1})"
      ]
     },
     "execution_count": 7,
     "metadata": {},
     "output_type": "execute_result"
    }
   ],
   "source": [
    "fd['I']"
   ]
  },
  {
   "cell_type": "code",
   "execution_count": 8,
   "id": "713a8420",
   "metadata": {},
   "outputs": [
    {
     "data": {
      "text/plain": [
       "FreqDist({})"
      ]
     },
     "execution_count": 8,
     "metadata": {},
     "output_type": "execute_result"
    }
   ],
   "source": [
    "fd['SE']"
   ]
  },
  {
   "cell_type": "code",
   "execution_count": 9,
   "id": "8550a5cc",
   "metadata": {},
   "outputs": [
    {
     "name": "stderr",
     "output_type": "stream",
     "text": [
      "[nltk_data] Downloading package movie_reviews to\n",
      "[nltk_data]     C:\\Users\\user\\AppData\\Roaming\\nltk_data...\n",
      "[nltk_data]   Package movie_reviews is already up-to-date!\n",
      "[nltk_data] Downloading package punkt to\n",
      "[nltk_data]     C:\\Users\\user\\AppData\\Roaming\\nltk_data...\n",
      "[nltk_data]   Package punkt is already up-to-date!\n"
     ]
    },
    {
     "data": {
      "text/plain": [
       "True"
      ]
     },
     "execution_count": 9,
     "metadata": {},
     "output_type": "execute_result"
    }
   ],
   "source": [
    "import nltk\n",
    "nltk.download('movie_reviews')\n",
    "nltk.download('punkt')"
   ]
  },
  {
   "cell_type": "code",
   "execution_count": 10,
   "id": "39056463",
   "metadata": {
    "scrolled": true
   },
   "outputs": [
    {
     "data": {
      "text/plain": [
       "[('SS', 'plot'),\n",
       " ('plot', ':'),\n",
       " (':', 'two'),\n",
       " ('two', 'teen'),\n",
       " ('teen', 'couples'),\n",
       " ('couples', 'go'),\n",
       " ('go', 'to'),\n",
       " ('to', 'a'),\n",
       " ('a', 'church'),\n",
       " ('church', 'party'),\n",
       " ('party', ','),\n",
       " (',', 'drink'),\n",
       " ('drink', 'and'),\n",
       " ('and', 'then'),\n",
       " ('then', 'drive'),\n",
       " ('drive', '.'),\n",
       " ('.', 'SE'),\n",
       " ('SS', 'they'),\n",
       " ('they', 'get'),\n",
       " ('get', 'into'),\n",
       " ('into', 'an'),\n",
       " ('an', 'accident'),\n",
       " ('accident', '.'),\n",
       " ('.', 'SE'),\n",
       " ('SS', 'one'),\n",
       " ('one', 'of'),\n",
       " ('of', 'the'),\n",
       " ('the', 'guys'),\n",
       " ('guys', 'dies'),\n",
       " ('dies', ','),\n",
       " (',', 'but'),\n",
       " ('but', 'his'),\n",
       " ('his', 'girlfriend'),\n",
       " ('girlfriend', 'continues'),\n",
       " ('continues', 'to'),\n",
       " ('to', 'see'),\n",
       " ('see', 'him'),\n",
       " ('him', 'in'),\n",
       " ('in', 'her'),\n",
       " ('her', 'life'),\n",
       " ('life', ','),\n",
       " (',', 'and'),\n",
       " ('and', 'has'),\n",
       " ('has', 'nightmares'),\n",
       " ('nightmares', '.'),\n",
       " ('.', 'SE'),\n",
       " ('SS', 'what'),\n",
       " ('what', \"'\"),\n",
       " (\"'\", 's'),\n",
       " ('s', 'the'),\n",
       " ('the', 'deal'),\n",
       " ('deal', '?'),\n",
       " ('?', 'SE'),\n",
       " ('SS', 'watch'),\n",
       " ('watch', 'the'),\n",
       " ('the', 'movie'),\n",
       " ('movie', 'and'),\n",
       " ('and', '\"'),\n",
       " ('\"', 'sorta'),\n",
       " ('sorta', '\"'),\n",
       " ('\"', 'find'),\n",
       " ('find', 'out'),\n",
       " ('out', '.'),\n",
       " ('.', 'SE'),\n",
       " ('SS', '.'),\n",
       " ('.', 'SE'),\n",
       " ('SS', '.'),\n",
       " ('.', 'SE'),\n",
       " ('SS', 'critique'),\n",
       " ('critique', ':'),\n",
       " (':', 'a'),\n",
       " ('a', 'mind'),\n",
       " ('mind', '-'),\n",
       " ('-', 'fuck'),\n",
       " ('fuck', 'movie'),\n",
       " ('movie', 'for'),\n",
       " ('for', 'the'),\n",
       " ('the', 'teen'),\n",
       " ('teen', 'generation'),\n",
       " ('generation', 'that'),\n",
       " ('that', 'touches'),\n",
       " ('touches', 'on'),\n",
       " ('on', 'a'),\n",
       " ('a', 'very'),\n",
       " ('very', 'cool'),\n",
       " ('cool', 'idea'),\n",
       " ('idea', ','),\n",
       " (',', 'but'),\n",
       " ('but', 'presents'),\n",
       " ('presents', 'it'),\n",
       " ('it', 'in'),\n",
       " ('in', 'a'),\n",
       " ('a', 'very'),\n",
       " ('very', 'bad'),\n",
       " ('bad', 'package'),\n",
       " ('package', '.'),\n",
       " ('.', 'SE'),\n",
       " ('SS', 'which'),\n",
       " ('which', 'is'),\n",
       " ('is', 'what'),\n",
       " ('what', 'makes'),\n",
       " ('makes', 'this'),\n",
       " ('this', 'review'),\n",
       " ('review', 'an'),\n",
       " ('an', 'even'),\n",
       " ('even', 'harder'),\n",
       " ('harder', 'one'),\n",
       " ('one', 'to'),\n",
       " ('to', 'write'),\n",
       " ('write', ','),\n",
       " (',', 'since'),\n",
       " ('since', 'i'),\n",
       " ('i', 'generally'),\n",
       " ('generally', 'applaud'),\n",
       " ('applaud', 'films'),\n",
       " ('films', 'which'),\n",
       " ('which', 'attempt'),\n",
       " ('attempt', 'to'),\n",
       " ('to', 'break'),\n",
       " ('break', 'the'),\n",
       " ('the', 'mold'),\n",
       " ('mold', ','),\n",
       " (',', 'mess'),\n",
       " ('mess', 'with'),\n",
       " ('with', 'your'),\n",
       " ('your', 'head'),\n",
       " ('head', 'and'),\n",
       " ('and', 'such'),\n",
       " ('such', '('),\n",
       " ('(', 'lost'),\n",
       " ('lost', 'highway'),\n",
       " ('highway', '&'),\n",
       " ('&', 'memento'),\n",
       " ('memento', ')'),\n",
       " (')', ','),\n",
       " (',', 'but'),\n",
       " ('but', 'there'),\n",
       " ('there', 'are'),\n",
       " ('are', 'good'),\n",
       " ('good', 'and'),\n",
       " ('and', 'bad'),\n",
       " ('bad', 'ways'),\n",
       " ('ways', 'of'),\n",
       " ('of', 'making'),\n",
       " ('making', 'all'),\n",
       " ('all', 'types'),\n",
       " ('types', 'of'),\n",
       " ('of', 'films'),\n",
       " ('films', ','),\n",
       " (',', 'and'),\n",
       " ('and', 'these'),\n",
       " ('these', 'folks'),\n",
       " ('folks', 'just'),\n",
       " ('just', 'didn'),\n",
       " ('didn', \"'\"),\n",
       " (\"'\", 't'),\n",
       " ('t', 'snag'),\n",
       " ('snag', 'this'),\n",
       " ('this', 'one'),\n",
       " ('one', 'correctly'),\n",
       " ('correctly', '.'),\n",
       " ('.', 'SE'),\n",
       " ('SS', 'they'),\n",
       " ('they', 'seem'),\n",
       " ('seem', 'to'),\n",
       " ('to', 'have'),\n",
       " ('have', 'taken'),\n",
       " ('taken', 'this'),\n",
       " ('this', 'pretty'),\n",
       " ('pretty', 'neat'),\n",
       " ('neat', 'concept'),\n",
       " ('concept', ','),\n",
       " (',', 'but'),\n",
       " ('but', 'executed'),\n",
       " ('executed', 'it'),\n",
       " ('it', 'terribly'),\n",
       " ('terribly', '.'),\n",
       " ('.', 'SE'),\n",
       " ('SS', 'so'),\n",
       " ('so', 'what'),\n",
       " ('what', 'are'),\n",
       " ('are', 'the'),\n",
       " ('the', 'problems'),\n",
       " ('problems', 'with'),\n",
       " ('with', 'the'),\n",
       " ('the', 'movie'),\n",
       " ('movie', '?'),\n",
       " ('?', 'SE'),\n",
       " ('SS', 'well'),\n",
       " ('well', ','),\n",
       " (',', 'its'),\n",
       " ('its', 'main'),\n",
       " ('main', 'problem'),\n",
       " ('problem', 'is'),\n",
       " ('is', 'that'),\n",
       " ('that', 'it'),\n",
       " ('it', \"'\"),\n",
       " (\"'\", 's'),\n",
       " ('s', 'simply'),\n",
       " ('simply', 'too'),\n",
       " ('too', 'jumbled'),\n",
       " ('jumbled', '.'),\n",
       " ('.', 'SE'),\n",
       " ('SS', 'it'),\n",
       " ('it', 'starts'),\n",
       " ('starts', 'off'),\n",
       " ('off', '\"'),\n",
       " ('\"', 'normal'),\n",
       " ('normal', '\"'),\n",
       " ('\"', 'but'),\n",
       " ('but', 'then'),\n",
       " ('then', 'downshifts'),\n",
       " ('downshifts', 'into'),\n",
       " ('into', 'this'),\n",
       " ('this', '\"'),\n",
       " ('\"', 'fantasy'),\n",
       " ('fantasy', '\"'),\n",
       " ('\"', 'world'),\n",
       " ('world', 'in'),\n",
       " ('in', 'which'),\n",
       " ('which', 'you'),\n",
       " ('you', ','),\n",
       " (',', 'as'),\n",
       " ('as', 'an'),\n",
       " ('an', 'audience'),\n",
       " ('audience', 'member'),\n",
       " ('member', ','),\n",
       " (',', 'have'),\n",
       " ('have', 'no'),\n",
       " ('no', 'idea'),\n",
       " ('idea', 'what'),\n",
       " ('what', \"'\"),\n",
       " (\"'\", 's'),\n",
       " ('s', 'going'),\n",
       " ('going', 'on'),\n",
       " ('on', '.'),\n",
       " ('.', 'SE'),\n",
       " ('SS', 'there'),\n",
       " ('there', 'are'),\n",
       " ('are', 'dreams'),\n",
       " ('dreams', ','),\n",
       " (',', 'there'),\n",
       " ('there', 'are'),\n",
       " ('are', 'characters'),\n",
       " ('characters', 'coming'),\n",
       " ('coming', 'back'),\n",
       " ('back', 'from'),\n",
       " ('from', 'the'),\n",
       " ('the', 'dead'),\n",
       " ('dead', ','),\n",
       " (',', 'there'),\n",
       " ('there', 'are'),\n",
       " ('are', 'others'),\n",
       " ('others', 'who'),\n",
       " ('who', 'look'),\n",
       " ('look', 'like'),\n",
       " ('like', 'the'),\n",
       " ('the', 'dead'),\n",
       " ('dead', ','),\n",
       " (',', 'there'),\n",
       " ('there', 'are'),\n",
       " ('are', 'strange'),\n",
       " ('strange', 'apparitions'),\n",
       " ('apparitions', ','),\n",
       " (',', 'there'),\n",
       " ('there', 'are'),\n",
       " ('are', 'disappearances'),\n",
       " ('disappearances', ','),\n",
       " (',', 'there'),\n",
       " ('there', 'are'),\n",
       " ('are', 'a'),\n",
       " ('a', 'looooot'),\n",
       " ('looooot', 'of'),\n",
       " ('of', 'chase'),\n",
       " ('chase', 'scenes'),\n",
       " ('scenes', ','),\n",
       " (',', 'there'),\n",
       " ('there', 'are'),\n",
       " ('are', 'tons'),\n",
       " ('tons', 'of'),\n",
       " ('of', 'weird'),\n",
       " ('weird', 'things'),\n",
       " ('things', 'that'),\n",
       " ('that', 'happen'),\n",
       " ('happen', ','),\n",
       " (',', 'and'),\n",
       " ('and', 'most'),\n",
       " ('most', 'of'),\n",
       " ('of', 'it'),\n",
       " ('it', 'is'),\n",
       " ('is', 'simply'),\n",
       " ('simply', 'not'),\n",
       " ('not', 'explained'),\n",
       " ('explained', '.'),\n",
       " ('.', 'SE'),\n",
       " ('SS', 'now'),\n",
       " ('now', 'i'),\n",
       " ('i', 'personally'),\n",
       " ('personally', 'don'),\n",
       " ('don', \"'\"),\n",
       " (\"'\", 't'),\n",
       " ('t', 'mind'),\n",
       " ('mind', 'trying'),\n",
       " ('trying', 'to'),\n",
       " ('to', 'unravel'),\n",
       " ('unravel', 'a'),\n",
       " ('a', 'film'),\n",
       " ('film', 'every'),\n",
       " ('every', 'now'),\n",
       " ('now', 'and'),\n",
       " ('and', 'then'),\n",
       " ('then', ','),\n",
       " (',', 'but'),\n",
       " ('but', 'when'),\n",
       " ('when', 'all'),\n",
       " ('all', 'it'),\n",
       " ('it', 'does'),\n",
       " ('does', 'is'),\n",
       " ('is', 'give'),\n",
       " ('give', 'me'),\n",
       " ('me', 'the'),\n",
       " ('the', 'same'),\n",
       " ('same', 'clue'),\n",
       " ('clue', 'over'),\n",
       " ('over', 'and'),\n",
       " ('and', 'over'),\n",
       " ('over', 'again'),\n",
       " ('again', ','),\n",
       " (',', 'i'),\n",
       " ('i', 'get'),\n",
       " ('get', 'kind'),\n",
       " ('kind', 'of'),\n",
       " ('of', 'fed'),\n",
       " ('fed', 'up'),\n",
       " ('up', 'after'),\n",
       " ('after', 'a'),\n",
       " ('a', 'while'),\n",
       " ('while', ','),\n",
       " (',', 'which'),\n",
       " ('which', 'is'),\n",
       " ('is', 'this'),\n",
       " ('this', 'film'),\n",
       " ('film', \"'\"),\n",
       " (\"'\", 's'),\n",
       " ('s', 'biggest'),\n",
       " ('biggest', 'problem'),\n",
       " ('problem', '.'),\n",
       " ('.', 'SE'),\n",
       " ('SS', 'it'),\n",
       " ('it', \"'\"),\n",
       " (\"'\", 's'),\n",
       " ('s', 'obviously'),\n",
       " ('obviously', 'got'),\n",
       " ('got', 'this'),\n",
       " ('this', 'big'),\n",
       " ('big', 'secret'),\n",
       " ('secret', 'to'),\n",
       " ('to', 'hide'),\n",
       " ('hide', ','),\n",
       " (',', 'but'),\n",
       " ('but', 'it'),\n",
       " ('it', 'seems'),\n",
       " ('seems', 'to'),\n",
       " ('to', 'want'),\n",
       " ('want', 'to'),\n",
       " ('to', 'hide'),\n",
       " ('hide', 'it'),\n",
       " ('it', 'completely'),\n",
       " ('completely', 'until'),\n",
       " ('until', 'its'),\n",
       " ('its', 'final'),\n",
       " ('final', 'five'),\n",
       " ('five', 'minutes'),\n",
       " ('minutes', '.'),\n",
       " ('.', 'SE'),\n",
       " ('SS', 'and'),\n",
       " ('and', 'do'),\n",
       " ('do', 'they'),\n",
       " ('they', 'make'),\n",
       " ('make', 'things'),\n",
       " ('things', 'entertaining'),\n",
       " ('entertaining', ','),\n",
       " (',', 'thrilling'),\n",
       " ('thrilling', 'or'),\n",
       " ('or', 'even'),\n",
       " ('even', 'engaging'),\n",
       " ('engaging', ','),\n",
       " (',', 'in'),\n",
       " ('in', 'the'),\n",
       " ('the', 'meantime'),\n",
       " ('meantime', '?'),\n",
       " ('?', 'SE'),\n",
       " ('SS', 'not'),\n",
       " ('not', 'really'),\n",
       " ('really', '.'),\n",
       " ('.', 'SE'),\n",
       " ('SS', 'the'),\n",
       " ('the', 'sad'),\n",
       " ('sad', 'part'),\n",
       " ('part', 'is'),\n",
       " ('is', 'that'),\n",
       " ('that', 'the'),\n",
       " ('the', 'arrow'),\n",
       " ('arrow', 'and'),\n",
       " ('and', 'i'),\n",
       " ('i', 'both'),\n",
       " ('both', 'dig'),\n",
       " ('dig', 'on'),\n",
       " ('on', 'flicks'),\n",
       " ('flicks', 'like'),\n",
       " ('like', 'this'),\n",
       " ('this', ','),\n",
       " (',', 'so'),\n",
       " ('so', 'we'),\n",
       " ('we', 'actually'),\n",
       " ('actually', 'figured'),\n",
       " ('figured', 'most'),\n",
       " ('most', 'of'),\n",
       " ('of', 'it'),\n",
       " ('it', 'out'),\n",
       " ('out', 'by'),\n",
       " ('by', 'the'),\n",
       " ('the', 'half'),\n",
       " ('half', '-'),\n",
       " ('-', 'way'),\n",
       " ('way', 'point'),\n",
       " ('point', ','),\n",
       " (',', 'so'),\n",
       " ('so', 'all'),\n",
       " ('all', 'of'),\n",
       " ('of', 'the'),\n",
       " ('the', 'strangeness'),\n",
       " ('strangeness', 'after'),\n",
       " ('after', 'that'),\n",
       " ('that', 'did'),\n",
       " ('did', 'start'),\n",
       " ('start', 'to'),\n",
       " ('to', 'make'),\n",
       " ('make', 'a'),\n",
       " ('a', 'little'),\n",
       " ('little', 'bit'),\n",
       " ('bit', 'of'),\n",
       " ('of', 'sense'),\n",
       " ('sense', ','),\n",
       " (',', 'but'),\n",
       " ('but', 'it'),\n",
       " ('it', 'still'),\n",
       " ('still', 'didn'),\n",
       " ('didn', \"'\"),\n",
       " (\"'\", 't'),\n",
       " ('t', 'the'),\n",
       " ('the', 'make'),\n",
       " ('make', 'the'),\n",
       " ('the', 'film'),\n",
       " ('film', 'all'),\n",
       " ('all', 'that'),\n",
       " ('that', 'more'),\n",
       " ('more', 'entertaining'),\n",
       " ('entertaining', '.'),\n",
       " ('.', 'SE'),\n",
       " ('SS', 'i'),\n",
       " ('i', 'guess'),\n",
       " ('guess', 'the'),\n",
       " ('the', 'bottom'),\n",
       " ('bottom', 'line'),\n",
       " ('line', 'with'),\n",
       " ('with', 'movies'),\n",
       " ('movies', 'like'),\n",
       " ('like', 'this'),\n",
       " ('this', 'is'),\n",
       " ('is', 'that'),\n",
       " ('that', 'you'),\n",
       " ('you', 'should'),\n",
       " ('should', 'always'),\n",
       " ('always', 'make'),\n",
       " ('make', 'sure'),\n",
       " ('sure', 'that'),\n",
       " ('that', 'the'),\n",
       " ('the', 'audience'),\n",
       " ('audience', 'is'),\n",
       " ('is', '\"'),\n",
       " ('\"', 'into'),\n",
       " ('into', 'it'),\n",
       " ('it', '\"'),\n",
       " ('\"', 'even'),\n",
       " ('even', 'before'),\n",
       " ('before', 'they'),\n",
       " ('they', 'are'),\n",
       " ('are', 'given'),\n",
       " ('given', 'the'),\n",
       " ('the', 'secret'),\n",
       " ('secret', 'password'),\n",
       " ('password', 'to'),\n",
       " ('to', 'enter'),\n",
       " ('enter', 'your'),\n",
       " ('your', 'world'),\n",
       " ('world', 'of'),\n",
       " ('of', 'understanding'),\n",
       " ('understanding', '.'),\n",
       " ('.', 'SE'),\n",
       " ('SS', 'i'),\n",
       " ('i', 'mean'),\n",
       " ('mean', ','),\n",
       " (',', 'showing'),\n",
       " ('showing', 'melissa'),\n",
       " ('melissa', 'sagemiller'),\n",
       " ('sagemiller', 'running'),\n",
       " ('running', 'away'),\n",
       " ('away', 'from'),\n",
       " ('from', 'visions'),\n",
       " ('visions', 'for'),\n",
       " ('for', 'about'),\n",
       " ('about', '20'),\n",
       " ('20', 'minutes'),\n",
       " ('minutes', 'throughout'),\n",
       " ('throughout', 'the'),\n",
       " ('the', 'movie'),\n",
       " ('movie', 'is'),\n",
       " ('is', 'just'),\n",
       " ('just', 'plain'),\n",
       " ('plain', 'lazy'),\n",
       " ('lazy', '!'),\n",
       " ('!', 'SE'),\n",
       " ('SS', '!'),\n",
       " ('!', 'SE'),\n",
       " ('SS', 'okay'),\n",
       " ('okay', ','),\n",
       " (',', 'we'),\n",
       " ('we', 'get'),\n",
       " ('get', 'it'),\n",
       " ('it', '.'),\n",
       " ('.', 'SE'),\n",
       " ('SS', '.'),\n",
       " ('.', 'SE'),\n",
       " ('SS', '.'),\n",
       " ('.', 'SE'),\n",
       " ('SS', 'there'),\n",
       " ('there', 'are'),\n",
       " ('are', 'people'),\n",
       " ('people', 'chasing'),\n",
       " ('chasing', 'her'),\n",
       " ('her', 'and'),\n",
       " ('and', 'we'),\n",
       " ('we', 'don'),\n",
       " ('don', \"'\"),\n",
       " (\"'\", 't'),\n",
       " ('t', 'know'),\n",
       " ('know', 'who'),\n",
       " ('who', 'they'),\n",
       " ('they', 'are'),\n",
       " ('are', '.'),\n",
       " ('.', 'SE'),\n",
       " ('SS', 'do'),\n",
       " ('do', 'we'),\n",
       " ('we', 'really'),\n",
       " ('really', 'need'),\n",
       " ('need', 'to'),\n",
       " ('to', 'see'),\n",
       " ('see', 'it'),\n",
       " ('it', 'over'),\n",
       " ('over', 'and'),\n",
       " ('and', 'over'),\n",
       " ('over', 'again'),\n",
       " ('again', '?'),\n",
       " ('?', 'SE'),\n",
       " ('SS', 'how'),\n",
       " ('how', 'about'),\n",
       " ('about', 'giving'),\n",
       " ('giving', 'us'),\n",
       " ('us', 'different'),\n",
       " ('different', 'scenes'),\n",
       " ('scenes', 'offering'),\n",
       " ('offering', 'further'),\n",
       " ('further', 'insight'),\n",
       " ('insight', 'into'),\n",
       " ('into', 'all'),\n",
       " ('all', 'of'),\n",
       " ('of', 'the'),\n",
       " ('the', 'strangeness'),\n",
       " ('strangeness', 'going'),\n",
       " ('going', 'down'),\n",
       " ('down', 'in'),\n",
       " ('in', 'the'),\n",
       " ('the', 'movie'),\n",
       " ('movie', '?'),\n",
       " ('?', 'SE'),\n",
       " ('SS', 'apparently'),\n",
       " ('apparently', ','),\n",
       " (',', 'the'),\n",
       " ('the', 'studio'),\n",
       " ('studio', 'took'),\n",
       " ('took', 'this'),\n",
       " ('this', 'film'),\n",
       " ('film', 'away'),\n",
       " ('away', 'from'),\n",
       " ('from', 'its'),\n",
       " ('its', 'director'),\n",
       " ('director', 'and'),\n",
       " ('and', 'chopped'),\n",
       " ('chopped', 'it'),\n",
       " ('it', 'up'),\n",
       " ('up', 'themselves'),\n",
       " ('themselves', ','),\n",
       " (',', 'and'),\n",
       " ('and', 'it'),\n",
       " ('it', 'shows'),\n",
       " ('shows', '.'),\n",
       " ('.', 'SE'),\n",
       " ('SS', 'there'),\n",
       " ('there', 'might'),\n",
       " ('might', \"'\"),\n",
       " (\"'\", 've'),\n",
       " ('ve', 'been'),\n",
       " ('been', 'a'),\n",
       " ('a', 'pretty'),\n",
       " ('pretty', 'decent'),\n",
       " ('decent', 'teen'),\n",
       " ('teen', 'mind'),\n",
       " ('mind', '-'),\n",
       " ('-', 'fuck'),\n",
       " ('fuck', 'movie'),\n",
       " ('movie', 'in'),\n",
       " ('in', 'here'),\n",
       " ('here', 'somewhere'),\n",
       " ('somewhere', ','),\n",
       " (',', 'but'),\n",
       " ('but', 'i'),\n",
       " ('i', 'guess'),\n",
       " ('guess', '\"'),\n",
       " ('\"', 'the'),\n",
       " ('the', 'suits'),\n",
       " ('suits', '\"'),\n",
       " ('\"', 'decided'),\n",
       " ('decided', 'that'),\n",
       " ('that', 'turning'),\n",
       " ('turning', 'it'),\n",
       " ('it', 'into'),\n",
       " ('into', 'a'),\n",
       " ('a', 'music'),\n",
       " ('music', 'video'),\n",
       " ('video', 'with'),\n",
       " ('with', 'little'),\n",
       " ('little', 'edge'),\n",
       " ('edge', ','),\n",
       " (',', 'would'),\n",
       " ('would', 'make'),\n",
       " ('make', 'more'),\n",
       " ('more', 'sense'),\n",
       " ('sense', '.'),\n",
       " ('.', 'SE'),\n",
       " ('SS', 'the'),\n",
       " ('the', 'actors'),\n",
       " ('actors', 'are'),\n",
       " ('are', 'pretty'),\n",
       " ('pretty', 'good'),\n",
       " ('good', 'for'),\n",
       " ('for', 'the'),\n",
       " ('the', 'most'),\n",
       " ('most', 'part'),\n",
       " ('part', ','),\n",
       " (',', 'although'),\n",
       " ('although', 'wes'),\n",
       " ('wes', 'bentley'),\n",
       " ('bentley', 'just'),\n",
       " ('just', 'seemed'),\n",
       " ('seemed', 'to'),\n",
       " ('to', 'be'),\n",
       " ('be', 'playing'),\n",
       " ('playing', 'the'),\n",
       " ('the', 'exact'),\n",
       " ('exact', 'same'),\n",
       " ('same', 'character'),\n",
       " ('character', 'that'),\n",
       " ('that', 'he'),\n",
       " ('he', 'did'),\n",
       " ('did', 'in'),\n",
       " ('in', 'american'),\n",
       " ('american', 'beauty'),\n",
       " ('beauty', ','),\n",
       " (',', 'only'),\n",
       " ('only', 'in'),\n",
       " ('in', 'a'),\n",
       " ('a', 'new'),\n",
       " ('new', 'neighborhood'),\n",
       " ('neighborhood', '.'),\n",
       " ('.', 'SE'),\n",
       " ('SS', 'but'),\n",
       " ('but', 'my'),\n",
       " ('my', 'biggest'),\n",
       " ('biggest', 'kudos'),\n",
       " ('kudos', 'go'),\n",
       " ('go', 'out'),\n",
       " ('out', 'to'),\n",
       " ('to', 'sagemiller'),\n",
       " ('sagemiller', ','),\n",
       " (',', 'who'),\n",
       " ('who', 'holds'),\n",
       " ('holds', 'her'),\n",
       " ('her', 'own'),\n",
       " ('own', 'throughout'),\n",
       " ('throughout', 'the'),\n",
       " ('the', 'entire'),\n",
       " ('entire', 'film'),\n",
       " ('film', ','),\n",
       " (',', 'and'),\n",
       " ('and', 'actually'),\n",
       " ('actually', 'has'),\n",
       " ('has', 'you'),\n",
       " ('you', 'feeling'),\n",
       " ('feeling', 'her'),\n",
       " ('her', 'character'),\n",
       " ('character', \"'\"),\n",
       " (\"'\", 's'),\n",
       " ('s', 'unraveling'),\n",
       " ('unraveling', '.'),\n",
       " ('.', 'SE'),\n",
       " ('SS', 'overall'),\n",
       " ('overall', ','),\n",
       " (',', 'the'),\n",
       " ('the', 'film'),\n",
       " ('film', 'doesn'),\n",
       " ('doesn', \"'\"),\n",
       " (\"'\", 't'),\n",
       " ('t', 'stick'),\n",
       " ('stick', 'because'),\n",
       " ('because', 'it'),\n",
       " ('it', 'doesn'),\n",
       " ('doesn', \"'\"),\n",
       " (\"'\", 't'),\n",
       " ('t', 'entertain'),\n",
       " ('entertain', ','),\n",
       " (',', 'it'),\n",
       " ('it', \"'\"),\n",
       " (\"'\", 's'),\n",
       " ('s', 'confusing'),\n",
       " ('confusing', ','),\n",
       " (',', 'it'),\n",
       " ('it', 'rarely'),\n",
       " ('rarely', 'excites'),\n",
       " ('excites', 'and'),\n",
       " ('and', 'it'),\n",
       " ('it', 'feels'),\n",
       " ('feels', 'pretty'),\n",
       " ('pretty', 'redundant'),\n",
       " ('redundant', 'for'),\n",
       " ('for', 'most'),\n",
       " ('most', 'of'),\n",
       " ('of', 'its'),\n",
       " ('its', 'runtime'),\n",
       " ('runtime', ','),\n",
       " (',', 'despite'),\n",
       " ('despite', 'a'),\n",
       " ('a', 'pretty'),\n",
       " ('pretty', 'cool'),\n",
       " ('cool', 'ending'),\n",
       " ('ending', 'and'),\n",
       " ('and', 'explanation'),\n",
       " ('explanation', 'to'),\n",
       " ('to', 'all'),\n",
       " ('all', 'of'),\n",
       " ('of', 'the'),\n",
       " ('the', 'craziness'),\n",
       " ('craziness', 'that'),\n",
       " ('that', 'came'),\n",
       " ('came', 'before'),\n",
       " ('before', 'it'),\n",
       " ('it', '.'),\n",
       " ('.', 'SE'),\n",
       " ('SS', 'oh'),\n",
       " ('oh', ','),\n",
       " (',', 'and'),\n",
       " ('and', 'by'),\n",
       " ('by', 'the'),\n",
       " ('the', 'way'),\n",
       " ('way', ','),\n",
       " (',', 'this'),\n",
       " ('this', 'is'),\n",
       " ('is', 'not'),\n",
       " ('not', 'a'),\n",
       " ('a', 'horror'),\n",
       " ('horror', 'or'),\n",
       " ('or', 'teen'),\n",
       " ('teen', 'slasher'),\n",
       " ('slasher', 'flick'),\n",
       " ('flick', '.'),\n",
       " ('.', 'SE'),\n",
       " ('SS', '.'),\n",
       " ('.', 'SE'),\n",
       " ('SS', '.'),\n",
       " ('.', 'SE'),\n",
       " ('SS', 'it'),\n",
       " ('it', \"'\"),\n",
       " (\"'\", 's'),\n",
       " ('s', 'just'),\n",
       " ('just', 'packaged'),\n",
       " ('packaged', 'to'),\n",
       " ('to', 'look'),\n",
       " ('look', 'that'),\n",
       " ('that', 'way'),\n",
       " ('way', 'because'),\n",
       " ('because', 'someone'),\n",
       " ('someone', 'is'),\n",
       " ('is', 'apparently'),\n",
       " ('apparently', 'assuming'),\n",
       " ('assuming', 'that'),\n",
       " ('that', 'the'),\n",
       " ('the', 'genre'),\n",
       " ('genre', 'is'),\n",
       " ('is', 'still'),\n",
       " ('still', 'hot'),\n",
       " ('hot', 'with'),\n",
       " ('with', 'the'),\n",
       " ('the', 'kids'),\n",
       " ('kids', '.'),\n",
       " ('.', 'SE'),\n",
       " ('SS', 'it'),\n",
       " ('it', 'also'),\n",
       " ('also', 'wrapped'),\n",
       " ('wrapped', 'production'),\n",
       " ('production', 'two'),\n",
       " ('two', 'years'),\n",
       " ('years', 'ago'),\n",
       " ('ago', 'and'),\n",
       " ('and', 'has'),\n",
       " ('has', 'been'),\n",
       " ('been', 'sitting'),\n",
       " ('sitting', 'on'),\n",
       " ('on', 'the'),\n",
       " ('the', 'shelves'),\n",
       " ('shelves', 'ever'),\n",
       " ('ever', 'since'),\n",
       " ('since', '.'),\n",
       " ('.', 'SE'),\n",
       " ('SS', 'whatever'),\n",
       " ('whatever', '.'),\n",
       " ('.', 'SE'),\n",
       " ('SS', '.'),\n",
       " ('.', 'SE'),\n",
       " ('SS', '.'),\n",
       " ('.', 'SE'),\n",
       " ('SS', 'skip'),\n",
       " ('skip', 'it'),\n",
       " ('it', '!'),\n",
       " ('!', 'SE'),\n",
       " ('SS', 'where'),\n",
       " ('where', \"'\"),\n",
       " (\"'\", 's'),\n",
       " ('s', 'joblo'),\n",
       " ('joblo', 'coming'),\n",
       " ('coming', 'from'),\n",
       " ('from', '?'),\n",
       " ('?', 'SE'),\n",
       " ('SS', 'a'),\n",
       " ('a', 'nightmare'),\n",
       " ('nightmare', 'of'),\n",
       " ('of', 'elm'),\n",
       " ('elm', 'street'),\n",
       " ('street', '3'),\n",
       " ('3', '('),\n",
       " ('(', '7'),\n",
       " ('7', '/'),\n",
       " ('/', '10'),\n",
       " ('10', ')'),\n",
       " (')', '-'),\n",
       " ('-', 'blair'),\n",
       " ('blair', 'witch'),\n",
       " ('witch', '2'),\n",
       " ('2', '('),\n",
       " ('(', '7'),\n",
       " ('7', '/'),\n",
       " ('/', '10'),\n",
       " ('10', ')'),\n",
       " (')', '-'),\n",
       " ('-', 'the'),\n",
       " ('the', 'crow'),\n",
       " ('crow', '('),\n",
       " ('(', '9'),\n",
       " ('9', '/'),\n",
       " ('/', '10'),\n",
       " ('10', ')'),\n",
       " (')', '-'),\n",
       " ('-', 'the'),\n",
       " ('the', 'crow'),\n",
       " ('crow', ':'),\n",
       " (':', 'salvation'),\n",
       " ('salvation', '('),\n",
       " ('(', '4'),\n",
       " ('4', '/'),\n",
       " ('/', '10'),\n",
       " ('10', ')'),\n",
       " (')', '-'),\n",
       " ('-', 'lost'),\n",
       " ('lost', 'highway'),\n",
       " ('highway', '('),\n",
       " ('(', '10'),\n",
       " ('10', '/'),\n",
       " ('/', '10'),\n",
       " ('10', ')'),\n",
       " (')', '-'),\n",
       " ('-', 'memento'),\n",
       " ('memento', '('),\n",
       " ('(', '10'),\n",
       " ('10', '/'),\n",
       " ('/', '10'),\n",
       " ('10', ')'),\n",
       " (')', '-'),\n",
       " ('-', 'the'),\n",
       " ('the', 'others'),\n",
       " ('others', '('),\n",
       " ('(', '9'),\n",
       " ('9', '/'),\n",
       " ('/', '10'),\n",
       " ('10', ')'),\n",
       " (')', '-'),\n",
       " ('-', 'stir'),\n",
       " ('stir', 'of'),\n",
       " ('of', 'echoes'),\n",
       " ('echoes', '('),\n",
       " ('(', '8'),\n",
       " ('8', '/'),\n",
       " ('/', '10'),\n",
       " ('10', ')'),\n",
       " (')', 'SE'),\n",
       " ('SS', 'the'),\n",
       " ('the', 'happy'),\n",
       " ('happy', 'bastard'),\n",
       " ('bastard', \"'\"),\n",
       " (\"'\", 's'),\n",
       " ('s', 'quick'),\n",
       " ('quick', 'movie'),\n",
       " ('movie', 'review'),\n",
       " ('review', 'damn'),\n",
       " ('damn', 'that'),\n",
       " ('that', 'y2k'),\n",
       " ('y2k', 'bug'),\n",
       " ('bug', '.'),\n",
       " ('.', 'SE'),\n",
       " ('SS', 'it'),\n",
       " ('it', \"'\"),\n",
       " (\"'\", 's'),\n",
       " ('s', 'got'),\n",
       " ('got', 'a'),\n",
       " ('a', 'head'),\n",
       " ('head', 'start'),\n",
       " ('start', 'in'),\n",
       " ('in', 'this'),\n",
       " ('this', 'movie'),\n",
       " ('movie', 'starring'),\n",
       " ('starring', 'jamie'),\n",
       " ('jamie', 'lee'),\n",
       " ('lee', 'curtis'),\n",
       " ('curtis', 'and'),\n",
       " ('and', 'another'),\n",
       " ('another', 'baldwin'),\n",
       " ('baldwin', 'brother'),\n",
       " ('brother', '('),\n",
       " ('(', 'william'),\n",
       " ('william', 'this'),\n",
       " ('this', 'time'),\n",
       " ('time', ')'),\n",
       " (')', 'in'),\n",
       " ('in', 'a'),\n",
       " ('a', 'story'),\n",
       " ('story', 'regarding'),\n",
       " ('regarding', 'a'),\n",
       " ('a', 'crew'),\n",
       " ('crew', 'of'),\n",
       " ('of', 'a'),\n",
       " ('a', 'tugboat'),\n",
       " ('tugboat', 'that'),\n",
       " ('that', 'comes'),\n",
       " ('comes', 'across'),\n",
       " ('across', 'a'),\n",
       " ('a', 'deserted'),\n",
       " ('deserted', 'russian'),\n",
       " ('russian', 'tech'),\n",
       " ('tech', 'ship'),\n",
       " ('ship', 'that'),\n",
       " ('that', 'has'),\n",
       " ('has', 'a'),\n",
       " ('a', 'strangeness'),\n",
       " ('strangeness', 'to'),\n",
       " ('to', 'it'),\n",
       " ('it', 'when'),\n",
       " ('when', 'they'),\n",
       " ('they', 'kick'),\n",
       " ('kick', 'the'),\n",
       " ('the', 'power'),\n",
       " ('power', 'back'),\n",
       " ('back', 'on'),\n",
       " ('on', '.'),\n",
       " ('.', 'SE'),\n",
       " ('SS', 'little'),\n",
       " ('little', 'do'),\n",
       " ('do', 'they'),\n",
       " ('they', 'know'),\n",
       " ('know', 'the'),\n",
       " ('the', 'power'),\n",
       " ('power', 'within'),\n",
       " ('within', '.'),\n",
       " ...]"
      ]
     },
     "execution_count": 10,
     "metadata": {},
     "output_type": "execute_result"
    }
   ],
   "source": [
    "from nltk.corpus import movie_reviews\n",
    "data_l = []\n",
    "n=0\n",
    "for i in movie_reviews.sents():\n",
    "    bg2 = ngrams(i,2,pad_left=True,pad_right=True,left_pad_symbol=\"SS\",right_pad_symbol=\"SE\")\n",
    "    data_l +=[t for t in bg2]\n",
    "    n+=1\n",
    "data_l"
   ]
  },
  {
   "cell_type": "code",
   "execution_count": 11,
   "id": "2b7e5b10",
   "metadata": {
    "scrolled": true
   },
   "outputs": [
    {
     "data": {
      "text/plain": [
       "1655352"
      ]
     },
     "execution_count": 11,
     "metadata": {},
     "output_type": "execute_result"
    }
   ],
   "source": [
    "len(data_l)"
   ]
  },
  {
   "cell_type": "code",
   "execution_count": 12,
   "id": "e1a294a7",
   "metadata": {},
   "outputs": [
    {
     "data": {
      "text/plain": [
       "71532"
      ]
     },
     "execution_count": 12,
     "metadata": {},
     "output_type": "execute_result"
    }
   ],
   "source": [
    "len(movie_reviews.sents()) #문장 개수"
   ]
  },
  {
   "cell_type": "code",
   "execution_count": 13,
   "id": "8b402f8d",
   "metadata": {},
   "outputs": [
    {
     "data": {
      "text/plain": [
       "71532"
      ]
     },
     "execution_count": 13,
     "metadata": {},
     "output_type": "execute_result"
    }
   ],
   "source": [
    "n #시작단어의 개수"
   ]
  },
  {
   "cell_type": "code",
   "execution_count": 14,
   "id": "7750aed2",
   "metadata": {},
   "outputs": [],
   "source": [
    "cfd = ConditionalFreqDist(data_l)"
   ]
  },
  {
   "cell_type": "code",
   "execution_count": 15,
   "id": "6b13d33b",
   "metadata": {},
   "outputs": [
    {
     "data": {
      "text/plain": [
       "[('the', 8071),\n",
       " ('.', 3173),\n",
       " ('it', 3136),\n",
       " ('i', 2471),\n",
       " ('but', 1814),\n",
       " ('and', 1735),\n",
       " ('he', 1672),\n",
       " ('in', 1659),\n",
       " ('this', 1651),\n",
       " ('there', 1298)]"
      ]
     },
     "execution_count": 15,
     "metadata": {},
     "output_type": "execute_result"
    }
   ],
   "source": [
    "cfd[\"SS\"].most_common(10)"
   ]
  },
  {
   "cell_type": "code",
   "execution_count": 16,
   "id": "2be70a96",
   "metadata": {
    "scrolled": false
   },
   "outputs": [
    {
     "data": {
      "text/plain": [
       "[('film', 4542),\n",
       " ('movie', 2147),\n",
       " ('story', 985),\n",
       " ('most', 945),\n",
       " ('first', 902),\n",
       " ('same', 774),\n",
       " ('only', 665),\n",
       " ('end', 664),\n",
       " ('best', 642),\n",
       " ('audience', 620)]"
      ]
     },
     "execution_count": 16,
     "metadata": {},
     "output_type": "execute_result"
    }
   ],
   "source": [
    "cfd[\"the\"].most_common(10)"
   ]
  },
  {
   "cell_type": "code",
   "execution_count": 17,
   "id": "8751871d",
   "metadata": {},
   "outputs": [
    {
     "data": {
      "text/plain": [
       "[('SE', 63404), ('\"', 1854), (')', 535), (\"'\", 70), (']', 10), (\"''\", 3)]"
      ]
     },
     "execution_count": 17,
     "metadata": {},
     "output_type": "execute_result"
    }
   ],
   "source": [
    "cfd[\".\"].most_common(10)"
   ]
  },
  {
   "cell_type": "code",
   "execution_count": 18,
   "id": "e23e0200",
   "metadata": {},
   "outputs": [],
   "source": [
    "from nltk.probability import ConditionalProbDist, MLEProbDist # ConditionalProbDist 조건부확률\n",
    "cpd = ConditionalProbDist(cfd,MLEProbDist)"
   ]
  },
  {
   "cell_type": "code",
   "execution_count": 19,
   "id": "df6b91ae",
   "metadata": {},
   "outputs": [
    {
     "data": {
      "text/plain": [
       "0.0280547243528597"
      ]
     },
     "execution_count": 19,
     "metadata": {},
     "output_type": "execute_result"
    }
   ],
   "source": [
    "cpd['the'].prob('movie') #the 다음에 movie가 등장할 확률"
   ]
  },
  {
   "cell_type": "code",
   "execution_count": 20,
   "id": "d5ced3d9",
   "metadata": {},
   "outputs": [
    {
     "data": {
      "text/plain": [
       "0.13897071564720154"
      ]
     },
     "execution_count": 20,
     "metadata": {},
     "output_type": "execute_result"
    }
   ],
   "source": [
    "cpd['movie'].prob('.')"
   ]
  },
  {
   "cell_type": "code",
   "execution_count": 21,
   "id": "83adb2d2",
   "metadata": {},
   "outputs": [
    {
     "data": {
      "text/plain": [
       "0.0"
      ]
     },
     "execution_count": 21,
     "metadata": {},
     "output_type": "execute_result"
    }
   ],
   "source": [
    "cpd['.'].prob('the')"
   ]
  },
  {
   "cell_type": "code",
   "execution_count": 22,
   "id": "cadb698b",
   "metadata": {},
   "outputs": [],
   "source": [
    "import numpy as np\n",
    "def s_sc_f(x): #바이그램 언어 모형의 확률 연산 함수\n",
    "    p = 0.0 #확률\n",
    "    for i in range(len(x)-1):\n",
    "        c = x[i]\n",
    "        w = x[i+1]\n",
    "        p+=np.log(cpd[c].prob(w) + np.finfo(float).eps)\n",
    "    return np.exp(p)"
   ]
  },
  {
   "cell_type": "code",
   "execution_count": 23,
   "id": "51390af2",
   "metadata": {},
   "outputs": [
    {
     "data": {
      "text/plain": [
       "0.003898785120601922"
      ]
     },
     "execution_count": 23,
     "metadata": {},
     "output_type": "execute_result"
    }
   ],
   "source": [
    "test_data = ['the','movie','.'] #실현가능문장\n",
    "s_sc_f(test_data)"
   ]
  },
  {
   "cell_type": "code",
   "execution_count": 24,
   "id": "5ee83fc3",
   "metadata": {},
   "outputs": [
    {
     "data": {
      "text/plain": [
       "3.085769765203191e-17"
      ]
     },
     "execution_count": 24,
     "metadata": {},
     "output_type": "execute_result"
    }
   ],
   "source": [
    "test_data2 = ['movie','.','the'] #실현불가능문장\n",
    "s_sc_f(test_data2)"
   ]
  },
  {
   "cell_type": "code",
   "execution_count": 25,
   "id": "e573ce15",
   "metadata": {},
   "outputs": [
    {
     "data": {
      "text/plain": [
       "'to'"
      ]
     },
     "execution_count": 25,
     "metadata": {},
     "output_type": "execute_result"
    }
   ],
   "source": [
    "cpd[\"SS\"].generate() #SS다음 시작할 단어 임의로 생성"
   ]
  },
  {
   "cell_type": "code",
   "execution_count": 26,
   "id": "038a8271",
   "metadata": {},
   "outputs": [
    {
     "data": {
      "text/plain": [
       "'she'"
      ]
     },
     "execution_count": 26,
     "metadata": {},
     "output_type": "execute_result"
    }
   ],
   "source": [
    "import random\n",
    "random.seed(10)\n",
    "cpd[\"SS\"].generate() #시드 고정으로 단어 고정"
   ]
  },
  {
   "cell_type": "code",
   "execution_count": 27,
   "id": "97e10ede",
   "metadata": {},
   "outputs": [
    {
     "data": {
      "text/plain": [
       "'wasn'"
      ]
     },
     "execution_count": 27,
     "metadata": {},
     "output_type": "execute_result"
    }
   ],
   "source": [
    "import random\n",
    "random.seed(10)\n",
    "cpd[\"she\"].generate()"
   ]
  },
  {
   "cell_type": "code",
   "execution_count": 28,
   "id": "d5a3eb38",
   "metadata": {
    "scrolled": true
   },
   "outputs": [
    {
     "data": {
      "text/plain": [
       "str"
      ]
     },
     "execution_count": 28,
     "metadata": {},
     "output_type": "execute_result"
    }
   ],
   "source": [
    "import random\n",
    "random.seed(10)\n",
    "type(cpd[\"and\"].generate())"
   ]
  },
  {
   "cell_type": "markdown",
   "id": "836e5f25",
   "metadata": {},
   "source": [
    "data = \"data+=문자열\".join([])"
   ]
  },
  {
   "cell_type": "markdown",
   "id": "6fe2e8e5",
   "metadata": {},
   "source": [
    "문자의 생성(조건부 확률을 기반한 바이그램 언어 모델)"
   ]
  },
  {
   "cell_type": "code",
   "execution_count": 29,
   "id": "933d540d",
   "metadata": {},
   "outputs": [],
   "source": [
    "# data = ''\n",
    "# data += 문자열\n",
    "# str.join()"
   ]
  },
  {
   "cell_type": "code",
   "execution_count": 30,
   "id": "244b9764",
   "metadata": {},
   "outputs": [
    {
     "data": {
      "text/plain": [
       "\"she wasn ' s first part of these guys catch a hard 2 is . \""
      ]
     },
     "execution_count": 30,
     "metadata": {},
     "output_type": "execute_result"
    }
   ],
   "source": [
    "st='SS'\n",
    "all_str = []\n",
    "while True:\n",
    "    import random\n",
    "    random.seed(10)\n",
    "    st = cpd[st].generate()\n",
    "    all_str.append(st+' ')\n",
    "    if st =='SE':\n",
    "        all_str.pop()\n",
    "        break\n",
    "''.join(all_str)"
   ]
  },
  {
   "cell_type": "markdown",
   "id": "edb274f0",
   "metadata": {},
   "source": [
    "# 정리"
   ]
  },
  {
   "cell_type": "code",
   "execution_count": 31,
   "id": "5909aa5f",
   "metadata": {},
   "outputs": [],
   "source": [
    "from nltk.util import ngrams #앞단어와 뒷단어를 갖고있는 data 생성용\n",
    "from nltk import ConditionalFreqDist #문맥별 단어 빈도수 측정 클래스\n",
    "from nltk.probability import ConditionalProbDist #조건부 확률 추정 클래스\n",
    "from nltk.probability import MLEProbDist #최대 우도 추정값 클래스\n",
    "#.generate() 샘플 추출 (임의의 값을 추출)"
   ]
  },
  {
   "cell_type": "markdown",
   "id": "b178d5d5",
   "metadata": {},
   "source": [
    "1. 데이터 수집"
   ]
  },
  {
   "cell_type": "code",
   "execution_count": 32,
   "id": "77578d68",
   "metadata": {},
   "outputs": [],
   "source": [
    "from nltk.corpus import movie_reviews\n",
    "data = movie_reviews.sents() #단어별 토큰화 된 문장들"
   ]
  },
  {
   "cell_type": "markdown",
   "id": "4b3910c6",
   "metadata": {},
   "source": [
    "2. 데이터 전처리\n",
    "    - 토큰화\n",
    "    - 정형화\n",
    "    - 정규화"
   ]
  },
  {
   "cell_type": "code",
   "execution_count": 33,
   "id": "9f408345",
   "metadata": {},
   "outputs": [],
   "source": [
    "data_l = [] #처리된 단어 토큰 조합\n",
    "for i in data:\n",
    "    bg = ngrams(i,2,pad_left=True,pad_right=True,left_pad_symbol=\"SS\",right_pad_symbol=\"SE\")\n",
    "    data_l +=[t for t in bg]"
   ]
  },
  {
   "cell_type": "markdown",
   "id": "c2102c45",
   "metadata": {},
   "source": [
    "3. 모델 학습"
   ]
  },
  {
   "cell_type": "code",
   "execution_count": 34,
   "id": "26f3f559",
   "metadata": {},
   "outputs": [],
   "source": [
    "cfd = ConditionalFreqDist(data_l)\n",
    "cpd = ConditionalProbDist(cfd,MLEProbDist)"
   ]
  },
  {
   "cell_type": "markdown",
   "id": "f6635c13",
   "metadata": {},
   "source": [
    "4. 검증 (생략)"
   ]
  },
  {
   "cell_type": "markdown",
   "id": "1844b8f0",
   "metadata": {},
   "source": [
    "최종 동작-(data별 추가적 처리가 필요) <자동 랜덤 문장 생성기>"
   ]
  },
  {
   "cell_type": "code",
   "execution_count": 35,
   "id": "a99365f0",
   "metadata": {},
   "outputs": [],
   "source": [
    "st='SS' #문장의 시작\n",
    "all_str = []\n",
    "import random\n",
    "random.seed(10) #(seed고정으로 인한 data 고정)\n",
    "while True: #SS<문장>SE\n",
    "    st = cpd[st].generate() #임의로 샘플 추출 ex) i ->[am, a, data, SE]\n",
    "    all_str.append(st+' ')\n",
    "    if st =='SE': #문장의 종료\n",
    "        all_str.pop()\n",
    "        break\n",
    "생성된data = ''.join(all_str) #리스트의 내용을 이용하여 하나의 문자열로 정리"
   ]
  },
  {
   "cell_type": "code",
   "execution_count": 36,
   "id": "5967ab19",
   "metadata": {},
   "outputs": [
    {
     "data": {
      "text/plain": [
       "'she and fine effect ; frankly , and doing his son becomes shockingly lazy shortcut to her mother of \" story \" '"
      ]
     },
     "execution_count": 36,
     "metadata": {},
     "output_type": "execute_result"
    }
   ],
   "source": [
    "생성된data"
   ]
  }
 ],
 "metadata": {
  "kernelspec": {
   "display_name": "Python 3 (ipykernel)",
   "language": "python",
   "name": "python3"
  },
  "language_info": {
   "codemirror_mode": {
    "name": "ipython",
    "version": 3
   },
   "file_extension": ".py",
   "mimetype": "text/x-python",
   "name": "python",
   "nbconvert_exporter": "python",
   "pygments_lexer": "ipython3",
   "version": "3.9.7"
  }
 },
 "nbformat": 4,
 "nbformat_minor": 5
}
