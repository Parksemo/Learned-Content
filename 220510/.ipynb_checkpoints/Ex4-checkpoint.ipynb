{
 "cells": [
  {
   "cell_type": "markdown",
   "id": "14a0e40c",
   "metadata": {},
   "source": [
    "TF-IDF"
   ]
  },
  {
   "cell_type": "code",
   "execution_count": 1,
   "id": "35c15475",
   "metadata": {},
   "outputs": [],
   "source": [
    "text = [\n",
    "    '공부 하고 싶다',\n",
    "    '공부 하기 싫다',\n",
    "    '공부 내일 할까',\n",
    "    '공부 하고 놀기',\n",
    "    '놀기 말고 놀기'\n",
    "]\n",
    "from math import log\n",
    "import pandas as pd"
   ]
  },
  {
   "cell_type": "code",
   "execution_count": 2,
   "id": "db7a073f",
   "metadata": {},
   "outputs": [
    {
     "data": {
      "text/plain": [
       "['놀기', '싶다', '하기', '내일', '싫다', '공부', '할까', '하고', '말고']"
      ]
     },
     "execution_count": 2,
     "metadata": {},
     "output_type": "execute_result"
    }
   ],
   "source": [
    "voc = list(set(단어 for 문장 in text for 단어 in 문장.split()))\n",
    "voc"
   ]
  },
  {
   "cell_type": "code",
   "execution_count": 3,
   "id": "b43c47da",
   "metadata": {},
   "outputs": [
    {
     "data": {
      "text/plain": [
       "5"
      ]
     },
     "execution_count": 3,
     "metadata": {},
     "output_type": "execute_result"
    }
   ],
   "source": [
    "n = len(text)\n",
    "n"
   ]
  },
  {
   "cell_type": "code",
   "execution_count": 4,
   "id": "e2f2ee76",
   "metadata": {},
   "outputs": [],
   "source": [
    "def tf(t,d):\n",
    "    return d.count(t)\n",
    "\n",
    "def idf(t):\n",
    "    df = 0\n",
    "    for 문장 in text:\n",
    "        df += t in 문장\n",
    "    return log(n/(df+1))\n",
    "               \n",
    "def tfidf(t,d):\n",
    "    return tf(t,d)*idf(t)"
   ]
  },
  {
   "cell_type": "markdown",
   "id": "e236d4a2",
   "metadata": {},
   "source": [
    "DTM"
   ]
  },
  {
   "cell_type": "code",
   "execution_count": 5,
   "id": "4c5c3179",
   "metadata": {},
   "outputs": [
    {
     "data": {
      "text/html": [
       "<div>\n",
       "<style scoped>\n",
       "    .dataframe tbody tr th:only-of-type {\n",
       "        vertical-align: middle;\n",
       "    }\n",
       "\n",
       "    .dataframe tbody tr th {\n",
       "        vertical-align: top;\n",
       "    }\n",
       "\n",
       "    .dataframe thead th {\n",
       "        text-align: right;\n",
       "    }\n",
       "</style>\n",
       "<table border=\"1\" class=\"dataframe\">\n",
       "  <thead>\n",
       "    <tr style=\"text-align: right;\">\n",
       "      <th></th>\n",
       "      <th>놀기</th>\n",
       "      <th>싶다</th>\n",
       "      <th>하기</th>\n",
       "      <th>내일</th>\n",
       "      <th>싫다</th>\n",
       "      <th>공부</th>\n",
       "      <th>할까</th>\n",
       "      <th>하고</th>\n",
       "      <th>말고</th>\n",
       "    </tr>\n",
       "  </thead>\n",
       "  <tbody>\n",
       "    <tr>\n",
       "      <th>0</th>\n",
       "      <td>0</td>\n",
       "      <td>1</td>\n",
       "      <td>0</td>\n",
       "      <td>0</td>\n",
       "      <td>0</td>\n",
       "      <td>1</td>\n",
       "      <td>0</td>\n",
       "      <td>1</td>\n",
       "      <td>0</td>\n",
       "    </tr>\n",
       "    <tr>\n",
       "      <th>1</th>\n",
       "      <td>0</td>\n",
       "      <td>0</td>\n",
       "      <td>1</td>\n",
       "      <td>0</td>\n",
       "      <td>1</td>\n",
       "      <td>1</td>\n",
       "      <td>0</td>\n",
       "      <td>0</td>\n",
       "      <td>0</td>\n",
       "    </tr>\n",
       "    <tr>\n",
       "      <th>2</th>\n",
       "      <td>0</td>\n",
       "      <td>0</td>\n",
       "      <td>0</td>\n",
       "      <td>1</td>\n",
       "      <td>0</td>\n",
       "      <td>1</td>\n",
       "      <td>1</td>\n",
       "      <td>0</td>\n",
       "      <td>0</td>\n",
       "    </tr>\n",
       "    <tr>\n",
       "      <th>3</th>\n",
       "      <td>1</td>\n",
       "      <td>0</td>\n",
       "      <td>0</td>\n",
       "      <td>0</td>\n",
       "      <td>0</td>\n",
       "      <td>1</td>\n",
       "      <td>0</td>\n",
       "      <td>1</td>\n",
       "      <td>0</td>\n",
       "    </tr>\n",
       "    <tr>\n",
       "      <th>4</th>\n",
       "      <td>2</td>\n",
       "      <td>0</td>\n",
       "      <td>0</td>\n",
       "      <td>0</td>\n",
       "      <td>0</td>\n",
       "      <td>0</td>\n",
       "      <td>0</td>\n",
       "      <td>0</td>\n",
       "      <td>1</td>\n",
       "    </tr>\n",
       "  </tbody>\n",
       "</table>\n",
       "</div>"
      ],
      "text/plain": [
       "   놀기  싶다  하기  내일  싫다  공부  할까  하고  말고\n",
       "0   0   1   0   0   0   1   0   1   0\n",
       "1   0   0   1   0   1   1   0   0   0\n",
       "2   0   0   0   1   0   1   1   0   0\n",
       "3   1   0   0   0   0   1   0   1   0\n",
       "4   2   0   0   0   0   0   0   0   1"
      ]
     },
     "execution_count": 5,
     "metadata": {},
     "output_type": "execute_result"
    }
   ],
   "source": [
    "t_l = []\n",
    "for i in range(n):\n",
    "    t_l.append([])\n",
    "    d=text[i]\n",
    "    for j in range(len(voc)):\n",
    "        t =voc[j]\n",
    "        t_l[-1].append(tf(t,d)) #t_l[-1] : t_l리스트의 마지막 공간\n",
    "tf_=pd.DataFrame(t_l,columns=voc)\n",
    "tf_"
   ]
  },
  {
   "cell_type": "code",
   "execution_count": 6,
   "id": "9c4f32c4",
   "metadata": {},
   "outputs": [
    {
     "data": {
      "text/html": [
       "<div>\n",
       "<style scoped>\n",
       "    .dataframe tbody tr th:only-of-type {\n",
       "        vertical-align: middle;\n",
       "    }\n",
       "\n",
       "    .dataframe tbody tr th {\n",
       "        vertical-align: top;\n",
       "    }\n",
       "\n",
       "    .dataframe thead th {\n",
       "        text-align: right;\n",
       "    }\n",
       "</style>\n",
       "<table border=\"1\" class=\"dataframe\">\n",
       "  <thead>\n",
       "    <tr style=\"text-align: right;\">\n",
       "      <th></th>\n",
       "      <th>IDF</th>\n",
       "    </tr>\n",
       "  </thead>\n",
       "  <tbody>\n",
       "    <tr>\n",
       "      <th>놀기</th>\n",
       "      <td>0.510826</td>\n",
       "    </tr>\n",
       "    <tr>\n",
       "      <th>싶다</th>\n",
       "      <td>0.916291</td>\n",
       "    </tr>\n",
       "    <tr>\n",
       "      <th>하기</th>\n",
       "      <td>0.916291</td>\n",
       "    </tr>\n",
       "    <tr>\n",
       "      <th>내일</th>\n",
       "      <td>0.916291</td>\n",
       "    </tr>\n",
       "    <tr>\n",
       "      <th>싫다</th>\n",
       "      <td>0.916291</td>\n",
       "    </tr>\n",
       "    <tr>\n",
       "      <th>공부</th>\n",
       "      <td>0.000000</td>\n",
       "    </tr>\n",
       "    <tr>\n",
       "      <th>할까</th>\n",
       "      <td>0.916291</td>\n",
       "    </tr>\n",
       "    <tr>\n",
       "      <th>하고</th>\n",
       "      <td>0.510826</td>\n",
       "    </tr>\n",
       "    <tr>\n",
       "      <th>말고</th>\n",
       "      <td>0.916291</td>\n",
       "    </tr>\n",
       "  </tbody>\n",
       "</table>\n",
       "</div>"
      ],
      "text/plain": [
       "         IDF\n",
       "놀기  0.510826\n",
       "싶다  0.916291\n",
       "하기  0.916291\n",
       "내일  0.916291\n",
       "싫다  0.916291\n",
       "공부  0.000000\n",
       "할까  0.916291\n",
       "하고  0.510826\n",
       "말고  0.916291"
      ]
     },
     "execution_count": 6,
     "metadata": {},
     "output_type": "execute_result"
    }
   ],
   "source": [
    "idf_l = []\n",
    "for i in range(len(voc)):\n",
    "    t = voc[i]\n",
    "    idf_l.append(idf(t))\n",
    "idf_= pd.DataFrame(idf_l,index = voc, columns=['IDF'])\n",
    "idf_"
   ]
  },
  {
   "cell_type": "code",
   "execution_count": 7,
   "id": "f4627225",
   "metadata": {
    "scrolled": false
   },
   "outputs": [
    {
     "data": {
      "text/html": [
       "<div>\n",
       "<style scoped>\n",
       "    .dataframe tbody tr th:only-of-type {\n",
       "        vertical-align: middle;\n",
       "    }\n",
       "\n",
       "    .dataframe tbody tr th {\n",
       "        vertical-align: top;\n",
       "    }\n",
       "\n",
       "    .dataframe thead th {\n",
       "        text-align: right;\n",
       "    }\n",
       "</style>\n",
       "<table border=\"1\" class=\"dataframe\">\n",
       "  <thead>\n",
       "    <tr style=\"text-align: right;\">\n",
       "      <th></th>\n",
       "      <th>놀기</th>\n",
       "      <th>싶다</th>\n",
       "      <th>하기</th>\n",
       "      <th>내일</th>\n",
       "      <th>싫다</th>\n",
       "      <th>공부</th>\n",
       "      <th>할까</th>\n",
       "      <th>하고</th>\n",
       "      <th>말고</th>\n",
       "    </tr>\n",
       "  </thead>\n",
       "  <tbody>\n",
       "    <tr>\n",
       "      <th>0</th>\n",
       "      <td>0.000000</td>\n",
       "      <td>0.916291</td>\n",
       "      <td>0.000000</td>\n",
       "      <td>0.000000</td>\n",
       "      <td>0.000000</td>\n",
       "      <td>0.0</td>\n",
       "      <td>0.000000</td>\n",
       "      <td>0.510826</td>\n",
       "      <td>0.000000</td>\n",
       "    </tr>\n",
       "    <tr>\n",
       "      <th>1</th>\n",
       "      <td>0.000000</td>\n",
       "      <td>0.000000</td>\n",
       "      <td>0.916291</td>\n",
       "      <td>0.000000</td>\n",
       "      <td>0.916291</td>\n",
       "      <td>0.0</td>\n",
       "      <td>0.000000</td>\n",
       "      <td>0.000000</td>\n",
       "      <td>0.000000</td>\n",
       "    </tr>\n",
       "    <tr>\n",
       "      <th>2</th>\n",
       "      <td>0.000000</td>\n",
       "      <td>0.000000</td>\n",
       "      <td>0.000000</td>\n",
       "      <td>0.916291</td>\n",
       "      <td>0.000000</td>\n",
       "      <td>0.0</td>\n",
       "      <td>0.916291</td>\n",
       "      <td>0.000000</td>\n",
       "      <td>0.000000</td>\n",
       "    </tr>\n",
       "    <tr>\n",
       "      <th>3</th>\n",
       "      <td>0.510826</td>\n",
       "      <td>0.000000</td>\n",
       "      <td>0.000000</td>\n",
       "      <td>0.000000</td>\n",
       "      <td>0.000000</td>\n",
       "      <td>0.0</td>\n",
       "      <td>0.000000</td>\n",
       "      <td>0.510826</td>\n",
       "      <td>0.000000</td>\n",
       "    </tr>\n",
       "    <tr>\n",
       "      <th>4</th>\n",
       "      <td>1.021651</td>\n",
       "      <td>0.000000</td>\n",
       "      <td>0.000000</td>\n",
       "      <td>0.000000</td>\n",
       "      <td>0.000000</td>\n",
       "      <td>0.0</td>\n",
       "      <td>0.000000</td>\n",
       "      <td>0.000000</td>\n",
       "      <td>0.916291</td>\n",
       "    </tr>\n",
       "  </tbody>\n",
       "</table>\n",
       "</div>"
      ],
      "text/plain": [
       "         놀기        싶다        하기        내일        싫다   공부        할까        하고  \\\n",
       "0  0.000000  0.916291  0.000000  0.000000  0.000000  0.0  0.000000  0.510826   \n",
       "1  0.000000  0.000000  0.916291  0.000000  0.916291  0.0  0.000000  0.000000   \n",
       "2  0.000000  0.000000  0.000000  0.916291  0.000000  0.0  0.916291  0.000000   \n",
       "3  0.510826  0.000000  0.000000  0.000000  0.000000  0.0  0.000000  0.510826   \n",
       "4  1.021651  0.000000  0.000000  0.000000  0.000000  0.0  0.000000  0.000000   \n",
       "\n",
       "         말고  \n",
       "0  0.000000  \n",
       "1  0.000000  \n",
       "2  0.000000  \n",
       "3  0.000000  \n",
       "4  0.916291  "
      ]
     },
     "execution_count": 7,
     "metadata": {},
     "output_type": "execute_result"
    }
   ],
   "source": [
    "tf_idf_l = []\n",
    "for i in range(n):\n",
    "    tf_idf_l.append([])\n",
    "    d=text[i]\n",
    "    for j in range(len(voc)):\n",
    "        t =voc[j]\n",
    "        tf_idf_l[-1].append(tfidf(t,d))\n",
    "tf_idf_=pd.DataFrame(tf_idf_l,columns=voc)\n",
    "tf_idf_"
   ]
  },
  {
   "cell_type": "code",
   "execution_count": 8,
   "id": "6ad7fef0",
   "metadata": {},
   "outputs": [
    {
     "data": {
      "text/plain": [
       "['공부 하고 싶다', '공부 하기 싫다', '공부 내일 할까', '공부 하고 놀기', '놀기 말고 놀기']"
      ]
     },
     "execution_count": 8,
     "metadata": {},
     "output_type": "execute_result"
    }
   ],
   "source": [
    "from sklearn.feature_extraction.text import TfidfVectorizer\n",
    "text"
   ]
  },
  {
   "cell_type": "code",
   "execution_count": 9,
   "id": "ca39411e",
   "metadata": {},
   "outputs": [
    {
     "data": {
      "text/plain": [
       "{'공부': 0,\n",
       " '하고': 6,\n",
       " '싶다': 5,\n",
       " '하기': 7,\n",
       " '싫다': 4,\n",
       " '내일': 1,\n",
       " '할까': 8,\n",
       " '놀기': 2,\n",
       " '말고': 3}"
      ]
     },
     "execution_count": 9,
     "metadata": {},
     "output_type": "execute_result"
    }
   ],
   "source": [
    "tfidfv = TfidfVectorizer().fit(text)\n",
    "tfidfv.vocabulary_"
   ]
  },
  {
   "cell_type": "code",
   "execution_count": 10,
   "id": "95e3a2f6",
   "metadata": {},
   "outputs": [
    {
     "data": {
      "text/plain": [
       "array([[0.40156512, 0.        , 0.        , 0.        , 0.        ,\n",
       "        0.71277522, 0.57506256, 0.        , 0.        ],\n",
       "       [0.37008621, 0.        , 0.        , 0.        , 0.65690037,\n",
       "        0.        , 0.        , 0.65690037, 0.        ],\n",
       "       [0.37008621, 0.65690037, 0.        , 0.        , 0.        ,\n",
       "        0.        , 0.        , 0.        , 0.65690037],\n",
       "       [0.44274009, 0.        , 0.63402729, 0.        , 0.        ,\n",
       "        0.        , 0.63402729, 0.        , 0.        ],\n",
       "       [0.        , 0.        , 0.85000275, 0.52677825, 0.        ,\n",
       "        0.        , 0.        , 0.        , 0.        ]])"
      ]
     },
     "execution_count": 10,
     "metadata": {},
     "output_type": "execute_result"
    }
   ],
   "source": [
    "tfidfv.transform(text).toarray()"
   ]
  }
 ],
 "metadata": {
  "kernelspec": {
   "display_name": "Python 3 (ipykernel)",
   "language": "python",
   "name": "python3"
  },
  "language_info": {
   "codemirror_mode": {
    "name": "ipython",
    "version": 3
   },
   "file_extension": ".py",
   "mimetype": "text/x-python",
   "name": "python",
   "nbconvert_exporter": "python",
   "pygments_lexer": "ipython3",
   "version": "3.9.7"
  }
 },
 "nbformat": 4,
 "nbformat_minor": 5
}
