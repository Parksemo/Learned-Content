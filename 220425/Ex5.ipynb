{
 "cells": [
  {
   "cell_type": "markdown",
   "id": "f9ee33e1",
   "metadata": {},
   "source": [
    "# 베이즈 분류기"
   ]
  },
  {
   "cell_type": "code",
   "execution_count": 1,
   "id": "0ae34985",
   "metadata": {
    "scrolled": true
   },
   "outputs": [
    {
     "data": {
      "text/plain": [
       "array([[1, 1],\n",
       "       [0, 0],\n",
       "       [0, 0],\n",
       "       [0, 0],\n",
       "       [0, 0],\n",
       "       [0, 0],\n",
       "       [0, 1],\n",
       "       [0, 0],\n",
       "       [1, 1],\n",
       "       [1, 0],\n",
       "       [1, 0],\n",
       "       [0, 0],\n",
       "       [0, 0],\n",
       "       [1, 0],\n",
       "       [0, 0],\n",
       "       [0, 0],\n",
       "       [0, 0],\n",
       "       [0, 1],\n",
       "       [0, 1],\n",
       "       [1, 1]], dtype=int64)"
      ]
     },
     "execution_count": 1,
     "metadata": {},
     "output_type": "execute_result"
    }
   ],
   "source": [
    "from pandas import Series,DataFrame\n",
    "import pandas as pd\n",
    "import numpy as np\n",
    "viagra_spam ={\n",
    "    'viagra':[1,0,0,0,0,0,0,0,1,1,1,0,0,1,0,0,0,0,0,1]\n",
    "    , 'spam':[1,0,0,0,0,0,1,0,1,0,0,0,0,0,0,0,0,1,1,1]\n",
    "}\n",
    "df = pd.DataFrame(viagra_spam,columns=['viagra','spam'])\n",
    "np_data=df.values\n",
    "np_data"
   ]
  },
  {
   "cell_type": "markdown",
   "id": "112cd883",
   "metadata": {},
   "source": [
    "$ P(viagra \t\\cap spam) $"
   ]
  },
  {
   "cell_type": "code",
   "execution_count": 2,
   "id": "03ef1fc0",
   "metadata": {},
   "outputs": [
    {
     "data": {
      "text/plain": [
       "0.15"
      ]
     },
     "execution_count": 2,
     "metadata": {},
     "output_type": "execute_result"
    }
   ],
   "source": [
    "p_v_cap_s = sum((np_data[:,0]==1) & (np_data[:,1] == 1))/20\n",
    "p_v_cap_s"
   ]
  },
  {
   "cell_type": "markdown",
   "id": "0a28bfed",
   "metadata": {},
   "source": [
    "$ P(viagra) $"
   ]
  },
  {
   "cell_type": "code",
   "execution_count": 3,
   "id": "67e12a92",
   "metadata": {},
   "outputs": [
    {
     "data": {
      "text/plain": [
       "0.3"
      ]
     },
     "execution_count": 3,
     "metadata": {},
     "output_type": "execute_result"
    }
   ],
   "source": [
    "p_v = sum((np_data[:,0]==1))/20\n",
    "p_v"
   ]
  },
  {
   "cell_type": "markdown",
   "id": "bf8cb063",
   "metadata": {},
   "source": [
    "$ P(spam) $"
   ]
  },
  {
   "cell_type": "code",
   "execution_count": 4,
   "id": "06722c71",
   "metadata": {},
   "outputs": [
    {
     "data": {
      "text/plain": [
       "0.3"
      ]
     },
     "execution_count": 4,
     "metadata": {},
     "output_type": "execute_result"
    }
   ],
   "source": [
    "p_s = sum((np_data[:,1] == 1))/20\n",
    "p_s"
   ]
  },
  {
   "cell_type": "markdown",
   "id": "7c84d3f0",
   "metadata": {},
   "source": [
    "$ P(-viagra \\cap spam) $"
   ]
  },
  {
   "cell_type": "code",
   "execution_count": 5,
   "id": "273a7bff",
   "metadata": {},
   "outputs": [
    {
     "data": {
      "text/plain": [
       "0.15"
      ]
     },
     "execution_count": 5,
     "metadata": {},
     "output_type": "execute_result"
    }
   ],
   "source": [
    "p_n_v_cap_s = sum((np_data[:,0]==0) & (np_data[:,1] == 1))/20\n",
    "p_n_v_cap_s"
   ]
  },
  {
   "cell_type": "markdown",
   "id": "9f349b4b",
   "metadata": {},
   "source": [
    "$ P(spam|viagra) $"
   ]
  },
  {
   "cell_type": "code",
   "execution_count": 6,
   "id": "ac362f58",
   "metadata": {},
   "outputs": [
    {
     "data": {
      "text/plain": [
       "0.5"
      ]
     },
     "execution_count": 6,
     "metadata": {},
     "output_type": "execute_result"
    }
   ],
   "source": [
    "p_s * (p_v_cap_s/p_s)/p_v"
   ]
  },
  {
   "cell_type": "markdown",
   "id": "b48978c9",
   "metadata": {},
   "source": [
    "$ P(spam|~viagra) $"
   ]
  },
  {
   "cell_type": "code",
   "execution_count": 7,
   "id": "515f445c",
   "metadata": {},
   "outputs": [
    {
     "data": {
      "text/plain": [
       "0.2142857142857143"
      ]
     },
     "execution_count": 7,
     "metadata": {},
     "output_type": "execute_result"
    }
   ],
   "source": [
    "p_s * (p_n_v_cap_s/p_s)/(1-p_v)"
   ]
  }
 ],
 "metadata": {
  "kernelspec": {
   "display_name": "Python 3 (ipykernel)",
   "language": "python",
   "name": "python3"
  },
  "language_info": {
   "codemirror_mode": {
    "name": "ipython",
    "version": 3
   },
   "file_extension": ".py",
   "mimetype": "text/x-python",
   "name": "python",
   "nbconvert_exporter": "python",
   "pygments_lexer": "ipython3",
   "version": "3.9.7"
  }
 },
 "nbformat": 4,
 "nbformat_minor": 5
}
