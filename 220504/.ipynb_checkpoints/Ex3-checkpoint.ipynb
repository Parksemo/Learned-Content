{
 "cells": [
  {
   "cell_type": "code",
   "execution_count": 1,
   "id": "66391829",
   "metadata": {},
   "outputs": [],
   "source": [
    "import re"
   ]
  },
  {
   "cell_type": "markdown",
   "id": "cf8d81bf",
   "metadata": {},
   "source": [
    ".기호 : 단어1개"
   ]
  },
  {
   "cell_type": "code",
   "execution_count": 2,
   "id": "62ed1408",
   "metadata": {},
   "outputs": [],
   "source": [
    "r=re.compile('d.t')"
   ]
  },
  {
   "cell_type": "code",
   "execution_count": 3,
   "id": "159fedc2",
   "metadata": {},
   "outputs": [],
   "source": [
    "r.search('ggg')"
   ]
  },
  {
   "cell_type": "code",
   "execution_count": 4,
   "id": "965b2ff1",
   "metadata": {},
   "outputs": [
    {
     "data": {
      "text/plain": [
       "<re.Match object; span=(0, 3), match='dat'>"
      ]
     },
     "execution_count": 4,
     "metadata": {},
     "output_type": "execute_result"
    }
   ],
   "source": [
    "r.search('dat')"
   ]
  },
  {
   "cell_type": "code",
   "execution_count": 5,
   "id": "fee48007",
   "metadata": {},
   "outputs": [
    {
     "data": {
      "text/plain": [
       "<re.Match object; span=(0, 3), match='dat'>"
      ]
     },
     "execution_count": 5,
     "metadata": {},
     "output_type": "execute_result"
    }
   ],
   "source": [
    "r.search('datasdadd')"
   ]
  },
  {
   "cell_type": "code",
   "execution_count": 6,
   "id": "92c87996",
   "metadata": {},
   "outputs": [
    {
     "data": {
      "text/plain": [
       "<re.Match object; span=(1, 4), match='dat'>"
      ]
     },
     "execution_count": 6,
     "metadata": {},
     "output_type": "execute_result"
    }
   ],
   "source": [
    "r.search('adataasdd')"
   ]
  },
  {
   "cell_type": "code",
   "execution_count": 7,
   "id": "f834d39d",
   "metadata": {},
   "outputs": [
    {
     "data": {
      "text/plain": [
       "<re.Match object; span=(1, 4), match='dat'>"
      ]
     },
     "execution_count": 7,
     "metadata": {},
     "output_type": "execute_result"
    }
   ],
   "source": [
    "r.search('adatasdat') #왼쪽에서 하나만 찾음"
   ]
  },
  {
   "cell_type": "markdown",
   "id": "6045620b",
   "metadata": {},
   "source": [
    "? 기호 : 입력 이후 중간 문자의 유무 상관 없이 끝 문자가 나오면 인식된다."
   ]
  },
  {
   "cell_type": "code",
   "execution_count": 8,
   "id": "da86d632",
   "metadata": {},
   "outputs": [],
   "source": [
    "r=re.compile('da?t') #dat or dt"
   ]
  },
  {
   "cell_type": "code",
   "execution_count": 9,
   "id": "4f92e981",
   "metadata": {},
   "outputs": [],
   "source": [
    "r.search('ggg')"
   ]
  },
  {
   "cell_type": "code",
   "execution_count": 10,
   "id": "8e5e0650",
   "metadata": {},
   "outputs": [
    {
     "data": {
      "text/plain": [
       "<re.Match object; span=(0, 3), match='dat'>"
      ]
     },
     "execution_count": 10,
     "metadata": {},
     "output_type": "execute_result"
    }
   ],
   "source": [
    "r.search('datta')"
   ]
  },
  {
   "cell_type": "code",
   "execution_count": 11,
   "id": "90edf573",
   "metadata": {},
   "outputs": [
    {
     "data": {
      "text/plain": [
       "<re.Match object; span=(0, 2), match='dt'>"
      ]
     },
     "execution_count": 11,
     "metadata": {},
     "output_type": "execute_result"
    }
   ],
   "source": [
    "r.search('dt')"
   ]
  },
  {
   "cell_type": "code",
   "execution_count": 12,
   "id": "29af9c81",
   "metadata": {},
   "outputs": [
    {
     "data": {
      "text/plain": [
       "<re.Match object; span=(0, 2), match='dt'>"
      ]
     },
     "execution_count": 12,
     "metadata": {},
     "output_type": "execute_result"
    }
   ],
   "source": [
    "r.search('dt')"
   ]
  },
  {
   "cell_type": "code",
   "execution_count": 13,
   "id": "b063ef6b",
   "metadata": {},
   "outputs": [
    {
     "data": {
      "text/plain": [
       "<re.Match object; span=(6, 8), match='dt'>"
      ]
     },
     "execution_count": 13,
     "metadata": {},
     "output_type": "execute_result"
    }
   ],
   "source": [
    "r.search('dgfhjjdt')"
   ]
  },
  {
   "cell_type": "code",
   "execution_count": 14,
   "id": "324b7d96",
   "metadata": {},
   "outputs": [
    {
     "data": {
      "text/plain": [
       "<re.Match object; span=(5, 8), match='dat'>"
      ]
     },
     "execution_count": 14,
     "metadata": {},
     "output_type": "execute_result"
    }
   ],
   "source": [
    "r.search('dagftdathdajjt')"
   ]
  },
  {
   "cell_type": "markdown",
   "id": "4ecc5e99",
   "metadata": {},
   "source": [
    "*기호 : 연결된 문자의 중복 갯수 상관없이 인식 (0or 1이상)"
   ]
  },
  {
   "cell_type": "code",
   "execution_count": 15,
   "id": "79092140",
   "metadata": {},
   "outputs": [
    {
     "data": {
      "text/plain": [
       "<re.Match object; span=(0, 8), match='abbbbbbc'>"
      ]
     },
     "execution_count": 15,
     "metadata": {},
     "output_type": "execute_result"
    }
   ],
   "source": [
    "r=re.compile('ab*c') #ac or ab~c\n",
    "r.search('abbbbbbc')"
   ]
  },
  {
   "cell_type": "code",
   "execution_count": 16,
   "id": "1b8921c9",
   "metadata": {},
   "outputs": [
    {
     "data": {
      "text/plain": [
       "<re.Match object; span=(0, 5), match='abbbc'>"
      ]
     },
     "execution_count": 16,
     "metadata": {},
     "output_type": "execute_result"
    }
   ],
   "source": [
    "r.search('abbbcabc')"
   ]
  },
  {
   "cell_type": "code",
   "execution_count": 17,
   "id": "8f50649c",
   "metadata": {},
   "outputs": [
    {
     "data": {
      "text/plain": [
       "<re.Match object; span=(0, 2), match='ac'>"
      ]
     },
     "execution_count": 17,
     "metadata": {},
     "output_type": "execute_result"
    }
   ],
   "source": [
    "r.search('ac')"
   ]
  },
  {
   "cell_type": "markdown",
   "id": "8dc08ae5",
   "metadata": {},
   "source": [
    "+기호 : 연결된 문자의 중복 갯수 상관없이 인식 (1이상)"
   ]
  },
  {
   "cell_type": "code",
   "execution_count": 18,
   "id": "2c09cf21",
   "metadata": {},
   "outputs": [],
   "source": [
    "r=re.compile('ab+c') #ab~c"
   ]
  },
  {
   "cell_type": "code",
   "execution_count": 19,
   "id": "c6c1aba7",
   "metadata": {},
   "outputs": [
    {
     "data": {
      "text/plain": [
       "<re.Match object; span=(0, 7), match='abbbbbc'>"
      ]
     },
     "execution_count": 19,
     "metadata": {},
     "output_type": "execute_result"
    }
   ],
   "source": [
    "r.search('abbbbbc')"
   ]
  },
  {
   "cell_type": "code",
   "execution_count": 20,
   "id": "e8015aeb",
   "metadata": {},
   "outputs": [],
   "source": [
    "r.search('ac')"
   ]
  },
  {
   "cell_type": "markdown",
   "id": "f16c5057",
   "metadata": {},
   "source": [
    "^기호 : 이후 문자열로 시작되는 문자열 인식"
   ]
  },
  {
   "cell_type": "code",
   "execution_count": 21,
   "id": "7af5f73a",
   "metadata": {},
   "outputs": [],
   "source": [
    "r=re.compile('^ab')"
   ]
  },
  {
   "cell_type": "code",
   "execution_count": 22,
   "id": "c9f37704",
   "metadata": {},
   "outputs": [
    {
     "data": {
      "text/plain": [
       "<re.Match object; span=(0, 2), match='ab'>"
      ]
     },
     "execution_count": 22,
     "metadata": {},
     "output_type": "execute_result"
    }
   ],
   "source": [
    "r.search('abc')"
   ]
  },
  {
   "cell_type": "code",
   "execution_count": 23,
   "id": "9002f326",
   "metadata": {},
   "outputs": [
    {
     "data": {
      "text/plain": [
       "<re.Match object; span=(0, 2), match='ab'>"
      ]
     },
     "execution_count": 23,
     "metadata": {},
     "output_type": "execute_result"
    }
   ],
   "source": [
    "r.search('abc')"
   ]
  },
  {
   "cell_type": "code",
   "execution_count": 24,
   "id": "5d7900c7",
   "metadata": {},
   "outputs": [
    {
     "data": {
      "text/plain": [
       "<re.Match object; span=(0, 2), match='ab'>"
      ]
     },
     "execution_count": 24,
     "metadata": {},
     "output_type": "execute_result"
    }
   ],
   "source": [
    "r.search('abcgkhnk')"
   ]
  },
  {
   "cell_type": "code",
   "execution_count": 25,
   "id": "51b800ee",
   "metadata": {},
   "outputs": [],
   "source": [
    "r.search('lfgkabc')"
   ]
  },
  {
   "cell_type": "markdown",
   "id": "c0ef507b",
   "metadata": {},
   "source": [
    "{숫자}기호 : 기호 앞에 있는 단어의 갯수가 기호 안의 숫자만큼 있을 때 인식"
   ]
  },
  {
   "cell_type": "code",
   "execution_count": 26,
   "id": "6f02a3f3",
   "metadata": {},
   "outputs": [],
   "source": [
    "r=re.compile('ab{2}c') # abbc"
   ]
  },
  {
   "cell_type": "code",
   "execution_count": 27,
   "id": "40710a20",
   "metadata": {},
   "outputs": [
    {
     "data": {
      "text/plain": [
       "<re.Match object; span=(0, 4), match='abbc'>"
      ]
     },
     "execution_count": 27,
     "metadata": {},
     "output_type": "execute_result"
    }
   ],
   "source": [
    "r.search('abbc')"
   ]
  },
  {
   "cell_type": "code",
   "execution_count": 28,
   "id": "8e2e2d39",
   "metadata": {},
   "outputs": [],
   "source": [
    "r.search('abbbc')"
   ]
  },
  {
   "cell_type": "code",
   "execution_count": 29,
   "id": "35f7ba80",
   "metadata": {},
   "outputs": [],
   "source": [
    "r.search('abc')"
   ]
  },
  {
   "cell_type": "markdown",
   "id": "97f57903",
   "metadata": {},
   "source": [
    "{숫자,숫자}기호 : 기호 앞에 있는 단어의 갯수가 기호 안의 숫자범위만큼 있을 때 인식"
   ]
  },
  {
   "cell_type": "code",
   "execution_count": 30,
   "id": "8c24307c",
   "metadata": {},
   "outputs": [],
   "source": [
    "r=re.compile('ab{2,5}c') #ab~(2~5개)c"
   ]
  },
  {
   "cell_type": "code",
   "execution_count": 31,
   "id": "96fce292",
   "metadata": {},
   "outputs": [
    {
     "data": {
      "text/plain": [
       "<re.Match object; span=(0, 4), match='abbc'>"
      ]
     },
     "execution_count": 31,
     "metadata": {},
     "output_type": "execute_result"
    }
   ],
   "source": [
    "r.search('abbc')"
   ]
  },
  {
   "cell_type": "code",
   "execution_count": 32,
   "id": "206e538b",
   "metadata": {},
   "outputs": [
    {
     "data": {
      "text/plain": [
       "<re.Match object; span=(0, 7), match='abbbbbc'>"
      ]
     },
     "execution_count": 32,
     "metadata": {},
     "output_type": "execute_result"
    }
   ],
   "source": [
    "r.search('abbbbbc')"
   ]
  },
  {
   "cell_type": "code",
   "execution_count": 33,
   "id": "ce664d11",
   "metadata": {},
   "outputs": [],
   "source": [
    "r.search('abbbbbbc')"
   ]
  },
  {
   "cell_type": "markdown",
   "id": "ece9bde4",
   "metadata": {},
   "source": [
    "{숫자,}기호 : 기호 앞에 있는 단어의 갯수가 기호 안의 숫자이상 있을 때 인식"
   ]
  },
  {
   "cell_type": "code",
   "execution_count": 34,
   "id": "f97d383e",
   "metadata": {},
   "outputs": [],
   "source": [
    "r=re.compile('ab{2,}c') #ab~(2개이상)c"
   ]
  },
  {
   "cell_type": "code",
   "execution_count": 35,
   "id": "ace35022",
   "metadata": {},
   "outputs": [
    {
     "data": {
      "text/plain": [
       "<re.Match object; span=(0, 17), match='abbbbbbbbbbbbbbbc'>"
      ]
     },
     "execution_count": 35,
     "metadata": {},
     "output_type": "execute_result"
    }
   ],
   "source": [
    "r.search('abbbbbbbbbbbbbbbc')"
   ]
  },
  {
   "cell_type": "code",
   "execution_count": 36,
   "id": "717d4074",
   "metadata": {},
   "outputs": [],
   "source": [
    "r.search('abc')"
   ]
  },
  {
   "cell_type": "markdown",
   "id": "9195ab34",
   "metadata": {},
   "source": [
    "{,숫자}기호 기호 앞에 있는 단어의 갯수가 기호 안의 숫자이하 있을 때 인식"
   ]
  },
  {
   "cell_type": "code",
   "execution_count": 37,
   "id": "b9c81584",
   "metadata": {},
   "outputs": [],
   "source": [
    "r=re.compile('ab{,2}c') #ab~(2개이하)c"
   ]
  },
  {
   "cell_type": "code",
   "execution_count": 38,
   "id": "c47a1efe",
   "metadata": {},
   "outputs": [],
   "source": [
    "r.search('abbbbbbbbbbbbbbbc')"
   ]
  },
  {
   "cell_type": "code",
   "execution_count": 39,
   "id": "0c721797",
   "metadata": {},
   "outputs": [
    {
     "data": {
      "text/plain": [
       "<re.Match object; span=(0, 4), match='abbc'>"
      ]
     },
     "execution_count": 39,
     "metadata": {},
     "output_type": "execute_result"
    }
   ],
   "source": [
    "r.search('abbc')"
   ]
  },
  {
   "cell_type": "code",
   "execution_count": 40,
   "id": "cff99841",
   "metadata": {},
   "outputs": [
    {
     "data": {
      "text/plain": [
       "<re.Match object; span=(0, 3), match='abc'>"
      ]
     },
     "execution_count": 40,
     "metadata": {},
     "output_type": "execute_result"
    }
   ],
   "source": [
    "r.search('abc')"
   ]
  },
  {
   "cell_type": "markdown",
   "id": "8e1a2c84",
   "metadata": {},
   "source": [
    "[] 기호 : 괄호안에 있는 문자의 유무"
   ]
  },
  {
   "cell_type": "code",
   "execution_count": 41,
   "id": "78691ed3",
   "metadata": {},
   "outputs": [],
   "source": [
    "r=re.compile('[abc]')"
   ]
  },
  {
   "cell_type": "code",
   "execution_count": 42,
   "id": "30638b22",
   "metadata": {},
   "outputs": [
    {
     "data": {
      "text/plain": [
       "<re.Match object; span=(0, 1), match='a'>"
      ]
     },
     "execution_count": 42,
     "metadata": {},
     "output_type": "execute_result"
    }
   ],
   "source": [
    "r.search('abc')"
   ]
  },
  {
   "cell_type": "code",
   "execution_count": 43,
   "id": "83a0084a",
   "metadata": {},
   "outputs": [
    {
     "data": {
      "text/plain": [
       "<re.Match object; span=(0, 1), match='c'>"
      ]
     },
     "execution_count": 43,
     "metadata": {},
     "output_type": "execute_result"
    }
   ],
   "source": [
    "r.search('cba')"
   ]
  },
  {
   "cell_type": "code",
   "execution_count": 44,
   "id": "f379e2b2",
   "metadata": {},
   "outputs": [
    {
     "data": {
      "text/plain": [
       "<re.Match object; span=(1, 2), match='c'>"
      ]
     },
     "execution_count": 44,
     "metadata": {},
     "output_type": "execute_result"
    }
   ],
   "source": [
    "r.search('dcba')"
   ]
  },
  {
   "cell_type": "code",
   "execution_count": 45,
   "id": "f8385e5d",
   "metadata": {},
   "outputs": [
    {
     "data": {
      "text/plain": [
       "<re.Match object; span=(5, 6), match='b'>"
      ]
     },
     "execution_count": 45,
     "metadata": {},
     "output_type": "execute_result"
    }
   ],
   "source": [
    "r.search('jkljlb')"
   ]
  },
  {
   "cell_type": "markdown",
   "id": "71ae261a",
   "metadata": {},
   "source": [
    "[-] 기호 : 괄호범위안에 있는 문자의 유무"
   ]
  },
  {
   "cell_type": "code",
   "execution_count": 46,
   "id": "00d18211",
   "metadata": {},
   "outputs": [],
   "source": [
    "r=re.compile('[a-z]')"
   ]
  },
  {
   "cell_type": "code",
   "execution_count": 47,
   "id": "a98cc150",
   "metadata": {},
   "outputs": [
    {
     "data": {
      "text/plain": [
       "<re.Match object; span=(0, 1), match='y'>"
      ]
     },
     "execution_count": 47,
     "metadata": {},
     "output_type": "execute_result"
    }
   ],
   "source": [
    "r.search('y')"
   ]
  },
  {
   "cell_type": "code",
   "execution_count": 48,
   "id": "7cc4cf0f",
   "metadata": {},
   "outputs": [
    {
     "data": {
      "text/plain": [
       "<re.Match object; span=(0, 1), match='g'>"
      ]
     },
     "execution_count": 48,
     "metadata": {},
     "output_type": "execute_result"
    }
   ],
   "source": [
    "r.search('gmlop')"
   ]
  },
  {
   "cell_type": "markdown",
   "id": "1b39f38c",
   "metadata": {},
   "source": [
    "[^]기호 : 내부에 없는 data 인식"
   ]
  },
  {
   "cell_type": "code",
   "execution_count": 49,
   "id": "f896588e",
   "metadata": {},
   "outputs": [],
   "source": [
    "r=re.compile('[^a-z]')"
   ]
  },
  {
   "cell_type": "code",
   "execution_count": 50,
   "id": "98b2f1d8",
   "metadata": {},
   "outputs": [
    {
     "data": {
      "text/plain": [
       "<re.Match object; span=(0, 1), match='Y'>"
      ]
     },
     "execution_count": 50,
     "metadata": {},
     "output_type": "execute_result"
    }
   ],
   "source": [
    "r.search('Y')"
   ]
  },
  {
   "cell_type": "code",
   "execution_count": 51,
   "id": "489c1259",
   "metadata": {},
   "outputs": [],
   "source": [
    "r.search('h')"
   ]
  },
  {
   "cell_type": "code",
   "execution_count": 52,
   "id": "cf6ec352",
   "metadata": {},
   "outputs": [
    {
     "data": {
      "text/plain": [
       "<re.Match object; span=(0, 1), match='H'>"
      ]
     },
     "execution_count": 52,
     "metadata": {},
     "output_type": "execute_result"
    }
   ],
   "source": [
    "r.search('H')"
   ]
  },
  {
   "cell_type": "markdown",
   "id": "8206b371",
   "metadata": {},
   "source": [
    "함수"
   ]
  },
  {
   "cell_type": "code",
   "execution_count": 53,
   "id": "58200ffa",
   "metadata": {},
   "outputs": [],
   "source": [
    "r=re.compile('a.c') #조건 설정"
   ]
  },
  {
   "cell_type": "code",
   "execution_count": 54,
   "id": "71a2cffc",
   "metadata": {},
   "outputs": [
    {
     "data": {
      "text/plain": [
       "<re.Match object; span=(7, 10), match='aac'>"
      ]
     },
     "execution_count": 54,
     "metadata": {},
     "output_type": "execute_result"
    }
   ],
   "source": [
    "r.search('data0- aac') #만족하기만 하면 인식"
   ]
  },
  {
   "cell_type": "code",
   "execution_count": 55,
   "id": "d1a252fd",
   "metadata": {},
   "outputs": [
    {
     "data": {
      "text/plain": [
       "<re.Match object; span=(0, 3), match='aac'>"
      ]
     },
     "execution_count": 55,
     "metadata": {},
     "output_type": "execute_result"
    }
   ],
   "source": [
    "r.match('aac')#시작부터 확인후 인식(^)"
   ]
  },
  {
   "cell_type": "code",
   "execution_count": 56,
   "id": "6c38afb9",
   "metadata": {},
   "outputs": [],
   "source": [
    "data = 'data1 data2 data3'"
   ]
  },
  {
   "cell_type": "code",
   "execution_count": 58,
   "id": "e7fff67e",
   "metadata": {},
   "outputs": [
    {
     "data": {
      "text/plain": [
       "['data1', 'data2', 'data3']"
      ]
     },
     "execution_count": 58,
     "metadata": {},
     "output_type": "execute_result"
    }
   ],
   "source": [
    "re.split(' ',data)#자르기(조건,data)"
   ]
  },
  {
   "cell_type": "code",
   "execution_count": 61,
   "id": "85d8660f",
   "metadata": {},
   "outputs": [
    {
     "data": {
      "text/plain": [
       "['dat', 'dat', 'dat']"
      ]
     },
     "execution_count": 61,
     "metadata": {},
     "output_type": "execute_result"
    }
   ],
   "source": [
    "re.findall('dat',data)"
   ]
  },
  {
   "cell_type": "code",
   "execution_count": 65,
   "id": "559b4013",
   "metadata": {},
   "outputs": [
    {
     "data": {
      "text/plain": [
       "['d', 'a', 't', 'a', ' ', 'd', 'a', 't', 'a', ' ', 'd', 'a', 't', 'a']"
      ]
     },
     "execution_count": 65,
     "metadata": {},
     "output_type": "execute_result"
    }
   ],
   "source": [
    "re.findall('\\D',data)"
   ]
  },
  {
   "cell_type": "code",
   "execution_count": 66,
   "id": "e375f134",
   "metadata": {},
   "outputs": [
    {
     "data": {
      "text/plain": [
       "['1', '2', '3']"
      ]
     },
     "execution_count": 66,
     "metadata": {},
     "output_type": "execute_result"
    }
   ],
   "source": [
    "re.findall('\\d',data)"
   ]
  },
  {
   "cell_type": "code",
   "execution_count": 70,
   "id": "9ba59a34",
   "metadata": {},
   "outputs": [
    {
     "data": {
      "text/plain": [
       "[' ', ' ']"
      ]
     },
     "execution_count": 70,
     "metadata": {},
     "output_type": "execute_result"
    }
   ],
   "source": [
    "re.findall('\\W',data)"
   ]
  },
  {
   "cell_type": "code",
   "execution_count": 69,
   "id": "5576b5b8",
   "metadata": {},
   "outputs": [
    {
     "data": {
      "text/plain": [
       "['d', 'a', 't', 'a', '1', 'd', 'a', 't', 'a', '2', 'd', 'a', 't', 'a', '3']"
      ]
     },
     "execution_count": 69,
     "metadata": {},
     "output_type": "execute_result"
    }
   ],
   "source": [
    "re.findall('\\w',data)"
   ]
  },
  {
   "cell_type": "code",
   "execution_count": 76,
   "id": "34473d14",
   "metadata": {},
   "outputs": [
    {
     "data": {
      "text/plain": [
       "'data1수정data2수정data3'"
      ]
     },
     "execution_count": 76,
     "metadata": {},
     "output_type": "execute_result"
    }
   ],
   "source": [
    "re.sub('\\W','수정',data)"
   ]
  },
  {
   "cell_type": "code",
   "execution_count": 77,
   "id": "e55b9d62",
   "metadata": {},
   "outputs": [
    {
     "data": {
      "text/plain": [
       "'aaaaa aaaaa aaaaa'"
      ]
     },
     "execution_count": 77,
     "metadata": {},
     "output_type": "execute_result"
    }
   ],
   "source": [
    "re.sub('\\w','a',data)"
   ]
  },
  {
   "cell_type": "code",
   "execution_count": 78,
   "id": "b0e5a46c",
   "metadata": {},
   "outputs": [],
   "source": [
    "t = \"Don't be fooled by the dark sounding name, Mr. Jone's Orphanage is as cheery as cheery goes for a pastry shop.\""
   ]
  },
  {
   "cell_type": "code",
   "execution_count": 81,
   "id": "a91514bb",
   "metadata": {},
   "outputs": [
    {
     "data": {
      "text/plain": [
       "['Don',\n",
       " 't',\n",
       " 'be',\n",
       " 'fooled',\n",
       " 'by',\n",
       " 'the',\n",
       " 'dark',\n",
       " 'sounding',\n",
       " 'name',\n",
       " 'Mr',\n",
       " 'Jone',\n",
       " 's',\n",
       " 'Orphanage',\n",
       " 'is',\n",
       " 'as',\n",
       " 'cheery',\n",
       " 'as',\n",
       " 'cheery',\n",
       " 'goes',\n",
       " 'for',\n",
       " 'a',\n",
       " 'pastry',\n",
       " 'shop']"
      ]
     },
     "execution_count": 81,
     "metadata": {},
     "output_type": "execute_result"
    }
   ],
   "source": [
    "from nltk.tokenize import RegexpTokenizer #RegexpTokenizer\n",
    "ck1 = RegexpTokenizer('[\\w]+')\n",
    "ck1.tokenize(t)"
   ]
  },
  {
   "cell_type": "code",
   "execution_count": 93,
   "id": "e07e7e5c",
   "metadata": {
    "scrolled": true
   },
   "outputs": [
    {
     "data": {
      "text/plain": [
       "['Don',\n",
       " 't',\n",
       " 'be',\n",
       " 'fooled',\n",
       " 'by',\n",
       " 'the',\n",
       " 'dark',\n",
       " 'sounding',\n",
       " 'name',\n",
       " 'Mr',\n",
       " 'Jone',\n",
       " 's',\n",
       " 'Orphanage',\n",
       " 'is',\n",
       " 'as',\n",
       " 'cheery',\n",
       " 'as',\n",
       " 'cheery',\n",
       " 'goes',\n",
       " 'for',\n",
       " 'a',\n",
       " 'pastry',\n",
       " 'shop']"
      ]
     },
     "execution_count": 93,
     "metadata": {},
     "output_type": "execute_result"
    }
   ],
   "source": [
    "ck2 = RegexpTokenizer('\\W+',gaps = True) #RegexpTokenizer('\\w+',gaps = False) 와 같다\n",
    "ck2.tokenize(t)"
   ]
  }
 ],
 "metadata": {
  "kernelspec": {
   "display_name": "Python 3 (ipykernel)",
   "language": "python",
   "name": "python3"
  },
  "language_info": {
   "codemirror_mode": {
    "name": "ipython",
    "version": 3
   },
   "file_extension": ".py",
   "mimetype": "text/x-python",
   "name": "python",
   "nbconvert_exporter": "python",
   "pygments_lexer": "ipython3",
   "version": "3.9.7"
  }
 },
 "nbformat": 4,
 "nbformat_minor": 5
}
