{
 "cells": [
  {
   "cell_type": "raw",
   "id": "e6fc6270",
   "metadata": {},
   "source": [
    "게임 플랫폼 스팀에 등록된 한국어 리뷰에 대해서 감성 분석을 진행해보겠습니다. \n",
    "이 데이터는 긍정인 리뷰에는 레이블 1이, 부정인 리뷰에는 레이블 0이 부여되어져 있습니다. 앞서 진행했던 감성 분류 문제들과 마찬가지로 이진 분류 문제를 풉니다."
   ]
  },
  {
   "cell_type": "markdown",
   "id": "58364a9d",
   "metadata": {},
   "source": [
    "# 1. BiLSTM을 텍스트 분류에 사용하기"
   ]
  },
  {
   "cell_type": "raw",
   "id": "6345b130",
   "metadata": {},
   "source": [
    "양방향 LSTM은 두 개의 독립적인 LSTM 아키텍처를 함께 사용하는 구조입니다. 위 그림에서 주황색 LSTM 셀은 순차적으로 입력을 받습니다. 자연어 처리라고 한다면, 마치 사람처럼 문장을 왼쪽 단어부터 순차적으로 읽는 셈입니다. \n",
    "양방향 LSTM은 뒤의 문맥까지 고려하기 위해서 문장을 오른쪽에서 반대로 읽는 역방향의 LSTM 셀(위 그림에서 초록색)을 함께 사용합니다. \n",
    "이 두 가지 정보를 고려하여 출력층에서 예측 시에 두 가지 정보를 모두 사용합니다.\n",
    "\n",
    "위 그림은 다 대 다(many-to-many) 문제를 푸는 경우의 양방향 LSTM을 보여주고 있습니다. 그런데 양방향 LSTM을 다 대 일(many-to-one) 문제인 텍스트 분류 문제에 사용한다고 하면, 한 가지 의문이 생깁니다."
   ]
  },
  {
   "cell_type": "raw",
   "id": "5d334ac1",
   "metadata": {},
   "source": [
    "일반적으로 순방향 LSTM은 마지막 시점의 은닉 상태를 출력층으로 보내서 텍스트 분류를 수행합니다. \n",
    "그렇다면 역방향 LSTM도 순방향과 같은 시점의 은닉 상태를 사용하면 될까요? \n",
    "위 그림과 같이 텍스트 분류를 진행하는 경우, 역방향 LSTM은 x4만 본 상태입니다. 이 경우 역방향 LSTM이 텍스트 분류를 위한 유용한 정보를 갖고 있다고 기대하기 어렵습니다."
   ]
  },
  {
   "cell_type": "raw",
   "id": "ba25e2c0",
   "metadata": {},
   "source": [
    "그래서 케라스에서는 양방향 LSTM을 사용하면서 return_sequences=False를 택할 경우에는 위의 그림과 같이 동작하고 있습니다. \n",
    "순방향 LSTM의 경우에는 마지막 시점의 은닉 상태를 반환하고, 역방향 LSTM의 경우에는 첫번째 시점의 은닉 상태를 반환합니다. 위 구조를 통해서 양방향 LSTM으로 텍스트 분류를 수행할 수 있습니다."
   ]
  },
  {
   "cell_type": "markdown",
   "id": "94d6bf5c",
   "metadata": {},
   "source": [
    "# 2. Mecab 설치"
   ]
  },
  {
   "cell_type": "raw",
   "id": "754a742d",
   "metadata": {},
   "source": [
    "형태소 분석기 Mecab을 사용합니다.\n",
    "Mecab 설치 : https://cleancode-ws.tistory.com/97"
   ]
  },
  {
   "cell_type": "code",
   "execution_count": 14,
   "id": "64938b73",
   "metadata": {},
   "outputs": [
    {
     "name": "stdout",
     "output_type": "stream",
     "text": [
      "Python 3.8.12\n"
     ]
    }
   ],
   "source": [
    "!python -V"
   ]
  },
  {
   "cell_type": "code",
   "execution_count": 40,
   "id": "187429ae",
   "metadata": {},
   "outputs": [
    {
     "data": {
      "text/plain": [
       "['안녕', '하', '세요', '오늘', '날씨', '가', '좋', '네요']"
      ]
     },
     "execution_count": 40,
     "metadata": {},
     "output_type": "execute_result"
    }
   ],
   "source": [
    "from konlpy.tag import Mecab\n",
    "mecab = Mecab('C:\\mecab\\mecab-ko-dic')\n",
    "mecab.morphs('안녕하세요 오늘 날씨가 좋네요')"
   ]
  },
  {
   "cell_type": "markdown",
   "id": "901199c3",
   "metadata": {},
   "source": [
    "# 3. 스팀 리뷰 데이터에 대한 이해와 전처리"
   ]
  },
  {
   "cell_type": "raw",
   "id": "737103ab",
   "metadata": {},
   "source": [
    "다운로드 링크 : https://github.com/bab2min/corpus/tree/master/sentiment"
   ]
  },
  {
   "cell_type": "code",
   "execution_count": 23,
   "id": "7350c9d7",
   "metadata": {},
   "outputs": [],
   "source": [
    "import pandas as pd\n",
    "import numpy as np\n",
    "import matplotlib.pyplot as plt\n",
    "import urllib.request\n",
    "from collections import Counter\n",
    "from konlpy.tag import Mecab\n",
    "from sklearn.model_selection import train_test_split\n",
    "from tensorflow.keras.preprocessing.text import Tokenizer\n",
    "from tensorflow.keras.preprocessing.sequence import pad_sequences\n",
    "\n",
    "# 워닝 무시\n",
    "import warnings\n",
    "warnings.filterwarnings('ignore')"
   ]
  },
  {
   "cell_type": "markdown",
   "id": "916664ea",
   "metadata": {},
   "source": [
    "## 1) 데이터 로드하기"
   ]
  },
  {
   "cell_type": "code",
   "execution_count": 4,
   "id": "dabad5d5",
   "metadata": {},
   "outputs": [
    {
     "data": {
      "text/plain": [
       "('steam.txt', <http.client.HTTPMessage at 0x13bcb90e550>)"
      ]
     },
     "execution_count": 4,
     "metadata": {},
     "output_type": "execute_result"
    }
   ],
   "source": [
    "urllib.request.urlretrieve(\"https://raw.githubusercontent.com/bab2min/corpus/master/sentiment/steam.txt\", filename=\"steam.txt\")"
   ]
  },
  {
   "cell_type": "raw",
   "id": "2b658606",
   "metadata": {},
   "source": [
    "해당 데이터에는 열제목이 별도로 없습니다. 그래서 임의로 두 개의 열제목인 'label'과 'reviews'를 추가해주겠습니다."
   ]
  },
  {
   "cell_type": "code",
   "execution_count": 6,
   "id": "fc52bad3",
   "metadata": {},
   "outputs": [
    {
     "name": "stdout",
     "output_type": "stream",
     "text": [
      "전체 리뷰 개수 : 100000\n"
     ]
    },
    {
     "data": {
      "text/html": [
       "<div>\n",
       "<style scoped>\n",
       "    .dataframe tbody tr th:only-of-type {\n",
       "        vertical-align: middle;\n",
       "    }\n",
       "\n",
       "    .dataframe tbody tr th {\n",
       "        vertical-align: top;\n",
       "    }\n",
       "\n",
       "    .dataframe thead th {\n",
       "        text-align: right;\n",
       "    }\n",
       "</style>\n",
       "<table border=\"1\" class=\"dataframe\">\n",
       "  <thead>\n",
       "    <tr style=\"text-align: right;\">\n",
       "      <th></th>\n",
       "      <th>label</th>\n",
       "      <th>reviews</th>\n",
       "    </tr>\n",
       "  </thead>\n",
       "  <tbody>\n",
       "    <tr>\n",
       "      <th>0</th>\n",
       "      <td>0</td>\n",
       "      <td>노래가 너무 적음</td>\n",
       "    </tr>\n",
       "    <tr>\n",
       "      <th>1</th>\n",
       "      <td>0</td>\n",
       "      <td>돌겠네 진짜. 황숙아, 어크 공장 그만 돌려라. 죽는다.</td>\n",
       "    </tr>\n",
       "    <tr>\n",
       "      <th>2</th>\n",
       "      <td>1</td>\n",
       "      <td>막노동 체험판 막노동 하는사람인데 장비를 내가 사야돼 뭐지</td>\n",
       "    </tr>\n",
       "    <tr>\n",
       "      <th>3</th>\n",
       "      <td>1</td>\n",
       "      <td>차악!차악!!차악!!! 정말 이래서 왕국을 되찾을 수 있는거야??</td>\n",
       "    </tr>\n",
       "    <tr>\n",
       "      <th>4</th>\n",
       "      <td>1</td>\n",
       "      <td>시간 때우기에 좋음.. 도전과제는 50시간이면 다 깰 수 있어요</td>\n",
       "    </tr>\n",
       "  </tbody>\n",
       "</table>\n",
       "</div>"
      ],
      "text/plain": [
       "   label                               reviews\n",
       "0      0                             노래가 너무 적음\n",
       "1      0       돌겠네 진짜. 황숙아, 어크 공장 그만 돌려라. 죽는다.\n",
       "2      1      막노동 체험판 막노동 하는사람인데 장비를 내가 사야돼 뭐지\n",
       "3      1  차악!차악!!차악!!! 정말 이래서 왕국을 되찾을 수 있는거야??\n",
       "4      1   시간 때우기에 좋음.. 도전과제는 50시간이면 다 깰 수 있어요"
      ]
     },
     "execution_count": 6,
     "metadata": {},
     "output_type": "execute_result"
    }
   ],
   "source": [
    "total_data = pd.read_table('steam.txt', names=['label', 'reviews'])\n",
    "\n",
    "print('전체 리뷰 개수 :',len(total_data)) # 전체 리뷰 개수 출력\n",
    "total_data.head()"
   ]
  },
  {
   "cell_type": "raw",
   "id": "028f06c8",
   "metadata": {},
   "source": [
    "각 열에 대해서 중복을 제외한 샘플의 수를 카운트합니다."
   ]
  },
  {
   "cell_type": "code",
   "execution_count": 9,
   "id": "ffb2dec6",
   "metadata": {},
   "outputs": [
    {
     "data": {
      "text/plain": [
       "99892"
      ]
     },
     "execution_count": 9,
     "metadata": {},
     "output_type": "execute_result"
    }
   ],
   "source": [
    "total_data['reviews'].nunique()"
   ]
  },
  {
   "cell_type": "code",
   "execution_count": 10,
   "id": "c00d9d37",
   "metadata": {},
   "outputs": [
    {
     "data": {
      "text/plain": [
       "2"
      ]
     },
     "execution_count": 10,
     "metadata": {},
     "output_type": "execute_result"
    }
   ],
   "source": [
    "total_data['label'].nunique()"
   ]
  },
  {
   "cell_type": "raw",
   "id": "ce0e7b30",
   "metadata": {},
   "source": [
    "reviews열에서 중복을 제외한 경우 99,892개입니다. \n",
    "현재 10만개의 리뷰가 존재하므로 이는 현재 갖고 있는 데이터에 중복인 샘플들이 있다는 의미입니다. \n",
    "중복인 샘플들을 제거해줍니다."
   ]
  },
  {
   "cell_type": "code",
   "execution_count": 8,
   "id": "780b9651",
   "metadata": {},
   "outputs": [
    {
     "name": "stdout",
     "output_type": "stream",
     "text": [
      "총 샘플의 수 : 99892\n"
     ]
    }
   ],
   "source": [
    "total_data.drop_duplicates(subset=['reviews'], inplace=True) # reviews 열에서 중복인 내용이 있다면 중복 제거\n",
    "print('총 샘플의 수 :',len(total_data))"
   ]
  },
  {
   "cell_type": "raw",
   "id": "71dc5522",
   "metadata": {},
   "source": [
    "NULL 값 유무를 확인합니다."
   ]
  },
  {
   "cell_type": "code",
   "execution_count": 11,
   "id": "445a53cf",
   "metadata": {},
   "outputs": [
    {
     "name": "stdout",
     "output_type": "stream",
     "text": [
      "False\n"
     ]
    }
   ],
   "source": [
    "print(total_data.isnull().values.any())"
   ]
  },
  {
   "cell_type": "markdown",
   "id": "46ad41c4",
   "metadata": {},
   "source": [
    "## 2) 훈련 데이터와 테스트 데이터 분리하기"
   ]
  },
  {
   "cell_type": "raw",
   "id": "0552b579",
   "metadata": {},
   "source": [
    "훈련 데이터와 테스트 데이터를 3:1 비율로 분리합니다."
   ]
  },
  {
   "cell_type": "code",
   "execution_count": 12,
   "id": "e7ec095c",
   "metadata": {},
   "outputs": [
    {
     "name": "stdout",
     "output_type": "stream",
     "text": [
      "훈련용 리뷰의 개수 : 74919\n",
      "테스트용 리뷰의 개수 : 24973\n"
     ]
    }
   ],
   "source": [
    "train_data, test_data = train_test_split(total_data, test_size = 0.25, random_state = 42)\n",
    "print('훈련용 리뷰의 개수 :', len(train_data))\n",
    "print('테스트용 리뷰의 개수 :', len(test_data))"
   ]
  },
  {
   "cell_type": "raw",
   "id": "76bd27e5",
   "metadata": {},
   "source": [
    "훈련용 리뷰의 경우 약 7만 5,000개. 테스트용 리뷰의 경우 약 2만 5,000개가 존재합니다."
   ]
  },
  {
   "cell_type": "markdown",
   "id": "d8b3ba10",
   "metadata": {},
   "source": [
    "## 3) 레이블의 분포 확인"
   ]
  },
  {
   "cell_type": "code",
   "execution_count": 15,
   "id": "b521281e",
   "metadata": {},
   "outputs": [
    {
     "data": {
      "text/plain": [
       "<AxesSubplot:>"
      ]
     },
     "execution_count": 15,
     "metadata": {},
     "output_type": "execute_result"
    },
    {
     "data": {
      "image/png": "[encoded data removed]",
      "text/plain": [
       "<Figure size 432x288 with 1 Axes>"
      ]
     },
     "metadata": {
      "needs_background": "light"
     },
     "output_type": "display_data"
    }
   ],
   "source": [
    "train_data['label'].value_counts().plot(kind = 'bar')"
   ]
  },
  {
   "cell_type": "code",
   "execution_count": 19,
   "id": "b8f8f05b",
   "metadata": {},
   "outputs": [
    {
     "name": "stdout",
     "output_type": "stream",
     "text": [
      "   label  count\n",
      "0      0  37376\n",
      "1      1  37543\n"
     ]
    }
   ],
   "source": [
    "print(train_data.groupby('label').size().reset_index(name = 'count'))"
   ]
  },
  {
   "cell_type": "raw",
   "id": "f7aca573",
   "metadata": {},
   "source": [
    "두 레이블 모두 약 3만 7천개로 50:50 비율을 가지고 있습니다."
   ]
  },
  {
   "cell_type": "markdown",
   "id": "9ad85c5c",
   "metadata": {},
   "source": [
    "## 4) 데이터 정제하기"
   ]
  },
  {
   "cell_type": "raw",
   "id": "884a5e57",
   "metadata": {},
   "source": [
    "정규 표현식을 사용하여 한글을 제외하고 모두 제거해줍니다. \n",
    "또한 혹시 이 과정에서 빈 샘플이 생기지는 않는지 확인합니다."
   ]
  },
  {
   "cell_type": "code",
   "execution_count": 21,
   "id": "66dcca49",
   "metadata": {},
   "outputs": [
    {
     "name": "stdout",
     "output_type": "stream",
     "text": [
      "label      0\n",
      "reviews    0\n",
      "dtype: int64\n"
     ]
    },
    {
     "name": "stderr",
     "output_type": "stream",
     "text": [
      "C:\\Users\\student\\AppData\\Local\\Temp/ipykernel_15220/3212377984.py:2: FutureWarning: The default value of regex will change from True to False in a future version.\n",
      "  train_data['reviews'] = train_data['reviews'].str.replace(\"[^ㄱ-ㅎㅏ-ㅣ가-힣 ]\",\"\")\n",
      "C:\\Users\\student\\AppData\\Local\\Temp/ipykernel_15220/3212377984.py:2: SettingWithCopyWarning: \n",
      "A value is trying to be set on a copy of a slice from a DataFrame.\n",
      "Try using .loc[row_indexer,col_indexer] = value instead\n",
      "\n",
      "See the caveats in the documentation: https://pandas.pydata.org/pandas-docs/stable/user_guide/indexing.html#returning-a-view-versus-a-copy\n",
      "  train_data['reviews'] = train_data['reviews'].str.replace(\"[^ㄱ-ㅎㅏ-ㅣ가-힣 ]\",\"\")\n"
     ]
    }
   ],
   "source": [
    "# 한글과 공백을 제외하고 모두 제거\n",
    "train_data['reviews'] = train_data['reviews'].str.replace(\"[^ㄱ-ㅎㅏ-ㅣ가-힣 ]\",\"\")\n",
    "train_data['reviews'].replace('', np.nan, inplace=True)\n",
    "print(train_data.isnull().sum())"
   ]
  },
  {
   "cell_type": "raw",
   "id": "c2fca476",
   "metadata": {},
   "source": [
    "테스트 데이터에 대해서도 같은 과정을 거칩니다."
   ]
  },
  {
   "cell_type": "code",
   "execution_count": 22,
   "id": "3d27d790",
   "metadata": {},
   "outputs": [
    {
     "name": "stdout",
     "output_type": "stream",
     "text": [
      "전처리 후 테스트용 샘플의 개수 : 24973\n"
     ]
    },
    {
     "name": "stderr",
     "output_type": "stream",
     "text": [
      "C:\\ProgramData\\Anaconda3\\lib\\site-packages\\pandas\\util\\_decorators.py:311: SettingWithCopyWarning: \n",
      "A value is trying to be set on a copy of a slice from a DataFrame\n",
      "\n",
      "See the caveats in the documentation: https://pandas.pydata.org/pandas-docs/stable/user_guide/indexing.html#returning-a-view-versus-a-copy\n",
      "  return func(*args, **kwargs)\n",
      "C:\\Users\\student\\AppData\\Local\\Temp/ipykernel_15220/1476265803.py:2: FutureWarning: The default value of regex will change from True to False in a future version.\n",
      "  test_data['reviews'] = test_data['reviews'].str.replace(\"[^ㄱ-ㅎㅏ-ㅣ가-힣 ]\",\"\") # 정규 표현식 수행\n",
      "C:\\Users\\student\\AppData\\Local\\Temp/ipykernel_15220/1476265803.py:2: SettingWithCopyWarning: \n",
      "A value is trying to be set on a copy of a slice from a DataFrame.\n",
      "Try using .loc[row_indexer,col_indexer] = value instead\n",
      "\n",
      "See the caveats in the documentation: https://pandas.pydata.org/pandas-docs/stable/user_guide/indexing.html#returning-a-view-versus-a-copy\n",
      "  test_data['reviews'] = test_data['reviews'].str.replace(\"[^ㄱ-ㅎㅏ-ㅣ가-힣 ]\",\"\") # 정규 표현식 수행\n"
     ]
    }
   ],
   "source": [
    "test_data.drop_duplicates(subset = ['reviews'], inplace=True) # 중복 제거\n",
    "test_data['reviews'] = test_data['reviews'].str.replace(\"[^ㄱ-ㅎㅏ-ㅣ가-힣 ]\",\"\") # 정규 표현식 수행\n",
    "test_data['reviews'].replace('', np.nan, inplace=True) # 공백은 Null 값으로 변경\n",
    "test_data = test_data.dropna(how='any') # Null 값 제거\n",
    "print('전처리 후 테스트용 샘플의 개수 :',len(test_data))"
   ]
  },
  {
   "cell_type": "raw",
   "id": "5b07b447",
   "metadata": {},
   "source": [
    "불용어를 정의해줍니다."
   ]
  },
  {
   "cell_type": "code",
   "execution_count": 24,
   "id": "4b9900bc",
   "metadata": {},
   "outputs": [],
   "source": [
    "stopwords = ['도', '는', '다', '의', '가', '이', '은', '한', '에', '하', '고', '을', '를', '인', '듯', '과', '와', '네', '들', '듯', '지', '임', '게', '만', '게임', '겜', '되', '음', '면']"
   ]
  },
  {
   "cell_type": "markdown",
   "id": "7bcd151d",
   "metadata": {},
   "source": [
    "## 5) 토큰화"
   ]
  },
  {
   "cell_type": "raw",
   "id": "e14fa0a2",
   "metadata": {},
   "source": [
    "형태소 분석기 Mecab을 사용하여 토큰화 작업을 수행합니다."
   ]
  },
  {
   "cell_type": "code",
   "execution_count": 42,
   "id": "0d6da66d",
   "metadata": {},
   "outputs": [],
   "source": [
    "from konlpy.tag import Mecab\n",
    "mecab = Mecab('C:\\mecab\\mecab-ko-dic')\n",
    "\n",
    "train_data['tokenized'] = train_data['reviews'].apply(mecab.morphs)\n",
    "train_data['tokenized'] = train_data['tokenized'].apply(lambda x: [item for item in x if item not in stopwords])\n",
    "test_data['tokenized'] = test_data['reviews'].apply(mecab.morphs)\n",
    "test_data['tokenized'] = test_data['tokenized'].apply(lambda x: [item for item in x if item not in stopwords])"
   ]
  },
  {
   "cell_type": "markdown",
   "id": "e8f35336",
   "metadata": {},
   "source": [
    "## 6) 단어와 길이 분포 확인하기"
   ]
  },
  {
   "cell_type": "raw",
   "id": "82aa489f",
   "metadata": {},
   "source": [
    "긍정 리뷰에는 주로 어떤 단어들이 많이 등장하고, 부정 리뷰에는 주로 어떤 단어들이 등장하는지 두 가지 경우에 대해서 각 단어의 빈도수를 계산해보겠습니다. 각 레이블에 따라서 별도로 단어들의 리스트를 저장해줍니다."
   ]
  },
  {
   "cell_type": "code",
   "execution_count": 43,
   "id": "1d0d2dae",
   "metadata": {},
   "outputs": [],
   "source": [
    "negative_words = np.hstack(train_data[train_data.label == 0]['tokenized'].values)\n",
    "positive_words = np.hstack(train_data[train_data.label == 1]['tokenized'].values)"
   ]
  },
  {
   "cell_type": "raw",
   "id": "87b2c0cc",
   "metadata": {},
   "source": [
    "Counter()를 사용하여 각 단어에 대한 빈도수를 카운트합니다. \n",
    "우선 부정 리뷰에 대해서 빈도수가 높은 상위 20개 단어들을 출력합니다."
   ]
  },
  {
   "cell_type": "code",
   "execution_count": 44,
   "id": "e022b508",
   "metadata": {},
   "outputs": [
    {
     "name": "stdout",
     "output_type": "stream",
     "text": [
      "[('안', 8129), ('없', 7141), ('는데', 5786), ('있', 5692), ('같', 4247), ('로', 4083), ('할', 3920), ('거', 3902), ('나', 3805), ('해', 3653), ('너무', 3522), ('으로', 3351), ('기', 3348), ('했', 3265), ('어', 3143), ('보', 2987), ('습니다', 2962), ('것', 2935), ('지만', 2911), ('좋', 2899)]\n"
     ]
    }
   ],
   "source": [
    "negative_word_count = Counter(negative_words)\n",
    "print(negative_word_count.most_common(20))"
   ]
  },
  {
   "cell_type": "raw",
   "id": "41d47d96",
   "metadata": {},
   "source": [
    "긍정 리뷰에 대해서도 동일하게 출력해봅시다."
   ]
  },
  {
   "cell_type": "code",
   "execution_count": 45,
   "id": "aeb1243b",
   "metadata": {},
   "outputs": [
    {
     "name": "stdout",
     "output_type": "stream",
     "text": [
      "[('있', 9987), ('좋', 6542), ('습니다', 5179), ('재밌', 4997), ('할', 4838), ('지만', 4809), ('해', 4354), ('없', 4145), ('보', 3907), ('으로', 3900), ('로', 3879), ('수', 3835), ('는데', 3825), ('기', 3592), ('안', 3368), ('것', 3362), ('같', 3356), ('네요', 3189), ('어', 3112), ('나', 3055)]\n"
     ]
    }
   ],
   "source": [
    "positive_word_count = Counter(positive_words)\n",
    "print(positive_word_count.most_common(20))"
   ]
  },
  {
   "cell_type": "raw",
   "id": "0a24ddf6",
   "metadata": {},
   "source": [
    "두 가지 경우에 대해서 각각 길이 분포를 확인해봅시다."
   ]
  },
  {
   "cell_type": "code",
   "execution_count": 46,
   "id": "f6ad749f",
   "metadata": {},
   "outputs": [
    {
     "name": "stdout",
     "output_type": "stream",
     "text": [
      "긍정 리뷰의 평균 길이 : 14.948459100231734\n",
      "부정 리뷰의 평균 길이 : 15.284193065068493\n"
     ]
    },
    {
     "data": {
      "image/png": "[encoded data removed]",
      "text/plain": [
       "<Figure size 720x360 with 2 Axes>"
      ]
     },
     "metadata": {
      "needs_background": "light"
     },
     "output_type": "display_data"
    }
   ],
   "source": [
    "fig,(ax1,ax2) = plt.subplots(1,2,figsize=(10,5))\n",
    "text_len = train_data[train_data['label']==1]['tokenized'].map(lambda x: len(x))\n",
    "ax1.hist(text_len, color='red')\n",
    "ax1.set_title('Positive Reviews')\n",
    "ax1.set_xlabel('length of samples')\n",
    "ax1.set_ylabel('number of samples')\n",
    "print('긍정 리뷰의 평균 길이 :', np.mean(text_len))\n",
    "\n",
    "text_len = train_data[train_data['label']==0]['tokenized'].map(lambda x: len(x))\n",
    "ax2.hist(text_len, color='blue')\n",
    "ax2.set_title('Negative Reviews')\n",
    "fig.suptitle('Words in texts')\n",
    "ax2.set_xlabel('length of samples')\n",
    "ax2.set_ylabel('number of samples')\n",
    "print('부정 리뷰의 평균 길이 :', np.mean(text_len))\n",
    "plt.show()"
   ]
  },
  {
   "cell_type": "raw",
   "id": "696caf3b",
   "metadata": {},
   "source": [
    "유의미한 차이가 있는 것 같지는 않습니다."
   ]
  },
  {
   "cell_type": "code",
   "execution_count": 47,
   "id": "0f97e692",
   "metadata": {},
   "outputs": [],
   "source": [
    "X_train = train_data['tokenized'].values\n",
    "y_train = train_data['label'].values\n",
    "X_test= test_data['tokenized'].values\n",
    "y_test = test_data['label'].values"
   ]
  },
  {
   "cell_type": "markdown",
   "id": "9607b21b",
   "metadata": {},
   "source": [
    "## 7) 정수 인코딩"
   ]
  },
  {
   "cell_type": "raw",
   "id": "e371adc8",
   "metadata": {},
   "source": [
    "기계가 텍스트를 숫자로 처리할 수 있도록 훈련 데이터와 테스트 데이터에 정수 인코딩을 수행해야 합니다. \n",
    "우선, 훈련 데이터에 대해서 단어 집합(vocaburary)을 만들어봅시다."
   ]
  },
  {
   "cell_type": "code",
   "execution_count": 48,
   "id": "8a3c66b2",
   "metadata": {},
   "outputs": [],
   "source": [
    "tokenizer = Tokenizer()\n",
    "tokenizer.fit_on_texts(X_train)"
   ]
  },
  {
   "cell_type": "raw",
   "id": "1f670cdb",
   "metadata": {},
   "source": [
    "단어 집합이 생성되는 동시에 각 단어에 고유한 정수가 부여되었습니다. \n",
    "이는 tokenizer.word_index를 출력하여 확인 가능합니다. "
   ]
  },
  {
   "cell_type": "code",
   "execution_count": 50,
   "id": "9a546f76",
   "metadata": {},
   "outputs": [
    {
     "data": {
      "text/plain": [
       "{'있': 1,\n",
       " '안': 2,\n",
       " '없': 3,\n",
       " '는데': 4,\n",
       " '좋': 5,\n",
       " '할': 6,\n",
       " '습니다': 7,\n",
       " '해': 8,\n",
       " '로': 9,\n",
       " '지만': 10,\n",
       " '같': 11,\n",
       " '으로': 12,\n",
       " '기': 13,\n",
       " '보': 14,\n",
       " '나': 15,\n",
       " '거': 16,\n",
       " '재밌': 17,\n",
       " '것': 18,\n",
       " '했': 19,\n",
       " '어': 20,\n",
       " '수': 21,\n",
       " '네요': 22,\n",
       " '너무': 23,\n",
       " '아': 24,\n",
       " '않': 25,\n",
       " '적': 26,\n",
       " '플레이': 27,\n",
       " '좀': 28,\n",
       " '었': 29,\n",
       " '겠': 30,\n",
       " '시간': 31,\n",
       " '에서': 32,\n",
       " '사': 33,\n",
       " '때': 34,\n",
       " '주': 35,\n",
       " '함': 36,\n",
       " '입니다': 37,\n",
       " '재미': 38,\n",
       " '사람': 39,\n",
       " '아니': 40,\n",
       " '개': 41,\n",
       " '더': 42,\n",
       " '추천': 43,\n",
       " '내': 44,\n",
       " '서': 45,\n",
       " '잘': 46,\n",
       " '스토리': 47,\n",
       " '재미있': 48,\n",
       " '라': 49,\n",
       " '그냥': 50,\n",
       " '합니다': 51,\n",
       " '생각': 52,\n",
       " '왜': 53,\n",
       " '말': 54,\n",
       " '았': 55,\n",
       " '못': 56,\n",
       " '시': 57,\n",
       " '보다': 58,\n",
       " '해서': 59,\n",
       " '많': 60,\n",
       " '잼': 61,\n",
       " '으면': 62,\n",
       " '한글': 63,\n",
       " '갓': 64,\n",
       " '어서': 65,\n",
       " '싶': 66,\n",
       " '진짜': 67,\n",
       " '분': 68,\n",
       " '정말': 69,\n",
       " '그': 70,\n",
       " '모르': 71,\n",
       " '이거': 72,\n",
       " '돈': 73,\n",
       " '버그': 74,\n",
       " '만들': 75,\n",
       " '그래픽': 76,\n",
       " '던': 77,\n",
       " '번': 78,\n",
       " '세요': 79,\n",
       " '정도': 80,\n",
       " '면서': 81,\n",
       " '감': 82,\n",
       " '뭐': 83,\n",
       " '화': 84,\n",
       " '니': 85,\n",
       " '까지': 86,\n",
       " '원': 87,\n",
       " '중': 88,\n",
       " '다가': 89,\n",
       " '어요': 90,\n",
       " '긴': 91,\n",
       " '야': 92,\n",
       " '멀티': 93,\n",
       " '라고': 94,\n",
       " '친구': 95,\n",
       " '건': 96,\n",
       " '냐': 97,\n",
       " '데': 98,\n",
       " 'ㅋㅋㅋ': 99,\n",
       " '알': 100,\n",
       " '성': 101,\n",
       " '조작': 102,\n",
       " '느낌': 103,\n",
       " '인데': 104,\n",
       " '환불': 105,\n",
       " '처음': 106,\n",
       " '하나': 107,\n",
       " '이게': 108,\n",
       " '샀': 109,\n",
       " '퍼즐': 110,\n",
       " '아서': 111,\n",
       " 'ㅋㅋ': 112,\n",
       " '구매': 113,\n",
       " '은데': 114,\n",
       " '받': 115,\n",
       " '랑': 116,\n",
       " '걸': 117,\n",
       " '됨': 118,\n",
       " '많이': 119,\n",
       " '패치': 120,\n",
       " '다시': 121,\n",
       " '길': 122,\n",
       " '노': 123,\n",
       " '다른': 124,\n",
       " '엔딩': 125,\n",
       " '이런': 126,\n",
       " '나오': 127,\n",
       " '실행': 128,\n",
       " '다고': 129,\n",
       " '때문': 130,\n",
       " '해야': 131,\n",
       " '봤': 132,\n",
       " '시작': 133,\n",
       " '서버': 134,\n",
       " '해도': 135,\n",
       " '그리고': 136,\n",
       " '자': 137,\n",
       " '점': 138,\n",
       " '이상': 139,\n",
       " '라는': 140,\n",
       " '괜찮': 141,\n",
       " '다면': 142,\n",
       " '는지': 143,\n",
       " '난이도': 144,\n",
       " '어렵': 145,\n",
       " '무료': 146,\n",
       " '전': 147,\n",
       " '계속': 148,\n",
       " '근데': 149,\n",
       " '다는': 150,\n",
       " '도전': 151,\n",
       " '한다': 152,\n",
       " '망': 153,\n",
       " '이나': 154,\n",
       " '같이': 155,\n",
       " '요': 156,\n",
       " '줄': 157,\n",
       " '별로': 158,\n",
       " '저': 159,\n",
       " '편': 160,\n",
       " '맞': 161,\n",
       " '자체': 162,\n",
       " '진행': 163,\n",
       " '일': 164,\n",
       " '년': 165,\n",
       " '부터': 166,\n",
       " '모드': 167,\n",
       " '매우': 168,\n",
       " '된': 169,\n",
       " '마': 170,\n",
       " '엔': 171,\n",
       " '아직': 172,\n",
       " '지금': 173,\n",
       " '존나': 174,\n",
       " '찾': 175,\n",
       " '시리즈': 176,\n",
       " '스팀': 177,\n",
       " '죽': 178,\n",
       " '가격': 179,\n",
       " '조금': 180,\n",
       " '비': 181,\n",
       " '과제': 182,\n",
       " '먹': 183,\n",
       " '세일': 184,\n",
       " '가능': 185,\n",
       " '캐릭터': 186,\n",
       " '오': 187,\n",
       " '그래도': 188,\n",
       " '시발': 189,\n",
       " '제': 190,\n",
       " '지원': 191,\n",
       " '맵': 192,\n",
       " '에게': 193,\n",
       " '필요': 194,\n",
       " '짧': 195,\n",
       " '지루': 196,\n",
       " '한데': 197,\n",
       " '살': 198,\n",
       " '유저': 199,\n",
       " '재미없': 200,\n",
       " '이건': 201,\n",
       " '라면': 202,\n",
       " '아요': 203,\n",
       " '기대': 204,\n",
       " 'ㅈ': 205,\n",
       " '타임': 206,\n",
       " '깨': 207,\n",
       " '문제': 208,\n",
       " '며': 209,\n",
       " '몇': 210,\n",
       " '마세요': 211,\n",
       " '니까': 212,\n",
       " '키': 213,\n",
       " '잡': 214,\n",
       " '업데이트': 215,\n",
       " '볼': 216,\n",
       " 'ㅠㅠ': 217,\n",
       " '쓰': 218,\n",
       " '치': 219,\n",
       " '난': 220,\n",
       " '쓰레기': 221,\n",
       " '어떻게': 222,\n",
       " '재': 223,\n",
       " '할인': 224,\n",
       " '이랑': 225,\n",
       " '화면': 226,\n",
       " '진': 227,\n",
       " '최고': 228,\n",
       " '비추': 229,\n",
       " '전투': 230,\n",
       " '였': 231,\n",
       " '좆': 232,\n",
       " '남': 233,\n",
       " '만든': 234,\n",
       " '끝': 235,\n",
       " '평가': 236,\n",
       " '판': 237,\n",
       " '용': 238,\n",
       " '인지': 239,\n",
       " '드': 240,\n",
       " '가지': 241,\n",
       " '두': 242,\n",
       " '본': 243,\n",
       " '영어': 244,\n",
       " '못하': 245,\n",
       " '하지만': 246,\n",
       " '건지': 247,\n",
       " '즐기': 248,\n",
       " '불편': 249,\n",
       " '꼭': 250,\n",
       " '무슨': 251,\n",
       " '높': 252,\n",
       " '시스템': 253,\n",
       " '단점': 254,\n",
       " '죠': 255,\n",
       " '될': 256,\n",
       " '액션': 257,\n",
       " '요소': 258,\n",
       " '부족': 259,\n",
       " '병신': 260,\n",
       " '컨텐츠': 261,\n",
       " '대': 262,\n",
       " '놓': 263,\n",
       " '오류': 264,\n",
       " '개인': 265,\n",
       " '됩니다': 266,\n",
       " '전작': 267,\n",
       " '쉽': 268,\n",
       " '없이': 269,\n",
       " '뭔가': 270,\n",
       " '아쉽': 271,\n",
       " '일단': 272,\n",
       " '다만': 273,\n",
       " '후': 274,\n",
       " '넘': 275,\n",
       " '반복': 276,\n",
       " '플': 277,\n",
       " '려고': 278,\n",
       " '부분': 279,\n",
       " '여': 280,\n",
       " '크': 281,\n",
       " '이걸': 282,\n",
       " '한국어': 283,\n",
       " '꿀': 284,\n",
       " '불': 285,\n",
       " '솔직히': 286,\n",
       " '모든': 287,\n",
       " '맛': 288,\n",
       " '그런': 289,\n",
       " '마다': 290,\n",
       " '빡': 291,\n",
       " '렉': 292,\n",
       " '된다': 293,\n",
       " '보이': 294,\n",
       " '설정': 295,\n",
       " '처럼': 296,\n",
       " '팅': 297,\n",
       " '아주': 298,\n",
       " '나름': 299,\n",
       " '새끼': 300,\n",
       " '배': 301,\n",
       " '딱': 302,\n",
       " '뜨': 303,\n",
       " '스': 304,\n",
       " '뿐': 305,\n",
       " '명작': 306,\n",
       " '짜증': 307,\n",
       " '초반': 308,\n",
       " '힘들': 309,\n",
       " '이렇게': 310,\n",
       " '또': 311,\n",
       " '핵': 312,\n",
       " '바로': 313,\n",
       " 'ㄷ': 314,\n",
       " '즐길': 315,\n",
       " '그렇': 316,\n",
       " '산': 317,\n",
       " '꽤': 318,\n",
       " '추가': 319,\n",
       " '버리': 320,\n",
       " '더니': 321,\n",
       " '패드': 322,\n",
       " '분위기': 323,\n",
       " '혼자': 324,\n",
       " '버전': 325,\n",
       " '싫': 326,\n",
       " '타격': 327,\n",
       " '빼': 328,\n",
       " '옵': 329,\n",
       " '가장': 330,\n",
       " '밋': 331,\n",
       " '명': 332,\n",
       " '작품': 333,\n",
       " '이유': 334,\n",
       " '제발': 335,\n",
       " '엄청': 336,\n",
       " '작': 337,\n",
       " '애': 338,\n",
       " '절대': 339,\n",
       " '수준': 340,\n",
       " '참': 341,\n",
       " '타': 342,\n",
       " 'ㄹ': 343,\n",
       " '노가다': 344,\n",
       " '추억': 345,\n",
       " '신': 346,\n",
       " '프레임': 347,\n",
       " 'ㅎㅎ': 348,\n",
       " '역시': 349,\n",
       " '오래': 350,\n",
       " '걍': 351,\n",
       " '등': 352,\n",
       " '카드': 353,\n",
       " '아닌': 354,\n",
       " '취향': 355,\n",
       " '총': 356,\n",
       " '이제': 357,\n",
       " '놈': 358,\n",
       " '나쁘': 359,\n",
       " '제대로': 360,\n",
       " '발': 361,\n",
       " '질': 362,\n",
       " '마음': 363,\n",
       " '키보드': 364,\n",
       " '라서': 365,\n",
       " '한테': 366,\n",
       " '한국': 367,\n",
       " '빨리': 368,\n",
       " '손': 369,\n",
       " '머리': 370,\n",
       " '기분': 371,\n",
       " '들어가': 372,\n",
       " 'ㅅ': 373,\n",
       " '어도': 374,\n",
       " '장점': 375,\n",
       " '씩': 376,\n",
       " '단순': 377,\n",
       " '눈': 378,\n",
       " '차라리': 379,\n",
       " '거나': 380,\n",
       " '이해': 381,\n",
       " '세이브': 382,\n",
       " '보스': 383,\n",
       " '는다': 384,\n",
       " '천': 385,\n",
       " '물': 386,\n",
       " '무기': 387,\n",
       " '음악': 388,\n",
       " '실': 389,\n",
       " '라도': 390,\n",
       " '만큼': 391,\n",
       " '쳐': 392,\n",
       " '아깝': 393,\n",
       " '으니': 394,\n",
       " '으나': 395,\n",
       " '다양': 396,\n",
       " '씹': 397,\n",
       " '풀': 398,\n",
       " '마우스': 399,\n",
       " '자꾸': 400,\n",
       " '옛날': 401,\n",
       " '팔': 402,\n",
       " '어디': 403,\n",
       " '컴퓨터': 404,\n",
       " '당신': 405,\n",
       " '님': 406,\n",
       " '저장': 407,\n",
       " '밸런스': 408,\n",
       " '인생': 409,\n",
       " '동안': 410,\n",
       " 'ㅇ': 411,\n",
       " '공포': 412,\n",
       " '최적화': 413,\n",
       " '로딩': 414,\n",
       " '인가': 415,\n",
       " '상당히': 416,\n",
       " '다음': 417,\n",
       " '아님': 418,\n",
       " '만드': 419,\n",
       " '짐': 420,\n",
       " '핑': 421,\n",
       " '답': 422,\n",
       " '해결': 423,\n",
       " '차': 424,\n",
       " '배경': 425,\n",
       " '뒤': 426,\n",
       " '약간': 427,\n",
       " '컴': 428,\n",
       " '방식': 429,\n",
       " '후회': 430,\n",
       " '비해': 431,\n",
       " '미션': 432,\n",
       " 'ㄴ': 433,\n",
       " '러': 434,\n",
       " '구입': 435,\n",
       " '삭제': 436,\n",
       " '설명': 437,\n",
       " '빨': 438,\n",
       " '거의': 439,\n",
       " '이후': 440,\n",
       " '돼': 441,\n",
       " '간단': 442,\n",
       " '어야': 443,\n",
       " '싱글': 444,\n",
       " '매칭': 445,\n",
       " '온라인': 446,\n",
       " '사양': 447,\n",
       " '튕기': 448,\n",
       " '컨트롤': 449,\n",
       " '해요': 450,\n",
       " '중간': 451,\n",
       " 'ㅡㅡ': 452,\n",
       " '사용': 453,\n",
       " '느끼': 454,\n",
       " '이것': 455,\n",
       " '방법': 456,\n",
       " '셈': 457,\n",
       " '소리': 458,\n",
       " '여러': 459,\n",
       " '주인공': 460,\n",
       " '글': 461,\n",
       " '출시': 462,\n",
       " '비슷': 463,\n",
       " '큰': 464,\n",
       " '나요': 465,\n",
       " '좋아하': 466,\n",
       " '굉장히': 467,\n",
       " '걸리': 468,\n",
       " '레벨': 469,\n",
       " '마지막': 470,\n",
       " '날': 471,\n",
       " '어려운': 472,\n",
       " '바': 473,\n",
       " '어느': 474,\n",
       " '멀미': 475,\n",
       " '스테이지': 476,\n",
       " '업': 477,\n",
       " '워': 478,\n",
       " '넣': 479,\n",
       " '사세요': 480,\n",
       " '해라': 481,\n",
       " '번역': 482,\n",
       " '드립니다': 483,\n",
       " '만족': 484,\n",
       " '그래서': 485,\n",
       " '막': 486,\n",
       " '방': 487,\n",
       " '나왔': 488,\n",
       " '가끔': 489,\n",
       " '실망': 490,\n",
       " '뭘': 491,\n",
       " '갑자기': 492,\n",
       " '쯤': 493,\n",
       " '클리어': 494,\n",
       " '개꿀': 495,\n",
       " '미친': 496,\n",
       " '좆같': 497,\n",
       " '깔': 498,\n",
       " '튜토리얼': 499,\n",
       " '속': 500,\n",
       " '제일': 501,\n",
       " '코': 502,\n",
       " '팬': 503,\n",
       " '물론': 504,\n",
       " '전혀': 505,\n",
       " '든': 506,\n",
       " '다운': 507,\n",
       " '싸': 508,\n",
       " '사실': 509,\n",
       " '설치': 510,\n",
       " '접': 511,\n",
       " '밖에': 512,\n",
       " '한다면': 513,\n",
       " '리': 514,\n",
       " '자신': 515,\n",
       " '얻': 516,\n",
       " '연출': 517,\n",
       " '뭔': 518,\n",
       " '아무': 519,\n",
       " '째': 520,\n",
       " '씨': 521,\n",
       " '집': 522,\n",
       " '운': 523,\n",
       " '잇': 524,\n",
       " '란': 525,\n",
       " '앞': 526,\n",
       " '기본': 527,\n",
       " '아쉬운': 528,\n",
       " '별': 529,\n",
       " '그림': 530,\n",
       " '충분히': 531,\n",
       " '언제': 532,\n",
       " '급': 533,\n",
       " '현실': 534,\n",
       " '꺼': 535,\n",
       " '아이템': 536,\n",
       " '류': 537,\n",
       " '훌륭': 538,\n",
       " '창': 539,\n",
       " '켜': 540,\n",
       " '어려움': 541,\n",
       " '쏘': 542,\n",
       " '다니': 543,\n",
       " 'ㄱ': 544,\n",
       " '정신': 545,\n",
       " 'ㅋ': 546,\n",
       " '내용': 547,\n",
       " '밖': 548,\n",
       " '영화': 549,\n",
       " '나가': 550,\n",
       " '클릭': 551,\n",
       " '그렇게': 552,\n",
       " '그러': 553,\n",
       " '턴': 554,\n",
       " '힐링': 555,\n",
       " '선택': 556,\n",
       " '무엇': 557,\n",
       " '듬': 558,\n",
       " '답답': 559,\n",
       " '완전': 560,\n",
       " '누르': 561,\n",
       " '에요': 562,\n",
       " '전부': 563,\n",
       " '모두': 564,\n",
       " '너': 565,\n",
       " '얼리': 566,\n",
       " '미': 567,\n",
       " '최악': 568,\n",
       " '클': 569,\n",
       " '달': 570,\n",
       " '트': 571,\n",
       " '모바일': 572,\n",
       " '이야기': 573,\n",
       " '흥미': 574,\n",
       " '예전': 575,\n",
       " '귀엽': 576,\n",
       " '기능': 577,\n",
       " '따': 578,\n",
       " '겟': 579,\n",
       " '맘': 580,\n",
       " '짓': 581,\n",
       " '줬': 582,\n",
       " '그런지': 583,\n",
       " 'ㅠ': 584,\n",
       " '캐': 585,\n",
       " '영상': 586,\n",
       " 'ㅂ': 587,\n",
       " '특히': 588,\n",
       " '팀': 589,\n",
       " '나중': 590,\n",
       " '낮': 591,\n",
       " '우리': 592,\n",
       " '플레이어': 593,\n",
       " '훨씬': 594,\n",
       " '개발': 595,\n",
       " '함께': 596,\n",
       " '몰입': 597,\n",
       " '질리': 598,\n",
       " '봐야': 599,\n",
       " '죽이': 600,\n",
       " '인물': 601,\n",
       " '공략': 602,\n",
       " '됐': 603,\n",
       " '그대로': 604,\n",
       " '결국': 605,\n",
       " '암': 606,\n",
       " '박': 607,\n",
       " '딱히': 608,\n",
       " '완벽': 609,\n",
       " '전체': 610,\n",
       " '가볍': 611,\n",
       " '사운드': 612,\n",
       " '찍': 613,\n",
       " '거지': 614,\n",
       " '윈도우': 615,\n",
       " '돌': 616,\n",
       " '퀄리티': 617,\n",
       " '잠깐': 618,\n",
       " '월드': 619,\n",
       " '퀘스트': 620,\n",
       " '시키': 621,\n",
       " '구': 622,\n",
       " '힘': 623,\n",
       " '파': 624,\n",
       " '겁니다': 625,\n",
       " '가치': 626,\n",
       " '나온': 627,\n",
       " '무한': 628,\n",
       " '속도': 629,\n",
       " '회차': 630,\n",
       " '전략': 631,\n",
       " '적당': 632,\n",
       " '그런데': 633,\n",
       " '소울': 634,\n",
       " '단': 635,\n",
       " '케': 636,\n",
       " '매력': 637,\n",
       " '똑같': 638,\n",
       " '려면': 639,\n",
       " '금방': 640,\n",
       " '강추': 641,\n",
       " '길래': 642,\n",
       " '버렸': 643,\n",
       " '그것': 644,\n",
       " '경우': 645,\n",
       " '스트레스': 646,\n",
       " '최적': 647,\n",
       " '위': 648,\n",
       " '보단': 649,\n",
       " '심하': 650,\n",
       " '엔진': 651,\n",
       " '스럽': 652,\n",
       " '초': 653,\n",
       " '알려': 654,\n",
       " '여기': 655,\n",
       " '덕': 656,\n",
       " '탐': 657,\n",
       " '대한': 658,\n",
       " '까': 659,\n",
       " '무': 660,\n",
       " 'ㅎ': 661,\n",
       " '무조건': 662,\n",
       " '언어': 663,\n",
       " '값': 664,\n",
       " '을까': 665,\n",
       " '아무리': 666,\n",
       " '그저': 667,\n",
       " '텐데': 668,\n",
       " '새로운': 669,\n",
       " '우주': 670,\n",
       " '디자인': 671,\n",
       " '도트': 672,\n",
       " '중독': 673,\n",
       " '느낄': 674,\n",
       " '머': 675,\n",
       " '위해': 676,\n",
       " '세': 677,\n",
       " '개발자': 678,\n",
       " '이딴': 679,\n",
       " '순간': 680,\n",
       " '곳': 681,\n",
       " '믿': 682,\n",
       " '김': 683,\n",
       " '하고': 684,\n",
       " '보여': 685,\n",
       " '인터페이스': 686,\n",
       " '갈수록': 687,\n",
       " '장르': 688,\n",
       " '무섭': 689,\n",
       " '존': 690,\n",
       " '그게': 691,\n",
       " '극': 692,\n",
       " '정가': 693,\n",
       " '대체': 694,\n",
       " '둘': 695,\n",
       " '볼륨': 696,\n",
       " '욕': 697,\n",
       " '오브': 698,\n",
       " '나올': 699,\n",
       " '이번': 700,\n",
       " '그거': 701,\n",
       " '다크': 702,\n",
       " '기억': 703,\n",
       " '파일': 704,\n",
       " '돌아가': 705,\n",
       " '삼': 706,\n",
       " '낫': 707,\n",
       " '신선': 708,\n",
       " '브금': 709,\n",
       " '쉬': 710,\n",
       " '모션': 711,\n",
       " '심심': 712,\n",
       " '간': 713,\n",
       " '상': 714,\n",
       " '첫': 715,\n",
       " '현질': 716,\n",
       " '다르': 717,\n",
       " '빠': 718,\n",
       " '참신': 719,\n",
       " '오랜만': 720,\n",
       " '아야': 721,\n",
       " '대로': 722,\n",
       " '여러분': 723,\n",
       " '됬': 724,\n",
       " '생존': 725,\n",
       " '그러나': 726,\n",
       " '인디': 727,\n",
       " '짜리': 728,\n",
       " '노래': 729,\n",
       " '복잡': 730,\n",
       " '겁나': 731,\n",
       " '떨어지': 732,\n",
       " '버튼': 733,\n",
       " '얼마나': 734,\n",
       " '오픈': 735,\n",
       " '마스터': 736,\n",
       " '점프': 737,\n",
       " '고전': 738,\n",
       " '식': 739,\n",
       " '상태': 740,\n",
       " '못함': 741,\n",
       " '거기': 742,\n",
       " '개선': 743,\n",
       " '고인': 744,\n",
       " '쉬운': 745,\n",
       " '롭': 746,\n",
       " '스킬': 747,\n",
       " '몰': 748,\n",
       " '발전': 749,\n",
       " '의미': 750,\n",
       " '귀찮': 751,\n",
       " '공격': 752,\n",
       " '관리': 753,\n",
       " '달리': 754,\n",
       " '세계': 755,\n",
       " '접속': 756,\n",
       " '버린': 757,\n",
       " '킬링': 758,\n",
       " '으며': 759,\n",
       " '레이싱': 760,\n",
       " '인간': 761,\n",
       " '너무나': 762,\n",
       " '정식': 763,\n",
       " '형': 764,\n",
       " '외': 765,\n",
       " '아도': 766,\n",
       " '시점': 767,\n",
       " '하루': 768,\n",
       " '친절': 769,\n",
       " '감동': 770,\n",
       " '문명': 771,\n",
       " '후속작': 772,\n",
       " '포': 773,\n",
       " '분명': 774,\n",
       " '엑': 775,\n",
       " '임은': 776,\n",
       " '익숙': 777,\n",
       " '제작자': 778,\n",
       " '콜': 779,\n",
       " '버': 780,\n",
       " '준': 781,\n",
       " '중요': 782,\n",
       " '군요': 783,\n",
       " '자주': 784,\n",
       " '피': 785,\n",
       " '후반': 786,\n",
       " '법': 787,\n",
       " '반': 788,\n",
       " '아무것': 789,\n",
       " '구요': 790,\n",
       " '조차': 791,\n",
       " '슈팅': 792,\n",
       " '고쳐': 793,\n",
       " '쓸': 794,\n",
       " '자마자': 795,\n",
       " '어떤': 796,\n",
       " '이미': 797,\n",
       " '참고': 798,\n",
       " '이동': 799,\n",
       " '입': 800,\n",
       " '확실히': 801,\n",
       " '흠': 802,\n",
       " '귀여운': 803,\n",
       " '불친절': 804,\n",
       " '자기': 805,\n",
       " '포기': 806,\n",
       " '했었': 807,\n",
       " '굿': 808,\n",
       " '잘못': 809,\n",
       " '봐': 810,\n",
       " '위한': 811,\n",
       " '디펜스': 812,\n",
       " '구성': 813,\n",
       " '존재': 814,\n",
       " '진심': 815,\n",
       " '졌': 816,\n",
       " '이름': 817,\n",
       " '던가': 818,\n",
       " '현재': 819,\n",
       " '뭔지': 820,\n",
       " '줘': 821,\n",
       " '약': 822,\n",
       " '심각': 823,\n",
       " '감사': 824,\n",
       " '한국인': 825,\n",
       " '수정': 826,\n",
       " '기준': 827,\n",
       " '초기': 828,\n",
       " '넘어가': 829,\n",
       " '비싸': 830,\n",
       " '움직이': 831,\n",
       " '지나': 832,\n",
       " '차이': 833,\n",
       " '바꾸': 834,\n",
       " '장난': 835,\n",
       " '셨': 836,\n",
       " '리듬': 837,\n",
       " '올': 838,\n",
       " '그나마': 839,\n",
       " '느껴': 840,\n",
       " '회사': 841,\n",
       " '잖아': 842,\n",
       " '햇': 843,\n",
       " '갔': 844,\n",
       " '깰': 845,\n",
       " '종료': 846,\n",
       " '맨': 847,\n",
       " '리어': 848,\n",
       " '아쉬움': 849,\n",
       " '읽': 850,\n",
       " '로그라이크': 851,\n",
       " '랍': 852,\n",
       " '얼마': 853,\n",
       " '굳이': 854,\n",
       " '더라': 855,\n",
       " '즐겁': 856,\n",
       " '섭': 857,\n",
       " '갈': 858,\n",
       " '직접': 859,\n",
       " '끄': 860,\n",
       " '폰': 861,\n",
       " '운영': 862,\n",
       " '따라': 863,\n",
       " '캠페인': 864,\n",
       " '한번': 865,\n",
       " 'ㅇㅇ': 866,\n",
       " '그럼': 867,\n",
       " '삿': 868,\n",
       " '부': 869,\n",
       " '파밍': 870,\n",
       " '라이프': 871,\n",
       " '봄': 872,\n",
       " '도저히': 873,\n",
       " '점점': 874,\n",
       " '왔': 875,\n",
       " '에겐': 876,\n",
       " '도대체': 877,\n",
       " '힘든': 878,\n",
       " '팩': 879,\n",
       " '적응': 880,\n",
       " '스타일': 881,\n",
       " '장벽': 882,\n",
       " '튕김': 883,\n",
       " '초보': 884,\n",
       " 'ㅣ': 885,\n",
       " '한다고': 886,\n",
       " '든다': 887,\n",
       " '대전': 888,\n",
       " '에러': 889,\n",
       " '짱': 890,\n",
       " '프로그램': 891,\n",
       " '그리': 892,\n",
       " '건가': 893,\n",
       " '종류': 894,\n",
       " '아예': 895,\n",
       " '아닙니다': 896,\n",
       " '건데': 897,\n",
       " '몹': 898,\n",
       " '비교': 899,\n",
       " '기존': 900,\n",
       " '시대': 901,\n",
       " '니깐': 902,\n",
       " '사고': 903,\n",
       " '도록': 904,\n",
       " '디': 905,\n",
       " '점수': 906,\n",
       " '현상': 907,\n",
       " '누가': 908,\n",
       " '한다는': 909,\n",
       " '맞추': 910,\n",
       " '템': 911,\n",
       " '으면서': 912,\n",
       " '열': 913,\n",
       " '터': 914,\n",
       " '에선': 915,\n",
       " '입문': 916,\n",
       " '려': 917,\n",
       " '엄청난': 918,\n",
       " '나와서': 919,\n",
       " '만나': 920,\n",
       " '적당히': 921,\n",
       " '거리': 922,\n",
       " '세상': 923,\n",
       " '조': 924,\n",
       " '벌': 925,\n",
       " '하프': 926,\n",
       " '써': 927,\n",
       " '월': 928,\n",
       " '신경': 929,\n",
       " '사기': 930,\n",
       " '요즘': 931,\n",
       " '여전히': 932,\n",
       " '와서': 933,\n",
       " '갑니다': 934,\n",
       " '시뮬레이터': 935,\n",
       " '나옴': 936,\n",
       " '시뮬레이션': 937,\n",
       " '자동': 938,\n",
       " '그럭저럭': 939,\n",
       " '따로': 940,\n",
       " '더럽': 941,\n",
       " '무난': 942,\n",
       " '못한': 943,\n",
       " '달성': 944,\n",
       " '못했': 945,\n",
       " '떄': 946,\n",
       " '런': 947,\n",
       " '레': 948,\n",
       " '뽕': 949,\n",
       " '이러': 950,\n",
       " '마시': 951,\n",
       " '먼저': 952,\n",
       " '곤': 953,\n",
       " '듣': 954,\n",
       " '컨셉': 955,\n",
       " '스러운': 956,\n",
       " '돌리': 957,\n",
       " '메인': 958,\n",
       " '사면': 959,\n",
       " '킹': 960,\n",
       " 'ㅜㅜ': 961,\n",
       " '고민': 962,\n",
       " '상황': 963,\n",
       " '한판': 964,\n",
       " '공짜': 965,\n",
       " '굳': 966,\n",
       " '어쩌': 967,\n",
       " '옵션': 968,\n",
       " '끼리': 969,\n",
       " '플랫': 970,\n",
       " '원래': 971,\n",
       " '으신': 972,\n",
       " '기다리': 973,\n",
       " '이용': 974,\n",
       " '챕터': 975,\n",
       " '등등': 976,\n",
       " '불가': 977,\n",
       " '랄': 978,\n",
       " '제외': 979,\n",
       " '시절': 980,\n",
       " '라이브러리': 981,\n",
       " '컷': 982,\n",
       " '리뷰': 983,\n",
       " '멈추': 984,\n",
       " '살짝': 985,\n",
       " '침': 986,\n",
       " '실력': 987,\n",
       " '표현': 988,\n",
       " '모으': 989,\n",
       " '연결': 990,\n",
       " '대충': 991,\n",
       " '어려워서': 992,\n",
       " '유료': 993,\n",
       " '앤': 994,\n",
       " '당': 995,\n",
       " '바뀌': 996,\n",
       " '테': 997,\n",
       " '버림': 998,\n",
       " '으시': 999,\n",
       " '연습': 1000,\n",
       " ...}"
      ]
     },
     "execution_count": 50,
     "metadata": {},
     "output_type": "execute_result"
    }
   ],
   "source": [
    "tokenizer.word_index"
   ]
  },
  {
   "cell_type": "raw",
   "id": "38c3b831",
   "metadata": {},
   "source": [
    "등장 횟수가 1회인 단어들은 자연어 처리에서 배제하고자 합니다. \n",
    "이 단어들이 이 데이터에서 얼만큼의 비중을 차지하는지 확인해봅시다."
   ]
  },
  {
   "cell_type": "code",
   "execution_count": 51,
   "id": "ea84263f",
   "metadata": {},
   "outputs": [
    {
     "name": "stdout",
     "output_type": "stream",
     "text": [
      "단어 집합(vocabulary)의 크기 : 32817\n",
      "등장 빈도가 1번 이하인 희귀 단어의 수: 13878\n",
      "단어 집합에서 희귀 단어의 비율: 42.28905750068562\n",
      "전체 등장 빈도에서 희귀 단어 등장 빈도 비율: 1.2254607619437832\n"
     ]
    }
   ],
   "source": [
    "threshold = 2\n",
    "total_cnt = len(tokenizer.word_index) # 단어의 수\n",
    "rare_cnt = 0 # 등장 빈도수가 threshold보다 작은 단어의 개수를 카운트\n",
    "total_freq = 0 # 훈련 데이터의 전체 단어 빈도수 총 합\n",
    "rare_freq = 0 # 등장 빈도수가 threshold보다 작은 단어의 등장 빈도수의 총 합\n",
    "\n",
    "# 단어와 빈도수의 쌍(pair)을 key와 value로 받는다.\n",
    "for key, value in tokenizer.word_counts.items():\n",
    "    total_freq = total_freq + value\n",
    "\n",
    "    # 단어의 등장 빈도수가 threshold보다 작으면\n",
    "    if(value < threshold):\n",
    "        rare_cnt = rare_cnt + 1\n",
    "        rare_freq = rare_freq + value\n",
    "\n",
    "print('단어 집합(vocabulary)의 크기 :',total_cnt)\n",
    "print('등장 빈도가 %s번 이하인 희귀 단어의 수: %s'%(threshold - 1, rare_cnt))\n",
    "print(\"단어 집합에서 희귀 단어의 비율:\", (rare_cnt / total_cnt)*100)\n",
    "print(\"전체 등장 빈도에서 희귀 단어 등장 빈도 비율:\", (rare_freq / total_freq)*100)"
   ]
  },
  {
   "cell_type": "raw",
   "id": "801c4c70",
   "metadata": {},
   "source": [
    "단어가 약 32,000개가 존재합니다. 등장 빈도가 threshold 값인 2회 미만. 즉, 1회인 단어들은 단어 집합에서 약 42%를 차지합니다. 하지만, 실제로 훈련 데이터에서 등장 빈도로 차지하는 비중은 매우 적은 수치인 약 1.2%밖에 되지 않습니다. \n",
    "아무래도 등장 빈도가 1회인 단어들은 자연어 처리에서 별로 중요하지 않을 듯 합니다. 그래서 이 단어들은 정수 인코딩 과정에서 배제시키겠습니다. 등장 빈도수가 1인 단어들의 수를 제외한 단어의 개수를 단어 집합의 최대 크기로 제한하겠습니다."
   ]
  },
  {
   "cell_type": "code",
   "execution_count": 52,
   "id": "b94bd3f2",
   "metadata": {},
   "outputs": [
    {
     "name": "stdout",
     "output_type": "stream",
     "text": [
      "단어 집합의 크기 : 18941\n"
     ]
    }
   ],
   "source": [
    "# 전체 단어 개수 중 빈도수 2이하인 단어 개수는 제거.\n",
    "# 0번 패딩 토큰과 1번 OOV 토큰을 고려하여 +2\n",
    "vocab_size = total_cnt - rare_cnt + 2\n",
    "print('단어 집합의 크기 :',vocab_size)"
   ]
  },
  {
   "cell_type": "raw",
   "id": "63ec3f5b",
   "metadata": {},
   "source": [
    "단어 집합의 크기는 18,941개입니다. \n",
    "이를 토크나이저의 인자로 넘겨주면, 토크나이저는 텍스트 시퀀스를 숫자 시퀀스로 변환합니다. \n",
    "이러한 정수 인코딩 과정에서 이보다 큰 숫자가 부여된 단어들은 OOV로 변환하겠습니다."
   ]
  },
  {
   "cell_type": "code",
   "execution_count": 53,
   "id": "64a1bdc7",
   "metadata": {},
   "outputs": [],
   "source": [
    "tokenizer = Tokenizer(vocab_size, oov_token = 'OOV') \n",
    "tokenizer.fit_on_texts(X_train)\n",
    "X_train = tokenizer.texts_to_sequences(X_train)\n",
    "X_test = tokenizer.texts_to_sequences(X_test)"
   ]
  },
  {
   "cell_type": "raw",
   "id": "78e63b30",
   "metadata": {},
   "source": [
    "정수 인코딩이 진행되었는지 확인하고자 X_train과 X_test에 대해서 상위 3개의 샘플만 출력합니다."
   ]
  },
  {
   "cell_type": "code",
   "execution_count": 54,
   "id": "de3e211a",
   "metadata": {},
   "outputs": [
    {
     "name": "stdout",
     "output_type": "stream",
     "text": [
      "[[495, 7, 35, 87, 149, 2429, 599, 26, 8, 70, 47, 235, 111, 38, 44, 52], [161, 300, 18, 20, 63, 3582, 985, 6, 56], [7, 17, 1476, 4]]\n"
     ]
    }
   ],
   "source": [
    "print(X_train[:3])"
   ]
  },
  {
   "cell_type": "code",
   "execution_count": 55,
   "id": "1e5c426b",
   "metadata": {},
   "outputs": [
    {
     "name": "stdout",
     "output_type": "stream",
     "text": [
      "[[728, 34, 16, 431, 52, 106, 132, 99, 6461, 453], [4527, 687, 835, 712, 792, 108, 4, 1779, 95, 370, 3518, 81, 558, 1904, 4189, 262, 169, 61, 25, 363, 35, 87, 974, 19, 6294, 6422], [1792, 806, 685, 49, 23, 349]]\n"
     ]
    }
   ],
   "source": [
    "print(X_test[:3])"
   ]
  },
  {
   "cell_type": "markdown",
   "id": "e098f02a",
   "metadata": {},
   "source": [
    "## 8) 패딩"
   ]
  },
  {
   "cell_type": "raw",
   "id": "bde7efe6",
   "metadata": {},
   "source": [
    "서로 다른 길이의 샘플들의 길이를 동일하게 맞춰주는 패딩 작업을 진행해보겠습니다. \n",
    "전체 데이터에서 가장 길이가 긴 리뷰와 전체 데이터의 길이 분포를 알아보겠습니다."
   ]
  },
  {
   "cell_type": "code",
   "execution_count": 56,
   "id": "b366e2bb",
   "metadata": {},
   "outputs": [
    {
     "name": "stdout",
     "output_type": "stream",
     "text": [
      "리뷰의 최대 길이 : 64\n",
      "리뷰의 평균 길이 : 15.115951894712957\n"
     ]
    },
    {
     "data": {
      "image/png": "[encoded data removed]",
      "text/plain": [
       "<Figure size 432x288 with 1 Axes>"
      ]
     },
     "metadata": {
      "needs_background": "light"
     },
     "output_type": "display_data"
    }
   ],
   "source": [
    "print('리뷰의 최대 길이 :',max(len(review) for review in X_train))\n",
    "print('리뷰의 평균 길이 :',sum(map(len, X_train))/len(X_train))\n",
    "plt.hist([len(review) for review in X_train], bins=50)\n",
    "plt.xlabel('length of samples')\n",
    "plt.ylabel('number of samples')\n",
    "plt.show()"
   ]
  },
  {
   "cell_type": "raw",
   "id": "3621de3d",
   "metadata": {},
   "source": [
    "리뷰의 최대 길이는 64, 평균 길이는 약 15입니다. \n",
    "그래프로 봤을 때, 전체적으로는 60이하의 길이를 가지는 것으로 보입니다."
   ]
  },
  {
   "cell_type": "code",
   "execution_count": 58,
   "id": "5c3ac2b5",
   "metadata": {},
   "outputs": [],
   "source": [
    "def below_threshold_len(max_len, nested_list):\n",
    "    count = 0\n",
    "    for sentence in nested_list:\n",
    "        if(len(sentence) <= max_len):\n",
    "            count = count + 1\n",
    "    print('전체 샘플 중 길이가 %s 이하인 샘플의 비율: %s'%(max_len, (count / len(nested_list))*100))"
   ]
  },
  {
   "cell_type": "raw",
   "id": "7a1d75e6",
   "metadata": {},
   "source": [
    "최대 길이가 64이므로 만약 60으로 패딩할 경우, 몇 개의 샘플들을 온전히 보전할 수 있는지 확인합니다."
   ]
  },
  {
   "cell_type": "code",
   "execution_count": 59,
   "id": "e16ef2e8",
   "metadata": {},
   "outputs": [
    {
     "name": "stdout",
     "output_type": "stream",
     "text": [
      "전체 샘플 중 길이가 60 이하인 샘플의 비율: 99.99599567532935\n"
     ]
    }
   ],
   "source": [
    "max_len = 60\n",
    "below_threshold_len(max_len, X_train)"
   ]
  },
  {
   "cell_type": "raw",
   "id": "0fa523e8",
   "metadata": {},
   "source": [
    "훈련용 리뷰의 99.99%가 60이하의 길이를 가집니다. \n",
    "훈련용 리뷰를 길이 60으로 패딩하겠습니다."
   ]
  },
  {
   "cell_type": "code",
   "execution_count": 60,
   "id": "e8b57cd8",
   "metadata": {},
   "outputs": [],
   "source": [
    "X_train = pad_sequences(X_train, maxlen=max_len)\n",
    "X_test = pad_sequences(X_test, maxlen=max_len)"
   ]
  },
  {
   "cell_type": "markdown",
   "id": "5fb0c392",
   "metadata": {},
   "source": [
    "# 4. BiLSTM으로 스팀 리뷰 감성 분류하기"
   ]
  },
  {
   "cell_type": "raw",
   "id": "85a7e5fa",
   "metadata": {},
   "source": [
    "하이퍼파라미터, EarlyStopping과 ModelCheckpoint와 같은 모델에 대한 상세 코드는 네이버 영화 리뷰 분류와 네이버 쇼핑 리뷰 분류 때와 크게 다르지 않습니다. \n",
    "\n",
    "하지만 이번에는 양방향 LSTM을 사용했다는 점에서 앞선 실습들과 차이를 보입니다. LSTM이 Bidirectional( ) 안에 기재되었다는 사실에 주목합시다."
   ]
  },
  {
   "cell_type": "code",
   "execution_count": 61,
   "id": "b8a4c92f",
   "metadata": {},
   "outputs": [
    {
     "name": "stdout",
     "output_type": "stream",
     "text": [
      "Epoch 1/15\n",
      "234/235 [============================>.] - ETA: 0s - loss: 0.5300 - acc: 0.7408\n",
      "Epoch 1: val_acc improved from -inf to 0.77516, saving model to best_model.h5\n",
      "235/235 [==============================] - 49s 199ms/step - loss: 0.5300 - acc: 0.7408 - val_loss: 0.4777 - val_acc: 0.7752\n",
      "Epoch 2/15\n",
      "235/235 [==============================] - ETA: 0s - loss: 0.4329 - acc: 0.8024\n",
      "Epoch 2: val_acc improved from 0.77516 to 0.78444, saving model to best_model.h5\n",
      "235/235 [==============================] - 48s 204ms/step - loss: 0.4329 - acc: 0.8024 - val_loss: 0.4680 - val_acc: 0.7844\n",
      "Epoch 3/15\n",
      "235/235 [==============================] - ETA: 0s - loss: 0.4074 - acc: 0.8182\n",
      "Epoch 3: val_acc did not improve from 0.78444\n",
      "235/235 [==============================] - 47s 199ms/step - loss: 0.4074 - acc: 0.8182 - val_loss: 0.4700 - val_acc: 0.7826\n",
      "Epoch 4/15\n",
      "235/235 [==============================] - ETA: 0s - loss: 0.3880 - acc: 0.8285\n",
      "Epoch 4: val_acc did not improve from 0.78444\n",
      "235/235 [==============================] - 47s 200ms/step - loss: 0.3880 - acc: 0.8285 - val_loss: 0.5084 - val_acc: 0.7783\n",
      "Epoch 5/15\n",
      "235/235 [==============================] - ETA: 0s - loss: 0.3676 - acc: 0.8398\n",
      "Epoch 5: val_acc improved from 0.78444 to 0.78791, saving model to best_model.h5\n",
      "235/235 [==============================] - 47s 200ms/step - loss: 0.3676 - acc: 0.8398 - val_loss: 0.5128 - val_acc: 0.7879\n",
      "Epoch 6/15\n",
      "234/235 [============================>.] - ETA: 0s - loss: 0.3488 - acc: 0.8487\n",
      "Epoch 6: val_acc did not improve from 0.78791\n",
      "235/235 [==============================] - 47s 199ms/step - loss: 0.3490 - acc: 0.8487 - val_loss: 0.4851 - val_acc: 0.7744\n",
      "Epoch 6: early stopping\n"
     ]
    }
   ],
   "source": [
    "import re\n",
    "from tensorflow.keras.layers import Embedding, Dense, LSTM, Bidirectional\n",
    "from tensorflow.keras.models import Sequential\n",
    "from tensorflow.keras.models import load_model\n",
    "from tensorflow.keras.callbacks import EarlyStopping, ModelCheckpoint\n",
    "\n",
    "embedding_dim = 100\n",
    "hidden_units = 128\n",
    "\n",
    "model = Sequential()\n",
    "model.add(Embedding(vocab_size, embedding_dim))\n",
    "model.add(Bidirectional(LSTM(hidden_units))) # Bidirectional LSTM을 사용\n",
    "model.add(Dense(1, activation='sigmoid'))\n",
    "\n",
    "es = EarlyStopping(monitor='val_loss', mode='min', verbose=1, patience=4)\n",
    "mc = ModelCheckpoint('best_model.h5', monitor='val_acc', mode='max', verbose=1, save_best_only=True)\n",
    "\n",
    "model.compile(optimizer='rmsprop', loss='binary_crossentropy', metrics=['acc'])\n",
    "history = model.fit(X_train, y_train, epochs=15, callbacks=[es, mc], batch_size=256, validation_split=0.2)"
   ]
  },
  {
   "cell_type": "code",
   "execution_count": 62,
   "id": "46470d8d",
   "metadata": {},
   "outputs": [
    {
     "name": "stdout",
     "output_type": "stream",
     "text": [
      "781/781 [==============================] - 9s 10ms/step - loss: 0.5148 - acc: 0.7854\n",
      "테스트 정확도: 0.7854\n"
     ]
    }
   ],
   "source": [
    "loaded_model = load_model('best_model.h5')\n",
    "print(\"테스트 정확도: %.4f\" % (loaded_model.evaluate(X_test, y_test)[1]))"
   ]
  },
  {
   "cell_type": "markdown",
   "id": "635d51bd",
   "metadata": {},
   "source": [
    "# 5. 리뷰 예측해보기"
   ]
  },
  {
   "cell_type": "raw",
   "id": "de622799",
   "metadata": {},
   "source": [
    "임의의 문장에 대한 예측을 위해서는 학습하기 전 전처리를 동일하게 적용해줍니다."
   ]
  },
  {
   "cell_type": "code",
   "execution_count": 63,
   "id": "b51a63a8",
   "metadata": {},
   "outputs": [],
   "source": [
    "def sentiment_predict(new_sentence):\n",
    "    new_sentence = re.sub(r'[^ㄱ-ㅎㅏ-ㅣ가-힣 ]','', new_sentence)\n",
    "    new_sentence = mecab.morphs(new_sentence) # 토큰화\n",
    "    new_sentence = [word for word in new_sentence if not word in stopwords] # 불용어 제거\n",
    "    encoded = tokenizer.texts_to_sequences([new_sentence]) # 정수 인코딩\n",
    "    pad_new = pad_sequences(encoded, maxlen = max_len) # 패딩\n",
    "    score = float(loaded_model.predict(pad_new)) # 예측\n",
    "    if(score > 0.5):\n",
    "        print(\"{:.2f}% 확률로 긍정 리뷰입니다.\".format(score * 100))\n",
    "    else:\n",
    "        print(\"{:.2f}% 확률로 부정 리뷰입니다.\".format((1 - score) * 100))"
   ]
  },
  {
   "cell_type": "code",
   "execution_count": 64,
   "id": "8e968ab3",
   "metadata": {},
   "outputs": [
    {
     "name": "stdout",
     "output_type": "stream",
     "text": [
      "1/1 [==============================] - 1s 547ms/step\n",
      "98.07% 확률로 부정 리뷰입니다.\n"
     ]
    }
   ],
   "source": [
    "sentiment_predict('노잼 ..완전 재미 없음 ㅉㅉ')"
   ]
  },
  {
   "cell_type": "code",
   "execution_count": 65,
   "id": "626020ad",
   "metadata": {},
   "outputs": [
    {
     "name": "stdout",
     "output_type": "stream",
     "text": [
      "1/1 [==============================] - 0s 15ms/step\n",
      "98.15% 확률로 긍정 리뷰입니다.\n"
     ]
    }
   ],
   "source": [
    "sentiment_predict('조금 어렵지만 재밌음ㅋㅋ')"
   ]
  },
  {
   "cell_type": "code",
   "execution_count": 66,
   "id": "a19cee6b",
   "metadata": {},
   "outputs": [
    {
     "name": "stdout",
     "output_type": "stream",
     "text": [
      "1/1 [==============================] - 0s 17ms/step\n",
      "95.95% 확률로 긍정 리뷰입니다.\n"
     ]
    }
   ],
   "source": [
    "sentiment_predict('케릭터가 예뻐서 좋아요')"
   ]
  },
  {
   "cell_type": "code",
   "execution_count": null,
   "id": "1917d995",
   "metadata": {},
   "outputs": [],
   "source": []
  }
 ],
 "metadata": {
  "kernelspec": {
   "display_name": "Python 3 (ipykernel)",
   "language": "python",
   "name": "python3"
  },
  "language_info": {
   "codemirror_mode": {
    "name": "ipython",
    "version": 3
   },
   "file_extension": ".py",
   "mimetype": "text/x-python",
   "name": "python",
   "nbconvert_exporter": "python",
   "pygments_lexer": "ipython3",
   "version": "3.9.7"
  }
 },
 "nbformat": 4,
 "nbformat_minor": 5
}
