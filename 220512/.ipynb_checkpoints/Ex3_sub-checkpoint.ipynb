{
 "cells": [
  {
   "cell_type": "markdown",
   "id": "3f2a6adc",
   "metadata": {},
   "source": [
    "##  텍스트기반의 다중 분류"
   ]
  },
  {
   "cell_type": "markdown",
   "id": "8f13d97f",
   "metadata": {},
   "source": [
    "환경 로드"
   ]
  },
  {
   "cell_type": "code",
   "execution_count": 5,
   "id": "8c0feef9",
   "metadata": {},
   "outputs": [],
   "source": [
    "from sklearn.datasets import fetch_20newsgroups #data 로드\n",
    "import pandas as pd\n",
    "from tensorflow.keras.preprocessing.text import Tokenizer #토큰\n",
    "from tensorflow.keras.utils import to_categorical #원핫인코딩 (정수형 범주)\n",
    "import matplotlib.pyplot as plt\n",
    "from sklearn.model_selection import train_test_split\n",
    "from tensorflow.keras.models import Sequential\n",
    "from tensorflow.keras.layers import Dense, Dropout"
   ]
  },
  {
   "cell_type": "markdown",
   "id": "8f35c139",
   "metadata": {},
   "source": [
    "data 로드"
   ]
  },
  {
   "cell_type": "code",
   "execution_count": 2,
   "id": "29012543",
   "metadata": {},
   "outputs": [],
   "source": [
    "data = fetch_20newsgroups()\n",
    "X_data = data.data\n",
    "Y_data = data.target"
   ]
  },
  {
   "cell_type": "markdown",
   "id": "fc4f1145",
   "metadata": {},
   "source": [
    "data 전처리"
   ]
  },
  {
   "cell_type": "code",
   "execution_count": 3,
   "id": "7e6b9e17",
   "metadata": {},
   "outputs": [],
   "source": [
    "tk = Tokenizer(num_words=10000)\n",
    "tk.fit_on_texts(X_data)\n",
    "X = tk.texts_to_matrix(X_data,mode = 'tfidf') #mode = [binary,conut,tfidf]\n",
    "Y = to_categorical(Y_data)\n",
    "t_x, tt_x, t_y, tt_y = train_test_split(X,Y)"
   ]
  },
  {
   "cell_type": "code",
   "execution_count": 10,
   "id": "fa783551",
   "metadata": {},
   "outputs": [
    {
     "data": {
      "text/plain": [
       "((8485, 10000), (8485, 20))"
      ]
     },
     "execution_count": 10,
     "metadata": {},
     "output_type": "execute_result"
    }
   ],
   "source": [
    "t_x.shape, t_y.shape"
   ]
  },
  {
   "cell_type": "markdown",
   "id": "485423b2",
   "metadata": {},
   "source": [
    "모델 생성 및 학습"
   ]
  },
  {
   "cell_type": "code",
   "execution_count": 6,
   "id": "a9119e44",
   "metadata": {
    "scrolled": true
   },
   "outputs": [
    {
     "name": "stdout",
     "output_type": "stream",
     "text": [
      "Epoch 1/10\n",
      "266/266 [==============================] - 7s 25ms/step - loss: 1.9217 - accuracy: 0.4457 - val_loss: 0.6565 - val_accuracy: 0.8409\n",
      "Epoch 2/10\n",
      "266/266 [==============================] - 4s 16ms/step - loss: 0.7110 - accuracy: 0.8110 - val_loss: 0.5371 - val_accuracy: 0.8795\n",
      "Epoch 3/10\n",
      "266/266 [==============================] - 5s 20ms/step - loss: 0.4095 - accuracy: 0.8968 - val_loss: 0.5429 - val_accuracy: 0.8823\n",
      "Epoch 4/10\n",
      "266/266 [==============================] - 4s 16ms/step - loss: 0.2734 - accuracy: 0.9352 - val_loss: 0.6332 - val_accuracy: 0.8996\n",
      "Epoch 5/10\n",
      "266/266 [==============================] - 5s 19ms/step - loss: 0.2524 - accuracy: 0.9463 - val_loss: 0.6039 - val_accuracy: 0.8932\n",
      "Epoch 6/10\n",
      "266/266 [==============================] - 5s 19ms/step - loss: 0.2054 - accuracy: 0.9547 - val_loss: 0.6499 - val_accuracy: 0.8929\n",
      "Epoch 7/10\n",
      "266/266 [==============================] - 6s 24ms/step - loss: 0.2085 - accuracy: 0.9610 - val_loss: 0.7102 - val_accuracy: 0.8954\n",
      "Epoch 8/10\n",
      "266/266 [==============================] - 4s 16ms/step - loss: 0.1151 - accuracy: 0.9705 - val_loss: 0.7101 - val_accuracy: 0.8922\n",
      "Epoch 9/10\n",
      "266/266 [==============================] - 5s 18ms/step - loss: 0.1309 - accuracy: 0.9742 - val_loss: 0.7155 - val_accuracy: 0.8929\n",
      "Epoch 10/10\n",
      "266/266 [==============================] - 5s 18ms/step - loss: 0.1122 - accuracy: 0.9743 - val_loss: 0.7590 - val_accuracy: 0.8918\n"
     ]
    }
   ],
   "source": [
    "m = Sequential()\n",
    "m.add(Dense(256,input_shape = (10000,),activation='relu'))\n",
    "m.add(Dropout(0.5))\n",
    "m.add(Dense(128,activation='relu'))\n",
    "m.add(Dropout(0.5))\n",
    "m.add(Dense(20,activation='softmax'))\n",
    "m.compile(optimizer='adam',loss = 'categorical_crossentropy',metrics=['accuracy'])\n",
    "hy = m.fit(t_x,t_y,epochs=10,validation_data=(tt_x, tt_y))"
   ]
  },
  {
   "cell_type": "code",
   "execution_count": 7,
   "id": "8c548795",
   "metadata": {},
   "outputs": [
    {
     "data": {
      "text/plain": [
       "[<matplotlib.lines.Line2D at 0x28e3220dbe0>]"
      ]
     },
     "execution_count": 7,
     "metadata": {},
     "output_type": "execute_result"
    },
    {
     "data": {
      "image/png": "[encoded data removed]",
      "text/plain": [
       "<Figure size 432x288 with 1 Axes>"
      ]
     },
     "metadata": {
      "needs_background": "light"
     },
     "output_type": "display_data"
    }
   ],
   "source": [
    "ec = range(1,len(hy.history['accuracy'])+1)\n",
    "plt.plot(ec,hy.history['loss'])\n",
    "plt.plot(ec,hy.history['val_loss'])"
   ]
  }
 ],
 "metadata": {
  "kernelspec": {
   "display_name": "Python 3 (ipykernel)",
   "language": "python",
   "name": "python3"
  },
  "language_info": {
   "codemirror_mode": {
    "name": "ipython",
    "version": 3
   },
   "file_extension": ".py",
   "mimetype": "text/x-python",
   "name": "python",
   "nbconvert_exporter": "python",
   "pygments_lexer": "ipython3",
   "version": "3.9.7"
  }
 },
 "nbformat": 4,
 "nbformat_minor": 5
}
