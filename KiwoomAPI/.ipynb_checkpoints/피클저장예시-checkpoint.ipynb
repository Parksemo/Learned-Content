{
 "cells": [
  {
   "cell_type": "code",
   "execution_count": 1,
   "id": "4d64404b",
   "metadata": {},
   "outputs": [],
   "source": [
    "import pickle"
   ]
  },
  {
   "cell_type": "code",
   "execution_count": 2,
   "id": "18b21dee",
   "metadata": {},
   "outputs": [],
   "source": [
    "df_sector = {'힘들다':'인정?'}"
   ]
  },
  {
   "cell_type": "code",
   "execution_count": 3,
   "id": "38a72033",
   "metadata": {},
   "outputs": [],
   "source": [
    "with open(\"data.pickle\",\"wb\") as fw:\n",
    "    pickle.dump(df_sector, fw)"
   ]
  }
 ],
 "metadata": {
  "kernelspec": {
   "display_name": "Python 3 (ipykernel)",
   "language": "python",
   "name": "python3"
  },
  "language_info": {
   "codemirror_mode": {
    "name": "ipython",
    "version": 3
   },
   "file_extension": ".py",
   "mimetype": "text/x-python",
   "name": "python",
   "nbconvert_exporter": "python",
   "pygments_lexer": "ipython3",
   "version": "3.7.13"
  }
 },
 "nbformat": 4,
 "nbformat_minor": 5
}
