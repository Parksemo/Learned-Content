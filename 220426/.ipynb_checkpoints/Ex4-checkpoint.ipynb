{
 "cells": [
  {
   "cell_type": "code",
   "execution_count": 1,
   "id": "0cd64299",
   "metadata": {},
   "outputs": [
    {
     "data": {
      "text/plain": [
       "(0.9973541965122431, 0.8905151032797809)"
      ]
     },
     "execution_count": 1,
     "metadata": {},
     "output_type": "execute_result"
    }
   ],
   "source": [
    "import pandas as pd\n",
    "import numpy as np\n",
    "data = pd.read_csv('day6_data1.csv')\n",
    "X = data[['alcohol','sugar','pH']].to_numpy()\n",
    "Y = data['class'].to_numpy()\n",
    "from sklearn.model_selection import train_test_split\n",
    "t_x, tt_x, t_y, tt_y = train_test_split(X, Y, random_state = 42, test_size=0.2)\n",
    "from sklearn.model_selection import cross_validate\n",
    "from sklearn.ensemble import RandomForestClassifier #ensemble, RandomForestClassifier\n",
    "rf = RandomForestClassifier(random_state = 42, n_jobs=-1)\n",
    "sc = cross_validate(rf, t_x, t_y, return_train_score=True, n_jobs=-1)\n",
    "np.mean(sc['train_score']), np.mean(sc['test_score'])"
   ]
  },
  {
   "cell_type": "code",
   "execution_count": 2,
   "id": "1ca60dfb",
   "metadata": {},
   "outputs": [
    {
     "data": {
      "text/plain": [
       "array([0.23167441, 0.50039841, 0.26792718])"
      ]
     },
     "execution_count": 2,
     "metadata": {},
     "output_type": "execute_result"
    }
   ],
   "source": [
    "rf.fit(t_x,t_y)\n",
    "rf.feature_importances_"
   ]
  },
  {
   "cell_type": "code",
   "execution_count": 3,
   "id": "c8b80779",
   "metadata": {},
   "outputs": [
    {
     "data": {
      "text/plain": [
       "(0.996921300750433, 0.8892307692307693)"
      ]
     },
     "execution_count": 3,
     "metadata": {},
     "output_type": "execute_result"
    }
   ],
   "source": [
    "rf.score(t_x,t_y),rf.score(tt_x,tt_y)"
   ]
  },
  {
   "cell_type": "code",
   "execution_count": 4,
   "id": "51465f10",
   "metadata": {},
   "outputs": [
    {
     "data": {
      "text/plain": [
       "(0.996921300750433, 0.8892307692307693)"
      ]
     },
     "execution_count": 4,
     "metadata": {},
     "output_type": "execute_result"
    }
   ],
   "source": [
    "rf1 = RandomForestClassifier(oob_score=True,random_state=42,n_jobs=-1)\n",
    "rf1.fit(t_x,t_y)\n",
    "rf1.score(t_x,t_y),rf1.score(tt_x,tt_y)"
   ]
  },
  {
   "cell_type": "code",
   "execution_count": 5,
   "id": "08758031",
   "metadata": {},
   "outputs": [
    {
     "data": {
      "text/plain": [
       "0.8934000384837406"
      ]
     },
     "execution_count": 5,
     "metadata": {},
     "output_type": "execute_result"
    }
   ],
   "source": [
    "rf1.oob_score_"
   ]
  },
  {
   "cell_type": "code",
   "execution_count": 6,
   "id": "8e12f42f",
   "metadata": {},
   "outputs": [
    {
     "data": {
      "text/plain": [
       "(array([0.23167441, 0.50039841, 0.26792718]),\n",
       " array([0.20183568, 0.52242907, 0.27573525]))"
      ]
     },
     "execution_count": 6,
     "metadata": {},
     "output_type": "execute_result"
    }
   ],
   "source": [
    "from sklearn.ensemble import ExtraTreesClassifier\n",
    "et = ExtraTreesClassifier(random_state=42,n_jobs=-1)\n",
    "sc = cross_validate(et, t_x, t_y, return_train_score=True, n_jobs=-1)\n",
    "np.mean(sc['train_score']), np.mean(sc['test_score'])\n",
    "et.fit(t_x,t_y)\n",
    "rf.feature_importances_, et.feature_importances_"
   ]
  },
  {
   "cell_type": "code",
   "execution_count": 7,
   "id": "88c0da2e",
   "metadata": {},
   "outputs": [
    {
     "data": {
      "text/plain": [
       "(0.8881086892152563, 0.8720430147331015)"
      ]
     },
     "execution_count": 7,
     "metadata": {},
     "output_type": "execute_result"
    }
   ],
   "source": [
    "from sklearn.ensemble import GradientBoostingClassifier #GradientBoostingClassifier\n",
    "gd = GradientBoostingClassifier(random_state=42)\n",
    "sc = cross_validate(gd, t_x, t_y, return_train_score=True, n_jobs=-1)\n",
    "np.mean(sc['train_score']), np.mean(sc['test_score'])"
   ]
  },
  {
   "cell_type": "code",
   "execution_count": 8,
   "id": "f6c0f16c",
   "metadata": {},
   "outputs": [
    {
     "data": {
      "text/plain": [
       "(0.9464595437171814, 0.8780082549788999)"
      ]
     },
     "execution_count": 8,
     "metadata": {},
     "output_type": "execute_result"
    }
   ],
   "source": [
    "gd = GradientBoostingClassifier(random_state=42, n_estimators = 500,learning_rate=0.2) # n_estimators 트리 개수\n",
    "sc = cross_validate(gd, t_x, t_y, return_train_score=True, n_jobs=-1)\n",
    "np.mean(sc['train_score']), np.mean(sc['test_score'])"
   ]
  }
 ],
 "metadata": {
  "kernelspec": {
   "display_name": "Python 3 (ipykernel)",
   "language": "python",
   "name": "python3"
  },
  "language_info": {
   "codemirror_mode": {
    "name": "ipython",
    "version": 3
   },
   "file_extension": ".py",
   "mimetype": "text/x-python",
   "name": "python",
   "nbconvert_exporter": "python",
   "pygments_lexer": "ipython3",
   "version": "3.9.7"
  }
 },
 "nbformat": 4,
 "nbformat_minor": 5
}
