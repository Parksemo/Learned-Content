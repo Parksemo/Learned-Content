{
 "cells": [
  {
   "cell_type": "code",
   "execution_count": 24,
   "id": "718f7c5e",
   "metadata": {},
   "outputs": [],
   "source": [
    "import pandas as pd\n",
    "import numpy as np\n",
    "train_df = pd.read_csv(\"train.csv\")\n",
    "test_df = pd.read_csv(\"test.csv\")\n",
    "\n",
    "train_id = train_df[\"PassengerId\"].values\n",
    "test_id = test_df[\"PassengerId\"].values\n",
    "\n",
    "all_df = train_df.append(test_df).set_index('PassengerId')\n",
    "all_df[\"Sex\"] = all_df[\"Sex\"].replace({\"male\":0,\"female\":1})\n",
    "\n",
    "all_df[\"Age\"].fillna(\n",
    "    all_df.groupby(\"Pclass\")[\"Age\"].transform(\"mean\"), inplace=True)\n",
    "all_df[\"cabin_count\"] = all_df[\"Cabin\"].map(\n",
    "         lambda x : len(x.split()) if type(x) == str else 0)\n",
    "def transform_status(x):\n",
    "    if \"Mrs\" in x or \"Ms\" in x:\n",
    "        return \"Mrs\"\n",
    "    elif \"Mr\" in x:\n",
    "        return \"Mr\"\n",
    "    elif \"Miss\" in x:\n",
    "        return \"Miss\"\n",
    "    elif \"Master\" in x:\n",
    "        return \"Master\"\n",
    "    elif \"Dr\" in x:\n",
    "        return \"Dr\"\n",
    "    elif \"Rev\" in x:\n",
    "        return \"Rev\"\n",
    "    elif \"Col\" in x:\n",
    "        return \"Col\"\n",
    "    else:\n",
    "        return \"0\"\n",
    "\n",
    "all_df[\"social_status\"] = all_df[\"Name\"].map(lambda x : transform_status(x))\n",
    "all_df[\"social_status\"].value_counts()\n",
    "#all_df[all_df[\"Embarked\"].isnull()]\n",
    "all_df = all_df.drop([62,830])\n",
    "train_id =np.delete(train_id, [62-1,830-1])\n",
    "#all_df[all_df[\"Fare\"].isnull()]\n",
    "all_df.groupby([\"Pclass\",\"Sex\"])[\"Fare\"].mean()\n",
    "all_df.loc[all_df[\"Fare\"].isnull(), \"Fare\"] = 12.415462\n",
    "all_df[\"cabin_type\"] = all_df[\"Cabin\"].map(lambda x : x[0] if type(x) == str else \"99\")\n",
    "del all_df[\"Cabin\"]\n",
    "del all_df[\"Name\"]\n",
    "del all_df[\"Ticket\"]\n",
    "y = all_df.loc[train_id, \"Survived\"].values\n",
    "del all_df[\"Survived\"]\n",
    "X_df = pd.get_dummies(all_df)\n",
    "X = X_df.values\n",
    "from sklearn.preprocessing import MinMaxScaler\n",
    "mm=MinMaxScaler()\n",
    "X=mm.fit_transform(X)"
   ]
  },
  {
   "cell_type": "code",
   "execution_count": 25,
   "id": "a2c9f051",
   "metadata": {},
   "outputs": [
    {
     "data": {
      "text/plain": [
       "((889,), (1307, 27))"
      ]
     },
     "execution_count": 25,
     "metadata": {},
     "output_type": "execute_result"
    }
   ],
   "source": [
    "y.shape,X.shape"
   ]
  },
  {
   "cell_type": "code",
   "execution_count": 26,
   "id": "02e45539",
   "metadata": {},
   "outputs": [],
   "source": [
    "t_x=X[:len(train_id)]\n",
    "tt_x=X[len(train_id):]"
   ]
  },
  {
   "cell_type": "code",
   "execution_count": 28,
   "id": "bd674df0",
   "metadata": {},
   "outputs": [
    {
     "data": {
      "text/html": [
       "<div>\n",
       "<style scoped>\n",
       "    .dataframe tbody tr th:only-of-type {\n",
       "        vertical-align: middle;\n",
       "    }\n",
       "\n",
       "    .dataframe tbody tr th {\n",
       "        vertical-align: top;\n",
       "    }\n",
       "\n",
       "    .dataframe thead th {\n",
       "        text-align: right;\n",
       "    }\n",
       "</style>\n",
       "<table border=\"1\" class=\"dataframe\">\n",
       "  <thead>\n",
       "    <tr style=\"text-align: right;\">\n",
       "      <th></th>\n",
       "      <th>train</th>\n",
       "      <th>test</th>\n",
       "    </tr>\n",
       "  </thead>\n",
       "  <tbody>\n",
       "    <tr>\n",
       "      <th>3</th>\n",
       "      <td>0.912261</td>\n",
       "      <td>0.794192</td>\n",
       "    </tr>\n",
       "    <tr>\n",
       "      <th>4</th>\n",
       "      <td>0.902137</td>\n",
       "      <td>0.797562</td>\n",
       "    </tr>\n",
       "    <tr>\n",
       "      <th>5</th>\n",
       "      <td>0.889764</td>\n",
       "      <td>0.814404</td>\n",
       "    </tr>\n",
       "    <tr>\n",
       "      <th>6</th>\n",
       "      <td>0.879640</td>\n",
       "      <td>0.809941</td>\n",
       "    </tr>\n",
       "    <tr>\n",
       "      <th>7</th>\n",
       "      <td>0.874016</td>\n",
       "      <td>0.813293</td>\n",
       "    </tr>\n",
       "    <tr>\n",
       "      <th>8</th>\n",
       "      <td>0.871766</td>\n",
       "      <td>0.815553</td>\n",
       "    </tr>\n",
       "    <tr>\n",
       "      <th>9</th>\n",
       "      <td>0.869516</td>\n",
       "      <td>0.817787</td>\n",
       "    </tr>\n",
       "    <tr>\n",
       "      <th>10</th>\n",
       "      <td>0.865017</td>\n",
       "      <td>0.821164</td>\n",
       "    </tr>\n",
       "    <tr>\n",
       "      <th>11</th>\n",
       "      <td>0.863892</td>\n",
       "      <td>0.825665</td>\n",
       "    </tr>\n",
       "    <tr>\n",
       "      <th>12</th>\n",
       "      <td>0.859393</td>\n",
       "      <td>0.816632</td>\n",
       "    </tr>\n",
       "    <tr>\n",
       "      <th>13</th>\n",
       "      <td>0.858268</td>\n",
       "      <td>0.813261</td>\n",
       "    </tr>\n",
       "    <tr>\n",
       "      <th>14</th>\n",
       "      <td>0.857143</td>\n",
       "      <td>0.808767</td>\n",
       "    </tr>\n",
       "    <tr>\n",
       "      <th>15</th>\n",
       "      <td>0.857143</td>\n",
       "      <td>0.808767</td>\n",
       "    </tr>\n",
       "    <tr>\n",
       "      <th>16</th>\n",
       "      <td>0.847019</td>\n",
       "      <td>0.804272</td>\n",
       "    </tr>\n",
       "    <tr>\n",
       "      <th>17</th>\n",
       "      <td>0.841395</td>\n",
       "      <td>0.805396</td>\n",
       "    </tr>\n",
       "    <tr>\n",
       "      <th>18</th>\n",
       "      <td>0.838020</td>\n",
       "      <td>0.798654</td>\n",
       "    </tr>\n",
       "    <tr>\n",
       "      <th>19</th>\n",
       "      <td>0.838020</td>\n",
       "      <td>0.797531</td>\n",
       "    </tr>\n",
       "  </tbody>\n",
       "</table>\n",
       "</div>"
      ],
      "text/plain": [
       "       train      test\n",
       "3   0.912261  0.794192\n",
       "4   0.902137  0.797562\n",
       "5   0.889764  0.814404\n",
       "6   0.879640  0.809941\n",
       "7   0.874016  0.813293\n",
       "8   0.871766  0.815553\n",
       "9   0.869516  0.817787\n",
       "10  0.865017  0.821164\n",
       "11  0.863892  0.825665\n",
       "12  0.859393  0.816632\n",
       "13  0.858268  0.813261\n",
       "14  0.857143  0.808767\n",
       "15  0.857143  0.808767\n",
       "16  0.847019  0.804272\n",
       "17  0.841395  0.805396\n",
       "18  0.838020  0.798654\n",
       "19  0.838020  0.797531"
      ]
     },
     "execution_count": 28,
     "metadata": {},
     "output_type": "execute_result"
    }
   ],
   "source": [
    "from sklearn.tree import DecisionTreeClassifier\n",
    "from sklearn.model_selection import cross_val_score\n",
    "from sklearn.metrics import accuracy_score\n",
    "t_l = []\n",
    "tt_l = []\n",
    "for i in range(3,20):\n",
    "    dt = DecisionTreeClassifier(min_samples_leaf = i)\n",
    "    acc = cross_val_score(dt, t_x, y, scoring = 'accuracy', cv = 5).mean()\n",
    "    t_l.append(accuracy_score(dt.fit(t_x,y).predict(t_x),y))\n",
    "    tt_l.append(acc)\n",
    "r = pd.DataFrame(t_l,index = range(3,20),columns = ['train'])\n",
    "r['test'] = tt_l\n",
    "r"
   ]
  },
  {
   "cell_type": "code",
   "execution_count": 29,
   "id": "2d6dc176",
   "metadata": {},
   "outputs": [
    {
     "data": {
      "text/plain": [
       "<AxesSubplot:>"
      ]
     },
     "execution_count": 29,
     "metadata": {},
     "output_type": "execute_result"
    },
    {
     "data": {
      "image/png": "[encoded data removed]",
      "text/plain": [
       "<Figure size 432x288 with 1 Axes>"
      ]
     },
     "metadata": {
      "needs_background": "light"
     },
     "output_type": "display_data"
    }
   ],
   "source": [
    "r.plot()"
   ]
  }
 ],
 "metadata": {
  "kernelspec": {
   "display_name": "Python 3 (ipykernel)",
   "language": "python",
   "name": "python3"
  },
  "language_info": {
   "codemirror_mode": {
    "name": "ipython",
    "version": 3
   },
   "file_extension": ".py",
   "mimetype": "text/x-python",
   "name": "python",
   "nbconvert_exporter": "python",
   "pygments_lexer": "ipython3",
   "version": "3.9.7"
  }
 },
 "nbformat": 4,
 "nbformat_minor": 5
}
