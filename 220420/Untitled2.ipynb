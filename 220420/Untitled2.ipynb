{
 "cells": [
  {
   "cell_type": "code",
   "execution_count": 1,
   "id": "1dec5ab9",
   "metadata": {},
   "outputs": [
    {
     "data": {
      "text/html": [
       "<div>\n",
       "<style scoped>\n",
       "    .dataframe tbody tr th:only-of-type {\n",
       "        vertical-align: middle;\n",
       "    }\n",
       "\n",
       "    .dataframe tbody tr th {\n",
       "        vertical-align: top;\n",
       "    }\n",
       "\n",
       "    .dataframe thead th {\n",
       "        text-align: right;\n",
       "    }\n",
       "</style>\n",
       "<table border=\"1\" class=\"dataframe\">\n",
       "  <thead>\n",
       "    <tr style=\"text-align: right;\">\n",
       "      <th></th>\n",
       "      <th>Unnamed: 0</th>\n",
       "      <th>D_length</th>\n",
       "      <th>D_weight</th>\n",
       "      <th>y</th>\n",
       "    </tr>\n",
       "  </thead>\n",
       "  <tbody>\n",
       "    <tr>\n",
       "      <th>0</th>\n",
       "      <td>0</td>\n",
       "      <td>25.4</td>\n",
       "      <td>242.0</td>\n",
       "      <td>0.0</td>\n",
       "    </tr>\n",
       "    <tr>\n",
       "      <th>1</th>\n",
       "      <td>1</td>\n",
       "      <td>26.3</td>\n",
       "      <td>290.0</td>\n",
       "      <td>0.0</td>\n",
       "    </tr>\n",
       "    <tr>\n",
       "      <th>2</th>\n",
       "      <td>2</td>\n",
       "      <td>26.5</td>\n",
       "      <td>340.0</td>\n",
       "      <td>0.0</td>\n",
       "    </tr>\n",
       "    <tr>\n",
       "      <th>3</th>\n",
       "      <td>3</td>\n",
       "      <td>29.0</td>\n",
       "      <td>363.0</td>\n",
       "      <td>0.0</td>\n",
       "    </tr>\n",
       "    <tr>\n",
       "      <th>4</th>\n",
       "      <td>4</td>\n",
       "      <td>29.0</td>\n",
       "      <td>430.0</td>\n",
       "      <td>0.0</td>\n",
       "    </tr>\n",
       "    <tr>\n",
       "      <th>5</th>\n",
       "      <td>5</td>\n",
       "      <td>29.7</td>\n",
       "      <td>450.0</td>\n",
       "      <td>0.0</td>\n",
       "    </tr>\n",
       "    <tr>\n",
       "      <th>6</th>\n",
       "      <td>6</td>\n",
       "      <td>29.7</td>\n",
       "      <td>500.0</td>\n",
       "      <td>0.0</td>\n",
       "    </tr>\n",
       "    <tr>\n",
       "      <th>7</th>\n",
       "      <td>7</td>\n",
       "      <td>30.0</td>\n",
       "      <td>390.0</td>\n",
       "      <td>0.0</td>\n",
       "    </tr>\n",
       "    <tr>\n",
       "      <th>8</th>\n",
       "      <td>8</td>\n",
       "      <td>30.0</td>\n",
       "      <td>450.0</td>\n",
       "      <td>0.0</td>\n",
       "    </tr>\n",
       "    <tr>\n",
       "      <th>9</th>\n",
       "      <td>9</td>\n",
       "      <td>30.7</td>\n",
       "      <td>500.0</td>\n",
       "      <td>0.0</td>\n",
       "    </tr>\n",
       "    <tr>\n",
       "      <th>10</th>\n",
       "      <td>10</td>\n",
       "      <td>31.0</td>\n",
       "      <td>475.0</td>\n",
       "      <td>0.0</td>\n",
       "    </tr>\n",
       "    <tr>\n",
       "      <th>11</th>\n",
       "      <td>11</td>\n",
       "      <td>31.0</td>\n",
       "      <td>500.0</td>\n",
       "      <td>0.0</td>\n",
       "    </tr>\n",
       "    <tr>\n",
       "      <th>12</th>\n",
       "      <td>12</td>\n",
       "      <td>31.5</td>\n",
       "      <td>500.0</td>\n",
       "      <td>0.0</td>\n",
       "    </tr>\n",
       "    <tr>\n",
       "      <th>13</th>\n",
       "      <td>13</td>\n",
       "      <td>32.0</td>\n",
       "      <td>340.0</td>\n",
       "      <td>0.0</td>\n",
       "    </tr>\n",
       "    <tr>\n",
       "      <th>14</th>\n",
       "      <td>14</td>\n",
       "      <td>32.0</td>\n",
       "      <td>600.0</td>\n",
       "      <td>0.0</td>\n",
       "    </tr>\n",
       "    <tr>\n",
       "      <th>15</th>\n",
       "      <td>15</td>\n",
       "      <td>32.0</td>\n",
       "      <td>600.0</td>\n",
       "      <td>0.0</td>\n",
       "    </tr>\n",
       "    <tr>\n",
       "      <th>16</th>\n",
       "      <td>16</td>\n",
       "      <td>33.0</td>\n",
       "      <td>700.0</td>\n",
       "      <td>0.0</td>\n",
       "    </tr>\n",
       "    <tr>\n",
       "      <th>17</th>\n",
       "      <td>17</td>\n",
       "      <td>33.0</td>\n",
       "      <td>700.0</td>\n",
       "      <td>0.0</td>\n",
       "    </tr>\n",
       "    <tr>\n",
       "      <th>18</th>\n",
       "      <td>18</td>\n",
       "      <td>33.5</td>\n",
       "      <td>610.0</td>\n",
       "      <td>0.0</td>\n",
       "    </tr>\n",
       "    <tr>\n",
       "      <th>19</th>\n",
       "      <td>19</td>\n",
       "      <td>33.5</td>\n",
       "      <td>650.0</td>\n",
       "      <td>0.0</td>\n",
       "    </tr>\n",
       "    <tr>\n",
       "      <th>20</th>\n",
       "      <td>20</td>\n",
       "      <td>34.0</td>\n",
       "      <td>575.0</td>\n",
       "      <td>0.0</td>\n",
       "    </tr>\n",
       "    <tr>\n",
       "      <th>21</th>\n",
       "      <td>21</td>\n",
       "      <td>34.0</td>\n",
       "      <td>685.0</td>\n",
       "      <td>0.0</td>\n",
       "    </tr>\n",
       "    <tr>\n",
       "      <th>22</th>\n",
       "      <td>22</td>\n",
       "      <td>34.5</td>\n",
       "      <td>620.0</td>\n",
       "      <td>0.0</td>\n",
       "    </tr>\n",
       "    <tr>\n",
       "      <th>23</th>\n",
       "      <td>23</td>\n",
       "      <td>35.0</td>\n",
       "      <td>680.0</td>\n",
       "      <td>0.0</td>\n",
       "    </tr>\n",
       "    <tr>\n",
       "      <th>24</th>\n",
       "      <td>24</td>\n",
       "      <td>35.0</td>\n",
       "      <td>700.0</td>\n",
       "      <td>0.0</td>\n",
       "    </tr>\n",
       "    <tr>\n",
       "      <th>25</th>\n",
       "      <td>25</td>\n",
       "      <td>35.0</td>\n",
       "      <td>725.0</td>\n",
       "      <td>0.0</td>\n",
       "    </tr>\n",
       "    <tr>\n",
       "      <th>26</th>\n",
       "      <td>26</td>\n",
       "      <td>35.0</td>\n",
       "      <td>720.0</td>\n",
       "      <td>0.0</td>\n",
       "    </tr>\n",
       "    <tr>\n",
       "      <th>27</th>\n",
       "      <td>27</td>\n",
       "      <td>36.0</td>\n",
       "      <td>714.0</td>\n",
       "      <td>0.0</td>\n",
       "    </tr>\n",
       "    <tr>\n",
       "      <th>28</th>\n",
       "      <td>28</td>\n",
       "      <td>36.0</td>\n",
       "      <td>850.0</td>\n",
       "      <td>0.0</td>\n",
       "    </tr>\n",
       "    <tr>\n",
       "      <th>29</th>\n",
       "      <td>29</td>\n",
       "      <td>37.0</td>\n",
       "      <td>1000.0</td>\n",
       "      <td>0.0</td>\n",
       "    </tr>\n",
       "    <tr>\n",
       "      <th>30</th>\n",
       "      <td>30</td>\n",
       "      <td>38.5</td>\n",
       "      <td>920.0</td>\n",
       "      <td>0.0</td>\n",
       "    </tr>\n",
       "    <tr>\n",
       "      <th>31</th>\n",
       "      <td>31</td>\n",
       "      <td>38.5</td>\n",
       "      <td>955.0</td>\n",
       "      <td>0.0</td>\n",
       "    </tr>\n",
       "    <tr>\n",
       "      <th>32</th>\n",
       "      <td>32</td>\n",
       "      <td>39.5</td>\n",
       "      <td>925.0</td>\n",
       "      <td>0.0</td>\n",
       "    </tr>\n",
       "    <tr>\n",
       "      <th>33</th>\n",
       "      <td>33</td>\n",
       "      <td>41.0</td>\n",
       "      <td>975.0</td>\n",
       "      <td>0.0</td>\n",
       "    </tr>\n",
       "    <tr>\n",
       "      <th>34</th>\n",
       "      <td>34</td>\n",
       "      <td>41.0</td>\n",
       "      <td>950.0</td>\n",
       "      <td>0.0</td>\n",
       "    </tr>\n",
       "    <tr>\n",
       "      <th>35</th>\n",
       "      <td>35</td>\n",
       "      <td>9.8</td>\n",
       "      <td>6.7</td>\n",
       "      <td>1.0</td>\n",
       "    </tr>\n",
       "    <tr>\n",
       "      <th>36</th>\n",
       "      <td>36</td>\n",
       "      <td>10.5</td>\n",
       "      <td>7.5</td>\n",
       "      <td>1.0</td>\n",
       "    </tr>\n",
       "    <tr>\n",
       "      <th>37</th>\n",
       "      <td>37</td>\n",
       "      <td>10.6</td>\n",
       "      <td>7.0</td>\n",
       "      <td>1.0</td>\n",
       "    </tr>\n",
       "    <tr>\n",
       "      <th>38</th>\n",
       "      <td>38</td>\n",
       "      <td>11.0</td>\n",
       "      <td>9.7</td>\n",
       "      <td>1.0</td>\n",
       "    </tr>\n",
       "    <tr>\n",
       "      <th>39</th>\n",
       "      <td>39</td>\n",
       "      <td>11.2</td>\n",
       "      <td>9.8</td>\n",
       "      <td>1.0</td>\n",
       "    </tr>\n",
       "    <tr>\n",
       "      <th>40</th>\n",
       "      <td>40</td>\n",
       "      <td>11.3</td>\n",
       "      <td>8.7</td>\n",
       "      <td>1.0</td>\n",
       "    </tr>\n",
       "    <tr>\n",
       "      <th>41</th>\n",
       "      <td>41</td>\n",
       "      <td>11.8</td>\n",
       "      <td>10.0</td>\n",
       "      <td>1.0</td>\n",
       "    </tr>\n",
       "    <tr>\n",
       "      <th>42</th>\n",
       "      <td>42</td>\n",
       "      <td>11.8</td>\n",
       "      <td>9.9</td>\n",
       "      <td>1.0</td>\n",
       "    </tr>\n",
       "    <tr>\n",
       "      <th>43</th>\n",
       "      <td>43</td>\n",
       "      <td>12.0</td>\n",
       "      <td>9.8</td>\n",
       "      <td>1.0</td>\n",
       "    </tr>\n",
       "    <tr>\n",
       "      <th>44</th>\n",
       "      <td>44</td>\n",
       "      <td>12.2</td>\n",
       "      <td>12.2</td>\n",
       "      <td>1.0</td>\n",
       "    </tr>\n",
       "    <tr>\n",
       "      <th>45</th>\n",
       "      <td>45</td>\n",
       "      <td>12.4</td>\n",
       "      <td>13.4</td>\n",
       "      <td>1.0</td>\n",
       "    </tr>\n",
       "    <tr>\n",
       "      <th>46</th>\n",
       "      <td>46</td>\n",
       "      <td>13.0</td>\n",
       "      <td>12.2</td>\n",
       "      <td>1.0</td>\n",
       "    </tr>\n",
       "    <tr>\n",
       "      <th>47</th>\n",
       "      <td>47</td>\n",
       "      <td>14.3</td>\n",
       "      <td>19.7</td>\n",
       "      <td>1.0</td>\n",
       "    </tr>\n",
       "    <tr>\n",
       "      <th>48</th>\n",
       "      <td>48</td>\n",
       "      <td>15.0</td>\n",
       "      <td>19.9</td>\n",
       "      <td>1.0</td>\n",
       "    </tr>\n",
       "  </tbody>\n",
       "</table>\n",
       "</div>"
      ],
      "text/plain": [
       "    Unnamed: 0  D_length  D_weight    y\n",
       "0            0      25.4     242.0  0.0\n",
       "1            1      26.3     290.0  0.0\n",
       "2            2      26.5     340.0  0.0\n",
       "3            3      29.0     363.0  0.0\n",
       "4            4      29.0     430.0  0.0\n",
       "5            5      29.7     450.0  0.0\n",
       "6            6      29.7     500.0  0.0\n",
       "7            7      30.0     390.0  0.0\n",
       "8            8      30.0     450.0  0.0\n",
       "9            9      30.7     500.0  0.0\n",
       "10          10      31.0     475.0  0.0\n",
       "11          11      31.0     500.0  0.0\n",
       "12          12      31.5     500.0  0.0\n",
       "13          13      32.0     340.0  0.0\n",
       "14          14      32.0     600.0  0.0\n",
       "15          15      32.0     600.0  0.0\n",
       "16          16      33.0     700.0  0.0\n",
       "17          17      33.0     700.0  0.0\n",
       "18          18      33.5     610.0  0.0\n",
       "19          19      33.5     650.0  0.0\n",
       "20          20      34.0     575.0  0.0\n",
       "21          21      34.0     685.0  0.0\n",
       "22          22      34.5     620.0  0.0\n",
       "23          23      35.0     680.0  0.0\n",
       "24          24      35.0     700.0  0.0\n",
       "25          25      35.0     725.0  0.0\n",
       "26          26      35.0     720.0  0.0\n",
       "27          27      36.0     714.0  0.0\n",
       "28          28      36.0     850.0  0.0\n",
       "29          29      37.0    1000.0  0.0\n",
       "30          30      38.5     920.0  0.0\n",
       "31          31      38.5     955.0  0.0\n",
       "32          32      39.5     925.0  0.0\n",
       "33          33      41.0     975.0  0.0\n",
       "34          34      41.0     950.0  0.0\n",
       "35          35       9.8       6.7  1.0\n",
       "36          36      10.5       7.5  1.0\n",
       "37          37      10.6       7.0  1.0\n",
       "38          38      11.0       9.7  1.0\n",
       "39          39      11.2       9.8  1.0\n",
       "40          40      11.3       8.7  1.0\n",
       "41          41      11.8      10.0  1.0\n",
       "42          42      11.8       9.9  1.0\n",
       "43          43      12.0       9.8  1.0\n",
       "44          44      12.2      12.2  1.0\n",
       "45          45      12.4      13.4  1.0\n",
       "46          46      13.0      12.2  1.0\n",
       "47          47      14.3      19.7  1.0\n",
       "48          48      15.0      19.9  1.0"
      ]
     },
     "execution_count": 1,
     "metadata": {},
     "output_type": "execute_result"
    }
   ],
   "source": [
    "import pandas as pd\n",
    "import numpy as np\n",
    "data=pd.read_csv('data.csv')\n",
    "data"
   ]
  },
  {
   "cell_type": "code",
   "execution_count": 2,
   "id": "b43571f8",
   "metadata": {},
   "outputs": [],
   "source": [
    "X=pd.DataFrame(data,columns=['D_length','D_weight'])\n",
    "Y=pd.DataFrame(data,columns=['y'])"
   ]
  },
  {
   "cell_type": "code",
   "execution_count": 3,
   "id": "cbd017d3",
   "metadata": {},
   "outputs": [],
   "source": [
    "np_X=np.array(X)\n",
    "np_Y=np.array(Y['y'])"
   ]
  },
  {
   "cell_type": "code",
   "execution_count": 4,
   "id": "13a71ee1",
   "metadata": {},
   "outputs": [
    {
     "data": {
      "text/plain": [
       "array([0., 0., 0., 0., 0., 0., 0., 0., 0., 0., 0., 0., 0., 0., 0., 0., 0.,\n",
       "       0., 0., 0., 0., 0., 0., 0., 0., 0., 0., 0., 0., 0., 0., 0., 0., 0.,\n",
       "       0., 1., 1., 1., 1., 1., 1., 1., 1., 1., 1., 1., 1., 1., 1.])"
      ]
     },
     "execution_count": 4,
     "metadata": {},
     "output_type": "execute_result"
    }
   ],
   "source": [
    "np_Y"
   ]
  },
  {
   "cell_type": "code",
   "execution_count": 5,
   "id": "f19643a2",
   "metadata": {},
   "outputs": [
    {
     "data": {
      "text/plain": [
       "array([37, 23, 43, 41, 46, 20,  3, 30,  7,  6, 38,  2, 39, 32, 10, 21, 35,\n",
       "       27, 18, 31,  1, 12, 34, 44, 26,  5, 13, 22, 19, 17, 14,  4, 40, 33,\n",
       "       24, 11, 16, 47, 45, 48,  8, 42, 29, 25, 28,  0, 15, 36,  9])"
      ]
     },
     "execution_count": 5,
     "metadata": {},
     "output_type": "execute_result"
    }
   ],
   "source": [
    "np.random.seed(10)\n",
    "ck=np.arange(49)\n",
    "np.random.shuffle(ck)\n",
    "ck"
   ]
  },
  {
   "cell_type": "code",
   "execution_count": 6,
   "id": "ab3f6046",
   "metadata": {},
   "outputs": [],
   "source": [
    "t_x=np_X[ck[:35]]\n",
    "tt_x=np_X[ck[35:]]\n",
    "t_y=np_Y[ck[:35]]\n",
    "tt_y=np_Y[ck[35:]]"
   ]
  },
  {
   "cell_type": "code",
   "execution_count": 7,
   "id": "96d59978",
   "metadata": {},
   "outputs": [
    {
     "data": {
      "text/plain": [
       "<matplotlib.collections.PathCollection at 0x1faf67bd4f0>"
      ]
     },
     "execution_count": 7,
     "metadata": {},
     "output_type": "execute_result"
    },
    {
     "data": {
      "image/png": "[encoded data removed]",
      "text/plain": [
       "<Figure size 432x288 with 1 Axes>"
      ]
     },
     "metadata": {
      "needs_background": "light"
     },
     "output_type": "display_data"
    }
   ],
   "source": [
    "import matplotlib.pyplot as plt\n",
    "plt.scatter(t_x[:,0],t_x[:,1])\n",
    "plt.scatter(tt_x[:,0],tt_x[:,1])"
   ]
  },
  {
   "cell_type": "code",
   "execution_count": 8,
   "id": "473fc765",
   "metadata": {},
   "outputs": [],
   "source": [
    "from sklearn.neighbors import KNeighborsClassifier\n",
    "kn=KNeighborsClassifier().fit(t_x,t_y)"
   ]
  },
  {
   "cell_type": "code",
   "execution_count": 9,
   "id": "7986fa37",
   "metadata": {},
   "outputs": [
    {
     "data": {
      "text/plain": [
       "1.0"
      ]
     },
     "execution_count": 9,
     "metadata": {},
     "output_type": "execute_result"
    }
   ],
   "source": [
    "kn.score(tt_x,tt_y)"
   ]
  },
  {
   "cell_type": "code",
   "execution_count": 10,
   "id": "0a702d12",
   "metadata": {},
   "outputs": [
    {
     "data": {
      "text/plain": [
       "array([0., 0., 1., 1., 1., 0., 1., 0., 0., 0., 0., 0., 1., 0.])"
      ]
     },
     "execution_count": 10,
     "metadata": {},
     "output_type": "execute_result"
    }
   ],
   "source": [
    "kn.predict(tt_x)"
   ]
  },
  {
   "cell_type": "code",
   "execution_count": 11,
   "id": "3a10e961",
   "metadata": {},
   "outputs": [
    {
     "data": {
      "text/plain": [
       "array([0., 0., 1., 1., 1., 0., 1., 0., 0., 0., 0., 0., 1., 0.])"
      ]
     },
     "execution_count": 11,
     "metadata": {},
     "output_type": "execute_result"
    }
   ],
   "source": [
    "tt_y"
   ]
  },
  {
   "cell_type": "code",
   "execution_count": 12,
   "id": "8fc1ea45",
   "metadata": {},
   "outputs": [
    {
     "data": {
      "text/plain": [
       "array([[  30. ,  450. ],\n",
       "       [  29. ,  363. ],\n",
       "       [  29.7,  500. ],\n",
       "       [  11.3,    8.7],\n",
       "       [  11.8,   10. ],\n",
       "       [  13. ,   12.2],\n",
       "       [  32. ,  600. ],\n",
       "       [  30.7,  500. ],\n",
       "       [  33. ,  700. ],\n",
       "       [  35. ,  700. ],\n",
       "       [  41. ,  975. ],\n",
       "       [  38.5,  920. ],\n",
       "       [  25.4,  242. ],\n",
       "       [  12. ,    9.8],\n",
       "       [  39.5,  925. ],\n",
       "       [  29.7,  450. ],\n",
       "       [  37. , 1000. ],\n",
       "       [  31. ,  500. ],\n",
       "       [  10.5,    7.5],\n",
       "       [  26.3,  290. ],\n",
       "       [  34. ,  685. ],\n",
       "       [  26.5,  340. ],\n",
       "       [  10.6,    7. ],\n",
       "       [   9.8,    6.7],\n",
       "       [  35. ,  680. ],\n",
       "       [  11.2,    9.8],\n",
       "       [  31. ,  475. ],\n",
       "       [  34.5,  620. ],\n",
       "       [  33.5,  610. ],\n",
       "       [  15. ,   19.9],\n",
       "       [  34. ,  575. ],\n",
       "       [  30. ,  390. ],\n",
       "       [  11.8,    9.9],\n",
       "       [  32. ,  600. ],\n",
       "       [  36. ,  850. ],\n",
       "       [  11. ,    9.7]])"
      ]
     },
     "execution_count": 12,
     "metadata": {},
     "output_type": "execute_result"
    }
   ],
   "source": [
    "from sklearn.model_selection import train_test_split\n",
    "sk_t_x, sk_tt_x, sk_t_y, sk_tt_y = train_test_split(np_X,np_Y,random_state=42)\n",
    "sk_t_x"
   ]
  },
  {
   "cell_type": "code",
   "execution_count": 13,
   "id": "82b6e56f",
   "metadata": {},
   "outputs": [],
   "source": [
    "kn1=KNeighborsClassifier().fit(sk_t_x,sk_t_y)"
   ]
  },
  {
   "cell_type": "code",
   "execution_count": 14,
   "id": "a33e64cd",
   "metadata": {},
   "outputs": [
    {
     "data": {
      "text/plain": [
       "array([1.])"
      ]
     },
     "execution_count": 14,
     "metadata": {},
     "output_type": "execute_result"
    }
   ],
   "source": [
    "kn1.predict([[25,150]])"
   ]
  },
  {
   "cell_type": "code",
   "execution_count": 15,
   "id": "38496d0a",
   "metadata": {},
   "outputs": [],
   "source": [
    "Y_name=np.array(['A','B'])"
   ]
  },
  {
   "cell_type": "code",
   "execution_count": 16,
   "id": "1bc2636a",
   "metadata": {
    "scrolled": true
   },
   "outputs": [
    {
     "data": {
      "text/plain": [
       "<matplotlib.collections.PathCollection at 0x1faf93d8520>"
      ]
     },
     "execution_count": 16,
     "metadata": {},
     "output_type": "execute_result"
    },
    {
     "data": {
      "image/png": "[encoded data removed]",
      "text/plain": [
       "<Figure size 432x288 with 1 Axes>"
      ]
     },
     "metadata": {
      "needs_background": "light"
     },
     "output_type": "display_data"
    }
   ],
   "source": [
    "plt.scatter(np_X[:35,0],np_X[:35,1]) #0\n",
    "plt.scatter(np_X[35:,0],np_X[35:,1]) #1\n",
    "plt.scatter(25,150,marker='*')"
   ]
  },
  {
   "cell_type": "code",
   "execution_count": 17,
   "id": "3936c82a",
   "metadata": {},
   "outputs": [
    {
     "data": {
      "text/plain": [
       "<matplotlib.collections.PathCollection at 0x1faf944ff10>"
      ]
     },
     "execution_count": 17,
     "metadata": {},
     "output_type": "execute_result"
    },
    {
     "data": {
      "image/png": "[encoded data removed]",
      "text/plain": [
       "<Figure size 432x288 with 1 Axes>"
      ]
     },
     "metadata": {
      "needs_background": "light"
     },
     "output_type": "display_data"
    }
   ],
   "source": [
    "kn1=KNeighborsClassifier().fit(np_X,np_Y)\n",
    "plt.scatter(np_X[:35,0],np_X[:35,1]) #0\n",
    "plt.scatter(np_X[35:,0],np_X[35:,1]) #1\n",
    "plt.scatter(25,150,marker='*')\n",
    "d1,i1=kn1.kneighbors([[25,150]])\n",
    "plt.scatter(np_X[i1,0],np_X[i1,1],marker='o')"
   ]
  },
  {
   "cell_type": "code",
   "execution_count": 18,
   "id": "c8a1ba1c",
   "metadata": {},
   "outputs": [
    {
     "name": "stdout",
     "output_type": "stream",
     "text": [
      "[[[ 25.4 242. ]\n",
      "  [ 15.   19.9]\n",
      "  [ 14.3  19.7]\n",
      "  [ 12.4  13.4]\n",
      "  [ 13.   12.2]]]\n"
     ]
    }
   ],
   "source": [
    "print(np_X[i1])"
   ]
  },
  {
   "cell_type": "code",
   "execution_count": 19,
   "id": "0b3977f1",
   "metadata": {
    "scrolled": true
   },
   "outputs": [
    {
     "name": "stdout",
     "output_type": "stream",
     "text": [
      "[[0. 1. 1. 1. 1.]]\n"
     ]
    }
   ],
   "source": [
    "print(np_Y[i1])"
   ]
  },
  {
   "cell_type": "code",
   "execution_count": 20,
   "id": "29e827a0",
   "metadata": {
    "scrolled": true
   },
   "outputs": [
    {
     "data": {
      "text/plain": [
       "<matplotlib.collections.PathCollection at 0x1faf94c7490>"
      ]
     },
     "execution_count": 20,
     "metadata": {},
     "output_type": "execute_result"
    },
    {
     "data": {
      "image/png": "[encoded data removed]",
      "text/plain": [
       "<Figure size 432x288 with 1 Axes>"
      ]
     },
     "metadata": {
      "needs_background": "light"
     },
     "output_type": "display_data"
    }
   ],
   "source": [
    "plt.scatter(np_X[:35,0],np_X[:35,1])#0\n",
    "plt.scatter(np_X[35:,0],np_X[35:,1])#1\n",
    "plt.scatter(25,150,marker=\"*\")\n",
    "plt.xlim((0,1000))\n",
    "plt.scatter(np_X[i1,0],np_X[i1,1],marker='^')"
   ]
  },
  {
   "cell_type": "code",
   "execution_count": 21,
   "id": "b1da6d41",
   "metadata": {},
   "outputs": [],
   "source": [
    "mean=np.mean(np_X,axis=0)\n",
    "std=np.std(np_X,axis=0)"
   ]
  },
  {
   "cell_type": "code",
   "execution_count": 22,
   "id": "052d9581",
   "metadata": {},
   "outputs": [],
   "source": [
    "sc_t_X=(np_X-mean)/std\n",
    "sc_d=([25,150]-mean)/std"
   ]
  },
  {
   "cell_type": "code",
   "execution_count": 23,
   "id": "5fe38c0b",
   "metadata": {},
   "outputs": [
    {
     "data": {
      "text/plain": [
       "<matplotlib.collections.PathCollection at 0x1faf952c6a0>"
      ]
     },
     "execution_count": 23,
     "metadata": {},
     "output_type": "execute_result"
    },
    {
     "data": {
      "image/png": "[encoded data removed]",
      "text/plain": [
       "<Figure size 432x288 with 1 Axes>"
      ]
     },
     "metadata": {
      "needs_background": "light"
     },
     "output_type": "display_data"
    }
   ],
   "source": [
    "plt.scatter(sc_t_X[:35,0],sc_t_X[:35,1])#0\n",
    "plt.scatter(sc_t_X[35:,0],sc_t_X[35:,1])#1\n",
    "plt.scatter(sc_d[0],sc_d[1],marker=\"*\")"
   ]
  },
  {
   "cell_type": "code",
   "execution_count": 24,
   "id": "27a2113c",
   "metadata": {},
   "outputs": [],
   "source": [
    "kn2=KNeighborsClassifier().fit(sc_t_X,np_Y)\n",
    "d,i2=kn2.kneighbors([sc_d])"
   ]
  },
  {
   "cell_type": "code",
   "execution_count": 25,
   "id": "d6b9af54",
   "metadata": {},
   "outputs": [
    {
     "data": {
      "text/plain": [
       "array([0.])"
      ]
     },
     "execution_count": 25,
     "metadata": {},
     "output_type": "execute_result"
    }
   ],
   "source": [
    "kn2.predict([sc_d])"
   ]
  },
  {
   "cell_type": "code",
   "execution_count": 26,
   "id": "a06e3569",
   "metadata": {},
   "outputs": [
    {
     "data": {
      "text/plain": [
       "<matplotlib.collections.PathCollection at 0x1faf95a4c10>"
      ]
     },
     "execution_count": 26,
     "metadata": {},
     "output_type": "execute_result"
    },
    {
     "data": {
      "image/png": "[encoded data removed]",
      "text/plain": [
       "<Figure size 432x288 with 1 Axes>"
      ]
     },
     "metadata": {
      "needs_background": "light"
     },
     "output_type": "display_data"
    }
   ],
   "source": [
    "plt.scatter(sc_t_X[:35,0],sc_t_X[:35,1])#0\n",
    "plt.scatter(sc_t_X[35:,0],sc_t_X[35:,1])#1\n",
    "plt.scatter(sc_d[0],sc_d[1],marker=\"*\")\n",
    "plt.scatter(sc_t_X[i2,0],sc_t_X[i2,1],marker=\"o\")"
   ]
  }
 ],
 "metadata": {
  "kernelspec": {
   "display_name": "Python 3 (ipykernel)",
   "language": "python",
   "name": "python3"
  },
  "language_info": {
   "codemirror_mode": {
    "name": "ipython",
    "version": 3
   },
   "file_extension": ".py",
   "mimetype": "text/x-python",
   "name": "python",
   "nbconvert_exporter": "python",
   "pygments_lexer": "ipython3",
   "version": "3.9.7"
  }
 },
 "nbformat": 4,
 "nbformat_minor": 5
}
