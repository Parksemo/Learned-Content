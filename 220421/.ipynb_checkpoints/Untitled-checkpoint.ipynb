{
 "cells": [
  {
   "cell_type": "code",
   "execution_count": 1,
   "id": "3ab46441",
   "metadata": {},
   "outputs": [],
   "source": [
    "import numpy as np\n",
    "X = np.array(\n",
    "    [8.4, 13.7, 15.0, 16.2, 17.4, 18.0, 18.7, 19.0, 19.6, 20.0, \n",
    "     21.0, 21.0, 21.0, 21.3, 22.0, 22.0, 22.0, 22.0, 22.0, 22.5, \n",
    "     22.5, 22.7, 23.0, 23.5, 24.0, 24.0, 24.6, 25.0, 25.6, 26.5, \n",
    "     27.3, 27.5, 27.5, 27.5, 28.0, 28.7, 30.0, 32.8, 34.5, 35.0, \n",
    "     36.5, 36.0, 37.0, 37.0, 39.0, 39.0, 39.0, 40.0, 40.0, 40.0, \n",
    "     40.0, 42.0, 43.0, 43.0, 43.5, 44.0]\n",
    "     )\n",
    "Y = np.array(\n",
    "    [5.9, 32.0, 40.0, 51.5, 70.0, 100.0, 78.0, 80.0, 85.0, 85.0, \n",
    "     110.0, 115.0, 125.0, 130.0, 120.0, 120.0, 130.0, 135.0, 110.0, \n",
    "     130.0, 150.0, 145.0, 150.0, 170.0, 225.0, 145.0, 188.0, 180.0, \n",
    "     197.0, 218.0, 300.0, 260.0, 265.0, 250.0, 250.0, 300.0, 320.0, \n",
    "     514.0, 556.0, 840.0, 685.0, 700.0, 700.0, 690.0, 900.0, 650.0, \n",
    "     820.0, 850.0, 900.0, 1015.0, 820.0, 1100.0, 1000.0, 1100.0, \n",
    "     1000.0, 1000.0]\n",
    "     )"
   ]
  },
  {
   "cell_type": "code",
   "execution_count": 2,
   "id": "aeaebe8b",
   "metadata": {},
   "outputs": [
    {
     "data": {
      "image/png": "[encoded data removed]",
      "text/plain": [
       "<Figure size 432x288 with 1 Axes>"
      ]
     },
     "metadata": {
      "needs_background": "light"
     },
     "output_type": "display_data"
    }
   ],
   "source": [
    "import matplotlib.pyplot as plt\n",
    "plt.scatter(X,Y)\n",
    "plt.show()"
   ]
  },
  {
   "cell_type": "code",
   "execution_count": 3,
   "id": "ff1d9932",
   "metadata": {},
   "outputs": [
    {
     "name": "stdout",
     "output_type": "stream",
     "text": [
      "(42,) (14,)\n"
     ]
    }
   ],
   "source": [
    "from sklearn.model_selection import train_test_split\n",
    "t_x,tt_x,t_y,tt_y= train_test_split(X,Y,random_state=43)\n",
    "print(t_x.shape,tt_x.shape)"
   ]
  },
  {
   "cell_type": "code",
   "execution_count": 4,
   "id": "b576e754",
   "metadata": {},
   "outputs": [
    {
     "data": {
      "text/plain": [
       "array([34.5, 39. , 43. , 16.2, 39. , 19.6, 22. , 36. , 19. , 40. , 30. ,\n",
       "       22.5, 26.5, 32.8, 20. , 42. , 25.6, 21. , 27.5, 24. , 21. , 44. ,\n",
       "       37. , 40. , 37. , 28. , 13.7, 24. , 21. , 28.7, 43.5, 23.5, 27.3,\n",
       "       39. , 15. , 25. , 22. , 22. , 22.7, 40. ,  8.4, 17.4])"
      ]
     },
     "execution_count": 4,
     "metadata": {},
     "output_type": "execute_result"
    }
   ],
   "source": [
    "t_x"
   ]
  },
  {
   "cell_type": "code",
   "execution_count": 5,
   "id": "be087fd4",
   "metadata": {},
   "outputs": [
    {
     "name": "stdout",
     "output_type": "stream",
     "text": [
      "(42, 1) (14, 1)\n"
     ]
    }
   ],
   "source": [
    "n_t_x=t_x.reshape(-1,1)\n",
    "n_tt_x=tt_x.reshape(-1,1)\n",
    "print(n_t_x.shape,n_tt_x.shape)"
   ]
  },
  {
   "cell_type": "code",
   "execution_count": 6,
   "id": "b7a6a741",
   "metadata": {},
   "outputs": [
    {
     "data": {
      "text/plain": [
       "KNeighborsRegressor()"
      ]
     },
     "execution_count": 6,
     "metadata": {},
     "output_type": "execute_result"
    }
   ],
   "source": [
    "from sklearn.neighbors import KNeighborsRegressor\n",
    "knr=KNeighborsRegressor()\n",
    "knr.fit(n_t_x,t_y)"
   ]
  },
  {
   "cell_type": "code",
   "execution_count": 7,
   "id": "900bce3f",
   "metadata": {},
   "outputs": [
    {
     "data": {
      "text/plain": [
       "0.9662464614810213"
      ]
     },
     "execution_count": 7,
     "metadata": {},
     "output_type": "execute_result"
    }
   ],
   "source": [
    "knr.score(n_tt_x,tt_y)"
   ]
  },
  {
   "cell_type": "markdown",
   "id": "860ffaee",
   "metadata": {},
   "source": [
    "오차란(차이점)정답-결과"
   ]
  },
  {
   "cell_type": "markdown",
   "id": "b9f5e336",
   "metadata": {},
   "source": [
    "머신 러닝 Y=WX -학습->정답 =W입력<br><br>\n",
    "->y=W(학습되어서 값을 갖고 있다.)x<br><br>\n",
    "y=wx <-입력"
   ]
  },
  {
   "cell_type": "code",
   "execution_count": 8,
   "id": "8ac91555",
   "metadata": {},
   "outputs": [
    {
     "name": "stdout",
     "output_type": "stream",
     "text": [
      "29.69285714285715\n"
     ]
    }
   ],
   "source": [
    "from sklearn.metrics import mean_absolute_error\n",
    "end_tt_y=knr.predict(n_tt_x)#모델(학습된)입력을 준다.\n",
    "\n",
    "mae=mean_absolute_error(tt_y,end_tt_y) #평균절대값오차\n",
    "print(mae)"
   ]
  },
  {
   "cell_type": "code",
   "execution_count": 9,
   "id": "828fccf8",
   "metadata": {
    "scrolled": true
   },
   "outputs": [
    {
     "data": {
      "text/plain": [
       "0.9662464614810213"
      ]
     },
     "execution_count": 9,
     "metadata": {},
     "output_type": "execute_result"
    }
   ],
   "source": [
    "knr.score(n_tt_x,tt_y)"
   ]
  },
  {
   "cell_type": "markdown",
   "id": "6b9091b8",
   "metadata": {},
   "source": [
    "모델변경전 트레이닝data로 점수확인"
   ]
  },
  {
   "cell_type": "code",
   "execution_count": 10,
   "id": "22c497ae",
   "metadata": {},
   "outputs": [
    {
     "data": {
      "text/plain": [
       "0.9815010309553626"
      ]
     },
     "execution_count": 10,
     "metadata": {},
     "output_type": "execute_result"
    }
   ],
   "source": [
    "knr.score(n_t_x,t_y)"
   ]
  },
  {
   "cell_type": "code",
   "execution_count": 11,
   "id": "ad3d8616",
   "metadata": {
    "scrolled": true
   },
   "outputs": [
    {
     "data": {
      "text/plain": [
       "0.9625437594582437"
      ]
     },
     "execution_count": 11,
     "metadata": {},
     "output_type": "execute_result"
    }
   ],
   "source": [
    "knr.n_neighbors=3 #선별 개수 k의기본값이 5개인데 이를 3개로 설정 \n",
    "knr.fit(n_t_x,t_y)\n",
    "knr.score(n_tt_x,tt_y)"
   ]
  },
  {
   "cell_type": "markdown",
   "id": "0f9e5760",
   "metadata": {},
   "source": [
    "모델변경후 트레이닝data로 점수확인"
   ]
  },
  {
   "cell_type": "code",
   "execution_count": 12,
   "id": "9ca40215",
   "metadata": {},
   "outputs": [
    {
     "data": {
      "text/plain": [
       "0.9878266455621827"
      ]
     },
     "execution_count": 12,
     "metadata": {},
     "output_type": "execute_result"
    }
   ],
   "source": [
    "knr.score(n_t_x,t_y)"
   ]
  },
  {
   "cell_type": "code",
   "execution_count": 13,
   "id": "57cac6d9",
   "metadata": {
    "scrolled": true
   },
   "outputs": [
    {
     "data": {
      "image/png": "[encoded data removed]",
      "text/plain": [
       "<Figure size 432x288 with 1 Axes>"
      ]
     },
     "metadata": {
      "needs_background": "light"
     },
     "output_type": "display_data"
    },
    {
     "data": {
      "image/png": "[encoded data removed]",
      "text/plain": [
       "<Figure size 432x288 with 1 Axes>"
      ]
     },
     "metadata": {
      "needs_background": "light"
     },
     "output_type": "display_data"
    },
    {
     "data": {
      "image/png": "[encoded data removed]",
      "text/plain": [
       "<Figure size 432x288 with 1 Axes>"
      ]
     },
     "metadata": {
      "needs_background": "light"
     },
     "output_type": "display_data"
    }
   ],
   "source": [
    "knr1=KNeighborsRegressor()\n",
    "x=np.arange(5,45).reshape(-1,1) #비교를 위한 data생성\n",
    "for n in[1,5,10]:\n",
    "    knr1.n_neighbors=n\n",
    "    knr1.fit(n_t_x,t_y)\n",
    "    p_data=knr1.predict(x)\n",
    "    plt.scatter(n_t_x,t_y)\n",
    "    plt.plot(x,p_data)\n",
    "    plt.title(f'n_plt{n}')\n",
    "    plt.show()\n"
   ]
  },
  {
   "cell_type": "markdown",
   "id": "fd7d3aeb",
   "metadata": {},
   "source": [
    "K회귀의 한계"
   ]
  },
  {
   "cell_type": "code",
   "execution_count": 14,
   "id": "d987a413",
   "metadata": {},
   "outputs": [
    {
     "data": {
      "text/plain": [
       "array([1033.33333333])"
      ]
     },
     "execution_count": 14,
     "metadata": {},
     "output_type": "execute_result"
    }
   ],
   "source": [
    "knr2=KNeighborsRegressor(n_neighbors=3)\n",
    "knr2.fit(n_t_x,t_y)\n",
    "knr2.predict([[50]]) #저장된 값을 벗어난 값\n"
   ]
  },
  {
   "cell_type": "code",
   "execution_count": 15,
   "id": "91593115",
   "metadata": {},
   "outputs": [
    {
     "data": {
      "text/plain": [
       "<matplotlib.collections.PathCollection at 0x2552e3a8490>"
      ]
     },
     "execution_count": 15,
     "metadata": {},
     "output_type": "execute_result"
    },
    {
     "data": {
      "image/png": "[encoded data removed]",
      "text/plain": [
       "<Figure size 432x288 with 1 Axes>"
      ]
     },
     "metadata": {
      "needs_background": "light"
     },
     "output_type": "display_data"
    }
   ],
   "source": [
    "d,i=knr2.kneighbors([[50]])\n",
    "plt.scatter(n_t_x,t_y)\n",
    "plt.scatter(n_t_x[i],t_y[i],marker='*')\n",
    "plt.scatter(50,1033.3,marker='^')"
   ]
  },
  {
   "cell_type": "code",
   "execution_count": 16,
   "id": "0f0c3281",
   "metadata": {},
   "outputs": [
    {
     "data": {
      "text/plain": [
       "array([1033.33333333])"
      ]
     },
     "execution_count": 16,
     "metadata": {},
     "output_type": "execute_result"
    }
   ],
   "source": [
    "knr2.predict([[1000]]) #저장된 값을 훨씬벗어난 값인데 결과 값이 동일하다 (문제점)"
   ]
  },
  {
   "cell_type": "markdown",
   "id": "76dd62ed",
   "metadata": {},
   "source": [
    "선형회귀"
   ]
  },
  {
   "cell_type": "code",
   "execution_count": 17,
   "id": "2cac0b79",
   "metadata": {},
   "outputs": [],
   "source": [
    "from sklearn.linear_model import LinearRegression\n",
    "lr=LinearRegression().fit(n_t_x,t_y)"
   ]
  },
  {
   "cell_type": "code",
   "execution_count": 18,
   "id": "bc46bffe",
   "metadata": {
    "scrolled": true
   },
   "outputs": [
    {
     "name": "stdout",
     "output_type": "stream",
     "text": [
      "[1187.92199858]\n",
      "[35638.66987063]\n"
     ]
    }
   ],
   "source": [
    "print(lr.predict([[50]])) #선을 그으면서 위 문제점을 보안\n",
    "print(lr.predict([[1000]]))"
   ]
  },
  {
   "cell_type": "code",
   "execution_count": 19,
   "id": "4db87a29",
   "metadata": {},
   "outputs": [
    {
     "data": {
      "text/plain": [
       "[<matplotlib.lines.Line2D at 0x2552e40ad00>]"
      ]
     },
     "execution_count": 19,
     "metadata": {},
     "output_type": "execute_result"
    },
    {
     "data": {
      "image/png": "[encoded data removed]",
      "text/plain": [
       "<Figure size 432x288 with 1 Axes>"
      ]
     },
     "metadata": {
      "needs_background": "light"
     },
     "output_type": "display_data"
    }
   ],
   "source": [
    "plt.scatter(n_t_x,t_y)\n",
    "#1차 방정식을 만들어 내는것 -> 선형회귀했다\n",
    "plt.plot([15,50],[15*lr.coef_+lr.intercept_,50*lr.coef_+lr.intercept_])"
   ]
  },
  {
   "cell_type": "code",
   "execution_count": 20,
   "id": "d0dfa9f1",
   "metadata": {},
   "outputs": [
    {
     "data": {
      "text/plain": [
       "[<matplotlib.lines.Line2D at 0x2552e47b460>]"
      ]
     },
     "execution_count": 20,
     "metadata": {},
     "output_type": "execute_result"
    },
    {
     "data": {
      "image/png": "[encoded data removed]",
      "text/plain": [
       "<Figure size 432x288 with 1 Axes>"
      ]
     },
     "metadata": {
      "needs_background": "light"
     },
     "output_type": "display_data"
    }
   ],
   "source": [
    "plt.plot([0,50],[0*lr.coef_+lr.intercept_,50*lr.coef_+lr.intercept_]) #lr.coef_:계수, lr.intercept_:절편값"
   ]
  },
  {
   "cell_type": "code",
   "execution_count": 21,
   "id": "7aec3f76",
   "metadata": {},
   "outputs": [
    {
     "data": {
      "text/plain": [
       "(42, 2)"
      ]
     },
     "execution_count": 21,
     "metadata": {},
     "output_type": "execute_result"
    }
   ],
   "source": [
    "p_t_x=np.column_stack((n_t_x**2,n_t_x))\n",
    "p_tt_x=np.column_stack((n_tt_x**2,n_tt_x))\n",
    "p_t_x.shape"
   ]
  },
  {
   "cell_type": "code",
   "execution_count": 22,
   "id": "1e8adbef",
   "metadata": {},
   "outputs": [
    {
     "name": "stdout",
     "output_type": "stream",
     "text": [
      "[1573.06792794]\n"
     ]
    }
   ],
   "source": [
    "lr = LinearRegression()\n",
    "lr.fit(p_t_x,t_y)\n",
    "print(lr.predict([[50**2,50]]))"
   ]
  },
  {
   "cell_type": "code",
   "execution_count": 23,
   "id": "197aa973",
   "metadata": {
    "scrolled": true
   },
   "outputs": [
    {
     "name": "stdout",
     "output_type": "stream",
     "text": [
      "[  1.05682431 -24.53340579] 157.67745303390137\n"
     ]
    }
   ],
   "source": [
    "print(lr.coef_,lr.intercept_) #[w2 w1] w0"
   ]
  },
  {
   "cell_type": "code",
   "execution_count": 24,
   "id": "93822aa2",
   "metadata": {},
   "outputs": [
    {
     "data": {
      "text/plain": [
       "<matplotlib.collections.PathCollection at 0x2552e35f910>"
      ]
     },
     "execution_count": 24,
     "metadata": {},
     "output_type": "execute_result"
    },
    {
     "data": {
      "image/png": "[encoded data removed]",
      "text/plain": [
       "<Figure size 432x288 with 1 Axes>"
      ]
     },
     "metadata": {
      "needs_background": "light"
     },
     "output_type": "display_data"
    }
   ],
   "source": [
    "p=np.arange(15,50)\n",
    "plt.scatter(n_t_x,t_y)\n",
    "plt.plot(p,1.05*p**2 -24.5*p +157.67)\n",
    "plt.scatter([50],[1573.06])"
   ]
  }
 ],
 "metadata": {
  "kernelspec": {
   "display_name": "Python 3 (ipykernel)",
   "language": "python",
   "name": "python3"
  },
  "language_info": {
   "codemirror_mode": {
    "name": "ipython",
    "version": 3
   },
   "file_extension": ".py",
   "mimetype": "text/x-python",
   "name": "python",
   "nbconvert_exporter": "python",
   "pygments_lexer": "ipython3",
   "version": "3.9.7"
  }
 },
 "nbformat": 4,
 "nbformat_minor": 5
}
