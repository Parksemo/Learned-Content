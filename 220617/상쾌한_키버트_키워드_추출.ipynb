{
 "cells": [
  {
   "cell_type": "code",
   "execution_count": 1,
   "id": "0b8a2f48",
   "metadata": {},
   "outputs": [],
   "source": [
    "import pandas as pd\n",
    "import numpy as np\n",
    "from tqdm import tqdm\n",
    "import itertools\n",
    "from konlpy.tag import Okt\n",
    "from sklearn.feature_extraction.text import CountVectorizer\n",
    "from sklearn.metrics.pairwise import cosine_similarity\n",
    "from sentence_transformers import SentenceTransformer"
   ]
  },
  {
   "cell_type": "code",
   "execution_count": 2,
   "id": "ed58468f",
   "metadata": {},
   "outputs": [],
   "source": [
    "#!pip install sentence_transformers\n",
    "#!pip install konlpy"
   ]
  },
  {
   "cell_type": "code",
   "execution_count": 3,
   "id": "0c1a2342",
   "metadata": {},
   "outputs": [],
   "source": [
    "장소_리스트 = ['부산민주공원','민락수변공원','흰여울문화마을','해운대','해동용궁사','태종대','감천문화마을']"
   ]
  },
  {
   "cell_type": "code",
   "execution_count": 4,
   "id": "3d68222f",
   "metadata": {},
   "outputs": [],
   "source": [
    "def 키버트_키워드_추출(장소,최소그램,최대그램,추출키워드개수,상위키워드개수):\n",
    "    평점 = []\n",
    "    키워드_총_리스트=[]\n",
    "    s_w=set(['곳','수','것','추천','정도','사람','가슴','때','정말','볼','꼭',\n",
    "             '좀','날','그','번','조금','가면','시간','타고','다누','방문',\n",
    "             '때문','다시','예전','보고','중간','주변','한번','변','근처',\n",
    "             '중앙','근처','센터','정말','정도','워낙','마치','아주','대박',\n",
    "             '더욱','단지','워낙','이기','다만','인득','정말','자주','완전','금방'])\n",
    "    for k in tqdm(장소):\n",
    "        t_d = pd.read_csv(f'{k}.csv')\n",
    "        doc=\"\"\n",
    "        for m in t_d['리뷰']:\n",
    "            doc += m\n",
    "        doc = doc.replace(k,'')\n",
    "        okt = Okt()\n",
    "        tokenized_doc = okt.nouns(doc)\n",
    "        end_d=[w for w in tokenized_doc if not w in s_w]\n",
    "        tokenized_nouns = ' '.join(end_d)\n",
    "        n_gram_range = (최소그램, 최대그램)\n",
    "        count = CountVectorizer(ngram_range=n_gram_range).fit([tokenized_nouns])\n",
    "        candidates = count.get_feature_names_out()\n",
    "        model = SentenceTransformer('sentence-transformers/xlm-r-100langs-bert-base-nli-stsb-mean-tokens')\n",
    "        doc_embedding = model.encode([doc])\n",
    "        candidate_embeddings = model.encode(candidates)\n",
    "        distances = cosine_similarity(doc_embedding, candidate_embeddings)\n",
    "        distances_candidates = cosine_similarity(candidate_embeddings, \n",
    "                                            candidate_embeddings)\n",
    "        candidates_idx = list(distances.argsort()[0][-상위키워드개수:])\n",
    "        candidates_vals = [candidates[index] for index in candidates_idx]\n",
    "        distances_candidates = distances_candidates[np.ix_(candidates_idx, candidates_idx)]\n",
    "        min_sim = np.inf\n",
    "        candidate = None\n",
    "        for combination in itertools.combinations(range(len(candidates_idx)), 추출키워드개수):\n",
    "            sim = sum([distances_candidates[i][j] for i in combination for j in combination if i != j])\n",
    "            if sim < min_sim:\n",
    "                candidate = combination\n",
    "                min_sim = sim\n",
    "        키워드_리스트=[]\n",
    "        for idx in candidate:\n",
    "            키워드_리스트.append(candidates_vals[idx])\n",
    "        키워드_총_리스트.append(키워드_리스트)        \n",
    "        평점.append(t_d['평점'].mean())\n",
    "        print(f'''장소 : {k}\n",
    "키워드 : {키워드_리스트}\n",
    "평점 : {t_d['평점'].mean()}        \n",
    "        ''')\n",
    "    장소_키워드_평점=pd.DataFrame(list(zip(장소, 키워드_총_리스트, 평점)) ,columns=['장소','키워드','평점'])\n",
    "    return 장소_키워드_평점"
   ]
  },
  {
   "cell_type": "code",
   "execution_count": 5,
   "id": "9b648bc3",
   "metadata": {
    "scrolled": true
   },
   "outputs": [
    {
     "name": "stderr",
     "output_type": "stream",
     "text": [
      " 14%|█▍        | 1/7 [00:21<02:09, 21.64s/it]"
     ]
    },
    {
     "name": "stdout",
     "output_type": "stream",
     "text": [
      "장소 : 부산민주공원\n",
      "키워드 : ['벚꽃 구경', '시내버스 이동', '왕겹 벚꽃', '도서관 왕겹', '민주 공원 시내버스']\n",
      "평점 : 4.6875        \n",
      "        \n"
     ]
    },
    {
     "name": "stderr",
     "output_type": "stream",
     "text": [
      " 29%|██▊       | 2/7 [00:36<01:26, 17.40s/it]"
     ]
    },
    {
     "name": "stdout",
     "output_type": "stream",
     "text": [
      "장소 : 민락수변공원\n",
      "키워드 : ['판매 돗자리 여름', '재미 접근', '광안대교 야경 식사', '바다 낭만', '광안리해수욕장 모래 해변']\n",
      "평점 : 4.104166666666667        \n",
      "        \n"
     ]
    },
    {
     "name": "stderr",
     "output_type": "stream",
     "text": [
      " 43%|████▎     | 3/7 [00:51<01:05, 16.47s/it]"
     ]
    },
    {
     "name": "stdout",
     "output_type": "stream",
     "text": [
      "장소 : 흰여울문화마을\n",
      "키워드 : ['한복 사진 거리음식', '정돈 관광', '한복 상가 상업', '분위기 간식 한복', '길거리 간식 한정식']\n",
      "평점 : 3.63        \n",
      "        \n"
     ]
    },
    {
     "name": "stderr",
     "output_type": "stream",
     "text": [
      " 57%|█████▋    | 4/7 [01:05<00:46, 15.61s/it]"
     ]
    },
    {
     "name": "stdout",
     "output_type": "stream",
     "text": [
      "장소 : 해운대\n",
      "키워드 : ['북적 인파 매력', '여름 해수욕 야경', '비치 이자 관광지', '도심 해수욕장 인기', '해변 바가지 식당']\n",
      "평점 : 4.45        \n",
      "        \n"
     ]
    },
    {
     "name": "stderr",
     "output_type": "stream",
     "text": [
      " 71%|███████▏  | 5/7 [01:20<00:30, 15.27s/it]"
     ]
    },
    {
     "name": "stdout",
     "output_type": "stream",
     "text": [
      "장소 : 해동용궁사\n",
      "키워드 : ['관광객 고요한 사색', '바다 웅장', '금색 불상 바닷가', '관광객 독특 경험', '평일 휴가 웅장']\n",
      "평점 : 4.24        \n",
      "        \n"
     ]
    },
    {
     "name": "stderr",
     "output_type": "stream",
     "text": [
      " 86%|████████▌ | 6/7 [01:34<00:14, 14.99s/it]"
     ]
    },
    {
     "name": "stdout",
     "output_type": "stream",
     "text": [
      "장소 : 태종대\n",
      "키워드 : ['관광명소 꼬마 열차', '접근성 대중교통 이용', '전망 시원 재미', '관광열차 절벽', '망망대해 편이 해안가']\n",
      "평점 : 4.36        \n",
      "        \n"
     ]
    },
    {
     "name": "stderr",
     "output_type": "stream",
     "text": [
      "100%|██████████| 7/7 [01:49<00:00, 15.59s/it]"
     ]
    },
    {
     "name": "stdout",
     "output_type": "stream",
     "text": [
      "장소 : 감천문화마을\n",
      "키워드 : ['마을 음식 간식', '구경 재미 골목길', '관광 질서 관광객', '공짜 가족 여행', '질서 관광객 주말']\n",
      "평점 : 4.15        \n",
      "        \n",
      "CPU times: user 1min 6s, sys: 9.68 s, total: 1min 16s\n",
      "Wall time: 1min 49s\n"
     ]
    },
    {
     "name": "stderr",
     "output_type": "stream",
     "text": [
      "\n"
     ]
    },
    {
     "data": {
      "text/html": [
       "<div>\n",
       "<style scoped>\n",
       "    .dataframe tbody tr th:only-of-type {\n",
       "        vertical-align: middle;\n",
       "    }\n",
       "\n",
       "    .dataframe tbody tr th {\n",
       "        vertical-align: top;\n",
       "    }\n",
       "\n",
       "    .dataframe thead th {\n",
       "        text-align: right;\n",
       "    }\n",
       "</style>\n",
       "<table border=\"1\" class=\"dataframe\">\n",
       "  <thead>\n",
       "    <tr style=\"text-align: right;\">\n",
       "      <th></th>\n",
       "      <th>장소</th>\n",
       "      <th>키워드</th>\n",
       "      <th>평점</th>\n",
       "    </tr>\n",
       "  </thead>\n",
       "  <tbody>\n",
       "    <tr>\n",
       "      <th>0</th>\n",
       "      <td>부산민주공원</td>\n",
       "      <td>[벚꽃 구경, 시내버스 이동, 왕겹 벚꽃, 도서관 왕겹, 민주 공원 시내버스]</td>\n",
       "      <td>4.687500</td>\n",
       "    </tr>\n",
       "    <tr>\n",
       "      <th>1</th>\n",
       "      <td>민락수변공원</td>\n",
       "      <td>[판매 돗자리 여름, 재미 접근, 광안대교 야경 식사, 바다 낭만, 광안리해수욕장 ...</td>\n",
       "      <td>4.104167</td>\n",
       "    </tr>\n",
       "    <tr>\n",
       "      <th>2</th>\n",
       "      <td>흰여울문화마을</td>\n",
       "      <td>[한복 사진 거리음식, 정돈 관광, 한복 상가 상업, 분위기 간식 한복, 길거리 간...</td>\n",
       "      <td>3.630000</td>\n",
       "    </tr>\n",
       "    <tr>\n",
       "      <th>3</th>\n",
       "      <td>해운대</td>\n",
       "      <td>[북적 인파 매력, 여름 해수욕 야경, 비치 이자 관광지, 도심 해수욕장 인기, 해...</td>\n",
       "      <td>4.450000</td>\n",
       "    </tr>\n",
       "    <tr>\n",
       "      <th>4</th>\n",
       "      <td>해동용궁사</td>\n",
       "      <td>[관광객 고요한 사색, 바다 웅장, 금색 불상 바닷가, 관광객 독특 경험, 평일 휴...</td>\n",
       "      <td>4.240000</td>\n",
       "    </tr>\n",
       "    <tr>\n",
       "      <th>5</th>\n",
       "      <td>태종대</td>\n",
       "      <td>[관광명소 꼬마 열차, 접근성 대중교통 이용, 전망 시원 재미, 관광열차 절벽, 망...</td>\n",
       "      <td>4.360000</td>\n",
       "    </tr>\n",
       "    <tr>\n",
       "      <th>6</th>\n",
       "      <td>감천문화마을</td>\n",
       "      <td>[마을 음식 간식, 구경 재미 골목길, 관광 질서 관광객, 공짜 가족 여행, 질서 ...</td>\n",
       "      <td>4.150000</td>\n",
       "    </tr>\n",
       "  </tbody>\n",
       "</table>\n",
       "</div>"
      ],
      "text/plain": [
       "        장소                                                키워드        평점\n",
       "0   부산민주공원        [벚꽃 구경, 시내버스 이동, 왕겹 벚꽃, 도서관 왕겹, 민주 공원 시내버스]  4.687500\n",
       "1   민락수변공원  [판매 돗자리 여름, 재미 접근, 광안대교 야경 식사, 바다 낭만, 광안리해수욕장 ...  4.104167\n",
       "2  흰여울문화마을  [한복 사진 거리음식, 정돈 관광, 한복 상가 상업, 분위기 간식 한복, 길거리 간...  3.630000\n",
       "3      해운대  [북적 인파 매력, 여름 해수욕 야경, 비치 이자 관광지, 도심 해수욕장 인기, 해...  4.450000\n",
       "4    해동용궁사  [관광객 고요한 사색, 바다 웅장, 금색 불상 바닷가, 관광객 독특 경험, 평일 휴...  4.240000\n",
       "5      태종대  [관광명소 꼬마 열차, 접근성 대중교통 이용, 전망 시원 재미, 관광열차 절벽, 망...  4.360000\n",
       "6   감천문화마을  [마을 음식 간식, 구경 재미 골목길, 관광 질서 관광객, 공짜 가족 여행, 질서 ...  4.150000"
      ]
     },
     "execution_count": 5,
     "metadata": {},
     "output_type": "execute_result"
    }
   ],
   "source": [
    "%%time\n",
    "결과 = 키버트_키워드_추출(장소=장소_리스트,최소그램=2,최대그램=3,추출키워드개수=5,상위키워드개수=20)\n",
    "결과"
   ]
  },
  {
   "cell_type": "code",
   "execution_count": 6,
   "id": "4a6bb871",
   "metadata": {},
   "outputs": [
    {
     "data": {
      "text/html": [
       "<div>\n",
       "<style scoped>\n",
       "    .dataframe tbody tr th:only-of-type {\n",
       "        vertical-align: middle;\n",
       "    }\n",
       "\n",
       "    .dataframe tbody tr th {\n",
       "        vertical-align: top;\n",
       "    }\n",
       "\n",
       "    .dataframe thead th {\n",
       "        text-align: right;\n",
       "    }\n",
       "</style>\n",
       "<table border=\"1\" class=\"dataframe\">\n",
       "  <thead>\n",
       "    <tr style=\"text-align: right;\">\n",
       "      <th></th>\n",
       "      <th>장소</th>\n",
       "      <th>키워드</th>\n",
       "      <th>평점</th>\n",
       "    </tr>\n",
       "  </thead>\n",
       "  <tbody>\n",
       "    <tr>\n",
       "      <th>0</th>\n",
       "      <td>부산민주공원</td>\n",
       "      <td>[벚꽃 구경, 시내버스 이동, 왕겹 벚꽃, 도서관 왕겹, 민주 공원 시내버스]</td>\n",
       "      <td>4.687500</td>\n",
       "    </tr>\n",
       "    <tr>\n",
       "      <th>1</th>\n",
       "      <td>민락수변공원</td>\n",
       "      <td>[판매 돗자리 여름, 재미 접근, 광안대교 야경 식사, 바다 낭만, 광안리해수욕장 ...</td>\n",
       "      <td>4.104167</td>\n",
       "    </tr>\n",
       "    <tr>\n",
       "      <th>2</th>\n",
       "      <td>흰여울문화마을</td>\n",
       "      <td>[한복 사진 거리음식, 정돈 관광, 한복 상가 상업, 분위기 간식 한복, 길거리 간...</td>\n",
       "      <td>3.630000</td>\n",
       "    </tr>\n",
       "    <tr>\n",
       "      <th>3</th>\n",
       "      <td>해운대</td>\n",
       "      <td>[북적 인파 매력, 여름 해수욕 야경, 비치 이자 관광지, 도심 해수욕장 인기, 해...</td>\n",
       "      <td>4.450000</td>\n",
       "    </tr>\n",
       "    <tr>\n",
       "      <th>4</th>\n",
       "      <td>해동용궁사</td>\n",
       "      <td>[관광객 고요한 사색, 바다 웅장, 금색 불상 바닷가, 관광객 독특 경험, 평일 휴...</td>\n",
       "      <td>4.240000</td>\n",
       "    </tr>\n",
       "    <tr>\n",
       "      <th>5</th>\n",
       "      <td>태종대</td>\n",
       "      <td>[관광명소 꼬마 열차, 접근성 대중교통 이용, 전망 시원 재미, 관광열차 절벽, 망...</td>\n",
       "      <td>4.360000</td>\n",
       "    </tr>\n",
       "    <tr>\n",
       "      <th>6</th>\n",
       "      <td>감천문화마을</td>\n",
       "      <td>[마을 음식 간식, 구경 재미 골목길, 관광 질서 관광객, 공짜 가족 여행, 질서 ...</td>\n",
       "      <td>4.150000</td>\n",
       "    </tr>\n",
       "  </tbody>\n",
       "</table>\n",
       "</div>"
      ],
      "text/plain": [
       "        장소                                                키워드        평점\n",
       "0   부산민주공원        [벚꽃 구경, 시내버스 이동, 왕겹 벚꽃, 도서관 왕겹, 민주 공원 시내버스]  4.687500\n",
       "1   민락수변공원  [판매 돗자리 여름, 재미 접근, 광안대교 야경 식사, 바다 낭만, 광안리해수욕장 ...  4.104167\n",
       "2  흰여울문화마을  [한복 사진 거리음식, 정돈 관광, 한복 상가 상업, 분위기 간식 한복, 길거리 간...  3.630000\n",
       "3      해운대  [북적 인파 매력, 여름 해수욕 야경, 비치 이자 관광지, 도심 해수욕장 인기, 해...  4.450000\n",
       "4    해동용궁사  [관광객 고요한 사색, 바다 웅장, 금색 불상 바닷가, 관광객 독특 경험, 평일 휴...  4.240000\n",
       "5      태종대  [관광명소 꼬마 열차, 접근성 대중교통 이용, 전망 시원 재미, 관광열차 절벽, 망...  4.360000\n",
       "6   감천문화마을  [마을 음식 간식, 구경 재미 골목길, 관광 질서 관광객, 공짜 가족 여행, 질서 ...  4.150000"
      ]
     },
     "execution_count": 6,
     "metadata": {},
     "output_type": "execute_result"
    }
   ],
   "source": [
    "결과"
   ]
  },
  {
   "cell_type": "code",
   "execution_count": null,
   "id": "2503d7b1",
   "metadata": {},
   "outputs": [],
   "source": []
  },
  {
   "cell_type": "code",
   "execution_count": null,
   "id": "f80c1c9c",
   "metadata": {},
   "outputs": [],
   "source": []
  }
 ],
 "metadata": {
  "kernelspec": {
   "display_name": "Python 3 (ipykernel)",
   "language": "python",
   "name": "python3"
  },
  "language_info": {
   "codemirror_mode": {
    "name": "ipython",
    "version": 3
   },
   "file_extension": ".py",
   "mimetype": "text/x-python",
   "name": "python",
   "nbconvert_exporter": "python",
   "pygments_lexer": "ipython3",
   "version": "3.8.12"
  }
 },
 "nbformat": 4,
 "nbformat_minor": 5
}
